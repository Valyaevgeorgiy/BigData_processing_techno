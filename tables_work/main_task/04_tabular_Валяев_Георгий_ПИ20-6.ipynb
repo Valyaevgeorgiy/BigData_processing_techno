{
 "cells": [
  {
   "cell_type": "markdown",
   "id": "1278b2fe",
   "metadata": {
    "pycharm": {
     "name": "#%% md\n"
    }
   },
   "source": [
    "# Табличные данные и взаимодействие с Excel"
   ]
  },
  {
   "cell_type": "markdown",
   "id": "cbe493ce",
   "metadata": {
    "pycharm": {
     "name": "#%% md\n"
    }
   },
   "source": [
    "__Автор задач: Блохин Н.В. (NVBlokhin@fa.ru)__\n",
    "\n",
    "Материалы:\n",
    "* Макрушин С.В. Лекция \"Табличные данные и взаимодействие с Excel\"\n",
    "* https://docs.xlwings.org/en/stable/quickstart.html\n",
    "* https://nbviewer.org/github/pybokeh/jupyter_notebooks/blob/main/xlwings/Excel_Formatting.ipynb\n",
    "* https://xlsxwriter.readthedocs.io/\n",
    "* https://xlsxwriter.readthedocs.io/working_with_conditional_formats.html\n",
    "* https://xlsxwriter.readthedocs.io/example_conditional_format.html\n",
    "* https://ru.excelfunctions.eu/\n",
    "* https://docs.python.org/3/library/csv.html\n",
    "* https://pandas.pydata.org/docs/reference/api/pandas.DataFrame.plot\n",
    "* https://analysistabs.com/excel-vba/colorindex/"
   ]
  },
  {
   "cell_type": "markdown",
   "id": "944e06a8",
   "metadata": {
    "pycharm": {
     "name": "#%% md\n"
    }
   },
   "source": [
    "## Задачи для совместного разбора"
   ]
  },
  {
   "cell_type": "code",
   "execution_count": 11,
   "id": "00784884",
   "metadata": {
    "pycharm": {
     "name": "#%%\n"
    }
   },
   "outputs": [],
   "source": [
    "import xlsxwriter\n",
    "import xlwings as xw\n",
    "import numpy as np\n",
    "import pandas as pd\n",
    "import csv\n",
    "import matplotlib.pyplot as plt"
   ]
  },
  {
   "cell_type": "markdown",
   "id": "23ba14c9",
   "metadata": {
    "pycharm": {
     "name": "#%% md\n"
    }
   },
   "source": [
    "1. Создать файл `demo.xlsx` при помощи пакета `xlswriter` на основе данных из файла `costs.csv`."
   ]
  },
  {
   "cell_type": "markdown",
   "id": "58ed296b",
   "metadata": {
    "pycharm": {
     "name": "#%% md\n"
    }
   },
   "source": [
    "2. На листе \"Рецептура\" файла `demo.xlsx` рассчитать себестоимость всех видов продукции. Результаты расчетов сохранить в отдельном столбце."
   ]
  },
  {
   "cell_type": "code",
   "execution_count": null,
   "outputs": [],
   "source": [],
   "metadata": {
    "collapsed": false,
    "pycharm": {
     "name": "#%%\n"
    }
   }
  },
  {
   "cell_type": "code",
   "execution_count": null,
   "outputs": [],
   "source": [],
   "metadata": {
    "collapsed": false,
    "pycharm": {
     "name": "#%%\n"
    }
   }
  },
  {
   "cell_type": "code",
   "execution_count": null,
   "outputs": [],
   "source": [],
   "metadata": {
    "collapsed": false,
    "pycharm": {
     "name": "#%%\n"
    }
   }
  },
  {
   "cell_type": "markdown",
   "id": "17422db2",
   "metadata": {
    "pycharm": {
     "name": "#%% md\n"
    }
   },
   "source": [
    "3. Выполнить 2 с помощью \"протягиваемых\" формул."
   ]
  },
  {
   "cell_type": "markdown",
   "id": "6ff0c246",
   "metadata": {
    "pycharm": {
     "name": "#%% md\n"
    }
   },
   "source": [
    "4. Добавить общий заголовок и доработать форматирование новых столбцов"
   ]
  },
  {
   "cell_type": "markdown",
   "id": "0e143f0d",
   "metadata": {
    "pycharm": {
     "name": "#%% md\n"
    }
   },
   "source": [
    "## Лабораторная работа 4"
   ]
  },
  {
   "cell_type": "markdown",
   "id": "4c521f29",
   "metadata": {
    "pycharm": {
     "name": "#%% md\n"
    }
   },
   "source": [
    "1. При помощи пакета `xlsxwriter` создайте рабочую книгу под названием `recipes_model.xlsx`. \n",
    "Добавьте лист с названием \"Модель\". В первой строчке листа разместите следующие названия колонок: `\"Сущность\", \"Атрибут\", \"Тип данных\", \"Обязательно к заполнению\", \"Описание сущности\", \"Описание атрибута\", \"Ключ\", \"Таблица для ссылки\", \"Поле для ссылки\", \"SQL\"`.\n",
    "\n",
    "* Не закрывайте рабочую книгу, она потребуется для выполнения следующего задания."
   ]
  },
  {
   "cell_type": "code",
   "execution_count": 19,
   "outputs": [],
   "source": [
    "wb = xlsxwriter.Workbook('recipes_model.xlsx')\n",
    "worksheet = wb.add_worksheet('Модель')\n",
    "row, col = 0, 0\n",
    "for item in [\"Сущность\", \"Атрибут\", \"Тип данных\", \"Обязательно к заполнению\", \"Описание сущности\", \"Описание атрибута\", \"Ключ\", \"Таблица для ссылки\", \"Поле для ссылки\", \"SQL\"]:\n",
    "    worksheet.write(row, col, item)\n",
    "    col += 1"
   ],
   "metadata": {
    "collapsed": false,
    "pycharm": {
     "name": "#%%\n"
    }
   }
  },
  {
   "cell_type": "markdown",
   "id": "c755416d",
   "metadata": {
    "pycharm": {
     "name": "#%% md\n"
    }
   },
   "source": [
    "2. При помощи пакета `xlsxwriter` добавьте условное форматирование на лист \"Модель\":\n",
    "* если в ячейке столбца `G` указано значение \"PK\", то сделать заливку ячейки цвета  `#006600`, а цвет шрифта - `#fffff`.\n",
    "* если в ячейке столбца `G` указано значение \"FK\", то сделать заливку ячейки цвета  `#cccc00`, а цвет шрифта - `#000000`.\n",
    "\n",
    "Примените данные правила к диапазону `G2:G50`. Закройте рабочую книгу."
   ]
  },
  {
   "cell_type": "code",
   "execution_count": 20,
   "outputs": [],
   "source": [
    "with open('data/recipes_model.csv', 'r', encoding='utf-8') as f:\n",
    "    reader = csv.reader(f, delimiter='\\t')\n",
    "    data = list(reader)\n",
    "\n",
    "format1 = wb.add_format({'bg_color': '#006600', 'font_color': '#fffff'})\n",
    "format2 = wb.add_format({'bg_color': '#cccc00', 'font_color': '#000000'})\n",
    "\n",
    "worksheet.conditional_format('G2:G50', {'type': 'cell', 'criteria': '=',\n",
    "                                        'value': '\"PK\"', 'format': format1})\n",
    "worksheet.conditional_format('G2:G50', {'type': 'cell', 'criteria': '=',\n",
    "                                        'value': '\"FK\"', 'format': format2})\n",
    "\n",
    "wb.close()"
   ],
   "metadata": {
    "collapsed": false,
    "pycharm": {
     "name": "#%%\n"
    }
   }
  },
  {
   "cell_type": "markdown",
   "source": [
    "3. В файле `recipes_model.csv` находится модель данных предметной области \"рецепты\". При помощи пакета `csv` считайте эти данные. При помощи пакета `xlwings` запишите данные на лист `Модель` книги `recipes_model.xlsx`, начиная с ячейки `A2`, не используя циклы. Сделайте скриншот текущего состояния листа и прикрепите в ячейку ноутбука."
   ],
   "metadata": {
    "collapsed": false,
    "pycharm": {
     "name": "#%% md\n"
    }
   }
  },
  {
   "cell_type": "code",
   "execution_count": 21,
   "outputs": [],
   "source": [
    "wb = xw.Book('recipes_model.xlsx')\n",
    "sheet = wb.sheets['Модель']\n",
    "\n",
    "all_data = []\n",
    "with open('data/recipes_model.csv', 'r', encoding='utf-8') as f:\n",
    "    csv_reader = csv.reader(f, delimiter='\\t')\n",
    "    for row in csv_reader:\n",
    "        all_data.append([None if item == '' else item for item in row])\n",
    "\n",
    "sheet.range(\"A2\").value = all_data\n",
    "sheet.range(\"A1\").expand().autofit()"
   ],
   "metadata": {
    "collapsed": false,
    "pycharm": {
     "name": "#%%\n"
    }
   }
  },
  {
   "cell_type": "markdown",
   "source": [
    "<img src=\"data/Screenshot_0.png\" />"
   ],
   "metadata": {
    "collapsed": false,
    "pycharm": {
     "name": "#%% md\n"
    }
   }
  },
  {
   "cell_type": "markdown",
   "id": "45b57600",
   "metadata": {
    "pycharm": {
     "name": "#%% md\n"
    }
   },
   "source": [
    "4. При помощи пакета `xlwings` добавьте в столбец J формулу для описания столбца на языке SQL. Формула должна реализовывать следующую логику:\n",
    "\n",
    "    1\\. в начале строки идут значения из столбцов В и C (значение столбца С приведено к верхнему регистру), разделенные пробелом\n",
    "    \n",
    "    2\\. далее идут слова на основе столбца \"Ключ\"\n",
    "        2.1 если в столбце \"Ключ\" указано значение \"PK\", то дальше через пробел идет ключевое слово \"PRIMARY KEY\"\n",
    "        2.2 если в столбце \"Ключ\" указано значение \"FK\", то дальше через пробел идет ключевое слово \"REFERENCES\", затем значения столбцов H и I в формате \"название_таблицы(название_столбца)\"\n",
    "        \n",
    "    3\\. если в столбце \"Обязательно к заполнению\" указано значение \"Y\" и в столбце \"Ключ\" указано не \"PK\", то дальше через пробел идет ключевое слово \"NOT NULL\".\n",
    "\n",
    "Заполните этой формулой необходимое количество строк, используя \"протягивание\". Количество строк для протягивания определите на основе данных.\n",
    "\n",
    "Сделайте скриншот текущего состояния листа и прикрепите в ячейку ноутбука."
   ]
  },
  {
   "cell_type": "code",
   "execution_count": 22,
   "outputs": [],
   "source": [
    "\"\"\"\n",
    "Аналог формулы в Excel\n",
    "\"=ПРОПИСН(B2)&\" \"&ПРОПИСН(C2)&ЕСЛИМН(G2 = \"PK\";\" PRIMARY KEY\";G2 = \"FK\";\" REFERENCES \"&H2&\"(\"&I2&\")\";D2 = \"Y\";\" NOT NULL\")\"\n",
    "\"\"\"\n",
    "\n",
    "fml = xw.Range(\"J2\").formula = '=UPPER(B2)&\" \"&UPPER(C2)&IFS(G2 = \"PK\",\" PRIMARY KEY\",G2 = \"FK\",\" REFERENCES \"&H2&\"(\"&I2&\")\",D2 = \"Y\",\" NOT NULL\",D2 = \"N\",\"\")'\n",
    "xw.Range(\"J2:J18\").formula = fml\n",
    "xw.Range('J1').expand('down').autofit()"
   ],
   "metadata": {
    "collapsed": false,
    "pycharm": {
     "name": "#%%\n"
    }
   }
  },
  {
   "cell_type": "markdown",
   "source": [
    "<img src=\"data/Screenshot_1.png\" />"
   ],
   "metadata": {
    "collapsed": false,
    "pycharm": {
     "name": "#%% md\n"
    }
   }
  },
  {
   "cell_type": "markdown",
   "id": "61a9a3a6",
   "metadata": {
    "pycharm": {
     "name": "#%% md\n"
    }
   },
   "source": [
    "5. При помощи пакета `xlwings` измените стилизацию листа `Модель`.\n",
    "* для заголовков добавьте заливку цвета `00ccff`\n",
    "* примените автоподбор ширины столбца;\n",
    "* сделайте шрифт заголовков полужирным;\n",
    "* добавьте таблице автофильтр.\n",
    "\n",
    "Сделайте скриншот текущего состояния листа и прикрепите в ячейку ноутбука."
   ]
  },
  {
   "cell_type": "code",
   "execution_count": 23,
   "outputs": [],
   "source": [
    "Titles = sheet.range(\"A1:J1\")\n",
    "Titles.color = (0, 204, 255)\n",
    "Titles.autofit()\n",
    "for poz in Titles:\n",
    "    if poz.column_width < 10:\n",
    "        poz.column_width = 10\n",
    "Titles.font.bold = True\n",
    "Titles.api.AutoFilter(Field:=1)\n",
    "wb.save()"
   ],
   "metadata": {
    "collapsed": false,
    "pycharm": {
     "name": "#%%\n"
    }
   }
  },
  {
   "cell_type": "markdown",
   "source": [
    "<img src=\"data/Screenshot_2.png\" />"
   ],
   "metadata": {
    "collapsed": false,
    "pycharm": {
     "name": "#%% md\n"
    }
   }
  },
  {
   "cell_type": "markdown",
   "id": "166b8eb2",
   "metadata": {
    "pycharm": {
     "name": "#%% md\n"
    }
   },
   "source": [
    "6. В данных, полученных из файла `recipes_model.csv`, имеются ошибки двух видов:\n",
    "\n",
    "    1\\. Для некоторых полей, указанных как первичный ключ, в столбце \"Обязательно к заполнению\" стоит значение \"N\";\n",
    "\n",
    "    2\\. Для некоторых полей, указанных как внешний ключ, не указана таблица для ссылки и поле для ссылки.\n",
    "\n",
    "Получите данные из листа в виде `pd.DataFrame`. Найдите строки на листе, которые содержат ошибки первого или второго рода и сделайте заливку эти строк цвета `(255, 102, 102)`. Сделайте скриншот текущего состояния листа и прикрепите в ячейку ноутбука."
   ]
  },
  {
   "cell_type": "code",
   "execution_count": 24,
   "outputs": [
    {
     "data": {
      "text/plain": "   Сущность         Атрибут    Тип данных Обязательно к заполнению  \\\n0    recipe            name  varchar(100)                        Y   \n1    recipe              id        serial                        N   \n2    recipe         minutes           int                        Y   \n3    recipe  contributor_id           int                        Y   \n4    recipe       submitted     timestamp                        Y   \n5    recipe         n_steps           int                        N   \n6    recipe     description          text                        N   \n7    recipe   n_ingredients           int                        N   \n8    review              id        serial                        Y   \n9    review         user_id           int                        Y   \n10   review       recipe_id           int                        Y   \n11   review            date     timestamp                        Y   \n12   review          rating           int                        Y   \n13   review          review          test                        N   \n14     user              id        serial                        Y   \n15     user           login   varchar(20)                        Y   \n16     user      registered     timestamp                        Y   \n\n   Описание сущности                  Описание атрибута Ключ  \\\n0             Рецепт                   Название рецепта  NaN   \n1             Рецепт                         ID рецепта   PK   \n2             Рецепт  Длительность выполнения в минутах  NaN   \n3             Рецепт                  ID автора рецепта   FK   \n4             Рецепт                    Дата добавления  NaN   \n5             Рецепт               Кол-во шагов рецепта  NaN   \n6             Рецепт                   Описание рецепта  NaN   \n7             Рецепт      Кол-во ингредиентов в рецепта  NaN   \n8              Отзыв                          ID отзыва   PK   \n9              Отзыв                   ID автора отзыва   FK   \n10             Отзыв                         ID рецепта   FK   \n11             Отзыв             Дата добавления отзыва  NaN   \n12             Отзыв                     Рейтинг отзыва  NaN   \n13             Отзыв          Текстовое описание отзыва  NaN   \n14      Пользователь                    ID пользователя   PK   \n15      Пользователь                 Логин пользователя  NaN   \n16      Пользователь      Дата регистрации пользователя  NaN   \n\n   Таблица для ссылки Поле для ссылки                                     SQL  \n0                 NaN             NaN              NAME VARCHAR(100) NOT NULL  \n1                 NaN             NaN                   ID SERIAL PRIMARY KEY  \n2                 NaN             NaN                    MINUTES INT NOT NULL  \n3                user              id  CONTRIBUTOR_ID INT REFERENCES user(id)  \n4                 NaN             NaN            SUBMITTED TIMESTAMP NOT NULL  \n5                 NaN             NaN                             N_STEPS INT  \n6                 NaN             NaN                        DESCRIPTION TEXT  \n7                 NaN             NaN                       N_INGREDIENTS INT  \n8                 NaN             NaN                   ID SERIAL PRIMARY KEY  \n9                 NaN             NaN               USER_ID INT REFERENCES ()  \n10             recipe              id     RECIPE_ID INT REFERENCES recipe(id)  \n11                NaN             NaN                 DATE TIMESTAMP NOT NULL  \n12                NaN             NaN                     RATING INT NOT NULL  \n13                NaN             NaN                             REVIEW TEST  \n14                NaN             NaN                   ID SERIAL PRIMARY KEY  \n15                NaN             NaN              LOGIN VARCHAR(20) NOT NULL  \n16                NaN             NaN           REGISTERED TIMESTAMP NOT NULL  ",
      "text/html": "<div>\n<style scoped>\n    .dataframe tbody tr th:only-of-type {\n        vertical-align: middle;\n    }\n\n    .dataframe tbody tr th {\n        vertical-align: top;\n    }\n\n    .dataframe thead th {\n        text-align: right;\n    }\n</style>\n<table border=\"1\" class=\"dataframe\">\n  <thead>\n    <tr style=\"text-align: right;\">\n      <th></th>\n      <th>Сущность</th>\n      <th>Атрибут</th>\n      <th>Тип данных</th>\n      <th>Обязательно к заполнению</th>\n      <th>Описание сущности</th>\n      <th>Описание атрибута</th>\n      <th>Ключ</th>\n      <th>Таблица для ссылки</th>\n      <th>Поле для ссылки</th>\n      <th>SQL</th>\n    </tr>\n  </thead>\n  <tbody>\n    <tr>\n      <th>0</th>\n      <td>recipe</td>\n      <td>name</td>\n      <td>varchar(100)</td>\n      <td>Y</td>\n      <td>Рецепт</td>\n      <td>Название рецепта</td>\n      <td>NaN</td>\n      <td>NaN</td>\n      <td>NaN</td>\n      <td>NAME VARCHAR(100) NOT NULL</td>\n    </tr>\n    <tr>\n      <th>1</th>\n      <td>recipe</td>\n      <td>id</td>\n      <td>serial</td>\n      <td>N</td>\n      <td>Рецепт</td>\n      <td>ID рецепта</td>\n      <td>PK</td>\n      <td>NaN</td>\n      <td>NaN</td>\n      <td>ID SERIAL PRIMARY KEY</td>\n    </tr>\n    <tr>\n      <th>2</th>\n      <td>recipe</td>\n      <td>minutes</td>\n      <td>int</td>\n      <td>Y</td>\n      <td>Рецепт</td>\n      <td>Длительность выполнения в минутах</td>\n      <td>NaN</td>\n      <td>NaN</td>\n      <td>NaN</td>\n      <td>MINUTES INT NOT NULL</td>\n    </tr>\n    <tr>\n      <th>3</th>\n      <td>recipe</td>\n      <td>contributor_id</td>\n      <td>int</td>\n      <td>Y</td>\n      <td>Рецепт</td>\n      <td>ID автора рецепта</td>\n      <td>FK</td>\n      <td>user</td>\n      <td>id</td>\n      <td>CONTRIBUTOR_ID INT REFERENCES user(id)</td>\n    </tr>\n    <tr>\n      <th>4</th>\n      <td>recipe</td>\n      <td>submitted</td>\n      <td>timestamp</td>\n      <td>Y</td>\n      <td>Рецепт</td>\n      <td>Дата добавления</td>\n      <td>NaN</td>\n      <td>NaN</td>\n      <td>NaN</td>\n      <td>SUBMITTED TIMESTAMP NOT NULL</td>\n    </tr>\n    <tr>\n      <th>5</th>\n      <td>recipe</td>\n      <td>n_steps</td>\n      <td>int</td>\n      <td>N</td>\n      <td>Рецепт</td>\n      <td>Кол-во шагов рецепта</td>\n      <td>NaN</td>\n      <td>NaN</td>\n      <td>NaN</td>\n      <td>N_STEPS INT</td>\n    </tr>\n    <tr>\n      <th>6</th>\n      <td>recipe</td>\n      <td>description</td>\n      <td>text</td>\n      <td>N</td>\n      <td>Рецепт</td>\n      <td>Описание рецепта</td>\n      <td>NaN</td>\n      <td>NaN</td>\n      <td>NaN</td>\n      <td>DESCRIPTION TEXT</td>\n    </tr>\n    <tr>\n      <th>7</th>\n      <td>recipe</td>\n      <td>n_ingredients</td>\n      <td>int</td>\n      <td>N</td>\n      <td>Рецепт</td>\n      <td>Кол-во ингредиентов в рецепта</td>\n      <td>NaN</td>\n      <td>NaN</td>\n      <td>NaN</td>\n      <td>N_INGREDIENTS INT</td>\n    </tr>\n    <tr>\n      <th>8</th>\n      <td>review</td>\n      <td>id</td>\n      <td>serial</td>\n      <td>Y</td>\n      <td>Отзыв</td>\n      <td>ID отзыва</td>\n      <td>PK</td>\n      <td>NaN</td>\n      <td>NaN</td>\n      <td>ID SERIAL PRIMARY KEY</td>\n    </tr>\n    <tr>\n      <th>9</th>\n      <td>review</td>\n      <td>user_id</td>\n      <td>int</td>\n      <td>Y</td>\n      <td>Отзыв</td>\n      <td>ID автора отзыва</td>\n      <td>FK</td>\n      <td>NaN</td>\n      <td>NaN</td>\n      <td>USER_ID INT REFERENCES ()</td>\n    </tr>\n    <tr>\n      <th>10</th>\n      <td>review</td>\n      <td>recipe_id</td>\n      <td>int</td>\n      <td>Y</td>\n      <td>Отзыв</td>\n      <td>ID рецепта</td>\n      <td>FK</td>\n      <td>recipe</td>\n      <td>id</td>\n      <td>RECIPE_ID INT REFERENCES recipe(id)</td>\n    </tr>\n    <tr>\n      <th>11</th>\n      <td>review</td>\n      <td>date</td>\n      <td>timestamp</td>\n      <td>Y</td>\n      <td>Отзыв</td>\n      <td>Дата добавления отзыва</td>\n      <td>NaN</td>\n      <td>NaN</td>\n      <td>NaN</td>\n      <td>DATE TIMESTAMP NOT NULL</td>\n    </tr>\n    <tr>\n      <th>12</th>\n      <td>review</td>\n      <td>rating</td>\n      <td>int</td>\n      <td>Y</td>\n      <td>Отзыв</td>\n      <td>Рейтинг отзыва</td>\n      <td>NaN</td>\n      <td>NaN</td>\n      <td>NaN</td>\n      <td>RATING INT NOT NULL</td>\n    </tr>\n    <tr>\n      <th>13</th>\n      <td>review</td>\n      <td>review</td>\n      <td>test</td>\n      <td>N</td>\n      <td>Отзыв</td>\n      <td>Текстовое описание отзыва</td>\n      <td>NaN</td>\n      <td>NaN</td>\n      <td>NaN</td>\n      <td>REVIEW TEST</td>\n    </tr>\n    <tr>\n      <th>14</th>\n      <td>user</td>\n      <td>id</td>\n      <td>serial</td>\n      <td>Y</td>\n      <td>Пользователь</td>\n      <td>ID пользователя</td>\n      <td>PK</td>\n      <td>NaN</td>\n      <td>NaN</td>\n      <td>ID SERIAL PRIMARY KEY</td>\n    </tr>\n    <tr>\n      <th>15</th>\n      <td>user</td>\n      <td>login</td>\n      <td>varchar(20)</td>\n      <td>Y</td>\n      <td>Пользователь</td>\n      <td>Логин пользователя</td>\n      <td>NaN</td>\n      <td>NaN</td>\n      <td>NaN</td>\n      <td>LOGIN VARCHAR(20) NOT NULL</td>\n    </tr>\n    <tr>\n      <th>16</th>\n      <td>user</td>\n      <td>registered</td>\n      <td>timestamp</td>\n      <td>Y</td>\n      <td>Пользователь</td>\n      <td>Дата регистрации пользователя</td>\n      <td>NaN</td>\n      <td>NaN</td>\n      <td>NaN</td>\n      <td>REGISTERED TIMESTAMP NOT NULL</td>\n    </tr>\n  </tbody>\n</table>\n</div>"
     },
     "execution_count": 24,
     "metadata": {},
     "output_type": "execute_result"
    }
   ],
   "source": [
    "df = pd.read_excel(\"recipes_model.xlsx\", sheet_name=\"Модель\")\n",
    "df"
   ],
   "metadata": {
    "collapsed": false,
    "pycharm": {
     "name": "#%%\n"
    }
   }
  },
  {
   "cell_type": "code",
   "execution_count": 25,
   "outputs": [],
   "source": [
    "d1 = df.loc[:,\"Ключ\"]+df.loc[:,\"Обязательно к заполнению\"]\n",
    "d2 = (df.loc[:,\"Таблица для ссылки\"].notna() * df.loc[:,\"Поле для ссылки\"].notna() * -1 + 1) * df.loc[:,\"Ключ\"]==\"FK\"\n",
    "indexes = df[d2].index.append(d1[d1==\"PKN\"].index)\n",
    "for i in indexes:\n",
    "    sheet.range(f\"A{i+2}:J{i+2}\").color = (255, 22, 22)"
   ],
   "metadata": {
    "collapsed": false,
    "pycharm": {
     "name": "#%%\n"
    }
   }
  },
  {
   "cell_type": "markdown",
   "source": [
    "<img src=\"data/Screenshot_3.png\" />"
   ],
   "metadata": {
    "collapsed": false,
    "pycharm": {
     "name": "#%% md\n"
    }
   }
  },
  {
   "cell_type": "markdown",
   "id": "ff3b9d65",
   "metadata": {
    "pycharm": {
     "name": "#%% md\n"
    }
   },
   "source": [
    "7. При помощи пакета `xlwings` создайте лист с названием `Ошибки заполнения`. \n",
    "\n",
    "Поместите в первой строчке этого листа заголовки \"№ строки\" и \"Ошибка\". Заполните лист на основе решения задачи 6. В столбце \"№ строки\" укажите номер строки с листа `Модель`, содержащую ошибку, а в столбце \"Ошибка\" для ошибок первого рода напишите сообщение \"Первичный ключ не может быть NULL\", для ошибок второго рода - \"Не указано поле для связи по внешнему ключу\". Сделайте скриншот состояния листа `Ошибки заполнения` и прикрепите в ячейку ноутбука."
   ]
  },
  {
   "cell_type": "code",
   "execution_count": 27,
   "outputs": [],
   "source": [
    "errors = wb.sheets.add(name='Ошибки заполнения')\n",
    "errors.range(\"A1\").value = ['№ ошибки', 'Ошибка']\n",
    "errors.range(\"A2\").value = [(index, 'Первичный ключ не может быть NULL') for index in d1[d1 == \"PKN\"].index] + [(index, 'Ошибка заполнения') for index in df[d2].index]\n",
    "xw.Range(\"A1\").expand().autofit()"
   ],
   "metadata": {
    "collapsed": false,
    "pycharm": {
     "name": "#%%\n"
    }
   }
  },
  {
   "cell_type": "markdown",
   "source": [
    "<img src=\"data/Screenshot_4.png\" />"
   ],
   "metadata": {
    "collapsed": false,
    "pycharm": {
     "name": "#%% md\n"
    }
   }
  },
  {
   "cell_type": "markdown",
   "id": "fcfdf252",
   "metadata": {
    "pycharm": {
     "name": "#%% md\n"
    }
   },
   "source": [
    "8. Посчитайте количество атрибутов для каждой из сущностей. Создайте лист `Статистика` и запишите в него результат группировки, начиная с ячейки \"А1\". Визуализируйте полученный результат при помощи столбчатой диаграммы. Сохраните полученную визуализацию на лист `Статистика`, начиная с ячейки \"E2\".  Сделайте скриншот листа `Статистика` и прикрепите в ячейку ноутбука.\n",
    "\n",
    "* Вы можете воспользоваться методами для визуализации, которые поставляются вместе с объектами `pandas` (см. <a href=\"https://pandas.pydata.org/docs/reference/api/pandas.DataFrame.plot\"/>здесь</a> )"
   ]
  },
  {
   "cell_type": "code",
   "execution_count": 28,
   "outputs": [
    {
     "data": {
      "text/plain": "         Атрибут                  \n           count unique   top freq\nСущность                          \nrecipe         8      8  name    1\nreview         6      6    id    1\nuser           3      3    id    1",
      "text/html": "<div>\n<style scoped>\n    .dataframe tbody tr th:only-of-type {\n        vertical-align: middle;\n    }\n\n    .dataframe tbody tr th {\n        vertical-align: top;\n    }\n\n    .dataframe thead tr th {\n        text-align: left;\n    }\n\n    .dataframe thead tr:last-of-type th {\n        text-align: right;\n    }\n</style>\n<table border=\"1\" class=\"dataframe\">\n  <thead>\n    <tr>\n      <th></th>\n      <th colspan=\"4\" halign=\"left\">Атрибут</th>\n    </tr>\n    <tr>\n      <th></th>\n      <th>count</th>\n      <th>unique</th>\n      <th>top</th>\n      <th>freq</th>\n    </tr>\n    <tr>\n      <th>Сущность</th>\n      <th></th>\n      <th></th>\n      <th></th>\n      <th></th>\n    </tr>\n  </thead>\n  <tbody>\n    <tr>\n      <th>recipe</th>\n      <td>8</td>\n      <td>8</td>\n      <td>name</td>\n      <td>1</td>\n    </tr>\n    <tr>\n      <th>review</th>\n      <td>6</td>\n      <td>6</td>\n      <td>id</td>\n      <td>1</td>\n    </tr>\n    <tr>\n      <th>user</th>\n      <td>3</td>\n      <td>3</td>\n      <td>id</td>\n      <td>1</td>\n    </tr>\n  </tbody>\n</table>\n</div>"
     },
     "execution_count": 28,
     "metadata": {},
     "output_type": "execute_result"
    }
   ],
   "source": [
    "discribe = df[[\"Сущность\", \"Атрибут\"]].groupby([\"Сущность\"], group_keys=True).describe()\n",
    "discribe"
   ],
   "metadata": {
    "collapsed": false,
    "pycharm": {
     "name": "#%%\n"
    }
   }
  },
  {
   "cell_type": "code",
   "execution_count": 30,
   "outputs": [],
   "source": [
    "try:\n",
    "    discribe_sheet = wb.sheets.add(name=\"Статистика\")\n",
    "    discribe_sheet.range(\"A1\").value = discribe\n",
    "except ValueError:\n",
    "    discribe_sheet = wb.sheets[\"Статистика\"]"
   ],
   "metadata": {
    "collapsed": false,
    "pycharm": {
     "name": "#%%\n"
    }
   }
  },
  {
   "cell_type": "code",
   "execution_count": 31,
   "outputs": [
    {
     "data": {
      "text/plain": "<BarContainer object of 3 artists>"
     },
     "execution_count": 31,
     "metadata": {},
     "output_type": "execute_result"
    },
    {
     "data": {
      "text/plain": "<Figure size 432x288 with 1 Axes>",
      "image/png": "[encoded data removed]"
     },
     "metadata": {
      "needs_background": "light"
     },
     "output_type": "display_data"
    }
   ],
   "source": [
    "fig = plt.figure()\n",
    "plt.bar(discribe[\"Атрибут\", \"count\"].index, discribe[\"Атрибут\", \"count\"])"
   ],
   "metadata": {
    "collapsed": false,
    "pycharm": {
     "name": "#%%\n"
    }
   }
  },
  {
   "cell_type": "code",
   "execution_count": 32,
   "outputs": [
    {
     "data": {
      "text/plain": "<Picture 'MyPlot' in <Sheet [recipes_model.xlsx]Статистика>>"
     },
     "execution_count": 32,
     "metadata": {},
     "output_type": "execute_result"
    }
   ],
   "source": [
    "discribe_sheet.pictures.add(fig, name='MyPlot', update=True, anchor=discribe_sheet.range(\"E2\"))"
   ],
   "metadata": {
    "collapsed": false,
    "pycharm": {
     "name": "#%%\n"
    }
   }
  },
  {
   "cell_type": "markdown",
   "source": [
    "<img src=\"data/Screenshot_5.png\" />"
   ],
   "metadata": {
    "collapsed": false,
    "pycharm": {
     "name": "#%% md\n"
    }
   }
  },
  {
   "cell_type": "code",
   "execution_count": null,
   "outputs": [],
   "source": [],
   "metadata": {
    "collapsed": false,
    "pycharm": {
     "name": "#%%\n"
    }
   }
  }
 ],
 "metadata": {
  "kernelspec": {
   "display_name": "Python 3 (ipykernel)",
   "language": "python",
   "name": "python3"
  },
  "language_info": {
   "codemirror_mode": {
    "name": "ipython",
    "version": 3
   },
   "file_extension": ".py",
   "mimetype": "text/x-python",
   "name": "python",
   "nbconvert_exporter": "python",
   "pygments_lexer": "ipython3",
   "version": "3.9.7"
  }
 },
 "nbformat": 4,
 "nbformat_minor": 5
}