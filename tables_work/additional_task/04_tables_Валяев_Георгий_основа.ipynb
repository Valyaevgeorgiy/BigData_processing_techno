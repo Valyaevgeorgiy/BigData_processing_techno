{
 "cells": [
  {
   "cell_type": "markdown",
   "metadata": {
    "pycharm": {
     "name": "#%% md\n"
    }
   },
   "source": [
    "## Основные задачи для работы с таблицами и Excel\n",
    "### (выполнил Валяев Георгий Анатольевич, студент группы ПИ20-6)"
   ]
  },
  {
   "cell_type": "markdown",
   "source": [
    "Датасет: себестоимостьА_в1.xlsx"
   ],
   "metadata": {
    "collapsed": false,
    "pycharm": {
     "name": "#%% md\n"
    }
   }
  },
  {
   "cell_type": "code",
   "execution_count": 2,
   "outputs": [
    {
     "name": "stdout",
     "output_type": "stream",
     "text": [
      "Collecting xlwings\n",
      "  Downloading xlwings-0.28.2-cp310-cp310-win_amd64.whl (1.5 MB)\n",
      "     ---------------------------------------- 1.5/1.5 MB 832.9 kB/s eta 0:00:00\n",
      "Requirement already satisfied: pywin32>=224 in c:\\users\\admin\\appdata\\local\\programs\\python\\python310\\lib\\site-packages (from xlwings) (304)\n",
      "Installing collected packages: xlwings\n",
      "Successfully installed xlwings-0.28.2\n"
     ]
    },
    {
     "name": "stderr",
     "output_type": "stream",
     "text": [
      "WARNING: You are using pip version 22.0.3; however, version 22.3 is available.\n",
      "You should consider upgrading via the 'C:\\Users\\admin\\AppData\\Local\\Programs\\Python\\Python310\\python.exe -m pip install --upgrade pip' command.\n"
     ]
    },
    {
     "name": "stdout",
     "output_type": "stream",
     "text": [
      "Requirement already satisfied: xlwings in c:\\users\\admin\\appdata\\local\\programs\\python\\python310\\lib\\site-packages (0.28.2)\n",
      "Requirement already satisfied: pywin32>=224 in c:\\users\\admin\\appdata\\local\\programs\\python\\python310\\lib\\site-packages (from xlwings) (304)\n"
     ]
    },
    {
     "name": "stderr",
     "output_type": "stream",
     "text": [
      "WARNING: You are using pip version 22.0.3; however, version 22.3 is available.\n",
      "You should consider upgrading via the 'C:\\Users\\admin\\AppData\\Local\\Programs\\Python\\Python310\\python.exe -m pip install --upgrade pip' command.\n"
     ]
    }
   ],
   "source": [
    "!pip install xlwings"
   ],
   "metadata": {
    "collapsed": false,
    "pycharm": {
     "name": "#%%\n"
    }
   }
  },
  {
   "cell_type": "code",
   "execution_count": 1,
   "outputs": [],
   "source": [
    "import xlwings as xw\n",
    "import numpy as np\n",
    "import pandas as pd"
   ],
   "metadata": {
    "collapsed": false,
    "pycharm": {
     "name": "#%%\n"
    }
   }
  },
  {
   "cell_type": "markdown",
   "source": [
    "### 1. Используя xlwings:"
   ],
   "metadata": {
    "collapsed": false,
    "pycharm": {
     "name": "#%% md\n"
    }
   }
  },
  {
   "cell_type": "code",
   "execution_count": 2,
   "outputs": [
    {
     "data": {
      "text/plain": "['Хлеб Венгерский', 'Хлеб \"Барбари\"', 'Багет парижский', 'Чиабатта']"
     },
     "execution_count": 2,
     "metadata": {},
     "output_type": "execute_result"
    }
   ],
   "source": [
    "wb = xw.Book('себестоимостьА_в1_после.xlsx')\n",
    "sheet = wb.sheets['Рецептура']\n",
    "sheet.range(\"C7:C10\").value"
   ],
   "metadata": {
    "collapsed": false,
    "pycharm": {
     "name": "#%%\n"
    }
   }
  },
  {
   "cell_type": "markdown",
   "source": [
    "1.1 На листе \"Рецептура\" для области \"Пшеничный хлеб\" рассчитать себестоимость всех видов продукции.\n"
   ],
   "metadata": {
    "collapsed": false,
    "pycharm": {
     "name": "#%% md\n"
    }
   }
  },
  {
   "cell_type": "code",
   "execution_count": 3,
   "outputs": [
    {
     "data": {
      "text/plain": "array([[0.2  , 0.4  , 0.02 , 0.02 , 0.01 , 0.005, 0.1  ,   nan,   nan],\n       [0.07 , 0.25 , 0.01 , 0.06 , 0.015,   nan, 0.06 , 0.05 ,   nan],\n       [0.12 , 0.22 , 0.005,   nan, 0.009, 0.005,   nan, 0.05 , 0.03 ],\n       [0.12 , 0.23 , 0.01 ,   nan, 0.015,   nan,   nan,   nan, 0.05 ]])"
     },
     "execution_count": 3,
     "metadata": {},
     "output_type": "execute_result"
    }
   ],
   "source": [
    "consumption = sheet.range(\"G7:O10\").options(np.array).value\n",
    "unit_price = sheet.range(\"G14:O14\").options(np.array).value\n",
    "consumption"
   ],
   "metadata": {
    "collapsed": false,
    "pycharm": {
     "name": "#%%\n"
    }
   }
  },
  {
   "cell_type": "code",
   "execution_count": 4,
   "outputs": [
    {
     "data": {
      "text/plain": "array([  7.,  10., 184.,  19.,   7., 290., 105.,  83., 260.])"
     },
     "execution_count": 4,
     "metadata": {},
     "output_type": "execute_result"
    }
   ],
   "source": [
    "unit_price"
   ],
   "metadata": {
    "collapsed": false,
    "pycharm": {
     "name": "#%%\n"
    }
   }
  },
  {
   "cell_type": "code",
   "execution_count": 5,
   "outputs": [
    {
     "data": {
      "text/plain": "array([21.48 , 16.525, 17.423, 18.085])"
     },
     "execution_count": 5,
     "metadata": {},
     "output_type": "execute_result"
    }
   ],
   "source": [
    "cost = np.nan_to_num(consumption * unit_price).sum(axis=1)\n",
    "cost"
   ],
   "metadata": {
    "collapsed": false,
    "pycharm": {
     "name": "#%%\n"
    }
   }
  },
  {
   "cell_type": "markdown",
   "source": [
    "1.2 Результаты рассчетов 1.1 сохранить в отдельном столбце области \"Пшеничный хлеб\""
   ],
   "metadata": {
    "collapsed": false,
    "pycharm": {
     "name": "#%% md\n"
    }
   }
  },
  {
   "cell_type": "code",
   "execution_count": 12,
   "outputs": [],
   "source": [
    "sheet.range(\"T7\").options(transpose=True).value = cost"
   ],
   "metadata": {
    "collapsed": false,
    "pycharm": {
     "name": "#%%\n"
    }
   }
  },
  {
   "cell_type": "markdown",
   "source": [
    "1.3 Максимально приблизить форматирование столбца, добавленного в 1.2 к оформлению всей области."
   ],
   "metadata": {
    "collapsed": false,
    "pycharm": {
     "name": "#%% md\n"
    }
   }
  },
  {
   "cell_type": "code",
   "execution_count": 11,
   "outputs": [],
   "source": [
    "xw.Range(\"T7\").expand().number_format = '0,00'\n",
    "xw.Range(\"T7:T10\").color = (255, 255, 167)\n",
    "sheet.range(\"T6\").value = 'Себестоимость'\n",
    "sheet.range(\"T4:T6\").merge()\n",
    "xw.Range(\"T4:T6\").color = (255, 192, 0)\n",
    "xw.Range(\"T4:T6\").autofit()"
   ],
   "metadata": {
    "collapsed": false,
    "pycharm": {
     "name": "#%%\n"
    }
   }
  },
  {
   "cell_type": "markdown",
   "source": [
    "#### Автоматизация пунктов 1.2 и 1.3 в функции routine_man()"
   ],
   "metadata": {
    "collapsed": false,
    "pycharm": {
     "name": "#%% md\n"
    }
   }
  },
  {
   "cell_type": "code",
   "execution_count": 6,
   "outputs": [],
   "source": [
    "def routine_man(consum, price, column):\n",
    "    # column = \"T 6\"\n",
    "    lst_data, lst_addresses = column.split(), []\n",
    "    lst_addresses.append(\"\".join(lst_data))\n",
    "    cost_str = lst_data[0] + str(int(lst_data[1]) + 1)\n",
    "    lst_addresses.append(cost_str)\n",
    "    merge_str = lst_data[0] + str(int(lst_data[1]) - 2) + \":\" + lst_addresses[0]\n",
    "    lst_addresses.append(merge_str)\n",
    "\n",
    "    # cost_str = \"T\" + str(6 + 1) - T7\n",
    "    # merge_str = \"T\" + str(6 - 2) + \":\" + \"T6\" - T4:T6\n",
    "    # lst_addresses = [\"T6\", \"T7\", \"T4:T6\"]\n",
    "\n",
    "    # работа с данными\n",
    "    consumption = sheet.range(consum).options(np.array).value\n",
    "    unit_price = sheet.range(price).options(np.array).value\n",
    "    cost = np.nan_to_num(consumption * unit_price).sum(axis=1)\n",
    "\n",
    "    # Создание столбца Себестоимости\n",
    "    sheet.range(lst_addresses[0]).value = 'Себестоимость'\n",
    "    sheet.range(lst_addresses[1]).options(transpose=True).value = cost\n",
    "\n",
    "    # Заполнение данными ячеек по строкам + преобразование цвета и формата\n",
    "    xw.Range(lst_addresses[1]).expand().number_format = '0,00'\n",
    "    xw.Range(lst_addresses[1]).expand().color = (255, 255, 167)\n",
    "    sheet.range(lst_addresses[2]).merge()\n",
    "    xw.Range(lst_addresses[2]).color = (255, 192, 0)\n",
    "    xw.Range(lst_addresses[2]).autofit()\n",
    "\n",
    "    return cost"
   ],
   "metadata": {
    "collapsed": false,
    "pycharm": {
     "name": "#%%\n"
    }
   }
  },
  {
   "cell_type": "code",
   "execution_count": 7,
   "outputs": [
    {
     "data": {
      "text/plain": "array([21.48 , 16.525, 17.423, 18.085])"
     },
     "execution_count": 7,
     "metadata": {},
     "output_type": "execute_result"
    }
   ],
   "source": [
    "routine_man(\"G7:O10\", \"G14:O14\", \"T 6\") # — вернёт аналогичный результат"
   ],
   "metadata": {
    "collapsed": false,
    "pycharm": {
     "name": "#%%\n"
    }
   }
  },
  {
   "cell_type": "markdown",
   "source": [
    "1.4 Заменить значения добавленные в 1.2 на формулы."
   ],
   "metadata": {
    "collapsed": false,
    "pycharm": {
     "name": "#%% md\n"
    }
   }
  },
  {
   "cell_type": "code",
   "execution_count": 8,
   "outputs": [],
   "source": [
    "xw.Range(\"U6\").value = 'Формулы'\n",
    "sheet.range(\"U4:U6\").merge()\n",
    "xw.Range(\"U4:U6\").color = (255, 192, 0)\n",
    "xw.Range(\"U4:U6\").autofit()\n",
    "for i in [7, 8, 9, 10]:\n",
    "    xw.Range(f\"U{i}\").formula = f'=SUMPRODUCT(G{i}:O{i},$G$14:$O$14)'\n",
    "xw.Range(\"U7:U10\").number_format = '0,00'\n",
    "xw.Range(\"U7:U10\").color = (255, 255, 167)"
   ],
   "metadata": {
    "collapsed": false,
    "pycharm": {
     "name": "#%%\n"
    }
   }
  },
  {
   "cell_type": "markdown",
   "source": [
    "1.5 Выполнить 1.4 с помощью \"протягиваемых\" формул."
   ],
   "metadata": {
    "collapsed": false,
    "pycharm": {
     "name": "#%% md\n"
    }
   }
  },
  {
   "cell_type": "code",
   "execution_count": 9,
   "outputs": [],
   "source": [
    "xw.Range(\"V6\").value = 'Протяг формулы'\n",
    "sheet.range(\"V4:V6\").merge()\n",
    "xw.Range(\"V4:V6\").color = (255, 192, 0)\n",
    "xw.Range(\"V4:V6\").autofit()\n",
    "\n",
    "fml = xw.Range(\"V7\").formula = '=SUMPRODUCT(G7:O7,$G$14:$O$14)'\n",
    "xw.Range(\"V7:V10\").formula = fml\n",
    "xw.Range(\"V7\").number_format = '0,00'\n",
    "xw.Range(\"V7\").color = (255, 255, 167)"
   ],
   "metadata": {
    "collapsed": false,
    "pycharm": {
     "name": "#%%\n"
    }
   }
  },
  {
   "cell_type": "markdown",
   "source": [
    "#### Автоматизация пункта 1.5 в функции stretch_formula_man()"
   ],
   "metadata": {
    "collapsed": false,
    "pycharm": {
     "name": "#%% md\n"
    }
   }
  },
  {
   "cell_type": "code",
   "execution_count": 13,
   "outputs": [],
   "source": [
    "def stretch_formula_man(data_size, prices, column):\n",
    "\n",
    "    # column = \"V 6\"\n",
    "    # data_size = \"G7:O10\"\n",
    "    # prices = \"G14:O14\"\n",
    "\n",
    "    lst_data, lst_addresses = column.split(), []\n",
    "    lst_addresses.append(\"\".join(lst_data))\n",
    "    formula_str = lst_data[0] + str(int(lst_data[1]) + 1)\n",
    "    lst_addresses.append(formula_str)\n",
    "    merge_str = lst_data[0] + str(int(lst_data[1]) - 2) + \":\" + lst_addresses[0]\n",
    "    lst_addresses.append(merge_str)\n",
    "    consumption = sheet.range(data_size).options(np.array).value\n",
    "    unit_price = sheet.range(prices).options(np.array).value\n",
    "    formula_len_str = len(np.nan_to_num(consumption * unit_price).sum(axis=1))\n",
    "    final_len_str = lst_addresses[1] + \":\" + lst_data[0] + str(int(lst_data[1]) + formula_len_str)\n",
    "    lst_addresses.append(final_len_str)\n",
    "\n",
    "    borders_data = data_size.split(\":\") # [\"G7\", \"O10\"]\n",
    "    down_symbol_data = \"\".join([elem if not elem.isdigit() else \"\" for elem in borders_data[1]]) + str(int(lst_data[1]) + 1) # \"O7\"\n",
    "    one_part_f = borders_data[0] + \":\" + down_symbol_data\n",
    "    lst_addresses.append(one_part_f)\n",
    "\n",
    "    borders_price = prices.split(\":\") # [\"G14\", \"O14\"]\n",
    "    one_s_part = \"$\" + \"\".join([elem if not elem.isdigit() else \"\" for elem in borders_price[0]]) + \"$\" + \"\".join([elem if elem.isdigit() else \"\" for elem in borders_price[0]]) # \"$G$14\"\n",
    "    second_s_part = \"$\" + \"\".join([elem if not elem.isdigit() else \"\" for elem in borders_price[1]]) + \"$\" + \"\".join([elem if elem.isdigit() else \"\" for elem in borders_price[1]]) # \"$O$14\"\n",
    "    second_part_f = one_s_part + \":\" + second_s_part\n",
    "    lst_addresses.append(second_part_f)\n",
    "\n",
    "    # formula_str = \"V\" + str(6 + 1) - V7\n",
    "    # merge_str = \"V\" + str(6 - 2) + \":\" + \"V6\" - V4:V6\n",
    "    # formula_len_str = длина выводимых данных через прямой расчёт — 4\n",
    "    # final_len_str = \"V7\" + \":\" + \"V\" + str(6 + 4) — \"V7:V10\"\n",
    "    # one_part_f = \"G7\" + \":\" + \"O7\" — \"G7:O7\"\n",
    "    # second_part_f = \"$G$14\" + \":\" + \"$O$14\" — \"$G$14:$O$14\"\n",
    "    # lst_addresses = [\"V6\", \"V7\", \"V4:V6, \"V7:V10\", \"G7:O7\", \"$G$14:$O$14\"]\n",
    "\n",
    "    # Наименование столбца и работа над его форматом\n",
    "    xw.Range(lst_addresses[0]).value = 'Stretch формулы'\n",
    "    xw.Range(lst_addresses[2]).merge()\n",
    "    xw.Range(lst_addresses[2]).color = (255, 192, 0)\n",
    "    xw.Range(lst_addresses[2]).autofit()\n",
    "\n",
    "    # Взаимодействие с данными и формулой\n",
    "    fml = xw.Range(lst_addresses[1]).formula = f'=SUMPRODUCT({lst_addresses[4]},{lst_addresses[5]})'\n",
    "    xw.Range(lst_addresses[3]).formula = fml\n",
    "    xw.Range(lst_addresses[3]).number_format = '0,00'\n",
    "    xw.Range(lst_addresses[3]).color = (255, 255, 167)"
   ],
   "metadata": {
    "collapsed": false,
    "pycharm": {
     "name": "#%%\n"
    }
   }
  },
  {
   "cell_type": "code",
   "execution_count": 17,
   "outputs": [],
   "source": [
    "stretch_formula_man(\"G7:O10\", \"G14:O14\", \"V 6\") # — вернёт аналогичный результат"
   ],
   "metadata": {
    "collapsed": false,
    "pycharm": {
     "name": "#%%\n"
    }
   }
  },
  {
   "cell_type": "markdown",
   "source": [
    "1.6 Сделать так, чтобы решение 1.5 и 1.3 автоматически применилось ко всем аналогичным областям на листе \"Рецептура\""
   ],
   "metadata": {
    "collapsed": false,
    "pycharm": {
     "name": "#%% md\n"
    }
   }
  },
  {
   "cell_type": "markdown",
   "source": [
    "##### Область «Ржаной хлеб»"
   ],
   "metadata": {
    "collapsed": false,
    "pycharm": {
     "name": "#%% md\n"
    }
   }
  },
  {
   "cell_type": "code",
   "execution_count": 11,
   "outputs": [
    {
     "data": {
      "text/plain": "array([14.345, 29.75 , 10.138])"
     },
     "execution_count": 11,
     "metadata": {},
     "output_type": "execute_result"
    }
   ],
   "source": [
    "# Решение 1.3\n",
    "routine_man(\"G23:N25\", \"G31:N31\", \"S 22\")"
   ],
   "metadata": {
    "collapsed": false,
    "pycharm": {
     "name": "#%%\n"
    }
   }
  },
  {
   "cell_type": "code",
   "execution_count": 12,
   "outputs": [],
   "source": [
    "# Решение 1.5\n",
    "stretch_formula_man(\"G23:N25\", \"G31:N31\", \"T 22\")"
   ],
   "metadata": {
    "collapsed": false,
    "pycharm": {
     "name": "#%%\n"
    }
   }
  },
  {
   "cell_type": "markdown",
   "source": [
    "##### Область «Хлеба специальной культуры»"
   ],
   "metadata": {
    "collapsed": false,
    "pycharm": {
     "name": "#%% md\n"
    }
   }
  },
  {
   "cell_type": "code",
   "execution_count": 18,
   "outputs": [
    {
     "data": {
      "text/plain": "array([38.575, 19.42 , 37.055, 29.54 , 28.33 , 22.615, 32.14 ])"
     },
     "execution_count": 18,
     "metadata": {},
     "output_type": "execute_result"
    }
   ],
   "source": [
    "# Решение 1.3\n",
    "routine_man(\"G40:X46\", \"G52:X52\", \"AC 39\")"
   ],
   "metadata": {
    "collapsed": false,
    "pycharm": {
     "name": "#%%\n"
    }
   }
  },
  {
   "cell_type": "code",
   "execution_count": 19,
   "outputs": [],
   "source": [
    "# Решение 1.5\n",
    "stretch_formula_man(\"G40:X46\", \"G52:X52\", \"AD 39\")"
   ],
   "metadata": {
    "collapsed": false,
    "pycharm": {
     "name": "#%%\n"
    }
   }
  },
  {
   "cell_type": "markdown",
   "source": [
    "##### Область «Слоеная выпечка»"
   ],
   "metadata": {
    "collapsed": false,
    "pycharm": {
     "name": "#%% md\n"
    }
   }
  },
  {
   "cell_type": "code",
   "execution_count": 20,
   "outputs": [
    {
     "data": {
      "text/plain": "array([ 7.055     ,  9.415     ,  9.055     ,  7.37      , 11.172171  ,\n       17.38020635, 10.49147619,  9.27419048, 26.58842857])"
     },
     "execution_count": 20,
     "metadata": {},
     "output_type": "execute_result"
    }
   ],
   "source": [
    "# Решение 1.3\n",
    "routine_man(\"G61:Y69\", \"G73:Y73\", \"AD 60\")"
   ],
   "metadata": {
    "collapsed": false,
    "pycharm": {
     "name": "#%%\n"
    }
   }
  },
  {
   "cell_type": "code",
   "execution_count": 21,
   "outputs": [],
   "source": [
    "# Решение 1.5\n",
    "stretch_formula_man(\"G61:Y69\", \"G73:Y73\", \"AE 60\")"
   ],
   "metadata": {
    "collapsed": false,
    "pycharm": {
     "name": "#%%\n"
    }
   }
  },
  {
   "cell_type": "markdown",
   "source": [
    "### 2. Используя xlwings:"
   ],
   "metadata": {
    "collapsed": false,
    "pycharm": {
     "name": "#%% md\n"
    }
   }
  },
  {
   "cell_type": "markdown",
   "source": [
    "2.1 Собрать цены всех ресурсов, используемые на листе \"Рецептура\". Проверить, что нет расхождений между ценами совпадающих ресурсов"
   ],
   "metadata": {
    "collapsed": false,
    "pycharm": {
     "name": "#%% md\n"
    }
   }
  },
  {
   "cell_type": "code",
   "execution_count": 22,
   "outputs": [
    {
     "name": "stdout",
     "output_type": "stream",
     "text": [
      "{'Ветчина': 270.0, 'Вишня': 93.0, 'Вода': 7.0, 'Гречневая мука': 12.0, 'Джем': 63.0, 'Дрожжи': 184.0, 'Зелень': 280.0, 'Изюм': 83.0, 'Кукурузная мука': 12.0, 'Кунжутные семена': 83.0, 'Куркума молотая': 290.0, 'Лосось': 250.0, 'Масло оливковое': 260.0, 'Масло сливочное': 150.0, 'Молоко': 40.0, 'Овсянные хлопья': 18.0, 'Пахта': 40.0, 'Пшеничная мука': 10.0, 'Ржаная мука': 10.0, 'Сахар': 19.0, 'Семена подсолнуха': 160.0, 'Солод ржаной': 108.0, 'Соль': 7.0, 'Сыр': 110.0, 'Творог': 80.0, 'Топленное масло': 105.0, 'Цельнозерновая мука': 12.0, 'Чеснок ': 1.0, 'Шоколад': 200.0, 'Яблоки': 25.0, 'Яйцо': 4.0, 'Ячменная мука': 12.0}\n"
     ]
    }
   ],
   "source": [
    "def collect_all_res(lst_tuples_new_res):\n",
    "    all_resources = xw.Range(\"G5:O14\").value[0]\n",
    "    all_prices = xw.Range(\"G5:O14\").value[-1]\n",
    "    final_set = list(zip(all_resources, all_prices))\n",
    "\n",
    "    for address in lst_tuples_new_res:\n",
    "        final_set.extend(list(zip(xw.Range(f\"{address[0]}:{address[1]}\").value[0], xw.Range(f\"{address[0]}:{address[1]}\").value[-1])))\n",
    "\n",
    "    final_set = dict(set(final_set))\n",
    "    final_set = {key: final_set[key] for key in sorted(list(final_set.keys()))}\n",
    "    return final_set\n",
    "\n",
    "all_resources = collect_all_res([(\"G21\", \"N31\"), (\"G38\", \"X52\"), (\"G59\", \"Y73\")])\n",
    "print(all_resources)"
   ],
   "metadata": {
    "collapsed": false,
    "pycharm": {
     "name": "#%%\n"
    }
   }
  },
  {
   "cell_type": "markdown",
   "source": [
    "2.2 Вынести цены ресурсов на новый лист \"Цена ресурсов\"."
   ],
   "metadata": {
    "collapsed": false,
    "pycharm": {
     "name": "#%% md\n"
    }
   }
  },
  {
   "cell_type": "code",
   "execution_count": 23,
   "outputs": [],
   "source": [
    "sheet_2 = wb.sheets.add(name=\"Цена ресурсов\", after=wb.sheets[0].name)\n",
    "sheet_2.range(\"A1\").value = 'Фиксированные цены'\n",
    "sheet_2.range(\"A1:B1\").merge()\n",
    "xw.Range(\"A1\").expand('right').color = (255, 192, 0)\n",
    "sheet_2.range(\"A2\").value = [\"Ресурс\", \"Цена\"]\n",
    "xw.Range(\"A2\").expand().color = (255, 192, 0)\n",
    "sheet_2.range(\"A3\").value = all_resources\n",
    "xw.Range(\"B3\").expand().color = (255, 255, 167)\n",
    "sheet_2.range(\"A2\").expand().autofit()"
   ],
   "metadata": {
    "collapsed": false,
    "pycharm": {
     "name": "#%%\n"
    }
   }
  },
  {
   "cell_type": "markdown",
   "source": [
    "2.3 Заменить фиксированные цены ресурсов на листе \"Рецептура\" на ссылки на лист \"Цена ресурсов\""
   ],
   "metadata": {
    "collapsed": false,
    "pycharm": {
     "name": "#%% md\n"
    }
   }
  },
  {
   "cell_type": "code",
   "execution_count": 24,
   "outputs": [
    {
     "data": {
      "text/plain": "{'Ветчина': 'B3',\n 'Вишня': 'B4',\n 'Вода': 'B5',\n 'Гречневая мука': 'B6',\n 'Джем': 'B7',\n 'Дрожжи': 'B8',\n 'Зелень': 'B9',\n 'Изюм': 'B10',\n 'Кукурузная мука': 'B11',\n 'Кунжутные семена': 'B12',\n 'Куркума молотая': 'B13',\n 'Лосось': 'B14',\n 'Масло оливковое': 'B15',\n 'Масло сливочное': 'B16',\n 'Молоко': 'B17',\n 'Овсянные хлопья': 'B18',\n 'Пахта': 'B19',\n 'Пшеничная мука': 'B20',\n 'Ржаная мука': 'B21',\n 'Сахар': 'B22',\n 'Семена подсолнуха': 'B23',\n 'Солод ржаной': 'B24',\n 'Соль': 'B25',\n 'Сыр': 'B26',\n 'Творог': 'B27',\n 'Топленное масло': 'B28',\n 'Цельнозерновая мука': 'B29',\n 'Чеснок ': 'B30',\n 'Шоколад': 'B31',\n 'Яблоки': 'B32',\n 'Яйцо': 'B33',\n 'Ячменная мука': 'B34'}"
     },
     "execution_count": 24,
     "metadata": {},
     "output_type": "execute_result"
    }
   ],
   "source": [
    "wb.sheets[0].activate()\n",
    "resources = list(all_resources.keys())\n",
    "addr_prices = [f'B{i}' for i in range(3, 35)]\n",
    "dict_res_pr = dict(zip(resources, addr_prices))\n",
    "dict_res_pr"
   ],
   "metadata": {
    "collapsed": false,
    "pycharm": {
     "name": "#%%\n"
    }
   }
  },
  {
   "cell_type": "code",
   "execution_count": 25,
   "outputs": [
    {
     "name": "stdout",
     "output_type": "stream",
     "text": [
      "\n",
      "='Цена ресурсов'!B5\n",
      "='Цена ресурсов'!B20\n",
      "='Цена ресурсов'!B8\n",
      "='Цена ресурсов'!B22\n",
      "='Цена ресурсов'!B25\n",
      "='Цена ресурсов'!B13\n",
      "='Цена ресурсов'!B28\n",
      "='Цена ресурсов'!B12\n",
      "='Цена ресурсов'!B15\n",
      "\n",
      "\n",
      "='Цена ресурсов'!B5\n",
      "='Цена ресурсов'!B21\n",
      "='Цена ресурсов'!B20\n",
      "='Цена ресурсов'!B8\n",
      "='Цена ресурсов'!B22\n",
      "='Цена ресурсов'!B25\n",
      "='Цена ресурсов'!B15\n",
      "='Цена ресурсов'!B24\n",
      "\n",
      "\n",
      "='Цена ресурсов'!B5\n",
      "='Цена ресурсов'!B29\n",
      "='Цена ресурсов'!B6\n",
      "='Цена ресурсов'!B34\n",
      "='Цена ресурсов'!B11\n",
      "='Цена ресурсов'!B20\n",
      "='Цена ресурсов'!B8\n",
      "='Цена ресурсов'!B22\n",
      "='Цена ресурсов'!B25\n",
      "='Цена ресурсов'!B13\n",
      "='Цена ресурсов'!B17\n",
      "='Цена ресурсов'!B12\n",
      "='Цена ресурсов'!B15\n",
      "='Цена ресурсов'!B30\n",
      "='Цена ресурсов'!B18\n",
      "='Цена ресурсов'!B19\n",
      "='Цена ресурсов'!B10\n",
      "='Цена ресурсов'!B23\n",
      "\n",
      "\n",
      "='Цена ресурсов'!B5\n",
      "='Цена ресурсов'!B20\n",
      "='Цена ресурсов'!B8\n",
      "='Цена ресурсов'!B22\n",
      "='Цена ресурсов'!B25\n",
      "='Цена ресурсов'!B17\n",
      "='Цена ресурсов'!B16\n",
      "='Цена ресурсов'!B33\n",
      "='Цена ресурсов'!B15\n",
      "='Цена ресурсов'!B7\n",
      "='Цена ресурсов'!B26\n",
      "='Цена ресурсов'!B3\n",
      "='Цена ресурсов'!B12\n",
      "='Цена ресурсов'!B14\n",
      "='Цена ресурсов'!B9\n",
      "='Цена ресурсов'!B31\n",
      "='Цена ресурсов'!B27\n",
      "='Цена ресурсов'!B32\n",
      "='Цена ресурсов'!B4\n",
      "\n"
     ]
    }
   ],
   "source": [
    "for pair in [(\"G5\", \"G14\"), (\"G21\", \"G31\"), (\"G38\", \"G52\"), (\"G59\", \"G73\")]:\n",
    "    list_links = [f\"='Цена ресурсов'!{dict_res_pr[resource]}\" for resource in sheet.range(pair[0]).expand().value]\n",
    "    sheet.range(pair[1]).expand('right').value = list_links\n",
    "    print()\n",
    "    print(*list_links, sep='\\n')\n",
    "    print()"
   ],
   "metadata": {
    "collapsed": false,
    "pycharm": {
     "name": "#%%\n"
    }
   }
  },
  {
   "cell_type": "markdown",
   "source": [
    "2.4 Сделать так, чтобы цены ресурсов на листе \"Рецептура\" подтягивались с листа \"Цена ресурсов\" по наименованию (подсказка: использовать ВПР, рекомендуется использовать именованные области)"
   ],
   "metadata": {
    "collapsed": false,
    "pycharm": {
     "name": "#%% md\n"
    }
   }
  },
  {
   "cell_type": "code",
   "execution_count": 26,
   "outputs": [
    {
     "data": {
      "text/plain": "{'Ветчина': 'A3',\n 'Вишня': 'A4',\n 'Вода': 'A5',\n 'Гречневая мука': 'A6',\n 'Джем': 'A7',\n 'Дрожжи': 'A8',\n 'Зелень': 'A9',\n 'Изюм': 'A10',\n 'Кукурузная мука': 'A11',\n 'Кунжутные семена': 'A12',\n 'Куркума молотая': 'A13',\n 'Лосось': 'A14',\n 'Масло оливковое': 'A15',\n 'Масло сливочное': 'A16',\n 'Молоко': 'A17',\n 'Овсянные хлопья': 'A18',\n 'Пахта': 'A19',\n 'Пшеничная мука': 'A20',\n 'Ржаная мука': 'A21',\n 'Сахар': 'A22',\n 'Семена подсолнуха': 'A23',\n 'Солод ржаной': 'A24',\n 'Соль': 'A25',\n 'Сыр': 'A26',\n 'Творог': 'A27',\n 'Топленное масло': 'A28',\n 'Цельнозерновая мука': 'A29',\n 'Чеснок ': 'A30',\n 'Шоколад': 'A31',\n 'Яблоки': 'A32',\n 'Яйцо': 'A33',\n 'Ячменная мука': 'A34'}"
     },
     "execution_count": 26,
     "metadata": {},
     "output_type": "execute_result"
    }
   ],
   "source": [
    "resources = list(all_resources.keys())\n",
    "addr_prices = [f'A{i}' for i in range(3, 35)]\n",
    "dict_res_pr = dict(zip(resources, addr_prices))\n",
    "dict_res_pr"
   ],
   "metadata": {
    "collapsed": false,
    "pycharm": {
     "name": "#%%\n"
    }
   }
  },
  {
   "cell_type": "code",
   "execution_count": 27,
   "outputs": [
    {
     "name": "stdout",
     "output_type": "stream",
     "text": [
      "\n",
      "=VLOOKUP('Цена ресурсов'!A5,Цены_ресурсы,2,0)\n",
      "=VLOOKUP('Цена ресурсов'!A20,Цены_ресурсы,2,0)\n",
      "=VLOOKUP('Цена ресурсов'!A8,Цены_ресурсы,2,0)\n",
      "=VLOOKUP('Цена ресурсов'!A22,Цены_ресурсы,2,0)\n",
      "=VLOOKUP('Цена ресурсов'!A25,Цены_ресурсы,2,0)\n",
      "=VLOOKUP('Цена ресурсов'!A13,Цены_ресурсы,2,0)\n",
      "=VLOOKUP('Цена ресурсов'!A28,Цены_ресурсы,2,0)\n",
      "=VLOOKUP('Цена ресурсов'!A12,Цены_ресурсы,2,0)\n",
      "=VLOOKUP('Цена ресурсов'!A15,Цены_ресурсы,2,0)\n",
      "\n",
      "\n",
      "=VLOOKUP('Цена ресурсов'!A5,Цены_ресурсы,2,0)\n",
      "=VLOOKUP('Цена ресурсов'!A21,Цены_ресурсы,2,0)\n",
      "=VLOOKUP('Цена ресурсов'!A20,Цены_ресурсы,2,0)\n",
      "=VLOOKUP('Цена ресурсов'!A8,Цены_ресурсы,2,0)\n",
      "=VLOOKUP('Цена ресурсов'!A22,Цены_ресурсы,2,0)\n",
      "=VLOOKUP('Цена ресурсов'!A25,Цены_ресурсы,2,0)\n",
      "=VLOOKUP('Цена ресурсов'!A15,Цены_ресурсы,2,0)\n",
      "=VLOOKUP('Цена ресурсов'!A24,Цены_ресурсы,2,0)\n",
      "\n",
      "\n",
      "=VLOOKUP('Цена ресурсов'!A5,Цены_ресурсы,2,0)\n",
      "=VLOOKUP('Цена ресурсов'!A29,Цены_ресурсы,2,0)\n",
      "=VLOOKUP('Цена ресурсов'!A6,Цены_ресурсы,2,0)\n",
      "=VLOOKUP('Цена ресурсов'!A34,Цены_ресурсы,2,0)\n",
      "=VLOOKUP('Цена ресурсов'!A11,Цены_ресурсы,2,0)\n",
      "=VLOOKUP('Цена ресурсов'!A20,Цены_ресурсы,2,0)\n",
      "=VLOOKUP('Цена ресурсов'!A8,Цены_ресурсы,2,0)\n",
      "=VLOOKUP('Цена ресурсов'!A22,Цены_ресурсы,2,0)\n",
      "=VLOOKUP('Цена ресурсов'!A25,Цены_ресурсы,2,0)\n",
      "=VLOOKUP('Цена ресурсов'!A13,Цены_ресурсы,2,0)\n",
      "=VLOOKUP('Цена ресурсов'!A17,Цены_ресурсы,2,0)\n",
      "=VLOOKUP('Цена ресурсов'!A12,Цены_ресурсы,2,0)\n",
      "=VLOOKUP('Цена ресурсов'!A15,Цены_ресурсы,2,0)\n",
      "=VLOOKUP('Цена ресурсов'!A30,Цены_ресурсы,2,0)\n",
      "=VLOOKUP('Цена ресурсов'!A18,Цены_ресурсы,2,0)\n",
      "=VLOOKUP('Цена ресурсов'!A19,Цены_ресурсы,2,0)\n",
      "=VLOOKUP('Цена ресурсов'!A10,Цены_ресурсы,2,0)\n",
      "=VLOOKUP('Цена ресурсов'!A23,Цены_ресурсы,2,0)\n",
      "\n",
      "\n",
      "=VLOOKUP('Цена ресурсов'!A5,Цены_ресурсы,2,0)\n",
      "=VLOOKUP('Цена ресурсов'!A20,Цены_ресурсы,2,0)\n",
      "=VLOOKUP('Цена ресурсов'!A8,Цены_ресурсы,2,0)\n",
      "=VLOOKUP('Цена ресурсов'!A22,Цены_ресурсы,2,0)\n",
      "=VLOOKUP('Цена ресурсов'!A25,Цены_ресурсы,2,0)\n",
      "=VLOOKUP('Цена ресурсов'!A17,Цены_ресурсы,2,0)\n",
      "=VLOOKUP('Цена ресурсов'!A16,Цены_ресурсы,2,0)\n",
      "=VLOOKUP('Цена ресурсов'!A33,Цены_ресурсы,2,0)\n",
      "=VLOOKUP('Цена ресурсов'!A15,Цены_ресурсы,2,0)\n",
      "=VLOOKUP('Цена ресурсов'!A7,Цены_ресурсы,2,0)\n",
      "=VLOOKUP('Цена ресурсов'!A26,Цены_ресурсы,2,0)\n",
      "=VLOOKUP('Цена ресурсов'!A3,Цены_ресурсы,2,0)\n",
      "=VLOOKUP('Цена ресурсов'!A12,Цены_ресурсы,2,0)\n",
      "=VLOOKUP('Цена ресурсов'!A14,Цены_ресурсы,2,0)\n",
      "=VLOOKUP('Цена ресурсов'!A9,Цены_ресурсы,2,0)\n",
      "=VLOOKUP('Цена ресурсов'!A31,Цены_ресурсы,2,0)\n",
      "=VLOOKUP('Цена ресурсов'!A27,Цены_ресурсы,2,0)\n",
      "=VLOOKUP('Цена ресурсов'!A32,Цены_ресурсы,2,0)\n",
      "=VLOOKUP('Цена ресурсов'!A4,Цены_ресурсы,2,0)\n",
      "\n"
     ]
    }
   ],
   "source": [
    "for pair in [(\"G5\", \"G14\"), (\"G21\", \"G31\"), (\"G38\", \"G52\"), (\"G59\", \"G73\")]:\n",
    "    list_links = [f\"=VLOOKUP('Цена ресурсов'!{dict_res_pr[resource]},Цены_ресурсы,2,0)\" for resource in sheet.range(pair[0]).expand().value]\n",
    "    sheet.range(pair[1]).expand('right').value = list_links\n",
    "    print()\n",
    "    print(*list_links, sep='\\n')\n",
    "    print()"
   ],
   "metadata": {
    "collapsed": false,
    "pycharm": {
     "name": "#%%\n"
    }
   }
  },
  {
   "cell_type": "markdown",
   "source": [
    "### 3. Используя xlwings:"
   ],
   "metadata": {
    "collapsed": false,
    "pycharm": {
     "name": "#%% md\n"
    }
   }
  },
  {
   "cell_type": "markdown",
   "source": [
    "3.1 Создать нормализованную (не ниже 3й нормальной формы) базу данных sqlite для хранения информации из себестоимостьА_в1.xlsx .\n",
    "\n",
    "3.2 Информацию из себестоимостьА_в1.xlsx внести в БД на sqlite.\n",
    "\n",
    "3.3 По базе данных sqlite сгенерирвать книгу эксель, по структуре аналогичную себестоимостьА_в1.xlsx\n",
    "\n",
    "3.4 При помощи макроса на xlwings сделать в Excel кнопку, по которой все изменения на листе вносятся в БД, а цвет ячеек, в которых были найдены изменения, меняслся на зеленый.\n",
    "\n",
    "3.5 Реализовать UDF, которая позволяет по имени ресурса вернуть количество видов в продукции в которых используется данный ресурс\n",
    "\n",
    "3.6 Реализовать UDF, которая позволяет по имени ресурса вернуть массив наименований продуктов, в которых используется данный ресурс\n",
    "\n",
    "3.7 Реазливать UDF 3.5 и 3.6 которые для получения ответа использую не книгу Excel а БД на sqlite."
   ],
   "metadata": {
    "collapsed": false,
    "pycharm": {
     "name": "#%% md\n"
    }
   }
  },
  {
   "cell_type": "code",
   "execution_count": null,
   "outputs": [],
   "source": [],
   "metadata": {
    "collapsed": false,
    "pycharm": {
     "name": "#%%\n"
    }
   }
  },
  {
   "cell_type": "code",
   "execution_count": null,
   "outputs": [],
   "source": [],
   "metadata": {
    "collapsed": false,
    "pycharm": {
     "name": "#%%\n"
    }
   }
  },
  {
   "cell_type": "code",
   "execution_count": null,
   "outputs": [],
   "source": [],
   "metadata": {
    "collapsed": false,
    "pycharm": {
     "name": "#%%\n"
    }
   }
  }
 ],
 "metadata": {
  "kernelspec": {
   "display_name": "Python 3",
   "language": "python",
   "name": "python3"
  },
  "language_info": {
   "codemirror_mode": {
    "name": "ipython",
    "version": 3
   },
   "file_extension": ".py",
   "mimetype": "text/x-python",
   "name": "python",
   "nbconvert_exporter": "python",
   "pygments_lexer": "ipython3",
   "version": "3.7.4"
  }
 },
 "nbformat": 4,
 "nbformat_minor": 4
}