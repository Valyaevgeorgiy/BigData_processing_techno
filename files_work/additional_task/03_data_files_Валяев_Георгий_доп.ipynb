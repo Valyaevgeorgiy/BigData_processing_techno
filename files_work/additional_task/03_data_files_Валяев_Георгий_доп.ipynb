{
 "cells": [
  {
   "cell_type": "markdown",
   "source": [
    "## Дополнительное задание для работы с различными расширениями файлов\n",
    "### (выполнил Валяев Георгий Анатольевич, студент группы ПИ20-6)"
   ],
   "metadata": {
    "collapsed": false,
    "pycharm": {
     "name": "#%% md\n"
    }
   }
  },
  {
   "cell_type": "code",
   "execution_count": 2,
   "outputs": [],
   "source": [
    "from bs4 import BeautifulSoup\n",
    "import random, urllib, json, requests\n",
    "import pandas as pd"
   ],
   "metadata": {
    "collapsed": false,
    "pycharm": {
     "name": "#%%\n"
    }
   }
  },
  {
   "cell_type": "markdown",
   "source": [
    "### Сбор данных с html страниц"
   ],
   "metadata": {
    "collapsed": false,
    "pycharm": {
     "name": "#%% md\n"
    }
   }
  },
  {
   "cell_type": "markdown",
   "source": [
    "#### Работа с данными ЕЦБ:"
   ],
   "metadata": {
    "collapsed": false,
    "pycharm": {
     "name": "#%% md\n"
    }
   }
  },
  {
   "cell_type": "code",
   "execution_count": 3,
   "outputs": [],
   "source": [
    "# Create a variable with the URL to this tutorial\n",
    "url = 'http://sdw.ecb.europa.eu/quickviewexport.do?SERIES_KEY=320.MNA.Q.Y.I8.W0.S1.S1._Z.LPR_PS._Z._T._Z.EUR.LR.GY&start=01-01-2001&end=01-01-2011&type=sdmx'\n",
    "\n",
    "# Scrape the HTML at the url\n",
    "r = requests.get(url)\n",
    "\n",
    "# Turn the HTML into a Beautiful Soup object\n",
    "s = BeautifulSoup(r.text, 'xml')"
   ],
   "metadata": {
    "collapsed": false,
    "pycharm": {
     "name": "#%%\n"
    }
   }
  },
  {
   "cell_type": "code",
   "execution_count": 4,
   "outputs": [
    {
     "data": {
      "text/plain": "<Header>\n<ID>IREF000001</ID>\n<Test>false</Test>\n<Prepared>2022-10-15T21:55:12Z</Prepared>\n<Sender id=\"4F0\">\n<Name xml:lang=\"en\">European Central Bank</Name>\n<Contact>\n<Department xml:lang=\"en\">DG Statistics</Department>\n<URI>mailto:statistics@ecb.europa.eu</URI></Contact>\n</Sender>\n<Extracted>2022-10-15T21:55:12Z</Extracted>\n</Header>"
     },
     "execution_count": 4,
     "metadata": {},
     "output_type": "execute_result"
    }
   ],
   "source": [
    "s.MessageGroup.Header"
   ],
   "metadata": {
    "collapsed": false,
    "pycharm": {
     "name": "#%%\n"
    }
   }
  },
  {
   "cell_type": "code",
   "execution_count": 5,
   "outputs": [
    {
     "data": {
      "text/plain": "<ID>IREF000001</ID>"
     },
     "execution_count": 5,
     "metadata": {},
     "output_type": "execute_result"
    }
   ],
   "source": [
    "s.MessageGroup.Header.ID"
   ],
   "metadata": {
    "collapsed": false,
    "pycharm": {
     "name": "#%%\n"
    }
   }
  },
  {
   "cell_type": "code",
   "execution_count": 6,
   "outputs": [
    {
     "data": {
      "text/plain": "'IREF000001'"
     },
     "execution_count": 6,
     "metadata": {},
     "output_type": "execute_result"
    }
   ],
   "source": [
    "s.MessageGroup.Header.ID.text"
   ],
   "metadata": {
    "collapsed": false,
    "pycharm": {
     "name": "#%%\n"
    }
   }
  },
  {
   "cell_type": "code",
   "execution_count": 7,
   "outputs": [
    {
     "data": {
      "text/plain": "41"
     },
     "execution_count": 7,
     "metadata": {},
     "output_type": "execute_result"
    }
   ],
   "source": [
    "obs_all = s.findAll('Obs')\n",
    "len(obs_all)"
   ],
   "metadata": {
    "collapsed": false,
    "pycharm": {
     "name": "#%%\n"
    }
   }
  },
  {
   "cell_type": "code",
   "execution_count": 8,
   "outputs": [
    {
     "name": "stdout",
     "output_type": "stream",
     "text": [
      "When: 2001-Q1, value 1.4\n",
      "When: 2001-Q2, value 1.0\n",
      "When: 2001-Q3, value 0.9\n",
      "When: 2001-Q4, value 0.5\n",
      "When: 2002-Q1, value -0.4\n",
      "When: 2002-Q2, value 0.0\n",
      "When: 2002-Q3, value 0.3\n",
      "When: 2002-Q4, value 0.6\n",
      "When: 2003-Q1, value 0.5\n",
      "When: 2003-Q2, value -0.0\n",
      "When: 2003-Q3, value 0.1\n",
      "When: 2003-Q4, value 0.5\n",
      "When: 2004-Q1, value 1.2\n",
      "When: 2004-Q2, value 1.7\n",
      "When: 2004-Q3, value 1.3\n",
      "When: 2004-Q4, value 0.9\n",
      "When: 2005-Q1, value 0.6\n",
      "When: 2005-Q2, value 0.5\n",
      "When: 2005-Q3, value 1.0\n",
      "When: 2005-Q4, value 1.0\n",
      "When: 2006-Q1, value 1.4\n",
      "When: 2006-Q2, value 1.7\n",
      "When: 2006-Q3, value 1.3\n",
      "When: 2006-Q4, value 1.9\n",
      "When: 2007-Q1, value 1.5\n",
      "When: 2007-Q2, value 1.2\n",
      "When: 2007-Q3, value 1.1\n",
      "When: 2007-Q4, value 0.5\n",
      "When: 2008-Q1, value 0.5\n",
      "When: 2008-Q2, value -0.0\n",
      "When: 2008-Q3, value -0.5\n",
      "When: 2008-Q4, value -2.1\n",
      "When: 2009-Q1, value -4.4\n",
      "When: 2009-Q2, value -3.5\n",
      "When: 2009-Q3, value -2.3\n",
      "When: 2009-Q4, value -0.3\n",
      "When: 2010-Q1, value 2.6\n",
      "When: 2010-Q2, value 2.9\n",
      "When: 2010-Q3, value 2.5\n",
      "When: 2010-Q4, value 2.3\n",
      "When: 2011-Q1, value 2.7\n"
     ]
    }
   ],
   "source": [
    "for obs in obs_all:\n",
    "    print('When: {}, value {}'.format(obs['TIME_PERIOD'], obs['OBS_VALUE']))"
   ],
   "metadata": {
    "collapsed": false,
    "pycharm": {
     "name": "#%%\n"
    }
   }
  },
  {
   "cell_type": "markdown",
   "source": [
    "#### Парсинг электростанций на Википедии"
   ],
   "metadata": {
    "collapsed": false,
    "pycharm": {
     "name": "#%% md\n"
    }
   }
  },
  {
   "cell_type": "code",
   "execution_count": 9,
   "outputs": [
    {
     "name": "stdout",
     "output_type": "stream",
     "text": [
      "https://ru.wikipedia.org/wiki/%D0%9A%D0%B0%D1%82%D0%B5%D0%B3%D0%BE%D1%80%D0%B8%D1%8F:%D0%AD%D0%BB%D0%B5%D0%BA%D1%82%D1%80%D0%BE%D1%81%D1%82%D0%B0%D0%BD%D1%86%D0%B8%D0%B8_%D0%BF%D0%BE_%D0%B0%D0%BB%D1%84%D0%B0%D0%B2%D0%B8%D1%82%D1%83\n"
     ]
    }
   ],
   "source": [
    "url_wikipedia = 'https://ru.wikipedia.org'\n",
    "url_es = 'https://ru.wikipedia.org/wiki/Категория:Электростанции_по_алфавиту'\n",
    "url_es_q  = urllib.parse.quote(url_es, safe='/:')\n",
    "print(url_es_q)"
   ],
   "metadata": {
    "collapsed": false,
    "pycharm": {
     "name": "#%%\n"
    }
   }
  },
  {
   "cell_type": "code",
   "execution_count": 10,
   "outputs": [],
   "source": [
    "es_bs = BeautifulSoup(urllib.request.urlopen(url_es_q), 'lxml')"
   ],
   "metadata": {
    "collapsed": false,
    "pycharm": {
     "name": "#%%\n"
    }
   }
  },
  {
   "cell_type": "code",
   "execution_count": 13,
   "outputs": [
    {
     "data": {
      "text/plain": "[('Абаданская ГЭС',\n  'https://ru.wikipedia.org/wiki/%D0%90%D0%B1%D0%B0%D0%B4%D0%B0%D0%BD%D1%81%D0%BA%D0%B0%D1%8F_%D0%93%D0%AD%D0%A1'),\n ('Абаканская ТЭЦ',\n  'https://ru.wikipedia.org/wiki/%D0%90%D0%B1%D0%B0%D0%BA%D0%B0%D0%BD%D1%81%D0%BA%D0%B0%D1%8F_%D0%A2%D0%AD%D0%A6'),\n ('Автовская ТЭЦ',\n  'https://ru.wikipedia.org/wiki/%D0%90%D0%B2%D1%82%D0%BE%D0%B2%D1%81%D0%BA%D0%B0%D1%8F_%D0%A2%D0%AD%D0%A6'),\n ('Автозаводская ТЭЦ',\n  'https://ru.wikipedia.org/wiki/%D0%90%D0%B2%D1%82%D0%BE%D0%B7%D0%B0%D0%B2%D0%BE%D0%B4%D1%81%D0%BA%D0%B0%D1%8F_%D0%A2%D0%AD%D0%A6'),\n ('Аджарис-Цкальская ГЭС',\n  'https://ru.wikipedia.org/wiki/%D0%90%D0%B4%D0%B6%D0%B0%D1%80%D0%B8%D1%81-%D0%A6%D0%BA%D0%B0%D0%BB%D1%8C%D1%81%D0%BA%D0%B0%D1%8F_%D0%93%D0%AD%D0%A1'),\n ('Адлерская ТЭС',\n  'https://ru.wikipedia.org/wiki/%D0%90%D0%B4%D0%BB%D0%B5%D1%80%D1%81%D0%BA%D0%B0%D1%8F_%D0%A2%D0%AD%D0%A1'),\n ('Адыгейская ВЭС',\n  'https://ru.wikipedia.org/wiki/%D0%90%D0%B4%D1%8B%D0%B3%D0%B5%D0%B9%D1%81%D0%BA%D0%B0%D1%8F_%D0%92%D0%AD%D0%A1'),\n ('Азербайджанская ТЭС',\n  'https://ru.wikipedia.org/wiki/%D0%90%D0%B7%D0%B5%D1%80%D0%B1%D0%B0%D0%B9%D0%B4%D0%B6%D0%B0%D0%BD%D1%81%D0%BA%D0%B0%D1%8F_%D0%A2%D0%AD%D0%A1'),\n ('Ак-Кавакская ГЭС-1',\n  'https://ru.wikipedia.org/wiki/%D0%90%D0%BA-%D0%9A%D0%B0%D0%B2%D0%B0%D0%BA%D1%81%D0%BA%D0%B0%D1%8F_%D0%93%D0%AD%D0%A1-1'),\n ('Академик Ломоносов',\n  'https://ru.wikipedia.org/wiki/%D0%90%D0%BA%D0%B0%D0%B4%D0%B5%D0%BC%D0%B8%D0%BA_%D0%9B%D0%BE%D0%BC%D0%BE%D0%BD%D0%BE%D1%81%D0%BE%D0%B2'),\n ('Академическая ТЭЦ',\n  'https://ru.wikipedia.org/wiki/%D0%90%D0%BA%D0%B0%D0%B4%D0%B5%D0%BC%D0%B8%D1%87%D0%B5%D1%81%D0%BA%D0%B0%D1%8F_%D0%A2%D0%AD%D0%A6'),\n ('Аккую', 'https://ru.wikipedia.org/wiki/%D0%90%D0%BA%D0%BA%D1%83%D1%8E'),\n ('Акосомбо (гидроэлектростанция)',\n  'https://ru.wikipedia.org/wiki/%D0%90%D0%BA%D0%BE%D1%81%D0%BE%D0%BC%D0%B1%D0%BE_(%D0%B3%D0%B8%D0%B4%D1%80%D0%BE%D1%8D%D0%BB%D0%B5%D0%BA%D1%82%D1%80%D0%BE%D1%81%D1%82%D0%B0%D0%BD%D1%86%D0%B8%D1%8F)'),\n ('Аксуская ГРЭС',\n  'https://ru.wikipedia.org/wiki/%D0%90%D0%BA%D1%81%D1%83%D1%81%D0%BA%D0%B0%D1%8F_%D0%93%D0%A0%D0%AD%D0%A1'),\n ('ГТЭС Акшабулак',\n  'https://ru.wikipedia.org/wiki/%D0%93%D0%A2%D0%AD%D0%A1_%D0%90%D0%BA%D1%88%D0%B0%D0%B1%D1%83%D0%BB%D0%B0%D0%BA'),\n ('Александровская ГЭС',\n  'https://ru.wikipedia.org/wiki/%D0%90%D0%BB%D0%B5%D0%BA%D1%81%D0%B0%D0%BD%D0%B4%D1%80%D0%BE%D0%B2%D1%81%D0%BA%D0%B0%D1%8F_%D0%93%D0%AD%D0%A1'),\n ('Алексеевская ТЭЦ-3',\n  'https://ru.wikipedia.org/wiki/%D0%90%D0%BB%D0%B5%D0%BA%D1%81%D0%B5%D0%B5%D0%B2%D1%81%D0%BA%D0%B0%D1%8F_%D0%A2%D0%AD%D0%A6-3'),\n ('Алексинская ТЭЦ',\n  'https://ru.wikipedia.org/wiki/%D0%90%D0%BB%D0%B5%D0%BA%D1%81%D0%B8%D0%BD%D1%81%D0%BA%D0%B0%D1%8F_%D0%A2%D0%AD%D0%A6'),\n ('Аллертинский парк утилизации отходов',\n  'https://ru.wikipedia.org/wiki/%D0%90%D0%BB%D0%BB%D0%B5%D1%80%D1%82%D0%B8%D0%BD%D1%81%D0%BA%D0%B8%D0%B9_%D0%BF%D0%B0%D1%80%D0%BA_%D1%83%D1%82%D0%B8%D0%BB%D0%B8%D0%B7%D0%B0%D1%86%D0%B8%D0%B8_%D0%BE%D1%82%D1%85%D0%BE%D0%B4%D0%BE%D0%B2'),\n ('Алматинская ТЭЦ-3',\n  'https://ru.wikipedia.org/wiki/%D0%90%D0%BB%D0%BC%D0%B0%D1%82%D0%B8%D0%BD%D1%81%D0%BA%D0%B0%D1%8F_%D0%A2%D0%AD%D0%A6-3'),\n ('ГЭС Альтенвёрт',\n  'https://ru.wikipedia.org/wiki/%D0%93%D0%AD%D0%A1_%D0%90%D0%BB%D1%8C%D1%82%D0%B5%D0%BD%D0%B2%D1%91%D1%80%D1%82'),\n ('Амагер Бакке',\n  'https://ru.wikipedia.org/wiki/%D0%90%D0%BC%D0%B0%D0%B3%D0%B5%D1%80_%D0%91%D0%B0%D0%BA%D0%BA%D0%B5'),\n ('Аммакоски (гидроэлектростанция)',\n  'https://ru.wikipedia.org/wiki/%D0%90%D0%BC%D0%BC%D0%B0%D0%BA%D0%BE%D1%81%D0%BA%D0%B8_(%D0%B3%D0%B8%D0%B4%D1%80%D0%BE%D1%8D%D0%BB%D0%B5%D0%BA%D1%82%D1%80%D0%BE%D1%81%D1%82%D0%B0%D0%BD%D1%86%D0%B8%D1%8F)'),\n ('Амурская ТЭЦ-1',\n  'https://ru.wikipedia.org/wiki/%D0%90%D0%BC%D1%83%D1%80%D1%81%D0%BA%D0%B0%D1%8F_%D0%A2%D0%AD%D0%A6-1'),\n ('Анабанилья (ГЭС)',\n  'https://ru.wikipedia.org/wiki/%D0%90%D0%BD%D0%B0%D0%B1%D0%B0%D0%BD%D0%B8%D0%BB%D1%8C%D1%8F_(%D0%93%D0%AD%D0%A1)'),\n ('Анадырская ВЭС',\n  'https://ru.wikipedia.org/wiki/%D0%90%D0%BD%D0%B0%D0%B4%D1%8B%D1%80%D1%81%D0%BA%D0%B0%D1%8F_%D0%92%D0%AD%D0%A1'),\n ('Анадырская ГМТЭЦ',\n  'https://ru.wikipedia.org/wiki/%D0%90%D0%BD%D0%B0%D0%B4%D1%8B%D1%80%D1%81%D0%BA%D0%B0%D1%8F_%D0%93%D0%9C%D0%A2%D0%AD%D0%A6'),\n ('Анадырская ТЭЦ',\n  'https://ru.wikipedia.org/wiki/%D0%90%D0%BD%D0%B0%D0%B4%D1%8B%D1%80%D1%81%D0%BA%D0%B0%D1%8F_%D0%A2%D0%AD%D0%A6'),\n ('Ангренская ТЭС',\n  'https://ru.wikipedia.org/wiki/%D0%90%D0%BD%D0%B3%D1%80%D0%B5%D0%BD%D1%81%D0%BA%D0%B0%D1%8F_%D0%A2%D0%AD%D0%A1'),\n ('Андижанская ГЭС',\n  'https://ru.wikipedia.org/wiki/%D0%90%D0%BD%D0%B4%D0%B8%D0%B6%D0%B0%D0%BD%D1%81%D0%BA%D0%B0%D1%8F_%D0%93%D0%AD%D0%A1'),\n ('Апатитская ТЭЦ',\n  'https://ru.wikipedia.org/wiki/%D0%90%D0%BF%D0%B0%D1%82%D0%B8%D1%82%D1%81%D0%BA%D0%B0%D1%8F_%D0%A2%D0%AD%D0%A6'),\n ('Аракс ГЭС',\n  'https://ru.wikipedia.org/wiki/%D0%90%D1%80%D0%B0%D0%BA%D1%81_%D0%93%D0%AD%D0%A1'),\n ('Аргаяшская ТЭЦ',\n  'https://ru.wikipedia.org/wiki/%D0%90%D1%80%D0%B3%D0%B0%D1%8F%D1%88%D1%81%D0%BA%D0%B0%D1%8F_%D0%A2%D0%AD%D0%A6'),\n ('Аргельская ГЭС',\n  'https://ru.wikipedia.org/wiki/%D0%90%D1%80%D0%B3%D0%B5%D0%BB%D1%8C%D1%81%D0%BA%D0%B0%D1%8F_%D0%93%D0%AD%D0%A1'),\n ('Аргунская ТЭЦ',\n  'https://ru.wikipedia.org/wiki/%D0%90%D1%80%D0%B3%D1%83%D0%BD%D1%81%D0%BA%D0%B0%D1%8F_%D0%A2%D0%AD%D0%A6'),\n ('Арзнинская ГЭС',\n  'https://ru.wikipedia.org/wiki/%D0%90%D1%80%D0%B7%D0%BD%D0%B8%D0%BD%D1%81%D0%BA%D0%B0%D1%8F_%D0%93%D0%AD%D0%A1'),\n ('Аркагалинская ГРЭС',\n  'https://ru.wikipedia.org/wiki/%D0%90%D1%80%D0%BA%D0%B0%D0%B3%D0%B0%D0%BB%D0%B8%D0%BD%D1%81%D0%BA%D0%B0%D1%8F_%D0%93%D0%A0%D0%AD%D0%A1'),\n ('Армавирская ТЭЦ',\n  'https://ru.wikipedia.org/wiki/%D0%90%D1%80%D0%BC%D0%B0%D0%B2%D0%B8%D1%80%D1%81%D0%BA%D0%B0%D1%8F_%D0%A2%D0%AD%D0%A6'),\n ('Армянская АЭС',\n  'https://ru.wikipedia.org/wiki/%D0%90%D1%80%D0%BC%D1%8F%D0%BD%D1%81%D0%BA%D0%B0%D1%8F_%D0%90%D0%AD%D0%A1'),\n ('Артёмовская ТЭЦ (Приморский край)',\n  'https://ru.wikipedia.org/wiki/%D0%90%D1%80%D1%82%D1%91%D0%BC%D0%BE%D0%B2%D1%81%D0%BA%D0%B0%D1%8F_%D0%A2%D0%AD%D0%A6_(%D0%9F%D1%80%D0%B8%D0%BC%D0%BE%D1%80%D1%81%D0%BA%D0%B8%D0%B9_%D0%BA%D1%80%D0%B0%D0%B9)'),\n ('Артёмовская ТЭЦ (Свердловская область)',\n  'https://ru.wikipedia.org/wiki/%D0%90%D1%80%D1%82%D1%91%D0%BC%D0%BE%D0%B2%D1%81%D0%BA%D0%B0%D1%8F_%D0%A2%D0%AD%D0%A6_(%D0%A1%D0%B2%D0%B5%D1%80%D0%B4%D0%BB%D0%BE%D0%B2%D1%81%D0%BA%D0%B0%D1%8F_%D0%BE%D0%B1%D0%BB%D0%B0%D1%81%D1%82%D1%8C)'),\n ('Архангельская ТЭЦ',\n  'https://ru.wikipedia.org/wiki/%D0%90%D1%80%D1%85%D0%B0%D0%BD%D0%B3%D0%B5%D0%BB%D1%8C%D1%81%D0%BA%D0%B0%D1%8F_%D0%A2%D0%AD%D0%A6'),\n ('Астраханская ГРЭС',\n  'https://ru.wikipedia.org/wiki/%D0%90%D1%81%D1%82%D1%80%D0%B0%D1%85%D0%B0%D0%BD%D1%81%D0%BA%D0%B0%D1%8F_%D0%93%D0%A0%D0%AD%D0%A1'),\n ('Астраханская ПГУ-235',\n  'https://ru.wikipedia.org/wiki/%D0%90%D1%81%D1%82%D1%80%D0%B0%D1%85%D0%B0%D0%BD%D1%81%D0%BA%D0%B0%D1%8F_%D0%9F%D0%93%D0%A3-235'),\n ('Астраханская ТЭЦ-2',\n  'https://ru.wikipedia.org/wiki/%D0%90%D1%81%D1%82%D1%80%D0%B0%D1%85%D0%B0%D0%BD%D1%81%D0%BA%D0%B0%D1%8F_%D0%A2%D0%AD%D0%A6-2'),\n ('Асуанский гидроузел',\n  'https://ru.wikipedia.org/wiki/%D0%90%D1%81%D1%83%D0%B0%D0%BD%D1%81%D0%BA%D0%B8%D0%B9_%D0%B3%D0%B8%D0%B4%D1%80%D0%BE%D1%83%D0%B7%D0%B5%D0%BB'),\n ('Ат-Башинская ГЭС',\n  'https://ru.wikipedia.org/wiki/%D0%90%D1%82-%D0%91%D0%B0%D1%88%D0%B8%D0%BD%D1%81%D0%BA%D0%B0%D1%8F_%D0%93%D0%AD%D0%A1'),\n ('Ататюрк (ГЭС)',\n  'https://ru.wikipedia.org/wiki/%D0%90%D1%82%D0%B0%D1%82%D1%8E%D1%80%D0%BA_(%D0%93%D0%AD%D0%A1)'),\n ('ТЭС Атлон',\n  'https://ru.wikipedia.org/wiki/%D0%A2%D0%AD%D0%A1_%D0%90%D1%82%D0%BB%D0%BE%D0%BD'),\n ('Атомная энергетика Венгрии',\n  'https://ru.wikipedia.org/wiki/%D0%90%D1%82%D0%BE%D0%BC%D0%BD%D0%B0%D1%8F_%D1%8D%D0%BD%D0%B5%D1%80%D0%B3%D0%B5%D1%82%D0%B8%D0%BA%D0%B0_%D0%92%D0%B5%D0%BD%D0%B3%D1%80%D0%B8%D0%B8'),\n ('Атырауская ТЭЦ',\n  'https://ru.wikipedia.org/wiki/%D0%90%D1%82%D1%8B%D1%80%D0%B0%D1%83%D1%81%D0%BA%D0%B0%D1%8F_%D0%A2%D0%AD%D0%A6'),\n ('Аушигерская ГЭС',\n  'https://ru.wikipedia.org/wiki/%D0%90%D1%83%D1%88%D0%B8%D0%B3%D0%B5%D1%80%D1%81%D0%BA%D0%B0%D1%8F_%D0%93%D0%AD%D0%A1'),\n ('Ахтынская ГЭС',\n  'https://ru.wikipedia.org/wiki/%D0%90%D1%85%D1%82%D1%8B%D0%BD%D1%81%D0%BA%D0%B0%D1%8F_%D0%93%D0%AD%D0%A1'),\n ('Ахтырская ТЭЦ',\n  'https://ru.wikipedia.org/wiki/%D0%90%D1%85%D1%82%D1%8B%D1%80%D1%81%D0%BA%D0%B0%D1%8F_%D0%A2%D0%AD%D0%A6'),\n ('Ашхабадская ГЭС',\n  'https://ru.wikipedia.org/wiki/%D0%90%D1%88%D1%85%D0%B0%D0%B1%D0%B0%D0%B4%D1%81%D0%BA%D0%B0%D1%8F_%D0%93%D0%AD%D0%A1'),\n ('АЭС «Белене»',\n  'https://ru.wikipedia.org/wiki/%D0%90%D0%AD%D0%A1_%C2%AB%D0%91%D0%B5%D0%BB%D0%B5%D0%BD%D0%B5%C2%BB'),\n ('АЭС «Дукованы»',\n  'https://ru.wikipedia.org/wiki/%D0%90%D0%AD%D0%A1_%C2%AB%D0%94%D1%83%D0%BA%D0%BE%D0%B2%D0%B0%D0%BD%D1%8B%C2%BB'),\n ('АЭС «Игнеада»',\n  'https://ru.wikipedia.org/wiki/%D0%90%D0%AD%D0%A1_%C2%AB%D0%98%D0%B3%D0%BD%D0%B5%D0%B0%D0%B4%D0%B0%C2%BB'),\n ('АЭС «Козлодуй»',\n  'https://ru.wikipedia.org/wiki/%D0%90%D0%AD%D0%A1_%C2%AB%D0%9A%D0%BE%D0%B7%D0%BB%D0%BE%D0%B4%D1%83%D0%B9%C2%BB'),\n ('АЭС «Ловииса»',\n  'https://ru.wikipedia.org/wiki/%D0%90%D0%AD%D0%A1_%C2%AB%D0%9B%D0%BE%D0%B2%D0%B8%D0%B8%D1%81%D0%B0%C2%BB'),\n ('АЭС «Олкилуото»',\n  'https://ru.wikipedia.org/wiki/%D0%90%D0%AD%D0%A1_%C2%AB%D0%9E%D0%BB%D0%BA%D0%B8%D0%BB%D1%83%D0%BE%D1%82%D0%BE%C2%BB'),\n ('АЭС «Синоп»',\n  'https://ru.wikipedia.org/wiki/%D0%90%D0%AD%D0%A1_%C2%AB%D0%A1%D0%B8%D0%BD%D0%BE%D0%BF%C2%BB'),\n ('АЭС «Ханхикиви-1»',\n  'https://ru.wikipedia.org/wiki/%D0%90%D0%AD%D0%A1_%C2%AB%D0%A5%D0%B0%D0%BD%D1%85%D0%B8%D0%BA%D0%B8%D0%B2%D0%B8-1%C2%BB'),\n ('АЭС «Хинкли-Пойнт»',\n  'https://ru.wikipedia.org/wiki/%D0%90%D0%AD%D0%A1_%C2%AB%D0%A5%D0%B8%D0%BD%D0%BA%D0%BB%D0%B8-%D0%9F%D0%BE%D0%B9%D0%BD%D1%82%C2%BB'),\n ('АЭС Альмарас',\n  'https://ru.wikipedia.org/wiki/%D0%90%D0%AD%D0%A1_%D0%90%D0%BB%D1%8C%D0%BC%D0%B0%D1%80%D0%B0%D1%81'),\n ('АЭС Арканзас',\n  'https://ru.wikipedia.org/wiki/%D0%90%D0%AD%D0%A1_%D0%90%D1%80%D0%BA%D0%B0%D0%BD%D0%B7%D0%B0%D1%81'),\n ('АЭС Аско',\n  'https://ru.wikipedia.org/wiki/%D0%90%D0%AD%D0%A1_%D0%90%D1%81%D0%BA%D0%BE'),\n ('АЭС Атуча',\n  'https://ru.wikipedia.org/wiki/%D0%90%D0%AD%D0%A1_%D0%90%D1%82%D1%83%D1%87%D0%B0'),\n ('АЭС Байрон',\n  'https://ru.wikipedia.org/wiki/%D0%90%D0%AD%D0%A1_%D0%91%D0%B0%D0%B9%D1%80%D0%BE%D0%BD'),\n ('АЭС Барака',\n  'https://ru.wikipedia.org/wiki/%D0%90%D0%AD%D0%A1_%D0%91%D0%B0%D1%80%D0%B0%D0%BA%D0%B0'),\n ('АЭС Барсебек',\n  'https://ru.wikipedia.org/wiki/%D0%90%D0%AD%D0%A1_%D0%91%D0%B0%D1%80%D1%81%D0%B5%D0%B1%D0%B5%D0%BA'),\n ('АЭС Бельвиль',\n  'https://ru.wikipedia.org/wiki/%D0%90%D0%AD%D0%A1_%D0%91%D0%B5%D0%BB%D1%8C%D0%B2%D0%B8%D0%BB%D1%8C'),\n ('АЭС Бецнау',\n  'https://ru.wikipedia.org/wiki/%D0%90%D0%AD%D0%A1_%D0%91%D0%B5%D1%86%D0%BD%D0%B0%D1%83'),\n ('АЭС Библис',\n  'https://ru.wikipedia.org/wiki/%D0%90%D0%AD%D0%A1_%D0%91%D0%B8%D0%B1%D0%BB%D0%B8%D1%81'),\n ('АЭС Бивер-Валли',\n  'https://ru.wikipedia.org/wiki/%D0%90%D0%AD%D0%A1_%D0%91%D0%B8%D0%B2%D0%B5%D1%80-%D0%92%D0%B0%D0%BB%D0%BB%D0%B8'),\n ('АЭС Блайе',\n  'https://ru.wikipedia.org/wiki/%D0%90%D0%AD%D0%A1_%D0%91%D0%BB%D0%B0%D0%B9%D0%B5'),\n ('АЭС Богунице',\n  'https://ru.wikipedia.org/wiki/%D0%90%D0%AD%D0%A1_%D0%91%D0%BE%D0%B3%D1%83%D0%BD%D0%B8%D1%86%D0%B5'),\n ('АЭС Борселе',\n  'https://ru.wikipedia.org/wiki/%D0%90%D0%AD%D0%A1_%D0%91%D0%BE%D1%80%D1%81%D0%B5%D0%BB%D0%B5'),\n ('АЭС Брансуик',\n  'https://ru.wikipedia.org/wiki/%D0%90%D0%AD%D0%A1_%D0%91%D1%80%D0%B0%D0%BD%D1%81%D1%83%D0%B8%D0%BA'),\n ('АЭС Браунз-Ферри',\n  'https://ru.wikipedia.org/wiki/%D0%90%D0%AD%D0%A1_%D0%91%D1%80%D0%B0%D1%83%D0%BD%D0%B7-%D0%A4%D0%B5%D1%80%D1%80%D0%B8'),\n ('АЭС Бреннилис',\n  'https://ru.wikipedia.org/wiki/%D0%90%D0%AD%D0%A1_%D0%91%D1%80%D0%B5%D0%BD%D0%BD%D0%B8%D0%BB%D0%B8%D1%81'),\n ('АЭС Брокдорф',\n  'https://ru.wikipedia.org/wiki/%D0%90%D0%AD%D0%A1_%D0%91%D1%80%D0%BE%D0%BA%D0%B4%D0%BE%D1%80%D1%84'),\n ('АЭС Брунсбюттель',\n  'https://ru.wikipedia.org/wiki/%D0%90%D0%AD%D0%A1_%D0%91%D1%80%D1%83%D0%BD%D1%81%D0%B1%D1%8E%D1%82%D1%82%D0%B5%D0%BB%D1%8C'),\n ('АЭС Брэйдвуд',\n  'https://ru.wikipedia.org/wiki/%D0%90%D0%AD%D0%A1_%D0%91%D1%80%D1%8D%D0%B9%D0%B4%D0%B2%D1%83%D0%B4'),\n ('АЭС Брюс',\n  'https://ru.wikipedia.org/wiki/%D0%90%D0%AD%D0%A1_%D0%91%D1%80%D1%8E%D1%81'),\n ('АЭС Бюже',\n  'https://ru.wikipedia.org/wiki/%D0%90%D0%AD%D0%A1_%D0%91%D1%8E%D0%B6%D0%B5'),\n ('АЭС в Джизакской области Узбекистана',\n  'https://ru.wikipedia.org/wiki/%D0%90%D0%AD%D0%A1_%D0%B2_%D0%94%D0%B6%D0%B8%D0%B7%D0%B0%D0%BA%D1%81%D0%BA%D0%BE%D0%B9_%D0%BE%D0%B1%D0%BB%D0%B0%D1%81%D1%82%D0%B8_%D0%A3%D0%B7%D0%B1%D0%B5%D0%BA%D0%B8%D1%81%D1%82%D0%B0%D0%BD%D0%B0'),\n ('АЭС Вандельос',\n  'https://ru.wikipedia.org/wiki/%D0%90%D0%AD%D0%A1_%D0%92%D0%B0%D0%BD%D0%B4%D0%B5%D0%BB%D1%8C%D0%BE%D1%81'),\n ('АЭС Вермонт Янки',\n  'https://ru.wikipedia.org/wiki/%D0%90%D0%AD%D0%A1_%D0%92%D0%B5%D1%80%D0%BC%D0%BE%D0%BD%D1%82_%D0%AF%D0%BD%D0%BA%D0%B8'),\n ('АЭС Ви-Си Саммер',\n  'https://ru.wikipedia.org/wiki/%D0%90%D0%AD%D0%A1_%D0%92%D0%B8-%D0%A1%D0%B8_%D0%A1%D0%B0%D0%BC%D0%BC%D0%B5%D1%80'),\n ('АЭС Вогтль',\n  'https://ru.wikipedia.org/wiki/%D0%90%D0%AD%D0%A1_%D0%92%D0%BE%D0%B3%D1%82%D0%BB%D1%8C'),\n ('АЭС Волф Крик',\n  'https://ru.wikipedia.org/wiki/%D0%90%D0%AD%D0%A1_%D0%92%D0%BE%D0%BB%D1%84_%D0%9A%D1%80%D0%B8%D0%BA'),\n ('АЭС Вольсон',\n  'https://ru.wikipedia.org/wiki/%D0%90%D0%AD%D0%A1_%D0%92%D0%BE%D0%BB%D1%8C%D1%81%D0%BE%D0%BD'),\n ('АЭС Вюргассен',\n  'https://ru.wikipedia.org/wiki/%D0%90%D0%AD%D0%A1_%D0%92%D1%8E%D1%80%D0%B3%D0%B0%D1%81%D1%81%D0%B5%D0%BD'),\n ('АЭС Гарильяно',\n  'https://ru.wikipedia.org/wiki/%D0%90%D0%AD%D0%A1_%D0%93%D0%B0%D1%80%D0%B8%D0%BB%D1%8C%D1%8F%D0%BD%D0%BE'),\n ('АЭС Генкай',\n  'https://ru.wikipedia.org/wiki/%D0%90%D0%AD%D0%A1_%D0%93%D0%B5%D0%BD%D0%BA%D0%B0%D0%B9'),\n ('АЭС Гёсген',\n  'https://ru.wikipedia.org/wiki/%D0%90%D0%AD%D0%A1_%D0%93%D1%91%D1%81%D0%B3%D0%B5%D0%BD'),\n ('АЭС Гольфеш',\n  'https://ru.wikipedia.org/wiki/%D0%90%D0%AD%D0%A1_%D0%93%D0%BE%D0%BB%D1%8C%D1%84%D0%B5%D1%88'),\n ('АЭС Гравлин',\n  'https://ru.wikipedia.org/wiki/%D0%90%D0%AD%D0%A1_%D0%93%D1%80%D0%B0%D0%B2%D0%BB%D0%B8%D0%BD'),\n ('АЭС Грайфсвальд',\n  'https://ru.wikipedia.org/wiki/%D0%90%D0%AD%D0%A1_%D0%93%D1%80%D0%B0%D0%B9%D1%84%D1%81%D0%B2%D0%B0%D0%BB%D1%8C%D0%B4'),\n ('АЭС Гранд-Галф',\n  'https://ru.wikipedia.org/wiki/%D0%90%D0%AD%D0%A1_%D0%93%D1%80%D0%B0%D0%BD%D0%B4-%D0%93%D0%B0%D0%BB%D1%84'),\n ('АЭС Графенрайнфельд',\n  'https://ru.wikipedia.org/wiki/%D0%90%D0%AD%D0%A1_%D0%93%D1%80%D0%B0%D1%84%D0%B5%D0%BD%D1%80%D0%B0%D0%B9%D0%BD%D1%84%D0%B5%D0%BB%D1%8C%D0%B4'),\n ('АЭС Гронде',\n  'https://ru.wikipedia.org/wiki/%D0%90%D0%AD%D0%A1_%D0%93%D1%80%D0%BE%D0%BD%D0%B4%D0%B5'),\n ('АЭС Гросвельцхайм',\n  'https://ru.wikipedia.org/wiki/%D0%90%D0%AD%D0%A1_%D0%93%D1%80%D0%BE%D1%81%D0%B2%D0%B5%D0%BB%D1%8C%D1%86%D1%85%D0%B0%D0%B9%D0%BC'),\n ('АЭС Гундремминген',\n  'https://ru.wikipedia.org/wiki/%D0%90%D0%AD%D0%A1_%D0%93%D1%83%D0%BD%D0%B4%D1%80%D0%B5%D0%BC%D0%BC%D0%B8%D0%BD%D0%B3%D0%B5%D0%BD'),\n ('АЭС Дампьер',\n  'https://ru.wikipedia.org/wiki/%D0%90%D0%AD%D0%A1_%D0%94%D0%B0%D0%BC%D0%BF%D1%8C%D0%B5%D1%80'),\n ('АЭС Дандженесс',\n  'https://ru.wikipedia.org/wiki/%D0%90%D0%AD%D0%A1_%D0%94%D0%B0%D0%BD%D0%B4%D0%B6%D0%B5%D0%BD%D0%B5%D1%81%D1%81'),\n ('АЭС Дарлингтон',\n  'https://ru.wikipedia.org/wiki/%D0%90%D0%AD%D0%A1_%D0%94%D0%B0%D1%80%D0%BB%D0%B8%D0%BD%D0%B3%D1%82%D0%BE%D0%BD'),\n ('АЭС Даявань',\n  'https://ru.wikipedia.org/wiki/%D0%90%D0%AD%D0%A1_%D0%94%D0%B0%D1%8F%D0%B2%D0%B0%D0%BD%D1%8C'),\n ('АЭС Джентилли',\n  'https://ru.wikipedia.org/wiki/%D0%90%D0%AD%D0%A1_%D0%94%D0%B6%D0%B5%D0%BD%D1%82%D0%B8%D0%BB%D0%BB%D0%B8'),\n ('АЭС Джинна',\n  'https://ru.wikipedia.org/wiki/%D0%90%D0%AD%D0%A1_%D0%94%D0%B6%D0%B8%D0%BD%D0%BD%D0%B0'),\n ('АЭС Додевард',\n  'https://ru.wikipedia.org/wiki/%D0%90%D0%AD%D0%A1_%D0%94%D0%BE%D0%B4%D0%B5%D0%B2%D0%B0%D1%80%D0%B4'),\n ('АЭС Дональд Кук',\n  'https://ru.wikipedia.org/wiki/%D0%90%D0%AD%D0%A1_%D0%94%D0%BE%D0%BD%D0%B0%D0%BB%D1%8C%D0%B4_%D0%9A%D1%83%D0%BA'),\n ('АЭС Дрезден',\n  'https://ru.wikipedia.org/wiki/%D0%90%D0%AD%D0%A1_%D0%94%D1%80%D0%B5%D0%B7%D0%B4%D0%B5%D0%BD'),\n ('АЭС Дуглас-Пойнт',\n  'https://ru.wikipedia.org/wiki/%D0%90%D0%AD%D0%A1_%D0%94%D1%83%D0%B3%D0%BB%D0%B0%D1%81-%D0%9F%D0%BE%D0%B9%D0%BD%D1%82'),\n ('АЭС Дул',\n  'https://ru.wikipedia.org/wiki/%D0%90%D0%AD%D0%A1_%D0%94%D1%83%D0%BB'),\n ('АЭС Дуэйн-Арнольд',\n  'https://ru.wikipedia.org/wiki/%D0%90%D0%AD%D0%A1_%D0%94%D1%83%D1%8D%D0%B9%D0%BD-%D0%90%D1%80%D0%BD%D0%BE%D0%BB%D1%8C%D0%B4'),\n ('АЭС Дьябло Каньон',\n  'https://ru.wikipedia.org/wiki/%D0%90%D0%AD%D0%A1_%D0%94%D1%8C%D1%8F%D0%B1%D0%BB%D0%BE_%D0%9A%D0%B0%D0%BD%D1%8C%D0%BE%D0%BD'),\n ('АЭС Дэвис-Бесс',\n  'https://ru.wikipedia.org/wiki/%D0%90%D0%AD%D0%A1_%D0%94%D1%8D%D0%B2%D0%B8%D1%81-%D0%91%D0%B5%D1%81%D1%81'),\n ('АЭС Жарновец',\n  'https://ru.wikipedia.org/wiki/%D0%90%D0%AD%D0%A1_%D0%96%D0%B0%D1%80%D0%BD%D0%BE%D0%B2%D0%B5%D1%86'),\n ('АЭС Зион',\n  'https://ru.wikipedia.org/wiki/%D0%90%D0%AD%D0%A1_%D0%97%D0%B8%D0%BE%D0%BD'),\n ('АЭС Изар',\n  'https://ru.wikipedia.org/wiki/%D0%90%D0%AD%D0%A1_%D0%98%D0%B7%D0%B0%D1%80'),\n ('АЭС Иката',\n  'https://ru.wikipedia.org/wiki/%D0%90%D0%AD%D0%A1_%D0%98%D0%BA%D0%B0%D1%82%D0%B0'),\n ('АЭС имени адмирала Алваро Алберто',\n  'https://ru.wikipedia.org/wiki/%D0%90%D0%AD%D0%A1_%D0%B8%D0%BC%D0%B5%D0%BD%D0%B8_%D0%B0%D0%B4%D0%BC%D0%B8%D1%80%D0%B0%D0%BB%D0%B0_%D0%90%D0%BB%D0%B2%D0%B0%D1%80%D0%BE_%D0%90%D0%BB%D0%B1%D0%B5%D1%80%D1%82%D0%BE'),\n ('АЭС Индиан-Пойнт',\n  'https://ru.wikipedia.org/wiki/%D0%90%D0%AD%D0%A1_%D0%98%D0%BD%D0%B4%D0%B8%D0%B0%D0%BD-%D0%9F%D0%BE%D0%B9%D0%BD%D1%82'),\n ('АЭС Кайга',\n  'https://ru.wikipedia.org/wiki/%D0%90%D0%AD%D0%A1_%D0%9A%D0%B0%D0%B9%D0%B3%D0%B0'),\n ('АЭС Какрапар',\n  'https://ru.wikipedia.org/wiki/%D0%90%D0%AD%D0%A1_%D0%9A%D0%B0%D0%BA%D1%80%D0%B0%D0%BF%D0%B0%D1%80'),\n ('АЭС Калверт-Клифс',\n  'https://ru.wikipedia.org/wiki/%D0%90%D0%AD%D0%A1_%D0%9A%D0%B0%D0%BB%D0%B2%D0%B5%D1%80%D1%82-%D0%9A%D0%BB%D0%B8%D1%84%D1%81'),\n ('АЭС Каллауэй',\n  'https://ru.wikipedia.org/wiki/%D0%90%D0%AD%D0%A1_%D0%9A%D0%B0%D0%BB%D0%BB%D0%B0%D1%83%D1%8D%D0%B9'),\n ('АЭС Каль',\n  'https://ru.wikipedia.org/wiki/%D0%90%D0%AD%D0%A1_%D0%9A%D0%B0%D0%BB%D1%8C'),\n ('АЭС Каорсо',\n  'https://ru.wikipedia.org/wiki/%D0%90%D0%AD%D0%A1_%D0%9A%D0%B0%D0%BE%D1%80%D1%81%D0%BE'),\n ('АЭС Карачи',\n  'https://ru.wikipedia.org/wiki/%D0%90%D0%AD%D0%A1_%D0%9A%D0%B0%D1%80%D0%B0%D1%87%D0%B8'),\n ('АЭС Касивадзаки-Карива',\n  'https://ru.wikipedia.org/wiki/%D0%90%D0%AD%D0%A1_%D0%9A%D0%B0%D1%81%D0%B8%D0%B2%D0%B0%D0%B4%D0%B7%D0%B0%D0%BA%D0%B8-%D0%9A%D0%B0%D1%80%D0%B8%D0%B2%D0%B0'),\n ('АЭС Катоба',\n  'https://ru.wikipedia.org/wiki/%D0%90%D0%AD%D0%A1_%D0%9A%D0%B0%D1%82%D0%BE%D0%B1%D0%B0'),\n ('АЭС Каттеном',\n  'https://ru.wikipedia.org/wiki/%D0%90%D0%AD%D0%A1_%D0%9A%D0%B0%D1%82%D1%82%D0%B5%D0%BD%D0%BE%D0%BC'),\n ('АЭС Квод Ситис',\n  'https://ru.wikipedia.org/wiki/%D0%90%D0%AD%D0%A1_%D0%9A%D0%B2%D0%BE%D0%B4_%D0%A1%D0%B8%D1%82%D0%B8%D1%81'),\n ('АЭС Кевони',\n  'https://ru.wikipedia.org/wiki/%D0%90%D0%AD%D0%A1_%D0%9A%D0%B5%D0%B2%D0%BE%D0%BD%D0%B8'),\n ('АЭС Клинтон',\n  'https://ru.wikipedia.org/wiki/%D0%90%D0%AD%D0%A1_%D0%9A%D0%BB%D0%B8%D0%BD%D1%82%D0%BE%D0%BD'),\n ('АЭС Коберг',\n  'https://ru.wikipedia.org/wiki/%D0%90%D0%AD%D0%A1_%D0%9A%D0%BE%D0%B1%D0%B5%D1%80%D0%B3'),\n ('АЭС Колумбия',\n  'https://ru.wikipedia.org/wiki/%D0%90%D0%AD%D0%A1_%D0%9A%D0%BE%D0%BB%D1%83%D0%BC%D0%B1%D0%B8%D1%8F'),\n ('АЭС Команчи-Пик',\n  'https://ru.wikipedia.org/wiki/%D0%90%D0%AD%D0%A1_%D0%9A%D0%BE%D0%BC%D0%B0%D0%BD%D1%87%D0%B8-%D0%9F%D0%B8%D0%BA'),\n ('АЭС Коннектикут Янки',\n  'https://ru.wikipedia.org/wiki/%D0%90%D0%AD%D0%A1_%D0%9A%D0%BE%D0%BD%D0%BD%D0%B5%D0%BA%D1%82%D0%B8%D0%BA%D1%83%D1%82_%D0%AF%D0%BD%D0%BA%D0%B8'),\n ('АЭС Кори',\n  'https://ru.wikipedia.org/wiki/%D0%90%D0%AD%D0%A1_%D0%9A%D0%BE%D1%80%D0%B8'),\n ('АЭС Кофрентес',\n  'https://ru.wikipedia.org/wiki/%D0%90%D0%AD%D0%A1_%D0%9A%D0%BE%D1%84%D1%80%D0%B5%D0%BD%D1%82%D0%B5%D1%81'),\n ('АЭС Крей-Мальвиль',\n  'https://ru.wikipedia.org/wiki/%D0%90%D0%AD%D0%A1_%D0%9A%D1%80%D0%B5%D0%B9-%D0%9C%D0%B0%D0%BB%D1%8C%D0%B2%D0%B8%D0%BB%D1%8C'),\n ('АЭС Кристал Ривер',\n  'https://ru.wikipedia.org/wiki/%D0%90%D0%AD%D0%A1_%D0%9A%D1%80%D0%B8%D1%81%D1%82%D0%B0%D0%BB_%D0%A0%D0%B8%D0%B2%D0%B5%D1%80'),\n ('АЭС Кршко',\n  'https://ru.wikipedia.org/wiki/%D0%90%D0%AD%D0%A1_%D0%9A%D1%80%D1%88%D0%BA%D0%BE'),\n ('АЭС Крюа',\n  'https://ru.wikipedia.org/wiki/%D0%90%D0%AD%D0%A1_%D0%9A%D1%80%D1%8E%D0%B0'),\n ('АЭС Крюммель',\n  'https://ru.wikipedia.org/wiki/%D0%90%D0%AD%D0%A1_%D0%9A%D1%80%D1%8E%D0%BC%D0%BC%D0%B5%D0%BB%D1%8C'),\n ('АЭС Куданкулам',\n  'https://ru.wikipedia.org/wiki/%D0%90%D0%AD%D0%A1_%D0%9A%D1%83%D0%B4%D0%B0%D0%BD%D0%BA%D1%83%D0%BB%D0%B0%D0%BC'),\n ('АЭС Куошен',\n  'https://ru.wikipedia.org/wiki/%D0%90%D0%AD%D0%A1_%D0%9A%D1%83%D0%BE%D1%88%D0%B5%D0%BD'),\n ('АЭС Купер',\n  'https://ru.wikipedia.org/wiki/%D0%90%D0%AD%D0%A1_%D0%9A%D1%83%D0%BF%D0%B5%D1%80'),\n ('АЭС Лагуна-Верде',\n  'https://ru.wikipedia.org/wiki/%D0%90%D0%AD%D0%A1_%D0%9B%D0%B0%D0%B3%D1%83%D0%BD%D0%B0-%D0%92%D0%B5%D1%80%D0%B4%D0%B5'),\n ('АЭС Лайбштадт',\n  'https://ru.wikipedia.org/wiki/%D0%90%D0%AD%D0%A1_%D0%9B%D0%B0%D0%B9%D0%B1%D1%88%D1%82%D0%B0%D0%B4%D1%82'),\n ('АЭС Ласаль',\n  'https://ru.wikipedia.org/wiki/%D0%90%D0%AD%D0%A1_%D0%9B%D0%B0%D1%81%D0%B0%D0%BB%D1%8C'),\n ('АЭС Латина',\n  'https://ru.wikipedia.org/wiki/%D0%90%D0%AD%D0%A1_%D0%9B%D0%B0%D1%82%D0%B8%D0%BD%D0%B0'),\n ('АЭС Лимерик',\n  'https://ru.wikipedia.org/wiki/%D0%90%D0%AD%D0%A1_%D0%9B%D0%B8%D0%BC%D0%B5%D1%80%D0%B8%D0%BA'),\n ('АЭС Линген',\n  'https://ru.wikipedia.org/wiki/%D0%90%D0%AD%D0%A1_%D0%9B%D0%B8%D0%BD%D0%B3%D0%B5%D0%BD'),\n ('АЭС Линьао',\n  'https://ru.wikipedia.org/wiki/%D0%90%D0%AD%D0%A1_%D0%9B%D0%B8%D0%BD%D1%8C%D0%B0%D0%BE'),\n ('АЭС Лунгмень',\n  'https://ru.wikipedia.org/wiki/%D0%90%D0%AD%D0%A1_%D0%9B%D1%83%D0%BD%D0%B3%D0%BC%D0%B5%D0%BD%D1%8C'),\n ('АЭС Мааншан',\n  'https://ru.wikipedia.org/wiki/%D0%90%D0%AD%D0%A1_%D0%9C%D0%B0%D0%B0%D0%BD%D1%88%D0%B0%D0%BD'),\n ('АЭС Мадрас',\n  'https://ru.wikipedia.org/wiki/%D0%90%D0%AD%D0%A1_%D0%9C%D0%B0%D0%B4%D1%80%D0%B0%D1%81'),\n ('АЭС Макгуайр',\n  'https://ru.wikipedia.org/wiki/%D0%90%D0%AD%D0%A1_%D0%9C%D0%B0%D0%BA%D0%B3%D1%83%D0%B0%D0%B9%D1%80'),\n ('АЭС Милстоун',\n  'https://ru.wikipedia.org/wiki/%D0%90%D0%AD%D0%A1_%D0%9C%D0%B8%D0%BB%D1%81%D1%82%D0%BE%D1%83%D0%BD'),\n ('АЭС Михама',\n  'https://ru.wikipedia.org/wiki/%D0%90%D0%AD%D0%A1_%D0%9C%D0%B8%D1%85%D0%B0%D0%BC%D0%B0'),\n ('АЭС Мондзю',\n  'https://ru.wikipedia.org/wiki/%D0%90%D0%AD%D0%A1_%D0%9C%D0%BE%D0%BD%D0%B4%D0%B7%D1%8E'),\n ('АЭС Монтичелло',\n  'https://ru.wikipedia.org/wiki/%D0%90%D0%AD%D0%A1_%D0%9C%D0%BE%D0%BD%D1%82%D0%B8%D1%87%D0%B5%D0%BB%D0%BB%D0%BE'),\n ('АЭС Моховце',\n  'https://ru.wikipedia.org/wiki/%D0%90%D0%AD%D0%A1_%D0%9C%D0%BE%D1%85%D0%BE%D0%B2%D1%86%D0%B5'),\n ('АЭС Мэн Янки',\n  'https://ru.wikipedia.org/wiki/%D0%90%D0%AD%D0%A1_%D0%9C%D1%8D%D0%BD_%D0%AF%D0%BD%D0%BA%D0%B8'),\n ('АЭС Мюлеберг',\n  'https://ru.wikipedia.org/wiki/%D0%90%D0%AD%D0%A1_%D0%9C%D1%8E%D0%BB%D0%B5%D0%B1%D0%B5%D1%80%D0%B3'),\n ('АЭС Мюльхайм-Керлих',\n  'https://ru.wikipedia.org/wiki/%D0%90%D0%AD%D0%A1_%D0%9C%D1%8E%D0%BB%D1%8C%D1%85%D0%B0%D0%B9%D0%BC-%D0%9A%D0%B5%D1%80%D0%BB%D0%B8%D1%85'),\n ('АЭС Найн-Майл-Пойнт',\n  'https://ru.wikipedia.org/wiki/%D0%90%D0%AD%D0%A1_%D0%9D%D0%B0%D0%B9%D0%BD-%D0%9C%D0%B0%D0%B9%D0%BB-%D0%9F%D0%BE%D0%B9%D0%BD%D1%82'),\n ('АЭС Нарора',\n  'https://ru.wikipedia.org/wiki/%D0%90%D0%AD%D0%A1_%D0%9D%D0%B0%D1%80%D0%BE%D1%80%D0%B0'),\n ('АЭС Неккарвестхайм',\n  'https://ru.wikipedia.org/wiki/%D0%90%D0%AD%D0%A1_%D0%9D%D0%B5%D0%BA%D0%BA%D0%B0%D1%80%D0%B2%D0%B5%D1%81%D1%82%D1%85%D0%B0%D0%B9%D0%BC'),\n ('АЭС Нидерайхбах',\n  'https://ru.wikipedia.org/wiki/%D0%90%D0%AD%D0%A1_%D0%9D%D0%B8%D0%B4%D0%B5%D1%80%D0%B0%D0%B9%D1%85%D0%B1%D0%B0%D1%85'),\n ('АЭС Ниндэ',\n  'https://ru.wikipedia.org/wiki/%D0%90%D0%AD%D0%A1_%D0%9D%D0%B8%D0%BD%D0%B4%D1%8D'),\n ('АЭС Ножан',\n  'https://ru.wikipedia.org/wiki/%D0%90%D0%AD%D0%A1_%D0%9D%D0%BE%D0%B6%D0%B0%D0%BD'),\n ('АЭС Норт Анна',\n  'https://ru.wikipedia.org/wiki/%D0%90%D0%AD%D0%A1_%D0%9D%D0%BE%D1%80%D1%82_%D0%90%D0%BD%D0%BD%D0%B0'),\n ('АЭС Обригхайм',\n  'https://ru.wikipedia.org/wiki/%D0%90%D0%AD%D0%A1_%D0%9E%D0%B1%D1%80%D0%B8%D0%B3%D1%85%D0%B0%D0%B9%D0%BC'),\n ('АЭС Огеста',\n  'https://ru.wikipedia.org/wiki/%D0%90%D0%AD%D0%A1_%D0%9E%D0%B3%D0%B5%D1%81%D1%82%D0%B0'),\n ('АЭС Ои', 'https://ru.wikipedia.org/wiki/%D0%90%D0%AD%D0%A1_%D0%9E%D0%B8'),\n ('АЭС Ойстер-Крик',\n  'https://ru.wikipedia.org/wiki/%D0%90%D0%AD%D0%A1_%D0%9E%D0%B9%D1%81%D1%82%D0%B5%D1%80-%D0%9A%D1%80%D0%B8%D0%BA'),\n ('АЭС Окони',\n  'https://ru.wikipedia.org/wiki/%D0%90%D0%AD%D0%A1_%D0%9E%D0%BA%D0%BE%D0%BD%D0%B8'),\n ('АЭС Ома',\n  'https://ru.wikipedia.org/wiki/%D0%90%D0%AD%D0%A1_%D0%9E%D0%BC%D0%B0'),\n ('АЭС Онагава',\n  'https://ru.wikipedia.org/wiki/%D0%90%D0%AD%D0%A1_%D0%9E%D0%BD%D0%B0%D0%B3%D0%B0%D0%B2%D0%B0'),\n ('АЭС Оскарсхамн',\n  'https://ru.wikipedia.org/wiki/%D0%90%D0%AD%D0%A1_%D0%9E%D1%81%D0%BA%D0%B0%D1%80%D1%81%D1%85%D0%B0%D0%BC%D0%BD'),\n ('АЭС Пакш',\n  'https://ru.wikipedia.org/wiki/%D0%90%D0%AD%D0%A1_%D0%9F%D0%B0%D0%BA%D1%88'),\n ('АЭС Палисадес',\n  'https://ru.wikipedia.org/wiki/%D0%90%D0%AD%D0%A1_%D0%9F%D0%B0%D0%BB%D0%B8%D1%81%D0%B0%D0%B4%D0%B5%D1%81'),\n ('АЭС Пало-Верде',\n  'https://ru.wikipedia.org/wiki/%D0%90%D0%AD%D0%A1_%D0%9F%D0%B0%D0%BB%D0%BE-%D0%92%D0%B5%D1%80%D0%B4%D0%B5'),\n ('АЭС Палюэль',\n  'https://ru.wikipedia.org/wiki/%D0%90%D0%AD%D0%A1_%D0%9F%D0%B0%D0%BB%D1%8E%D1%8D%D0%BB%D1%8C'),\n ('АЭС Пенли',\n  'https://ru.wikipedia.org/wiki/%D0%90%D0%AD%D0%A1_%D0%9F%D0%B5%D0%BD%D0%BB%D0%B8'),\n ('АЭС Перри',\n  'https://ru.wikipedia.org/wiki/%D0%90%D0%AD%D0%A1_%D0%9F%D0%B5%D1%80%D1%80%D0%B8'),\n ('АЭС Пикеринг',\n  'https://ru.wikipedia.org/wiki/%D0%90%D0%AD%D0%A1_%D0%9F%D0%B8%D0%BA%D0%B5%D1%80%D0%B8%D0%BD%D0%B3'),\n ('АЭС Пилигрим',\n  'https://ru.wikipedia.org/wiki/%D0%90%D0%AD%D0%A1_%D0%9F%D0%B8%D0%BB%D0%B8%D0%B3%D1%80%D0%B8%D0%BC'),\n ('АЭС Пич-Боттом',\n  'https://ru.wikipedia.org/wiki/%D0%90%D0%AD%D0%A1_%D0%9F%D0%B8%D1%87-%D0%91%D0%BE%D1%82%D1%82%D0%BE%D0%BC'),\n ('АЭС Пойнт-Бич',\n  'https://ru.wikipedia.org/wiki/%D0%90%D0%AD%D0%A1_%D0%9F%D0%BE%D0%B9%D0%BD%D1%82-%D0%91%D0%B8%D1%87'),\n ('АЭС Пойнт-Лепро',\n  'https://ru.wikipedia.org/wiki/%D0%90%D0%AD%D0%A1_%D0%9F%D0%BE%D0%B9%D0%BD%D1%82-%D0%9B%D0%B5%D0%BF%D1%80%D0%BE'),\n ('АЭС Прейри-Айленд',\n  'https://ru.wikipedia.org/wiki/%D0%90%D0%AD%D0%A1_%D0%9F%D1%80%D0%B5%D0%B9%D1%80%D0%B8-%D0%90%D0%B9%D0%BB%D0%B5%D0%BD%D0%B4'),\n ('АЭС Раджастан',\n  'https://ru.wikipedia.org/wiki/%D0%90%D0%AD%D0%A1_%D0%A0%D0%B0%D0%B4%D0%B6%D0%B0%D1%81%D1%82%D0%B0%D0%BD'),\n ('АЭС Райнсберг',\n  'https://ru.wikipedia.org/wiki/%D0%90%D0%AD%D0%A1_%D0%A0%D0%B0%D0%B9%D0%BD%D1%81%D0%B1%D0%B5%D1%80%D0%B3'),\n ('Абаданская ГЭС',\n  'https://ru.wikipedia.org/wiki/%D0%90%D0%B1%D0%B0%D0%B4%D0%B0%D0%BD%D1%81%D0%BA%D0%B0%D1%8F_%D0%93%D0%AD%D0%A1'),\n ('Абаканская ТЭЦ',\n  'https://ru.wikipedia.org/wiki/%D0%90%D0%B1%D0%B0%D0%BA%D0%B0%D0%BD%D1%81%D0%BA%D0%B0%D1%8F_%D0%A2%D0%AD%D0%A6'),\n ('Автовская ТЭЦ',\n  'https://ru.wikipedia.org/wiki/%D0%90%D0%B2%D1%82%D0%BE%D0%B2%D1%81%D0%BA%D0%B0%D1%8F_%D0%A2%D0%AD%D0%A6'),\n ('Автозаводская ТЭЦ',\n  'https://ru.wikipedia.org/wiki/%D0%90%D0%B2%D1%82%D0%BE%D0%B7%D0%B0%D0%B2%D0%BE%D0%B4%D1%81%D0%BA%D0%B0%D1%8F_%D0%A2%D0%AD%D0%A6'),\n ('Аджарис-Цкальская ГЭС',\n  'https://ru.wikipedia.org/wiki/%D0%90%D0%B4%D0%B6%D0%B0%D1%80%D0%B8%D1%81-%D0%A6%D0%BA%D0%B0%D0%BB%D1%8C%D1%81%D0%BA%D0%B0%D1%8F_%D0%93%D0%AD%D0%A1'),\n ('Адлерская ТЭС',\n  'https://ru.wikipedia.org/wiki/%D0%90%D0%B4%D0%BB%D0%B5%D1%80%D1%81%D0%BA%D0%B0%D1%8F_%D0%A2%D0%AD%D0%A1'),\n ('Адыгейская ВЭС',\n  'https://ru.wikipedia.org/wiki/%D0%90%D0%B4%D1%8B%D0%B3%D0%B5%D0%B9%D1%81%D0%BA%D0%B0%D1%8F_%D0%92%D0%AD%D0%A1'),\n ('Азербайджанская ТЭС',\n  'https://ru.wikipedia.org/wiki/%D0%90%D0%B7%D0%B5%D1%80%D0%B1%D0%B0%D0%B9%D0%B4%D0%B6%D0%B0%D0%BD%D1%81%D0%BA%D0%B0%D1%8F_%D0%A2%D0%AD%D0%A1'),\n ('Ак-Кавакская ГЭС-1',\n  'https://ru.wikipedia.org/wiki/%D0%90%D0%BA-%D0%9A%D0%B0%D0%B2%D0%B0%D0%BA%D1%81%D0%BA%D0%B0%D1%8F_%D0%93%D0%AD%D0%A1-1'),\n ('Академик Ломоносов',\n  'https://ru.wikipedia.org/wiki/%D0%90%D0%BA%D0%B0%D0%B4%D0%B5%D0%BC%D0%B8%D0%BA_%D0%9B%D0%BE%D0%BC%D0%BE%D0%BD%D0%BE%D1%81%D0%BE%D0%B2'),\n ('Академическая ТЭЦ',\n  'https://ru.wikipedia.org/wiki/%D0%90%D0%BA%D0%B0%D0%B4%D0%B5%D0%BC%D0%B8%D1%87%D0%B5%D1%81%D0%BA%D0%B0%D1%8F_%D0%A2%D0%AD%D0%A6'),\n ('Аккую', 'https://ru.wikipedia.org/wiki/%D0%90%D0%BA%D0%BA%D1%83%D1%8E'),\n ('Акосомбо (гидроэлектростанция)',\n  'https://ru.wikipedia.org/wiki/%D0%90%D0%BA%D0%BE%D1%81%D0%BE%D0%BC%D0%B1%D0%BE_(%D0%B3%D0%B8%D0%B4%D1%80%D0%BE%D1%8D%D0%BB%D0%B5%D0%BA%D1%82%D1%80%D0%BE%D1%81%D1%82%D0%B0%D0%BD%D1%86%D0%B8%D1%8F)'),\n ('Аксуская ГРЭС',\n  'https://ru.wikipedia.org/wiki/%D0%90%D0%BA%D1%81%D1%83%D1%81%D0%BA%D0%B0%D1%8F_%D0%93%D0%A0%D0%AD%D0%A1'),\n ('ГТЭС Акшабулак',\n  'https://ru.wikipedia.org/wiki/%D0%93%D0%A2%D0%AD%D0%A1_%D0%90%D0%BA%D1%88%D0%B0%D0%B1%D1%83%D0%BB%D0%B0%D0%BA'),\n ('Александровская ГЭС',\n  'https://ru.wikipedia.org/wiki/%D0%90%D0%BB%D0%B5%D0%BA%D1%81%D0%B0%D0%BD%D0%B4%D1%80%D0%BE%D0%B2%D1%81%D0%BA%D0%B0%D1%8F_%D0%93%D0%AD%D0%A1'),\n ('Алексеевская ТЭЦ-3',\n  'https://ru.wikipedia.org/wiki/%D0%90%D0%BB%D0%B5%D0%BA%D1%81%D0%B5%D0%B5%D0%B2%D1%81%D0%BA%D0%B0%D1%8F_%D0%A2%D0%AD%D0%A6-3'),\n ('Алексинская ТЭЦ',\n  'https://ru.wikipedia.org/wiki/%D0%90%D0%BB%D0%B5%D0%BA%D1%81%D0%B8%D0%BD%D1%81%D0%BA%D0%B0%D1%8F_%D0%A2%D0%AD%D0%A6'),\n ('Аллертинский парк утилизации отходов',\n  'https://ru.wikipedia.org/wiki/%D0%90%D0%BB%D0%BB%D0%B5%D1%80%D1%82%D0%B8%D0%BD%D1%81%D0%BA%D0%B8%D0%B9_%D0%BF%D0%B0%D1%80%D0%BA_%D1%83%D1%82%D0%B8%D0%BB%D0%B8%D0%B7%D0%B0%D1%86%D0%B8%D0%B8_%D0%BE%D1%82%D1%85%D0%BE%D0%B4%D0%BE%D0%B2'),\n ('Алматинская ТЭЦ-3',\n  'https://ru.wikipedia.org/wiki/%D0%90%D0%BB%D0%BC%D0%B0%D1%82%D0%B8%D0%BD%D1%81%D0%BA%D0%B0%D1%8F_%D0%A2%D0%AD%D0%A6-3'),\n ('ГЭС Альтенвёрт',\n  'https://ru.wikipedia.org/wiki/%D0%93%D0%AD%D0%A1_%D0%90%D0%BB%D1%8C%D1%82%D0%B5%D0%BD%D0%B2%D1%91%D1%80%D1%82'),\n ('Амагер Бакке',\n  'https://ru.wikipedia.org/wiki/%D0%90%D0%BC%D0%B0%D0%B3%D0%B5%D1%80_%D0%91%D0%B0%D0%BA%D0%BA%D0%B5'),\n ('Аммакоски (гидроэлектростанция)',\n  'https://ru.wikipedia.org/wiki/%D0%90%D0%BC%D0%BC%D0%B0%D0%BA%D0%BE%D1%81%D0%BA%D0%B8_(%D0%B3%D0%B8%D0%B4%D1%80%D0%BE%D1%8D%D0%BB%D0%B5%D0%BA%D1%82%D1%80%D0%BE%D1%81%D1%82%D0%B0%D0%BD%D1%86%D0%B8%D1%8F)'),\n ('Амурская ТЭЦ-1',\n  'https://ru.wikipedia.org/wiki/%D0%90%D0%BC%D1%83%D1%80%D1%81%D0%BA%D0%B0%D1%8F_%D0%A2%D0%AD%D0%A6-1'),\n ('Анабанилья (ГЭС)',\n  'https://ru.wikipedia.org/wiki/%D0%90%D0%BD%D0%B0%D0%B1%D0%B0%D0%BD%D0%B8%D0%BB%D1%8C%D1%8F_(%D0%93%D0%AD%D0%A1)'),\n ('Анадырская ВЭС',\n  'https://ru.wikipedia.org/wiki/%D0%90%D0%BD%D0%B0%D0%B4%D1%8B%D1%80%D1%81%D0%BA%D0%B0%D1%8F_%D0%92%D0%AD%D0%A1'),\n ('Анадырская ГМТЭЦ',\n  'https://ru.wikipedia.org/wiki/%D0%90%D0%BD%D0%B0%D0%B4%D1%8B%D1%80%D1%81%D0%BA%D0%B0%D1%8F_%D0%93%D0%9C%D0%A2%D0%AD%D0%A6'),\n ('Анадырская ТЭЦ',\n  'https://ru.wikipedia.org/wiki/%D0%90%D0%BD%D0%B0%D0%B4%D1%8B%D1%80%D1%81%D0%BA%D0%B0%D1%8F_%D0%A2%D0%AD%D0%A6'),\n ('Ангренская ТЭС',\n  'https://ru.wikipedia.org/wiki/%D0%90%D0%BD%D0%B3%D1%80%D0%B5%D0%BD%D1%81%D0%BA%D0%B0%D1%8F_%D0%A2%D0%AD%D0%A1'),\n ('Андижанская ГЭС',\n  'https://ru.wikipedia.org/wiki/%D0%90%D0%BD%D0%B4%D0%B8%D0%B6%D0%B0%D0%BD%D1%81%D0%BA%D0%B0%D1%8F_%D0%93%D0%AD%D0%A1'),\n ('Апатитская ТЭЦ',\n  'https://ru.wikipedia.org/wiki/%D0%90%D0%BF%D0%B0%D1%82%D0%B8%D1%82%D1%81%D0%BA%D0%B0%D1%8F_%D0%A2%D0%AD%D0%A6'),\n ('Аракс ГЭС',\n  'https://ru.wikipedia.org/wiki/%D0%90%D1%80%D0%B0%D0%BA%D1%81_%D0%93%D0%AD%D0%A1'),\n ('Аргаяшская ТЭЦ',\n  'https://ru.wikipedia.org/wiki/%D0%90%D1%80%D0%B3%D0%B0%D1%8F%D1%88%D1%81%D0%BA%D0%B0%D1%8F_%D0%A2%D0%AD%D0%A6'),\n ('Аргельская ГЭС',\n  'https://ru.wikipedia.org/wiki/%D0%90%D1%80%D0%B3%D0%B5%D0%BB%D1%8C%D1%81%D0%BA%D0%B0%D1%8F_%D0%93%D0%AD%D0%A1'),\n ('Аргунская ТЭЦ',\n  'https://ru.wikipedia.org/wiki/%D0%90%D1%80%D0%B3%D1%83%D0%BD%D1%81%D0%BA%D0%B0%D1%8F_%D0%A2%D0%AD%D0%A6'),\n ('Арзнинская ГЭС',\n  'https://ru.wikipedia.org/wiki/%D0%90%D1%80%D0%B7%D0%BD%D0%B8%D0%BD%D1%81%D0%BA%D0%B0%D1%8F_%D0%93%D0%AD%D0%A1'),\n ('Аркагалинская ГРЭС',\n  'https://ru.wikipedia.org/wiki/%D0%90%D1%80%D0%BA%D0%B0%D0%B3%D0%B0%D0%BB%D0%B8%D0%BD%D1%81%D0%BA%D0%B0%D1%8F_%D0%93%D0%A0%D0%AD%D0%A1'),\n ('Армавирская ТЭЦ',\n  'https://ru.wikipedia.org/wiki/%D0%90%D1%80%D0%BC%D0%B0%D0%B2%D0%B8%D1%80%D1%81%D0%BA%D0%B0%D1%8F_%D0%A2%D0%AD%D0%A6'),\n ('Армянская АЭС',\n  'https://ru.wikipedia.org/wiki/%D0%90%D1%80%D0%BC%D1%8F%D0%BD%D1%81%D0%BA%D0%B0%D1%8F_%D0%90%D0%AD%D0%A1'),\n ('Артёмовская ТЭЦ (Приморский край)',\n  'https://ru.wikipedia.org/wiki/%D0%90%D1%80%D1%82%D1%91%D0%BC%D0%BE%D0%B2%D1%81%D0%BA%D0%B0%D1%8F_%D0%A2%D0%AD%D0%A6_(%D0%9F%D1%80%D0%B8%D0%BC%D0%BE%D1%80%D1%81%D0%BA%D0%B8%D0%B9_%D0%BA%D1%80%D0%B0%D0%B9)'),\n ('Артёмовская ТЭЦ (Свердловская область)',\n  'https://ru.wikipedia.org/wiki/%D0%90%D1%80%D1%82%D1%91%D0%BC%D0%BE%D0%B2%D1%81%D0%BA%D0%B0%D1%8F_%D0%A2%D0%AD%D0%A6_(%D0%A1%D0%B2%D0%B5%D1%80%D0%B4%D0%BB%D0%BE%D0%B2%D1%81%D0%BA%D0%B0%D1%8F_%D0%BE%D0%B1%D0%BB%D0%B0%D1%81%D1%82%D1%8C)'),\n ('Архангельская ТЭЦ',\n  'https://ru.wikipedia.org/wiki/%D0%90%D1%80%D1%85%D0%B0%D0%BD%D0%B3%D0%B5%D0%BB%D1%8C%D1%81%D0%BA%D0%B0%D1%8F_%D0%A2%D0%AD%D0%A6'),\n ('Астраханская ГРЭС',\n  'https://ru.wikipedia.org/wiki/%D0%90%D1%81%D1%82%D1%80%D0%B0%D1%85%D0%B0%D0%BD%D1%81%D0%BA%D0%B0%D1%8F_%D0%93%D0%A0%D0%AD%D0%A1'),\n ('Астраханская ПГУ-235',\n  'https://ru.wikipedia.org/wiki/%D0%90%D1%81%D1%82%D1%80%D0%B0%D1%85%D0%B0%D0%BD%D1%81%D0%BA%D0%B0%D1%8F_%D0%9F%D0%93%D0%A3-235'),\n ('Астраханская ТЭЦ-2',\n  'https://ru.wikipedia.org/wiki/%D0%90%D1%81%D1%82%D1%80%D0%B0%D1%85%D0%B0%D0%BD%D1%81%D0%BA%D0%B0%D1%8F_%D0%A2%D0%AD%D0%A6-2'),\n ('Асуанский гидроузел',\n  'https://ru.wikipedia.org/wiki/%D0%90%D1%81%D1%83%D0%B0%D0%BD%D1%81%D0%BA%D0%B8%D0%B9_%D0%B3%D0%B8%D0%B4%D1%80%D0%BE%D1%83%D0%B7%D0%B5%D0%BB'),\n ('Ат-Башинская ГЭС',\n  'https://ru.wikipedia.org/wiki/%D0%90%D1%82-%D0%91%D0%B0%D1%88%D0%B8%D0%BD%D1%81%D0%BA%D0%B0%D1%8F_%D0%93%D0%AD%D0%A1'),\n ('Ататюрк (ГЭС)',\n  'https://ru.wikipedia.org/wiki/%D0%90%D1%82%D0%B0%D1%82%D1%8E%D1%80%D0%BA_(%D0%93%D0%AD%D0%A1)'),\n ('ТЭС Атлон',\n  'https://ru.wikipedia.org/wiki/%D0%A2%D0%AD%D0%A1_%D0%90%D1%82%D0%BB%D0%BE%D0%BD'),\n ('Атомная энергетика Венгрии',\n  'https://ru.wikipedia.org/wiki/%D0%90%D1%82%D0%BE%D0%BC%D0%BD%D0%B0%D1%8F_%D1%8D%D0%BD%D0%B5%D1%80%D0%B3%D0%B5%D1%82%D0%B8%D0%BA%D0%B0_%D0%92%D0%B5%D0%BD%D0%B3%D1%80%D0%B8%D0%B8'),\n ('Атырауская ТЭЦ',\n  'https://ru.wikipedia.org/wiki/%D0%90%D1%82%D1%8B%D1%80%D0%B0%D1%83%D1%81%D0%BA%D0%B0%D1%8F_%D0%A2%D0%AD%D0%A6'),\n ('Аушигерская ГЭС',\n  'https://ru.wikipedia.org/wiki/%D0%90%D1%83%D1%88%D0%B8%D0%B3%D0%B5%D1%80%D1%81%D0%BA%D0%B0%D1%8F_%D0%93%D0%AD%D0%A1'),\n ('Ахтынская ГЭС',\n  'https://ru.wikipedia.org/wiki/%D0%90%D1%85%D1%82%D1%8B%D0%BD%D1%81%D0%BA%D0%B0%D1%8F_%D0%93%D0%AD%D0%A1'),\n ('Ахтырская ТЭЦ',\n  'https://ru.wikipedia.org/wiki/%D0%90%D1%85%D1%82%D1%8B%D1%80%D1%81%D0%BA%D0%B0%D1%8F_%D0%A2%D0%AD%D0%A6'),\n ('Ашхабадская ГЭС',\n  'https://ru.wikipedia.org/wiki/%D0%90%D1%88%D1%85%D0%B0%D0%B1%D0%B0%D0%B4%D1%81%D0%BA%D0%B0%D1%8F_%D0%93%D0%AD%D0%A1'),\n ('АЭС «Белене»',\n  'https://ru.wikipedia.org/wiki/%D0%90%D0%AD%D0%A1_%C2%AB%D0%91%D0%B5%D0%BB%D0%B5%D0%BD%D0%B5%C2%BB'),\n ('АЭС «Дукованы»',\n  'https://ru.wikipedia.org/wiki/%D0%90%D0%AD%D0%A1_%C2%AB%D0%94%D1%83%D0%BA%D0%BE%D0%B2%D0%B0%D0%BD%D1%8B%C2%BB'),\n ('АЭС «Игнеада»',\n  'https://ru.wikipedia.org/wiki/%D0%90%D0%AD%D0%A1_%C2%AB%D0%98%D0%B3%D0%BD%D0%B5%D0%B0%D0%B4%D0%B0%C2%BB'),\n ('АЭС «Козлодуй»',\n  'https://ru.wikipedia.org/wiki/%D0%90%D0%AD%D0%A1_%C2%AB%D0%9A%D0%BE%D0%B7%D0%BB%D0%BE%D0%B4%D1%83%D0%B9%C2%BB'),\n ('АЭС «Ловииса»',\n  'https://ru.wikipedia.org/wiki/%D0%90%D0%AD%D0%A1_%C2%AB%D0%9B%D0%BE%D0%B2%D0%B8%D0%B8%D1%81%D0%B0%C2%BB'),\n ('АЭС «Олкилуото»',\n  'https://ru.wikipedia.org/wiki/%D0%90%D0%AD%D0%A1_%C2%AB%D0%9E%D0%BB%D0%BA%D0%B8%D0%BB%D1%83%D0%BE%D1%82%D0%BE%C2%BB'),\n ('АЭС «Синоп»',\n  'https://ru.wikipedia.org/wiki/%D0%90%D0%AD%D0%A1_%C2%AB%D0%A1%D0%B8%D0%BD%D0%BE%D0%BF%C2%BB'),\n ('АЭС «Ханхикиви-1»',\n  'https://ru.wikipedia.org/wiki/%D0%90%D0%AD%D0%A1_%C2%AB%D0%A5%D0%B0%D0%BD%D1%85%D0%B8%D0%BA%D0%B8%D0%B2%D0%B8-1%C2%BB'),\n ('АЭС «Хинкли-Пойнт»',\n  'https://ru.wikipedia.org/wiki/%D0%90%D0%AD%D0%A1_%C2%AB%D0%A5%D0%B8%D0%BD%D0%BA%D0%BB%D0%B8-%D0%9F%D0%BE%D0%B9%D0%BD%D1%82%C2%BB'),\n ('АЭС Альмарас',\n  'https://ru.wikipedia.org/wiki/%D0%90%D0%AD%D0%A1_%D0%90%D0%BB%D1%8C%D0%BC%D0%B0%D1%80%D0%B0%D1%81'),\n ('АЭС Арканзас',\n  'https://ru.wikipedia.org/wiki/%D0%90%D0%AD%D0%A1_%D0%90%D1%80%D0%BA%D0%B0%D0%BD%D0%B7%D0%B0%D1%81'),\n ('АЭС Аско',\n  'https://ru.wikipedia.org/wiki/%D0%90%D0%AD%D0%A1_%D0%90%D1%81%D0%BA%D0%BE'),\n ('АЭС Атуча',\n  'https://ru.wikipedia.org/wiki/%D0%90%D0%AD%D0%A1_%D0%90%D1%82%D1%83%D1%87%D0%B0'),\n ('АЭС Байрон',\n  'https://ru.wikipedia.org/wiki/%D0%90%D0%AD%D0%A1_%D0%91%D0%B0%D0%B9%D1%80%D0%BE%D0%BD'),\n ('АЭС Барака',\n  'https://ru.wikipedia.org/wiki/%D0%90%D0%AD%D0%A1_%D0%91%D0%B0%D1%80%D0%B0%D0%BA%D0%B0'),\n ('АЭС Барсебек',\n  'https://ru.wikipedia.org/wiki/%D0%90%D0%AD%D0%A1_%D0%91%D0%B0%D1%80%D1%81%D0%B5%D0%B1%D0%B5%D0%BA'),\n ('АЭС Бельвиль',\n  'https://ru.wikipedia.org/wiki/%D0%90%D0%AD%D0%A1_%D0%91%D0%B5%D0%BB%D1%8C%D0%B2%D0%B8%D0%BB%D1%8C'),\n ('АЭС Бецнау',\n  'https://ru.wikipedia.org/wiki/%D0%90%D0%AD%D0%A1_%D0%91%D0%B5%D1%86%D0%BD%D0%B0%D1%83'),\n ('АЭС Библис',\n  'https://ru.wikipedia.org/wiki/%D0%90%D0%AD%D0%A1_%D0%91%D0%B8%D0%B1%D0%BB%D0%B8%D1%81'),\n ('АЭС Бивер-Валли',\n  'https://ru.wikipedia.org/wiki/%D0%90%D0%AD%D0%A1_%D0%91%D0%B8%D0%B2%D0%B5%D1%80-%D0%92%D0%B0%D0%BB%D0%BB%D0%B8'),\n ('АЭС Блайе',\n  'https://ru.wikipedia.org/wiki/%D0%90%D0%AD%D0%A1_%D0%91%D0%BB%D0%B0%D0%B9%D0%B5'),\n ('АЭС Богунице',\n  'https://ru.wikipedia.org/wiki/%D0%90%D0%AD%D0%A1_%D0%91%D0%BE%D0%B3%D1%83%D0%BD%D0%B8%D1%86%D0%B5'),\n ('АЭС Борселе',\n  'https://ru.wikipedia.org/wiki/%D0%90%D0%AD%D0%A1_%D0%91%D0%BE%D1%80%D1%81%D0%B5%D0%BB%D0%B5'),\n ('АЭС Брансуик',\n  'https://ru.wikipedia.org/wiki/%D0%90%D0%AD%D0%A1_%D0%91%D1%80%D0%B0%D0%BD%D1%81%D1%83%D0%B8%D0%BA'),\n ('АЭС Браунз-Ферри',\n  'https://ru.wikipedia.org/wiki/%D0%90%D0%AD%D0%A1_%D0%91%D1%80%D0%B0%D1%83%D0%BD%D0%B7-%D0%A4%D0%B5%D1%80%D1%80%D0%B8'),\n ('АЭС Бреннилис',\n  'https://ru.wikipedia.org/wiki/%D0%90%D0%AD%D0%A1_%D0%91%D1%80%D0%B5%D0%BD%D0%BD%D0%B8%D0%BB%D0%B8%D1%81'),\n ('АЭС Брокдорф',\n  'https://ru.wikipedia.org/wiki/%D0%90%D0%AD%D0%A1_%D0%91%D1%80%D0%BE%D0%BA%D0%B4%D0%BE%D1%80%D1%84'),\n ('АЭС Брунсбюттель',\n  'https://ru.wikipedia.org/wiki/%D0%90%D0%AD%D0%A1_%D0%91%D1%80%D1%83%D0%BD%D1%81%D0%B1%D1%8E%D1%82%D1%82%D0%B5%D0%BB%D1%8C'),\n ('АЭС Брэйдвуд',\n  'https://ru.wikipedia.org/wiki/%D0%90%D0%AD%D0%A1_%D0%91%D1%80%D1%8D%D0%B9%D0%B4%D0%B2%D1%83%D0%B4'),\n ('АЭС Брюс',\n  'https://ru.wikipedia.org/wiki/%D0%90%D0%AD%D0%A1_%D0%91%D1%80%D1%8E%D1%81'),\n ('АЭС Бюже',\n  'https://ru.wikipedia.org/wiki/%D0%90%D0%AD%D0%A1_%D0%91%D1%8E%D0%B6%D0%B5'),\n ('АЭС в Джизакской области Узбекистана',\n  'https://ru.wikipedia.org/wiki/%D0%90%D0%AD%D0%A1_%D0%B2_%D0%94%D0%B6%D0%B8%D0%B7%D0%B0%D0%BA%D1%81%D0%BA%D0%BE%D0%B9_%D0%BE%D0%B1%D0%BB%D0%B0%D1%81%D1%82%D0%B8_%D0%A3%D0%B7%D0%B1%D0%B5%D0%BA%D0%B8%D1%81%D1%82%D0%B0%D0%BD%D0%B0'),\n ('АЭС Вандельос',\n  'https://ru.wikipedia.org/wiki/%D0%90%D0%AD%D0%A1_%D0%92%D0%B0%D0%BD%D0%B4%D0%B5%D0%BB%D1%8C%D0%BE%D1%81'),\n ('АЭС Вермонт Янки',\n  'https://ru.wikipedia.org/wiki/%D0%90%D0%AD%D0%A1_%D0%92%D0%B5%D1%80%D0%BC%D0%BE%D0%BD%D1%82_%D0%AF%D0%BD%D0%BA%D0%B8'),\n ('АЭС Ви-Си Саммер',\n  'https://ru.wikipedia.org/wiki/%D0%90%D0%AD%D0%A1_%D0%92%D0%B8-%D0%A1%D0%B8_%D0%A1%D0%B0%D0%BC%D0%BC%D0%B5%D1%80'),\n ('АЭС Вогтль',\n  'https://ru.wikipedia.org/wiki/%D0%90%D0%AD%D0%A1_%D0%92%D0%BE%D0%B3%D1%82%D0%BB%D1%8C'),\n ('АЭС Волф Крик',\n  'https://ru.wikipedia.org/wiki/%D0%90%D0%AD%D0%A1_%D0%92%D0%BE%D0%BB%D1%84_%D0%9A%D1%80%D0%B8%D0%BA'),\n ('АЭС Вольсон',\n  'https://ru.wikipedia.org/wiki/%D0%90%D0%AD%D0%A1_%D0%92%D0%BE%D0%BB%D1%8C%D1%81%D0%BE%D0%BD'),\n ('АЭС Вюргассен',\n  'https://ru.wikipedia.org/wiki/%D0%90%D0%AD%D0%A1_%D0%92%D1%8E%D1%80%D0%B3%D0%B0%D1%81%D1%81%D0%B5%D0%BD'),\n ('АЭС Гарильяно',\n  'https://ru.wikipedia.org/wiki/%D0%90%D0%AD%D0%A1_%D0%93%D0%B0%D1%80%D0%B8%D0%BB%D1%8C%D1%8F%D0%BD%D0%BE'),\n ('АЭС Генкай',\n  'https://ru.wikipedia.org/wiki/%D0%90%D0%AD%D0%A1_%D0%93%D0%B5%D0%BD%D0%BA%D0%B0%D0%B9'),\n ('АЭС Гёсген',\n  'https://ru.wikipedia.org/wiki/%D0%90%D0%AD%D0%A1_%D0%93%D1%91%D1%81%D0%B3%D0%B5%D0%BD'),\n ('АЭС Гольфеш',\n  'https://ru.wikipedia.org/wiki/%D0%90%D0%AD%D0%A1_%D0%93%D0%BE%D0%BB%D1%8C%D1%84%D0%B5%D1%88'),\n ('АЭС Гравлин',\n  'https://ru.wikipedia.org/wiki/%D0%90%D0%AD%D0%A1_%D0%93%D1%80%D0%B0%D0%B2%D0%BB%D0%B8%D0%BD'),\n ('АЭС Грайфсвальд',\n  'https://ru.wikipedia.org/wiki/%D0%90%D0%AD%D0%A1_%D0%93%D1%80%D0%B0%D0%B9%D1%84%D1%81%D0%B2%D0%B0%D0%BB%D1%8C%D0%B4'),\n ('АЭС Гранд-Галф',\n  'https://ru.wikipedia.org/wiki/%D0%90%D0%AD%D0%A1_%D0%93%D1%80%D0%B0%D0%BD%D0%B4-%D0%93%D0%B0%D0%BB%D1%84'),\n ('АЭС Графенрайнфельд',\n  'https://ru.wikipedia.org/wiki/%D0%90%D0%AD%D0%A1_%D0%93%D1%80%D0%B0%D1%84%D0%B5%D0%BD%D1%80%D0%B0%D0%B9%D0%BD%D1%84%D0%B5%D0%BB%D1%8C%D0%B4'),\n ('АЭС Гронде',\n  'https://ru.wikipedia.org/wiki/%D0%90%D0%AD%D0%A1_%D0%93%D1%80%D0%BE%D0%BD%D0%B4%D0%B5'),\n ('АЭС Гросвельцхайм',\n  'https://ru.wikipedia.org/wiki/%D0%90%D0%AD%D0%A1_%D0%93%D1%80%D0%BE%D1%81%D0%B2%D0%B5%D0%BB%D1%8C%D1%86%D1%85%D0%B0%D0%B9%D0%BC'),\n ('АЭС Гундремминген',\n  'https://ru.wikipedia.org/wiki/%D0%90%D0%AD%D0%A1_%D0%93%D1%83%D0%BD%D0%B4%D1%80%D0%B5%D0%BC%D0%BC%D0%B8%D0%BD%D0%B3%D0%B5%D0%BD'),\n ('АЭС Дампьер',\n  'https://ru.wikipedia.org/wiki/%D0%90%D0%AD%D0%A1_%D0%94%D0%B0%D0%BC%D0%BF%D1%8C%D0%B5%D1%80'),\n ('АЭС Дандженесс',\n  'https://ru.wikipedia.org/wiki/%D0%90%D0%AD%D0%A1_%D0%94%D0%B0%D0%BD%D0%B4%D0%B6%D0%B5%D0%BD%D0%B5%D1%81%D1%81'),\n ('АЭС Дарлингтон',\n  'https://ru.wikipedia.org/wiki/%D0%90%D0%AD%D0%A1_%D0%94%D0%B0%D1%80%D0%BB%D0%B8%D0%BD%D0%B3%D1%82%D0%BE%D0%BD'),\n ('АЭС Даявань',\n  'https://ru.wikipedia.org/wiki/%D0%90%D0%AD%D0%A1_%D0%94%D0%B0%D1%8F%D0%B2%D0%B0%D0%BD%D1%8C'),\n ('АЭС Джентилли',\n  'https://ru.wikipedia.org/wiki/%D0%90%D0%AD%D0%A1_%D0%94%D0%B6%D0%B5%D0%BD%D1%82%D0%B8%D0%BB%D0%BB%D0%B8'),\n ('АЭС Джинна',\n  'https://ru.wikipedia.org/wiki/%D0%90%D0%AD%D0%A1_%D0%94%D0%B6%D0%B8%D0%BD%D0%BD%D0%B0'),\n ('АЭС Додевард',\n  'https://ru.wikipedia.org/wiki/%D0%90%D0%AD%D0%A1_%D0%94%D0%BE%D0%B4%D0%B5%D0%B2%D0%B0%D1%80%D0%B4'),\n ('АЭС Дональд Кук',\n  'https://ru.wikipedia.org/wiki/%D0%90%D0%AD%D0%A1_%D0%94%D0%BE%D0%BD%D0%B0%D0%BB%D1%8C%D0%B4_%D0%9A%D1%83%D0%BA'),\n ('АЭС Дрезден',\n  'https://ru.wikipedia.org/wiki/%D0%90%D0%AD%D0%A1_%D0%94%D1%80%D0%B5%D0%B7%D0%B4%D0%B5%D0%BD'),\n ('АЭС Дуглас-Пойнт',\n  'https://ru.wikipedia.org/wiki/%D0%90%D0%AD%D0%A1_%D0%94%D1%83%D0%B3%D0%BB%D0%B0%D1%81-%D0%9F%D0%BE%D0%B9%D0%BD%D1%82'),\n ('АЭС Дул',\n  'https://ru.wikipedia.org/wiki/%D0%90%D0%AD%D0%A1_%D0%94%D1%83%D0%BB'),\n ('АЭС Дуэйн-Арнольд',\n  'https://ru.wikipedia.org/wiki/%D0%90%D0%AD%D0%A1_%D0%94%D1%83%D1%8D%D0%B9%D0%BD-%D0%90%D1%80%D0%BD%D0%BE%D0%BB%D1%8C%D0%B4'),\n ('АЭС Дьябло Каньон',\n  'https://ru.wikipedia.org/wiki/%D0%90%D0%AD%D0%A1_%D0%94%D1%8C%D1%8F%D0%B1%D0%BB%D0%BE_%D0%9A%D0%B0%D0%BD%D1%8C%D0%BE%D0%BD'),\n ('АЭС Дэвис-Бесс',\n  'https://ru.wikipedia.org/wiki/%D0%90%D0%AD%D0%A1_%D0%94%D1%8D%D0%B2%D0%B8%D1%81-%D0%91%D0%B5%D1%81%D1%81'),\n ('АЭС Жарновец',\n  'https://ru.wikipedia.org/wiki/%D0%90%D0%AD%D0%A1_%D0%96%D0%B0%D1%80%D0%BD%D0%BE%D0%B2%D0%B5%D1%86'),\n ('АЭС Зион',\n  'https://ru.wikipedia.org/wiki/%D0%90%D0%AD%D0%A1_%D0%97%D0%B8%D0%BE%D0%BD'),\n ('АЭС Изар',\n  'https://ru.wikipedia.org/wiki/%D0%90%D0%AD%D0%A1_%D0%98%D0%B7%D0%B0%D1%80'),\n ('АЭС Иката',\n  'https://ru.wikipedia.org/wiki/%D0%90%D0%AD%D0%A1_%D0%98%D0%BA%D0%B0%D1%82%D0%B0'),\n ('АЭС имени адмирала Алваро Алберто',\n  'https://ru.wikipedia.org/wiki/%D0%90%D0%AD%D0%A1_%D0%B8%D0%BC%D0%B5%D0%BD%D0%B8_%D0%B0%D0%B4%D0%BC%D0%B8%D1%80%D0%B0%D0%BB%D0%B0_%D0%90%D0%BB%D0%B2%D0%B0%D1%80%D0%BE_%D0%90%D0%BB%D0%B1%D0%B5%D1%80%D1%82%D0%BE'),\n ('АЭС Индиан-Пойнт',\n  'https://ru.wikipedia.org/wiki/%D0%90%D0%AD%D0%A1_%D0%98%D0%BD%D0%B4%D0%B8%D0%B0%D0%BD-%D0%9F%D0%BE%D0%B9%D0%BD%D1%82'),\n ('АЭС Кайга',\n  'https://ru.wikipedia.org/wiki/%D0%90%D0%AD%D0%A1_%D0%9A%D0%B0%D0%B9%D0%B3%D0%B0'),\n ('АЭС Какрапар',\n  'https://ru.wikipedia.org/wiki/%D0%90%D0%AD%D0%A1_%D0%9A%D0%B0%D0%BA%D1%80%D0%B0%D0%BF%D0%B0%D1%80'),\n ('АЭС Калверт-Клифс',\n  'https://ru.wikipedia.org/wiki/%D0%90%D0%AD%D0%A1_%D0%9A%D0%B0%D0%BB%D0%B2%D0%B5%D1%80%D1%82-%D0%9A%D0%BB%D0%B8%D1%84%D1%81'),\n ('АЭС Каллауэй',\n  'https://ru.wikipedia.org/wiki/%D0%90%D0%AD%D0%A1_%D0%9A%D0%B0%D0%BB%D0%BB%D0%B0%D1%83%D1%8D%D0%B9'),\n ('АЭС Каль',\n  'https://ru.wikipedia.org/wiki/%D0%90%D0%AD%D0%A1_%D0%9A%D0%B0%D0%BB%D1%8C'),\n ('АЭС Каорсо',\n  'https://ru.wikipedia.org/wiki/%D0%90%D0%AD%D0%A1_%D0%9A%D0%B0%D0%BE%D1%80%D1%81%D0%BE'),\n ('АЭС Карачи',\n  'https://ru.wikipedia.org/wiki/%D0%90%D0%AD%D0%A1_%D0%9A%D0%B0%D1%80%D0%B0%D1%87%D0%B8'),\n ('АЭС Касивадзаки-Карива',\n  'https://ru.wikipedia.org/wiki/%D0%90%D0%AD%D0%A1_%D0%9A%D0%B0%D1%81%D0%B8%D0%B2%D0%B0%D0%B4%D0%B7%D0%B0%D0%BA%D0%B8-%D0%9A%D0%B0%D1%80%D0%B8%D0%B2%D0%B0'),\n ('АЭС Катоба',\n  'https://ru.wikipedia.org/wiki/%D0%90%D0%AD%D0%A1_%D0%9A%D0%B0%D1%82%D0%BE%D0%B1%D0%B0'),\n ('АЭС Каттеном',\n  'https://ru.wikipedia.org/wiki/%D0%90%D0%AD%D0%A1_%D0%9A%D0%B0%D1%82%D1%82%D0%B5%D0%BD%D0%BE%D0%BC'),\n ('АЭС Квод Ситис',\n  'https://ru.wikipedia.org/wiki/%D0%90%D0%AD%D0%A1_%D0%9A%D0%B2%D0%BE%D0%B4_%D0%A1%D0%B8%D1%82%D0%B8%D1%81'),\n ('АЭС Кевони',\n  'https://ru.wikipedia.org/wiki/%D0%90%D0%AD%D0%A1_%D0%9A%D0%B5%D0%B2%D0%BE%D0%BD%D0%B8'),\n ('АЭС Клинтон',\n  'https://ru.wikipedia.org/wiki/%D0%90%D0%AD%D0%A1_%D0%9A%D0%BB%D0%B8%D0%BD%D1%82%D0%BE%D0%BD'),\n ('АЭС Коберг',\n  'https://ru.wikipedia.org/wiki/%D0%90%D0%AD%D0%A1_%D0%9A%D0%BE%D0%B1%D0%B5%D1%80%D0%B3'),\n ('АЭС Колумбия',\n  'https://ru.wikipedia.org/wiki/%D0%90%D0%AD%D0%A1_%D0%9A%D0%BE%D0%BB%D1%83%D0%BC%D0%B1%D0%B8%D1%8F'),\n ('АЭС Команчи-Пик',\n  'https://ru.wikipedia.org/wiki/%D0%90%D0%AD%D0%A1_%D0%9A%D0%BE%D0%BC%D0%B0%D0%BD%D1%87%D0%B8-%D0%9F%D0%B8%D0%BA'),\n ('АЭС Коннектикут Янки',\n  'https://ru.wikipedia.org/wiki/%D0%90%D0%AD%D0%A1_%D0%9A%D0%BE%D0%BD%D0%BD%D0%B5%D0%BA%D1%82%D0%B8%D0%BA%D1%83%D1%82_%D0%AF%D0%BD%D0%BA%D0%B8'),\n ('АЭС Кори',\n  'https://ru.wikipedia.org/wiki/%D0%90%D0%AD%D0%A1_%D0%9A%D0%BE%D1%80%D0%B8'),\n ('АЭС Кофрентес',\n  'https://ru.wikipedia.org/wiki/%D0%90%D0%AD%D0%A1_%D0%9A%D0%BE%D1%84%D1%80%D0%B5%D0%BD%D1%82%D0%B5%D1%81'),\n ('АЭС Крей-Мальвиль',\n  'https://ru.wikipedia.org/wiki/%D0%90%D0%AD%D0%A1_%D0%9A%D1%80%D0%B5%D0%B9-%D0%9C%D0%B0%D0%BB%D1%8C%D0%B2%D0%B8%D0%BB%D1%8C'),\n ('АЭС Кристал Ривер',\n  'https://ru.wikipedia.org/wiki/%D0%90%D0%AD%D0%A1_%D0%9A%D1%80%D0%B8%D1%81%D1%82%D0%B0%D0%BB_%D0%A0%D0%B8%D0%B2%D0%B5%D1%80'),\n ('АЭС Кршко',\n  'https://ru.wikipedia.org/wiki/%D0%90%D0%AD%D0%A1_%D0%9A%D1%80%D1%88%D0%BA%D0%BE'),\n ('АЭС Крюа',\n  'https://ru.wikipedia.org/wiki/%D0%90%D0%AD%D0%A1_%D0%9A%D1%80%D1%8E%D0%B0'),\n ('АЭС Крюммель',\n  'https://ru.wikipedia.org/wiki/%D0%90%D0%AD%D0%A1_%D0%9A%D1%80%D1%8E%D0%BC%D0%BC%D0%B5%D0%BB%D1%8C'),\n ('АЭС Куданкулам',\n  'https://ru.wikipedia.org/wiki/%D0%90%D0%AD%D0%A1_%D0%9A%D1%83%D0%B4%D0%B0%D0%BD%D0%BA%D1%83%D0%BB%D0%B0%D0%BC'),\n ('АЭС Куошен',\n  'https://ru.wikipedia.org/wiki/%D0%90%D0%AD%D0%A1_%D0%9A%D1%83%D0%BE%D1%88%D0%B5%D0%BD'),\n ('АЭС Купер',\n  'https://ru.wikipedia.org/wiki/%D0%90%D0%AD%D0%A1_%D0%9A%D1%83%D0%BF%D0%B5%D1%80'),\n ('АЭС Лагуна-Верде',\n  'https://ru.wikipedia.org/wiki/%D0%90%D0%AD%D0%A1_%D0%9B%D0%B0%D0%B3%D1%83%D0%BD%D0%B0-%D0%92%D0%B5%D1%80%D0%B4%D0%B5'),\n ('АЭС Лайбштадт',\n  'https://ru.wikipedia.org/wiki/%D0%90%D0%AD%D0%A1_%D0%9B%D0%B0%D0%B9%D0%B1%D1%88%D1%82%D0%B0%D0%B4%D1%82'),\n ('АЭС Ласаль',\n  'https://ru.wikipedia.org/wiki/%D0%90%D0%AD%D0%A1_%D0%9B%D0%B0%D1%81%D0%B0%D0%BB%D1%8C'),\n ('АЭС Латина',\n  'https://ru.wikipedia.org/wiki/%D0%90%D0%AD%D0%A1_%D0%9B%D0%B0%D1%82%D0%B8%D0%BD%D0%B0'),\n ('АЭС Лимерик',\n  'https://ru.wikipedia.org/wiki/%D0%90%D0%AD%D0%A1_%D0%9B%D0%B8%D0%BC%D0%B5%D1%80%D0%B8%D0%BA'),\n ('АЭС Линген',\n  'https://ru.wikipedia.org/wiki/%D0%90%D0%AD%D0%A1_%D0%9B%D0%B8%D0%BD%D0%B3%D0%B5%D0%BD'),\n ('АЭС Линьао',\n  'https://ru.wikipedia.org/wiki/%D0%90%D0%AD%D0%A1_%D0%9B%D0%B8%D0%BD%D1%8C%D0%B0%D0%BE'),\n ('АЭС Лунгмень',\n  'https://ru.wikipedia.org/wiki/%D0%90%D0%AD%D0%A1_%D0%9B%D1%83%D0%BD%D0%B3%D0%BC%D0%B5%D0%BD%D1%8C'),\n ('АЭС Мааншан',\n  'https://ru.wikipedia.org/wiki/%D0%90%D0%AD%D0%A1_%D0%9C%D0%B0%D0%B0%D0%BD%D1%88%D0%B0%D0%BD'),\n ('АЭС Мадрас',\n  'https://ru.wikipedia.org/wiki/%D0%90%D0%AD%D0%A1_%D0%9C%D0%B0%D0%B4%D1%80%D0%B0%D1%81'),\n ('АЭС Макгуайр',\n  'https://ru.wikipedia.org/wiki/%D0%90%D0%AD%D0%A1_%D0%9C%D0%B0%D0%BA%D0%B3%D1%83%D0%B0%D0%B9%D1%80'),\n ('АЭС Милстоун',\n  'https://ru.wikipedia.org/wiki/%D0%90%D0%AD%D0%A1_%D0%9C%D0%B8%D0%BB%D1%81%D1%82%D0%BE%D1%83%D0%BD'),\n ('АЭС Михама',\n  'https://ru.wikipedia.org/wiki/%D0%90%D0%AD%D0%A1_%D0%9C%D0%B8%D1%85%D0%B0%D0%BC%D0%B0'),\n ('АЭС Мондзю',\n  'https://ru.wikipedia.org/wiki/%D0%90%D0%AD%D0%A1_%D0%9C%D0%BE%D0%BD%D0%B4%D0%B7%D1%8E'),\n ('АЭС Монтичелло',\n  'https://ru.wikipedia.org/wiki/%D0%90%D0%AD%D0%A1_%D0%9C%D0%BE%D0%BD%D1%82%D0%B8%D1%87%D0%B5%D0%BB%D0%BB%D0%BE'),\n ('АЭС Моховце',\n  'https://ru.wikipedia.org/wiki/%D0%90%D0%AD%D0%A1_%D0%9C%D0%BE%D1%85%D0%BE%D0%B2%D1%86%D0%B5'),\n ('АЭС Мэн Янки',\n  'https://ru.wikipedia.org/wiki/%D0%90%D0%AD%D0%A1_%D0%9C%D1%8D%D0%BD_%D0%AF%D0%BD%D0%BA%D0%B8'),\n ('АЭС Мюлеберг',\n  'https://ru.wikipedia.org/wiki/%D0%90%D0%AD%D0%A1_%D0%9C%D1%8E%D0%BB%D0%B5%D0%B1%D0%B5%D1%80%D0%B3'),\n ('АЭС Мюльхайм-Керлих',\n  'https://ru.wikipedia.org/wiki/%D0%90%D0%AD%D0%A1_%D0%9C%D1%8E%D0%BB%D1%8C%D1%85%D0%B0%D0%B9%D0%BC-%D0%9A%D0%B5%D1%80%D0%BB%D0%B8%D1%85'),\n ('АЭС Найн-Майл-Пойнт',\n  'https://ru.wikipedia.org/wiki/%D0%90%D0%AD%D0%A1_%D0%9D%D0%B0%D0%B9%D0%BD-%D0%9C%D0%B0%D0%B9%D0%BB-%D0%9F%D0%BE%D0%B9%D0%BD%D1%82'),\n ('АЭС Нарора',\n  'https://ru.wikipedia.org/wiki/%D0%90%D0%AD%D0%A1_%D0%9D%D0%B0%D1%80%D0%BE%D1%80%D0%B0'),\n ('АЭС Неккарвестхайм',\n  'https://ru.wikipedia.org/wiki/%D0%90%D0%AD%D0%A1_%D0%9D%D0%B5%D0%BA%D0%BA%D0%B0%D1%80%D0%B2%D0%B5%D1%81%D1%82%D1%85%D0%B0%D0%B9%D0%BC'),\n ('АЭС Нидерайхбах',\n  'https://ru.wikipedia.org/wiki/%D0%90%D0%AD%D0%A1_%D0%9D%D0%B8%D0%B4%D0%B5%D1%80%D0%B0%D0%B9%D1%85%D0%B1%D0%B0%D1%85'),\n ('АЭС Ниндэ',\n  'https://ru.wikipedia.org/wiki/%D0%90%D0%AD%D0%A1_%D0%9D%D0%B8%D0%BD%D0%B4%D1%8D'),\n ('АЭС Ножан',\n  'https://ru.wikipedia.org/wiki/%D0%90%D0%AD%D0%A1_%D0%9D%D0%BE%D0%B6%D0%B0%D0%BD'),\n ('АЭС Норт Анна',\n  'https://ru.wikipedia.org/wiki/%D0%90%D0%AD%D0%A1_%D0%9D%D0%BE%D1%80%D1%82_%D0%90%D0%BD%D0%BD%D0%B0'),\n ('АЭС Обригхайм',\n  'https://ru.wikipedia.org/wiki/%D0%90%D0%AD%D0%A1_%D0%9E%D0%B1%D1%80%D0%B8%D0%B3%D1%85%D0%B0%D0%B9%D0%BC'),\n ('АЭС Огеста',\n  'https://ru.wikipedia.org/wiki/%D0%90%D0%AD%D0%A1_%D0%9E%D0%B3%D0%B5%D1%81%D1%82%D0%B0'),\n ('АЭС Ои', 'https://ru.wikipedia.org/wiki/%D0%90%D0%AD%D0%A1_%D0%9E%D0%B8'),\n ('АЭС Ойстер-Крик',\n  'https://ru.wikipedia.org/wiki/%D0%90%D0%AD%D0%A1_%D0%9E%D0%B9%D1%81%D1%82%D0%B5%D1%80-%D0%9A%D1%80%D0%B8%D0%BA'),\n ('АЭС Окони',\n  'https://ru.wikipedia.org/wiki/%D0%90%D0%AD%D0%A1_%D0%9E%D0%BA%D0%BE%D0%BD%D0%B8'),\n ('АЭС Ома',\n  'https://ru.wikipedia.org/wiki/%D0%90%D0%AD%D0%A1_%D0%9E%D0%BC%D0%B0'),\n ('АЭС Онагава',\n  'https://ru.wikipedia.org/wiki/%D0%90%D0%AD%D0%A1_%D0%9E%D0%BD%D0%B0%D0%B3%D0%B0%D0%B2%D0%B0'),\n ('АЭС Оскарсхамн',\n  'https://ru.wikipedia.org/wiki/%D0%90%D0%AD%D0%A1_%D0%9E%D1%81%D0%BA%D0%B0%D1%80%D1%81%D1%85%D0%B0%D0%BC%D0%BD'),\n ('АЭС Пакш',\n  'https://ru.wikipedia.org/wiki/%D0%90%D0%AD%D0%A1_%D0%9F%D0%B0%D0%BA%D1%88'),\n ('АЭС Палисадес',\n  'https://ru.wikipedia.org/wiki/%D0%90%D0%AD%D0%A1_%D0%9F%D0%B0%D0%BB%D0%B8%D1%81%D0%B0%D0%B4%D0%B5%D1%81'),\n ('АЭС Пало-Верде',\n  'https://ru.wikipedia.org/wiki/%D0%90%D0%AD%D0%A1_%D0%9F%D0%B0%D0%BB%D0%BE-%D0%92%D0%B5%D1%80%D0%B4%D0%B5'),\n ('АЭС Палюэль',\n  'https://ru.wikipedia.org/wiki/%D0%90%D0%AD%D0%A1_%D0%9F%D0%B0%D0%BB%D1%8E%D1%8D%D0%BB%D1%8C'),\n ('АЭС Пенли',\n  'https://ru.wikipedia.org/wiki/%D0%90%D0%AD%D0%A1_%D0%9F%D0%B5%D0%BD%D0%BB%D0%B8'),\n ('АЭС Перри',\n  'https://ru.wikipedia.org/wiki/%D0%90%D0%AD%D0%A1_%D0%9F%D0%B5%D1%80%D1%80%D0%B8'),\n ('АЭС Пикеринг',\n  'https://ru.wikipedia.org/wiki/%D0%90%D0%AD%D0%A1_%D0%9F%D0%B8%D0%BA%D0%B5%D1%80%D0%B8%D0%BD%D0%B3'),\n ('АЭС Пилигрим',\n  'https://ru.wikipedia.org/wiki/%D0%90%D0%AD%D0%A1_%D0%9F%D0%B8%D0%BB%D0%B8%D0%B3%D1%80%D0%B8%D0%BC'),\n ('АЭС Пич-Боттом',\n  'https://ru.wikipedia.org/wiki/%D0%90%D0%AD%D0%A1_%D0%9F%D0%B8%D1%87-%D0%91%D0%BE%D1%82%D1%82%D0%BE%D0%BC'),\n ('АЭС Пойнт-Бич',\n  'https://ru.wikipedia.org/wiki/%D0%90%D0%AD%D0%A1_%D0%9F%D0%BE%D0%B9%D0%BD%D1%82-%D0%91%D0%B8%D1%87'),\n ('АЭС Пойнт-Лепро',\n  'https://ru.wikipedia.org/wiki/%D0%90%D0%AD%D0%A1_%D0%9F%D0%BE%D0%B9%D0%BD%D1%82-%D0%9B%D0%B5%D0%BF%D1%80%D0%BE'),\n ('АЭС Прейри-Айленд',\n  'https://ru.wikipedia.org/wiki/%D0%90%D0%AD%D0%A1_%D0%9F%D1%80%D0%B5%D0%B9%D1%80%D0%B8-%D0%90%D0%B9%D0%BB%D0%B5%D0%BD%D0%B4'),\n ('АЭС Раджастан',\n  'https://ru.wikipedia.org/wiki/%D0%90%D0%AD%D0%A1_%D0%A0%D0%B0%D0%B4%D0%B6%D0%B0%D1%81%D1%82%D0%B0%D0%BD'),\n ('АЭС Райнсберг',\n  'https://ru.wikipedia.org/wiki/%D0%90%D0%AD%D0%A1_%D0%A0%D0%B0%D0%B9%D0%BD%D1%81%D0%B1%D0%B5%D1%80%D0%B3'),\n ('Абаданская ГЭС',\n  'https://ru.wikipedia.org/wiki/%D0%90%D0%B1%D0%B0%D0%B4%D0%B0%D0%BD%D1%81%D0%BA%D0%B0%D1%8F_%D0%93%D0%AD%D0%A1'),\n ('Абаканская ТЭЦ',\n  'https://ru.wikipedia.org/wiki/%D0%90%D0%B1%D0%B0%D0%BA%D0%B0%D0%BD%D1%81%D0%BA%D0%B0%D1%8F_%D0%A2%D0%AD%D0%A6'),\n ('Автовская ТЭЦ',\n  'https://ru.wikipedia.org/wiki/%D0%90%D0%B2%D1%82%D0%BE%D0%B2%D1%81%D0%BA%D0%B0%D1%8F_%D0%A2%D0%AD%D0%A6'),\n ('Автозаводская ТЭЦ',\n  'https://ru.wikipedia.org/wiki/%D0%90%D0%B2%D1%82%D0%BE%D0%B7%D0%B0%D0%B2%D0%BE%D0%B4%D1%81%D0%BA%D0%B0%D1%8F_%D0%A2%D0%AD%D0%A6'),\n ('Аджарис-Цкальская ГЭС',\n  'https://ru.wikipedia.org/wiki/%D0%90%D0%B4%D0%B6%D0%B0%D1%80%D0%B8%D1%81-%D0%A6%D0%BA%D0%B0%D0%BB%D1%8C%D1%81%D0%BA%D0%B0%D1%8F_%D0%93%D0%AD%D0%A1'),\n ('Адлерская ТЭС',\n  'https://ru.wikipedia.org/wiki/%D0%90%D0%B4%D0%BB%D0%B5%D1%80%D1%81%D0%BA%D0%B0%D1%8F_%D0%A2%D0%AD%D0%A1'),\n ('Адыгейская ВЭС',\n  'https://ru.wikipedia.org/wiki/%D0%90%D0%B4%D1%8B%D0%B3%D0%B5%D0%B9%D1%81%D0%BA%D0%B0%D1%8F_%D0%92%D0%AD%D0%A1'),\n ('Азербайджанская ТЭС',\n  'https://ru.wikipedia.org/wiki/%D0%90%D0%B7%D0%B5%D1%80%D0%B1%D0%B0%D0%B9%D0%B4%D0%B6%D0%B0%D0%BD%D1%81%D0%BA%D0%B0%D1%8F_%D0%A2%D0%AD%D0%A1'),\n ('Ак-Кавакская ГЭС-1',\n  'https://ru.wikipedia.org/wiki/%D0%90%D0%BA-%D0%9A%D0%B0%D0%B2%D0%B0%D0%BA%D1%81%D0%BA%D0%B0%D1%8F_%D0%93%D0%AD%D0%A1-1'),\n ('Академик Ломоносов',\n  'https://ru.wikipedia.org/wiki/%D0%90%D0%BA%D0%B0%D0%B4%D0%B5%D0%BC%D0%B8%D0%BA_%D0%9B%D0%BE%D0%BC%D0%BE%D0%BD%D0%BE%D1%81%D0%BE%D0%B2'),\n ('Академическая ТЭЦ',\n  'https://ru.wikipedia.org/wiki/%D0%90%D0%BA%D0%B0%D0%B4%D0%B5%D0%BC%D0%B8%D1%87%D0%B5%D1%81%D0%BA%D0%B0%D1%8F_%D0%A2%D0%AD%D0%A6'),\n ('Аккую', 'https://ru.wikipedia.org/wiki/%D0%90%D0%BA%D0%BA%D1%83%D1%8E'),\n ('Акосомбо (гидроэлектростанция)',\n  'https://ru.wikipedia.org/wiki/%D0%90%D0%BA%D0%BE%D1%81%D0%BE%D0%BC%D0%B1%D0%BE_(%D0%B3%D0%B8%D0%B4%D1%80%D0%BE%D1%8D%D0%BB%D0%B5%D0%BA%D1%82%D1%80%D0%BE%D1%81%D1%82%D0%B0%D0%BD%D1%86%D0%B8%D1%8F)'),\n ('Аксуская ГРЭС',\n  'https://ru.wikipedia.org/wiki/%D0%90%D0%BA%D1%81%D1%83%D1%81%D0%BA%D0%B0%D1%8F_%D0%93%D0%A0%D0%AD%D0%A1'),\n ('ГТЭС Акшабулак',\n  'https://ru.wikipedia.org/wiki/%D0%93%D0%A2%D0%AD%D0%A1_%D0%90%D0%BA%D1%88%D0%B0%D0%B1%D1%83%D0%BB%D0%B0%D0%BA'),\n ('Александровская ГЭС',\n  'https://ru.wikipedia.org/wiki/%D0%90%D0%BB%D0%B5%D0%BA%D1%81%D0%B0%D0%BD%D0%B4%D1%80%D0%BE%D0%B2%D1%81%D0%BA%D0%B0%D1%8F_%D0%93%D0%AD%D0%A1'),\n ('Алексеевская ТЭЦ-3',\n  'https://ru.wikipedia.org/wiki/%D0%90%D0%BB%D0%B5%D0%BA%D1%81%D0%B5%D0%B5%D0%B2%D1%81%D0%BA%D0%B0%D1%8F_%D0%A2%D0%AD%D0%A6-3'),\n ('Алексинская ТЭЦ',\n  'https://ru.wikipedia.org/wiki/%D0%90%D0%BB%D0%B5%D0%BA%D1%81%D0%B8%D0%BD%D1%81%D0%BA%D0%B0%D1%8F_%D0%A2%D0%AD%D0%A6'),\n ('Аллертинский парк утилизации отходов',\n  'https://ru.wikipedia.org/wiki/%D0%90%D0%BB%D0%BB%D0%B5%D1%80%D1%82%D0%B8%D0%BD%D1%81%D0%BA%D0%B8%D0%B9_%D0%BF%D0%B0%D1%80%D0%BA_%D1%83%D1%82%D0%B8%D0%BB%D0%B8%D0%B7%D0%B0%D1%86%D0%B8%D0%B8_%D0%BE%D1%82%D1%85%D0%BE%D0%B4%D0%BE%D0%B2'),\n ('Алматинская ТЭЦ-3',\n  'https://ru.wikipedia.org/wiki/%D0%90%D0%BB%D0%BC%D0%B0%D1%82%D0%B8%D0%BD%D1%81%D0%BA%D0%B0%D1%8F_%D0%A2%D0%AD%D0%A6-3'),\n ('ГЭС Альтенвёрт',\n  'https://ru.wikipedia.org/wiki/%D0%93%D0%AD%D0%A1_%D0%90%D0%BB%D1%8C%D1%82%D0%B5%D0%BD%D0%B2%D1%91%D1%80%D1%82'),\n ('Амагер Бакке',\n  'https://ru.wikipedia.org/wiki/%D0%90%D0%BC%D0%B0%D0%B3%D0%B5%D1%80_%D0%91%D0%B0%D0%BA%D0%BA%D0%B5'),\n ('Аммакоски (гидроэлектростанция)',\n  'https://ru.wikipedia.org/wiki/%D0%90%D0%BC%D0%BC%D0%B0%D0%BA%D0%BE%D1%81%D0%BA%D0%B8_(%D0%B3%D0%B8%D0%B4%D1%80%D0%BE%D1%8D%D0%BB%D0%B5%D0%BA%D1%82%D1%80%D0%BE%D1%81%D1%82%D0%B0%D0%BD%D1%86%D0%B8%D1%8F)'),\n ('Амурская ТЭЦ-1',\n  'https://ru.wikipedia.org/wiki/%D0%90%D0%BC%D1%83%D1%80%D1%81%D0%BA%D0%B0%D1%8F_%D0%A2%D0%AD%D0%A6-1'),\n ('Анабанилья (ГЭС)',\n  'https://ru.wikipedia.org/wiki/%D0%90%D0%BD%D0%B0%D0%B1%D0%B0%D0%BD%D0%B8%D0%BB%D1%8C%D1%8F_(%D0%93%D0%AD%D0%A1)'),\n ('Анадырская ВЭС',\n  'https://ru.wikipedia.org/wiki/%D0%90%D0%BD%D0%B0%D0%B4%D1%8B%D1%80%D1%81%D0%BA%D0%B0%D1%8F_%D0%92%D0%AD%D0%A1'),\n ('Анадырская ГМТЭЦ',\n  'https://ru.wikipedia.org/wiki/%D0%90%D0%BD%D0%B0%D0%B4%D1%8B%D1%80%D1%81%D0%BA%D0%B0%D1%8F_%D0%93%D0%9C%D0%A2%D0%AD%D0%A6'),\n ('Анадырская ТЭЦ',\n  'https://ru.wikipedia.org/wiki/%D0%90%D0%BD%D0%B0%D0%B4%D1%8B%D1%80%D1%81%D0%BA%D0%B0%D1%8F_%D0%A2%D0%AD%D0%A6'),\n ('Ангренская ТЭС',\n  'https://ru.wikipedia.org/wiki/%D0%90%D0%BD%D0%B3%D1%80%D0%B5%D0%BD%D1%81%D0%BA%D0%B0%D1%8F_%D0%A2%D0%AD%D0%A1'),\n ('Андижанская ГЭС',\n  'https://ru.wikipedia.org/wiki/%D0%90%D0%BD%D0%B4%D0%B8%D0%B6%D0%B0%D0%BD%D1%81%D0%BA%D0%B0%D1%8F_%D0%93%D0%AD%D0%A1'),\n ('Апатитская ТЭЦ',\n  'https://ru.wikipedia.org/wiki/%D0%90%D0%BF%D0%B0%D1%82%D0%B8%D1%82%D1%81%D0%BA%D0%B0%D1%8F_%D0%A2%D0%AD%D0%A6'),\n ('Аракс ГЭС',\n  'https://ru.wikipedia.org/wiki/%D0%90%D1%80%D0%B0%D0%BA%D1%81_%D0%93%D0%AD%D0%A1'),\n ('Аргаяшская ТЭЦ',\n  'https://ru.wikipedia.org/wiki/%D0%90%D1%80%D0%B3%D0%B0%D1%8F%D1%88%D1%81%D0%BA%D0%B0%D1%8F_%D0%A2%D0%AD%D0%A6'),\n ('Аргельская ГЭС',\n  'https://ru.wikipedia.org/wiki/%D0%90%D1%80%D0%B3%D0%B5%D0%BB%D1%8C%D1%81%D0%BA%D0%B0%D1%8F_%D0%93%D0%AD%D0%A1'),\n ('Аргунская ТЭЦ',\n  'https://ru.wikipedia.org/wiki/%D0%90%D1%80%D0%B3%D1%83%D0%BD%D1%81%D0%BA%D0%B0%D1%8F_%D0%A2%D0%AD%D0%A6'),\n ('Арзнинская ГЭС',\n  'https://ru.wikipedia.org/wiki/%D0%90%D1%80%D0%B7%D0%BD%D0%B8%D0%BD%D1%81%D0%BA%D0%B0%D1%8F_%D0%93%D0%AD%D0%A1'),\n ('Аркагалинская ГРЭС',\n  'https://ru.wikipedia.org/wiki/%D0%90%D1%80%D0%BA%D0%B0%D0%B3%D0%B0%D0%BB%D0%B8%D0%BD%D1%81%D0%BA%D0%B0%D1%8F_%D0%93%D0%A0%D0%AD%D0%A1'),\n ('Армавирская ТЭЦ',\n  'https://ru.wikipedia.org/wiki/%D0%90%D1%80%D0%BC%D0%B0%D0%B2%D0%B8%D1%80%D1%81%D0%BA%D0%B0%D1%8F_%D0%A2%D0%AD%D0%A6'),\n ('Армянская АЭС',\n  'https://ru.wikipedia.org/wiki/%D0%90%D1%80%D0%BC%D1%8F%D0%BD%D1%81%D0%BA%D0%B0%D1%8F_%D0%90%D0%AD%D0%A1'),\n ('Артёмовская ТЭЦ (Приморский край)',\n  'https://ru.wikipedia.org/wiki/%D0%90%D1%80%D1%82%D1%91%D0%BC%D0%BE%D0%B2%D1%81%D0%BA%D0%B0%D1%8F_%D0%A2%D0%AD%D0%A6_(%D0%9F%D1%80%D0%B8%D0%BC%D0%BE%D1%80%D1%81%D0%BA%D0%B8%D0%B9_%D0%BA%D1%80%D0%B0%D0%B9)'),\n ('Артёмовская ТЭЦ (Свердловская область)',\n  'https://ru.wikipedia.org/wiki/%D0%90%D1%80%D1%82%D1%91%D0%BC%D0%BE%D0%B2%D1%81%D0%BA%D0%B0%D1%8F_%D0%A2%D0%AD%D0%A6_(%D0%A1%D0%B2%D0%B5%D1%80%D0%B4%D0%BB%D0%BE%D0%B2%D1%81%D0%BA%D0%B0%D1%8F_%D0%BE%D0%B1%D0%BB%D0%B0%D1%81%D1%82%D1%8C)'),\n ('Архангельская ТЭЦ',\n  'https://ru.wikipedia.org/wiki/%D0%90%D1%80%D1%85%D0%B0%D0%BD%D0%B3%D0%B5%D0%BB%D1%8C%D1%81%D0%BA%D0%B0%D1%8F_%D0%A2%D0%AD%D0%A6'),\n ('Астраханская ГРЭС',\n  'https://ru.wikipedia.org/wiki/%D0%90%D1%81%D1%82%D1%80%D0%B0%D1%85%D0%B0%D0%BD%D1%81%D0%BA%D0%B0%D1%8F_%D0%93%D0%A0%D0%AD%D0%A1'),\n ('Астраханская ПГУ-235',\n  'https://ru.wikipedia.org/wiki/%D0%90%D1%81%D1%82%D1%80%D0%B0%D1%85%D0%B0%D0%BD%D1%81%D0%BA%D0%B0%D1%8F_%D0%9F%D0%93%D0%A3-235'),\n ('Астраханская ТЭЦ-2',\n  'https://ru.wikipedia.org/wiki/%D0%90%D1%81%D1%82%D1%80%D0%B0%D1%85%D0%B0%D0%BD%D1%81%D0%BA%D0%B0%D1%8F_%D0%A2%D0%AD%D0%A6-2'),\n ('Асуанский гидроузел',\n  'https://ru.wikipedia.org/wiki/%D0%90%D1%81%D1%83%D0%B0%D0%BD%D1%81%D0%BA%D0%B8%D0%B9_%D0%B3%D0%B8%D0%B4%D1%80%D0%BE%D1%83%D0%B7%D0%B5%D0%BB'),\n ('Ат-Башинская ГЭС',\n  'https://ru.wikipedia.org/wiki/%D0%90%D1%82-%D0%91%D0%B0%D1%88%D0%B8%D0%BD%D1%81%D0%BA%D0%B0%D1%8F_%D0%93%D0%AD%D0%A1'),\n ('Ататюрк (ГЭС)',\n  'https://ru.wikipedia.org/wiki/%D0%90%D1%82%D0%B0%D1%82%D1%8E%D1%80%D0%BA_(%D0%93%D0%AD%D0%A1)'),\n ('ТЭС Атлон',\n  'https://ru.wikipedia.org/wiki/%D0%A2%D0%AD%D0%A1_%D0%90%D1%82%D0%BB%D0%BE%D0%BD'),\n ('Атомная энергетика Венгрии',\n  'https://ru.wikipedia.org/wiki/%D0%90%D1%82%D0%BE%D0%BC%D0%BD%D0%B0%D1%8F_%D1%8D%D0%BD%D0%B5%D1%80%D0%B3%D0%B5%D1%82%D0%B8%D0%BA%D0%B0_%D0%92%D0%B5%D0%BD%D0%B3%D1%80%D0%B8%D0%B8'),\n ('Атырауская ТЭЦ',\n  'https://ru.wikipedia.org/wiki/%D0%90%D1%82%D1%8B%D1%80%D0%B0%D1%83%D1%81%D0%BA%D0%B0%D1%8F_%D0%A2%D0%AD%D0%A6'),\n ('Аушигерская ГЭС',\n  'https://ru.wikipedia.org/wiki/%D0%90%D1%83%D1%88%D0%B8%D0%B3%D0%B5%D1%80%D1%81%D0%BA%D0%B0%D1%8F_%D0%93%D0%AD%D0%A1'),\n ('Ахтынская ГЭС',\n  'https://ru.wikipedia.org/wiki/%D0%90%D1%85%D1%82%D1%8B%D0%BD%D1%81%D0%BA%D0%B0%D1%8F_%D0%93%D0%AD%D0%A1'),\n ('Ахтырская ТЭЦ',\n  'https://ru.wikipedia.org/wiki/%D0%90%D1%85%D1%82%D1%8B%D1%80%D1%81%D0%BA%D0%B0%D1%8F_%D0%A2%D0%AD%D0%A6'),\n ('Ашхабадская ГЭС',\n  'https://ru.wikipedia.org/wiki/%D0%90%D1%88%D1%85%D0%B0%D0%B1%D0%B0%D0%B4%D1%81%D0%BA%D0%B0%D1%8F_%D0%93%D0%AD%D0%A1'),\n ('АЭС «Белене»',\n  'https://ru.wikipedia.org/wiki/%D0%90%D0%AD%D0%A1_%C2%AB%D0%91%D0%B5%D0%BB%D0%B5%D0%BD%D0%B5%C2%BB'),\n ('АЭС «Дукованы»',\n  'https://ru.wikipedia.org/wiki/%D0%90%D0%AD%D0%A1_%C2%AB%D0%94%D1%83%D0%BA%D0%BE%D0%B2%D0%B0%D0%BD%D1%8B%C2%BB'),\n ('АЭС «Игнеада»',\n  'https://ru.wikipedia.org/wiki/%D0%90%D0%AD%D0%A1_%C2%AB%D0%98%D0%B3%D0%BD%D0%B5%D0%B0%D0%B4%D0%B0%C2%BB'),\n ('АЭС «Козлодуй»',\n  'https://ru.wikipedia.org/wiki/%D0%90%D0%AD%D0%A1_%C2%AB%D0%9A%D0%BE%D0%B7%D0%BB%D0%BE%D0%B4%D1%83%D0%B9%C2%BB'),\n ('АЭС «Ловииса»',\n  'https://ru.wikipedia.org/wiki/%D0%90%D0%AD%D0%A1_%C2%AB%D0%9B%D0%BE%D0%B2%D0%B8%D0%B8%D1%81%D0%B0%C2%BB'),\n ('АЭС «Олкилуото»',\n  'https://ru.wikipedia.org/wiki/%D0%90%D0%AD%D0%A1_%C2%AB%D0%9E%D0%BB%D0%BA%D0%B8%D0%BB%D1%83%D0%BE%D1%82%D0%BE%C2%BB'),\n ('АЭС «Синоп»',\n  'https://ru.wikipedia.org/wiki/%D0%90%D0%AD%D0%A1_%C2%AB%D0%A1%D0%B8%D0%BD%D0%BE%D0%BF%C2%BB'),\n ('АЭС «Ханхикиви-1»',\n  'https://ru.wikipedia.org/wiki/%D0%90%D0%AD%D0%A1_%C2%AB%D0%A5%D0%B0%D0%BD%D1%85%D0%B8%D0%BA%D0%B8%D0%B2%D0%B8-1%C2%BB'),\n ('АЭС «Хинкли-Пойнт»',\n  'https://ru.wikipedia.org/wiki/%D0%90%D0%AD%D0%A1_%C2%AB%D0%A5%D0%B8%D0%BD%D0%BA%D0%BB%D0%B8-%D0%9F%D0%BE%D0%B9%D0%BD%D1%82%C2%BB'),\n ('АЭС Альмарас',\n  'https://ru.wikipedia.org/wiki/%D0%90%D0%AD%D0%A1_%D0%90%D0%BB%D1%8C%D0%BC%D0%B0%D1%80%D0%B0%D1%81'),\n ('АЭС Арканзас',\n  'https://ru.wikipedia.org/wiki/%D0%90%D0%AD%D0%A1_%D0%90%D1%80%D0%BA%D0%B0%D0%BD%D0%B7%D0%B0%D1%81'),\n ('АЭС Аско',\n  'https://ru.wikipedia.org/wiki/%D0%90%D0%AD%D0%A1_%D0%90%D1%81%D0%BA%D0%BE'),\n ('АЭС Атуча',\n  'https://ru.wikipedia.org/wiki/%D0%90%D0%AD%D0%A1_%D0%90%D1%82%D1%83%D1%87%D0%B0'),\n ('АЭС Байрон',\n  'https://ru.wikipedia.org/wiki/%D0%90%D0%AD%D0%A1_%D0%91%D0%B0%D0%B9%D1%80%D0%BE%D0%BD'),\n ('АЭС Барака',\n  'https://ru.wikipedia.org/wiki/%D0%90%D0%AD%D0%A1_%D0%91%D0%B0%D1%80%D0%B0%D0%BA%D0%B0'),\n ('АЭС Барсебек',\n  'https://ru.wikipedia.org/wiki/%D0%90%D0%AD%D0%A1_%D0%91%D0%B0%D1%80%D1%81%D0%B5%D0%B1%D0%B5%D0%BA'),\n ('АЭС Бельвиль',\n  'https://ru.wikipedia.org/wiki/%D0%90%D0%AD%D0%A1_%D0%91%D0%B5%D0%BB%D1%8C%D0%B2%D0%B8%D0%BB%D1%8C'),\n ('АЭС Бецнау',\n  'https://ru.wikipedia.org/wiki/%D0%90%D0%AD%D0%A1_%D0%91%D0%B5%D1%86%D0%BD%D0%B0%D1%83'),\n ('АЭС Библис',\n  'https://ru.wikipedia.org/wiki/%D0%90%D0%AD%D0%A1_%D0%91%D0%B8%D0%B1%D0%BB%D0%B8%D1%81'),\n ('АЭС Бивер-Валли',\n  'https://ru.wikipedia.org/wiki/%D0%90%D0%AD%D0%A1_%D0%91%D0%B8%D0%B2%D0%B5%D1%80-%D0%92%D0%B0%D0%BB%D0%BB%D0%B8'),\n ('АЭС Блайе',\n  'https://ru.wikipedia.org/wiki/%D0%90%D0%AD%D0%A1_%D0%91%D0%BB%D0%B0%D0%B9%D0%B5'),\n ('АЭС Богунице',\n  'https://ru.wikipedia.org/wiki/%D0%90%D0%AD%D0%A1_%D0%91%D0%BE%D0%B3%D1%83%D0%BD%D0%B8%D1%86%D0%B5'),\n ('АЭС Борселе',\n  'https://ru.wikipedia.org/wiki/%D0%90%D0%AD%D0%A1_%D0%91%D0%BE%D1%80%D1%81%D0%B5%D0%BB%D0%B5'),\n ('АЭС Брансуик',\n  'https://ru.wikipedia.org/wiki/%D0%90%D0%AD%D0%A1_%D0%91%D1%80%D0%B0%D0%BD%D1%81%D1%83%D0%B8%D0%BA'),\n ('АЭС Браунз-Ферри',\n  'https://ru.wikipedia.org/wiki/%D0%90%D0%AD%D0%A1_%D0%91%D1%80%D0%B0%D1%83%D0%BD%D0%B7-%D0%A4%D0%B5%D1%80%D1%80%D0%B8'),\n ('АЭС Бреннилис',\n  'https://ru.wikipedia.org/wiki/%D0%90%D0%AD%D0%A1_%D0%91%D1%80%D0%B5%D0%BD%D0%BD%D0%B8%D0%BB%D0%B8%D1%81'),\n ('АЭС Брокдорф',\n  'https://ru.wikipedia.org/wiki/%D0%90%D0%AD%D0%A1_%D0%91%D1%80%D0%BE%D0%BA%D0%B4%D0%BE%D1%80%D1%84'),\n ('АЭС Брунсбюттель',\n  'https://ru.wikipedia.org/wiki/%D0%90%D0%AD%D0%A1_%D0%91%D1%80%D1%83%D0%BD%D1%81%D0%B1%D1%8E%D1%82%D1%82%D0%B5%D0%BB%D1%8C'),\n ('АЭС Брэйдвуд',\n  'https://ru.wikipedia.org/wiki/%D0%90%D0%AD%D0%A1_%D0%91%D1%80%D1%8D%D0%B9%D0%B4%D0%B2%D1%83%D0%B4'),\n ('АЭС Брюс',\n  'https://ru.wikipedia.org/wiki/%D0%90%D0%AD%D0%A1_%D0%91%D1%80%D1%8E%D1%81'),\n ('АЭС Бюже',\n  'https://ru.wikipedia.org/wiki/%D0%90%D0%AD%D0%A1_%D0%91%D1%8E%D0%B6%D0%B5'),\n ('АЭС в Джизакской области Узбекистана',\n  'https://ru.wikipedia.org/wiki/%D0%90%D0%AD%D0%A1_%D0%B2_%D0%94%D0%B6%D0%B8%D0%B7%D0%B0%D0%BA%D1%81%D0%BA%D0%BE%D0%B9_%D0%BE%D0%B1%D0%BB%D0%B0%D1%81%D1%82%D0%B8_%D0%A3%D0%B7%D0%B1%D0%B5%D0%BA%D0%B8%D1%81%D1%82%D0%B0%D0%BD%D0%B0'),\n ('АЭС Вандельос',\n  'https://ru.wikipedia.org/wiki/%D0%90%D0%AD%D0%A1_%D0%92%D0%B0%D0%BD%D0%B4%D0%B5%D0%BB%D1%8C%D0%BE%D1%81'),\n ('АЭС Вермонт Янки',\n  'https://ru.wikipedia.org/wiki/%D0%90%D0%AD%D0%A1_%D0%92%D0%B5%D1%80%D0%BC%D0%BE%D0%BD%D1%82_%D0%AF%D0%BD%D0%BA%D0%B8'),\n ('АЭС Ви-Си Саммер',\n  'https://ru.wikipedia.org/wiki/%D0%90%D0%AD%D0%A1_%D0%92%D0%B8-%D0%A1%D0%B8_%D0%A1%D0%B0%D0%BC%D0%BC%D0%B5%D1%80'),\n ('АЭС Вогтль',\n  'https://ru.wikipedia.org/wiki/%D0%90%D0%AD%D0%A1_%D0%92%D0%BE%D0%B3%D1%82%D0%BB%D1%8C'),\n ('АЭС Волф Крик',\n  'https://ru.wikipedia.org/wiki/%D0%90%D0%AD%D0%A1_%D0%92%D0%BE%D0%BB%D1%84_%D0%9A%D1%80%D0%B8%D0%BA'),\n ('АЭС Вольсон',\n  'https://ru.wikipedia.org/wiki/%D0%90%D0%AD%D0%A1_%D0%92%D0%BE%D0%BB%D1%8C%D1%81%D0%BE%D0%BD'),\n ('АЭС Вюргассен',\n  'https://ru.wikipedia.org/wiki/%D0%90%D0%AD%D0%A1_%D0%92%D1%8E%D1%80%D0%B3%D0%B0%D1%81%D1%81%D0%B5%D0%BD'),\n ('АЭС Гарильяно',\n  'https://ru.wikipedia.org/wiki/%D0%90%D0%AD%D0%A1_%D0%93%D0%B0%D1%80%D0%B8%D0%BB%D1%8C%D1%8F%D0%BD%D0%BE'),\n ('АЭС Генкай',\n  'https://ru.wikipedia.org/wiki/%D0%90%D0%AD%D0%A1_%D0%93%D0%B5%D0%BD%D0%BA%D0%B0%D0%B9'),\n ('АЭС Гёсген',\n  'https://ru.wikipedia.org/wiki/%D0%90%D0%AD%D0%A1_%D0%93%D1%91%D1%81%D0%B3%D0%B5%D0%BD'),\n ('АЭС Гольфеш',\n  'https://ru.wikipedia.org/wiki/%D0%90%D0%AD%D0%A1_%D0%93%D0%BE%D0%BB%D1%8C%D1%84%D0%B5%D1%88'),\n ('АЭС Гравлин',\n  'https://ru.wikipedia.org/wiki/%D0%90%D0%AD%D0%A1_%D0%93%D1%80%D0%B0%D0%B2%D0%BB%D0%B8%D0%BD'),\n ('АЭС Грайфсвальд',\n  'https://ru.wikipedia.org/wiki/%D0%90%D0%AD%D0%A1_%D0%93%D1%80%D0%B0%D0%B9%D1%84%D1%81%D0%B2%D0%B0%D0%BB%D1%8C%D0%B4'),\n ('АЭС Гранд-Галф',\n  'https://ru.wikipedia.org/wiki/%D0%90%D0%AD%D0%A1_%D0%93%D1%80%D0%B0%D0%BD%D0%B4-%D0%93%D0%B0%D0%BB%D1%84'),\n ('АЭС Графенрайнфельд',\n  'https://ru.wikipedia.org/wiki/%D0%90%D0%AD%D0%A1_%D0%93%D1%80%D0%B0%D1%84%D0%B5%D0%BD%D1%80%D0%B0%D0%B9%D0%BD%D1%84%D0%B5%D0%BB%D1%8C%D0%B4'),\n ('АЭС Гронде',\n  'https://ru.wikipedia.org/wiki/%D0%90%D0%AD%D0%A1_%D0%93%D1%80%D0%BE%D0%BD%D0%B4%D0%B5'),\n ('АЭС Гросвельцхайм',\n  'https://ru.wikipedia.org/wiki/%D0%90%D0%AD%D0%A1_%D0%93%D1%80%D0%BE%D1%81%D0%B2%D0%B5%D0%BB%D1%8C%D1%86%D1%85%D0%B0%D0%B9%D0%BC'),\n ('АЭС Гундремминген',\n  'https://ru.wikipedia.org/wiki/%D0%90%D0%AD%D0%A1_%D0%93%D1%83%D0%BD%D0%B4%D1%80%D0%B5%D0%BC%D0%BC%D0%B8%D0%BD%D0%B3%D0%B5%D0%BD'),\n ('АЭС Дампьер',\n  'https://ru.wikipedia.org/wiki/%D0%90%D0%AD%D0%A1_%D0%94%D0%B0%D0%BC%D0%BF%D1%8C%D0%B5%D1%80'),\n ('АЭС Дандженесс',\n  'https://ru.wikipedia.org/wiki/%D0%90%D0%AD%D0%A1_%D0%94%D0%B0%D0%BD%D0%B4%D0%B6%D0%B5%D0%BD%D0%B5%D1%81%D1%81'),\n ('АЭС Дарлингтон',\n  'https://ru.wikipedia.org/wiki/%D0%90%D0%AD%D0%A1_%D0%94%D0%B0%D1%80%D0%BB%D0%B8%D0%BD%D0%B3%D1%82%D0%BE%D0%BD'),\n ('АЭС Даявань',\n  'https://ru.wikipedia.org/wiki/%D0%90%D0%AD%D0%A1_%D0%94%D0%B0%D1%8F%D0%B2%D0%B0%D0%BD%D1%8C'),\n ('АЭС Джентилли',\n  'https://ru.wikipedia.org/wiki/%D0%90%D0%AD%D0%A1_%D0%94%D0%B6%D0%B5%D0%BD%D1%82%D0%B8%D0%BB%D0%BB%D0%B8'),\n ('АЭС Джинна',\n  'https://ru.wikipedia.org/wiki/%D0%90%D0%AD%D0%A1_%D0%94%D0%B6%D0%B8%D0%BD%D0%BD%D0%B0'),\n ('АЭС Додевард',\n  'https://ru.wikipedia.org/wiki/%D0%90%D0%AD%D0%A1_%D0%94%D0%BE%D0%B4%D0%B5%D0%B2%D0%B0%D1%80%D0%B4'),\n ('АЭС Дональд Кук',\n  'https://ru.wikipedia.org/wiki/%D0%90%D0%AD%D0%A1_%D0%94%D0%BE%D0%BD%D0%B0%D0%BB%D1%8C%D0%B4_%D0%9A%D1%83%D0%BA'),\n ('АЭС Дрезден',\n  'https://ru.wikipedia.org/wiki/%D0%90%D0%AD%D0%A1_%D0%94%D1%80%D0%B5%D0%B7%D0%B4%D0%B5%D0%BD'),\n ('АЭС Дуглас-Пойнт',\n  'https://ru.wikipedia.org/wiki/%D0%90%D0%AD%D0%A1_%D0%94%D1%83%D0%B3%D0%BB%D0%B0%D1%81-%D0%9F%D0%BE%D0%B9%D0%BD%D1%82'),\n ('АЭС Дул',\n  'https://ru.wikipedia.org/wiki/%D0%90%D0%AD%D0%A1_%D0%94%D1%83%D0%BB'),\n ('АЭС Дуэйн-Арнольд',\n  'https://ru.wikipedia.org/wiki/%D0%90%D0%AD%D0%A1_%D0%94%D1%83%D1%8D%D0%B9%D0%BD-%D0%90%D1%80%D0%BD%D0%BE%D0%BB%D1%8C%D0%B4'),\n ('АЭС Дьябло Каньон',\n  'https://ru.wikipedia.org/wiki/%D0%90%D0%AD%D0%A1_%D0%94%D1%8C%D1%8F%D0%B1%D0%BB%D0%BE_%D0%9A%D0%B0%D0%BD%D1%8C%D0%BE%D0%BD'),\n ('АЭС Дэвис-Бесс',\n  'https://ru.wikipedia.org/wiki/%D0%90%D0%AD%D0%A1_%D0%94%D1%8D%D0%B2%D0%B8%D1%81-%D0%91%D0%B5%D1%81%D1%81'),\n ('АЭС Жарновец',\n  'https://ru.wikipedia.org/wiki/%D0%90%D0%AD%D0%A1_%D0%96%D0%B0%D1%80%D0%BD%D0%BE%D0%B2%D0%B5%D1%86'),\n ('АЭС Зион',\n  'https://ru.wikipedia.org/wiki/%D0%90%D0%AD%D0%A1_%D0%97%D0%B8%D0%BE%D0%BD'),\n ('АЭС Изар',\n  'https://ru.wikipedia.org/wiki/%D0%90%D0%AD%D0%A1_%D0%98%D0%B7%D0%B0%D1%80'),\n ('АЭС Иката',\n  'https://ru.wikipedia.org/wiki/%D0%90%D0%AD%D0%A1_%D0%98%D0%BA%D0%B0%D1%82%D0%B0'),\n ('АЭС имени адмирала Алваро Алберто',\n  'https://ru.wikipedia.org/wiki/%D0%90%D0%AD%D0%A1_%D0%B8%D0%BC%D0%B5%D0%BD%D0%B8_%D0%B0%D0%B4%D0%BC%D0%B8%D1%80%D0%B0%D0%BB%D0%B0_%D0%90%D0%BB%D0%B2%D0%B0%D1%80%D0%BE_%D0%90%D0%BB%D0%B1%D0%B5%D1%80%D1%82%D0%BE'),\n ('АЭС Индиан-Пойнт',\n  'https://ru.wikipedia.org/wiki/%D0%90%D0%AD%D0%A1_%D0%98%D0%BD%D0%B4%D0%B8%D0%B0%D0%BD-%D0%9F%D0%BE%D0%B9%D0%BD%D1%82'),\n ('АЭС Кайга',\n  'https://ru.wikipedia.org/wiki/%D0%90%D0%AD%D0%A1_%D0%9A%D0%B0%D0%B9%D0%B3%D0%B0'),\n ('АЭС Какрапар',\n  'https://ru.wikipedia.org/wiki/%D0%90%D0%AD%D0%A1_%D0%9A%D0%B0%D0%BA%D1%80%D0%B0%D0%BF%D0%B0%D1%80'),\n ('АЭС Калверт-Клифс',\n  'https://ru.wikipedia.org/wiki/%D0%90%D0%AD%D0%A1_%D0%9A%D0%B0%D0%BB%D0%B2%D0%B5%D1%80%D1%82-%D0%9A%D0%BB%D0%B8%D1%84%D1%81'),\n ('АЭС Каллауэй',\n  'https://ru.wikipedia.org/wiki/%D0%90%D0%AD%D0%A1_%D0%9A%D0%B0%D0%BB%D0%BB%D0%B0%D1%83%D1%8D%D0%B9'),\n ('АЭС Каль',\n  'https://ru.wikipedia.org/wiki/%D0%90%D0%AD%D0%A1_%D0%9A%D0%B0%D0%BB%D1%8C'),\n ('АЭС Каорсо',\n  'https://ru.wikipedia.org/wiki/%D0%90%D0%AD%D0%A1_%D0%9A%D0%B0%D0%BE%D1%80%D1%81%D0%BE'),\n ('АЭС Карачи',\n  'https://ru.wikipedia.org/wiki/%D0%90%D0%AD%D0%A1_%D0%9A%D0%B0%D1%80%D0%B0%D1%87%D0%B8'),\n ('АЭС Касивадзаки-Карива',\n  'https://ru.wikipedia.org/wiki/%D0%90%D0%AD%D0%A1_%D0%9A%D0%B0%D1%81%D0%B8%D0%B2%D0%B0%D0%B4%D0%B7%D0%B0%D0%BA%D0%B8-%D0%9A%D0%B0%D1%80%D0%B8%D0%B2%D0%B0'),\n ('АЭС Катоба',\n  'https://ru.wikipedia.org/wiki/%D0%90%D0%AD%D0%A1_%D0%9A%D0%B0%D1%82%D0%BE%D0%B1%D0%B0'),\n ('АЭС Каттеном',\n  'https://ru.wikipedia.org/wiki/%D0%90%D0%AD%D0%A1_%D0%9A%D0%B0%D1%82%D1%82%D0%B5%D0%BD%D0%BE%D0%BC'),\n ('АЭС Квод Ситис',\n  'https://ru.wikipedia.org/wiki/%D0%90%D0%AD%D0%A1_%D0%9A%D0%B2%D0%BE%D0%B4_%D0%A1%D0%B8%D1%82%D0%B8%D1%81'),\n ('АЭС Кевони',\n  'https://ru.wikipedia.org/wiki/%D0%90%D0%AD%D0%A1_%D0%9A%D0%B5%D0%B2%D0%BE%D0%BD%D0%B8'),\n ('АЭС Клинтон',\n  'https://ru.wikipedia.org/wiki/%D0%90%D0%AD%D0%A1_%D0%9A%D0%BB%D0%B8%D0%BD%D1%82%D0%BE%D0%BD'),\n ('АЭС Коберг',\n  'https://ru.wikipedia.org/wiki/%D0%90%D0%AD%D0%A1_%D0%9A%D0%BE%D0%B1%D0%B5%D1%80%D0%B3'),\n ('АЭС Колумбия',\n  'https://ru.wikipedia.org/wiki/%D0%90%D0%AD%D0%A1_%D0%9A%D0%BE%D0%BB%D1%83%D0%BC%D0%B1%D0%B8%D1%8F'),\n ('АЭС Команчи-Пик',\n  'https://ru.wikipedia.org/wiki/%D0%90%D0%AD%D0%A1_%D0%9A%D0%BE%D0%BC%D0%B0%D0%BD%D1%87%D0%B8-%D0%9F%D0%B8%D0%BA'),\n ('АЭС Коннектикут Янки',\n  'https://ru.wikipedia.org/wiki/%D0%90%D0%AD%D0%A1_%D0%9A%D0%BE%D0%BD%D0%BD%D0%B5%D0%BA%D1%82%D0%B8%D0%BA%D1%83%D1%82_%D0%AF%D0%BD%D0%BA%D0%B8'),\n ('АЭС Кори',\n  'https://ru.wikipedia.org/wiki/%D0%90%D0%AD%D0%A1_%D0%9A%D0%BE%D1%80%D0%B8'),\n ('АЭС Кофрентес',\n  'https://ru.wikipedia.org/wiki/%D0%90%D0%AD%D0%A1_%D0%9A%D0%BE%D1%84%D1%80%D0%B5%D0%BD%D1%82%D0%B5%D1%81'),\n ('АЭС Крей-Мальвиль',\n  'https://ru.wikipedia.org/wiki/%D0%90%D0%AD%D0%A1_%D0%9A%D1%80%D0%B5%D0%B9-%D0%9C%D0%B0%D0%BB%D1%8C%D0%B2%D0%B8%D0%BB%D1%8C'),\n ('АЭС Кристал Ривер',\n  'https://ru.wikipedia.org/wiki/%D0%90%D0%AD%D0%A1_%D0%9A%D1%80%D0%B8%D1%81%D1%82%D0%B0%D0%BB_%D0%A0%D0%B8%D0%B2%D0%B5%D1%80'),\n ('АЭС Кршко',\n  'https://ru.wikipedia.org/wiki/%D0%90%D0%AD%D0%A1_%D0%9A%D1%80%D1%88%D0%BA%D0%BE'),\n ('АЭС Крюа',\n  'https://ru.wikipedia.org/wiki/%D0%90%D0%AD%D0%A1_%D0%9A%D1%80%D1%8E%D0%B0'),\n ('АЭС Крюммель',\n  'https://ru.wikipedia.org/wiki/%D0%90%D0%AD%D0%A1_%D0%9A%D1%80%D1%8E%D0%BC%D0%BC%D0%B5%D0%BB%D1%8C'),\n ('АЭС Куданкулам',\n  'https://ru.wikipedia.org/wiki/%D0%90%D0%AD%D0%A1_%D0%9A%D1%83%D0%B4%D0%B0%D0%BD%D0%BA%D1%83%D0%BB%D0%B0%D0%BC'),\n ('АЭС Куошен',\n  'https://ru.wikipedia.org/wiki/%D0%90%D0%AD%D0%A1_%D0%9A%D1%83%D0%BE%D1%88%D0%B5%D0%BD'),\n ('АЭС Купер',\n  'https://ru.wikipedia.org/wiki/%D0%90%D0%AD%D0%A1_%D0%9A%D1%83%D0%BF%D0%B5%D1%80'),\n ('АЭС Лагуна-Верде',\n  'https://ru.wikipedia.org/wiki/%D0%90%D0%AD%D0%A1_%D0%9B%D0%B0%D0%B3%D1%83%D0%BD%D0%B0-%D0%92%D0%B5%D1%80%D0%B4%D0%B5'),\n ('АЭС Лайбштадт',\n  'https://ru.wikipedia.org/wiki/%D0%90%D0%AD%D0%A1_%D0%9B%D0%B0%D0%B9%D0%B1%D1%88%D1%82%D0%B0%D0%B4%D1%82'),\n ('АЭС Ласаль',\n  'https://ru.wikipedia.org/wiki/%D0%90%D0%AD%D0%A1_%D0%9B%D0%B0%D1%81%D0%B0%D0%BB%D1%8C'),\n ('АЭС Латина',\n  'https://ru.wikipedia.org/wiki/%D0%90%D0%AD%D0%A1_%D0%9B%D0%B0%D1%82%D0%B8%D0%BD%D0%B0'),\n ('АЭС Лимерик',\n  'https://ru.wikipedia.org/wiki/%D0%90%D0%AD%D0%A1_%D0%9B%D0%B8%D0%BC%D0%B5%D1%80%D0%B8%D0%BA'),\n ('АЭС Линген',\n  'https://ru.wikipedia.org/wiki/%D0%90%D0%AD%D0%A1_%D0%9B%D0%B8%D0%BD%D0%B3%D0%B5%D0%BD'),\n ('АЭС Линьао',\n  'https://ru.wikipedia.org/wiki/%D0%90%D0%AD%D0%A1_%D0%9B%D0%B8%D0%BD%D1%8C%D0%B0%D0%BE'),\n ('АЭС Лунгмень',\n  'https://ru.wikipedia.org/wiki/%D0%90%D0%AD%D0%A1_%D0%9B%D1%83%D0%BD%D0%B3%D0%BC%D0%B5%D0%BD%D1%8C'),\n ('АЭС Мааншан',\n  'https://ru.wikipedia.org/wiki/%D0%90%D0%AD%D0%A1_%D0%9C%D0%B0%D0%B0%D0%BD%D1%88%D0%B0%D0%BD'),\n ('АЭС Мадрас',\n  'https://ru.wikipedia.org/wiki/%D0%90%D0%AD%D0%A1_%D0%9C%D0%B0%D0%B4%D1%80%D0%B0%D1%81'),\n ('АЭС Макгуайр',\n  'https://ru.wikipedia.org/wiki/%D0%90%D0%AD%D0%A1_%D0%9C%D0%B0%D0%BA%D0%B3%D1%83%D0%B0%D0%B9%D1%80'),\n ('АЭС Милстоун',\n  'https://ru.wikipedia.org/wiki/%D0%90%D0%AD%D0%A1_%D0%9C%D0%B8%D0%BB%D1%81%D1%82%D0%BE%D1%83%D0%BD'),\n ('АЭС Михама',\n  'https://ru.wikipedia.org/wiki/%D0%90%D0%AD%D0%A1_%D0%9C%D0%B8%D1%85%D0%B0%D0%BC%D0%B0'),\n ('АЭС Мондзю',\n  'https://ru.wikipedia.org/wiki/%D0%90%D0%AD%D0%A1_%D0%9C%D0%BE%D0%BD%D0%B4%D0%B7%D1%8E'),\n ('АЭС Монтичелло',\n  'https://ru.wikipedia.org/wiki/%D0%90%D0%AD%D0%A1_%D0%9C%D0%BE%D0%BD%D1%82%D0%B8%D1%87%D0%B5%D0%BB%D0%BB%D0%BE'),\n ('АЭС Моховце',\n  'https://ru.wikipedia.org/wiki/%D0%90%D0%AD%D0%A1_%D0%9C%D0%BE%D1%85%D0%BE%D0%B2%D1%86%D0%B5'),\n ('АЭС Мэн Янки',\n  'https://ru.wikipedia.org/wiki/%D0%90%D0%AD%D0%A1_%D0%9C%D1%8D%D0%BD_%D0%AF%D0%BD%D0%BA%D0%B8'),\n ('АЭС Мюлеберг',\n  'https://ru.wikipedia.org/wiki/%D0%90%D0%AD%D0%A1_%D0%9C%D1%8E%D0%BB%D0%B5%D0%B1%D0%B5%D1%80%D0%B3'),\n ('АЭС Мюльхайм-Керлих',\n  'https://ru.wikipedia.org/wiki/%D0%90%D0%AD%D0%A1_%D0%9C%D1%8E%D0%BB%D1%8C%D1%85%D0%B0%D0%B9%D0%BC-%D0%9A%D0%B5%D1%80%D0%BB%D0%B8%D1%85'),\n ('АЭС Найн-Майл-Пойнт',\n  'https://ru.wikipedia.org/wiki/%D0%90%D0%AD%D0%A1_%D0%9D%D0%B0%D0%B9%D0%BD-%D0%9C%D0%B0%D0%B9%D0%BB-%D0%9F%D0%BE%D0%B9%D0%BD%D1%82'),\n ('АЭС Нарора',\n  'https://ru.wikipedia.org/wiki/%D0%90%D0%AD%D0%A1_%D0%9D%D0%B0%D1%80%D0%BE%D1%80%D0%B0'),\n ('АЭС Неккарвестхайм',\n  'https://ru.wikipedia.org/wiki/%D0%90%D0%AD%D0%A1_%D0%9D%D0%B5%D0%BA%D0%BA%D0%B0%D1%80%D0%B2%D0%B5%D1%81%D1%82%D1%85%D0%B0%D0%B9%D0%BC'),\n ('АЭС Нидерайхбах',\n  'https://ru.wikipedia.org/wiki/%D0%90%D0%AD%D0%A1_%D0%9D%D0%B8%D0%B4%D0%B5%D1%80%D0%B0%D0%B9%D1%85%D0%B1%D0%B0%D1%85'),\n ('АЭС Ниндэ',\n  'https://ru.wikipedia.org/wiki/%D0%90%D0%AD%D0%A1_%D0%9D%D0%B8%D0%BD%D0%B4%D1%8D'),\n ('АЭС Ножан',\n  'https://ru.wikipedia.org/wiki/%D0%90%D0%AD%D0%A1_%D0%9D%D0%BE%D0%B6%D0%B0%D0%BD'),\n ('АЭС Норт Анна',\n  'https://ru.wikipedia.org/wiki/%D0%90%D0%AD%D0%A1_%D0%9D%D0%BE%D1%80%D1%82_%D0%90%D0%BD%D0%BD%D0%B0'),\n ('АЭС Обригхайм',\n  'https://ru.wikipedia.org/wiki/%D0%90%D0%AD%D0%A1_%D0%9E%D0%B1%D1%80%D0%B8%D0%B3%D1%85%D0%B0%D0%B9%D0%BC'),\n ('АЭС Огеста',\n  'https://ru.wikipedia.org/wiki/%D0%90%D0%AD%D0%A1_%D0%9E%D0%B3%D0%B5%D1%81%D1%82%D0%B0'),\n ('АЭС Ои', 'https://ru.wikipedia.org/wiki/%D0%90%D0%AD%D0%A1_%D0%9E%D0%B8'),\n ('АЭС Ойстер-Крик',\n  'https://ru.wikipedia.org/wiki/%D0%90%D0%AD%D0%A1_%D0%9E%D0%B9%D1%81%D1%82%D0%B5%D1%80-%D0%9A%D1%80%D0%B8%D0%BA'),\n ('АЭС Окони',\n  'https://ru.wikipedia.org/wiki/%D0%90%D0%AD%D0%A1_%D0%9E%D0%BA%D0%BE%D0%BD%D0%B8'),\n ('АЭС Ома',\n  'https://ru.wikipedia.org/wiki/%D0%90%D0%AD%D0%A1_%D0%9E%D0%BC%D0%B0'),\n ('АЭС Онагава',\n  'https://ru.wikipedia.org/wiki/%D0%90%D0%AD%D0%A1_%D0%9E%D0%BD%D0%B0%D0%B3%D0%B0%D0%B2%D0%B0'),\n ('АЭС Оскарсхамн',\n  'https://ru.wikipedia.org/wiki/%D0%90%D0%AD%D0%A1_%D0%9E%D1%81%D0%BA%D0%B0%D1%80%D1%81%D1%85%D0%B0%D0%BC%D0%BD'),\n ('АЭС Пакш',\n  'https://ru.wikipedia.org/wiki/%D0%90%D0%AD%D0%A1_%D0%9F%D0%B0%D0%BA%D1%88'),\n ('АЭС Палисадес',\n  'https://ru.wikipedia.org/wiki/%D0%90%D0%AD%D0%A1_%D0%9F%D0%B0%D0%BB%D0%B8%D1%81%D0%B0%D0%B4%D0%B5%D1%81'),\n ('АЭС Пало-Верде',\n  'https://ru.wikipedia.org/wiki/%D0%90%D0%AD%D0%A1_%D0%9F%D0%B0%D0%BB%D0%BE-%D0%92%D0%B5%D1%80%D0%B4%D0%B5'),\n ('АЭС Палюэль',\n  'https://ru.wikipedia.org/wiki/%D0%90%D0%AD%D0%A1_%D0%9F%D0%B0%D0%BB%D1%8E%D1%8D%D0%BB%D1%8C'),\n ('АЭС Пенли',\n  'https://ru.wikipedia.org/wiki/%D0%90%D0%AD%D0%A1_%D0%9F%D0%B5%D0%BD%D0%BB%D0%B8'),\n ('АЭС Перри',\n  'https://ru.wikipedia.org/wiki/%D0%90%D0%AD%D0%A1_%D0%9F%D0%B5%D1%80%D1%80%D0%B8'),\n ('АЭС Пикеринг',\n  'https://ru.wikipedia.org/wiki/%D0%90%D0%AD%D0%A1_%D0%9F%D0%B8%D0%BA%D0%B5%D1%80%D0%B8%D0%BD%D0%B3'),\n ('АЭС Пилигрим',\n  'https://ru.wikipedia.org/wiki/%D0%90%D0%AD%D0%A1_%D0%9F%D0%B8%D0%BB%D0%B8%D0%B3%D1%80%D0%B8%D0%BC'),\n ('АЭС Пич-Боттом',\n  'https://ru.wikipedia.org/wiki/%D0%90%D0%AD%D0%A1_%D0%9F%D0%B8%D1%87-%D0%91%D0%BE%D1%82%D1%82%D0%BE%D0%BC'),\n ('АЭС Пойнт-Бич',\n  'https://ru.wikipedia.org/wiki/%D0%90%D0%AD%D0%A1_%D0%9F%D0%BE%D0%B9%D0%BD%D1%82-%D0%91%D0%B8%D1%87'),\n ('АЭС Пойнт-Лепро',\n  'https://ru.wikipedia.org/wiki/%D0%90%D0%AD%D0%A1_%D0%9F%D0%BE%D0%B9%D0%BD%D1%82-%D0%9B%D0%B5%D0%BF%D1%80%D0%BE'),\n ('АЭС Прейри-Айленд',\n  'https://ru.wikipedia.org/wiki/%D0%90%D0%AD%D0%A1_%D0%9F%D1%80%D0%B5%D0%B9%D1%80%D0%B8-%D0%90%D0%B9%D0%BB%D0%B5%D0%BD%D0%B4'),\n ('АЭС Раджастан',\n  'https://ru.wikipedia.org/wiki/%D0%90%D0%AD%D0%A1_%D0%A0%D0%B0%D0%B4%D0%B6%D0%B0%D1%81%D1%82%D0%B0%D0%BD'),\n ('АЭС Райнсберг',\n  'https://ru.wikipedia.org/wiki/%D0%90%D0%AD%D0%A1_%D0%A0%D0%B0%D0%B9%D0%BD%D1%81%D0%B1%D0%B5%D1%80%D0%B3'),\n ('Абаданская ГЭС',\n  'https://ru.wikipedia.org/wiki/%D0%90%D0%B1%D0%B0%D0%B4%D0%B0%D0%BD%D1%81%D0%BA%D0%B0%D1%8F_%D0%93%D0%AD%D0%A1'),\n ('Абаканская ТЭЦ',\n  'https://ru.wikipedia.org/wiki/%D0%90%D0%B1%D0%B0%D0%BA%D0%B0%D0%BD%D1%81%D0%BA%D0%B0%D1%8F_%D0%A2%D0%AD%D0%A6'),\n ('Автовская ТЭЦ',\n  'https://ru.wikipedia.org/wiki/%D0%90%D0%B2%D1%82%D0%BE%D0%B2%D1%81%D0%BA%D0%B0%D1%8F_%D0%A2%D0%AD%D0%A6'),\n ('Автозаводская ТЭЦ',\n  'https://ru.wikipedia.org/wiki/%D0%90%D0%B2%D1%82%D0%BE%D0%B7%D0%B0%D0%B2%D0%BE%D0%B4%D1%81%D0%BA%D0%B0%D1%8F_%D0%A2%D0%AD%D0%A6'),\n ('Аджарис-Цкальская ГЭС',\n  'https://ru.wikipedia.org/wiki/%D0%90%D0%B4%D0%B6%D0%B0%D1%80%D0%B8%D1%81-%D0%A6%D0%BA%D0%B0%D0%BB%D1%8C%D1%81%D0%BA%D0%B0%D1%8F_%D0%93%D0%AD%D0%A1'),\n ('Адлерская ТЭС',\n  'https://ru.wikipedia.org/wiki/%D0%90%D0%B4%D0%BB%D0%B5%D1%80%D1%81%D0%BA%D0%B0%D1%8F_%D0%A2%D0%AD%D0%A1'),\n ('Адыгейская ВЭС',\n  'https://ru.wikipedia.org/wiki/%D0%90%D0%B4%D1%8B%D0%B3%D0%B5%D0%B9%D1%81%D0%BA%D0%B0%D1%8F_%D0%92%D0%AD%D0%A1'),\n ('Азербайджанская ТЭС',\n  'https://ru.wikipedia.org/wiki/%D0%90%D0%B7%D0%B5%D1%80%D0%B1%D0%B0%D0%B9%D0%B4%D0%B6%D0%B0%D0%BD%D1%81%D0%BA%D0%B0%D1%8F_%D0%A2%D0%AD%D0%A1'),\n ('Ак-Кавакская ГЭС-1',\n  'https://ru.wikipedia.org/wiki/%D0%90%D0%BA-%D0%9A%D0%B0%D0%B2%D0%B0%D0%BA%D1%81%D0%BA%D0%B0%D1%8F_%D0%93%D0%AD%D0%A1-1'),\n ('Академик Ломоносов',\n  'https://ru.wikipedia.org/wiki/%D0%90%D0%BA%D0%B0%D0%B4%D0%B5%D0%BC%D0%B8%D0%BA_%D0%9B%D0%BE%D0%BC%D0%BE%D0%BD%D0%BE%D1%81%D0%BE%D0%B2'),\n ('Академическая ТЭЦ',\n  'https://ru.wikipedia.org/wiki/%D0%90%D0%BA%D0%B0%D0%B4%D0%B5%D0%BC%D0%B8%D1%87%D0%B5%D1%81%D0%BA%D0%B0%D1%8F_%D0%A2%D0%AD%D0%A6'),\n ('Аккую', 'https://ru.wikipedia.org/wiki/%D0%90%D0%BA%D0%BA%D1%83%D1%8E'),\n ('Акосомбо (гидроэлектростанция)',\n  'https://ru.wikipedia.org/wiki/%D0%90%D0%BA%D0%BE%D1%81%D0%BE%D0%BC%D0%B1%D0%BE_(%D0%B3%D0%B8%D0%B4%D1%80%D0%BE%D1%8D%D0%BB%D0%B5%D0%BA%D1%82%D1%80%D0%BE%D1%81%D1%82%D0%B0%D0%BD%D1%86%D0%B8%D1%8F)'),\n ('Аксуская ГРЭС',\n  'https://ru.wikipedia.org/wiki/%D0%90%D0%BA%D1%81%D1%83%D1%81%D0%BA%D0%B0%D1%8F_%D0%93%D0%A0%D0%AD%D0%A1'),\n ('ГТЭС Акшабулак',\n  'https://ru.wikipedia.org/wiki/%D0%93%D0%A2%D0%AD%D0%A1_%D0%90%D0%BA%D1%88%D0%B0%D0%B1%D1%83%D0%BB%D0%B0%D0%BA'),\n ('Александровская ГЭС',\n  'https://ru.wikipedia.org/wiki/%D0%90%D0%BB%D0%B5%D0%BA%D1%81%D0%B0%D0%BD%D0%B4%D1%80%D0%BE%D0%B2%D1%81%D0%BA%D0%B0%D1%8F_%D0%93%D0%AD%D0%A1'),\n ('Алексеевская ТЭЦ-3',\n  'https://ru.wikipedia.org/wiki/%D0%90%D0%BB%D0%B5%D0%BA%D1%81%D0%B5%D0%B5%D0%B2%D1%81%D0%BA%D0%B0%D1%8F_%D0%A2%D0%AD%D0%A6-3'),\n ('Алексинская ТЭЦ',\n  'https://ru.wikipedia.org/wiki/%D0%90%D0%BB%D0%B5%D0%BA%D1%81%D0%B8%D0%BD%D1%81%D0%BA%D0%B0%D1%8F_%D0%A2%D0%AD%D0%A6'),\n ('Аллертинский парк утилизации отходов',\n  'https://ru.wikipedia.org/wiki/%D0%90%D0%BB%D0%BB%D0%B5%D1%80%D1%82%D0%B8%D0%BD%D1%81%D0%BA%D0%B8%D0%B9_%D0%BF%D0%B0%D1%80%D0%BA_%D1%83%D1%82%D0%B8%D0%BB%D0%B8%D0%B7%D0%B0%D1%86%D0%B8%D0%B8_%D0%BE%D1%82%D1%85%D0%BE%D0%B4%D0%BE%D0%B2'),\n ('Алматинская ТЭЦ-3',\n  'https://ru.wikipedia.org/wiki/%D0%90%D0%BB%D0%BC%D0%B0%D1%82%D0%B8%D0%BD%D1%81%D0%BA%D0%B0%D1%8F_%D0%A2%D0%AD%D0%A6-3'),\n ('ГЭС Альтенвёрт',\n  'https://ru.wikipedia.org/wiki/%D0%93%D0%AD%D0%A1_%D0%90%D0%BB%D1%8C%D1%82%D0%B5%D0%BD%D0%B2%D1%91%D1%80%D1%82'),\n ('Амагер Бакке',\n  'https://ru.wikipedia.org/wiki/%D0%90%D0%BC%D0%B0%D0%B3%D0%B5%D1%80_%D0%91%D0%B0%D0%BA%D0%BA%D0%B5'),\n ('Аммакоски (гидроэлектростанция)',\n  'https://ru.wikipedia.org/wiki/%D0%90%D0%BC%D0%BC%D0%B0%D0%BA%D0%BE%D1%81%D0%BA%D0%B8_(%D0%B3%D0%B8%D0%B4%D1%80%D0%BE%D1%8D%D0%BB%D0%B5%D0%BA%D1%82%D1%80%D0%BE%D1%81%D1%82%D0%B0%D0%BD%D1%86%D0%B8%D1%8F)'),\n ('Амурская ТЭЦ-1',\n  'https://ru.wikipedia.org/wiki/%D0%90%D0%BC%D1%83%D1%80%D1%81%D0%BA%D0%B0%D1%8F_%D0%A2%D0%AD%D0%A6-1'),\n ('Анабанилья (ГЭС)',\n  'https://ru.wikipedia.org/wiki/%D0%90%D0%BD%D0%B0%D0%B1%D0%B0%D0%BD%D0%B8%D0%BB%D1%8C%D1%8F_(%D0%93%D0%AD%D0%A1)'),\n ('Анадырская ВЭС',\n  'https://ru.wikipedia.org/wiki/%D0%90%D0%BD%D0%B0%D0%B4%D1%8B%D1%80%D1%81%D0%BA%D0%B0%D1%8F_%D0%92%D0%AD%D0%A1'),\n ('Анадырская ГМТЭЦ',\n  'https://ru.wikipedia.org/wiki/%D0%90%D0%BD%D0%B0%D0%B4%D1%8B%D1%80%D1%81%D0%BA%D0%B0%D1%8F_%D0%93%D0%9C%D0%A2%D0%AD%D0%A6'),\n ('Анадырская ТЭЦ',\n  'https://ru.wikipedia.org/wiki/%D0%90%D0%BD%D0%B0%D0%B4%D1%8B%D1%80%D1%81%D0%BA%D0%B0%D1%8F_%D0%A2%D0%AD%D0%A6'),\n ('Ангренская ТЭС',\n  'https://ru.wikipedia.org/wiki/%D0%90%D0%BD%D0%B3%D1%80%D0%B5%D0%BD%D1%81%D0%BA%D0%B0%D1%8F_%D0%A2%D0%AD%D0%A1'),\n ('Андижанская ГЭС',\n  'https://ru.wikipedia.org/wiki/%D0%90%D0%BD%D0%B4%D0%B8%D0%B6%D0%B0%D0%BD%D1%81%D0%BA%D0%B0%D1%8F_%D0%93%D0%AD%D0%A1'),\n ('Апатитская ТЭЦ',\n  'https://ru.wikipedia.org/wiki/%D0%90%D0%BF%D0%B0%D1%82%D0%B8%D1%82%D1%81%D0%BA%D0%B0%D1%8F_%D0%A2%D0%AD%D0%A6'),\n ('Аракс ГЭС',\n  'https://ru.wikipedia.org/wiki/%D0%90%D1%80%D0%B0%D0%BA%D1%81_%D0%93%D0%AD%D0%A1'),\n ('Аргаяшская ТЭЦ',\n  'https://ru.wikipedia.org/wiki/%D0%90%D1%80%D0%B3%D0%B0%D1%8F%D1%88%D1%81%D0%BA%D0%B0%D1%8F_%D0%A2%D0%AD%D0%A6'),\n ('Аргельская ГЭС',\n  'https://ru.wikipedia.org/wiki/%D0%90%D1%80%D0%B3%D0%B5%D0%BB%D1%8C%D1%81%D0%BA%D0%B0%D1%8F_%D0%93%D0%AD%D0%A1'),\n ('Аргунская ТЭЦ',\n  'https://ru.wikipedia.org/wiki/%D0%90%D1%80%D0%B3%D1%83%D0%BD%D1%81%D0%BA%D0%B0%D1%8F_%D0%A2%D0%AD%D0%A6'),\n ('Арзнинская ГЭС',\n  'https://ru.wikipedia.org/wiki/%D0%90%D1%80%D0%B7%D0%BD%D0%B8%D0%BD%D1%81%D0%BA%D0%B0%D1%8F_%D0%93%D0%AD%D0%A1'),\n ('Аркагалинская ГРЭС',\n  'https://ru.wikipedia.org/wiki/%D0%90%D1%80%D0%BA%D0%B0%D0%B3%D0%B0%D0%BB%D0%B8%D0%BD%D1%81%D0%BA%D0%B0%D1%8F_%D0%93%D0%A0%D0%AD%D0%A1'),\n ('Армавирская ТЭЦ',\n  'https://ru.wikipedia.org/wiki/%D0%90%D1%80%D0%BC%D0%B0%D0%B2%D0%B8%D1%80%D1%81%D0%BA%D0%B0%D1%8F_%D0%A2%D0%AD%D0%A6'),\n ('Армянская АЭС',\n  'https://ru.wikipedia.org/wiki/%D0%90%D1%80%D0%BC%D1%8F%D0%BD%D1%81%D0%BA%D0%B0%D1%8F_%D0%90%D0%AD%D0%A1'),\n ('Артёмовская ТЭЦ (Приморский край)',\n  'https://ru.wikipedia.org/wiki/%D0%90%D1%80%D1%82%D1%91%D0%BC%D0%BE%D0%B2%D1%81%D0%BA%D0%B0%D1%8F_%D0%A2%D0%AD%D0%A6_(%D0%9F%D1%80%D0%B8%D0%BC%D0%BE%D1%80%D1%81%D0%BA%D0%B8%D0%B9_%D0%BA%D1%80%D0%B0%D0%B9)'),\n ('Артёмовская ТЭЦ (Свердловская область)',\n  'https://ru.wikipedia.org/wiki/%D0%90%D1%80%D1%82%D1%91%D0%BC%D0%BE%D0%B2%D1%81%D0%BA%D0%B0%D1%8F_%D0%A2%D0%AD%D0%A6_(%D0%A1%D0%B2%D0%B5%D1%80%D0%B4%D0%BB%D0%BE%D0%B2%D1%81%D0%BA%D0%B0%D1%8F_%D0%BE%D0%B1%D0%BB%D0%B0%D1%81%D1%82%D1%8C)'),\n ('Архангельская ТЭЦ',\n  'https://ru.wikipedia.org/wiki/%D0%90%D1%80%D1%85%D0%B0%D0%BD%D0%B3%D0%B5%D0%BB%D1%8C%D1%81%D0%BA%D0%B0%D1%8F_%D0%A2%D0%AD%D0%A6'),\n ('Астраханская ГРЭС',\n  'https://ru.wikipedia.org/wiki/%D0%90%D1%81%D1%82%D1%80%D0%B0%D1%85%D0%B0%D0%BD%D1%81%D0%BA%D0%B0%D1%8F_%D0%93%D0%A0%D0%AD%D0%A1'),\n ('Астраханская ПГУ-235',\n  'https://ru.wikipedia.org/wiki/%D0%90%D1%81%D1%82%D1%80%D0%B0%D1%85%D0%B0%D0%BD%D1%81%D0%BA%D0%B0%D1%8F_%D0%9F%D0%93%D0%A3-235'),\n ('Астраханская ТЭЦ-2',\n  'https://ru.wikipedia.org/wiki/%D0%90%D1%81%D1%82%D1%80%D0%B0%D1%85%D0%B0%D0%BD%D1%81%D0%BA%D0%B0%D1%8F_%D0%A2%D0%AD%D0%A6-2'),\n ('Асуанский гидроузел',\n  'https://ru.wikipedia.org/wiki/%D0%90%D1%81%D1%83%D0%B0%D0%BD%D1%81%D0%BA%D0%B8%D0%B9_%D0%B3%D0%B8%D0%B4%D1%80%D0%BE%D1%83%D0%B7%D0%B5%D0%BB'),\n ('Ат-Башинская ГЭС',\n  'https://ru.wikipedia.org/wiki/%D0%90%D1%82-%D0%91%D0%B0%D1%88%D0%B8%D0%BD%D1%81%D0%BA%D0%B0%D1%8F_%D0%93%D0%AD%D0%A1'),\n ('Ататюрк (ГЭС)',\n  'https://ru.wikipedia.org/wiki/%D0%90%D1%82%D0%B0%D1%82%D1%8E%D1%80%D0%BA_(%D0%93%D0%AD%D0%A1)'),\n ('ТЭС Атлон',\n  'https://ru.wikipedia.org/wiki/%D0%A2%D0%AD%D0%A1_%D0%90%D1%82%D0%BB%D0%BE%D0%BD'),\n ('Атомная энергетика Венгрии',\n  'https://ru.wikipedia.org/wiki/%D0%90%D1%82%D0%BE%D0%BC%D0%BD%D0%B0%D1%8F_%D1%8D%D0%BD%D0%B5%D1%80%D0%B3%D0%B5%D1%82%D0%B8%D0%BA%D0%B0_%D0%92%D0%B5%D0%BD%D0%B3%D1%80%D0%B8%D0%B8'),\n ('Атырауская ТЭЦ',\n  'https://ru.wikipedia.org/wiki/%D0%90%D1%82%D1%8B%D1%80%D0%B0%D1%83%D1%81%D0%BA%D0%B0%D1%8F_%D0%A2%D0%AD%D0%A6'),\n ('Аушигерская ГЭС',\n  'https://ru.wikipedia.org/wiki/%D0%90%D1%83%D1%88%D0%B8%D0%B3%D0%B5%D1%80%D1%81%D0%BA%D0%B0%D1%8F_%D0%93%D0%AD%D0%A1'),\n ('Ахтынская ГЭС',\n  'https://ru.wikipedia.org/wiki/%D0%90%D1%85%D1%82%D1%8B%D0%BD%D1%81%D0%BA%D0%B0%D1%8F_%D0%93%D0%AD%D0%A1'),\n ('Ахтырская ТЭЦ',\n  'https://ru.wikipedia.org/wiki/%D0%90%D1%85%D1%82%D1%8B%D1%80%D1%81%D0%BA%D0%B0%D1%8F_%D0%A2%D0%AD%D0%A6'),\n ('Ашхабадская ГЭС',\n  'https://ru.wikipedia.org/wiki/%D0%90%D1%88%D1%85%D0%B0%D0%B1%D0%B0%D0%B4%D1%81%D0%BA%D0%B0%D1%8F_%D0%93%D0%AD%D0%A1'),\n ('АЭС «Белене»',\n  'https://ru.wikipedia.org/wiki/%D0%90%D0%AD%D0%A1_%C2%AB%D0%91%D0%B5%D0%BB%D0%B5%D0%BD%D0%B5%C2%BB'),\n ('АЭС «Дукованы»',\n  'https://ru.wikipedia.org/wiki/%D0%90%D0%AD%D0%A1_%C2%AB%D0%94%D1%83%D0%BA%D0%BE%D0%B2%D0%B0%D0%BD%D1%8B%C2%BB'),\n ('АЭС «Игнеада»',\n  'https://ru.wikipedia.org/wiki/%D0%90%D0%AD%D0%A1_%C2%AB%D0%98%D0%B3%D0%BD%D0%B5%D0%B0%D0%B4%D0%B0%C2%BB'),\n ('АЭС «Козлодуй»',\n  'https://ru.wikipedia.org/wiki/%D0%90%D0%AD%D0%A1_%C2%AB%D0%9A%D0%BE%D0%B7%D0%BB%D0%BE%D0%B4%D1%83%D0%B9%C2%BB'),\n ('АЭС «Ловииса»',\n  'https://ru.wikipedia.org/wiki/%D0%90%D0%AD%D0%A1_%C2%AB%D0%9B%D0%BE%D0%B2%D0%B8%D0%B8%D1%81%D0%B0%C2%BB'),\n ('АЭС «Олкилуото»',\n  'https://ru.wikipedia.org/wiki/%D0%90%D0%AD%D0%A1_%C2%AB%D0%9E%D0%BB%D0%BA%D0%B8%D0%BB%D1%83%D0%BE%D1%82%D0%BE%C2%BB'),\n ('АЭС «Синоп»',\n  'https://ru.wikipedia.org/wiki/%D0%90%D0%AD%D0%A1_%C2%AB%D0%A1%D0%B8%D0%BD%D0%BE%D0%BF%C2%BB'),\n ('АЭС «Ханхикиви-1»',\n  'https://ru.wikipedia.org/wiki/%D0%90%D0%AD%D0%A1_%C2%AB%D0%A5%D0%B0%D0%BD%D1%85%D0%B8%D0%BA%D0%B8%D0%B2%D0%B8-1%C2%BB'),\n ('АЭС «Хинкли-Пойнт»',\n  'https://ru.wikipedia.org/wiki/%D0%90%D0%AD%D0%A1_%C2%AB%D0%A5%D0%B8%D0%BD%D0%BA%D0%BB%D0%B8-%D0%9F%D0%BE%D0%B9%D0%BD%D1%82%C2%BB'),\n ('АЭС Альмарас',\n  'https://ru.wikipedia.org/wiki/%D0%90%D0%AD%D0%A1_%D0%90%D0%BB%D1%8C%D0%BC%D0%B0%D1%80%D0%B0%D1%81'),\n ('АЭС Арканзас',\n  'https://ru.wikipedia.org/wiki/%D0%90%D0%AD%D0%A1_%D0%90%D1%80%D0%BA%D0%B0%D0%BD%D0%B7%D0%B0%D1%81'),\n ('АЭС Аско',\n  'https://ru.wikipedia.org/wiki/%D0%90%D0%AD%D0%A1_%D0%90%D1%81%D0%BA%D0%BE'),\n ('АЭС Атуча',\n  'https://ru.wikipedia.org/wiki/%D0%90%D0%AD%D0%A1_%D0%90%D1%82%D1%83%D1%87%D0%B0'),\n ('АЭС Байрон',\n  'https://ru.wikipedia.org/wiki/%D0%90%D0%AD%D0%A1_%D0%91%D0%B0%D0%B9%D1%80%D0%BE%D0%BD'),\n ('АЭС Барака',\n  'https://ru.wikipedia.org/wiki/%D0%90%D0%AD%D0%A1_%D0%91%D0%B0%D1%80%D0%B0%D0%BA%D0%B0'),\n ('АЭС Барсебек',\n  'https://ru.wikipedia.org/wiki/%D0%90%D0%AD%D0%A1_%D0%91%D0%B0%D1%80%D1%81%D0%B5%D0%B1%D0%B5%D0%BA'),\n ('АЭС Бельвиль',\n  'https://ru.wikipedia.org/wiki/%D0%90%D0%AD%D0%A1_%D0%91%D0%B5%D0%BB%D1%8C%D0%B2%D0%B8%D0%BB%D1%8C'),\n ('АЭС Бецнау',\n  'https://ru.wikipedia.org/wiki/%D0%90%D0%AD%D0%A1_%D0%91%D0%B5%D1%86%D0%BD%D0%B0%D1%83'),\n ('АЭС Библис',\n  'https://ru.wikipedia.org/wiki/%D0%90%D0%AD%D0%A1_%D0%91%D0%B8%D0%B1%D0%BB%D0%B8%D1%81'),\n ('АЭС Бивер-Валли',\n  'https://ru.wikipedia.org/wiki/%D0%90%D0%AD%D0%A1_%D0%91%D0%B8%D0%B2%D0%B5%D1%80-%D0%92%D0%B0%D0%BB%D0%BB%D0%B8'),\n ('АЭС Блайе',\n  'https://ru.wikipedia.org/wiki/%D0%90%D0%AD%D0%A1_%D0%91%D0%BB%D0%B0%D0%B9%D0%B5'),\n ('АЭС Богунице',\n  'https://ru.wikipedia.org/wiki/%D0%90%D0%AD%D0%A1_%D0%91%D0%BE%D0%B3%D1%83%D0%BD%D0%B8%D1%86%D0%B5'),\n ('АЭС Борселе',\n  'https://ru.wikipedia.org/wiki/%D0%90%D0%AD%D0%A1_%D0%91%D0%BE%D1%80%D1%81%D0%B5%D0%BB%D0%B5'),\n ('АЭС Брансуик',\n  'https://ru.wikipedia.org/wiki/%D0%90%D0%AD%D0%A1_%D0%91%D1%80%D0%B0%D0%BD%D1%81%D1%83%D0%B8%D0%BA'),\n ('АЭС Браунз-Ферри',\n  'https://ru.wikipedia.org/wiki/%D0%90%D0%AD%D0%A1_%D0%91%D1%80%D0%B0%D1%83%D0%BD%D0%B7-%D0%A4%D0%B5%D1%80%D1%80%D0%B8'),\n ('АЭС Бреннилис',\n  'https://ru.wikipedia.org/wiki/%D0%90%D0%AD%D0%A1_%D0%91%D1%80%D0%B5%D0%BD%D0%BD%D0%B8%D0%BB%D0%B8%D1%81'),\n ('АЭС Брокдорф',\n  'https://ru.wikipedia.org/wiki/%D0%90%D0%AD%D0%A1_%D0%91%D1%80%D0%BE%D0%BA%D0%B4%D0%BE%D1%80%D1%84'),\n ('АЭС Брунсбюттель',\n  'https://ru.wikipedia.org/wiki/%D0%90%D0%AD%D0%A1_%D0%91%D1%80%D1%83%D0%BD%D1%81%D0%B1%D1%8E%D1%82%D1%82%D0%B5%D0%BB%D1%8C'),\n ('АЭС Брэйдвуд',\n  'https://ru.wikipedia.org/wiki/%D0%90%D0%AD%D0%A1_%D0%91%D1%80%D1%8D%D0%B9%D0%B4%D0%B2%D1%83%D0%B4'),\n ('АЭС Брюс',\n  'https://ru.wikipedia.org/wiki/%D0%90%D0%AD%D0%A1_%D0%91%D1%80%D1%8E%D1%81'),\n ('АЭС Бюже',\n  'https://ru.wikipedia.org/wiki/%D0%90%D0%AD%D0%A1_%D0%91%D1%8E%D0%B6%D0%B5'),\n ('АЭС в Джизакской области Узбекистана',\n  'https://ru.wikipedia.org/wiki/%D0%90%D0%AD%D0%A1_%D0%B2_%D0%94%D0%B6%D0%B8%D0%B7%D0%B0%D0%BA%D1%81%D0%BA%D0%BE%D0%B9_%D0%BE%D0%B1%D0%BB%D0%B0%D1%81%D1%82%D0%B8_%D0%A3%D0%B7%D0%B1%D0%B5%D0%BA%D0%B8%D1%81%D1%82%D0%B0%D0%BD%D0%B0'),\n ('АЭС Вандельос',\n  'https://ru.wikipedia.org/wiki/%D0%90%D0%AD%D0%A1_%D0%92%D0%B0%D0%BD%D0%B4%D0%B5%D0%BB%D1%8C%D0%BE%D1%81'),\n ('АЭС Вермонт Янки',\n  'https://ru.wikipedia.org/wiki/%D0%90%D0%AD%D0%A1_%D0%92%D0%B5%D1%80%D0%BC%D0%BE%D0%BD%D1%82_%D0%AF%D0%BD%D0%BA%D0%B8'),\n ('АЭС Ви-Си Саммер',\n  'https://ru.wikipedia.org/wiki/%D0%90%D0%AD%D0%A1_%D0%92%D0%B8-%D0%A1%D0%B8_%D0%A1%D0%B0%D0%BC%D0%BC%D0%B5%D1%80'),\n ('АЭС Вогтль',\n  'https://ru.wikipedia.org/wiki/%D0%90%D0%AD%D0%A1_%D0%92%D0%BE%D0%B3%D1%82%D0%BB%D1%8C'),\n ('АЭС Волф Крик',\n  'https://ru.wikipedia.org/wiki/%D0%90%D0%AD%D0%A1_%D0%92%D0%BE%D0%BB%D1%84_%D0%9A%D1%80%D0%B8%D0%BA'),\n ('АЭС Вольсон',\n  'https://ru.wikipedia.org/wiki/%D0%90%D0%AD%D0%A1_%D0%92%D0%BE%D0%BB%D1%8C%D1%81%D0%BE%D0%BD'),\n ('АЭС Вюргассен',\n  'https://ru.wikipedia.org/wiki/%D0%90%D0%AD%D0%A1_%D0%92%D1%8E%D1%80%D0%B3%D0%B0%D1%81%D1%81%D0%B5%D0%BD'),\n ('АЭС Гарильяно',\n  'https://ru.wikipedia.org/wiki/%D0%90%D0%AD%D0%A1_%D0%93%D0%B0%D1%80%D0%B8%D0%BB%D1%8C%D1%8F%D0%BD%D0%BE'),\n ('АЭС Генкай',\n  'https://ru.wikipedia.org/wiki/%D0%90%D0%AD%D0%A1_%D0%93%D0%B5%D0%BD%D0%BA%D0%B0%D0%B9'),\n ('АЭС Гёсген',\n  'https://ru.wikipedia.org/wiki/%D0%90%D0%AD%D0%A1_%D0%93%D1%91%D1%81%D0%B3%D0%B5%D0%BD'),\n ('АЭС Гольфеш',\n  'https://ru.wikipedia.org/wiki/%D0%90%D0%AD%D0%A1_%D0%93%D0%BE%D0%BB%D1%8C%D1%84%D0%B5%D1%88'),\n ('АЭС Гравлин',\n  'https://ru.wikipedia.org/wiki/%D0%90%D0%AD%D0%A1_%D0%93%D1%80%D0%B0%D0%B2%D0%BB%D0%B8%D0%BD'),\n ('АЭС Грайфсвальд',\n  'https://ru.wikipedia.org/wiki/%D0%90%D0%AD%D0%A1_%D0%93%D1%80%D0%B0%D0%B9%D1%84%D1%81%D0%B2%D0%B0%D0%BB%D1%8C%D0%B4'),\n ('АЭС Гранд-Галф',\n  'https://ru.wikipedia.org/wiki/%D0%90%D0%AD%D0%A1_%D0%93%D1%80%D0%B0%D0%BD%D0%B4-%D0%93%D0%B0%D0%BB%D1%84'),\n ('АЭС Графенрайнфельд',\n  'https://ru.wikipedia.org/wiki/%D0%90%D0%AD%D0%A1_%D0%93%D1%80%D0%B0%D1%84%D0%B5%D0%BD%D1%80%D0%B0%D0%B9%D0%BD%D1%84%D0%B5%D0%BB%D1%8C%D0%B4'),\n ('АЭС Гронде',\n  'https://ru.wikipedia.org/wiki/%D0%90%D0%AD%D0%A1_%D0%93%D1%80%D0%BE%D0%BD%D0%B4%D0%B5'),\n ('АЭС Гросвельцхайм',\n  'https://ru.wikipedia.org/wiki/%D0%90%D0%AD%D0%A1_%D0%93%D1%80%D0%BE%D1%81%D0%B2%D0%B5%D0%BB%D1%8C%D1%86%D1%85%D0%B0%D0%B9%D0%BC'),\n ('АЭС Гундремминген',\n  'https://ru.wikipedia.org/wiki/%D0%90%D0%AD%D0%A1_%D0%93%D1%83%D0%BD%D0%B4%D1%80%D0%B5%D0%BC%D0%BC%D0%B8%D0%BD%D0%B3%D0%B5%D0%BD'),\n ('АЭС Дампьер',\n  'https://ru.wikipedia.org/wiki/%D0%90%D0%AD%D0%A1_%D0%94%D0%B0%D0%BC%D0%BF%D1%8C%D0%B5%D1%80'),\n ('АЭС Дандженесс',\n  'https://ru.wikipedia.org/wiki/%D0%90%D0%AD%D0%A1_%D0%94%D0%B0%D0%BD%D0%B4%D0%B6%D0%B5%D0%BD%D0%B5%D1%81%D1%81'),\n ('АЭС Дарлингтон',\n  'https://ru.wikipedia.org/wiki/%D0%90%D0%AD%D0%A1_%D0%94%D0%B0%D1%80%D0%BB%D0%B8%D0%BD%D0%B3%D1%82%D0%BE%D0%BD'),\n ('АЭС Даявань',\n  'https://ru.wikipedia.org/wiki/%D0%90%D0%AD%D0%A1_%D0%94%D0%B0%D1%8F%D0%B2%D0%B0%D0%BD%D1%8C'),\n ('АЭС Джентилли',\n  'https://ru.wikipedia.org/wiki/%D0%90%D0%AD%D0%A1_%D0%94%D0%B6%D0%B5%D0%BD%D1%82%D0%B8%D0%BB%D0%BB%D0%B8'),\n ('АЭС Джинна',\n  'https://ru.wikipedia.org/wiki/%D0%90%D0%AD%D0%A1_%D0%94%D0%B6%D0%B8%D0%BD%D0%BD%D0%B0'),\n ('АЭС Додевард',\n  'https://ru.wikipedia.org/wiki/%D0%90%D0%AD%D0%A1_%D0%94%D0%BE%D0%B4%D0%B5%D0%B2%D0%B0%D1%80%D0%B4'),\n ('АЭС Дональд Кук',\n  'https://ru.wikipedia.org/wiki/%D0%90%D0%AD%D0%A1_%D0%94%D0%BE%D0%BD%D0%B0%D0%BB%D1%8C%D0%B4_%D0%9A%D1%83%D0%BA'),\n ('АЭС Дрезден',\n  'https://ru.wikipedia.org/wiki/%D0%90%D0%AD%D0%A1_%D0%94%D1%80%D0%B5%D0%B7%D0%B4%D0%B5%D0%BD'),\n ('АЭС Дуглас-Пойнт',\n  'https://ru.wikipedia.org/wiki/%D0%90%D0%AD%D0%A1_%D0%94%D1%83%D0%B3%D0%BB%D0%B0%D1%81-%D0%9F%D0%BE%D0%B9%D0%BD%D1%82'),\n ('АЭС Дул',\n  'https://ru.wikipedia.org/wiki/%D0%90%D0%AD%D0%A1_%D0%94%D1%83%D0%BB'),\n ('АЭС Дуэйн-Арнольд',\n  'https://ru.wikipedia.org/wiki/%D0%90%D0%AD%D0%A1_%D0%94%D1%83%D1%8D%D0%B9%D0%BD-%D0%90%D1%80%D0%BD%D0%BE%D0%BB%D1%8C%D0%B4'),\n ('АЭС Дьябло Каньон',\n  'https://ru.wikipedia.org/wiki/%D0%90%D0%AD%D0%A1_%D0%94%D1%8C%D1%8F%D0%B1%D0%BB%D0%BE_%D0%9A%D0%B0%D0%BD%D1%8C%D0%BE%D0%BD'),\n ('АЭС Дэвис-Бесс',\n  'https://ru.wikipedia.org/wiki/%D0%90%D0%AD%D0%A1_%D0%94%D1%8D%D0%B2%D0%B8%D1%81-%D0%91%D0%B5%D1%81%D1%81'),\n ('АЭС Жарновец',\n  'https://ru.wikipedia.org/wiki/%D0%90%D0%AD%D0%A1_%D0%96%D0%B0%D1%80%D0%BD%D0%BE%D0%B2%D0%B5%D1%86'),\n ('АЭС Зион',\n  'https://ru.wikipedia.org/wiki/%D0%90%D0%AD%D0%A1_%D0%97%D0%B8%D0%BE%D0%BD'),\n ('АЭС Изар',\n  'https://ru.wikipedia.org/wiki/%D0%90%D0%AD%D0%A1_%D0%98%D0%B7%D0%B0%D1%80'),\n ('АЭС Иката',\n  'https://ru.wikipedia.org/wiki/%D0%90%D0%AD%D0%A1_%D0%98%D0%BA%D0%B0%D1%82%D0%B0'),\n ('АЭС имени адмирала Алваро Алберто',\n  'https://ru.wikipedia.org/wiki/%D0%90%D0%AD%D0%A1_%D0%B8%D0%BC%D0%B5%D0%BD%D0%B8_%D0%B0%D0%B4%D0%BC%D0%B8%D1%80%D0%B0%D0%BB%D0%B0_%D0%90%D0%BB%D0%B2%D0%B0%D1%80%D0%BE_%D0%90%D0%BB%D0%B1%D0%B5%D1%80%D1%82%D0%BE'),\n ('АЭС Индиан-Пойнт',\n  'https://ru.wikipedia.org/wiki/%D0%90%D0%AD%D0%A1_%D0%98%D0%BD%D0%B4%D0%B8%D0%B0%D0%BD-%D0%9F%D0%BE%D0%B9%D0%BD%D1%82'),\n ('АЭС Кайга',\n  'https://ru.wikipedia.org/wiki/%D0%90%D0%AD%D0%A1_%D0%9A%D0%B0%D0%B9%D0%B3%D0%B0'),\n ('АЭС Какрапар',\n  'https://ru.wikipedia.org/wiki/%D0%90%D0%AD%D0%A1_%D0%9A%D0%B0%D0%BA%D1%80%D0%B0%D0%BF%D0%B0%D1%80'),\n ('АЭС Калверт-Клифс',\n  'https://ru.wikipedia.org/wiki/%D0%90%D0%AD%D0%A1_%D0%9A%D0%B0%D0%BB%D0%B2%D0%B5%D1%80%D1%82-%D0%9A%D0%BB%D0%B8%D1%84%D1%81'),\n ('АЭС Каллауэй',\n  'https://ru.wikipedia.org/wiki/%D0%90%D0%AD%D0%A1_%D0%9A%D0%B0%D0%BB%D0%BB%D0%B0%D1%83%D1%8D%D0%B9'),\n ('АЭС Каль',\n  'https://ru.wikipedia.org/wiki/%D0%90%D0%AD%D0%A1_%D0%9A%D0%B0%D0%BB%D1%8C'),\n ('АЭС Каорсо',\n  'https://ru.wikipedia.org/wiki/%D0%90%D0%AD%D0%A1_%D0%9A%D0%B0%D0%BE%D1%80%D1%81%D0%BE'),\n ('АЭС Карачи',\n  'https://ru.wikipedia.org/wiki/%D0%90%D0%AD%D0%A1_%D0%9A%D0%B0%D1%80%D0%B0%D1%87%D0%B8'),\n ('АЭС Касивадзаки-Карива',\n  'https://ru.wikipedia.org/wiki/%D0%90%D0%AD%D0%A1_%D0%9A%D0%B0%D1%81%D0%B8%D0%B2%D0%B0%D0%B4%D0%B7%D0%B0%D0%BA%D0%B8-%D0%9A%D0%B0%D1%80%D0%B8%D0%B2%D0%B0'),\n ('АЭС Катоба',\n  'https://ru.wikipedia.org/wiki/%D0%90%D0%AD%D0%A1_%D0%9A%D0%B0%D1%82%D0%BE%D0%B1%D0%B0'),\n ('АЭС Каттеном',\n  'https://ru.wikipedia.org/wiki/%D0%90%D0%AD%D0%A1_%D0%9A%D0%B0%D1%82%D1%82%D0%B5%D0%BD%D0%BE%D0%BC'),\n ('АЭС Квод Ситис',\n  'https://ru.wikipedia.org/wiki/%D0%90%D0%AD%D0%A1_%D0%9A%D0%B2%D0%BE%D0%B4_%D0%A1%D0%B8%D1%82%D0%B8%D1%81'),\n ('АЭС Кевони',\n  'https://ru.wikipedia.org/wiki/%D0%90%D0%AD%D0%A1_%D0%9A%D0%B5%D0%B2%D0%BE%D0%BD%D0%B8'),\n ('АЭС Клинтон',\n  'https://ru.wikipedia.org/wiki/%D0%90%D0%AD%D0%A1_%D0%9A%D0%BB%D0%B8%D0%BD%D1%82%D0%BE%D0%BD'),\n ('АЭС Коберг',\n  'https://ru.wikipedia.org/wiki/%D0%90%D0%AD%D0%A1_%D0%9A%D0%BE%D0%B1%D0%B5%D1%80%D0%B3'),\n ('АЭС Колумбия',\n  'https://ru.wikipedia.org/wiki/%D0%90%D0%AD%D0%A1_%D0%9A%D0%BE%D0%BB%D1%83%D0%BC%D0%B1%D0%B8%D1%8F'),\n ('АЭС Команчи-Пик',\n  'https://ru.wikipedia.org/wiki/%D0%90%D0%AD%D0%A1_%D0%9A%D0%BE%D0%BC%D0%B0%D0%BD%D1%87%D0%B8-%D0%9F%D0%B8%D0%BA'),\n ('АЭС Коннектикут Янки',\n  'https://ru.wikipedia.org/wiki/%D0%90%D0%AD%D0%A1_%D0%9A%D0%BE%D0%BD%D0%BD%D0%B5%D0%BA%D1%82%D0%B8%D0%BA%D1%83%D1%82_%D0%AF%D0%BD%D0%BA%D0%B8'),\n ('АЭС Кори',\n  'https://ru.wikipedia.org/wiki/%D0%90%D0%AD%D0%A1_%D0%9A%D0%BE%D1%80%D0%B8'),\n ('АЭС Кофрентес',\n  'https://ru.wikipedia.org/wiki/%D0%90%D0%AD%D0%A1_%D0%9A%D0%BE%D1%84%D1%80%D0%B5%D0%BD%D1%82%D0%B5%D1%81'),\n ('АЭС Крей-Мальвиль',\n  'https://ru.wikipedia.org/wiki/%D0%90%D0%AD%D0%A1_%D0%9A%D1%80%D0%B5%D0%B9-%D0%9C%D0%B0%D0%BB%D1%8C%D0%B2%D0%B8%D0%BB%D1%8C'),\n ('АЭС Кристал Ривер',\n  'https://ru.wikipedia.org/wiki/%D0%90%D0%AD%D0%A1_%D0%9A%D1%80%D0%B8%D1%81%D1%82%D0%B0%D0%BB_%D0%A0%D0%B8%D0%B2%D0%B5%D1%80'),\n ('АЭС Кршко',\n  'https://ru.wikipedia.org/wiki/%D0%90%D0%AD%D0%A1_%D0%9A%D1%80%D1%88%D0%BA%D0%BE'),\n ('АЭС Крюа',\n  'https://ru.wikipedia.org/wiki/%D0%90%D0%AD%D0%A1_%D0%9A%D1%80%D1%8E%D0%B0'),\n ('АЭС Крюммель',\n  'https://ru.wikipedia.org/wiki/%D0%90%D0%AD%D0%A1_%D0%9A%D1%80%D1%8E%D0%BC%D0%BC%D0%B5%D0%BB%D1%8C'),\n ('АЭС Куданкулам',\n  'https://ru.wikipedia.org/wiki/%D0%90%D0%AD%D0%A1_%D0%9A%D1%83%D0%B4%D0%B0%D0%BD%D0%BA%D1%83%D0%BB%D0%B0%D0%BC'),\n ('АЭС Куошен',\n  'https://ru.wikipedia.org/wiki/%D0%90%D0%AD%D0%A1_%D0%9A%D1%83%D0%BE%D1%88%D0%B5%D0%BD'),\n ('АЭС Купер',\n  'https://ru.wikipedia.org/wiki/%D0%90%D0%AD%D0%A1_%D0%9A%D1%83%D0%BF%D0%B5%D1%80'),\n ('АЭС Лагуна-Верде',\n  'https://ru.wikipedia.org/wiki/%D0%90%D0%AD%D0%A1_%D0%9B%D0%B0%D0%B3%D1%83%D0%BD%D0%B0-%D0%92%D0%B5%D1%80%D0%B4%D0%B5'),\n ('АЭС Лайбштадт',\n  'https://ru.wikipedia.org/wiki/%D0%90%D0%AD%D0%A1_%D0%9B%D0%B0%D0%B9%D0%B1%D1%88%D1%82%D0%B0%D0%B4%D1%82'),\n ('АЭС Ласаль',\n  'https://ru.wikipedia.org/wiki/%D0%90%D0%AD%D0%A1_%D0%9B%D0%B0%D1%81%D0%B0%D0%BB%D1%8C'),\n ('АЭС Латина',\n  'https://ru.wikipedia.org/wiki/%D0%90%D0%AD%D0%A1_%D0%9B%D0%B0%D1%82%D0%B8%D0%BD%D0%B0'),\n ('АЭС Лимерик',\n  'https://ru.wikipedia.org/wiki/%D0%90%D0%AD%D0%A1_%D0%9B%D0%B8%D0%BC%D0%B5%D1%80%D0%B8%D0%BA'),\n ('АЭС Линген',\n  'https://ru.wikipedia.org/wiki/%D0%90%D0%AD%D0%A1_%D0%9B%D0%B8%D0%BD%D0%B3%D0%B5%D0%BD'),\n ('АЭС Линьао',\n  'https://ru.wikipedia.org/wiki/%D0%90%D0%AD%D0%A1_%D0%9B%D0%B8%D0%BD%D1%8C%D0%B0%D0%BE'),\n ('АЭС Лунгмень',\n  'https://ru.wikipedia.org/wiki/%D0%90%D0%AD%D0%A1_%D0%9B%D1%83%D0%BD%D0%B3%D0%BC%D0%B5%D0%BD%D1%8C'),\n ('АЭС Мааншан',\n  'https://ru.wikipedia.org/wiki/%D0%90%D0%AD%D0%A1_%D0%9C%D0%B0%D0%B0%D0%BD%D1%88%D0%B0%D0%BD'),\n ('АЭС Мадрас',\n  'https://ru.wikipedia.org/wiki/%D0%90%D0%AD%D0%A1_%D0%9C%D0%B0%D0%B4%D1%80%D0%B0%D1%81'),\n ('АЭС Макгуайр',\n  'https://ru.wikipedia.org/wiki/%D0%90%D0%AD%D0%A1_%D0%9C%D0%B0%D0%BA%D0%B3%D1%83%D0%B0%D0%B9%D1%80'),\n ('АЭС Милстоун',\n  'https://ru.wikipedia.org/wiki/%D0%90%D0%AD%D0%A1_%D0%9C%D0%B8%D0%BB%D1%81%D1%82%D0%BE%D1%83%D0%BD'),\n ('АЭС Михама',\n  'https://ru.wikipedia.org/wiki/%D0%90%D0%AD%D0%A1_%D0%9C%D0%B8%D1%85%D0%B0%D0%BC%D0%B0'),\n ('АЭС Мондзю',\n  'https://ru.wikipedia.org/wiki/%D0%90%D0%AD%D0%A1_%D0%9C%D0%BE%D0%BD%D0%B4%D0%B7%D1%8E'),\n ('АЭС Монтичелло',\n  'https://ru.wikipedia.org/wiki/%D0%90%D0%AD%D0%A1_%D0%9C%D0%BE%D0%BD%D1%82%D0%B8%D1%87%D0%B5%D0%BB%D0%BB%D0%BE'),\n ('АЭС Моховце',\n  'https://ru.wikipedia.org/wiki/%D0%90%D0%AD%D0%A1_%D0%9C%D0%BE%D1%85%D0%BE%D0%B2%D1%86%D0%B5'),\n ('АЭС Мэн Янки',\n  'https://ru.wikipedia.org/wiki/%D0%90%D0%AD%D0%A1_%D0%9C%D1%8D%D0%BD_%D0%AF%D0%BD%D0%BA%D0%B8'),\n ('АЭС Мюлеберг',\n  'https://ru.wikipedia.org/wiki/%D0%90%D0%AD%D0%A1_%D0%9C%D1%8E%D0%BB%D0%B5%D0%B1%D0%B5%D1%80%D0%B3'),\n ('АЭС Мюльхайм-Керлих',\n  'https://ru.wikipedia.org/wiki/%D0%90%D0%AD%D0%A1_%D0%9C%D1%8E%D0%BB%D1%8C%D1%85%D0%B0%D0%B9%D0%BC-%D0%9A%D0%B5%D1%80%D0%BB%D0%B8%D1%85'),\n ('АЭС Найн-Майл-Пойнт',\n  'https://ru.wikipedia.org/wiki/%D0%90%D0%AD%D0%A1_%D0%9D%D0%B0%D0%B9%D0%BD-%D0%9C%D0%B0%D0%B9%D0%BB-%D0%9F%D0%BE%D0%B9%D0%BD%D1%82'),\n ('АЭС Нарора',\n  'https://ru.wikipedia.org/wiki/%D0%90%D0%AD%D0%A1_%D0%9D%D0%B0%D1%80%D0%BE%D1%80%D0%B0'),\n ('АЭС Неккарвестхайм',\n  'https://ru.wikipedia.org/wiki/%D0%90%D0%AD%D0%A1_%D0%9D%D0%B5%D0%BA%D0%BA%D0%B0%D1%80%D0%B2%D0%B5%D1%81%D1%82%D1%85%D0%B0%D0%B9%D0%BC'),\n ('АЭС Нидерайхбах',\n  'https://ru.wikipedia.org/wiki/%D0%90%D0%AD%D0%A1_%D0%9D%D0%B8%D0%B4%D0%B5%D1%80%D0%B0%D0%B9%D1%85%D0%B1%D0%B0%D1%85'),\n ('АЭС Ниндэ',\n  'https://ru.wikipedia.org/wiki/%D0%90%D0%AD%D0%A1_%D0%9D%D0%B8%D0%BD%D0%B4%D1%8D'),\n ('АЭС Ножан',\n  'https://ru.wikipedia.org/wiki/%D0%90%D0%AD%D0%A1_%D0%9D%D0%BE%D0%B6%D0%B0%D0%BD'),\n ('АЭС Норт Анна',\n  'https://ru.wikipedia.org/wiki/%D0%90%D0%AD%D0%A1_%D0%9D%D0%BE%D1%80%D1%82_%D0%90%D0%BD%D0%BD%D0%B0'),\n ('АЭС Обригхайм',\n  'https://ru.wikipedia.org/wiki/%D0%90%D0%AD%D0%A1_%D0%9E%D0%B1%D1%80%D0%B8%D0%B3%D1%85%D0%B0%D0%B9%D0%BC'),\n ('АЭС Огеста',\n  'https://ru.wikipedia.org/wiki/%D0%90%D0%AD%D0%A1_%D0%9E%D0%B3%D0%B5%D1%81%D1%82%D0%B0'),\n ('АЭС Ои', 'https://ru.wikipedia.org/wiki/%D0%90%D0%AD%D0%A1_%D0%9E%D0%B8'),\n ('АЭС Ойстер-Крик',\n  'https://ru.wikipedia.org/wiki/%D0%90%D0%AD%D0%A1_%D0%9E%D0%B9%D1%81%D1%82%D0%B5%D1%80-%D0%9A%D1%80%D0%B8%D0%BA'),\n ('АЭС Окони',\n  'https://ru.wikipedia.org/wiki/%D0%90%D0%AD%D0%A1_%D0%9E%D0%BA%D0%BE%D0%BD%D0%B8'),\n ('АЭС Ома',\n  'https://ru.wikipedia.org/wiki/%D0%90%D0%AD%D0%A1_%D0%9E%D0%BC%D0%B0'),\n ('АЭС Онагава',\n  'https://ru.wikipedia.org/wiki/%D0%90%D0%AD%D0%A1_%D0%9E%D0%BD%D0%B0%D0%B3%D0%B0%D0%B2%D0%B0'),\n ('АЭС Оскарсхамн',\n  'https://ru.wikipedia.org/wiki/%D0%90%D0%AD%D0%A1_%D0%9E%D1%81%D0%BA%D0%B0%D1%80%D1%81%D1%85%D0%B0%D0%BC%D0%BD'),\n ('АЭС Пакш',\n  'https://ru.wikipedia.org/wiki/%D0%90%D0%AD%D0%A1_%D0%9F%D0%B0%D0%BA%D1%88'),\n ('АЭС Палисадес',\n  'https://ru.wikipedia.org/wiki/%D0%90%D0%AD%D0%A1_%D0%9F%D0%B0%D0%BB%D0%B8%D1%81%D0%B0%D0%B4%D0%B5%D1%81'),\n ('АЭС Пало-Верде',\n  'https://ru.wikipedia.org/wiki/%D0%90%D0%AD%D0%A1_%D0%9F%D0%B0%D0%BB%D0%BE-%D0%92%D0%B5%D1%80%D0%B4%D0%B5'),\n ('АЭС Палюэль',\n  'https://ru.wikipedia.org/wiki/%D0%90%D0%AD%D0%A1_%D0%9F%D0%B0%D0%BB%D1%8E%D1%8D%D0%BB%D1%8C'),\n ('АЭС Пенли',\n  'https://ru.wikipedia.org/wiki/%D0%90%D0%AD%D0%A1_%D0%9F%D0%B5%D0%BD%D0%BB%D0%B8'),\n ('АЭС Перри',\n  'https://ru.wikipedia.org/wiki/%D0%90%D0%AD%D0%A1_%D0%9F%D0%B5%D1%80%D1%80%D0%B8'),\n ('АЭС Пикеринг',\n  'https://ru.wikipedia.org/wiki/%D0%90%D0%AD%D0%A1_%D0%9F%D0%B8%D0%BA%D0%B5%D1%80%D0%B8%D0%BD%D0%B3'),\n ('АЭС Пилигрим',\n  'https://ru.wikipedia.org/wiki/%D0%90%D0%AD%D0%A1_%D0%9F%D0%B8%D0%BB%D0%B8%D0%B3%D1%80%D0%B8%D0%BC'),\n ('АЭС Пич-Боттом',\n  'https://ru.wikipedia.org/wiki/%D0%90%D0%AD%D0%A1_%D0%9F%D0%B8%D1%87-%D0%91%D0%BE%D1%82%D1%82%D0%BE%D0%BC'),\n ('АЭС Пойнт-Бич',\n  'https://ru.wikipedia.org/wiki/%D0%90%D0%AD%D0%A1_%D0%9F%D0%BE%D0%B9%D0%BD%D1%82-%D0%91%D0%B8%D1%87'),\n ('АЭС Пойнт-Лепро',\n  'https://ru.wikipedia.org/wiki/%D0%90%D0%AD%D0%A1_%D0%9F%D0%BE%D0%B9%D0%BD%D1%82-%D0%9B%D0%B5%D0%BF%D1%80%D0%BE'),\n ('АЭС Прейри-Айленд',\n  'https://ru.wikipedia.org/wiki/%D0%90%D0%AD%D0%A1_%D0%9F%D1%80%D0%B5%D0%B9%D1%80%D0%B8-%D0%90%D0%B9%D0%BB%D0%B5%D0%BD%D0%B4'),\n ('АЭС Раджастан',\n  'https://ru.wikipedia.org/wiki/%D0%90%D0%AD%D0%A1_%D0%A0%D0%B0%D0%B4%D0%B6%D0%B0%D1%81%D1%82%D0%B0%D0%BD'),\n ('АЭС Райнсберг',\n  'https://ru.wikipedia.org/wiki/%D0%90%D0%AD%D0%A1_%D0%A0%D0%B0%D0%B9%D0%BD%D1%81%D0%B1%D0%B5%D1%80%D0%B3'),\n ('Абаданская ГЭС',\n  'https://ru.wikipedia.org/wiki/%D0%90%D0%B1%D0%B0%D0%B4%D0%B0%D0%BD%D1%81%D0%BA%D0%B0%D1%8F_%D0%93%D0%AD%D0%A1'),\n ('Абаканская ТЭЦ',\n  'https://ru.wikipedia.org/wiki/%D0%90%D0%B1%D0%B0%D0%BA%D0%B0%D0%BD%D1%81%D0%BA%D0%B0%D1%8F_%D0%A2%D0%AD%D0%A6'),\n ('Автовская ТЭЦ',\n  'https://ru.wikipedia.org/wiki/%D0%90%D0%B2%D1%82%D0%BE%D0%B2%D1%81%D0%BA%D0%B0%D1%8F_%D0%A2%D0%AD%D0%A6'),\n ('Автозаводская ТЭЦ',\n  'https://ru.wikipedia.org/wiki/%D0%90%D0%B2%D1%82%D0%BE%D0%B7%D0%B0%D0%B2%D0%BE%D0%B4%D1%81%D0%BA%D0%B0%D1%8F_%D0%A2%D0%AD%D0%A6'),\n ('Аджарис-Цкальская ГЭС',\n  'https://ru.wikipedia.org/wiki/%D0%90%D0%B4%D0%B6%D0%B0%D1%80%D0%B8%D1%81-%D0%A6%D0%BA%D0%B0%D0%BB%D1%8C%D1%81%D0%BA%D0%B0%D1%8F_%D0%93%D0%AD%D0%A1'),\n ('Адлерская ТЭС',\n  'https://ru.wikipedia.org/wiki/%D0%90%D0%B4%D0%BB%D0%B5%D1%80%D1%81%D0%BA%D0%B0%D1%8F_%D0%A2%D0%AD%D0%A1'),\n ('Адыгейская ВЭС',\n  'https://ru.wikipedia.org/wiki/%D0%90%D0%B4%D1%8B%D0%B3%D0%B5%D0%B9%D1%81%D0%BA%D0%B0%D1%8F_%D0%92%D0%AD%D0%A1'),\n ('Азербайджанская ТЭС',\n  'https://ru.wikipedia.org/wiki/%D0%90%D0%B7%D0%B5%D1%80%D0%B1%D0%B0%D0%B9%D0%B4%D0%B6%D0%B0%D0%BD%D1%81%D0%BA%D0%B0%D1%8F_%D0%A2%D0%AD%D0%A1'),\n ('Ак-Кавакская ГЭС-1',\n  'https://ru.wikipedia.org/wiki/%D0%90%D0%BA-%D0%9A%D0%B0%D0%B2%D0%B0%D0%BA%D1%81%D0%BA%D0%B0%D1%8F_%D0%93%D0%AD%D0%A1-1'),\n ('Академик Ломоносов',\n  'https://ru.wikipedia.org/wiki/%D0%90%D0%BA%D0%B0%D0%B4%D0%B5%D0%BC%D0%B8%D0%BA_%D0%9B%D0%BE%D0%BC%D0%BE%D0%BD%D0%BE%D1%81%D0%BE%D0%B2'),\n ('Академическая ТЭЦ',\n  'https://ru.wikipedia.org/wiki/%D0%90%D0%BA%D0%B0%D0%B4%D0%B5%D0%BC%D0%B8%D1%87%D0%B5%D1%81%D0%BA%D0%B0%D1%8F_%D0%A2%D0%AD%D0%A6'),\n ('Аккую', 'https://ru.wikipedia.org/wiki/%D0%90%D0%BA%D0%BA%D1%83%D1%8E'),\n ('Акосомбо (гидроэлектростанция)',\n  'https://ru.wikipedia.org/wiki/%D0%90%D0%BA%D0%BE%D1%81%D0%BE%D0%BC%D0%B1%D0%BE_(%D0%B3%D0%B8%D0%B4%D1%80%D0%BE%D1%8D%D0%BB%D0%B5%D0%BA%D1%82%D1%80%D0%BE%D1%81%D1%82%D0%B0%D0%BD%D1%86%D0%B8%D1%8F)'),\n ('Аксуская ГРЭС',\n  'https://ru.wikipedia.org/wiki/%D0%90%D0%BA%D1%81%D1%83%D1%81%D0%BA%D0%B0%D1%8F_%D0%93%D0%A0%D0%AD%D0%A1'),\n ('ГТЭС Акшабулак',\n  'https://ru.wikipedia.org/wiki/%D0%93%D0%A2%D0%AD%D0%A1_%D0%90%D0%BA%D1%88%D0%B0%D0%B1%D1%83%D0%BB%D0%B0%D0%BA'),\n ('Александровская ГЭС',\n  'https://ru.wikipedia.org/wiki/%D0%90%D0%BB%D0%B5%D0%BA%D1%81%D0%B0%D0%BD%D0%B4%D1%80%D0%BE%D0%B2%D1%81%D0%BA%D0%B0%D1%8F_%D0%93%D0%AD%D0%A1'),\n ('Алексеевская ТЭЦ-3',\n  'https://ru.wikipedia.org/wiki/%D0%90%D0%BB%D0%B5%D0%BA%D1%81%D0%B5%D0%B5%D0%B2%D1%81%D0%BA%D0%B0%D1%8F_%D0%A2%D0%AD%D0%A6-3'),\n ('Алексинская ТЭЦ',\n  'https://ru.wikipedia.org/wiki/%D0%90%D0%BB%D0%B5%D0%BA%D1%81%D0%B8%D0%BD%D1%81%D0%BA%D0%B0%D1%8F_%D0%A2%D0%AD%D0%A6'),\n ('Аллертинский парк утилизации отходов',\n  'https://ru.wikipedia.org/wiki/%D0%90%D0%BB%D0%BB%D0%B5%D1%80%D1%82%D0%B8%D0%BD%D1%81%D0%BA%D0%B8%D0%B9_%D0%BF%D0%B0%D1%80%D0%BA_%D1%83%D1%82%D0%B8%D0%BB%D0%B8%D0%B7%D0%B0%D1%86%D0%B8%D0%B8_%D0%BE%D1%82%D1%85%D0%BE%D0%B4%D0%BE%D0%B2'),\n ('Алматинская ТЭЦ-3',\n  'https://ru.wikipedia.org/wiki/%D0%90%D0%BB%D0%BC%D0%B0%D1%82%D0%B8%D0%BD%D1%81%D0%BA%D0%B0%D1%8F_%D0%A2%D0%AD%D0%A6-3'),\n ('ГЭС Альтенвёрт',\n  'https://ru.wikipedia.org/wiki/%D0%93%D0%AD%D0%A1_%D0%90%D0%BB%D1%8C%D1%82%D0%B5%D0%BD%D0%B2%D1%91%D1%80%D1%82'),\n ('Амагер Бакке',\n  'https://ru.wikipedia.org/wiki/%D0%90%D0%BC%D0%B0%D0%B3%D0%B5%D1%80_%D0%91%D0%B0%D0%BA%D0%BA%D0%B5'),\n ('Аммакоски (гидроэлектростанция)',\n  'https://ru.wikipedia.org/wiki/%D0%90%D0%BC%D0%BC%D0%B0%D0%BA%D0%BE%D1%81%D0%BA%D0%B8_(%D0%B3%D0%B8%D0%B4%D1%80%D0%BE%D1%8D%D0%BB%D0%B5%D0%BA%D1%82%D1%80%D0%BE%D1%81%D1%82%D0%B0%D0%BD%D1%86%D0%B8%D1%8F)'),\n ('Амурская ТЭЦ-1',\n  'https://ru.wikipedia.org/wiki/%D0%90%D0%BC%D1%83%D1%80%D1%81%D0%BA%D0%B0%D1%8F_%D0%A2%D0%AD%D0%A6-1'),\n ('Анабанилья (ГЭС)',\n  'https://ru.wikipedia.org/wiki/%D0%90%D0%BD%D0%B0%D0%B1%D0%B0%D0%BD%D0%B8%D0%BB%D1%8C%D1%8F_(%D0%93%D0%AD%D0%A1)'),\n ('Анадырская ВЭС',\n  'https://ru.wikipedia.org/wiki/%D0%90%D0%BD%D0%B0%D0%B4%D1%8B%D1%80%D1%81%D0%BA%D0%B0%D1%8F_%D0%92%D0%AD%D0%A1'),\n ('Анадырская ГМТЭЦ',\n  'https://ru.wikipedia.org/wiki/%D0%90%D0%BD%D0%B0%D0%B4%D1%8B%D1%80%D1%81%D0%BA%D0%B0%D1%8F_%D0%93%D0%9C%D0%A2%D0%AD%D0%A6'),\n ('Анадырская ТЭЦ',\n  'https://ru.wikipedia.org/wiki/%D0%90%D0%BD%D0%B0%D0%B4%D1%8B%D1%80%D1%81%D0%BA%D0%B0%D1%8F_%D0%A2%D0%AD%D0%A6'),\n ('Ангренская ТЭС',\n  'https://ru.wikipedia.org/wiki/%D0%90%D0%BD%D0%B3%D1%80%D0%B5%D0%BD%D1%81%D0%BA%D0%B0%D1%8F_%D0%A2%D0%AD%D0%A1'),\n ('Андижанская ГЭС',\n  'https://ru.wikipedia.org/wiki/%D0%90%D0%BD%D0%B4%D0%B8%D0%B6%D0%B0%D0%BD%D1%81%D0%BA%D0%B0%D1%8F_%D0%93%D0%AD%D0%A1'),\n ('Апатитская ТЭЦ',\n  'https://ru.wikipedia.org/wiki/%D0%90%D0%BF%D0%B0%D1%82%D0%B8%D1%82%D1%81%D0%BA%D0%B0%D1%8F_%D0%A2%D0%AD%D0%A6'),\n ('Аракс ГЭС',\n  'https://ru.wikipedia.org/wiki/%D0%90%D1%80%D0%B0%D0%BA%D1%81_%D0%93%D0%AD%D0%A1'),\n ('Аргаяшская ТЭЦ',\n  'https://ru.wikipedia.org/wiki/%D0%90%D1%80%D0%B3%D0%B0%D1%8F%D1%88%D1%81%D0%BA%D0%B0%D1%8F_%D0%A2%D0%AD%D0%A6'),\n ('Аргельская ГЭС',\n  'https://ru.wikipedia.org/wiki/%D0%90%D1%80%D0%B3%D0%B5%D0%BB%D1%8C%D1%81%D0%BA%D0%B0%D1%8F_%D0%93%D0%AD%D0%A1'),\n ('Аргунская ТЭЦ',\n  'https://ru.wikipedia.org/wiki/%D0%90%D1%80%D0%B3%D1%83%D0%BD%D1%81%D0%BA%D0%B0%D1%8F_%D0%A2%D0%AD%D0%A6'),\n ('Арзнинская ГЭС',\n  'https://ru.wikipedia.org/wiki/%D0%90%D1%80%D0%B7%D0%BD%D0%B8%D0%BD%D1%81%D0%BA%D0%B0%D1%8F_%D0%93%D0%AD%D0%A1'),\n ('Аркагалинская ГРЭС',\n  'https://ru.wikipedia.org/wiki/%D0%90%D1%80%D0%BA%D0%B0%D0%B3%D0%B0%D0%BB%D0%B8%D0%BD%D1%81%D0%BA%D0%B0%D1%8F_%D0%93%D0%A0%D0%AD%D0%A1'),\n ('Армавирская ТЭЦ',\n  'https://ru.wikipedia.org/wiki/%D0%90%D1%80%D0%BC%D0%B0%D0%B2%D0%B8%D1%80%D1%81%D0%BA%D0%B0%D1%8F_%D0%A2%D0%AD%D0%A6'),\n ('Армянская АЭС',\n  'https://ru.wikipedia.org/wiki/%D0%90%D1%80%D0%BC%D1%8F%D0%BD%D1%81%D0%BA%D0%B0%D1%8F_%D0%90%D0%AD%D0%A1'),\n ('Артёмовская ТЭЦ (Приморский край)',\n  'https://ru.wikipedia.org/wiki/%D0%90%D1%80%D1%82%D1%91%D0%BC%D0%BE%D0%B2%D1%81%D0%BA%D0%B0%D1%8F_%D0%A2%D0%AD%D0%A6_(%D0%9F%D1%80%D0%B8%D0%BC%D0%BE%D1%80%D1%81%D0%BA%D0%B8%D0%B9_%D0%BA%D1%80%D0%B0%D0%B9)'),\n ('Артёмовская ТЭЦ (Свердловская область)',\n  'https://ru.wikipedia.org/wiki/%D0%90%D1%80%D1%82%D1%91%D0%BC%D0%BE%D0%B2%D1%81%D0%BA%D0%B0%D1%8F_%D0%A2%D0%AD%D0%A6_(%D0%A1%D0%B2%D0%B5%D1%80%D0%B4%D0%BB%D0%BE%D0%B2%D1%81%D0%BA%D0%B0%D1%8F_%D0%BE%D0%B1%D0%BB%D0%B0%D1%81%D1%82%D1%8C)'),\n ('Архангельская ТЭЦ',\n  'https://ru.wikipedia.org/wiki/%D0%90%D1%80%D1%85%D0%B0%D0%BD%D0%B3%D0%B5%D0%BB%D1%8C%D1%81%D0%BA%D0%B0%D1%8F_%D0%A2%D0%AD%D0%A6'),\n ('Астраханская ГРЭС',\n  'https://ru.wikipedia.org/wiki/%D0%90%D1%81%D1%82%D1%80%D0%B0%D1%85%D0%B0%D0%BD%D1%81%D0%BA%D0%B0%D1%8F_%D0%93%D0%A0%D0%AD%D0%A1'),\n ('Астраханская ПГУ-235',\n  'https://ru.wikipedia.org/wiki/%D0%90%D1%81%D1%82%D1%80%D0%B0%D1%85%D0%B0%D0%BD%D1%81%D0%BA%D0%B0%D1%8F_%D0%9F%D0%93%D0%A3-235'),\n ('Астраханская ТЭЦ-2',\n  'https://ru.wikipedia.org/wiki/%D0%90%D1%81%D1%82%D1%80%D0%B0%D1%85%D0%B0%D0%BD%D1%81%D0%BA%D0%B0%D1%8F_%D0%A2%D0%AD%D0%A6-2'),\n ('Асуанский гидроузел',\n  'https://ru.wikipedia.org/wiki/%D0%90%D1%81%D1%83%D0%B0%D0%BD%D1%81%D0%BA%D0%B8%D0%B9_%D0%B3%D0%B8%D0%B4%D1%80%D0%BE%D1%83%D0%B7%D0%B5%D0%BB'),\n ('Ат-Башинская ГЭС',\n  'https://ru.wikipedia.org/wiki/%D0%90%D1%82-%D0%91%D0%B0%D1%88%D0%B8%D0%BD%D1%81%D0%BA%D0%B0%D1%8F_%D0%93%D0%AD%D0%A1'),\n ('Ататюрк (ГЭС)',\n  'https://ru.wikipedia.org/wiki/%D0%90%D1%82%D0%B0%D1%82%D1%8E%D1%80%D0%BA_(%D0%93%D0%AD%D0%A1)'),\n ('ТЭС Атлон',\n  'https://ru.wikipedia.org/wiki/%D0%A2%D0%AD%D0%A1_%D0%90%D1%82%D0%BB%D0%BE%D0%BD'),\n ('Атомная энергетика Венгрии',\n  'https://ru.wikipedia.org/wiki/%D0%90%D1%82%D0%BE%D0%BC%D0%BD%D0%B0%D1%8F_%D1%8D%D0%BD%D0%B5%D1%80%D0%B3%D0%B5%D1%82%D0%B8%D0%BA%D0%B0_%D0%92%D0%B5%D0%BD%D0%B3%D1%80%D0%B8%D0%B8'),\n ('Атырауская ТЭЦ',\n  'https://ru.wikipedia.org/wiki/%D0%90%D1%82%D1%8B%D1%80%D0%B0%D1%83%D1%81%D0%BA%D0%B0%D1%8F_%D0%A2%D0%AD%D0%A6'),\n ('Аушигерская ГЭС',\n  'https://ru.wikipedia.org/wiki/%D0%90%D1%83%D1%88%D0%B8%D0%B3%D0%B5%D1%80%D1%81%D0%BA%D0%B0%D1%8F_%D0%93%D0%AD%D0%A1'),\n ('Ахтынская ГЭС',\n  'https://ru.wikipedia.org/wiki/%D0%90%D1%85%D1%82%D1%8B%D0%BD%D1%81%D0%BA%D0%B0%D1%8F_%D0%93%D0%AD%D0%A1'),\n ('Ахтырская ТЭЦ',\n  'https://ru.wikipedia.org/wiki/%D0%90%D1%85%D1%82%D1%8B%D1%80%D1%81%D0%BA%D0%B0%D1%8F_%D0%A2%D0%AD%D0%A6'),\n ('Ашхабадская ГЭС',\n  'https://ru.wikipedia.org/wiki/%D0%90%D1%88%D1%85%D0%B0%D0%B1%D0%B0%D0%B4%D1%81%D0%BA%D0%B0%D1%8F_%D0%93%D0%AD%D0%A1'),\n ('АЭС «Белене»',\n  'https://ru.wikipedia.org/wiki/%D0%90%D0%AD%D0%A1_%C2%AB%D0%91%D0%B5%D0%BB%D0%B5%D0%BD%D0%B5%C2%BB'),\n ('АЭС «Дукованы»',\n  'https://ru.wikipedia.org/wiki/%D0%90%D0%AD%D0%A1_%C2%AB%D0%94%D1%83%D0%BA%D0%BE%D0%B2%D0%B0%D0%BD%D1%8B%C2%BB'),\n ('АЭС «Игнеада»',\n  'https://ru.wikipedia.org/wiki/%D0%90%D0%AD%D0%A1_%C2%AB%D0%98%D0%B3%D0%BD%D0%B5%D0%B0%D0%B4%D0%B0%C2%BB'),\n ('АЭС «Козлодуй»',\n  'https://ru.wikipedia.org/wiki/%D0%90%D0%AD%D0%A1_%C2%AB%D0%9A%D0%BE%D0%B7%D0%BB%D0%BE%D0%B4%D1%83%D0%B9%C2%BB'),\n ('АЭС «Ловииса»',\n  'https://ru.wikipedia.org/wiki/%D0%90%D0%AD%D0%A1_%C2%AB%D0%9B%D0%BE%D0%B2%D0%B8%D0%B8%D1%81%D0%B0%C2%BB'),\n ('АЭС «Олкилуото»',\n  'https://ru.wikipedia.org/wiki/%D0%90%D0%AD%D0%A1_%C2%AB%D0%9E%D0%BB%D0%BA%D0%B8%D0%BB%D1%83%D0%BE%D1%82%D0%BE%C2%BB'),\n ('АЭС «Синоп»',\n  'https://ru.wikipedia.org/wiki/%D0%90%D0%AD%D0%A1_%C2%AB%D0%A1%D0%B8%D0%BD%D0%BE%D0%BF%C2%BB'),\n ('АЭС «Ханхикиви-1»',\n  'https://ru.wikipedia.org/wiki/%D0%90%D0%AD%D0%A1_%C2%AB%D0%A5%D0%B0%D0%BD%D1%85%D0%B8%D0%BA%D0%B8%D0%B2%D0%B8-1%C2%BB'),\n ('АЭС «Хинкли-Пойнт»',\n  'https://ru.wikipedia.org/wiki/%D0%90%D0%AD%D0%A1_%C2%AB%D0%A5%D0%B8%D0%BD%D0%BA%D0%BB%D0%B8-%D0%9F%D0%BE%D0%B9%D0%BD%D1%82%C2%BB'),\n ('АЭС Альмарас',\n  'https://ru.wikipedia.org/wiki/%D0%90%D0%AD%D0%A1_%D0%90%D0%BB%D1%8C%D0%BC%D0%B0%D1%80%D0%B0%D1%81'),\n ('АЭС Арканзас',\n  'https://ru.wikipedia.org/wiki/%D0%90%D0%AD%D0%A1_%D0%90%D1%80%D0%BA%D0%B0%D0%BD%D0%B7%D0%B0%D1%81'),\n ('АЭС Аско',\n  'https://ru.wikipedia.org/wiki/%D0%90%D0%AD%D0%A1_%D0%90%D1%81%D0%BA%D0%BE'),\n ('АЭС Атуча',\n  'https://ru.wikipedia.org/wiki/%D0%90%D0%AD%D0%A1_%D0%90%D1%82%D1%83%D1%87%D0%B0'),\n ('АЭС Байрон',\n  'https://ru.wikipedia.org/wiki/%D0%90%D0%AD%D0%A1_%D0%91%D0%B0%D0%B9%D1%80%D0%BE%D0%BD'),\n ('АЭС Барака',\n  'https://ru.wikipedia.org/wiki/%D0%90%D0%AD%D0%A1_%D0%91%D0%B0%D1%80%D0%B0%D0%BA%D0%B0'),\n ('АЭС Барсебек',\n  'https://ru.wikipedia.org/wiki/%D0%90%D0%AD%D0%A1_%D0%91%D0%B0%D1%80%D1%81%D0%B5%D0%B1%D0%B5%D0%BA'),\n ('АЭС Бельвиль',\n  'https://ru.wikipedia.org/wiki/%D0%90%D0%AD%D0%A1_%D0%91%D0%B5%D0%BB%D1%8C%D0%B2%D0%B8%D0%BB%D1%8C'),\n ('АЭС Бецнау',\n  'https://ru.wikipedia.org/wiki/%D0%90%D0%AD%D0%A1_%D0%91%D0%B5%D1%86%D0%BD%D0%B0%D1%83'),\n ('АЭС Библис',\n  'https://ru.wikipedia.org/wiki/%D0%90%D0%AD%D0%A1_%D0%91%D0%B8%D0%B1%D0%BB%D0%B8%D1%81'),\n ('АЭС Бивер-Валли',\n  'https://ru.wikipedia.org/wiki/%D0%90%D0%AD%D0%A1_%D0%91%D0%B8%D0%B2%D0%B5%D1%80-%D0%92%D0%B0%D0%BB%D0%BB%D0%B8'),\n ('АЭС Блайе',\n  'https://ru.wikipedia.org/wiki/%D0%90%D0%AD%D0%A1_%D0%91%D0%BB%D0%B0%D0%B9%D0%B5'),\n ('АЭС Богунице',\n  'https://ru.wikipedia.org/wiki/%D0%90%D0%AD%D0%A1_%D0%91%D0%BE%D0%B3%D1%83%D0%BD%D0%B8%D1%86%D0%B5'),\n ('АЭС Борселе',\n  'https://ru.wikipedia.org/wiki/%D0%90%D0%AD%D0%A1_%D0%91%D0%BE%D1%80%D1%81%D0%B5%D0%BB%D0%B5'),\n ('АЭС Брансуик',\n  'https://ru.wikipedia.org/wiki/%D0%90%D0%AD%D0%A1_%D0%91%D1%80%D0%B0%D0%BD%D1%81%D1%83%D0%B8%D0%BA'),\n ('АЭС Браунз-Ферри',\n  'https://ru.wikipedia.org/wiki/%D0%90%D0%AD%D0%A1_%D0%91%D1%80%D0%B0%D1%83%D0%BD%D0%B7-%D0%A4%D0%B5%D1%80%D1%80%D0%B8'),\n ('АЭС Бреннилис',\n  'https://ru.wikipedia.org/wiki/%D0%90%D0%AD%D0%A1_%D0%91%D1%80%D0%B5%D0%BD%D0%BD%D0%B8%D0%BB%D0%B8%D1%81'),\n ('АЭС Брокдорф',\n  'https://ru.wikipedia.org/wiki/%D0%90%D0%AD%D0%A1_%D0%91%D1%80%D0%BE%D0%BA%D0%B4%D0%BE%D1%80%D1%84'),\n ('АЭС Брунсбюттель',\n  'https://ru.wikipedia.org/wiki/%D0%90%D0%AD%D0%A1_%D0%91%D1%80%D1%83%D0%BD%D1%81%D0%B1%D1%8E%D1%82%D1%82%D0%B5%D0%BB%D1%8C'),\n ('АЭС Брэйдвуд',\n  'https://ru.wikipedia.org/wiki/%D0%90%D0%AD%D0%A1_%D0%91%D1%80%D1%8D%D0%B9%D0%B4%D0%B2%D1%83%D0%B4'),\n ('АЭС Брюс',\n  'https://ru.wikipedia.org/wiki/%D0%90%D0%AD%D0%A1_%D0%91%D1%80%D1%8E%D1%81'),\n ('АЭС Бюже',\n  'https://ru.wikipedia.org/wiki/%D0%90%D0%AD%D0%A1_%D0%91%D1%8E%D0%B6%D0%B5'),\n ('АЭС в Джизакской области Узбекистана',\n  'https://ru.wikipedia.org/wiki/%D0%90%D0%AD%D0%A1_%D0%B2_%D0%94%D0%B6%D0%B8%D0%B7%D0%B0%D0%BA%D1%81%D0%BA%D0%BE%D0%B9_%D0%BE%D0%B1%D0%BB%D0%B0%D1%81%D1%82%D0%B8_%D0%A3%D0%B7%D0%B1%D0%B5%D0%BA%D0%B8%D1%81%D1%82%D0%B0%D0%BD%D0%B0'),\n ('АЭС Вандельос',\n  'https://ru.wikipedia.org/wiki/%D0%90%D0%AD%D0%A1_%D0%92%D0%B0%D0%BD%D0%B4%D0%B5%D0%BB%D1%8C%D0%BE%D1%81'),\n ('АЭС Вермонт Янки',\n  'https://ru.wikipedia.org/wiki/%D0%90%D0%AD%D0%A1_%D0%92%D0%B5%D1%80%D0%BC%D0%BE%D0%BD%D1%82_%D0%AF%D0%BD%D0%BA%D0%B8'),\n ('АЭС Ви-Си Саммер',\n  'https://ru.wikipedia.org/wiki/%D0%90%D0%AD%D0%A1_%D0%92%D0%B8-%D0%A1%D0%B8_%D0%A1%D0%B0%D0%BC%D0%BC%D0%B5%D1%80'),\n ('АЭС Вогтль',\n  'https://ru.wikipedia.org/wiki/%D0%90%D0%AD%D0%A1_%D0%92%D0%BE%D0%B3%D1%82%D0%BB%D1%8C'),\n ('АЭС Волф Крик',\n  'https://ru.wikipedia.org/wiki/%D0%90%D0%AD%D0%A1_%D0%92%D0%BE%D0%BB%D1%84_%D0%9A%D1%80%D0%B8%D0%BA'),\n ('АЭС Вольсон',\n  'https://ru.wikipedia.org/wiki/%D0%90%D0%AD%D0%A1_%D0%92%D0%BE%D0%BB%D1%8C%D1%81%D0%BE%D0%BD'),\n ('АЭС Вюргассен',\n  'https://ru.wikipedia.org/wiki/%D0%90%D0%AD%D0%A1_%D0%92%D1%8E%D1%80%D0%B3%D0%B0%D1%81%D1%81%D0%B5%D0%BD'),\n ('АЭС Гарильяно',\n  'https://ru.wikipedia.org/wiki/%D0%90%D0%AD%D0%A1_%D0%93%D0%B0%D1%80%D0%B8%D0%BB%D1%8C%D1%8F%D0%BD%D0%BE'),\n ('АЭС Генкай',\n  'https://ru.wikipedia.org/wiki/%D0%90%D0%AD%D0%A1_%D0%93%D0%B5%D0%BD%D0%BA%D0%B0%D0%B9'),\n ('АЭС Гёсген',\n  'https://ru.wikipedia.org/wiki/%D0%90%D0%AD%D0%A1_%D0%93%D1%91%D1%81%D0%B3%D0%B5%D0%BD'),\n ('АЭС Гольфеш',\n  'https://ru.wikipedia.org/wiki/%D0%90%D0%AD%D0%A1_%D0%93%D0%BE%D0%BB%D1%8C%D1%84%D0%B5%D1%88'),\n ('АЭС Гравлин',\n  'https://ru.wikipedia.org/wiki/%D0%90%D0%AD%D0%A1_%D0%93%D1%80%D0%B0%D0%B2%D0%BB%D0%B8%D0%BD'),\n ('АЭС Грайфсвальд',\n  'https://ru.wikipedia.org/wiki/%D0%90%D0%AD%D0%A1_%D0%93%D1%80%D0%B0%D0%B9%D1%84%D1%81%D0%B2%D0%B0%D0%BB%D1%8C%D0%B4'),\n ('АЭС Гранд-Галф',\n  'https://ru.wikipedia.org/wiki/%D0%90%D0%AD%D0%A1_%D0%93%D1%80%D0%B0%D0%BD%D0%B4-%D0%93%D0%B0%D0%BB%D1%84'),\n ('АЭС Графенрайнфельд',\n  'https://ru.wikipedia.org/wiki/%D0%90%D0%AD%D0%A1_%D0%93%D1%80%D0%B0%D1%84%D0%B5%D0%BD%D1%80%D0%B0%D0%B9%D0%BD%D1%84%D0%B5%D0%BB%D1%8C%D0%B4'),\n ('АЭС Гронде',\n  'https://ru.wikipedia.org/wiki/%D0%90%D0%AD%D0%A1_%D0%93%D1%80%D0%BE%D0%BD%D0%B4%D0%B5'),\n ('АЭС Гросвельцхайм',\n  'https://ru.wikipedia.org/wiki/%D0%90%D0%AD%D0%A1_%D0%93%D1%80%D0%BE%D1%81%D0%B2%D0%B5%D0%BB%D1%8C%D1%86%D1%85%D0%B0%D0%B9%D0%BC'),\n ('АЭС Гундремминген',\n  'https://ru.wikipedia.org/wiki/%D0%90%D0%AD%D0%A1_%D0%93%D1%83%D0%BD%D0%B4%D1%80%D0%B5%D0%BC%D0%BC%D0%B8%D0%BD%D0%B3%D0%B5%D0%BD'),\n ('АЭС Дампьер',\n  'https://ru.wikipedia.org/wiki/%D0%90%D0%AD%D0%A1_%D0%94%D0%B0%D0%BC%D0%BF%D1%8C%D0%B5%D1%80'),\n ('АЭС Дандженесс',\n  'https://ru.wikipedia.org/wiki/%D0%90%D0%AD%D0%A1_%D0%94%D0%B0%D0%BD%D0%B4%D0%B6%D0%B5%D0%BD%D0%B5%D1%81%D1%81'),\n ('АЭС Дарлингтон',\n  'https://ru.wikipedia.org/wiki/%D0%90%D0%AD%D0%A1_%D0%94%D0%B0%D1%80%D0%BB%D0%B8%D0%BD%D0%B3%D1%82%D0%BE%D0%BD'),\n ('АЭС Даявань',\n  'https://ru.wikipedia.org/wiki/%D0%90%D0%AD%D0%A1_%D0%94%D0%B0%D1%8F%D0%B2%D0%B0%D0%BD%D1%8C'),\n ('АЭС Джентилли',\n  'https://ru.wikipedia.org/wiki/%D0%90%D0%AD%D0%A1_%D0%94%D0%B6%D0%B5%D0%BD%D1%82%D0%B8%D0%BB%D0%BB%D0%B8'),\n ('АЭС Джинна',\n  'https://ru.wikipedia.org/wiki/%D0%90%D0%AD%D0%A1_%D0%94%D0%B6%D0%B8%D0%BD%D0%BD%D0%B0'),\n ('АЭС Додевард',\n  'https://ru.wikipedia.org/wiki/%D0%90%D0%AD%D0%A1_%D0%94%D0%BE%D0%B4%D0%B5%D0%B2%D0%B0%D1%80%D0%B4'),\n ('АЭС Дональд Кук',\n  'https://ru.wikipedia.org/wiki/%D0%90%D0%AD%D0%A1_%D0%94%D0%BE%D0%BD%D0%B0%D0%BB%D1%8C%D0%B4_%D0%9A%D1%83%D0%BA'),\n ('АЭС Дрезден',\n  'https://ru.wikipedia.org/wiki/%D0%90%D0%AD%D0%A1_%D0%94%D1%80%D0%B5%D0%B7%D0%B4%D0%B5%D0%BD'),\n ('АЭС Дуглас-Пойнт',\n  'https://ru.wikipedia.org/wiki/%D0%90%D0%AD%D0%A1_%D0%94%D1%83%D0%B3%D0%BB%D0%B0%D1%81-%D0%9F%D0%BE%D0%B9%D0%BD%D1%82'),\n ('АЭС Дул',\n  'https://ru.wikipedia.org/wiki/%D0%90%D0%AD%D0%A1_%D0%94%D1%83%D0%BB'),\n ('АЭС Дуэйн-Арнольд',\n  'https://ru.wikipedia.org/wiki/%D0%90%D0%AD%D0%A1_%D0%94%D1%83%D1%8D%D0%B9%D0%BD-%D0%90%D1%80%D0%BD%D0%BE%D0%BB%D1%8C%D0%B4'),\n ('АЭС Дьябло Каньон',\n  'https://ru.wikipedia.org/wiki/%D0%90%D0%AD%D0%A1_%D0%94%D1%8C%D1%8F%D0%B1%D0%BB%D0%BE_%D0%9A%D0%B0%D0%BD%D1%8C%D0%BE%D0%BD'),\n ('АЭС Дэвис-Бесс',\n  'https://ru.wikipedia.org/wiki/%D0%90%D0%AD%D0%A1_%D0%94%D1%8D%D0%B2%D0%B8%D1%81-%D0%91%D0%B5%D1%81%D1%81'),\n ('АЭС Жарновец',\n  'https://ru.wikipedia.org/wiki/%D0%90%D0%AD%D0%A1_%D0%96%D0%B0%D1%80%D0%BD%D0%BE%D0%B2%D0%B5%D1%86'),\n ('АЭС Зион',\n  'https://ru.wikipedia.org/wiki/%D0%90%D0%AD%D0%A1_%D0%97%D0%B8%D0%BE%D0%BD'),\n ('АЭС Изар',\n  'https://ru.wikipedia.org/wiki/%D0%90%D0%AD%D0%A1_%D0%98%D0%B7%D0%B0%D1%80'),\n ('АЭС Иката',\n  'https://ru.wikipedia.org/wiki/%D0%90%D0%AD%D0%A1_%D0%98%D0%BA%D0%B0%D1%82%D0%B0'),\n ('АЭС имени адмирала Алваро Алберто',\n  'https://ru.wikipedia.org/wiki/%D0%90%D0%AD%D0%A1_%D0%B8%D0%BC%D0%B5%D0%BD%D0%B8_%D0%B0%D0%B4%D0%BC%D0%B8%D1%80%D0%B0%D0%BB%D0%B0_%D0%90%D0%BB%D0%B2%D0%B0%D1%80%D0%BE_%D0%90%D0%BB%D0%B1%D0%B5%D1%80%D1%82%D0%BE'),\n ('АЭС Индиан-Пойнт',\n  'https://ru.wikipedia.org/wiki/%D0%90%D0%AD%D0%A1_%D0%98%D0%BD%D0%B4%D0%B8%D0%B0%D0%BD-%D0%9F%D0%BE%D0%B9%D0%BD%D1%82'),\n ('АЭС Кайга',\n  'https://ru.wikipedia.org/wiki/%D0%90%D0%AD%D0%A1_%D0%9A%D0%B0%D0%B9%D0%B3%D0%B0'),\n ('АЭС Какрапар',\n  'https://ru.wikipedia.org/wiki/%D0%90%D0%AD%D0%A1_%D0%9A%D0%B0%D0%BA%D1%80%D0%B0%D0%BF%D0%B0%D1%80'),\n ('АЭС Калверт-Клифс',\n  'https://ru.wikipedia.org/wiki/%D0%90%D0%AD%D0%A1_%D0%9A%D0%B0%D0%BB%D0%B2%D0%B5%D1%80%D1%82-%D0%9A%D0%BB%D0%B8%D1%84%D1%81'),\n ('АЭС Каллауэй',\n  'https://ru.wikipedia.org/wiki/%D0%90%D0%AD%D0%A1_%D0%9A%D0%B0%D0%BB%D0%BB%D0%B0%D1%83%D1%8D%D0%B9'),\n ('АЭС Каль',\n  'https://ru.wikipedia.org/wiki/%D0%90%D0%AD%D0%A1_%D0%9A%D0%B0%D0%BB%D1%8C'),\n ('АЭС Каорсо',\n  'https://ru.wikipedia.org/wiki/%D0%90%D0%AD%D0%A1_%D0%9A%D0%B0%D0%BE%D1%80%D1%81%D0%BE'),\n ('АЭС Карачи',\n  'https://ru.wikipedia.org/wiki/%D0%90%D0%AD%D0%A1_%D0%9A%D0%B0%D1%80%D0%B0%D1%87%D0%B8'),\n ('АЭС Касивадзаки-Карива',\n  'https://ru.wikipedia.org/wiki/%D0%90%D0%AD%D0%A1_%D0%9A%D0%B0%D1%81%D0%B8%D0%B2%D0%B0%D0%B4%D0%B7%D0%B0%D0%BA%D0%B8-%D0%9A%D0%B0%D1%80%D0%B8%D0%B2%D0%B0'),\n ('АЭС Катоба',\n  'https://ru.wikipedia.org/wiki/%D0%90%D0%AD%D0%A1_%D0%9A%D0%B0%D1%82%D0%BE%D0%B1%D0%B0'),\n ('АЭС Каттеном',\n  'https://ru.wikipedia.org/wiki/%D0%90%D0%AD%D0%A1_%D0%9A%D0%B0%D1%82%D1%82%D0%B5%D0%BD%D0%BE%D0%BC'),\n ('АЭС Квод Ситис',\n  'https://ru.wikipedia.org/wiki/%D0%90%D0%AD%D0%A1_%D0%9A%D0%B2%D0%BE%D0%B4_%D0%A1%D0%B8%D1%82%D0%B8%D1%81'),\n ('АЭС Кевони',\n  'https://ru.wikipedia.org/wiki/%D0%90%D0%AD%D0%A1_%D0%9A%D0%B5%D0%B2%D0%BE%D0%BD%D0%B8'),\n ('АЭС Клинтон',\n  'https://ru.wikipedia.org/wiki/%D0%90%D0%AD%D0%A1_%D0%9A%D0%BB%D0%B8%D0%BD%D1%82%D0%BE%D0%BD'),\n ('АЭС Коберг',\n  'https://ru.wikipedia.org/wiki/%D0%90%D0%AD%D0%A1_%D0%9A%D0%BE%D0%B1%D0%B5%D1%80%D0%B3'),\n ('АЭС Колумбия',\n  'https://ru.wikipedia.org/wiki/%D0%90%D0%AD%D0%A1_%D0%9A%D0%BE%D0%BB%D1%83%D0%BC%D0%B1%D0%B8%D1%8F'),\n ('АЭС Команчи-Пик',\n  'https://ru.wikipedia.org/wiki/%D0%90%D0%AD%D0%A1_%D0%9A%D0%BE%D0%BC%D0%B0%D0%BD%D1%87%D0%B8-%D0%9F%D0%B8%D0%BA'),\n ('АЭС Коннектикут Янки',\n  'https://ru.wikipedia.org/wiki/%D0%90%D0%AD%D0%A1_%D0%9A%D0%BE%D0%BD%D0%BD%D0%B5%D0%BA%D1%82%D0%B8%D0%BA%D1%83%D1%82_%D0%AF%D0%BD%D0%BA%D0%B8'),\n ('АЭС Кори',\n  'https://ru.wikipedia.org/wiki/%D0%90%D0%AD%D0%A1_%D0%9A%D0%BE%D1%80%D0%B8'),\n ('АЭС Кофрентес',\n  'https://ru.wikipedia.org/wiki/%D0%90%D0%AD%D0%A1_%D0%9A%D0%BE%D1%84%D1%80%D0%B5%D0%BD%D1%82%D0%B5%D1%81'),\n ('АЭС Крей-Мальвиль',\n  'https://ru.wikipedia.org/wiki/%D0%90%D0%AD%D0%A1_%D0%9A%D1%80%D0%B5%D0%B9-%D0%9C%D0%B0%D0%BB%D1%8C%D0%B2%D0%B8%D0%BB%D1%8C'),\n ('АЭС Кристал Ривер',\n  'https://ru.wikipedia.org/wiki/%D0%90%D0%AD%D0%A1_%D0%9A%D1%80%D0%B8%D1%81%D1%82%D0%B0%D0%BB_%D0%A0%D0%B8%D0%B2%D0%B5%D1%80'),\n ('АЭС Кршко',\n  'https://ru.wikipedia.org/wiki/%D0%90%D0%AD%D0%A1_%D0%9A%D1%80%D1%88%D0%BA%D0%BE'),\n ('АЭС Крюа',\n  'https://ru.wikipedia.org/wiki/%D0%90%D0%AD%D0%A1_%D0%9A%D1%80%D1%8E%D0%B0'),\n ('АЭС Крюммель',\n  'https://ru.wikipedia.org/wiki/%D0%90%D0%AD%D0%A1_%D0%9A%D1%80%D1%8E%D0%BC%D0%BC%D0%B5%D0%BB%D1%8C'),\n ('АЭС Куданкулам',\n  'https://ru.wikipedia.org/wiki/%D0%90%D0%AD%D0%A1_%D0%9A%D1%83%D0%B4%D0%B0%D0%BD%D0%BA%D1%83%D0%BB%D0%B0%D0%BC'),\n ('АЭС Куошен',\n  'https://ru.wikipedia.org/wiki/%D0%90%D0%AD%D0%A1_%D0%9A%D1%83%D0%BE%D1%88%D0%B5%D0%BD'),\n ('АЭС Купер',\n  'https://ru.wikipedia.org/wiki/%D0%90%D0%AD%D0%A1_%D0%9A%D1%83%D0%BF%D0%B5%D1%80'),\n ('АЭС Лагуна-Верде',\n  'https://ru.wikipedia.org/wiki/%D0%90%D0%AD%D0%A1_%D0%9B%D0%B0%D0%B3%D1%83%D0%BD%D0%B0-%D0%92%D0%B5%D1%80%D0%B4%D0%B5'),\n ('АЭС Лайбштадт',\n  'https://ru.wikipedia.org/wiki/%D0%90%D0%AD%D0%A1_%D0%9B%D0%B0%D0%B9%D0%B1%D1%88%D1%82%D0%B0%D0%B4%D1%82'),\n ('АЭС Ласаль',\n  'https://ru.wikipedia.org/wiki/%D0%90%D0%AD%D0%A1_%D0%9B%D0%B0%D1%81%D0%B0%D0%BB%D1%8C'),\n ('АЭС Латина',\n  'https://ru.wikipedia.org/wiki/%D0%90%D0%AD%D0%A1_%D0%9B%D0%B0%D1%82%D0%B8%D0%BD%D0%B0'),\n ('АЭС Лимерик',\n  'https://ru.wikipedia.org/wiki/%D0%90%D0%AD%D0%A1_%D0%9B%D0%B8%D0%BC%D0%B5%D1%80%D0%B8%D0%BA'),\n ('АЭС Линген',\n  'https://ru.wikipedia.org/wiki/%D0%90%D0%AD%D0%A1_%D0%9B%D0%B8%D0%BD%D0%B3%D0%B5%D0%BD'),\n ('АЭС Линьао',\n  'https://ru.wikipedia.org/wiki/%D0%90%D0%AD%D0%A1_%D0%9B%D0%B8%D0%BD%D1%8C%D0%B0%D0%BE'),\n ('АЭС Лунгмень',\n  'https://ru.wikipedia.org/wiki/%D0%90%D0%AD%D0%A1_%D0%9B%D1%83%D0%BD%D0%B3%D0%BC%D0%B5%D0%BD%D1%8C'),\n ('АЭС Мааншан',\n  'https://ru.wikipedia.org/wiki/%D0%90%D0%AD%D0%A1_%D0%9C%D0%B0%D0%B0%D0%BD%D1%88%D0%B0%D0%BD'),\n ('АЭС Мадрас',\n  'https://ru.wikipedia.org/wiki/%D0%90%D0%AD%D0%A1_%D0%9C%D0%B0%D0%B4%D1%80%D0%B0%D1%81'),\n ('АЭС Макгуайр',\n  'https://ru.wikipedia.org/wiki/%D0%90%D0%AD%D0%A1_%D0%9C%D0%B0%D0%BA%D0%B3%D1%83%D0%B0%D0%B9%D1%80'),\n ('АЭС Милстоун',\n  'https://ru.wikipedia.org/wiki/%D0%90%D0%AD%D0%A1_%D0%9C%D0%B8%D0%BB%D1%81%D1%82%D0%BE%D1%83%D0%BD'),\n ('АЭС Михама',\n  'https://ru.wikipedia.org/wiki/%D0%90%D0%AD%D0%A1_%D0%9C%D0%B8%D1%85%D0%B0%D0%BC%D0%B0'),\n ('АЭС Мондзю',\n  'https://ru.wikipedia.org/wiki/%D0%90%D0%AD%D0%A1_%D0%9C%D0%BE%D0%BD%D0%B4%D0%B7%D1%8E'),\n ('АЭС Монтичелло',\n  'https://ru.wikipedia.org/wiki/%D0%90%D0%AD%D0%A1_%D0%9C%D0%BE%D0%BD%D1%82%D0%B8%D1%87%D0%B5%D0%BB%D0%BB%D0%BE'),\n ('АЭС Моховце',\n  'https://ru.wikipedia.org/wiki/%D0%90%D0%AD%D0%A1_%D0%9C%D0%BE%D1%85%D0%BE%D0%B2%D1%86%D0%B5'),\n ('АЭС Мэн Янки',\n  'https://ru.wikipedia.org/wiki/%D0%90%D0%AD%D0%A1_%D0%9C%D1%8D%D0%BD_%D0%AF%D0%BD%D0%BA%D0%B8'),\n ('АЭС Мюлеберг',\n  'https://ru.wikipedia.org/wiki/%D0%90%D0%AD%D0%A1_%D0%9C%D1%8E%D0%BB%D0%B5%D0%B1%D0%B5%D1%80%D0%B3'),\n ('АЭС Мюльхайм-Керлих',\n  'https://ru.wikipedia.org/wiki/%D0%90%D0%AD%D0%A1_%D0%9C%D1%8E%D0%BB%D1%8C%D1%85%D0%B0%D0%B9%D0%BC-%D0%9A%D0%B5%D1%80%D0%BB%D0%B8%D1%85'),\n ('АЭС Найн-Майл-Пойнт',\n  'https://ru.wikipedia.org/wiki/%D0%90%D0%AD%D0%A1_%D0%9D%D0%B0%D0%B9%D0%BD-%D0%9C%D0%B0%D0%B9%D0%BB-%D0%9F%D0%BE%D0%B9%D0%BD%D1%82'),\n ('АЭС Нарора',\n  'https://ru.wikipedia.org/wiki/%D0%90%D0%AD%D0%A1_%D0%9D%D0%B0%D1%80%D0%BE%D1%80%D0%B0'),\n ('АЭС Неккарвестхайм',\n  'https://ru.wikipedia.org/wiki/%D0%90%D0%AD%D0%A1_%D0%9D%D0%B5%D0%BA%D0%BA%D0%B0%D1%80%D0%B2%D0%B5%D1%81%D1%82%D1%85%D0%B0%D0%B9%D0%BC'),\n ('АЭС Нидерайхбах',\n  'https://ru.wikipedia.org/wiki/%D0%90%D0%AD%D0%A1_%D0%9D%D0%B8%D0%B4%D0%B5%D1%80%D0%B0%D0%B9%D1%85%D0%B1%D0%B0%D1%85'),\n ('АЭС Ниндэ',\n  'https://ru.wikipedia.org/wiki/%D0%90%D0%AD%D0%A1_%D0%9D%D0%B8%D0%BD%D0%B4%D1%8D'),\n ('АЭС Ножан',\n  'https://ru.wikipedia.org/wiki/%D0%90%D0%AD%D0%A1_%D0%9D%D0%BE%D0%B6%D0%B0%D0%BD'),\n ('АЭС Норт Анна',\n  'https://ru.wikipedia.org/wiki/%D0%90%D0%AD%D0%A1_%D0%9D%D0%BE%D1%80%D1%82_%D0%90%D0%BD%D0%BD%D0%B0'),\n ('АЭС Обригхайм',\n  'https://ru.wikipedia.org/wiki/%D0%90%D0%AD%D0%A1_%D0%9E%D0%B1%D1%80%D0%B8%D0%B3%D1%85%D0%B0%D0%B9%D0%BC'),\n ('АЭС Огеста',\n  'https://ru.wikipedia.org/wiki/%D0%90%D0%AD%D0%A1_%D0%9E%D0%B3%D0%B5%D1%81%D1%82%D0%B0'),\n ('АЭС Ои', 'https://ru.wikipedia.org/wiki/%D0%90%D0%AD%D0%A1_%D0%9E%D0%B8'),\n ('АЭС Ойстер-Крик',\n  'https://ru.wikipedia.org/wiki/%D0%90%D0%AD%D0%A1_%D0%9E%D0%B9%D1%81%D1%82%D0%B5%D1%80-%D0%9A%D1%80%D0%B8%D0%BA'),\n ('АЭС Окони',\n  'https://ru.wikipedia.org/wiki/%D0%90%D0%AD%D0%A1_%D0%9E%D0%BA%D0%BE%D0%BD%D0%B8'),\n ('АЭС Ома',\n  'https://ru.wikipedia.org/wiki/%D0%90%D0%AD%D0%A1_%D0%9E%D0%BC%D0%B0'),\n ('АЭС Онагава',\n  'https://ru.wikipedia.org/wiki/%D0%90%D0%AD%D0%A1_%D0%9E%D0%BD%D0%B0%D0%B3%D0%B0%D0%B2%D0%B0'),\n ('АЭС Оскарсхамн',\n  'https://ru.wikipedia.org/wiki/%D0%90%D0%AD%D0%A1_%D0%9E%D1%81%D0%BA%D0%B0%D1%80%D1%81%D1%85%D0%B0%D0%BC%D0%BD'),\n ('АЭС Пакш',\n  'https://ru.wikipedia.org/wiki/%D0%90%D0%AD%D0%A1_%D0%9F%D0%B0%D0%BA%D1%88'),\n ('АЭС Палисадес',\n  'https://ru.wikipedia.org/wiki/%D0%90%D0%AD%D0%A1_%D0%9F%D0%B0%D0%BB%D0%B8%D1%81%D0%B0%D0%B4%D0%B5%D1%81'),\n ('АЭС Пало-Верде',\n  'https://ru.wikipedia.org/wiki/%D0%90%D0%AD%D0%A1_%D0%9F%D0%B0%D0%BB%D0%BE-%D0%92%D0%B5%D1%80%D0%B4%D0%B5'),\n ('АЭС Палюэль',\n  'https://ru.wikipedia.org/wiki/%D0%90%D0%AD%D0%A1_%D0%9F%D0%B0%D0%BB%D1%8E%D1%8D%D0%BB%D1%8C'),\n ('АЭС Пенли',\n  'https://ru.wikipedia.org/wiki/%D0%90%D0%AD%D0%A1_%D0%9F%D0%B5%D0%BD%D0%BB%D0%B8'),\n ('АЭС Перри',\n  'https://ru.wikipedia.org/wiki/%D0%90%D0%AD%D0%A1_%D0%9F%D0%B5%D1%80%D1%80%D0%B8'),\n ('АЭС Пикеринг',\n  'https://ru.wikipedia.org/wiki/%D0%90%D0%AD%D0%A1_%D0%9F%D0%B8%D0%BA%D0%B5%D1%80%D0%B8%D0%BD%D0%B3'),\n ('АЭС Пилигрим',\n  'https://ru.wikipedia.org/wiki/%D0%90%D0%AD%D0%A1_%D0%9F%D0%B8%D0%BB%D0%B8%D0%B3%D1%80%D0%B8%D0%BC'),\n ('АЭС Пич-Боттом',\n  'https://ru.wikipedia.org/wiki/%D0%90%D0%AD%D0%A1_%D0%9F%D0%B8%D1%87-%D0%91%D0%BE%D1%82%D1%82%D0%BE%D0%BC'),\n ('АЭС Пойнт-Бич',\n  'https://ru.wikipedia.org/wiki/%D0%90%D0%AD%D0%A1_%D0%9F%D0%BE%D0%B9%D0%BD%D1%82-%D0%91%D0%B8%D1%87'),\n ('АЭС Пойнт-Лепро',\n  'https://ru.wikipedia.org/wiki/%D0%90%D0%AD%D0%A1_%D0%9F%D0%BE%D0%B9%D0%BD%D1%82-%D0%9B%D0%B5%D0%BF%D1%80%D0%BE'),\n ('АЭС Прейри-Айленд',\n  'https://ru.wikipedia.org/wiki/%D0%90%D0%AD%D0%A1_%D0%9F%D1%80%D0%B5%D0%B9%D1%80%D0%B8-%D0%90%D0%B9%D0%BB%D0%B5%D0%BD%D0%B4'),\n ('АЭС Раджастан',\n  'https://ru.wikipedia.org/wiki/%D0%90%D0%AD%D0%A1_%D0%A0%D0%B0%D0%B4%D0%B6%D0%B0%D1%81%D1%82%D0%B0%D0%BD'),\n ('АЭС Райнсберг',\n  'https://ru.wikipedia.org/wiki/%D0%90%D0%AD%D0%A1_%D0%A0%D0%B0%D0%B9%D0%BD%D1%81%D0%B1%D0%B5%D1%80%D0%B3'),\n ...]"
     },
     "execution_count": 13,
     "metadata": {},
     "output_type": "execute_result"
    }
   ],
   "source": [
    "all_es = []\n",
    "all_es_prop = []\n",
    "for i in range(30):\n",
    "    # load links:\n",
    "    bef = len(all_es)\n",
    "    for links in es_bs.find_all('div', class_='mw-category-group'):\n",
    "        for l in links.find_all('a'):\n",
    "            all_es.append((l['title'], url_wikipedia+l['href']))\n",
    "all_es"
   ],
   "metadata": {
    "collapsed": false,
    "pycharm": {
     "name": "#%%\n"
    }
   }
  },
  {
   "cell_type": "code",
   "execution_count": 14,
   "outputs": [
    {
     "name": "stdout",
     "output_type": "stream",
     "text": [
      "0: Абаданская ГЭС, lat: 38.06, lon: 58.16194, cont: Туркменистан\n",
      "1: Абаканская ТЭЦ, lat: 53.71944, lon: 91.32194, cont: Россия\n",
      "2: Автовская ТЭЦ, lat: 59.8700861, lon: 30.2868833, cont: Россия\n",
      "3: Автозаводская ТЭЦ, lat: 56.24333, lon: 43.8925, cont: Россия\n",
      "4: Аджарис-Цкальская ГЭС, lat: 41.570306, lon: 41.861472, cont: Грузия\n",
      "5: Адлерская ТЭС, lat: 43.420083, lon: 39.94875, cont: Россия\n",
      "6: Адыгейская ВЭС, lat: 44.935, lon: 40.145, cont: Россия\n",
      "7: Азербайджанская ТЭС, lat: 40.78, lon: 46.99, cont: Азербайджан\n",
      "8: Ак-Кавакская ГЭС-1, lat: 41.447083, lon: 69.558167, cont: Узбекистан\n",
      "9: Академик Ломоносов, lat: 69.70975, lon: 170.309889, cont: Россия\n"
     ]
    }
   ],
   "source": [
    "for i, (n, lnk) in enumerate(all_es[:10]):\n",
    "    es = BeautifulSoup(urllib.request.urlopen(lnk), 'lxml')\n",
    "    coord = es.find_all('a', class_='mw-kartographer-maplink')\n",
    "    if len(coord) > 0:\n",
    "        lat, lon = coord[0]['data-lat'], coord[0]['data-lon']\n",
    "    else:\n",
    "        print('{}: {}, COORDINATES IS NOT FOUND! link: {}'.format(i, n, lnk))\n",
    "        continue\n",
    "\n",
    "    es_pr = {}\n",
    "    table = es.find('table', class_=\"infobox\")\n",
    "    if table is not None:\n",
    "        for row in table.find_all('tr'):\n",
    "            th = row.find_all('th')\n",
    "            if th and len(th):\n",
    "    #             print(th[0].text.strip(), end=' || ')\n",
    "                td = row.find_all('td')\n",
    "                if td and len(td):\n",
    "                    es_pr[th[0].text.strip()] = td[0].text.strip()\n",
    "        #             print(td[0].text.strip())\n",
    "        all_es_prop.append((n, lnk, lat, lon, es_pr))\n",
    "        print('{}: {}, lat: {}, lon: {}, cont: {}'.format(i, n, lat, lon, es_pr.get('Страна', '--')))\n",
    "    else:\n",
    "        print('{}: {}, TABLE IS NOT FOUND! link: {}'.format(i, n, lnk))"
   ],
   "metadata": {
    "collapsed": false,
    "pycharm": {
     "name": "#%%\n"
    }
   }
  },
  {
   "cell_type": "code",
   "execution_count": 15,
   "outputs": [
    {
     "data": {
      "text/plain": "[('Абаданская ГЭС',\n  'https://ru.wikipedia.org/wiki/%D0%90%D0%B1%D0%B0%D0%B4%D0%B0%D0%BD%D1%81%D0%BA%D0%B0%D1%8F_%D0%93%D0%AD%D0%A1',\n  '38.06',\n  '58.16194',\n  {'Страна': 'Туркменистан',\n   'Местоположение': 'Ашхабад, Абаданский этрап',\n   'Собственник': 'Туркменэнерго',\n   'Статус': 'Действующая',\n   'Ввод в эксплуатацию': '1957',\n   'Электрическая мощность, МВт': '371',\n   'Основное топливо': 'природный газ',\n   'Количество и марка генераторов': '2 (General Electric, Çalyk Enerji)'}),\n ('Абаканская ТЭЦ',\n  'https://ru.wikipedia.org/wiki/%D0%90%D0%B1%D0%B0%D0%BA%D0%B0%D0%BD%D1%81%D0%BA%D0%B0%D1%8F_%D0%A2%D0%AD%D0%A6',\n  '53.71944',\n  '91.32194',\n  {'Страна': 'Россия',\n   'Местоположение': 'город Абакан, Хакасия',\n   'Статус': 'действующая',\n   'Ввод в эксплуатацию': '1982',\n   'Электрическая мощность, МВт': '406 МВт',\n   'Тепловая мощность': '625 Гкал/ч',\n   'Основное топливо': 'бурый уголь Ирша-Бородинского месторождения Канско-Ачинского угольного\\xa0бассейна',\n   'Резервное топливо': 'мазут',\n   'Котельные агрегаты': '4 × БКЗ-420-1401 × ГМ-50-14-2501 × Е 500 13,8-560-5с',\n   'Количество и марка турбин': '1 × ПТ-60-130/132 × Т-110/120-1301 × КТ-136-12,8',\n   'Количество и марка генераторов': '1 × ТВФ-63-21 × ТВФ-120-2У31 × ТВФ-110-2ЕУ31 × ТВФ-136-2У3',\n   'РУ': '220, 110 кВ',\n   'Сайт': 'www.sibgenco.ru sibgenco.online'}),\n ('Автовская ТЭЦ',\n  'https://ru.wikipedia.org/wiki/%D0%90%D0%B2%D1%82%D0%BE%D0%B2%D1%81%D0%BA%D0%B0%D1%8F_%D0%A2%D0%AD%D0%A6',\n  '59.8700861',\n  '30.2868833',\n  {'Страна': 'Россия',\n   'Местоположение': 'Санкт-Петербург, Броневая ул., 6',\n   'Ввод в эксплуатацию': '26 декабря 1956',\n   'Электрическая мощность, МВт': '301 МВт[1]',\n   'Тепловая мощность': '1777 Гкал/ч',\n   'Основное топливо': 'природный газ,мазут (резерв)',\n   'РУ': '110, 35 кВ',\n   'Сайт': 'tgc1.ru/production/compl…'}),\n ('Автозаводская ТЭЦ',\n  'https://ru.wikipedia.org/wiki/%D0%90%D0%B2%D1%82%D0%BE%D0%B7%D0%B0%D0%B2%D0%BE%D0%B4%D1%81%D0%BA%D0%B0%D1%8F_%D0%A2%D0%AD%D0%A6',\n  '56.24333',\n  '43.8925',\n  {'Страна': 'Россия',\n   'Местоположение': 'Нижний Новгород, Автозаводский район',\n   'Собственник': 'ООО «Автозаводская ТЭЦ» (входит в АО «ЕвроСибЭнерго»)',\n   'Статус': 'Действующая',\n   'Ввод в эксплуатацию': '4 ноября 1931 года',\n   'Электрическая мощность, МВт': '530\\xa0МВт [1]',\n   'Тепловая мощность': '1920 Гкал/час[1]',\n   'Основное топливо': 'Природный газ[2]',\n   'Резервное топливо': 'Мазут[3]',\n   'РУ': '110 кВ',\n   'Сайт': 'atec.volgaenergo.ru'}),\n ('Аджарис-Цкальская ГЭС',\n  'https://ru.wikipedia.org/wiki/%D0%90%D0%B4%D0%B6%D0%B0%D1%80%D0%B8%D1%81-%D0%A6%D0%BA%D0%B0%D0%BB%D1%8C%D1%81%D0%BA%D0%B0%D1%8F_%D0%93%D0%AD%D0%A1',\n  '41.570306',\n  '41.861472',\n  {'Страна': 'Грузия',\n   'Местоположение': 'Кедский муниципалитет',\n   'Река': 'Аджарисцкали',\n   'Собственник': 'Energo-Pro',\n   'Статус': 'действующая',\n   'Год начала строительства': '1927',\n   'Годы ввода агрегатов': '1937',\n   'Эксплуатирующая организация': 'Energo-Pro Грузия[d]',\n   'Годовая выработка электроэнергии, млн\\xa0 кВт⋅ч': '103',\n   'Разновидность электростанции': 'деривационная',\n   'Расчётный напор, м': '46',\n   'Электрическая мощность, МВт': '16',\n   'Тип турбин': 'радиально-осевые',\n   'Количество и марка турбин': '2х',\n   'Расход через турбины, м³/с': '2х22,5',\n   'Количество и марка генераторов': '2х',\n   'Мощность генераторов, МВт': '2х8',\n   'Тип плотины': 'бетонная водосливная',\n   'Шлюз': 'нет'}),\n ('Адлерская ТЭС',\n  'https://ru.wikipedia.org/wiki/%D0%90%D0%B4%D0%BB%D0%B5%D1%80%D1%81%D0%BA%D0%B0%D1%8F_%D0%A2%D0%AD%D0%A1',\n  '43.420083',\n  '39.94875',\n  {'Страна': 'Россия',\n   'Местоположение': 'Россия\\xa0Краснодарский край\\xa0Сочи',\n   'Собственник': 'ПАО «ОГК-2»',\n   'Статус': 'действующая',\n   'Ввод в эксплуатацию': '2013',\n   'Электрическая мощность, МВт': '367 МВт',\n   'Тепловая мощность': '70,4 Гкал/ч',\n   'Основное топливо': 'природный газ',\n   'РУ': 'КРУЭ 220, 110 кВ',\n   'Сайт': 'www.ogk2.ru'}),\n ('Адыгейская ВЭС',\n  'https://ru.wikipedia.org/wiki/%D0%90%D0%B4%D1%8B%D0%B3%D0%B5%D0%B9%D1%81%D0%BA%D0%B0%D1%8F_%D0%92%D0%AD%D0%A1',\n  '44.935',\n  '40.145',\n  {'Страна': 'Россия',\n   'Местоположение': 'Республика Адыгея',\n   'Собственник': 'АО «НоваВинд»',\n   'Статус': 'Введена в эксплуатацию',\n   'Годы ввода агрегатов': '2019',\n   'Годовая выработка электроэнергии, млн\\xa0 кВт⋅ч': '355',\n   'Разновидность электростанции': 'наземная',\n   'Электрическая мощность, МВт': '150',\n   'Количество и марка генераторов': '60',\n   'Мощность генераторов, МВт': '2,5'}),\n ('Азербайджанская ТЭС',\n  'https://ru.wikipedia.org/wiki/%D0%90%D0%B7%D0%B5%D1%80%D0%B1%D0%B0%D0%B9%D0%B4%D0%B6%D0%B0%D0%BD%D1%81%D0%BA%D0%B0%D1%8F_%D0%A2%D0%AD%D0%A1',\n  '40.78',\n  '46.99',\n  {'Страна': 'Азербайджан',\n   'Собственник': 'Азерэнержи',\n   'Ввод в эксплуатацию': '1981',\n   'Эксплуатирующая организация': 'Азерэнержи',\n   'Электрическая мощность, МВт': '2400\\xa0МВт[1]'}),\n ('Ак-Кавакская ГЭС-1',\n  'https://ru.wikipedia.org/wiki/%D0%90%D0%BA-%D0%9A%D0%B0%D0%B2%D0%B0%D0%BA%D1%81%D0%BA%D0%B0%D1%8F_%D0%93%D0%AD%D0%A1-1',\n  '41.447083',\n  '69.558167',\n  {'Страна': 'Узбекистан',\n   'Река': 'Чирчик',\n   'Каскад': 'Чирчик-Бозсуйский',\n   'Собственник': 'Узбекгидроэнерго',\n   'Статус': 'действующая',\n   'Год начала строительства': '1941',\n   'Годы ввода агрегатов': '1943, 1951',\n   'Годовая выработка электроэнергии, млн\\xa0 кВт⋅ч': '172',\n   'Разновидность электростанции': 'деривационная',\n   'Расчётный напор, м': '28,25; 35,5',\n   'Электрическая мощность, МВт': '34,7',\n   'Тип турбин': 'радиально-осевая, поворотно-лопастная',\n   'Расход через турбины, м³/с': '1×45, 1×84',\n   'Мощность генераторов, МВт': '1×10,7; 1×24',\n   'Тип плотины': 'отсутствует',\n   'Шлюз': 'отсутствует',\n   'РУ': '35 кВ'}),\n ('Академик Ломоносов',\n  'https://ru.wikipedia.org/wiki/%D0%90%D0%BA%D0%B0%D0%B4%D0%B5%D0%BC%D0%B8%D0%BA_%D0%9B%D0%BE%D0%BC%D0%BE%D0%BD%D0%BE%D1%81%D0%BE%D0%B2',\n  '69.70975',\n  '170.309889',\n  {'Страна': 'Россия',\n   'Местоположение': 'Чукотский АО, г. Певек',\n   'Год начала строительства': '2007',\n   'Ввод в эксплуатацию': '19.12.2019',\n   'Эксплуатирующая организация': 'Росэнергоатом',\n   'Электрическая мощность, МВт': '70',\n   'Количество энергоблоков': '1',\n   'Тип реакторов': 'КЛТ-40С',\n   'Эксплуатируемых реакторов': '2',\n   'Сайт': 'Плавучие атомные теплоэлектростанции (ПАТЭС)'})]"
     },
     "execution_count": 15,
     "metadata": {},
     "output_type": "execute_result"
    }
   ],
   "source": [
    "all_es_prop"
   ],
   "metadata": {
    "collapsed": false,
    "pycharm": {
     "name": "#%%\n"
    }
   }
  },
  {
   "cell_type": "markdown",
   "source": [
    "#### Собрать данные о городах (на букву С) России по категории:\n",
    "#### https://ru.wikipedia.org/wiki/Категория:Города_по_субъектам_Российской_Федерации."
   ],
   "metadata": {
    "collapsed": false,
    "pycharm": {
     "name": "#%% md\n"
    }
   }
  },
  {
   "cell_type": "code",
   "execution_count": 16,
   "outputs": [],
   "source": [
    "need_url = 'https://ru.wikipedia.org/wiki/Категория:Города_по_субъектам_Российской_Федерации'"
   ],
   "metadata": {
    "collapsed": false,
    "pycharm": {
     "name": "#%%\n"
    }
   }
  },
  {
   "cell_type": "code",
   "execution_count": 17,
   "outputs": [
    {
     "data": {
      "text/plain": "[('Города Крыма',\n  'https://ru.wikipedia.org/wiki/%D0%9A%D0%B0%D1%82%D0%B5%D0%B3%D0%BE%D1%80%D0%B8%D1%8F:%D0%93%D0%BE%D1%80%D0%BE%D0%B4%D0%B0_%D0%9A%D1%80%D1%8B%D0%BC%D0%B0'),\n ('Города Адыгеи',\n  'https://ru.wikipedia.org/wiki/%D0%9A%D0%B0%D1%82%D0%B5%D0%B3%D0%BE%D1%80%D0%B8%D1%8F:%D0%93%D0%BE%D1%80%D0%BE%D0%B4%D0%B0_%D0%90%D0%B4%D1%8B%D0%B3%D0%B5%D0%B8'),\n ('Города Республики Алтай',\n  'https://ru.wikipedia.org/wiki/%D0%9A%D0%B0%D1%82%D0%B5%D0%B3%D0%BE%D1%80%D0%B8%D1%8F:%D0%93%D0%BE%D1%80%D0%BE%D0%B4%D0%B0_%D0%A0%D0%B5%D1%81%D0%BF%D1%83%D0%B1%D0%BB%D0%B8%D0%BA%D0%B8_%D0%90%D0%BB%D1%82%D0%B0%D0%B9'),\n ('Города Алтайского края',\n  'https://ru.wikipedia.org/wiki/%D0%9A%D0%B0%D1%82%D0%B5%D0%B3%D0%BE%D1%80%D0%B8%D1%8F:%D0%93%D0%BE%D1%80%D0%BE%D0%B4%D0%B0_%D0%90%D0%BB%D1%82%D0%B0%D0%B9%D1%81%D0%BA%D0%BE%D0%B3%D0%BE_%D0%BA%D1%80%D0%B0%D1%8F'),\n ('Города Амурской области',\n  'https://ru.wikipedia.org/wiki/%D0%9A%D0%B0%D1%82%D0%B5%D0%B3%D0%BE%D1%80%D0%B8%D1%8F:%D0%93%D0%BE%D1%80%D0%BE%D0%B4%D0%B0_%D0%90%D0%BC%D1%83%D1%80%D1%81%D0%BA%D0%BE%D0%B9_%D0%BE%D0%B1%D0%BB%D0%B0%D1%81%D1%82%D0%B8'),\n ('Города Архангельской области',\n  'https://ru.wikipedia.org/wiki/%D0%9A%D0%B0%D1%82%D0%B5%D0%B3%D0%BE%D1%80%D0%B8%D1%8F:%D0%93%D0%BE%D1%80%D0%BE%D0%B4%D0%B0_%D0%90%D1%80%D1%85%D0%B0%D0%BD%D0%B3%D0%B5%D0%BB%D1%8C%D1%81%D0%BA%D0%BE%D0%B9_%D0%BE%D0%B1%D0%BB%D0%B0%D1%81%D1%82%D0%B8'),\n ('Города Астраханской области',\n  'https://ru.wikipedia.org/wiki/%D0%9A%D0%B0%D1%82%D0%B5%D0%B3%D0%BE%D1%80%D0%B8%D1%8F:%D0%93%D0%BE%D1%80%D0%BE%D0%B4%D0%B0_%D0%90%D1%81%D1%82%D1%80%D0%B0%D1%85%D0%B0%D0%BD%D1%81%D0%BA%D0%BE%D0%B9_%D0%BE%D0%B1%D0%BB%D0%B0%D1%81%D1%82%D0%B8'),\n ('Города Башкортостана',\n  'https://ru.wikipedia.org/wiki/%D0%9A%D0%B0%D1%82%D0%B5%D0%B3%D0%BE%D1%80%D0%B8%D1%8F:%D0%93%D0%BE%D1%80%D0%BE%D0%B4%D0%B0_%D0%91%D0%B0%D1%88%D0%BA%D0%BE%D1%80%D1%82%D0%BE%D1%81%D1%82%D0%B0%D0%BD%D0%B0'),\n ('Города Белгородской области',\n  'https://ru.wikipedia.org/wiki/%D0%9A%D0%B0%D1%82%D0%B5%D0%B3%D0%BE%D1%80%D0%B8%D1%8F:%D0%93%D0%BE%D1%80%D0%BE%D0%B4%D0%B0_%D0%91%D0%B5%D0%BB%D0%B3%D0%BE%D1%80%D0%BE%D0%B4%D1%81%D0%BA%D0%BE%D0%B9_%D0%BE%D0%B1%D0%BB%D0%B0%D1%81%D1%82%D0%B8'),\n ('Города Брянской области',\n  'https://ru.wikipedia.org/wiki/%D0%9A%D0%B0%D1%82%D0%B5%D0%B3%D0%BE%D1%80%D0%B8%D1%8F:%D0%93%D0%BE%D1%80%D0%BE%D0%B4%D0%B0_%D0%91%D1%80%D1%8F%D0%BD%D1%81%D0%BA%D0%BE%D0%B9_%D0%BE%D0%B1%D0%BB%D0%B0%D1%81%D1%82%D0%B8'),\n ('Города Бурятии',\n  'https://ru.wikipedia.org/wiki/%D0%9A%D0%B0%D1%82%D0%B5%D0%B3%D0%BE%D1%80%D0%B8%D1%8F:%D0%93%D0%BE%D1%80%D0%BE%D0%B4%D0%B0_%D0%91%D1%83%D1%80%D1%8F%D1%82%D0%B8%D0%B8'),\n ('Города Владимирской области',\n  'https://ru.wikipedia.org/wiki/%D0%9A%D0%B0%D1%82%D0%B5%D0%B3%D0%BE%D1%80%D0%B8%D1%8F:%D0%93%D0%BE%D1%80%D0%BE%D0%B4%D0%B0_%D0%92%D0%BB%D0%B0%D0%B4%D0%B8%D0%BC%D0%B8%D1%80%D1%81%D0%BA%D0%BE%D0%B9_%D0%BE%D0%B1%D0%BB%D0%B0%D1%81%D1%82%D0%B8'),\n ('Города Волгоградской области',\n  'https://ru.wikipedia.org/wiki/%D0%9A%D0%B0%D1%82%D0%B5%D0%B3%D0%BE%D1%80%D0%B8%D1%8F:%D0%93%D0%BE%D1%80%D0%BE%D0%B4%D0%B0_%D0%92%D0%BE%D0%BB%D0%B3%D0%BE%D0%B3%D1%80%D0%B0%D0%B4%D1%81%D0%BA%D0%BE%D0%B9_%D0%BE%D0%B1%D0%BB%D0%B0%D1%81%D1%82%D0%B8'),\n ('Города Вологодской области',\n  'https://ru.wikipedia.org/wiki/%D0%9A%D0%B0%D1%82%D0%B5%D0%B3%D0%BE%D1%80%D0%B8%D1%8F:%D0%93%D0%BE%D1%80%D0%BE%D0%B4%D0%B0_%D0%92%D0%BE%D0%BB%D0%BE%D0%B3%D0%BE%D0%B4%D1%81%D0%BA%D0%BE%D0%B9_%D0%BE%D0%B1%D0%BB%D0%B0%D1%81%D1%82%D0%B8'),\n ('Города Воронежской области',\n  'https://ru.wikipedia.org/wiki/%D0%9A%D0%B0%D1%82%D0%B5%D0%B3%D0%BE%D1%80%D0%B8%D1%8F:%D0%93%D0%BE%D1%80%D0%BE%D0%B4%D0%B0_%D0%92%D0%BE%D1%80%D0%BE%D0%BD%D0%B5%D0%B6%D1%81%D0%BA%D0%BE%D0%B9_%D0%BE%D0%B1%D0%BB%D0%B0%D1%81%D1%82%D0%B8'),\n ('Города Дагестана',\n  'https://ru.wikipedia.org/wiki/%D0%9A%D0%B0%D1%82%D0%B5%D0%B3%D0%BE%D1%80%D0%B8%D1%8F:%D0%93%D0%BE%D1%80%D0%BE%D0%B4%D0%B0_%D0%94%D0%B0%D0%B3%D0%B5%D1%81%D1%82%D0%B0%D0%BD%D0%B0'),\n ('Города Еврейской автономной области',\n  'https://ru.wikipedia.org/wiki/%D0%9A%D0%B0%D1%82%D0%B5%D0%B3%D0%BE%D1%80%D0%B8%D1%8F:%D0%93%D0%BE%D1%80%D0%BE%D0%B4%D0%B0_%D0%95%D0%B2%D1%80%D0%B5%D0%B9%D1%81%D0%BA%D0%BE%D0%B9_%D0%B0%D0%B2%D1%82%D0%BE%D0%BD%D0%BE%D0%BC%D0%BD%D0%BE%D0%B9_%D0%BE%D0%B1%D0%BB%D0%B0%D1%81%D1%82%D0%B8'),\n ('Города Забайкальского края',\n  'https://ru.wikipedia.org/wiki/%D0%9A%D0%B0%D1%82%D0%B5%D0%B3%D0%BE%D1%80%D0%B8%D1%8F:%D0%93%D0%BE%D1%80%D0%BE%D0%B4%D0%B0_%D0%97%D0%B0%D0%B1%D0%B0%D0%B9%D0%BA%D0%B0%D0%BB%D1%8C%D1%81%D0%BA%D0%BE%D0%B3%D0%BE_%D0%BA%D1%80%D0%B0%D1%8F'),\n ('Города Ивановской области',\n  'https://ru.wikipedia.org/wiki/%D0%9A%D0%B0%D1%82%D0%B5%D0%B3%D0%BE%D1%80%D0%B8%D1%8F:%D0%93%D0%BE%D1%80%D0%BE%D0%B4%D0%B0_%D0%98%D0%B2%D0%B0%D0%BD%D0%BE%D0%B2%D1%81%D0%BA%D0%BE%D0%B9_%D0%BE%D0%B1%D0%BB%D0%B0%D1%81%D1%82%D0%B8'),\n ('Города Ингушетии',\n  'https://ru.wikipedia.org/wiki/%D0%9A%D0%B0%D1%82%D0%B5%D0%B3%D0%BE%D1%80%D0%B8%D1%8F:%D0%93%D0%BE%D1%80%D0%BE%D0%B4%D0%B0_%D0%98%D0%BD%D0%B3%D1%83%D1%88%D0%B5%D1%82%D0%B8%D0%B8'),\n ('Города Иркутской области',\n  'https://ru.wikipedia.org/wiki/%D0%9A%D0%B0%D1%82%D0%B5%D0%B3%D0%BE%D1%80%D0%B8%D1%8F:%D0%93%D0%BE%D1%80%D0%BE%D0%B4%D0%B0_%D0%98%D1%80%D0%BA%D1%83%D1%82%D1%81%D0%BA%D0%BE%D0%B9_%D0%BE%D0%B1%D0%BB%D0%B0%D1%81%D1%82%D0%B8'),\n ('Города Кабардино-Балкарии',\n  'https://ru.wikipedia.org/wiki/%D0%9A%D0%B0%D1%82%D0%B5%D0%B3%D0%BE%D1%80%D0%B8%D1%8F:%D0%93%D0%BE%D1%80%D0%BE%D0%B4%D0%B0_%D0%9A%D0%B0%D0%B1%D0%B0%D1%80%D0%B4%D0%B8%D0%BD%D0%BE-%D0%91%D0%B0%D0%BB%D0%BA%D0%B0%D1%80%D0%B8%D0%B8'),\n ('Города Калининградской области',\n  'https://ru.wikipedia.org/wiki/%D0%9A%D0%B0%D1%82%D0%B5%D0%B3%D0%BE%D1%80%D0%B8%D1%8F:%D0%93%D0%BE%D1%80%D0%BE%D0%B4%D0%B0_%D0%9A%D0%B0%D0%BB%D0%B8%D0%BD%D0%B8%D0%BD%D0%B3%D1%80%D0%B0%D0%B4%D1%81%D0%BA%D0%BE%D0%B9_%D0%BE%D0%B1%D0%BB%D0%B0%D1%81%D1%82%D0%B8'),\n ('Города Калмыкии',\n  'https://ru.wikipedia.org/wiki/%D0%9A%D0%B0%D1%82%D0%B5%D0%B3%D0%BE%D1%80%D0%B8%D1%8F:%D0%93%D0%BE%D1%80%D0%BE%D0%B4%D0%B0_%D0%9A%D0%B0%D0%BB%D0%BC%D1%8B%D0%BA%D0%B8%D0%B8'),\n ('Города Калужской области',\n  'https://ru.wikipedia.org/wiki/%D0%9A%D0%B0%D1%82%D0%B5%D0%B3%D0%BE%D1%80%D0%B8%D1%8F:%D0%93%D0%BE%D1%80%D0%BE%D0%B4%D0%B0_%D0%9A%D0%B0%D0%BB%D1%83%D0%B6%D1%81%D0%BA%D0%BE%D0%B9_%D0%BE%D0%B1%D0%BB%D0%B0%D1%81%D1%82%D0%B8'),\n ('Города Камчатского края',\n  'https://ru.wikipedia.org/wiki/%D0%9A%D0%B0%D1%82%D0%B5%D0%B3%D0%BE%D1%80%D0%B8%D1%8F:%D0%93%D0%BE%D1%80%D0%BE%D0%B4%D0%B0_%D0%9A%D0%B0%D0%BC%D1%87%D0%B0%D1%82%D1%81%D0%BA%D0%BE%D0%B3%D0%BE_%D0%BA%D1%80%D0%B0%D1%8F'),\n ('Города Карачаево-Черкесии',\n  'https://ru.wikipedia.org/wiki/%D0%9A%D0%B0%D1%82%D0%B5%D0%B3%D0%BE%D1%80%D0%B8%D1%8F:%D0%93%D0%BE%D1%80%D0%BE%D0%B4%D0%B0_%D0%9A%D0%B0%D1%80%D0%B0%D1%87%D0%B0%D0%B5%D0%B2%D0%BE-%D0%A7%D0%B5%D1%80%D0%BA%D0%B5%D1%81%D0%B8%D0%B8'),\n ('Города Республики Карелия',\n  'https://ru.wikipedia.org/wiki/%D0%9A%D0%B0%D1%82%D0%B5%D0%B3%D0%BE%D1%80%D0%B8%D1%8F:%D0%93%D0%BE%D1%80%D0%BE%D0%B4%D0%B0_%D0%A0%D0%B5%D1%81%D0%BF%D1%83%D0%B1%D0%BB%D0%B8%D0%BA%D0%B8_%D0%9A%D0%B0%D1%80%D0%B5%D0%BB%D0%B8%D1%8F'),\n ('Города Кемеровской области',\n  'https://ru.wikipedia.org/wiki/%D0%9A%D0%B0%D1%82%D0%B5%D0%B3%D0%BE%D1%80%D0%B8%D1%8F:%D0%93%D0%BE%D1%80%D0%BE%D0%B4%D0%B0_%D0%9A%D0%B5%D0%BC%D0%B5%D1%80%D0%BE%D0%B2%D1%81%D0%BA%D0%BE%D0%B9_%D0%BE%D0%B1%D0%BB%D0%B0%D1%81%D1%82%D0%B8'),\n ('Города Кировской области',\n  'https://ru.wikipedia.org/wiki/%D0%9A%D0%B0%D1%82%D0%B5%D0%B3%D0%BE%D1%80%D0%B8%D1%8F:%D0%93%D0%BE%D1%80%D0%BE%D0%B4%D0%B0_%D0%9A%D0%B8%D1%80%D0%BE%D0%B2%D1%81%D0%BA%D0%BE%D0%B9_%D0%BE%D0%B1%D0%BB%D0%B0%D1%81%D1%82%D0%B8'),\n ('Города Коми',\n  'https://ru.wikipedia.org/wiki/%D0%9A%D0%B0%D1%82%D0%B5%D0%B3%D0%BE%D1%80%D0%B8%D1%8F:%D0%93%D0%BE%D1%80%D0%BE%D0%B4%D0%B0_%D0%9A%D0%BE%D0%BC%D0%B8'),\n ('Города Костромской области',\n  'https://ru.wikipedia.org/wiki/%D0%9A%D0%B0%D1%82%D0%B5%D0%B3%D0%BE%D1%80%D0%B8%D1%8F:%D0%93%D0%BE%D1%80%D0%BE%D0%B4%D0%B0_%D0%9A%D0%BE%D1%81%D1%82%D1%80%D0%BE%D0%BC%D1%81%D0%BA%D0%BE%D0%B9_%D0%BE%D0%B1%D0%BB%D0%B0%D1%81%D1%82%D0%B8'),\n ('Города Краснодарского края',\n  'https://ru.wikipedia.org/wiki/%D0%9A%D0%B0%D1%82%D0%B5%D0%B3%D0%BE%D1%80%D0%B8%D1%8F:%D0%93%D0%BE%D1%80%D0%BE%D0%B4%D0%B0_%D0%9A%D1%80%D0%B0%D1%81%D0%BD%D0%BE%D0%B4%D0%B0%D1%80%D1%81%D0%BA%D0%BE%D0%B3%D0%BE_%D0%BA%D1%80%D0%B0%D1%8F'),\n ('Города Красноярского края',\n  'https://ru.wikipedia.org/wiki/%D0%9A%D0%B0%D1%82%D0%B5%D0%B3%D0%BE%D1%80%D0%B8%D1%8F:%D0%93%D0%BE%D1%80%D0%BE%D0%B4%D0%B0_%D0%9A%D1%80%D0%B0%D1%81%D0%BD%D0%BE%D1%8F%D1%80%D1%81%D0%BA%D0%BE%D0%B3%D0%BE_%D0%BA%D1%80%D0%B0%D1%8F'),\n ('Города Курганской области',\n  'https://ru.wikipedia.org/wiki/%D0%9A%D0%B0%D1%82%D0%B5%D0%B3%D0%BE%D1%80%D0%B8%D1%8F:%D0%93%D0%BE%D1%80%D0%BE%D0%B4%D0%B0_%D0%9A%D1%83%D1%80%D0%B3%D0%B0%D0%BD%D1%81%D0%BA%D0%BE%D0%B9_%D0%BE%D0%B1%D0%BB%D0%B0%D1%81%D1%82%D0%B8'),\n ('Города Курской области',\n  'https://ru.wikipedia.org/wiki/%D0%9A%D0%B0%D1%82%D0%B5%D0%B3%D0%BE%D1%80%D0%B8%D1%8F:%D0%93%D0%BE%D1%80%D0%BE%D0%B4%D0%B0_%D0%9A%D1%83%D1%80%D1%81%D0%BA%D0%BE%D0%B9_%D0%BE%D0%B1%D0%BB%D0%B0%D1%81%D1%82%D0%B8'),\n ('Города Ленинградской области',\n  'https://ru.wikipedia.org/wiki/%D0%9A%D0%B0%D1%82%D0%B5%D0%B3%D0%BE%D1%80%D0%B8%D1%8F:%D0%93%D0%BE%D1%80%D0%BE%D0%B4%D0%B0_%D0%9B%D0%B5%D0%BD%D0%B8%D0%BD%D0%B3%D1%80%D0%B0%D0%B4%D1%81%D0%BA%D0%BE%D0%B9_%D0%BE%D0%B1%D0%BB%D0%B0%D1%81%D1%82%D0%B8'),\n ('Города Липецкой области',\n  'https://ru.wikipedia.org/wiki/%D0%9A%D0%B0%D1%82%D0%B5%D0%B3%D0%BE%D1%80%D0%B8%D1%8F:%D0%93%D0%BE%D1%80%D0%BE%D0%B4%D0%B0_%D0%9B%D0%B8%D0%BF%D0%B5%D1%86%D0%BA%D0%BE%D0%B9_%D0%BE%D0%B1%D0%BB%D0%B0%D1%81%D1%82%D0%B8'),\n ('Города Магаданской области',\n  'https://ru.wikipedia.org/wiki/%D0%9A%D0%B0%D1%82%D0%B5%D0%B3%D0%BE%D1%80%D0%B8%D1%8F:%D0%93%D0%BE%D1%80%D0%BE%D0%B4%D0%B0_%D0%9C%D0%B0%D0%B3%D0%B0%D0%B4%D0%B0%D0%BD%D1%81%D0%BA%D0%BE%D0%B9_%D0%BE%D0%B1%D0%BB%D0%B0%D1%81%D1%82%D0%B8'),\n ('Города Марий Эл',\n  'https://ru.wikipedia.org/wiki/%D0%9A%D0%B0%D1%82%D0%B5%D0%B3%D0%BE%D1%80%D0%B8%D1%8F:%D0%93%D0%BE%D1%80%D0%BE%D0%B4%D0%B0_%D0%9C%D0%B0%D1%80%D0%B8%D0%B9_%D0%AD%D0%BB'),\n ('Города Мордовии',\n  'https://ru.wikipedia.org/wiki/%D0%9A%D0%B0%D1%82%D0%B5%D0%B3%D0%BE%D1%80%D0%B8%D1%8F:%D0%93%D0%BE%D1%80%D0%BE%D0%B4%D0%B0_%D0%9C%D0%BE%D1%80%D0%B4%D0%BE%D0%B2%D0%B8%D0%B8'),\n ('Города в составе Москвы',\n  'https://ru.wikipedia.org/wiki/%D0%9A%D0%B0%D1%82%D0%B5%D0%B3%D0%BE%D1%80%D0%B8%D1%8F:%D0%93%D0%BE%D1%80%D0%BE%D0%B4%D0%B0_%D0%B2_%D1%81%D0%BE%D1%81%D1%82%D0%B0%D0%B2%D0%B5_%D0%9C%D0%BE%D1%81%D0%BA%D0%B2%D1%8B'),\n ('Города Московской области',\n  'https://ru.wikipedia.org/wiki/%D0%9A%D0%B0%D1%82%D0%B5%D0%B3%D0%BE%D1%80%D0%B8%D1%8F:%D0%93%D0%BE%D1%80%D0%BE%D0%B4%D0%B0_%D0%9C%D0%BE%D1%81%D0%BA%D0%BE%D0%B2%D1%81%D0%BA%D0%BE%D0%B9_%D0%BE%D0%B1%D0%BB%D0%B0%D1%81%D1%82%D0%B8'),\n ('Города Мурманской области',\n  'https://ru.wikipedia.org/wiki/%D0%9A%D0%B0%D1%82%D0%B5%D0%B3%D0%BE%D1%80%D0%B8%D1%8F:%D0%93%D0%BE%D1%80%D0%BE%D0%B4%D0%B0_%D0%9C%D1%83%D1%80%D0%BC%D0%B0%D0%BD%D1%81%D0%BA%D0%BE%D0%B9_%D0%BE%D0%B1%D0%BB%D0%B0%D1%81%D1%82%D0%B8'),\n ('Города Ненецкого автономного округа',\n  'https://ru.wikipedia.org/wiki/%D0%9A%D0%B0%D1%82%D0%B5%D0%B3%D0%BE%D1%80%D0%B8%D1%8F:%D0%93%D0%BE%D1%80%D0%BE%D0%B4%D0%B0_%D0%9D%D0%B5%D0%BD%D0%B5%D1%86%D0%BA%D0%BE%D0%B3%D0%BE_%D0%B0%D0%B2%D1%82%D0%BE%D0%BD%D0%BE%D0%BC%D0%BD%D0%BE%D0%B3%D0%BE_%D0%BE%D0%BA%D1%80%D1%83%D0%B3%D0%B0'),\n ('Города Нижегородской области',\n  'https://ru.wikipedia.org/wiki/%D0%9A%D0%B0%D1%82%D0%B5%D0%B3%D0%BE%D1%80%D0%B8%D1%8F:%D0%93%D0%BE%D1%80%D0%BE%D0%B4%D0%B0_%D0%9D%D0%B8%D0%B6%D0%B5%D0%B3%D0%BE%D1%80%D0%BE%D0%B4%D1%81%D0%BA%D0%BE%D0%B9_%D0%BE%D0%B1%D0%BB%D0%B0%D1%81%D1%82%D0%B8'),\n ('Города Новгородской области',\n  'https://ru.wikipedia.org/wiki/%D0%9A%D0%B0%D1%82%D0%B5%D0%B3%D0%BE%D1%80%D0%B8%D1%8F:%D0%93%D0%BE%D1%80%D0%BE%D0%B4%D0%B0_%D0%9D%D0%BE%D0%B2%D0%B3%D0%BE%D1%80%D0%BE%D0%B4%D1%81%D0%BA%D0%BE%D0%B9_%D0%BE%D0%B1%D0%BB%D0%B0%D1%81%D1%82%D0%B8'),\n ('Города Новосибирской области',\n  'https://ru.wikipedia.org/wiki/%D0%9A%D0%B0%D1%82%D0%B5%D0%B3%D0%BE%D1%80%D0%B8%D1%8F:%D0%93%D0%BE%D1%80%D0%BE%D0%B4%D0%B0_%D0%9D%D0%BE%D0%B2%D0%BE%D1%81%D0%B8%D0%B1%D0%B8%D1%80%D1%81%D0%BA%D0%BE%D0%B9_%D0%BE%D0%B1%D0%BB%D0%B0%D1%81%D1%82%D0%B8'),\n ('Города Омской области',\n  'https://ru.wikipedia.org/wiki/%D0%9A%D0%B0%D1%82%D0%B5%D0%B3%D0%BE%D1%80%D0%B8%D1%8F:%D0%93%D0%BE%D1%80%D0%BE%D0%B4%D0%B0_%D0%9E%D0%BC%D1%81%D0%BA%D0%BE%D0%B9_%D0%BE%D0%B1%D0%BB%D0%B0%D1%81%D1%82%D0%B8'),\n ('Города Оренбургской области',\n  'https://ru.wikipedia.org/wiki/%D0%9A%D0%B0%D1%82%D0%B5%D0%B3%D0%BE%D1%80%D0%B8%D1%8F:%D0%93%D0%BE%D1%80%D0%BE%D0%B4%D0%B0_%D0%9E%D1%80%D0%B5%D0%BD%D0%B1%D1%83%D1%80%D0%B3%D1%81%D0%BA%D0%BE%D0%B9_%D0%BE%D0%B1%D0%BB%D0%B0%D1%81%D1%82%D0%B8'),\n ('Города Орловской области',\n  'https://ru.wikipedia.org/wiki/%D0%9A%D0%B0%D1%82%D0%B5%D0%B3%D0%BE%D1%80%D0%B8%D1%8F:%D0%93%D0%BE%D1%80%D0%BE%D0%B4%D0%B0_%D0%9E%D1%80%D0%BB%D0%BE%D0%B2%D1%81%D0%BA%D0%BE%D0%B9_%D0%BE%D0%B1%D0%BB%D0%B0%D1%81%D1%82%D0%B8'),\n ('Города Пензенской области',\n  'https://ru.wikipedia.org/wiki/%D0%9A%D0%B0%D1%82%D0%B5%D0%B3%D0%BE%D1%80%D0%B8%D1%8F:%D0%93%D0%BE%D1%80%D0%BE%D0%B4%D0%B0_%D0%9F%D0%B5%D0%BD%D0%B7%D0%B5%D0%BD%D1%81%D0%BA%D0%BE%D0%B9_%D0%BE%D0%B1%D0%BB%D0%B0%D1%81%D1%82%D0%B8'),\n ('Города Пермского края',\n  'https://ru.wikipedia.org/wiki/%D0%9A%D0%B0%D1%82%D0%B5%D0%B3%D0%BE%D1%80%D0%B8%D1%8F:%D0%93%D0%BE%D1%80%D0%BE%D0%B4%D0%B0_%D0%9F%D0%B5%D1%80%D0%BC%D1%81%D0%BA%D0%BE%D0%B3%D0%BE_%D0%BA%D1%80%D0%B0%D1%8F'),\n ('Города Приморского края',\n  'https://ru.wikipedia.org/wiki/%D0%9A%D0%B0%D1%82%D0%B5%D0%B3%D0%BE%D1%80%D0%B8%D1%8F:%D0%93%D0%BE%D1%80%D0%BE%D0%B4%D0%B0_%D0%9F%D1%80%D0%B8%D0%BC%D0%BE%D1%80%D1%81%D0%BA%D0%BE%D0%B3%D0%BE_%D0%BA%D1%80%D0%B0%D1%8F'),\n ('Города Псковской области',\n  'https://ru.wikipedia.org/wiki/%D0%9A%D0%B0%D1%82%D0%B5%D0%B3%D0%BE%D1%80%D0%B8%D1%8F:%D0%93%D0%BE%D1%80%D0%BE%D0%B4%D0%B0_%D0%9F%D1%81%D0%BA%D0%BE%D0%B2%D1%81%D0%BA%D0%BE%D0%B9_%D0%BE%D0%B1%D0%BB%D0%B0%D1%81%D1%82%D0%B8'),\n ('Города Ростовской области',\n  'https://ru.wikipedia.org/wiki/%D0%9A%D0%B0%D1%82%D0%B5%D0%B3%D0%BE%D1%80%D0%B8%D1%8F:%D0%93%D0%BE%D1%80%D0%BE%D0%B4%D0%B0_%D0%A0%D0%BE%D1%81%D1%82%D0%BE%D0%B2%D1%81%D0%BA%D0%BE%D0%B9_%D0%BE%D0%B1%D0%BB%D0%B0%D1%81%D1%82%D0%B8'),\n ('Города Рязанской области',\n  'https://ru.wikipedia.org/wiki/%D0%9A%D0%B0%D1%82%D0%B5%D0%B3%D0%BE%D1%80%D0%B8%D1%8F:%D0%93%D0%BE%D1%80%D0%BE%D0%B4%D0%B0_%D0%A0%D1%8F%D0%B7%D0%B0%D0%BD%D1%81%D0%BA%D0%BE%D0%B9_%D0%BE%D0%B1%D0%BB%D0%B0%D1%81%D1%82%D0%B8'),\n ('Города Самарской области',\n  'https://ru.wikipedia.org/wiki/%D0%9A%D0%B0%D1%82%D0%B5%D0%B3%D0%BE%D1%80%D0%B8%D1%8F:%D0%93%D0%BE%D1%80%D0%BE%D0%B4%D0%B0_%D0%A1%D0%B0%D0%BC%D0%B0%D1%80%D1%81%D0%BA%D0%BE%D0%B9_%D0%BE%D0%B1%D0%BB%D0%B0%D1%81%D1%82%D0%B8'),\n ('Города в составе Санкт-Петербурга',\n  'https://ru.wikipedia.org/wiki/%D0%9A%D0%B0%D1%82%D0%B5%D0%B3%D0%BE%D1%80%D0%B8%D1%8F:%D0%93%D0%BE%D1%80%D0%BE%D0%B4%D0%B0_%D0%B2_%D1%81%D0%BE%D1%81%D1%82%D0%B0%D0%B2%D0%B5_%D0%A1%D0%B0%D0%BD%D0%BA%D1%82-%D0%9F%D0%B5%D1%82%D0%B5%D1%80%D0%B1%D1%83%D1%80%D0%B3%D0%B0'),\n ('Города Саратовской области',\n  'https://ru.wikipedia.org/wiki/%D0%9A%D0%B0%D1%82%D0%B5%D0%B3%D0%BE%D1%80%D0%B8%D1%8F:%D0%93%D0%BE%D1%80%D0%BE%D0%B4%D0%B0_%D0%A1%D0%B0%D1%80%D0%B0%D1%82%D0%BE%D0%B2%D1%81%D0%BA%D0%BE%D0%B9_%D0%BE%D0%B1%D0%BB%D0%B0%D1%81%D1%82%D0%B8'),\n ('Города Сахалинской области',\n  'https://ru.wikipedia.org/wiki/%D0%9A%D0%B0%D1%82%D0%B5%D0%B3%D0%BE%D1%80%D0%B8%D1%8F:%D0%93%D0%BE%D1%80%D0%BE%D0%B4%D0%B0_%D0%A1%D0%B0%D1%85%D0%B0%D0%BB%D0%B8%D0%BD%D1%81%D0%BA%D0%BE%D0%B9_%D0%BE%D0%B1%D0%BB%D0%B0%D1%81%D1%82%D0%B8'),\n ('Города Свердловской области',\n  'https://ru.wikipedia.org/wiki/%D0%9A%D0%B0%D1%82%D0%B5%D0%B3%D0%BE%D1%80%D0%B8%D1%8F:%D0%93%D0%BE%D1%80%D0%BE%D0%B4%D0%B0_%D0%A1%D0%B2%D0%B5%D1%80%D0%B4%D0%BB%D0%BE%D0%B2%D1%81%D0%BA%D0%BE%D0%B9_%D0%BE%D0%B1%D0%BB%D0%B0%D1%81%D1%82%D0%B8'),\n ('Города в составе Севастополя',\n  'https://ru.wikipedia.org/wiki/%D0%9A%D0%B0%D1%82%D0%B5%D0%B3%D0%BE%D1%80%D0%B8%D1%8F:%D0%93%D0%BE%D1%80%D0%BE%D0%B4%D0%B0_%D0%B2_%D1%81%D0%BE%D1%81%D1%82%D0%B0%D0%B2%D0%B5_%D0%A1%D0%B5%D0%B2%D0%B0%D1%81%D1%82%D0%BE%D0%BF%D0%BE%D0%BB%D1%8F'),\n ('Города Северной Осетии',\n  'https://ru.wikipedia.org/wiki/%D0%9A%D0%B0%D1%82%D0%B5%D0%B3%D0%BE%D1%80%D0%B8%D1%8F:%D0%93%D0%BE%D1%80%D0%BE%D0%B4%D0%B0_%D0%A1%D0%B5%D0%B2%D0%B5%D1%80%D0%BD%D0%BE%D0%B9_%D0%9E%D1%81%D0%B5%D1%82%D0%B8%D0%B8'),\n ('Города Смоленской области',\n  'https://ru.wikipedia.org/wiki/%D0%9A%D0%B0%D1%82%D0%B5%D0%B3%D0%BE%D1%80%D0%B8%D1%8F:%D0%93%D0%BE%D1%80%D0%BE%D0%B4%D0%B0_%D0%A1%D0%BC%D0%BE%D0%BB%D0%B5%D0%BD%D1%81%D0%BA%D0%BE%D0%B9_%D0%BE%D0%B1%D0%BB%D0%B0%D1%81%D1%82%D0%B8'),\n ('Города Ставропольского края',\n  'https://ru.wikipedia.org/wiki/%D0%9A%D0%B0%D1%82%D0%B5%D0%B3%D0%BE%D1%80%D0%B8%D1%8F:%D0%93%D0%BE%D1%80%D0%BE%D0%B4%D0%B0_%D0%A1%D1%82%D0%B0%D0%B2%D1%80%D0%BE%D0%BF%D0%BE%D0%BB%D1%8C%D1%81%D0%BA%D0%BE%D0%B3%D0%BE_%D0%BA%D1%80%D0%B0%D1%8F'),\n ('Города Тамбовской области',\n  'https://ru.wikipedia.org/wiki/%D0%9A%D0%B0%D1%82%D0%B5%D0%B3%D0%BE%D1%80%D0%B8%D1%8F:%D0%93%D0%BE%D1%80%D0%BE%D0%B4%D0%B0_%D0%A2%D0%B0%D0%BC%D0%B1%D0%BE%D0%B2%D1%81%D0%BA%D0%BE%D0%B9_%D0%BE%D0%B1%D0%BB%D0%B0%D1%81%D1%82%D0%B8'),\n ('Города Татарстана',\n  'https://ru.wikipedia.org/wiki/%D0%9A%D0%B0%D1%82%D0%B5%D0%B3%D0%BE%D1%80%D0%B8%D1%8F:%D0%93%D0%BE%D1%80%D0%BE%D0%B4%D0%B0_%D0%A2%D0%B0%D1%82%D0%B0%D1%80%D1%81%D1%82%D0%B0%D0%BD%D0%B0'),\n ('Города Тверской области',\n  'https://ru.wikipedia.org/wiki/%D0%9A%D0%B0%D1%82%D0%B5%D0%B3%D0%BE%D1%80%D0%B8%D1%8F:%D0%93%D0%BE%D1%80%D0%BE%D0%B4%D0%B0_%D0%A2%D0%B2%D0%B5%D1%80%D1%81%D0%BA%D0%BE%D0%B9_%D0%BE%D0%B1%D0%BB%D0%B0%D1%81%D1%82%D0%B8'),\n ('Города Томской области',\n  'https://ru.wikipedia.org/wiki/%D0%9A%D0%B0%D1%82%D0%B5%D0%B3%D0%BE%D1%80%D0%B8%D1%8F:%D0%93%D0%BE%D1%80%D0%BE%D0%B4%D0%B0_%D0%A2%D0%BE%D0%BC%D1%81%D0%BA%D0%BE%D0%B9_%D0%BE%D0%B1%D0%BB%D0%B0%D1%81%D1%82%D0%B8'),\n ('Города Тывы',\n  'https://ru.wikipedia.org/wiki/%D0%9A%D0%B0%D1%82%D0%B5%D0%B3%D0%BE%D1%80%D0%B8%D1%8F:%D0%93%D0%BE%D1%80%D0%BE%D0%B4%D0%B0_%D0%A2%D1%8B%D0%B2%D1%8B'),\n ('Города Тульской области',\n  'https://ru.wikipedia.org/wiki/%D0%9A%D0%B0%D1%82%D0%B5%D0%B3%D0%BE%D1%80%D0%B8%D1%8F:%D0%93%D0%BE%D1%80%D0%BE%D0%B4%D0%B0_%D0%A2%D1%83%D0%BB%D1%8C%D1%81%D0%BA%D0%BE%D0%B9_%D0%BE%D0%B1%D0%BB%D0%B0%D1%81%D1%82%D0%B8'),\n ('Города Тюменской области',\n  'https://ru.wikipedia.org/wiki/%D0%9A%D0%B0%D1%82%D0%B5%D0%B3%D0%BE%D1%80%D0%B8%D1%8F:%D0%93%D0%BE%D1%80%D0%BE%D0%B4%D0%B0_%D0%A2%D1%8E%D0%BC%D0%B5%D0%BD%D1%81%D0%BA%D0%BE%D0%B9_%D0%BE%D0%B1%D0%BB%D0%B0%D1%81%D1%82%D0%B8'),\n ('Города Удмуртии',\n  'https://ru.wikipedia.org/wiki/%D0%9A%D0%B0%D1%82%D0%B5%D0%B3%D0%BE%D1%80%D0%B8%D1%8F:%D0%93%D0%BE%D1%80%D0%BE%D0%B4%D0%B0_%D0%A3%D0%B4%D0%BC%D1%83%D1%80%D1%82%D0%B8%D0%B8'),\n ('Города Ульяновской области',\n  'https://ru.wikipedia.org/wiki/%D0%9A%D0%B0%D1%82%D0%B5%D0%B3%D0%BE%D1%80%D0%B8%D1%8F:%D0%93%D0%BE%D1%80%D0%BE%D0%B4%D0%B0_%D0%A3%D0%BB%D1%8C%D1%8F%D0%BD%D0%BE%D0%B2%D1%81%D0%BA%D0%BE%D0%B9_%D0%BE%D0%B1%D0%BB%D0%B0%D1%81%D1%82%D0%B8'),\n ('Города Хабаровского края',\n  'https://ru.wikipedia.org/wiki/%D0%9A%D0%B0%D1%82%D0%B5%D0%B3%D0%BE%D1%80%D0%B8%D1%8F:%D0%93%D0%BE%D1%80%D0%BE%D0%B4%D0%B0_%D0%A5%D0%B0%D0%B1%D0%B0%D1%80%D0%BE%D0%B2%D1%81%D0%BA%D0%BE%D0%B3%D0%BE_%D0%BA%D1%80%D0%B0%D1%8F'),\n ('Города Хакасии',\n  'https://ru.wikipedia.org/wiki/%D0%9A%D0%B0%D1%82%D0%B5%D0%B3%D0%BE%D1%80%D0%B8%D1%8F:%D0%93%D0%BE%D1%80%D0%BE%D0%B4%D0%B0_%D0%A5%D0%B0%D0%BA%D0%B0%D1%81%D0%B8%D0%B8'),\n ('Города Ханты-Мансийского автономного округа',\n  'https://ru.wikipedia.org/wiki/%D0%9A%D0%B0%D1%82%D0%B5%D0%B3%D0%BE%D1%80%D0%B8%D1%8F:%D0%93%D0%BE%D1%80%D0%BE%D0%B4%D0%B0_%D0%A5%D0%B0%D0%BD%D1%82%D1%8B-%D0%9C%D0%B0%D0%BD%D1%81%D0%B8%D0%B9%D1%81%D0%BA%D0%BE%D0%B3%D0%BE_%D0%B0%D0%B2%D1%82%D0%BE%D0%BD%D0%BE%D0%BC%D0%BD%D0%BE%D0%B3%D0%BE_%D0%BE%D0%BA%D1%80%D1%83%D0%B3%D0%B0'),\n ('Города Челябинской области',\n  'https://ru.wikipedia.org/wiki/%D0%9A%D0%B0%D1%82%D0%B5%D0%B3%D0%BE%D1%80%D0%B8%D1%8F:%D0%93%D0%BE%D1%80%D0%BE%D0%B4%D0%B0_%D0%A7%D0%B5%D0%BB%D1%8F%D0%B1%D0%B8%D0%BD%D1%81%D0%BA%D0%BE%D0%B9_%D0%BE%D0%B1%D0%BB%D0%B0%D1%81%D1%82%D0%B8'),\n ('Города Чечни',\n  'https://ru.wikipedia.org/wiki/%D0%9A%D0%B0%D1%82%D0%B5%D0%B3%D0%BE%D1%80%D0%B8%D1%8F:%D0%93%D0%BE%D1%80%D0%BE%D0%B4%D0%B0_%D0%A7%D0%B5%D1%87%D0%BD%D0%B8'),\n ('Города Чувашии',\n  'https://ru.wikipedia.org/wiki/%D0%9A%D0%B0%D1%82%D0%B5%D0%B3%D0%BE%D1%80%D0%B8%D1%8F:%D0%93%D0%BE%D1%80%D0%BE%D0%B4%D0%B0_%D0%A7%D1%83%D0%B2%D0%B0%D1%88%D0%B8%D0%B8'),\n ('Города Чукотского автономного округа',\n  'https://ru.wikipedia.org/wiki/%D0%9A%D0%B0%D1%82%D0%B5%D0%B3%D0%BE%D1%80%D0%B8%D1%8F:%D0%93%D0%BE%D1%80%D0%BE%D0%B4%D0%B0_%D0%A7%D1%83%D0%BA%D0%BE%D1%82%D1%81%D0%BA%D0%BE%D0%B3%D0%BE_%D0%B0%D0%B2%D1%82%D0%BE%D0%BD%D0%BE%D0%BC%D0%BD%D0%BE%D0%B3%D0%BE_%D0%BE%D0%BA%D1%80%D1%83%D0%B3%D0%B0'),\n ('Города Якутии',\n  'https://ru.wikipedia.org/wiki/%D0%9A%D0%B0%D1%82%D0%B5%D0%B3%D0%BE%D1%80%D0%B8%D1%8F:%D0%93%D0%BE%D1%80%D0%BE%D0%B4%D0%B0_%D0%AF%D0%BA%D1%83%D1%82%D0%B8%D0%B8'),\n ('Города Ямало-Ненецкого автономного округа',\n  'https://ru.wikipedia.org/wiki/%D0%9A%D0%B0%D1%82%D0%B5%D0%B3%D0%BE%D1%80%D0%B8%D1%8F:%D0%93%D0%BE%D1%80%D0%BE%D0%B4%D0%B0_%D0%AF%D0%BC%D0%B0%D0%BB%D0%BE-%D0%9D%D0%B5%D0%BD%D0%B5%D1%86%D0%BA%D0%BE%D0%B3%D0%BE_%D0%B0%D0%B2%D1%82%D0%BE%D0%BD%D0%BE%D0%BC%D0%BD%D0%BE%D0%B3%D0%BE_%D0%BE%D0%BA%D1%80%D1%83%D0%B3%D0%B0'),\n ('Города Ярославской области',\n  'https://ru.wikipedia.org/wiki/%D0%9A%D0%B0%D1%82%D0%B5%D0%B3%D0%BE%D1%80%D0%B8%D1%8F:%D0%93%D0%BE%D1%80%D0%BE%D0%B4%D0%B0_%D0%AF%D1%80%D0%BE%D1%81%D0%BB%D0%B0%D0%B2%D1%81%D0%BA%D0%BE%D0%B9_%D0%BE%D0%B1%D0%BB%D0%B0%D1%81%D1%82%D0%B8')]"
     },
     "execution_count": 17,
     "metadata": {},
     "output_type": "execute_result"
    }
   ],
   "source": [
    "def parse_url(url):\n",
    "    str_query = urllib.parse.quote(url, safe='/:')\n",
    "    req = BeautifulSoup(urllib.request.urlopen(str_query), 'lxml')\n",
    "    return req\n",
    "\n",
    "subjs = parse_url(need_url)\n",
    "list_info = []\n",
    "for links in subjs.find_all('div', class_='mw-category-group'):\n",
    "    for l in links.find_all('a'):\n",
    "        list_info.append((l['title'][10:], 'https://ru.wikipedia.org' + l['href']))\n",
    "list_info.pop(0)\n",
    "list_info.pop(1)\n",
    "list_info"
   ],
   "metadata": {
    "collapsed": false,
    "pycharm": {
     "name": "#%%\n"
    }
   }
  },
  {
   "cell_type": "code",
   "execution_count": 18,
   "outputs": [
    {
     "data": {
      "text/plain": "[('Города Самарской области',\n  'https://ru.wikipedia.org/wiki/%D0%9A%D0%B0%D1%82%D0%B5%D0%B3%D0%BE%D1%80%D0%B8%D1%8F:%D0%93%D0%BE%D1%80%D0%BE%D0%B4%D0%B0_%D0%A1%D0%B0%D0%BC%D0%B0%D1%80%D1%81%D0%BA%D0%BE%D0%B9_%D0%BE%D0%B1%D0%BB%D0%B0%D1%81%D1%82%D0%B8'),\n ('Города в составе Санкт-Петербурга',\n  'https://ru.wikipedia.org/wiki/%D0%9A%D0%B0%D1%82%D0%B5%D0%B3%D0%BE%D1%80%D0%B8%D1%8F:%D0%93%D0%BE%D1%80%D0%BE%D0%B4%D0%B0_%D0%B2_%D1%81%D0%BE%D1%81%D1%82%D0%B0%D0%B2%D0%B5_%D0%A1%D0%B0%D0%BD%D0%BA%D1%82-%D0%9F%D0%B5%D1%82%D0%B5%D1%80%D0%B1%D1%83%D1%80%D0%B3%D0%B0'),\n ('Города Саратовской области',\n  'https://ru.wikipedia.org/wiki/%D0%9A%D0%B0%D1%82%D0%B5%D0%B3%D0%BE%D1%80%D0%B8%D1%8F:%D0%93%D0%BE%D1%80%D0%BE%D0%B4%D0%B0_%D0%A1%D0%B0%D1%80%D0%B0%D1%82%D0%BE%D0%B2%D1%81%D0%BA%D0%BE%D0%B9_%D0%BE%D0%B1%D0%BB%D0%B0%D1%81%D1%82%D0%B8'),\n ('Города Сахалинской области',\n  'https://ru.wikipedia.org/wiki/%D0%9A%D0%B0%D1%82%D0%B5%D0%B3%D0%BE%D1%80%D0%B8%D1%8F:%D0%93%D0%BE%D1%80%D0%BE%D0%B4%D0%B0_%D0%A1%D0%B0%D1%85%D0%B0%D0%BB%D0%B8%D0%BD%D1%81%D0%BA%D0%BE%D0%B9_%D0%BE%D0%B1%D0%BB%D0%B0%D1%81%D1%82%D0%B8'),\n ('Города Свердловской области',\n  'https://ru.wikipedia.org/wiki/%D0%9A%D0%B0%D1%82%D0%B5%D0%B3%D0%BE%D1%80%D0%B8%D1%8F:%D0%93%D0%BE%D1%80%D0%BE%D0%B4%D0%B0_%D0%A1%D0%B2%D0%B5%D1%80%D0%B4%D0%BB%D0%BE%D0%B2%D1%81%D0%BA%D0%BE%D0%B9_%D0%BE%D0%B1%D0%BB%D0%B0%D1%81%D1%82%D0%B8'),\n ('Города в составе Севастополя',\n  'https://ru.wikipedia.org/wiki/%D0%9A%D0%B0%D1%82%D0%B5%D0%B3%D0%BE%D1%80%D0%B8%D1%8F:%D0%93%D0%BE%D1%80%D0%BE%D0%B4%D0%B0_%D0%B2_%D1%81%D0%BE%D1%81%D1%82%D0%B0%D0%B2%D0%B5_%D0%A1%D0%B5%D0%B2%D0%B0%D1%81%D1%82%D0%BE%D0%BF%D0%BE%D0%BB%D1%8F'),\n ('Города Северной Осетии',\n  'https://ru.wikipedia.org/wiki/%D0%9A%D0%B0%D1%82%D0%B5%D0%B3%D0%BE%D1%80%D0%B8%D1%8F:%D0%93%D0%BE%D1%80%D0%BE%D0%B4%D0%B0_%D0%A1%D0%B5%D0%B2%D0%B5%D1%80%D0%BD%D0%BE%D0%B9_%D0%9E%D1%81%D0%B5%D1%82%D0%B8%D0%B8'),\n ('Города Смоленской области',\n  'https://ru.wikipedia.org/wiki/%D0%9A%D0%B0%D1%82%D0%B5%D0%B3%D0%BE%D1%80%D0%B8%D1%8F:%D0%93%D0%BE%D1%80%D0%BE%D0%B4%D0%B0_%D0%A1%D0%BC%D0%BE%D0%BB%D0%B5%D0%BD%D1%81%D0%BA%D0%BE%D0%B9_%D0%BE%D0%B1%D0%BB%D0%B0%D1%81%D1%82%D0%B8'),\n ('Города Ставропольского края',\n  'https://ru.wikipedia.org/wiki/%D0%9A%D0%B0%D1%82%D0%B5%D0%B3%D0%BE%D1%80%D0%B8%D1%8F:%D0%93%D0%BE%D1%80%D0%BE%D0%B4%D0%B0_%D0%A1%D1%82%D0%B0%D0%B2%D1%80%D0%BE%D0%BF%D0%BE%D0%BB%D1%8C%D1%81%D0%BA%D0%BE%D0%B3%D0%BE_%D0%BA%D1%80%D0%B0%D1%8F')]"
     },
     "execution_count": 18,
     "metadata": {},
     "output_type": "execute_result"
    }
   ],
   "source": [
    "need_lst = [i for i in list_info if 'С' in i[0]]\n",
    "need_lst"
   ],
   "metadata": {
    "collapsed": false,
    "pycharm": {
     "name": "#%%\n"
    }
   }
  },
  {
   "cell_type": "code",
   "execution_count": 19,
   "outputs": [
    {
     "name": "stdout",
     "output_type": "stream",
     "text": [
      "№ ---- 1\n",
      "название ---- Жигулёвск\n",
      "район / город  областного значения ---- Жигулёвск\n",
      "основание / первое упоминание ---- 1949\n",
      "статус города ---- 1952\n",
      "прежние названия ---- Пусто\n",
      "№ ---- 2\n",
      "название ---- Кинель\n",
      "район / город  областного значения ---- Кинель\n",
      "основание / первое упоминание ---- 1837\n",
      "статус города ---- 1944\n",
      "прежние названия ---- Пусто\n",
      "№ ---- 3\n",
      "название ---- Нефтегорск\n",
      "район / город  областного значения ---- Нефтегорский район\n",
      "основание / первое упоминание ---- 1960\n",
      "статус города ---- 1989\n",
      "прежние названия ---- Пусто\n",
      "№ ---- 4\n",
      "название ---- Новокуйбышевск\n",
      "район / город  областного значения ---- Новокуйбышевск\n",
      "основание / первое упоминание ---- 1946\n",
      "статус города ---- 1952\n",
      "прежние названия ---- Липяги\n",
      "№ ---- 5\n",
      "название ---- Октябрьск\n",
      "район / город  областного значения ---- Октябрьск\n",
      "основание / первое упоминание ---- 1684\n",
      "статус города ---- 1956\n",
      "прежние названия ---- Батраки\n",
      "№ ---- 6\n",
      "название ---- Отрадный\n",
      "район / город  областного значения ---- Отрадный\n",
      "основание / первое упоминание ---- 1946\n",
      "статус города ---- 1956\n",
      "прежние названия ---- Пусто\n",
      "№ ---- 7\n",
      "название ---- Похвистнево\n",
      "район / город  областного значения ---- Похвистнево\n",
      "основание / первое упоминание ---- 1888\n",
      "статус города ---- 1947\n",
      "прежние названия ---- Пусто\n",
      "№ ---- 8\n",
      "название ---- Самара\n",
      "район / город  областного значения ---- Самара\n",
      "основание / первое упоминание ---- 1586\n",
      "статус города ---- 1688\n",
      "прежние названия ---- с 1935 по 1991 — Куйбышев\n",
      "№ ---- 9\n",
      "название ---- Сызрань\n",
      "район / город  областного значения ---- Сызрань\n",
      "основание / первое упоминание ---- 1683\n",
      "статус города ---- 1796\n",
      "прежние названия ---- Пусто\n",
      "№ ---- 10\n",
      "название ---- Тольятти\n",
      "район / город  областного значения ---- Тольятти\n",
      "основание / первое упоминание ---- 1737\n",
      "статус города ---- 1780\n",
      "прежние названия ---- до 1964 — Ставрополь\n",
      "№ ---- 11\n",
      "название ---- Чапаевск\n",
      "район / город  областного значения ---- Чапаевск\n",
      "основание / первое упоминание ---- 1909\n",
      "статус города ---- 1927\n",
      "прежние названия ---- до 1918 — Иващенково\n",
      "до 1929 — Троцк\n",
      "\n",
      "Название ---- Зеленогорск (Санкт-Петербург)\n",
      "\n",
      "Название ---- Колпино\n",
      "\n",
      "Название ---- Красное Село\n",
      "\n",
      "Название ---- Кронштадт\n",
      "\n",
      "Название ---- Ломоносов (город)\n",
      "\n",
      "Название ---- Павловск (Санкт-Петербург)\n",
      "\n",
      "Название ---- Петергоф\n",
      "\n",
      "Название ---- Пушкин (город)\n",
      "\n",
      "Название ---- Сестрорецк\n",
      "№ ---- 1\n",
      "название ---- Аркадак\n",
      "район[4] / город областного значения[5] ---- Аркадакский район\n",
      "основание / первое упоминание ---- 1721\n",
      "статус города ---- 1963\n",
      "прежние названия ---- Пусто\n",
      "№ ---- 2\n",
      "название ---- Аткарск\n",
      "район[4] / город областного значения[5] ---- Аткарский район\n",
      "основание / первое упоминание ---- XVIII век\n",
      "статус города ---- 1780\n",
      "прежние названия ---- Пусто\n",
      "№ ---- 3\n",
      "название ---- Балаково\n",
      "район[4] / город областного значения[5] ---- Балаковский район\n",
      "основание / первое упоминание ---- 1762\n",
      "статус города ---- 1911\n",
      "прежние названия ---- Пусто\n",
      "№ ---- 4\n",
      "название ---- Балашов\n",
      "район[4] / город областного значения[5] ---- Балашовский район\n",
      "основание / первое упоминание ---- XVIII век\n",
      "статус города ---- 1780\n",
      "прежние названия ---- Пусто\n",
      "№ ---- 5\n",
      "название ---- Вольск\n",
      "район[4] / город областного значения[5] ---- Вольский район\n",
      "основание / первое упоминание ---- 1690\n",
      "статус города ---- 1780\n",
      "прежние названия ---- Пусто\n",
      "№ ---- 6\n",
      "название ---- Ершов\n",
      "район[4] / город областного значения[5] ---- Ершовский район\n",
      "основание / первое упоминание ---- 1893\n",
      "статус города ---- 1963\n",
      "прежние названия ---- Пусто\n",
      "№ ---- 7\n",
      "название ---- Калининск\n",
      "район[4] / город областного значения[5] ---- Калининский район\n",
      "основание / первое упоминание ---- 1680\n",
      "статус города ---- 1962\n",
      "прежние названия ---- до 1962 — Баланда\n",
      "№ ---- 8\n",
      "название ---- Красноармейск\n",
      "район[4] / город областного значения[5] ---- Красноармейский район\n",
      "основание / первое упоминание ---- 1768\n",
      "статус города ---- 1918\n",
      "прежние названия ---- до 1925 — Голый Карамышдо 1942 — Бальцер\n",
      "№ ---- 9\n",
      "название ---- Красный Кут\n",
      "район[4] / город областного значения[5] ---- Краснокутский район\n",
      "основание / первое упоминание ---- 1837\n",
      "статус города ---- 1966\n",
      "прежние названия ---- Пусто\n",
      "№ ---- 10\n",
      "название ---- Маркс\n",
      "район[4] / город областного значения[5] ---- Марксовский район\n",
      "основание / первое упоминание ---- 1765\n",
      "статус города ---- 1918\n",
      "прежние названия ---- до 1915 — Екатериненштадт (Баронск)с 1915 по 1920 — Екатериненградс 1920 по 1942 — Марксштадт\n",
      "№ ---- 11\n",
      "название ---- Новоузенск\n",
      "район[4] / город областного значения[5] ---- Новоузенский район\n",
      "основание / первое упоминание ---- 1760\n",
      "статус города ---- 1835\n",
      "прежние названия ---- ЧертанлаНовый Узень\n",
      "№ ---- 12\n",
      "название ---- Петровск\n",
      "район[4] / город областного значения[5] ---- Петровский район\n",
      "основание / первое упоминание ---- 1698\n",
      "статус города ---- 1780\n",
      "прежние названия ---- Пусто\n",
      "№ ---- 13\n",
      "название ---- Пугачёв\n",
      "район[4] / город областного значения[5] ---- Пугачёвский район\n",
      "основание / первое упоминание ---- 1764\n",
      "статус города ---- 1835\n",
      "прежние названия ---- до 1918 — Николаевск\n",
      "№ ---- 14\n",
      "название ---- Ртищево\n",
      "район[4] / город областного значения[5] ---- Ртищевский район\n",
      "основание / первое упоминание ---- 1666\n",
      "статус города ---- 1925\n",
      "прежние названия ---- до 1723 — Покровское\n",
      "№ ---- 15\n",
      "название ---- Саратов\n",
      "район[4] / город областного значения[5] ---- город Саратов (ГО Саратов)\n",
      "основание / первое упоминание ---- 1590\n",
      "статус города ---- 1590\n",
      "прежние названия ---- Пусто\n",
      "№ ---- 16\n",
      "название ---- Хвалынск\n",
      "район[4] / город областного значения[5] ---- Хвалынский район\n",
      "основание / первое упоминание ---- 1556\n",
      "статус города ---- 1780\n",
      "прежние названия ---- до 1606 — Сосновкадо 1780 — Сосновый остров\n",
      "№ ---- 17\n",
      "название ---- Шиханы\n",
      "район[4] / город областного значения[5] ---- город Шиханы (ГО)\n",
      "основание / первое упоминание ---- 1928\n",
      "статус города ---- 1996\n",
      "прежние названия ---- Пусто\n",
      "№ ---- 18\n",
      "название ---- Энгельс\n",
      "район[4] / город областного значения[5] ---- Энгельсский район\n",
      "основание / первое упоминание ---- 1747\n",
      "статус города ---- 1914\n",
      "прежние названия ---- до 1914 — Покровская слободадо 1931 — Покровск\n",
      "№ ---- 1\n",
      "название ---- Александровск-Сахалинский\n",
      "район / город  областного значения[4] ---- Александровск-Сахалинский район\n",
      "городской округ[5] ---- Александровск-Сахалинский район, городской округ\n",
      "основание / первое упоминание ---- 1869\n",
      "статус города ---- 1917\n",
      "прежние названия ---- до 1926 — Александровский пост\n",
      "№ ---- 2\n",
      "название ---- Анива\n",
      "район / город  областного значения[4] ---- Анивский район\n",
      "городской округ[5] ---- Анивский городской округ\n",
      "основание / первое упоминание ---- 1886\n",
      "статус города ---- 1947\n",
      "прежние названия ---- до 1905 — Лютогадо 1946 — Рутака\n",
      "№ ---- 3\n",
      "название ---- Долинск\n",
      "район / город  областного значения[4] ---- Долинский район\n",
      "городской округ[5] ---- городской округ «Долинский»\n",
      "основание / первое упоминание ---- 1884\n",
      "статус города ---- 1922\n",
      "прежние названия ---- до 1905 — Галкино-Врасскоедо 1946 — Отиай\n",
      "№ ---- 4\n",
      "название ---- Корсаков\n",
      "район / город  областного значения[4] ---- Корсаковский район\n",
      "городской округ[5] ---- Корсаковский городской округ\n",
      "основание / первое упоминание ---- 1853\n",
      "статус города ---- 1907\n",
      "прежние названия ---- до 1854 — Муравьёвский постдо 1905 — Корсаковский постдо 1946 — Отомари\n",
      "№ ---- 5\n",
      "название ---- Курильск\n",
      "район / город  областного значения[4] ---- Курильский район\n",
      "городской округ[5] ---- Курильский городской округ\n",
      "основание / первое упоминание ---- XVIII век\n",
      "статус города ---- 1947\n",
      "прежние названия ---- до 1946 — Сяна\n",
      "№ ---- 6\n",
      "название ---- Макаров\n",
      "район / город  областного значения[4] ---- Макаровский район\n",
      "городской округ[5] ---- Макаровский городской округ\n",
      "основание / первое упоминание ---- 1892\n",
      "статус города ---- 1947\n",
      "прежние названия ---- до 1905 — Селюторадо 1946 — Сиритору\n",
      "№ ---- 7\n",
      "название ---- Невельск\n",
      "район / город  областного значения[4] ---- Невельский район\n",
      "городской округ[5] ---- Невельский городской округ\n",
      "основание / первое упоминание ---- 1789\n",
      "статус города ---- 1946\n",
      "прежние названия ---- до 1946 — Хонто\n",
      "№ ---- 8\n",
      "название ---- Оха\n",
      "район / город  областного значения[4] ---- Охинский район\n",
      "городской округ[5] ---- городской округ «Охинский»\n",
      "основание / первое упоминание ---- 1908\n",
      "статус города ---- 1938\n",
      "прежние названия ---- Пусто\n",
      "№ ---- 9\n",
      "название ---- Поронайск\n",
      "район / город  областного значения[4] ---- Поронайский район\n",
      "городской округ[5] ---- Поронайский городской округ\n",
      "основание / первое упоминание ---- 1869\n",
      "статус города ---- 1946\n",
      "прежние названия ---- до 1905 — пост Тихменевскийдо 1946 — Сикука\n",
      "№ ---- 10\n",
      "название ---- Северо-Курильск\n",
      "район / город  областного значения[4] ---- Северо-Курильский район\n",
      "городской округ[5] ---- Северо-Курильский городской округ\n",
      "основание / первое упоминание ---- 1898\n",
      "статус города ---- 1947\n",
      "прежние названия ---- до 1946 — Касивабара\n",
      "№ ---- 11\n",
      "название ---- Томари\n",
      "район / город  областного значения[4] ---- Томаринский район\n",
      "городской округ[5] ---- Томаринский городской округ\n",
      "основание / первое упоминание ---- 1870\n",
      "статус города ---- 1947\n",
      "прежние названия ---- до 1946 — Томариору\n",
      "№ ---- 12\n",
      "название ---- Углегорск\n",
      "район / город  областного значения[4] ---- Углегорский район\n",
      "городской округ[5] ---- Углегорский городской округ\n",
      "основание / первое упоминание ---- XX век\n",
      "статус города ---- 1946\n",
      "прежние названия ---- до 1946 — Эсутору\n",
      "№ ---- 13\n",
      "название ---- Холмск\n",
      "район / город  областного значения[4] ---- Холмский район\n",
      "городской округ[5] ---- Холмский городской округ\n",
      "основание / первое упоминание ---- 1870\n",
      "статус города ---- 1922\n",
      "прежние названия ---- до 1905 — пост Маукадо 1946 — Маока\n",
      "№ ---- 14\n",
      "название ---- Южно-Сахалинск\n",
      "район / город  областного значения[4] ---- город Южно-Сахалинск\n",
      "городской округ[5] ---- город Южно-Сахалинск, городской округ\n",
      "основание / первое упоминание ---- 1882\n",
      "статус города ---- 1915\n",
      "прежние названия ---- до 1905 — Владимировкадо 1946 — Тоёхара\n",
      "№ ---- 1\n",
      "название ---- Екатеринбург\n",
      "административно-территориальная единица[7] ---- город Екатеринбург\n",
      "муниципальное образование[8] ---- мун. обр. город Екатеринбург (ГО)\n",
      "основание города ---- 1723\n",
      "статус города ---- 1781\n",
      "№ ---- 2\n",
      "название ---- Алапаевск\n",
      "административно-территориальная единица[7] ---- город Алапаевск\n",
      "муниципальное образование[8] ---- мун. обр. город Алапаевск (ГО)\n",
      "основание города ---- 1639\n",
      "статус города ---- 1781\n",
      "№ ---- 3\n",
      "название ---- Арамиль\n",
      "административно-территориальная единица[7] ---- Сысертский район\n",
      "муниципальное образование[8] ---- Арамильский ГО\n",
      "основание города ---- 1675\n",
      "статус города ---- 1966\n",
      "№ ---- 4\n",
      "название ---- Артёмовский\n",
      "административно-территориальная единица[7] ---- Артёмовский район\n",
      "муниципальное образование[8] ---- Артёмовский ГО\n",
      "основание города ---- 1665\n",
      "статус города ---- 1938\n",
      "№ ---- 5\n",
      "название ---- Асбест\n",
      "административно-территориальная единица[7] ---- город Асбест\n",
      "муниципальное образование[8] ---- Асбестовский ГО\n",
      "основание города ---- 1889\n",
      "статус города ---- 1933\n",
      "№ ---- 6\n",
      "название ---- Берёзовский\n",
      "административно-территориальная единица[7] ---- город Берёзовский\n",
      "муниципальное образование[8] ---- Берёзовский ГО\n",
      "основание города ---- 1748\n",
      "статус города ---- 1938\n",
      "№ ---- 7\n",
      "название ---- Богданович\n",
      "административно-территориальная единица[7] ---- Богдановичский район\n",
      "муниципальное образование[8] ---- ГО Богданович\n",
      "основание города ---- 1885\n",
      "статус города ---- 1947\n",
      "№ ---- 8\n",
      "название ---- Верхний Тагил\n",
      "административно-территориальная единица[7] ---- город Кировград\n",
      "муниципальное образование[8] ---- ГО Верхний Тагил\n",
      "основание города ---- 1716\n",
      "статус города ---- 1966\n",
      "№ ---- 9\n",
      "название ---- Верхняя Пышма\n",
      "административно-территориальная единица[7] ---- город Верхняя Пышма\n",
      "муниципальное образование[8] ---- ГО Верхняя Пышма\n",
      "основание города ---- 1854\n",
      "статус города ---- 1946\n",
      "№ ---- 10\n",
      "название ---- Верхняя Салда\n",
      "административно-территориальная единица[7] ---- Верхнесалдинский район\n",
      "муниципальное образование[8] ---- Верхнесалдинский ГО\n",
      "основание города ---- 1778\n",
      "статус города ---- 1938\n",
      "№ ---- 11\n",
      "название ---- Верхняя Тура\n",
      "административно-территориальная единица[7] ---- город Кушва\n",
      "муниципальное образование[8] ---- ГО город Верхняя Тура\n",
      "основание города ---- 1737\n",
      "статус города ---- 1941\n",
      "№ ---- 12\n",
      "название ---- Верхотурье\n",
      "административно-территориальная единица[7] ---- Верхотурский район\n",
      "муниципальное образование[8] ---- ГО Верхотурский\n",
      "основание города ---- 1597\n",
      "статус города ---- 1597\n",
      "№ ---- 13\n",
      "название ---- Волчанск\n",
      "административно-территориальная единица[7] ---- город Карпинск\n",
      "муниципальное образование[8] ---- Волчанский ГО\n",
      "основание города ---- 1900\n",
      "статус города ---- 1956\n",
      "№ ---- 14\n",
      "название ---- Дегтярск\n",
      "административно-территориальная единица[7] ---- город Ревда\n",
      "муниципальное образование[8] ---- ГО Дегтярск\n",
      "основание города ---- 1914\n",
      "статус города ---- 1954\n",
      "№ ---- 15\n",
      "название ---- Заречный\n",
      "административно-территориальная единица[7] ---- город Заречный\n",
      "муниципальное образование[8] ---- ГО Заречный\n",
      "основание города ---- 1955\n",
      "статус города ---- 1992\n",
      "№ ---- 16\n",
      "название ---- Ивдель\n",
      "административно-территориальная единица[7] ---- город Ивдель\n",
      "муниципальное образование[8] ---- Ивдельский ГО\n",
      "основание города ---- 1831\n",
      "статус города ---- 1943\n",
      "№ ---- 17\n",
      "название ---- Ирбит\n",
      "административно-территориальная единица[7] ---- город Ирбит\n",
      "муниципальное образование[8] ---- ГО город Ирбит\n",
      "основание города ---- 1631\n",
      "статус города ---- 1775\n",
      "№ ---- 18\n",
      "название ---- Каменск-Уральский\n",
      "административно-территориальная единица[7] ---- город Каменск-Уральский\n",
      "муниципальное образование[8] ---- Каменск-Уральский ГО\n",
      "основание города ---- 1701\n",
      "статус города ---- 1935\n",
      "№ ---- 19\n",
      "название ---- Камышлов\n",
      "административно-территориальная единица[7] ---- город Камышлов\n",
      "муниципальное образование[8] ---- Камышловский ГО\n",
      "основание города ---- 1668\n",
      "статус города ---- 1781\n",
      "№ ---- 20\n",
      "название ---- Карпинск\n",
      "административно-территориальная единица[7] ---- город Карпинск\n",
      "муниципальное образование[8] ---- ГО Карпинск\n",
      "основание города ---- 1759\n",
      "статус города ---- 1941\n",
      "№ ---- 21\n",
      "название ---- Качканар\n",
      "административно-территориальная единица[7] ---- город Качканар\n",
      "муниципальное образование[8] ---- Качканарский ГО\n",
      "основание города ---- 1957\n",
      "статус города ---- 1968\n",
      "№ ---- 22\n",
      "название ---- Кировград\n",
      "административно-территориальная единица[7] ---- город Кировград\n",
      "муниципальное образование[8] ---- Кировградский ГО\n",
      "основание города ---- 1661\n",
      "статус города ---- 1932\n",
      "№ ---- 23\n",
      "название ---- Краснотурьинск\n",
      "административно-территориальная единица[7] ---- город Краснотурьинск\n",
      "муниципальное образование[8] ---- ГО Краснотурьинск\n",
      "основание города ---- 1758\n",
      "статус города ---- 1944\n",
      "№ ---- 24\n",
      "название ---- Красноуральск\n",
      "административно-территориальная единица[7] ---- город Красноуральск\n",
      "муниципальное образование[8] ---- ГО Красноуральск\n",
      "основание города ---- 1925\n",
      "статус города ---- 1932\n",
      "№ ---- 25\n",
      "название ---- Красноуфимск\n",
      "административно-территориальная единица[7] ---- город Красноуфимск\n",
      "муниципальное образование[8] ---- ГО Красноуфимск\n",
      "основание города ---- 1736\n",
      "статус города ---- 1781\n",
      "№ ---- 26\n",
      "название ---- Кушва\n",
      "административно-территориальная единица[7] ---- город Кушва\n",
      "муниципальное образование[8] ---- Кушвинский ГО\n",
      "основание города ---- 1735\n",
      "статус города ---- 1925\n",
      "№ ---- 27\n",
      "название ---- Лесной\n",
      "административно-территориальная единица[7] ---- ЗАТО город Лесной\n",
      "муниципальное образование[8] ---- ГО город Лесной\n",
      "основание города ---- 1947\n",
      "статус города ---- 1954\n",
      "№ ---- 28\n",
      "название ---- Михайловск\n",
      "административно-территориальная единица[7] ---- Нижнесергинский район\n",
      "муниципальное образование[8] ---- Нижнесергинский МР[5]\n",
      "основание города ---- 1805\n",
      "статус города ---- 1961\n",
      "№ ---- 29\n",
      "название ---- Невьянск\n",
      "административно-территориальная единица[7] ---- Невьянский район\n",
      "муниципальное образование[8] ---- Невьянский ГО\n",
      "основание города ---- 1701\n",
      "статус города ---- 1919\n",
      "№ ---- 30\n",
      "название ---- Нижние Серги\n",
      "административно-территориальная единица[7] ---- Нижнесергинский район\n",
      "муниципальное образование[8] ---- Нижнесергинский МР[6]\n",
      "основание города ---- 1743\n",
      "статус города ---- 1943\n",
      "№ ---- 31\n",
      "название ---- Нижний Тагил\n",
      "административно-территориальная единица[7] ---- город Нижний Тагил\n",
      "муниципальное образование[8] ---- ГО город Нижний Тагил\n",
      "основание города ---- 1722\n",
      "статус города ---- 1919\n",
      "№ ---- 32\n",
      "название ---- Нижняя Салда\n",
      "административно-территориальная единица[7] ---- город Нижняя Салда\n",
      "муниципальное образование[8] ---- ГО Нижняя Салда\n",
      "основание города ---- 1760\n",
      "статус города ---- 1938\n",
      "№ ---- 33\n",
      "название ---- Нижняя Тура\n",
      "административно-территориальная единица[7] ---- город Нижняя Тура\n",
      "муниципальное образование[8] ---- Нижнетуринский ГО\n",
      "основание города ---- 1754\n",
      "статус города ---- 1949\n",
      "№ ---- 34\n",
      "название ---- Новая Ляля\n",
      "административно-территориальная единица[7] ---- Новолялинский район\n",
      "муниципальное образование[8] ---- Новолялинский ГО\n",
      "основание города ---- 1903\n",
      "статус города ---- 1938\n",
      "№ ---- 35\n",
      "название ---- Новоуральск\n",
      "административно-территориальная единица[7] ---- ЗАТО город Новоуральск\n",
      "муниципальное образование[8] ---- Новоуральский ГО\n",
      "основание города ---- 1941\n",
      "статус города ---- 1954\n",
      "№ ---- 36\n",
      "название ---- Первоуральск\n",
      "административно-территориальная единица[7] ---- город Первоуральск\n",
      "муниципальное образование[8] ---- ГО Первоуральск\n",
      "основание города ---- 1732\n",
      "статус города ---- 1933\n",
      "№ ---- 37\n",
      "название ---- Полевской\n",
      "административно-территориальная единица[7] ---- город Полевской\n",
      "муниципальное образование[8] ---- Полевской ГО\n",
      "основание города ---- 1718\n",
      "статус города ---- 1942\n",
      "№ ---- 38\n",
      "название ---- Ревда\n",
      "административно-территориальная единица[7] ---- город Ревда\n",
      "муниципальное образование[8] ---- ГО Ревда\n",
      "основание города ---- 1734\n",
      "статус города ---- 1935\n",
      "№ ---- 39\n",
      "название ---- Реж\n",
      "административно-территориальная единица[7] ---- Режевский район\n",
      "муниципальное образование[8] ---- Режевской ГО\n",
      "основание города ---- 1773\n",
      "статус города ---- 1943\n",
      "№ ---- 40\n",
      "название ---- Североуральск\n",
      "административно-территориальная единица[7] ---- город Североуральск\n",
      "муниципальное образование[8] ---- Североуральский ГО\n",
      "основание города ---- 1758\n",
      "статус города ---- 1944\n",
      "№ ---- 41\n",
      "название ---- Серов\n",
      "административно-территориальная единица[7] ---- город Серов\n",
      "муниципальное образование[8] ---- Серовский ГО\n",
      "основание города ---- 1893\n",
      "статус города ---- 1926\n",
      "№ ---- 42\n",
      "название ---- Среднеуральск\n",
      "административно-территориальная единица[7] ---- город Верхняя Пышма\n",
      "муниципальное образование[8] ---- ГО Среднеуральск\n",
      "основание города ---- 1931\n",
      "статус города ---- 1966\n",
      "№ ---- 43\n",
      "название ---- Сухой Лог\n",
      "административно-территориальная единица[7] ---- Сухоложский район\n",
      "муниципальное образование[8] ---- ГО Сухой Лог\n",
      "основание города ---- 1710\n",
      "статус города ---- 1943\n",
      "№ ---- 44\n",
      "название ---- Сысерть\n",
      "административно-территориальная единица[7] ---- Сысертский район\n",
      "муниципальное образование[8] ---- Сысертский ГО\n",
      "основание города ---- 1732\n",
      "статус города ---- 1946\n",
      "№ ---- 45\n",
      "название ---- Тавда\n",
      "административно-территориальная единица[7] ---- Тавдинский район\n",
      "муниципальное образование[8] ---- Тавдинский ГО\n",
      "основание города ---- 1910\n",
      "статус города ---- 1937\n",
      "№ ---- 46\n",
      "название ---- Талица\n",
      "административно-территориальная единица[7] ---- Талицкий район\n",
      "муниципальное образование[8] ---- Талицкий ГО\n",
      "основание города ---- 1732\n",
      "статус города ---- 1942\n",
      "№ ---- 47\n",
      "название ---- Туринск\n",
      "административно-территориальная единица[7] ---- Туринский район\n",
      "муниципальное образование[8] ---- Туринский ГО\n",
      "основание города ---- 1600\n",
      "статус города ---- 1600\n",
      "\n",
      "Название ---- Википедия:Категоризация/FAQ\n",
      "\n",
      "Название ---- Балаклава\n",
      "\n",
      "Название ---- Инкерман\n",
      "№ ---- 1\n",
      "название ---- Алагир\n",
      "район/ город республиканского подчинения ---- Алагирский район\n",
      "основан ---- 1850\n",
      "статусгорода/пгт ---- 1938\n",
      "№ ---- 2\n",
      "название ---- Ардон\n",
      "район/ город республиканского подчинения ---- Ардонский район\n",
      "основан ---- 1823\n",
      "статусгорода/пгт ---- 1964\n",
      "№ ---- 3\n",
      "название ---- Беслан\n",
      "район/ город республиканского подчинения ---- Правобережный район\n",
      "основан ---- 1847\n",
      "статусгорода/пгт ---- 1950\n",
      "№ ---- 4\n",
      "название ---- Владикавказ\n",
      "район/ город республиканского подчинения ---- город Владикавказ\n",
      "основан ---- 1784\n",
      "статусгорода/пгт ---- 1860\n",
      "№ ---- 5\n",
      "название ---- Дигора\n",
      "район/ город республиканского подчинения ---- Дигорский район\n",
      "основан ---- 1852\n",
      "статусгорода/пгт ---- 1962\n",
      "№ ---- 6\n",
      "название ---- Заводской\n",
      "район/ город республиканского подчинения ---- город Владикавказ\n",
      "основан ---- Пусто\n",
      "статусгорода/пгт ---- 1968\n",
      "№ ---- 7\n",
      "название ---- Моздок\n",
      "район/ город республиканского подчинения ---- Моздокский район\n",
      "основан ---- 1763\n",
      "статусгорода/пгт ---- 1785\n",
      "№ ---- 1\n",
      "Название ---- Велиж\n",
      "Район[5] / город (вне района)[6] ---- Велижский район\n",
      "Основание / первое упоминание ---- 1536\n",
      "Статус города ---- 1776\n",
      "Прежние названия ---- Пусто\n",
      "№ ---- 2\n",
      "Название ---- Вязьма\n",
      "Район[5] / город (вне района)[6] ---- Вяземский район\n",
      "Основание / первое упоминание ---- 1239\n",
      "Статус города ---- 1776\n",
      "Прежние названия ---- Пусто\n",
      "№ ---- 3\n",
      "Название ---- Гагарин\n",
      "Район[5] / город (вне района)[6] ---- Гагаринский район\n",
      "Основание / первое упоминание ---- 1705\n",
      "Статус города ---- 1776\n",
      "Прежние названия ---- Гжатск (до 1968)\n",
      "№ ---- 4\n",
      "Название ---- Демидов\n",
      "Район[5] / город (вне района)[6] ---- Демидовский район\n",
      "Основание / первое упоминание ---- 1499\n",
      "Статус города ---- 1776\n",
      "Прежние названия ---- Поречье (до 1918)\n",
      "№ ---- 5\n",
      "Название ---- Десногорск\n",
      "Район[5] / город (вне района)[6] ---- город Десногорск\n",
      "Основание / первое упоминание ---- 1974\n",
      "Статус города ---- 1989\n",
      "Прежние названия ---- Пусто\n",
      "№ ---- 6\n",
      "Название ---- Дорогобуж\n",
      "Район[5] / город (вне района)[6] ---- Дорогобужский район\n",
      "Основание / первое упоминание ---- XIII век\n",
      "Статус города ---- XIII век\n",
      "Прежние названия ---- Пусто\n",
      "№ ---- 7\n",
      "Название ---- Духовщина\n",
      "Район[5] / город (вне района)[6] ---- Духовщинский район\n",
      "Основание / первое упоминание ---- 1675\n",
      "Статус города ---- 1777\n",
      "Прежние названия ---- Пусто\n",
      "№ ---- 8\n",
      "Название ---- Ельня\n",
      "Район[5] / город (вне района)[6] ---- Ельнинский район\n",
      "Основание / первое упоминание ---- 1150\n",
      "Статус города ---- 1776\n",
      "Прежние названия ---- Пусто\n",
      "№ ---- 9\n",
      "Название ---- Починок\n",
      "Район[5] / город (вне района)[6] ---- Починковский район\n",
      "Основание / первое упоминание ---- 1811\n",
      "Статус города ---- 1926\n",
      "Прежние названия ---- Пусто\n",
      "№ ---- 10\n",
      "Название ---- Рославль\n",
      "Район[5] / город (вне района)[6] ---- Рославльский район\n",
      "Основание / первое упоминание ---- 1137\n",
      "Статус города ---- 1755\n",
      "Прежние названия ---- Ростиславль\n",
      "№ ---- 11\n",
      "Название ---- Рудня\n",
      "Район[5] / город (вне района)[6] ---- Руднянский район\n",
      "Основание / первое упоминание ---- 1363\n",
      "Статус города ---- 1926\n",
      "Прежние названия ---- Пусто\n",
      "№ ---- 12\n",
      "Название ---- Сафоново\n",
      "Район[5] / город (вне района)[6] ---- Сафоновский район\n",
      "Основание / первое упоминание ---- 1859\n",
      "Статус города ---- 1952\n",
      "Прежние названия ---- Пусто\n",
      "№ ---- 13\n",
      "Название ---- Смоленск\n",
      "Район[5] / город (вне района)[6] ---- город Смоленск\n",
      "Основание / первое упоминание ---- 863\n",
      "Статус города ---- 863\n",
      "Прежние названия ---- Пусто\n",
      "№ ---- 14\n",
      "Название ---- Сычёвка\n",
      "Район[5] / город (вне района)[6] ---- Сычёвский район\n",
      "Основание / первое упоминание ---- 1488\n",
      "Статус города ---- 1776\n",
      "Прежние названия ---- Пусто\n",
      "№ ---- 15\n",
      "Название ---- Ярцево\n",
      "Район[5] / город (вне района)[6] ---- Ярцевский район\n",
      "Основание / первое упоминание ---- 1610\n",
      "Статус города ---- 1926\n",
      "Прежние названия ---- Пусто\n",
      "№ ---- 1\n",
      "Название ---- Благодарный\n",
      "район / город краевого значения[7] ---- Благодарненский район\n",
      "муниципальный / городской округ[8] ---- Благодарненский ГО\n",
      "Основание / первое упоминание,год ---- 1782\n",
      "Статусгорода,год ---- 1971\n",
      "№ ---- 2\n",
      "Название ---- Будённовск\n",
      "район / город краевого значения[7] ---- Будённовский район\n",
      "муниципальный / городской округ[8] ---- Будённовский МО\n",
      "Основание / первое упоминание,год ---- 1799\n",
      "Статусгорода,год ---- 1799\n",
      "№ ---- 3\n",
      "Название ---- Георгиевск\n",
      "район / город краевого значения[7] ---- Георгиевский район\n",
      "муниципальный / городской округ[8] ---- Георгиевский ГО\n",
      "Основание / первое упоминание,год ---- 1777\n",
      "Статусгорода,год ---- 1786\n",
      "№ ---- 4\n",
      "Название ---- Ессентуки\n",
      "район / город краевого значения[7] ---- Ессентуки\n",
      "муниципальный / городской округ[8] ---- Ессентуки, ГО\n",
      "Основание / первое упоминание,год ---- 1825\n",
      "Статусгорода,год ---- 1917\n",
      "№ ---- 5\n",
      "Название ---- Железноводск\n",
      "район / город краевого значения[7] ---- Железноводск\n",
      "муниципальный / городской округ[8] ---- Железноводск, ГО\n",
      "Основание / первое упоминание,год ---- 1810\n",
      "Статусгорода,год ---- 1917\n",
      "№ ---- 6\n",
      "Название ---- Зеленокумск\n",
      "район / город краевого значения[7] ---- Советский район\n",
      "муниципальный / городской округ[8] ---- Советский ГО\n",
      "Основание / первое упоминание,год ---- 1781\n",
      "Статусгорода,год ---- 1965\n",
      "№ ---- 7\n",
      "Название ---- Изобильный\n",
      "район / город краевого значения[7] ---- Изобильненский район\n",
      "муниципальный / городской округ[8] ---- Изобильненский ГО\n",
      "Основание / первое упоминание,год ---- 1895\n",
      "Статусгорода,год ---- 1965\n",
      "№ ---- 8\n",
      "Название ---- Ипатово\n",
      "район / город краевого значения[7] ---- Ипатовский район\n",
      "муниципальный / городской округ[8] ---- Ипатовский ГО\n",
      "Основание / первое упоминание,год ---- 1860\n",
      "Статусгорода,год ---- 1979\n",
      "№ ---- 9\n",
      "Название ---- Кисловодск\n",
      "район / город краевого значения[7] ---- Кисловодск\n",
      "муниципальный / городской округ[8] ---- Кисловодск, ГО\n",
      "Основание / первое упоминание,год ---- 1803\n",
      "Статусгорода,год ---- 1903\n",
      "№ ---- 10\n",
      "Название ---- Лермонтов\n",
      "район / город краевого значения[7] ---- Лермонтов\n",
      "муниципальный / городской округ[8] ---- Лермонтов, ГО\n",
      "Основание / первое упоминание,год ---- 1953\n",
      "Статусгорода,год ---- 1956\n",
      "№ ---- 11\n",
      "Название ---- Минеральные Воды\n",
      "район / город краевого значения[7] ---- Минераловодский район\n",
      "муниципальный / городской округ[8] ---- Минераловодский ГО\n",
      "Основание / первое упоминание,год ---- 1878\n",
      "Статусгорода,год ---- 1922\n",
      "№ ---- 12\n",
      "Название ---- Михайловск\n",
      "район / город краевого значения[7] ---- Шпаковский район\n",
      "муниципальный / городской округ[8] ---- Шпаковский МО\n",
      "Основание / первое упоминание,год ---- 1784\n",
      "Статусгорода,год ---- 1999\n",
      "№ ---- 13\n",
      "Название ---- Невинномысск\n",
      "район / город краевого значения[7] ---- Невинномысск\n",
      "муниципальный / городской округ[8] ---- Невинномысск, ГО\n",
      "Основание / первое упоминание,год ---- 1825\n",
      "Статусгорода,год ---- 1939\n",
      "№ ---- 14\n",
      "Название ---- Нефтекумск\n",
      "район / город краевого значения[7] ---- Нефтекумский район\n",
      "муниципальный / городской округ[8] ---- Нефтекумский ГО\n",
      "Основание / первое упоминание,год ---- 1958\n",
      "Статусгорода,год ---- 1968\n",
      "№ ---- 15\n",
      "Название ---- Новоалександровск\n",
      "район / город краевого значения[7] ---- Новоалександровский район\n",
      "муниципальный / городской округ[8] ---- Новоалександровский ГО\n",
      "Основание / первое упоминание,год ---- 1804\n",
      "Статусгорода,год ---- 1971\n",
      "№ ---- 16\n",
      "Название ---- Новопавловск\n",
      "район / город краевого значения[7] ---- Кировский район\n",
      "муниципальный / городской округ[8] ---- Кировский ГО\n",
      "Основание / первое упоминание,год ---- 1777\n",
      "Статусгорода,год ---- 1981\n",
      "№ ---- 17\n",
      "Название ---- Пятигорск\n",
      "район / город краевого значения[7] ---- Пятигорск\n",
      "муниципальный / городской округ[8] ---- Пятигорск, ГО\n",
      "Основание / первое упоминание,год ---- 1780\n",
      "Статусгорода,год ---- 1830\n",
      "№ ---- 18\n",
      "Название ---- Светлоград\n",
      "район / город краевого значения[7] ---- Петровский район\n",
      "муниципальный / городской округ[8] ---- Петровский ГО\n",
      "Основание / первое упоминание,год ---- 1786\n",
      "Статусгорода,год ---- 1965\n",
      "№ ---- 19\n",
      "Название ---- Ставрополь\n",
      "район / город краевого значения[7] ---- Ставрополь\n",
      "муниципальный / городской округ[8] ---- Ставрополь, ГО\n",
      "Основание / первое упоминание,год ---- 1777\n",
      "Статусгорода,год ---- 1785\n"
     ]
    }
   ],
   "source": [
    "all_cities_categories = []\n",
    "for elem, (name, link) in enumerate(need_lst):\n",
    "    cates = BeautifulSoup(urllib.request.urlopen(link), 'lxml')\n",
    "    cs_final = {}\n",
    "    mw_pages = cates.find('div', {'id': 'mw-pages'})\n",
    "    mw_subcategories = cates.find('div', {'id': 'mw-subcategories'})\n",
    "\n",
    "    all_cities_in_group, group_cities_links, saved_th, cities_rows, cities_mw_sub = [], [], [], [], []\n",
    "\n",
    "    is_appends = True\n",
    "    if mw_pages is not None:\n",
    "        group_cities = mw_pages.find_all(\"a\")\n",
    "        for each_a in group_cities:\n",
    "            if \"Городские\" in each_a[\"title\"]:\n",
    "                group_cities_links.append(f\"https://ru.wikipedia.org{each_a['href']}\")\n",
    "                all_cities_in_group.append(each_a[\"title\"])\n",
    "                is_appends = False\n",
    "                break\n",
    "\n",
    "    if is_appends:\n",
    "        if mw_subcategories is not None:\n",
    "            group_cities = mw_subcategories.find_all(\"a\")\n",
    "            for each_a in group_cities:\n",
    "                group_cities_links.append(\"https://ru.wikipedia.org/негородские\")\n",
    "                cities_mw_sub.append(each_a[\"title\"].split(\":\")[1])\n",
    "\n",
    "        elif mw_pages is not None:\n",
    "            group_cities = mw_pages.find_all(\"a\")\n",
    "            for each_a in group_cities:\n",
    "                if \"КАТОБНОВ\" not in each_a['title']:\n",
    "                    group_cities_links.append(\"https://ru.wikipedia.org/негородские_mw\")\n",
    "                    cities_mw_sub.append(each_a[\"title\"])\n",
    "\n",
    "    for ind, link in enumerate(group_cities_links):\n",
    "        if 'негородские' in link:\n",
    "            id_rand = random.randint(100, 10000)\n",
    "            cs_final[id_rand] = {\"Название\": cities_mw_sub[ind]}\n",
    "            # print().\n",
    "            print(\"Название\", \"----\", cs_final[id_rand][\"Название\"])\n",
    "        else:\n",
    "            cities = BeautifulSoup(urllib.request.urlopen(link), 'lxml')\n",
    "            cities_table = cities.find('table', class_='standard')\n",
    "            if cities_table is not None:\n",
    "                for row in cities_table.find_all('tr'):\n",
    "                    th = row.find_all('th')\n",
    "                    if th:\n",
    "                        #print(f'Th length = {len(th)}')\n",
    "                        for i in range(len(th)):\n",
    "                            #print(th[i].text.strip(), end=' | ')\n",
    "                            saved_th.append(th[i].text.strip())\n",
    "                    td = row.find_all('td')\n",
    "                    if td:\n",
    "                        for i in range(len(td)):\n",
    "                            data = td[i].text.strip()\n",
    "                            if data == '':\n",
    "                                data = 'Пусто'\n",
    "                            if saved_th[i] not in [\"герб\", \"население(чел.)\", \"Население,чел.\", \"Герб\"]:\n",
    "                                cs_final[data if saved_th[i] == \"№\" else len(cs_final)] = {saved_th[i]: data}\n",
    "                                print(saved_th[i], \"----\", data)\n",
    "\n",
    "    all_cities_categories.append({name: {\"Города\": cs_final}})"
   ],
   "metadata": {
    "collapsed": false,
    "pycharm": {
     "name": "#%%\n"
    }
   }
  },
  {
   "cell_type": "code",
   "execution_count": 20,
   "outputs": [
    {
     "data": {
      "text/plain": "[{'Города Самарской области': {'Города': {'1': {'№': '1'},\n    1: {'название': 'Жигулёвск'},\n    2: {'район / город  областного значения': 'Жигулёвск'},\n    3: {'основание / первое упоминание': '1949'},\n    4: {'статус города': '1952'},\n    5: {'прежние названия': 'Пусто'},\n    '2': {'№': '2'},\n    7: {'название': 'Кинель'},\n    8: {'район / город  областного значения': 'Кинель'},\n    9: {'основание / первое упоминание': '1837'},\n    10: {'статус города': '1944'},\n    11: {'прежние названия': 'Пусто'},\n    '3': {'№': '3'},\n    13: {'название': 'Нефтегорск'},\n    14: {'район / город  областного значения': 'Нефтегорский район'},\n    15: {'основание / первое упоминание': '1960'},\n    16: {'статус города': '1989'},\n    17: {'прежние названия': 'Пусто'},\n    '4': {'№': '4'},\n    19: {'название': 'Новокуйбышевск'},\n    20: {'район / город  областного значения': 'Новокуйбышевск'},\n    21: {'основание / первое упоминание': '1946'},\n    22: {'статус города': '1952'},\n    23: {'прежние названия': 'Липяги'},\n    '5': {'№': '5'},\n    25: {'название': 'Октябрьск'},\n    26: {'район / город  областного значения': 'Октябрьск'},\n    27: {'основание / первое упоминание': '1684'},\n    28: {'статус города': '1956'},\n    29: {'прежние названия': 'Батраки'},\n    '6': {'№': '6'},\n    31: {'название': 'Отрадный'},\n    32: {'район / город  областного значения': 'Отрадный'},\n    33: {'основание / первое упоминание': '1946'},\n    34: {'статус города': '1956'},\n    35: {'прежние названия': 'Пусто'},\n    '7': {'№': '7'},\n    37: {'название': 'Похвистнево'},\n    38: {'район / город  областного значения': 'Похвистнево'},\n    39: {'основание / первое упоминание': '1888'},\n    40: {'статус города': '1947'},\n    41: {'прежние названия': 'Пусто'},\n    '8': {'№': '8'},\n    43: {'название': 'Самара'},\n    44: {'район / город  областного значения': 'Самара'},\n    45: {'основание / первое упоминание': '1586'},\n    46: {'статус города': '1688'},\n    47: {'прежние названия': 'с 1935 по 1991 — Куйбышев'},\n    '9': {'№': '9'},\n    49: {'название': 'Сызрань'},\n    50: {'район / город  областного значения': 'Сызрань'},\n    51: {'основание / первое упоминание': '1683'},\n    52: {'статус города': '1796'},\n    53: {'прежние названия': 'Пусто'},\n    '10': {'№': '10'},\n    55: {'название': 'Тольятти'},\n    56: {'район / город  областного значения': 'Тольятти'},\n    57: {'основание / первое упоминание': '1737'},\n    58: {'статус города': '1780'},\n    59: {'прежние названия': 'до 1964 — Ставрополь'},\n    '11': {'№': '11'},\n    61: {'название': 'Чапаевск'},\n    62: {'район / город  областного значения': 'Чапаевск'},\n    63: {'основание / первое упоминание': '1909'},\n    64: {'статус города': '1927'},\n    65: {'прежние названия': 'до 1918 — Иващенково\\nдо 1929 — Троцк'}}}},\n {'Города в составе Санкт-Петербурга': {'Города': {7745: {'Название': 'Зеленогорск (Санкт-Петербург)'},\n    7830: {'Название': 'Колпино'},\n    3325: {'Название': 'Красное Село'},\n    8658: {'Название': 'Кронштадт'},\n    785: {'Название': 'Ломоносов (город)'},\n    8517: {'Название': 'Павловск (Санкт-Петербург)'},\n    3662: {'Название': 'Петергоф'},\n    4230: {'Название': 'Пушкин (город)'},\n    369: {'Название': 'Сестрорецк'}}}},\n {'Города Саратовской области': {'Города': {'1': {'№': '1'},\n    1: {'название': 'Аркадак'},\n    2: {'район[4] / город областного значения[5]': 'Аркадакский район'},\n    3: {'основание / первое упоминание': '1721'},\n    4: {'статус города': '1963'},\n    5: {'прежние названия': 'Пусто'},\n    '2': {'№': '2'},\n    7: {'название': 'Аткарск'},\n    8: {'район[4] / город областного значения[5]': 'Аткарский район'},\n    9: {'основание / первое упоминание': 'XVIII век'},\n    10: {'статус города': '1780'},\n    11: {'прежние названия': 'Пусто'},\n    '3': {'№': '3'},\n    13: {'название': 'Балаково'},\n    14: {'район[4] / город областного значения[5]': 'Балаковский район'},\n    15: {'основание / первое упоминание': '1762'},\n    16: {'статус города': '1911'},\n    17: {'прежние названия': 'Пусто'},\n    '4': {'№': '4'},\n    19: {'название': 'Балашов'},\n    20: {'район[4] / город областного значения[5]': 'Балашовский район'},\n    21: {'основание / первое упоминание': 'XVIII век'},\n    22: {'статус города': '1780'},\n    23: {'прежние названия': 'Пусто'},\n    '5': {'№': '5'},\n    25: {'название': 'Вольск'},\n    26: {'район[4] / город областного значения[5]': 'Вольский район'},\n    27: {'основание / первое упоминание': '1690'},\n    28: {'статус города': '1780'},\n    29: {'прежние названия': 'Пусто'},\n    '6': {'№': '6'},\n    31: {'название': 'Ершов'},\n    32: {'район[4] / город областного значения[5]': 'Ершовский район'},\n    33: {'основание / первое упоминание': '1893'},\n    34: {'статус города': '1963'},\n    35: {'прежние названия': 'Пусто'},\n    '7': {'№': '7'},\n    37: {'название': 'Калининск'},\n    38: {'район[4] / город областного значения[5]': 'Калининский район'},\n    39: {'основание / первое упоминание': '1680'},\n    40: {'статус города': '1962'},\n    41: {'прежние названия': 'до 1962 — Баланда'},\n    '8': {'№': '8'},\n    43: {'название': 'Красноармейск'},\n    44: {'район[4] / город областного значения[5]': 'Красноармейский район'},\n    45: {'основание / первое упоминание': '1768'},\n    46: {'статус города': '1918'},\n    47: {'прежние названия': 'до 1925 — Голый Карамышдо 1942 — Бальцер'},\n    '9': {'№': '9'},\n    49: {'название': 'Красный Кут'},\n    50: {'район[4] / город областного значения[5]': 'Краснокутский район'},\n    51: {'основание / первое упоминание': '1837'},\n    52: {'статус города': '1966'},\n    53: {'прежние названия': 'Пусто'},\n    '10': {'№': '10'},\n    55: {'название': 'Маркс'},\n    56: {'район[4] / город областного значения[5]': 'Марксовский район'},\n    57: {'основание / первое упоминание': '1765'},\n    58: {'статус города': '1918'},\n    59: {'прежние названия': 'до 1915 — Екатериненштадт (Баронск)с 1915 по 1920 — Екатериненградс 1920 по 1942 — Марксштадт'},\n    '11': {'№': '11'},\n    61: {'название': 'Новоузенск'},\n    62: {'район[4] / город областного значения[5]': 'Новоузенский район'},\n    63: {'основание / первое упоминание': '1760'},\n    64: {'статус города': '1835'},\n    65: {'прежние названия': 'ЧертанлаНовый Узень'},\n    '12': {'№': '12'},\n    67: {'название': 'Петровск'},\n    68: {'район[4] / город областного значения[5]': 'Петровский район'},\n    69: {'основание / первое упоминание': '1698'},\n    70: {'статус города': '1780'},\n    71: {'прежние названия': 'Пусто'},\n    '13': {'№': '13'},\n    73: {'название': 'Пугачёв'},\n    74: {'район[4] / город областного значения[5]': 'Пугачёвский район'},\n    75: {'основание / первое упоминание': '1764'},\n    76: {'статус города': '1835'},\n    77: {'прежние названия': 'до 1918 — Николаевск'},\n    '14': {'№': '14'},\n    79: {'название': 'Ртищево'},\n    80: {'район[4] / город областного значения[5]': 'Ртищевский район'},\n    81: {'основание / первое упоминание': '1666'},\n    82: {'статус города': '1925'},\n    83: {'прежние названия': 'до 1723 — Покровское'},\n    '15': {'№': '15'},\n    85: {'название': 'Саратов'},\n    86: {'район[4] / город областного значения[5]': 'город Саратов (ГО Саратов)'},\n    87: {'основание / первое упоминание': '1590'},\n    88: {'статус города': '1590'},\n    89: {'прежние названия': 'Пусто'},\n    '16': {'№': '16'},\n    91: {'название': 'Хвалынск'},\n    92: {'район[4] / город областного значения[5]': 'Хвалынский район'},\n    93: {'основание / первое упоминание': '1556'},\n    94: {'статус города': '1780'},\n    95: {'прежние названия': 'до 1606 — Сосновкадо 1780 — Сосновый остров'},\n    '17': {'№': '17'},\n    97: {'название': 'Шиханы'},\n    98: {'район[4] / город областного значения[5]': 'город Шиханы (ГО)'},\n    99: {'основание / первое упоминание': '1928'},\n    100: {'статус города': '1996'},\n    101: {'прежние названия': 'Пусто'},\n    '18': {'№': '18'},\n    103: {'название': 'Энгельс'},\n    104: {'район[4] / город областного значения[5]': 'Энгельсский район'},\n    105: {'основание / первое упоминание': '1747'},\n    106: {'статус города': '1914'},\n    107: {'прежние названия': 'до 1914 — Покровская слободадо 1931 — Покровск'}}}},\n {'Города Сахалинской области': {'Города': {'1': {'№': '1'},\n    1: {'название': 'Александровск-Сахалинский'},\n    2: {'район / город  областного значения[4]': 'Александровск-Сахалинский район'},\n    3: {'городской округ[5]': 'Александровск-Сахалинский район, городской округ'},\n    4: {'основание / первое упоминание': '1869'},\n    5: {'статус города': '1917'},\n    6: {'прежние названия': 'до 1926\\xa0— Александровский пост'},\n    '2': {'№': '2'},\n    8: {'название': 'Анива'},\n    9: {'район / город  областного значения[4]': 'Анивский район'},\n    10: {'городской округ[5]': 'Анивский городской округ'},\n    11: {'основание / первое упоминание': '1886'},\n    12: {'статус города': '1947'},\n    13: {'прежние названия': 'до 1905\\xa0— Лютогадо 1946\\xa0— Рутака'},\n    '3': {'№': '3'},\n    15: {'название': 'Долинск'},\n    16: {'район / город  областного значения[4]': 'Долинский район'},\n    17: {'городской округ[5]': 'городской округ «Долинский»'},\n    18: {'основание / первое упоминание': '1884'},\n    19: {'статус города': '1922'},\n    20: {'прежние названия': 'до 1905\\xa0— Галкино-Врасскоедо 1946\\xa0— Отиай'},\n    '4': {'№': '4'},\n    22: {'название': 'Корсаков'},\n    23: {'район / город  областного значения[4]': 'Корсаковский район'},\n    24: {'городской округ[5]': 'Корсаковский городской округ'},\n    25: {'основание / первое упоминание': '1853'},\n    26: {'статус города': '1907'},\n    27: {'прежние названия': 'до 1854\\xa0— Муравьёвский постдо 1905\\xa0— Корсаковский постдо 1946\\xa0— Отомари'},\n    '5': {'№': '5'},\n    29: {'название': 'Курильск'},\n    30: {'район / город  областного значения[4]': 'Курильский район'},\n    31: {'городской округ[5]': 'Курильский городской округ'},\n    32: {'основание / первое упоминание': 'XVIII век'},\n    33: {'статус города': '1947'},\n    34: {'прежние названия': 'до 1946\\xa0— Сяна'},\n    '6': {'№': '6'},\n    36: {'название': 'Макаров'},\n    37: {'район / город  областного значения[4]': 'Макаровский район'},\n    38: {'городской округ[5]': 'Макаровский городской округ'},\n    39: {'основание / первое упоминание': '1892'},\n    40: {'статус города': '1947'},\n    41: {'прежние названия': 'до 1905\\xa0— Селюторадо 1946\\xa0— Сиритору'},\n    '7': {'№': '7'},\n    43: {'название': 'Невельск'},\n    44: {'район / город  областного значения[4]': 'Невельский район'},\n    45: {'городской округ[5]': 'Невельский городской округ'},\n    46: {'основание / первое упоминание': '1789'},\n    47: {'статус города': '1946'},\n    48: {'прежние названия': 'до 1946\\xa0— Хонто'},\n    '8': {'№': '8'},\n    50: {'название': 'Оха'},\n    51: {'район / город  областного значения[4]': 'Охинский район'},\n    52: {'городской округ[5]': 'городской округ «Охинский»'},\n    53: {'основание / первое упоминание': '1908'},\n    54: {'статус города': '1938'},\n    55: {'прежние названия': 'Пусто'},\n    '9': {'№': '9'},\n    57: {'название': 'Поронайск'},\n    58: {'район / город  областного значения[4]': 'Поронайский район'},\n    59: {'городской округ[5]': 'Поронайский городской округ'},\n    60: {'основание / первое упоминание': '1869'},\n    61: {'статус города': '1946'},\n    62: {'прежние названия': 'до 1905\\xa0— пост Тихменевскийдо 1946\\xa0— Сикука'},\n    '10': {'№': '10'},\n    64: {'название': 'Северо-Курильск'},\n    65: {'район / город  областного значения[4]': 'Северо-Курильский район'},\n    66: {'городской округ[5]': 'Северо-Курильский городской округ'},\n    67: {'основание / первое упоминание': '1898'},\n    68: {'статус города': '1947'},\n    69: {'прежние названия': 'до 1946\\xa0— Касивабара'},\n    '11': {'№': '11'},\n    71: {'название': 'Томари'},\n    72: {'район / город  областного значения[4]': 'Томаринский район'},\n    73: {'городской округ[5]': 'Томаринский городской округ'},\n    74: {'основание / первое упоминание': '1870'},\n    75: {'статус города': '1947'},\n    76: {'прежние названия': 'до 1946\\xa0— Томариору'},\n    '12': {'№': '12'},\n    78: {'название': 'Углегорск'},\n    79: {'район / город  областного значения[4]': 'Углегорский район'},\n    80: {'городской округ[5]': 'Углегорский городской округ'},\n    81: {'основание / первое упоминание': 'XX век'},\n    82: {'статус города': '1946'},\n    83: {'прежние названия': 'до 1946\\xa0— Эсутору'},\n    '13': {'№': '13'},\n    85: {'название': 'Холмск'},\n    86: {'район / город  областного значения[4]': 'Холмский район'},\n    87: {'городской округ[5]': 'Холмский городской округ'},\n    88: {'основание / первое упоминание': '1870'},\n    89: {'статус города': '1922'},\n    90: {'прежние названия': 'до 1905\\xa0— пост Маукадо 1946\\xa0— Маока'},\n    '14': {'№': '14'},\n    92: {'название': 'Южно-Сахалинск'},\n    93: {'район / город  областного значения[4]': 'город Южно-Сахалинск'},\n    94: {'городской округ[5]': 'город Южно-Сахалинск, городской округ'},\n    95: {'основание / первое упоминание': '1882'},\n    96: {'статус города': '1915'},\n    97: {'прежние названия': 'до 1905\\xa0— Владимировкадо 1946\\xa0— Тоёхара'}}}},\n {'Города Свердловской области': {'Города': {'1': {'№': '1'},\n    1: {'название': 'Екатеринбург'},\n    2: {'административно-территориальная единица[7]': 'город Екатеринбург'},\n    3: {'муниципальное образование[8]': 'мун. обр. город Екатеринбург (ГО)'},\n    4: {'основание города': '1723'},\n    5: {'статус города': '1781'},\n    '2': {'№': '2'},\n    7: {'название': 'Алапаевск'},\n    8: {'административно-территориальная единица[7]': 'город Алапаевск'},\n    9: {'муниципальное образование[8]': 'мун. обр. город Алапаевск (ГО)'},\n    10: {'основание города': '1639'},\n    11: {'статус города': '1781'},\n    '3': {'№': '3'},\n    13: {'название': 'Арамиль'},\n    14: {'административно-территориальная единица[7]': 'Сысертский район'},\n    15: {'муниципальное образование[8]': 'Арамильский ГО'},\n    16: {'основание города': '1675'},\n    17: {'статус города': '1966'},\n    '4': {'№': '4'},\n    19: {'название': 'Артёмовский'},\n    20: {'административно-территориальная единица[7]': 'Артёмовский район'},\n    21: {'муниципальное образование[8]': 'Артёмовский ГО'},\n    22: {'основание города': '1665'},\n    23: {'статус города': '1938'},\n    '5': {'№': '5'},\n    25: {'название': 'Асбест'},\n    26: {'административно-территориальная единица[7]': 'город Асбест'},\n    27: {'муниципальное образование[8]': 'Асбестовский ГО'},\n    28: {'основание города': '1889'},\n    29: {'статус города': '1933'},\n    '6': {'№': '6'},\n    31: {'название': 'Берёзовский'},\n    32: {'административно-территориальная единица[7]': 'город Берёзовский'},\n    33: {'муниципальное образование[8]': 'Берёзовский ГО'},\n    34: {'основание города': '1748'},\n    35: {'статус города': '1938'},\n    '7': {'№': '7'},\n    37: {'название': 'Богданович'},\n    38: {'административно-территориальная единица[7]': 'Богдановичский район'},\n    39: {'муниципальное образование[8]': 'ГО Богданович'},\n    40: {'основание города': '1885'},\n    41: {'статус города': '1947'},\n    '8': {'№': '8'},\n    43: {'название': 'Верхний Тагил'},\n    44: {'административно-территориальная единица[7]': 'город Кировград'},\n    45: {'муниципальное образование[8]': 'ГО Верхний Тагил'},\n    46: {'основание города': '1716'},\n    47: {'статус города': '1966'},\n    '9': {'№': '9'},\n    49: {'название': 'Верхняя Пышма'},\n    50: {'административно-территориальная единица[7]': 'город Верхняя Пышма'},\n    51: {'муниципальное образование[8]': 'ГО Верхняя Пышма'},\n    52: {'основание города': '1854'},\n    53: {'статус города': '1946'},\n    '10': {'№': '10'},\n    55: {'название': 'Верхняя Салда'},\n    56: {'административно-территориальная единица[7]': 'Верхнесалдинский район'},\n    57: {'муниципальное образование[8]': 'Верхнесалдинский ГО'},\n    58: {'основание города': '1778'},\n    59: {'статус города': '1938'},\n    '11': {'№': '11'},\n    61: {'название': 'Верхняя Тура'},\n    62: {'административно-территориальная единица[7]': 'город Кушва'},\n    63: {'муниципальное образование[8]': 'ГО город Верхняя Тура'},\n    64: {'основание города': '1737'},\n    65: {'статус города': '1941'},\n    '12': {'№': '12'},\n    67: {'название': 'Верхотурье'},\n    68: {'административно-территориальная единица[7]': 'Верхотурский район'},\n    69: {'муниципальное образование[8]': 'ГО Верхотурский'},\n    70: {'основание города': '1597'},\n    71: {'статус города': '1597'},\n    '13': {'№': '13'},\n    73: {'название': 'Волчанск'},\n    74: {'административно-территориальная единица[7]': 'город Карпинск'},\n    75: {'муниципальное образование[8]': 'Волчанский ГО'},\n    76: {'основание города': '1900'},\n    77: {'статус города': '1956'},\n    '14': {'№': '14'},\n    79: {'название': 'Дегтярск'},\n    80: {'административно-территориальная единица[7]': 'город Ревда'},\n    81: {'муниципальное образование[8]': 'ГО Дегтярск'},\n    82: {'основание города': '1914'},\n    83: {'статус города': '1954'},\n    '15': {'№': '15'},\n    85: {'название': 'Заречный'},\n    86: {'административно-территориальная единица[7]': 'город Заречный'},\n    87: {'муниципальное образование[8]': 'ГО Заречный'},\n    88: {'основание города': '1955'},\n    89: {'статус города': '1992'},\n    '16': {'№': '16'},\n    91: {'название': 'Ивдель'},\n    92: {'административно-территориальная единица[7]': 'город Ивдель'},\n    93: {'муниципальное образование[8]': 'Ивдельский ГО'},\n    94: {'основание города': '1831'},\n    95: {'статус города': '1943'},\n    '17': {'№': '17'},\n    97: {'название': 'Ирбит'},\n    98: {'административно-территориальная единица[7]': 'город Ирбит'},\n    99: {'муниципальное образование[8]': 'ГО город Ирбит'},\n    100: {'основание города': '1631'},\n    101: {'статус города': '1775'},\n    '18': {'№': '18'},\n    103: {'название': 'Каменск-Уральский'},\n    104: {'административно-территориальная единица[7]': 'город Каменск-Уральский'},\n    105: {'муниципальное образование[8]': 'Каменск-Уральский ГО'},\n    106: {'основание города': '1701'},\n    107: {'статус города': '1935'},\n    '19': {'№': '19'},\n    109: {'название': 'Камышлов'},\n    110: {'административно-территориальная единица[7]': 'город Камышлов'},\n    111: {'муниципальное образование[8]': 'Камышловский ГО'},\n    112: {'основание города': '1668'},\n    113: {'статус города': '1781'},\n    '20': {'№': '20'},\n    115: {'название': 'Карпинск'},\n    116: {'административно-территориальная единица[7]': 'город Карпинск'},\n    117: {'муниципальное образование[8]': 'ГО Карпинск'},\n    118: {'основание города': '1759'},\n    119: {'статус города': '1941'},\n    '21': {'№': '21'},\n    121: {'название': 'Качканар'},\n    122: {'административно-территориальная единица[7]': 'город Качканар'},\n    123: {'муниципальное образование[8]': 'Качканарский ГО'},\n    124: {'основание города': '1957'},\n    125: {'статус города': '1968'},\n    '22': {'№': '22'},\n    127: {'название': 'Кировград'},\n    128: {'административно-территориальная единица[7]': 'город Кировград'},\n    129: {'муниципальное образование[8]': 'Кировградский ГО'},\n    130: {'основание города': '1661'},\n    131: {'статус города': '1932'},\n    '23': {'№': '23'},\n    133: {'название': 'Краснотурьинск'},\n    134: {'административно-территориальная единица[7]': 'город Краснотурьинск'},\n    135: {'муниципальное образование[8]': 'ГО Краснотурьинск'},\n    136: {'основание города': '1758'},\n    137: {'статус города': '1944'},\n    '24': {'№': '24'},\n    139: {'название': 'Красноуральск'},\n    140: {'административно-территориальная единица[7]': 'город Красноуральск'},\n    141: {'муниципальное образование[8]': 'ГО Красноуральск'},\n    142: {'основание города': '1925'},\n    143: {'статус города': '1932'},\n    '25': {'№': '25'},\n    145: {'название': 'Красноуфимск'},\n    146: {'административно-территориальная единица[7]': 'город Красноуфимск'},\n    147: {'муниципальное образование[8]': 'ГО Красноуфимск'},\n    148: {'основание города': '1736'},\n    149: {'статус города': '1781'},\n    '26': {'№': '26'},\n    151: {'название': 'Кушва'},\n    152: {'административно-территориальная единица[7]': 'город Кушва'},\n    153: {'муниципальное образование[8]': 'Кушвинский ГО'},\n    154: {'основание города': '1735'},\n    155: {'статус города': '1925'},\n    '27': {'№': '27'},\n    157: {'название': 'Лесной'},\n    158: {'административно-территориальная единица[7]': 'ЗАТО город Лесной'},\n    159: {'муниципальное образование[8]': 'ГО город Лесной'},\n    160: {'основание города': '1947'},\n    161: {'статус города': '1954'},\n    '28': {'№': '28'},\n    163: {'название': 'Михайловск'},\n    164: {'административно-территориальная единица[7]': 'Нижнесергинский район'},\n    165: {'муниципальное образование[8]': 'Нижнесергинский МР[5]'},\n    166: {'основание города': '1805'},\n    167: {'статус города': '1961'},\n    '29': {'№': '29'},\n    169: {'название': 'Невьянск'},\n    170: {'административно-территориальная единица[7]': 'Невьянский район'},\n    171: {'муниципальное образование[8]': 'Невьянский ГО'},\n    172: {'основание города': '1701'},\n    173: {'статус города': '1919'},\n    '30': {'№': '30'},\n    175: {'название': 'Нижние Серги'},\n    176: {'административно-территориальная единица[7]': 'Нижнесергинский район'},\n    177: {'муниципальное образование[8]': 'Нижнесергинский МР[6]'},\n    178: {'основание города': '1743'},\n    179: {'статус города': '1943'},\n    '31': {'№': '31'},\n    181: {'название': 'Нижний Тагил'},\n    182: {'административно-территориальная единица[7]': 'город Нижний Тагил'},\n    183: {'муниципальное образование[8]': 'ГО город Нижний Тагил'},\n    184: {'основание города': '1722'},\n    185: {'статус города': '1919'},\n    '32': {'№': '32'},\n    187: {'название': 'Нижняя Салда'},\n    188: {'административно-территориальная единица[7]': 'город Нижняя Салда'},\n    189: {'муниципальное образование[8]': 'ГО Нижняя Салда'},\n    190: {'основание города': '1760'},\n    191: {'статус города': '1938'},\n    '33': {'№': '33'},\n    193: {'название': 'Нижняя Тура'},\n    194: {'административно-территориальная единица[7]': 'город Нижняя Тура'},\n    195: {'муниципальное образование[8]': 'Нижнетуринский ГО'},\n    196: {'основание города': '1754'},\n    197: {'статус города': '1949'},\n    '34': {'№': '34'},\n    199: {'название': 'Новая Ляля'},\n    200: {'административно-территориальная единица[7]': 'Новолялинский район'},\n    201: {'муниципальное образование[8]': 'Новолялинский ГО'},\n    202: {'основание города': '1903'},\n    203: {'статус города': '1938'},\n    '35': {'№': '35'},\n    205: {'название': 'Новоуральск'},\n    206: {'административно-территориальная единица[7]': 'ЗАТО город Новоуральск'},\n    207: {'муниципальное образование[8]': 'Новоуральский ГО'},\n    208: {'основание города': '1941'},\n    209: {'статус города': '1954'},\n    '36': {'№': '36'},\n    211: {'название': 'Первоуральск'},\n    212: {'административно-территориальная единица[7]': 'город Первоуральск'},\n    213: {'муниципальное образование[8]': 'ГО Первоуральск'},\n    214: {'основание города': '1732'},\n    215: {'статус города': '1933'},\n    '37': {'№': '37'},\n    217: {'название': 'Полевской'},\n    218: {'административно-территориальная единица[7]': 'город Полевской'},\n    219: {'муниципальное образование[8]': 'Полевской ГО'},\n    220: {'основание города': '1718'},\n    221: {'статус города': '1942'},\n    '38': {'№': '38'},\n    223: {'название': 'Ревда'},\n    224: {'административно-территориальная единица[7]': 'город Ревда'},\n    225: {'муниципальное образование[8]': 'ГО Ревда'},\n    226: {'основание города': '1734'},\n    227: {'статус города': '1935'},\n    '39': {'№': '39'},\n    229: {'название': 'Реж'},\n    230: {'административно-территориальная единица[7]': 'Режевский район'},\n    231: {'муниципальное образование[8]': 'Режевской ГО'},\n    232: {'основание города': '1773'},\n    233: {'статус города': '1943'},\n    '40': {'№': '40'},\n    235: {'название': 'Североуральск'},\n    236: {'административно-территориальная единица[7]': 'город Североуральск'},\n    237: {'муниципальное образование[8]': 'Североуральский ГО'},\n    238: {'основание города': '1758'},\n    239: {'статус города': '1944'},\n    '41': {'№': '41'},\n    241: {'название': 'Серов'},\n    242: {'административно-территориальная единица[7]': 'город Серов'},\n    243: {'муниципальное образование[8]': 'Серовский ГО'},\n    244: {'основание города': '1893'},\n    245: {'статус города': '1926'},\n    '42': {'№': '42'},\n    247: {'название': 'Среднеуральск'},\n    248: {'административно-территориальная единица[7]': 'город Верхняя Пышма'},\n    249: {'муниципальное образование[8]': 'ГО Среднеуральск'},\n    250: {'основание города': '1931'},\n    251: {'статус города': '1966'},\n    '43': {'№': '43'},\n    253: {'название': 'Сухой Лог'},\n    254: {'административно-территориальная единица[7]': 'Сухоложский район'},\n    255: {'муниципальное образование[8]': 'ГО Сухой Лог'},\n    256: {'основание города': '1710'},\n    257: {'статус города': '1943'},\n    '44': {'№': '44'},\n    259: {'название': 'Сысерть'},\n    260: {'административно-территориальная единица[7]': 'Сысертский район'},\n    261: {'муниципальное образование[8]': 'Сысертский ГО'},\n    262: {'основание города': '1732'},\n    263: {'статус города': '1946'},\n    '45': {'№': '45'},\n    265: {'название': 'Тавда'},\n    266: {'административно-территориальная единица[7]': 'Тавдинский район'},\n    267: {'муниципальное образование[8]': 'Тавдинский ГО'},\n    268: {'основание города': '1910'},\n    269: {'статус города': '1937'},\n    '46': {'№': '46'},\n    271: {'название': 'Талица'},\n    272: {'административно-территориальная единица[7]': 'Талицкий район'},\n    273: {'муниципальное образование[8]': 'Талицкий ГО'},\n    274: {'основание города': '1732'},\n    275: {'статус города': '1942'},\n    '47': {'№': '47'},\n    277: {'название': 'Туринск'},\n    278: {'административно-территориальная единица[7]': 'Туринский район'},\n    279: {'муниципальное образование[8]': 'Туринский ГО'},\n    280: {'основание города': '1600'},\n    281: {'статус города': '1600'}}}},\n {'Города в составе Севастополя': {'Города': {6915: {'Название': 'Википедия:Категоризация/FAQ'},\n    5903: {'Название': 'Балаклава'},\n    4690: {'Название': 'Инкерман'}}}},\n {'Города Северной Осетии': {'Города': {'1': {'№': '1'},\n    1: {'название': 'Алагир'},\n    2: {'район/ город республиканского подчинения': 'Алагирский район'},\n    3: {'основан': '1850'},\n    4: {'статусгорода/пгт': '1938'},\n    '2': {'№': '2'},\n    6: {'название': 'Ардон'},\n    7: {'район/ город республиканского подчинения': 'Ардонский район'},\n    8: {'основан': '1823'},\n    9: {'статусгорода/пгт': '1964'},\n    '3': {'№': '3'},\n    11: {'название': 'Беслан'},\n    12: {'район/ город республиканского подчинения': 'Правобережный район'},\n    13: {'основан': '1847'},\n    14: {'статусгорода/пгт': '1950'},\n    '4': {'№': '4'},\n    16: {'название': 'Владикавказ'},\n    17: {'район/ город республиканского подчинения': 'город Владикавказ'},\n    18: {'основан': '1784'},\n    19: {'статусгорода/пгт': '1860'},\n    '5': {'№': '5'},\n    21: {'название': 'Дигора'},\n    22: {'район/ город республиканского подчинения': 'Дигорский район'},\n    23: {'основан': '1852'},\n    24: {'статусгорода/пгт': '1962'},\n    '6': {'№': '6'},\n    26: {'название': 'Заводской'},\n    27: {'район/ город республиканского подчинения': 'город Владикавказ'},\n    28: {'основан': 'Пусто'},\n    29: {'статусгорода/пгт': '1968'},\n    '7': {'№': '7'},\n    31: {'название': 'Моздок'},\n    32: {'район/ город республиканского подчинения': 'Моздокский район'},\n    33: {'основан': '1763'},\n    34: {'статусгорода/пгт': '1785'}}}},\n {'Города Смоленской области': {'Города': {'1': {'№': '1'},\n    1: {'Название': 'Велиж'},\n    2: {'Район[5] / город (вне района)[6]': 'Велижский район'},\n    3: {'Основание / первое упоминание': '1536'},\n    4: {'Статус города': '1776'},\n    5: {'Прежние названия': 'Пусто'},\n    '2': {'№': '2'},\n    7: {'Название': 'Вязьма'},\n    8: {'Район[5] / город (вне района)[6]': 'Вяземский район'},\n    9: {'Основание / первое упоминание': '1239'},\n    10: {'Статус города': '1776'},\n    11: {'Прежние названия': 'Пусто'},\n    '3': {'№': '3'},\n    13: {'Название': 'Гагарин'},\n    14: {'Район[5] / город (вне района)[6]': 'Гагаринский район'},\n    15: {'Основание / первое упоминание': '1705'},\n    16: {'Статус города': '1776'},\n    17: {'Прежние названия': 'Гжатск (до 1968)'},\n    '4': {'№': '4'},\n    19: {'Название': 'Демидов'},\n    20: {'Район[5] / город (вне района)[6]': 'Демидовский район'},\n    21: {'Основание / первое упоминание': '1499'},\n    22: {'Статус города': '1776'},\n    23: {'Прежние названия': 'Поречье (до 1918)'},\n    '5': {'№': '5'},\n    25: {'Название': 'Десногорск'},\n    26: {'Район[5] / город (вне района)[6]': 'город Десногорск'},\n    27: {'Основание / первое упоминание': '1974'},\n    28: {'Статус города': '1989'},\n    29: {'Прежние названия': 'Пусто'},\n    '6': {'№': '6'},\n    31: {'Название': 'Дорогобуж'},\n    32: {'Район[5] / город (вне района)[6]': 'Дорогобужский район'},\n    33: {'Основание / первое упоминание': 'XIII век'},\n    34: {'Статус города': 'XIII век'},\n    35: {'Прежние названия': 'Пусто'},\n    '7': {'№': '7'},\n    37: {'Название': 'Духовщина'},\n    38: {'Район[5] / город (вне района)[6]': 'Духовщинский район'},\n    39: {'Основание / первое упоминание': '1675'},\n    40: {'Статус города': '1777'},\n    41: {'Прежние названия': 'Пусто'},\n    '8': {'№': '8'},\n    43: {'Название': 'Ельня'},\n    44: {'Район[5] / город (вне района)[6]': 'Ельнинский район'},\n    45: {'Основание / первое упоминание': '1150'},\n    46: {'Статус города': '1776'},\n    47: {'Прежние названия': 'Пусто'},\n    '9': {'№': '9'},\n    49: {'Название': 'Починок'},\n    50: {'Район[5] / город (вне района)[6]': 'Починковский район'},\n    51: {'Основание / первое упоминание': '1811'},\n    52: {'Статус города': '1926'},\n    53: {'Прежние названия': 'Пусто'},\n    '10': {'№': '10'},\n    55: {'Название': 'Рославль'},\n    56: {'Район[5] / город (вне района)[6]': 'Рославльский район'},\n    57: {'Основание / первое упоминание': '1137'},\n    58: {'Статус города': '1755'},\n    59: {'Прежние названия': 'Ростиславль'},\n    '11': {'№': '11'},\n    61: {'Название': 'Рудня'},\n    62: {'Район[5] / город (вне района)[6]': 'Руднянский район'},\n    63: {'Основание / первое упоминание': '1363'},\n    64: {'Статус города': '1926'},\n    65: {'Прежние названия': 'Пусто'},\n    '12': {'№': '12'},\n    67: {'Название': 'Сафоново'},\n    68: {'Район[5] / город (вне района)[6]': 'Сафоновский район'},\n    69: {'Основание / первое упоминание': '1859'},\n    70: {'Статус города': '1952'},\n    71: {'Прежние названия': 'Пусто'},\n    '13': {'№': '13'},\n    73: {'Название': 'Смоленск'},\n    74: {'Район[5] / город (вне района)[6]': 'город Смоленск'},\n    75: {'Основание / первое упоминание': '863'},\n    76: {'Статус города': '863'},\n    77: {'Прежние названия': 'Пусто'},\n    '14': {'№': '14'},\n    79: {'Название': 'Сычёвка'},\n    80: {'Район[5] / город (вне района)[6]': 'Сычёвский район'},\n    81: {'Основание / первое упоминание': '1488'},\n    82: {'Статус города': '1776'},\n    83: {'Прежние названия': 'Пусто'},\n    '15': {'№': '15'},\n    85: {'Название': 'Ярцево'},\n    86: {'Район[5] / город (вне района)[6]': 'Ярцевский район'},\n    87: {'Основание / первое упоминание': '1610'},\n    88: {'Статус города': '1926'},\n    89: {'Прежние названия': 'Пусто'}}}},\n {'Города Ставропольского края': {'Города': {'1': {'№': '1'},\n    1: {'Название': 'Благодарный'},\n    2: {'район / город краевого значения[7]': 'Благодарненский район'},\n    3: {'муниципальный / городской округ[8]': 'Благодарненский ГО'},\n    4: {'Основание / первое упоминание,год': '1782'},\n    5: {'Статусгорода,год': '1971'},\n    '2': {'№': '2'},\n    7: {'Название': 'Будённовск'},\n    8: {'район / город краевого значения[7]': 'Будённовский район'},\n    9: {'муниципальный / городской округ[8]': 'Будённовский МО'},\n    10: {'Основание / первое упоминание,год': '1799'},\n    11: {'Статусгорода,год': '1799'},\n    '3': {'№': '3'},\n    13: {'Название': 'Георгиевск'},\n    14: {'район / город краевого значения[7]': 'Георгиевский район'},\n    15: {'муниципальный / городской округ[8]': 'Георгиевский ГО'},\n    16: {'Основание / первое упоминание,год': '1777'},\n    17: {'Статусгорода,год': '1786'},\n    '4': {'№': '4'},\n    19: {'Название': 'Ессентуки'},\n    20: {'район / город краевого значения[7]': 'Ессентуки'},\n    21: {'муниципальный / городской округ[8]': 'Ессентуки, ГО'},\n    22: {'Основание / первое упоминание,год': '1825'},\n    23: {'Статусгорода,год': '1917'},\n    '5': {'№': '5'},\n    25: {'Название': 'Железноводск'},\n    26: {'район / город краевого значения[7]': 'Железноводск'},\n    27: {'муниципальный / городской округ[8]': 'Железноводск, ГО'},\n    28: {'Основание / первое упоминание,год': '1810'},\n    29: {'Статусгорода,год': '1917'},\n    '6': {'№': '6'},\n    31: {'Название': 'Зеленокумск'},\n    32: {'район / город краевого значения[7]': 'Советский район'},\n    33: {'муниципальный / городской округ[8]': 'Советский ГО'},\n    34: {'Основание / первое упоминание,год': '1781'},\n    35: {'Статусгорода,год': '1965'},\n    '7': {'№': '7'},\n    37: {'Название': 'Изобильный'},\n    38: {'район / город краевого значения[7]': 'Изобильненский район'},\n    39: {'муниципальный / городской округ[8]': 'Изобильненский ГО'},\n    40: {'Основание / первое упоминание,год': '1895'},\n    41: {'Статусгорода,год': '1965'},\n    '8': {'№': '8'},\n    43: {'Название': 'Ипатово'},\n    44: {'район / город краевого значения[7]': 'Ипатовский район'},\n    45: {'муниципальный / городской округ[8]': 'Ипатовский ГО'},\n    46: {'Основание / первое упоминание,год': '1860'},\n    47: {'Статусгорода,год': '1979'},\n    '9': {'№': '9'},\n    49: {'Название': 'Кисловодск'},\n    50: {'район / город краевого значения[7]': 'Кисловодск'},\n    51: {'муниципальный / городской округ[8]': 'Кисловодск, ГО'},\n    52: {'Основание / первое упоминание,год': '1803'},\n    53: {'Статусгорода,год': '1903'},\n    '10': {'№': '10'},\n    55: {'Название': 'Лермонтов'},\n    56: {'район / город краевого значения[7]': 'Лермонтов'},\n    57: {'муниципальный / городской округ[8]': 'Лермонтов, ГО'},\n    58: {'Основание / первое упоминание,год': '1953'},\n    59: {'Статусгорода,год': '1956'},\n    '11': {'№': '11'},\n    61: {'Название': 'Минеральные Воды'},\n    62: {'район / город краевого значения[7]': 'Минераловодский район'},\n    63: {'муниципальный / городской округ[8]': 'Минераловодский ГО'},\n    64: {'Основание / первое упоминание,год': '1878'},\n    65: {'Статусгорода,год': '1922'},\n    '12': {'№': '12'},\n    67: {'Название': 'Михайловск'},\n    68: {'район / город краевого значения[7]': 'Шпаковский район'},\n    69: {'муниципальный / городской округ[8]': 'Шпаковский МО'},\n    70: {'Основание / первое упоминание,год': '1784'},\n    71: {'Статусгорода,год': '1999'},\n    '13': {'№': '13'},\n    73: {'Название': 'Невинномысск'},\n    74: {'район / город краевого значения[7]': 'Невинномысск'},\n    75: {'муниципальный / городской округ[8]': 'Невинномысск, ГО'},\n    76: {'Основание / первое упоминание,год': '1825'},\n    77: {'Статусгорода,год': '1939'},\n    '14': {'№': '14'},\n    79: {'Название': 'Нефтекумск'},\n    80: {'район / город краевого значения[7]': 'Нефтекумский район'},\n    81: {'муниципальный / городской округ[8]': 'Нефтекумский ГО'},\n    82: {'Основание / первое упоминание,год': '1958'},\n    83: {'Статусгорода,год': '1968'},\n    '15': {'№': '15'},\n    85: {'Название': 'Новоалександровск'},\n    86: {'район / город краевого значения[7]': 'Новоалександровский район'},\n    87: {'муниципальный / городской округ[8]': 'Новоалександровский ГО'},\n    88: {'Основание / первое упоминание,год': '1804'},\n    89: {'Статусгорода,год': '1971'},\n    '16': {'№': '16'},\n    91: {'Название': 'Новопавловск'},\n    92: {'район / город краевого значения[7]': 'Кировский район'},\n    93: {'муниципальный / городской округ[8]': 'Кировский ГО'},\n    94: {'Основание / первое упоминание,год': '1777'},\n    95: {'Статусгорода,год': '1981'},\n    '17': {'№': '17'},\n    97: {'Название': 'Пятигорск'},\n    98: {'район / город краевого значения[7]': 'Пятигорск'},\n    99: {'муниципальный / городской округ[8]': 'Пятигорск, ГО'},\n    100: {'Основание / первое упоминание,год': '1780'},\n    101: {'Статусгорода,год': '1830'},\n    '18': {'№': '18'},\n    103: {'Название': 'Светлоград'},\n    104: {'район / город краевого значения[7]': 'Петровский район'},\n    105: {'муниципальный / городской округ[8]': 'Петровский ГО'},\n    106: {'Основание / первое упоминание,год': '1786'},\n    107: {'Статусгорода,год': '1965'},\n    '19': {'№': '19'},\n    109: {'Название': 'Ставрополь'},\n    110: {'район / город краевого значения[7]': 'Ставрополь'},\n    111: {'муниципальный / городской округ[8]': 'Ставрополь, ГО'},\n    112: {'Основание / первое упоминание,год': '1777'},\n    113: {'Статусгорода,год': '1785'}}}}]"
     },
     "execution_count": 20,
     "metadata": {},
     "output_type": "execute_result"
    }
   ],
   "source": [
    "with open(\"data/parsing-wiki.json\", \"w\") as f:\n",
    "    json.dump(all_cities_categories, f, indent=4, separators=(',', ': '), ensure_ascii=False)\n",
    "all_cities_categories"
   ],
   "metadata": {
    "collapsed": false,
    "pycharm": {
     "name": "#%%\n"
    }
   }
  },
  {
   "cell_type": "code",
   "execution_count": 21,
   "outputs": [],
   "source": [
    "def dataframe_category_cities(dataset_cities):\n",
    "    work_dataset = dataset_cities[\"Города\"]\n",
    "\n",
    "    # 1 шаг — избавление от строковых ключей\n",
    "    sc_after = {key: work_dataset[key] for key in work_dataset.keys() if type(key) is not str}\n",
    "\n",
    "    # 2 шаг — выделение полей и атрибутов\n",
    "    dict_data = {list(sc_after[i].keys())[0]: [] for i in sc_after.keys()}\n",
    "    for num, dc in sc_after.items():\n",
    "        key = list(dc.items())[0][0]\n",
    "        dict_data[key] += [sc_after[num][key]]\n",
    "\n",
    "    # 3 шаг — создание датафрейма Pandas и вывод пользователю\n",
    "    dataframe = pd.DataFrame(dict_data)\n",
    "    dataframe.index += 1\n",
    "    return dataframe"
   ],
   "metadata": {
    "collapsed": false,
    "pycharm": {
     "name": "#%%\n"
    }
   }
  },
  {
   "cell_type": "code",
   "execution_count": 22,
   "outputs": [
    {
     "data": {
      "text/plain": "['Города Самарской области',\n 'Города в составе Санкт-Петербурга',\n 'Города Саратовской области',\n 'Города Сахалинской области',\n 'Города Свердловской области',\n 'Города в составе Севастополя',\n 'Города Северной Осетии',\n 'Города Смоленской области',\n 'Города Ставропольского края']"
     },
     "execution_count": 22,
     "metadata": {},
     "output_type": "execute_result"
    }
   ],
   "source": [
    "[name[0] for name in need_lst]"
   ],
   "metadata": {
    "collapsed": false,
    "pycharm": {
     "name": "#%%\n"
    }
   }
  },
  {
   "cell_type": "code",
   "execution_count": 23,
   "outputs": [
    {
     "data": {
      "text/plain": "          название район / город  областного значения  \\\n1        Жигулёвск                          Жигулёвск   \n2           Кинель                             Кинель   \n3       Нефтегорск                 Нефтегорский район   \n4   Новокуйбышевск                     Новокуйбышевск   \n5        Октябрьск                          Октябрьск   \n6         Отрадный                           Отрадный   \n7      Похвистнево                        Похвистнево   \n8           Самара                             Самара   \n9          Сызрань                            Сызрань   \n10        Тольятти                           Тольятти   \n11        Чапаевск                           Чапаевск   \n\n   основание / первое упоминание статус города  \\\n1                           1949          1952   \n2                           1837          1944   \n3                           1960          1989   \n4                           1946          1952   \n5                           1684          1956   \n6                           1946          1956   \n7                           1888          1947   \n8                           1586          1688   \n9                           1683          1796   \n10                          1737          1780   \n11                          1909          1927   \n\n                         прежние названия  \n1                                   Пусто  \n2                                   Пусто  \n3                                   Пусто  \n4                                  Липяги  \n5                                 Батраки  \n6                                   Пусто  \n7                                   Пусто  \n8               с 1935 по 1991 — Куйбышев  \n9                                   Пусто  \n10                   до 1964 — Ставрополь  \n11  до 1918 — Иващенково\\nдо 1929 — Троцк  ",
      "text/html": "<div>\n<style scoped>\n    .dataframe tbody tr th:only-of-type {\n        vertical-align: middle;\n    }\n\n    .dataframe tbody tr th {\n        vertical-align: top;\n    }\n\n    .dataframe thead th {\n        text-align: right;\n    }\n</style>\n<table border=\"1\" class=\"dataframe\">\n  <thead>\n    <tr style=\"text-align: right;\">\n      <th></th>\n      <th>название</th>\n      <th>район / город  областного значения</th>\n      <th>основание / первое упоминание</th>\n      <th>статус города</th>\n      <th>прежние названия</th>\n    </tr>\n  </thead>\n  <tbody>\n    <tr>\n      <th>1</th>\n      <td>Жигулёвск</td>\n      <td>Жигулёвск</td>\n      <td>1949</td>\n      <td>1952</td>\n      <td>Пусто</td>\n    </tr>\n    <tr>\n      <th>2</th>\n      <td>Кинель</td>\n      <td>Кинель</td>\n      <td>1837</td>\n      <td>1944</td>\n      <td>Пусто</td>\n    </tr>\n    <tr>\n      <th>3</th>\n      <td>Нефтегорск</td>\n      <td>Нефтегорский район</td>\n      <td>1960</td>\n      <td>1989</td>\n      <td>Пусто</td>\n    </tr>\n    <tr>\n      <th>4</th>\n      <td>Новокуйбышевск</td>\n      <td>Новокуйбышевск</td>\n      <td>1946</td>\n      <td>1952</td>\n      <td>Липяги</td>\n    </tr>\n    <tr>\n      <th>5</th>\n      <td>Октябрьск</td>\n      <td>Октябрьск</td>\n      <td>1684</td>\n      <td>1956</td>\n      <td>Батраки</td>\n    </tr>\n    <tr>\n      <th>6</th>\n      <td>Отрадный</td>\n      <td>Отрадный</td>\n      <td>1946</td>\n      <td>1956</td>\n      <td>Пусто</td>\n    </tr>\n    <tr>\n      <th>7</th>\n      <td>Похвистнево</td>\n      <td>Похвистнево</td>\n      <td>1888</td>\n      <td>1947</td>\n      <td>Пусто</td>\n    </tr>\n    <tr>\n      <th>8</th>\n      <td>Самара</td>\n      <td>Самара</td>\n      <td>1586</td>\n      <td>1688</td>\n      <td>с 1935 по 1991 — Куйбышев</td>\n    </tr>\n    <tr>\n      <th>9</th>\n      <td>Сызрань</td>\n      <td>Сызрань</td>\n      <td>1683</td>\n      <td>1796</td>\n      <td>Пусто</td>\n    </tr>\n    <tr>\n      <th>10</th>\n      <td>Тольятти</td>\n      <td>Тольятти</td>\n      <td>1737</td>\n      <td>1780</td>\n      <td>до 1964 — Ставрополь</td>\n    </tr>\n    <tr>\n      <th>11</th>\n      <td>Чапаевск</td>\n      <td>Чапаевск</td>\n      <td>1909</td>\n      <td>1927</td>\n      <td>до 1918 — Иващенково\\nдо 1929 — Троцк</td>\n    </tr>\n  </tbody>\n</table>\n</div>"
     },
     "execution_count": 23,
     "metadata": {},
     "output_type": "execute_result"
    }
   ],
   "source": [
    "#dataframe_category_cities(all_cities_categories[0]['Города Самарской области']).to_csv('data/samara.csv', encoding='utf-8', index=False)\n",
    "dataframe_category_cities(all_cities_categories[0]['Города Самарской области'])"
   ],
   "metadata": {
    "collapsed": false,
    "pycharm": {
     "name": "#%%\n"
    }
   }
  },
  {
   "cell_type": "code",
   "execution_count": 24,
   "outputs": [
    {
     "data": {
      "text/plain": "                        Название\n1  Зеленогорск (Санкт-Петербург)\n2                        Колпино\n3                   Красное Село\n4                      Кронштадт\n5              Ломоносов (город)\n6     Павловск (Санкт-Петербург)\n7                       Петергоф\n8                 Пушкин (город)\n9                     Сестрорецк",
      "text/html": "<div>\n<style scoped>\n    .dataframe tbody tr th:only-of-type {\n        vertical-align: middle;\n    }\n\n    .dataframe tbody tr th {\n        vertical-align: top;\n    }\n\n    .dataframe thead th {\n        text-align: right;\n    }\n</style>\n<table border=\"1\" class=\"dataframe\">\n  <thead>\n    <tr style=\"text-align: right;\">\n      <th></th>\n      <th>Название</th>\n    </tr>\n  </thead>\n  <tbody>\n    <tr>\n      <th>1</th>\n      <td>Зеленогорск (Санкт-Петербург)</td>\n    </tr>\n    <tr>\n      <th>2</th>\n      <td>Колпино</td>\n    </tr>\n    <tr>\n      <th>3</th>\n      <td>Красное Село</td>\n    </tr>\n    <tr>\n      <th>4</th>\n      <td>Кронштадт</td>\n    </tr>\n    <tr>\n      <th>5</th>\n      <td>Ломоносов (город)</td>\n    </tr>\n    <tr>\n      <th>6</th>\n      <td>Павловск (Санкт-Петербург)</td>\n    </tr>\n    <tr>\n      <th>7</th>\n      <td>Петергоф</td>\n    </tr>\n    <tr>\n      <th>8</th>\n      <td>Пушкин (город)</td>\n    </tr>\n    <tr>\n      <th>9</th>\n      <td>Сестрорецк</td>\n    </tr>\n  </tbody>\n</table>\n</div>"
     },
     "execution_count": 24,
     "metadata": {},
     "output_type": "execute_result"
    }
   ],
   "source": [
    "#dataframe_category_cities(all_cities_categories[1]['Города в составе Санкт-Петербурга']).to_excel('data/piter.xlsx', encoding='utf-8', index=False)\n",
    "dataframe_category_cities(all_cities_categories[1]['Города в составе Санкт-Петербурга'])"
   ],
   "metadata": {
    "collapsed": false,
    "pycharm": {
     "name": "#%%\n"
    }
   }
  },
  {
   "cell_type": "code",
   "execution_count": 25,
   "outputs": [
    {
     "data": {
      "text/plain": "         название район[4] / город областного значения[5]  \\\n1         Аркадак                       Аркадакский район   \n2         Аткарск                         Аткарский район   \n3        Балаково                       Балаковский район   \n4         Балашов                       Балашовский район   \n5          Вольск                          Вольский район   \n6           Ершов                         Ершовский район   \n7       Калининск                       Калининский район   \n8   Красноармейск                   Красноармейский район   \n9     Красный Кут                     Краснокутский район   \n10          Маркс                       Марксовский район   \n11     Новоузенск                      Новоузенский район   \n12       Петровск                        Петровский район   \n13        Пугачёв                       Пугачёвский район   \n14        Ртищево                        Ртищевский район   \n15        Саратов              город Саратов (ГО Саратов)   \n16       Хвалынск                        Хвалынский район   \n17         Шиханы                       город Шиханы (ГО)   \n18        Энгельс                       Энгельсский район   \n\n   основание / первое упоминание статус города  \\\n1                           1721          1963   \n2                      XVIII век          1780   \n3                           1762          1911   \n4                      XVIII век          1780   \n5                           1690          1780   \n6                           1893          1963   \n7                           1680          1962   \n8                           1768          1918   \n9                           1837          1966   \n10                          1765          1918   \n11                          1760          1835   \n12                          1698          1780   \n13                          1764          1835   \n14                          1666          1925   \n15                          1590          1590   \n16                          1556          1780   \n17                          1928          1996   \n18                          1747          1914   \n\n                                     прежние названия  \n1                                               Пусто  \n2                                               Пусто  \n3                                               Пусто  \n4                                               Пусто  \n5                                               Пусто  \n6                                               Пусто  \n7                                   до 1962 — Баланда  \n8            до 1925 — Голый Карамышдо 1942 — Бальцер  \n9                                               Пусто  \n10  до 1915 — Екатериненштадт (Баронск)с 1915 по 1...  \n11                                ЧертанлаНовый Узень  \n12                                              Пусто  \n13                               до 1918 — Николаевск  \n14                               до 1723 — Покровское  \n15                                              Пусто  \n16        до 1606 — Сосновкадо 1780 — Сосновый остров  \n17                                              Пусто  \n18     до 1914 — Покровская слободадо 1931 — Покровск  ",
      "text/html": "<div>\n<style scoped>\n    .dataframe tbody tr th:only-of-type {\n        vertical-align: middle;\n    }\n\n    .dataframe tbody tr th {\n        vertical-align: top;\n    }\n\n    .dataframe thead th {\n        text-align: right;\n    }\n</style>\n<table border=\"1\" class=\"dataframe\">\n  <thead>\n    <tr style=\"text-align: right;\">\n      <th></th>\n      <th>название</th>\n      <th>район[4] / город областного значения[5]</th>\n      <th>основание / первое упоминание</th>\n      <th>статус города</th>\n      <th>прежние названия</th>\n    </tr>\n  </thead>\n  <tbody>\n    <tr>\n      <th>1</th>\n      <td>Аркадак</td>\n      <td>Аркадакский район</td>\n      <td>1721</td>\n      <td>1963</td>\n      <td>Пусто</td>\n    </tr>\n    <tr>\n      <th>2</th>\n      <td>Аткарск</td>\n      <td>Аткарский район</td>\n      <td>XVIII век</td>\n      <td>1780</td>\n      <td>Пусто</td>\n    </tr>\n    <tr>\n      <th>3</th>\n      <td>Балаково</td>\n      <td>Балаковский район</td>\n      <td>1762</td>\n      <td>1911</td>\n      <td>Пусто</td>\n    </tr>\n    <tr>\n      <th>4</th>\n      <td>Балашов</td>\n      <td>Балашовский район</td>\n      <td>XVIII век</td>\n      <td>1780</td>\n      <td>Пусто</td>\n    </tr>\n    <tr>\n      <th>5</th>\n      <td>Вольск</td>\n      <td>Вольский район</td>\n      <td>1690</td>\n      <td>1780</td>\n      <td>Пусто</td>\n    </tr>\n    <tr>\n      <th>6</th>\n      <td>Ершов</td>\n      <td>Ершовский район</td>\n      <td>1893</td>\n      <td>1963</td>\n      <td>Пусто</td>\n    </tr>\n    <tr>\n      <th>7</th>\n      <td>Калининск</td>\n      <td>Калининский район</td>\n      <td>1680</td>\n      <td>1962</td>\n      <td>до 1962 — Баланда</td>\n    </tr>\n    <tr>\n      <th>8</th>\n      <td>Красноармейск</td>\n      <td>Красноармейский район</td>\n      <td>1768</td>\n      <td>1918</td>\n      <td>до 1925 — Голый Карамышдо 1942 — Бальцер</td>\n    </tr>\n    <tr>\n      <th>9</th>\n      <td>Красный Кут</td>\n      <td>Краснокутский район</td>\n      <td>1837</td>\n      <td>1966</td>\n      <td>Пусто</td>\n    </tr>\n    <tr>\n      <th>10</th>\n      <td>Маркс</td>\n      <td>Марксовский район</td>\n      <td>1765</td>\n      <td>1918</td>\n      <td>до 1915 — Екатериненштадт (Баронск)с 1915 по 1...</td>\n    </tr>\n    <tr>\n      <th>11</th>\n      <td>Новоузенск</td>\n      <td>Новоузенский район</td>\n      <td>1760</td>\n      <td>1835</td>\n      <td>ЧертанлаНовый Узень</td>\n    </tr>\n    <tr>\n      <th>12</th>\n      <td>Петровск</td>\n      <td>Петровский район</td>\n      <td>1698</td>\n      <td>1780</td>\n      <td>Пусто</td>\n    </tr>\n    <tr>\n      <th>13</th>\n      <td>Пугачёв</td>\n      <td>Пугачёвский район</td>\n      <td>1764</td>\n      <td>1835</td>\n      <td>до 1918 — Николаевск</td>\n    </tr>\n    <tr>\n      <th>14</th>\n      <td>Ртищево</td>\n      <td>Ртищевский район</td>\n      <td>1666</td>\n      <td>1925</td>\n      <td>до 1723 — Покровское</td>\n    </tr>\n    <tr>\n      <th>15</th>\n      <td>Саратов</td>\n      <td>город Саратов (ГО Саратов)</td>\n      <td>1590</td>\n      <td>1590</td>\n      <td>Пусто</td>\n    </tr>\n    <tr>\n      <th>16</th>\n      <td>Хвалынск</td>\n      <td>Хвалынский район</td>\n      <td>1556</td>\n      <td>1780</td>\n      <td>до 1606 — Сосновкадо 1780 — Сосновый остров</td>\n    </tr>\n    <tr>\n      <th>17</th>\n      <td>Шиханы</td>\n      <td>город Шиханы (ГО)</td>\n      <td>1928</td>\n      <td>1996</td>\n      <td>Пусто</td>\n    </tr>\n    <tr>\n      <th>18</th>\n      <td>Энгельс</td>\n      <td>Энгельсский район</td>\n      <td>1747</td>\n      <td>1914</td>\n      <td>до 1914 — Покровская слободадо 1931 — Покровск</td>\n    </tr>\n  </tbody>\n</table>\n</div>"
     },
     "execution_count": 25,
     "metadata": {},
     "output_type": "execute_result"
    }
   ],
   "source": [
    "#dataframe_category_cities(all_cities_categories[2]['Города Саратовской области']).to_csv('data/saratov.csv', encoding='utf-8', index=False)\n",
    "dataframe_category_cities(all_cities_categories[2]['Города Саратовской области'])"
   ],
   "metadata": {
    "collapsed": false,
    "pycharm": {
     "name": "#%%\n"
    }
   }
  },
  {
   "cell_type": "code",
   "execution_count": 26,
   "outputs": [
    {
     "data": {
      "text/plain": "                     название район / город  областного значения[4]  \\\n1   Александровск-Сахалинский       Александровск-Сахалинский район   \n2                       Анива                        Анивский район   \n3                     Долинск                       Долинский район   \n4                    Корсаков                    Корсаковский район   \n5                    Курильск                      Курильский район   \n6                     Макаров                     Макаровский район   \n7                    Невельск                      Невельский район   \n8                         Оха                        Охинский район   \n9                   Поронайск                     Поронайский район   \n10            Северо-Курильск               Северо-Курильский район   \n11                     Томари                     Томаринский район   \n12                  Углегорск                     Углегорский район   \n13                     Холмск                        Холмский район   \n14             Южно-Сахалинск                  город Южно-Сахалинск   \n\n                                  городской округ[5]  \\\n1   Александровск-Сахалинский район, городской округ   \n2                           Анивский городской округ   \n3                        городской округ «Долинский»   \n4                       Корсаковский городской округ   \n5                         Курильский городской округ   \n6                        Макаровский городской округ   \n7                         Невельский городской округ   \n8                         городской округ «Охинский»   \n9                        Поронайский городской округ   \n10                 Северо-Курильский городской округ   \n11                       Томаринский городской округ   \n12                       Углегорский городской округ   \n13                          Холмский городской округ   \n14             город Южно-Сахалинск, городской округ   \n\n   основание / первое упоминание статус города  \\\n1                           1869          1917   \n2                           1886          1947   \n3                           1884          1922   \n4                           1853          1907   \n5                      XVIII век          1947   \n6                           1892          1947   \n7                           1789          1946   \n8                           1908          1938   \n9                           1869          1946   \n10                          1898          1947   \n11                          1870          1947   \n12                        XX век          1946   \n13                          1870          1922   \n14                          1882          1915   \n\n                                     прежние названия  \n1                      до 1926 — Александровский пост  \n2                    до 1905 — Лютогадо 1946 — Рутака  \n3           до 1905 — Галкино-Врасскоедо 1946 — Отиай  \n4   до 1854 — Муравьёвский постдо 1905 — Корсаковс...  \n5                                      до 1946 — Сяна  \n6                до 1905 — Селюторадо 1946 — Сиритору  \n7                                     до 1946 — Хонто  \n8                                               Пусто  \n9         до 1905 — пост Тихменевскийдо 1946 — Сикука  \n10                               до 1946 — Касивабара  \n11                                до 1946 — Томариору  \n12                                  до 1946 — Эсутору  \n13                до 1905 — пост Маукадо 1946 — Маока  \n14            до 1905 — Владимировкадо 1946 — Тоёхара  ",
      "text/html": "<div>\n<style scoped>\n    .dataframe tbody tr th:only-of-type {\n        vertical-align: middle;\n    }\n\n    .dataframe tbody tr th {\n        vertical-align: top;\n    }\n\n    .dataframe thead th {\n        text-align: right;\n    }\n</style>\n<table border=\"1\" class=\"dataframe\">\n  <thead>\n    <tr style=\"text-align: right;\">\n      <th></th>\n      <th>название</th>\n      <th>район / город  областного значения[4]</th>\n      <th>городской округ[5]</th>\n      <th>основание / первое упоминание</th>\n      <th>статус города</th>\n      <th>прежние названия</th>\n    </tr>\n  </thead>\n  <tbody>\n    <tr>\n      <th>1</th>\n      <td>Александровск-Сахалинский</td>\n      <td>Александровск-Сахалинский район</td>\n      <td>Александровск-Сахалинский район, городской округ</td>\n      <td>1869</td>\n      <td>1917</td>\n      <td>до 1926 — Александровский пост</td>\n    </tr>\n    <tr>\n      <th>2</th>\n      <td>Анива</td>\n      <td>Анивский район</td>\n      <td>Анивский городской округ</td>\n      <td>1886</td>\n      <td>1947</td>\n      <td>до 1905 — Лютогадо 1946 — Рутака</td>\n    </tr>\n    <tr>\n      <th>3</th>\n      <td>Долинск</td>\n      <td>Долинский район</td>\n      <td>городской округ «Долинский»</td>\n      <td>1884</td>\n      <td>1922</td>\n      <td>до 1905 — Галкино-Врасскоедо 1946 — Отиай</td>\n    </tr>\n    <tr>\n      <th>4</th>\n      <td>Корсаков</td>\n      <td>Корсаковский район</td>\n      <td>Корсаковский городской округ</td>\n      <td>1853</td>\n      <td>1907</td>\n      <td>до 1854 — Муравьёвский постдо 1905 — Корсаковс...</td>\n    </tr>\n    <tr>\n      <th>5</th>\n      <td>Курильск</td>\n      <td>Курильский район</td>\n      <td>Курильский городской округ</td>\n      <td>XVIII век</td>\n      <td>1947</td>\n      <td>до 1946 — Сяна</td>\n    </tr>\n    <tr>\n      <th>6</th>\n      <td>Макаров</td>\n      <td>Макаровский район</td>\n      <td>Макаровский городской округ</td>\n      <td>1892</td>\n      <td>1947</td>\n      <td>до 1905 — Селюторадо 1946 — Сиритору</td>\n    </tr>\n    <tr>\n      <th>7</th>\n      <td>Невельск</td>\n      <td>Невельский район</td>\n      <td>Невельский городской округ</td>\n      <td>1789</td>\n      <td>1946</td>\n      <td>до 1946 — Хонто</td>\n    </tr>\n    <tr>\n      <th>8</th>\n      <td>Оха</td>\n      <td>Охинский район</td>\n      <td>городской округ «Охинский»</td>\n      <td>1908</td>\n      <td>1938</td>\n      <td>Пусто</td>\n    </tr>\n    <tr>\n      <th>9</th>\n      <td>Поронайск</td>\n      <td>Поронайский район</td>\n      <td>Поронайский городской округ</td>\n      <td>1869</td>\n      <td>1946</td>\n      <td>до 1905 — пост Тихменевскийдо 1946 — Сикука</td>\n    </tr>\n    <tr>\n      <th>10</th>\n      <td>Северо-Курильск</td>\n      <td>Северо-Курильский район</td>\n      <td>Северо-Курильский городской округ</td>\n      <td>1898</td>\n      <td>1947</td>\n      <td>до 1946 — Касивабара</td>\n    </tr>\n    <tr>\n      <th>11</th>\n      <td>Томари</td>\n      <td>Томаринский район</td>\n      <td>Томаринский городской округ</td>\n      <td>1870</td>\n      <td>1947</td>\n      <td>до 1946 — Томариору</td>\n    </tr>\n    <tr>\n      <th>12</th>\n      <td>Углегорск</td>\n      <td>Углегорский район</td>\n      <td>Углегорский городской округ</td>\n      <td>XX век</td>\n      <td>1946</td>\n      <td>до 1946 — Эсутору</td>\n    </tr>\n    <tr>\n      <th>13</th>\n      <td>Холмск</td>\n      <td>Холмский район</td>\n      <td>Холмский городской округ</td>\n      <td>1870</td>\n      <td>1922</td>\n      <td>до 1905 — пост Маукадо 1946 — Маока</td>\n    </tr>\n    <tr>\n      <th>14</th>\n      <td>Южно-Сахалинск</td>\n      <td>город Южно-Сахалинск</td>\n      <td>город Южно-Сахалинск, городской округ</td>\n      <td>1882</td>\n      <td>1915</td>\n      <td>до 1905 — Владимировкадо 1946 — Тоёхара</td>\n    </tr>\n  </tbody>\n</table>\n</div>"
     },
     "execution_count": 26,
     "metadata": {},
     "output_type": "execute_result"
    }
   ],
   "source": [
    "#dataframe_category_cities(all_cities_categories[3]['Города Сахалинской области']).to_csv('data/sakhalin.csv', encoding='utf-8', index=False)\n",
    "dataframe_category_cities(all_cities_categories[3]['Города Сахалинской области'])"
   ],
   "metadata": {
    "collapsed": false,
    "pycharm": {
     "name": "#%%\n"
    }
   }
  },
  {
   "cell_type": "code",
   "execution_count": 27,
   "outputs": [
    {
     "data": {
      "text/plain": "             название административно-территориальная единица[7]  \\\n1        Екатеринбург                         город Екатеринбург   \n2           Алапаевск                            город Алапаевск   \n3             Арамиль                           Сысертский район   \n4         Артёмовский                          Артёмовский район   \n5              Асбест                               город Асбест   \n6         Берёзовский                          город Берёзовский   \n7          Богданович                       Богдановичский район   \n8       Верхний Тагил                            город Кировград   \n9       Верхняя Пышма                        город Верхняя Пышма   \n10      Верхняя Салда                     Верхнесалдинский район   \n11       Верхняя Тура                                город Кушва   \n12         Верхотурье                         Верхотурский район   \n13           Волчанск                             город Карпинск   \n14           Дегтярск                                город Ревда   \n15           Заречный                             город Заречный   \n16             Ивдель                               город Ивдель   \n17              Ирбит                                город Ирбит   \n18  Каменск-Уральский                    город Каменск-Уральский   \n19           Камышлов                             город Камышлов   \n20           Карпинск                             город Карпинск   \n21           Качканар                             город Качканар   \n22          Кировград                            город Кировград   \n23     Краснотурьинск                       город Краснотурьинск   \n24      Красноуральск                        город Красноуральск   \n25       Красноуфимск                         город Красноуфимск   \n26              Кушва                                город Кушва   \n27             Лесной                          ЗАТО город Лесной   \n28         Михайловск                      Нижнесергинский район   \n29           Невьянск                           Невьянский район   \n30       Нижние Серги                      Нижнесергинский район   \n31       Нижний Тагил                         город Нижний Тагил   \n32       Нижняя Салда                         город Нижняя Салда   \n33        Нижняя Тура                          город Нижняя Тура   \n34         Новая Ляля                        Новолялинский район   \n35        Новоуральск                     ЗАТО город Новоуральск   \n36       Первоуральск                         город Первоуральск   \n37          Полевской                            город Полевской   \n38              Ревда                                город Ревда   \n39                Реж                            Режевский район   \n40      Североуральск                        город Североуральск   \n41              Серов                                город Серов   \n42      Среднеуральск                        город Верхняя Пышма   \n43          Сухой Лог                          Сухоложский район   \n44            Сысерть                           Сысертский район   \n45              Тавда                           Тавдинский район   \n46             Талица                             Талицкий район   \n47            Туринск                            Туринский район   \n\n         муниципальное образование[8] основание города статус города  \n1   мун. обр. город Екатеринбург (ГО)             1723          1781  \n2      мун. обр. город Алапаевск (ГО)             1639          1781  \n3                      Арамильский ГО             1675          1966  \n4                      Артёмовский ГО             1665          1938  \n5                     Асбестовский ГО             1889          1933  \n6                      Берёзовский ГО             1748          1938  \n7                       ГО Богданович             1885          1947  \n8                    ГО Верхний Тагил             1716          1966  \n9                    ГО Верхняя Пышма             1854          1946  \n10                Верхнесалдинский ГО             1778          1938  \n11              ГО город Верхняя Тура             1737          1941  \n12                    ГО Верхотурский             1597          1597  \n13                      Волчанский ГО             1900          1956  \n14                        ГО Дегтярск             1914          1954  \n15                        ГО Заречный             1955          1992  \n16                      Ивдельский ГО             1831          1943  \n17                     ГО город Ирбит             1631          1775  \n18               Каменск-Уральский ГО             1701          1935  \n19                    Камышловский ГО             1668          1781  \n20                        ГО Карпинск             1759          1941  \n21                    Качканарский ГО             1957          1968  \n22                   Кировградский ГО             1661          1932  \n23                  ГО Краснотурьинск             1758          1944  \n24                   ГО Красноуральск             1925          1932  \n25                    ГО Красноуфимск             1736          1781  \n26                      Кушвинский ГО             1735          1925  \n27                    ГО город Лесной             1947          1954  \n28              Нижнесергинский МР[5]             1805          1961  \n29                      Невьянский ГО             1701          1919  \n30              Нижнесергинский МР[6]             1743          1943  \n31              ГО город Нижний Тагил             1722          1919  \n32                    ГО Нижняя Салда             1760          1938  \n33                  Нижнетуринский ГО             1754          1949  \n34                   Новолялинский ГО             1903          1938  \n35                   Новоуральский ГО             1941          1954  \n36                    ГО Первоуральск             1732          1933  \n37                       Полевской ГО             1718          1942  \n38                           ГО Ревда             1734          1935  \n39                       Режевской ГО             1773          1943  \n40                 Североуральский ГО             1758          1944  \n41                       Серовский ГО             1893          1926  \n42                   ГО Среднеуральск             1931          1966  \n43                       ГО Сухой Лог             1710          1943  \n44                      Сысертский ГО             1732          1946  \n45                      Тавдинский ГО             1910          1937  \n46                        Талицкий ГО             1732          1942  \n47                       Туринский ГО             1600          1600  ",
      "text/html": "<div>\n<style scoped>\n    .dataframe tbody tr th:only-of-type {\n        vertical-align: middle;\n    }\n\n    .dataframe tbody tr th {\n        vertical-align: top;\n    }\n\n    .dataframe thead th {\n        text-align: right;\n    }\n</style>\n<table border=\"1\" class=\"dataframe\">\n  <thead>\n    <tr style=\"text-align: right;\">\n      <th></th>\n      <th>название</th>\n      <th>административно-территориальная единица[7]</th>\n      <th>муниципальное образование[8]</th>\n      <th>основание города</th>\n      <th>статус города</th>\n    </tr>\n  </thead>\n  <tbody>\n    <tr>\n      <th>1</th>\n      <td>Екатеринбург</td>\n      <td>город Екатеринбург</td>\n      <td>мун. обр. город Екатеринбург (ГО)</td>\n      <td>1723</td>\n      <td>1781</td>\n    </tr>\n    <tr>\n      <th>2</th>\n      <td>Алапаевск</td>\n      <td>город Алапаевск</td>\n      <td>мун. обр. город Алапаевск (ГО)</td>\n      <td>1639</td>\n      <td>1781</td>\n    </tr>\n    <tr>\n      <th>3</th>\n      <td>Арамиль</td>\n      <td>Сысертский район</td>\n      <td>Арамильский ГО</td>\n      <td>1675</td>\n      <td>1966</td>\n    </tr>\n    <tr>\n      <th>4</th>\n      <td>Артёмовский</td>\n      <td>Артёмовский район</td>\n      <td>Артёмовский ГО</td>\n      <td>1665</td>\n      <td>1938</td>\n    </tr>\n    <tr>\n      <th>5</th>\n      <td>Асбест</td>\n      <td>город Асбест</td>\n      <td>Асбестовский ГО</td>\n      <td>1889</td>\n      <td>1933</td>\n    </tr>\n    <tr>\n      <th>6</th>\n      <td>Берёзовский</td>\n      <td>город Берёзовский</td>\n      <td>Берёзовский ГО</td>\n      <td>1748</td>\n      <td>1938</td>\n    </tr>\n    <tr>\n      <th>7</th>\n      <td>Богданович</td>\n      <td>Богдановичский район</td>\n      <td>ГО Богданович</td>\n      <td>1885</td>\n      <td>1947</td>\n    </tr>\n    <tr>\n      <th>8</th>\n      <td>Верхний Тагил</td>\n      <td>город Кировград</td>\n      <td>ГО Верхний Тагил</td>\n      <td>1716</td>\n      <td>1966</td>\n    </tr>\n    <tr>\n      <th>9</th>\n      <td>Верхняя Пышма</td>\n      <td>город Верхняя Пышма</td>\n      <td>ГО Верхняя Пышма</td>\n      <td>1854</td>\n      <td>1946</td>\n    </tr>\n    <tr>\n      <th>10</th>\n      <td>Верхняя Салда</td>\n      <td>Верхнесалдинский район</td>\n      <td>Верхнесалдинский ГО</td>\n      <td>1778</td>\n      <td>1938</td>\n    </tr>\n    <tr>\n      <th>11</th>\n      <td>Верхняя Тура</td>\n      <td>город Кушва</td>\n      <td>ГО город Верхняя Тура</td>\n      <td>1737</td>\n      <td>1941</td>\n    </tr>\n    <tr>\n      <th>12</th>\n      <td>Верхотурье</td>\n      <td>Верхотурский район</td>\n      <td>ГО Верхотурский</td>\n      <td>1597</td>\n      <td>1597</td>\n    </tr>\n    <tr>\n      <th>13</th>\n      <td>Волчанск</td>\n      <td>город Карпинск</td>\n      <td>Волчанский ГО</td>\n      <td>1900</td>\n      <td>1956</td>\n    </tr>\n    <tr>\n      <th>14</th>\n      <td>Дегтярск</td>\n      <td>город Ревда</td>\n      <td>ГО Дегтярск</td>\n      <td>1914</td>\n      <td>1954</td>\n    </tr>\n    <tr>\n      <th>15</th>\n      <td>Заречный</td>\n      <td>город Заречный</td>\n      <td>ГО Заречный</td>\n      <td>1955</td>\n      <td>1992</td>\n    </tr>\n    <tr>\n      <th>16</th>\n      <td>Ивдель</td>\n      <td>город Ивдель</td>\n      <td>Ивдельский ГО</td>\n      <td>1831</td>\n      <td>1943</td>\n    </tr>\n    <tr>\n      <th>17</th>\n      <td>Ирбит</td>\n      <td>город Ирбит</td>\n      <td>ГО город Ирбит</td>\n      <td>1631</td>\n      <td>1775</td>\n    </tr>\n    <tr>\n      <th>18</th>\n      <td>Каменск-Уральский</td>\n      <td>город Каменск-Уральский</td>\n      <td>Каменск-Уральский ГО</td>\n      <td>1701</td>\n      <td>1935</td>\n    </tr>\n    <tr>\n      <th>19</th>\n      <td>Камышлов</td>\n      <td>город Камышлов</td>\n      <td>Камышловский ГО</td>\n      <td>1668</td>\n      <td>1781</td>\n    </tr>\n    <tr>\n      <th>20</th>\n      <td>Карпинск</td>\n      <td>город Карпинск</td>\n      <td>ГО Карпинск</td>\n      <td>1759</td>\n      <td>1941</td>\n    </tr>\n    <tr>\n      <th>21</th>\n      <td>Качканар</td>\n      <td>город Качканар</td>\n      <td>Качканарский ГО</td>\n      <td>1957</td>\n      <td>1968</td>\n    </tr>\n    <tr>\n      <th>22</th>\n      <td>Кировград</td>\n      <td>город Кировград</td>\n      <td>Кировградский ГО</td>\n      <td>1661</td>\n      <td>1932</td>\n    </tr>\n    <tr>\n      <th>23</th>\n      <td>Краснотурьинск</td>\n      <td>город Краснотурьинск</td>\n      <td>ГО Краснотурьинск</td>\n      <td>1758</td>\n      <td>1944</td>\n    </tr>\n    <tr>\n      <th>24</th>\n      <td>Красноуральск</td>\n      <td>город Красноуральск</td>\n      <td>ГО Красноуральск</td>\n      <td>1925</td>\n      <td>1932</td>\n    </tr>\n    <tr>\n      <th>25</th>\n      <td>Красноуфимск</td>\n      <td>город Красноуфимск</td>\n      <td>ГО Красноуфимск</td>\n      <td>1736</td>\n      <td>1781</td>\n    </tr>\n    <tr>\n      <th>26</th>\n      <td>Кушва</td>\n      <td>город Кушва</td>\n      <td>Кушвинский ГО</td>\n      <td>1735</td>\n      <td>1925</td>\n    </tr>\n    <tr>\n      <th>27</th>\n      <td>Лесной</td>\n      <td>ЗАТО город Лесной</td>\n      <td>ГО город Лесной</td>\n      <td>1947</td>\n      <td>1954</td>\n    </tr>\n    <tr>\n      <th>28</th>\n      <td>Михайловск</td>\n      <td>Нижнесергинский район</td>\n      <td>Нижнесергинский МР[5]</td>\n      <td>1805</td>\n      <td>1961</td>\n    </tr>\n    <tr>\n      <th>29</th>\n      <td>Невьянск</td>\n      <td>Невьянский район</td>\n      <td>Невьянский ГО</td>\n      <td>1701</td>\n      <td>1919</td>\n    </tr>\n    <tr>\n      <th>30</th>\n      <td>Нижние Серги</td>\n      <td>Нижнесергинский район</td>\n      <td>Нижнесергинский МР[6]</td>\n      <td>1743</td>\n      <td>1943</td>\n    </tr>\n    <tr>\n      <th>31</th>\n      <td>Нижний Тагил</td>\n      <td>город Нижний Тагил</td>\n      <td>ГО город Нижний Тагил</td>\n      <td>1722</td>\n      <td>1919</td>\n    </tr>\n    <tr>\n      <th>32</th>\n      <td>Нижняя Салда</td>\n      <td>город Нижняя Салда</td>\n      <td>ГО Нижняя Салда</td>\n      <td>1760</td>\n      <td>1938</td>\n    </tr>\n    <tr>\n      <th>33</th>\n      <td>Нижняя Тура</td>\n      <td>город Нижняя Тура</td>\n      <td>Нижнетуринский ГО</td>\n      <td>1754</td>\n      <td>1949</td>\n    </tr>\n    <tr>\n      <th>34</th>\n      <td>Новая Ляля</td>\n      <td>Новолялинский район</td>\n      <td>Новолялинский ГО</td>\n      <td>1903</td>\n      <td>1938</td>\n    </tr>\n    <tr>\n      <th>35</th>\n      <td>Новоуральск</td>\n      <td>ЗАТО город Новоуральск</td>\n      <td>Новоуральский ГО</td>\n      <td>1941</td>\n      <td>1954</td>\n    </tr>\n    <tr>\n      <th>36</th>\n      <td>Первоуральск</td>\n      <td>город Первоуральск</td>\n      <td>ГО Первоуральск</td>\n      <td>1732</td>\n      <td>1933</td>\n    </tr>\n    <tr>\n      <th>37</th>\n      <td>Полевской</td>\n      <td>город Полевской</td>\n      <td>Полевской ГО</td>\n      <td>1718</td>\n      <td>1942</td>\n    </tr>\n    <tr>\n      <th>38</th>\n      <td>Ревда</td>\n      <td>город Ревда</td>\n      <td>ГО Ревда</td>\n      <td>1734</td>\n      <td>1935</td>\n    </tr>\n    <tr>\n      <th>39</th>\n      <td>Реж</td>\n      <td>Режевский район</td>\n      <td>Режевской ГО</td>\n      <td>1773</td>\n      <td>1943</td>\n    </tr>\n    <tr>\n      <th>40</th>\n      <td>Североуральск</td>\n      <td>город Североуральск</td>\n      <td>Североуральский ГО</td>\n      <td>1758</td>\n      <td>1944</td>\n    </tr>\n    <tr>\n      <th>41</th>\n      <td>Серов</td>\n      <td>город Серов</td>\n      <td>Серовский ГО</td>\n      <td>1893</td>\n      <td>1926</td>\n    </tr>\n    <tr>\n      <th>42</th>\n      <td>Среднеуральск</td>\n      <td>город Верхняя Пышма</td>\n      <td>ГО Среднеуральск</td>\n      <td>1931</td>\n      <td>1966</td>\n    </tr>\n    <tr>\n      <th>43</th>\n      <td>Сухой Лог</td>\n      <td>Сухоложский район</td>\n      <td>ГО Сухой Лог</td>\n      <td>1710</td>\n      <td>1943</td>\n    </tr>\n    <tr>\n      <th>44</th>\n      <td>Сысерть</td>\n      <td>Сысертский район</td>\n      <td>Сысертский ГО</td>\n      <td>1732</td>\n      <td>1946</td>\n    </tr>\n    <tr>\n      <th>45</th>\n      <td>Тавда</td>\n      <td>Тавдинский район</td>\n      <td>Тавдинский ГО</td>\n      <td>1910</td>\n      <td>1937</td>\n    </tr>\n    <tr>\n      <th>46</th>\n      <td>Талица</td>\n      <td>Талицкий район</td>\n      <td>Талицкий ГО</td>\n      <td>1732</td>\n      <td>1942</td>\n    </tr>\n    <tr>\n      <th>47</th>\n      <td>Туринск</td>\n      <td>Туринский район</td>\n      <td>Туринский ГО</td>\n      <td>1600</td>\n      <td>1600</td>\n    </tr>\n  </tbody>\n</table>\n</div>"
     },
     "execution_count": 27,
     "metadata": {},
     "output_type": "execute_result"
    }
   ],
   "source": [
    "#dataframe_category_cities(all_cities_categories[4]['Города Свердловской области']).to_csv('data/sverdlovsk.csv', encoding='utf-8', index=False)\n",
    "dataframe_category_cities(all_cities_categories[4]['Города Свердловской области'])"
   ],
   "metadata": {
    "collapsed": false,
    "pycharm": {
     "name": "#%%\n"
    }
   }
  },
  {
   "cell_type": "code",
   "execution_count": 28,
   "outputs": [
    {
     "data": {
      "text/plain": "                      Название\n1  Википедия:Категоризация/FAQ\n2                    Балаклава\n3                     Инкерман",
      "text/html": "<div>\n<style scoped>\n    .dataframe tbody tr th:only-of-type {\n        vertical-align: middle;\n    }\n\n    .dataframe tbody tr th {\n        vertical-align: top;\n    }\n\n    .dataframe thead th {\n        text-align: right;\n    }\n</style>\n<table border=\"1\" class=\"dataframe\">\n  <thead>\n    <tr style=\"text-align: right;\">\n      <th></th>\n      <th>Название</th>\n    </tr>\n  </thead>\n  <tbody>\n    <tr>\n      <th>1</th>\n      <td>Википедия:Категоризация/FAQ</td>\n    </tr>\n    <tr>\n      <th>2</th>\n      <td>Балаклава</td>\n    </tr>\n    <tr>\n      <th>3</th>\n      <td>Инкерман</td>\n    </tr>\n  </tbody>\n</table>\n</div>"
     },
     "execution_count": 28,
     "metadata": {},
     "output_type": "execute_result"
    }
   ],
   "source": [
    "#dataframe_category_cities(all_cities_categories[5]['Города в составе Севастополя']).to_excel('data/sevastopol.xlsx', encoding='utf-8', index=False)\n",
    "dataframe_category_cities(all_cities_categories[5]['Города в составе Севастополя'])"
   ],
   "metadata": {
    "collapsed": false,
    "pycharm": {
     "name": "#%%\n"
    }
   }
  },
  {
   "cell_type": "code",
   "execution_count": 29,
   "outputs": [
    {
     "data": {
      "text/plain": "      название район/ город республиканского подчинения основан  \\\n1       Алагир                         Алагирский район    1850   \n2        Ардон                          Ардонский район    1823   \n3       Беслан                      Правобережный район    1847   \n4  Владикавказ                        город Владикавказ    1784   \n5       Дигора                          Дигорский район    1852   \n6    Заводской                        город Владикавказ   Пусто   \n7       Моздок                         Моздокский район    1763   \n\n  статусгорода/пгт  \n1             1938  \n2             1964  \n3             1950  \n4             1860  \n5             1962  \n6             1968  \n7             1785  ",
      "text/html": "<div>\n<style scoped>\n    .dataframe tbody tr th:only-of-type {\n        vertical-align: middle;\n    }\n\n    .dataframe tbody tr th {\n        vertical-align: top;\n    }\n\n    .dataframe thead th {\n        text-align: right;\n    }\n</style>\n<table border=\"1\" class=\"dataframe\">\n  <thead>\n    <tr style=\"text-align: right;\">\n      <th></th>\n      <th>название</th>\n      <th>район/ город республиканского подчинения</th>\n      <th>основан</th>\n      <th>статусгорода/пгт</th>\n    </tr>\n  </thead>\n  <tbody>\n    <tr>\n      <th>1</th>\n      <td>Алагир</td>\n      <td>Алагирский район</td>\n      <td>1850</td>\n      <td>1938</td>\n    </tr>\n    <tr>\n      <th>2</th>\n      <td>Ардон</td>\n      <td>Ардонский район</td>\n      <td>1823</td>\n      <td>1964</td>\n    </tr>\n    <tr>\n      <th>3</th>\n      <td>Беслан</td>\n      <td>Правобережный район</td>\n      <td>1847</td>\n      <td>1950</td>\n    </tr>\n    <tr>\n      <th>4</th>\n      <td>Владикавказ</td>\n      <td>город Владикавказ</td>\n      <td>1784</td>\n      <td>1860</td>\n    </tr>\n    <tr>\n      <th>5</th>\n      <td>Дигора</td>\n      <td>Дигорский район</td>\n      <td>1852</td>\n      <td>1962</td>\n    </tr>\n    <tr>\n      <th>6</th>\n      <td>Заводской</td>\n      <td>город Владикавказ</td>\n      <td>Пусто</td>\n      <td>1968</td>\n    </tr>\n    <tr>\n      <th>7</th>\n      <td>Моздок</td>\n      <td>Моздокский район</td>\n      <td>1763</td>\n      <td>1785</td>\n    </tr>\n  </tbody>\n</table>\n</div>"
     },
     "execution_count": 29,
     "metadata": {},
     "output_type": "execute_result"
    }
   ],
   "source": [
    "#dataframe_category_cities(all_cities_categories[6]['Города Северной Осетии']).to_csv('data/osetia.csv', encoding='utf-8', index=False)\n",
    "dataframe_category_cities(all_cities_categories[6]['Города Северной Осетии'])"
   ],
   "metadata": {
    "collapsed": false,
    "pycharm": {
     "name": "#%%\n"
    }
   }
  },
  {
   "cell_type": "code",
   "execution_count": 30,
   "outputs": [
    {
     "data": {
      "text/plain": "      Название Район[5] / город (вне района)[6] Основание / первое упоминание  \\\n1        Велиж                  Велижский район                          1536   \n2       Вязьма                  Вяземский район                          1239   \n3      Гагарин                Гагаринский район                          1705   \n4      Демидов                Демидовский район                          1499   \n5   Десногорск                 город Десногорск                          1974   \n6    Дорогобуж              Дорогобужский район                      XIII век   \n7    Духовщина               Духовщинский район                          1675   \n8        Ельня                 Ельнинский район                          1150   \n9      Починок               Починковский район                          1811   \n10    Рославль               Рославльский район                          1137   \n11       Рудня                 Руднянский район                          1363   \n12    Сафоново                Сафоновский район                          1859   \n13    Смоленск                   город Смоленск                           863   \n14     Сычёвка                  Сычёвский район                          1488   \n15      Ярцево                  Ярцевский район                          1610   \n\n   Статус города   Прежние названия  \n1           1776              Пусто  \n2           1776              Пусто  \n3           1776   Гжатск (до 1968)  \n4           1776  Поречье (до 1918)  \n5           1989              Пусто  \n6       XIII век              Пусто  \n7           1777              Пусто  \n8           1776              Пусто  \n9           1926              Пусто  \n10          1755        Ростиславль  \n11          1926              Пусто  \n12          1952              Пусто  \n13           863              Пусто  \n14          1776              Пусто  \n15          1926              Пусто  ",
      "text/html": "<div>\n<style scoped>\n    .dataframe tbody tr th:only-of-type {\n        vertical-align: middle;\n    }\n\n    .dataframe tbody tr th {\n        vertical-align: top;\n    }\n\n    .dataframe thead th {\n        text-align: right;\n    }\n</style>\n<table border=\"1\" class=\"dataframe\">\n  <thead>\n    <tr style=\"text-align: right;\">\n      <th></th>\n      <th>Название</th>\n      <th>Район[5] / город (вне района)[6]</th>\n      <th>Основание / первое упоминание</th>\n      <th>Статус города</th>\n      <th>Прежние названия</th>\n    </tr>\n  </thead>\n  <tbody>\n    <tr>\n      <th>1</th>\n      <td>Велиж</td>\n      <td>Велижский район</td>\n      <td>1536</td>\n      <td>1776</td>\n      <td>Пусто</td>\n    </tr>\n    <tr>\n      <th>2</th>\n      <td>Вязьма</td>\n      <td>Вяземский район</td>\n      <td>1239</td>\n      <td>1776</td>\n      <td>Пусто</td>\n    </tr>\n    <tr>\n      <th>3</th>\n      <td>Гагарин</td>\n      <td>Гагаринский район</td>\n      <td>1705</td>\n      <td>1776</td>\n      <td>Гжатск (до 1968)</td>\n    </tr>\n    <tr>\n      <th>4</th>\n      <td>Демидов</td>\n      <td>Демидовский район</td>\n      <td>1499</td>\n      <td>1776</td>\n      <td>Поречье (до 1918)</td>\n    </tr>\n    <tr>\n      <th>5</th>\n      <td>Десногорск</td>\n      <td>город Десногорск</td>\n      <td>1974</td>\n      <td>1989</td>\n      <td>Пусто</td>\n    </tr>\n    <tr>\n      <th>6</th>\n      <td>Дорогобуж</td>\n      <td>Дорогобужский район</td>\n      <td>XIII век</td>\n      <td>XIII век</td>\n      <td>Пусто</td>\n    </tr>\n    <tr>\n      <th>7</th>\n      <td>Духовщина</td>\n      <td>Духовщинский район</td>\n      <td>1675</td>\n      <td>1777</td>\n      <td>Пусто</td>\n    </tr>\n    <tr>\n      <th>8</th>\n      <td>Ельня</td>\n      <td>Ельнинский район</td>\n      <td>1150</td>\n      <td>1776</td>\n      <td>Пусто</td>\n    </tr>\n    <tr>\n      <th>9</th>\n      <td>Починок</td>\n      <td>Починковский район</td>\n      <td>1811</td>\n      <td>1926</td>\n      <td>Пусто</td>\n    </tr>\n    <tr>\n      <th>10</th>\n      <td>Рославль</td>\n      <td>Рославльский район</td>\n      <td>1137</td>\n      <td>1755</td>\n      <td>Ростиславль</td>\n    </tr>\n    <tr>\n      <th>11</th>\n      <td>Рудня</td>\n      <td>Руднянский район</td>\n      <td>1363</td>\n      <td>1926</td>\n      <td>Пусто</td>\n    </tr>\n    <tr>\n      <th>12</th>\n      <td>Сафоново</td>\n      <td>Сафоновский район</td>\n      <td>1859</td>\n      <td>1952</td>\n      <td>Пусто</td>\n    </tr>\n    <tr>\n      <th>13</th>\n      <td>Смоленск</td>\n      <td>город Смоленск</td>\n      <td>863</td>\n      <td>863</td>\n      <td>Пусто</td>\n    </tr>\n    <tr>\n      <th>14</th>\n      <td>Сычёвка</td>\n      <td>Сычёвский район</td>\n      <td>1488</td>\n      <td>1776</td>\n      <td>Пусто</td>\n    </tr>\n    <tr>\n      <th>15</th>\n      <td>Ярцево</td>\n      <td>Ярцевский район</td>\n      <td>1610</td>\n      <td>1926</td>\n      <td>Пусто</td>\n    </tr>\n  </tbody>\n</table>\n</div>"
     },
     "execution_count": 30,
     "metadata": {},
     "output_type": "execute_result"
    }
   ],
   "source": [
    "#dataframe_category_cities(all_cities_categories[7]['Города Смоленской области']).to_csv('data/smolensk.csv', encoding='utf-8', index=False)\n",
    "dataframe_category_cities(all_cities_categories[7]['Города Смоленской области'])"
   ],
   "metadata": {
    "collapsed": false,
    "pycharm": {
     "name": "#%%\n"
    }
   }
  },
  {
   "cell_type": "code",
   "execution_count": 31,
   "outputs": [
    {
     "data": {
      "text/plain": "             Название район / город краевого значения[7]  \\\n1         Благодарный              Благодарненский район   \n2          Будённовск                 Будённовский район   \n3          Георгиевск                 Георгиевский район   \n4           Ессентуки                          Ессентуки   \n5        Железноводск                       Железноводск   \n6         Зеленокумск                    Советский район   \n7          Изобильный               Изобильненский район   \n8             Ипатово                   Ипатовский район   \n9          Кисловодск                         Кисловодск   \n10          Лермонтов                          Лермонтов   \n11   Минеральные Воды              Минераловодский район   \n12         Михайловск                   Шпаковский район   \n13       Невинномысск                       Невинномысск   \n14         Нефтекумск                 Нефтекумский район   \n15  Новоалександровск          Новоалександровский район   \n16       Новопавловск                    Кировский район   \n17          Пятигорск                          Пятигорск   \n18         Светлоград                   Петровский район   \n19         Ставрополь                         Ставрополь   \n\n   муниципальный / городской округ[8] Основание / первое упоминание,год  \\\n1                  Благодарненский ГО                              1782   \n2                     Будённовский МО                              1799   \n3                     Георгиевский ГО                              1777   \n4                       Ессентуки, ГО                              1825   \n5                    Железноводск, ГО                              1810   \n6                        Советский ГО                              1781   \n7                   Изобильненский ГО                              1895   \n8                       Ипатовский ГО                              1860   \n9                      Кисловодск, ГО                              1803   \n10                      Лермонтов, ГО                              1953   \n11                 Минераловодский ГО                              1878   \n12                      Шпаковский МО                              1784   \n13                   Невинномысск, ГО                              1825   \n14                    Нефтекумский ГО                              1958   \n15             Новоалександровский ГО                              1804   \n16                       Кировский ГО                              1777   \n17                      Пятигорск, ГО                              1780   \n18                      Петровский ГО                              1786   \n19                     Ставрополь, ГО                              1777   \n\n   Статусгорода,год  \n1              1971  \n2              1799  \n3              1786  \n4              1917  \n5              1917  \n6              1965  \n7              1965  \n8              1979  \n9              1903  \n10             1956  \n11             1922  \n12             1999  \n13             1939  \n14             1968  \n15             1971  \n16             1981  \n17             1830  \n18             1965  \n19             1785  ",
      "text/html": "<div>\n<style scoped>\n    .dataframe tbody tr th:only-of-type {\n        vertical-align: middle;\n    }\n\n    .dataframe tbody tr th {\n        vertical-align: top;\n    }\n\n    .dataframe thead th {\n        text-align: right;\n    }\n</style>\n<table border=\"1\" class=\"dataframe\">\n  <thead>\n    <tr style=\"text-align: right;\">\n      <th></th>\n      <th>Название</th>\n      <th>район / город краевого значения[7]</th>\n      <th>муниципальный / городской округ[8]</th>\n      <th>Основание / первое упоминание,год</th>\n      <th>Статусгорода,год</th>\n    </tr>\n  </thead>\n  <tbody>\n    <tr>\n      <th>1</th>\n      <td>Благодарный</td>\n      <td>Благодарненский район</td>\n      <td>Благодарненский ГО</td>\n      <td>1782</td>\n      <td>1971</td>\n    </tr>\n    <tr>\n      <th>2</th>\n      <td>Будённовск</td>\n      <td>Будённовский район</td>\n      <td>Будённовский МО</td>\n      <td>1799</td>\n      <td>1799</td>\n    </tr>\n    <tr>\n      <th>3</th>\n      <td>Георгиевск</td>\n      <td>Георгиевский район</td>\n      <td>Георгиевский ГО</td>\n      <td>1777</td>\n      <td>1786</td>\n    </tr>\n    <tr>\n      <th>4</th>\n      <td>Ессентуки</td>\n      <td>Ессентуки</td>\n      <td>Ессентуки, ГО</td>\n      <td>1825</td>\n      <td>1917</td>\n    </tr>\n    <tr>\n      <th>5</th>\n      <td>Железноводск</td>\n      <td>Железноводск</td>\n      <td>Железноводск, ГО</td>\n      <td>1810</td>\n      <td>1917</td>\n    </tr>\n    <tr>\n      <th>6</th>\n      <td>Зеленокумск</td>\n      <td>Советский район</td>\n      <td>Советский ГО</td>\n      <td>1781</td>\n      <td>1965</td>\n    </tr>\n    <tr>\n      <th>7</th>\n      <td>Изобильный</td>\n      <td>Изобильненский район</td>\n      <td>Изобильненский ГО</td>\n      <td>1895</td>\n      <td>1965</td>\n    </tr>\n    <tr>\n      <th>8</th>\n      <td>Ипатово</td>\n      <td>Ипатовский район</td>\n      <td>Ипатовский ГО</td>\n      <td>1860</td>\n      <td>1979</td>\n    </tr>\n    <tr>\n      <th>9</th>\n      <td>Кисловодск</td>\n      <td>Кисловодск</td>\n      <td>Кисловодск, ГО</td>\n      <td>1803</td>\n      <td>1903</td>\n    </tr>\n    <tr>\n      <th>10</th>\n      <td>Лермонтов</td>\n      <td>Лермонтов</td>\n      <td>Лермонтов, ГО</td>\n      <td>1953</td>\n      <td>1956</td>\n    </tr>\n    <tr>\n      <th>11</th>\n      <td>Минеральные Воды</td>\n      <td>Минераловодский район</td>\n      <td>Минераловодский ГО</td>\n      <td>1878</td>\n      <td>1922</td>\n    </tr>\n    <tr>\n      <th>12</th>\n      <td>Михайловск</td>\n      <td>Шпаковский район</td>\n      <td>Шпаковский МО</td>\n      <td>1784</td>\n      <td>1999</td>\n    </tr>\n    <tr>\n      <th>13</th>\n      <td>Невинномысск</td>\n      <td>Невинномысск</td>\n      <td>Невинномысск, ГО</td>\n      <td>1825</td>\n      <td>1939</td>\n    </tr>\n    <tr>\n      <th>14</th>\n      <td>Нефтекумск</td>\n      <td>Нефтекумский район</td>\n      <td>Нефтекумский ГО</td>\n      <td>1958</td>\n      <td>1968</td>\n    </tr>\n    <tr>\n      <th>15</th>\n      <td>Новоалександровск</td>\n      <td>Новоалександровский район</td>\n      <td>Новоалександровский ГО</td>\n      <td>1804</td>\n      <td>1971</td>\n    </tr>\n    <tr>\n      <th>16</th>\n      <td>Новопавловск</td>\n      <td>Кировский район</td>\n      <td>Кировский ГО</td>\n      <td>1777</td>\n      <td>1981</td>\n    </tr>\n    <tr>\n      <th>17</th>\n      <td>Пятигорск</td>\n      <td>Пятигорск</td>\n      <td>Пятигорск, ГО</td>\n      <td>1780</td>\n      <td>1830</td>\n    </tr>\n    <tr>\n      <th>18</th>\n      <td>Светлоград</td>\n      <td>Петровский район</td>\n      <td>Петровский ГО</td>\n      <td>1786</td>\n      <td>1965</td>\n    </tr>\n    <tr>\n      <th>19</th>\n      <td>Ставрополь</td>\n      <td>Ставрополь</td>\n      <td>Ставрополь, ГО</td>\n      <td>1777</td>\n      <td>1785</td>\n    </tr>\n  </tbody>\n</table>\n</div>"
     },
     "execution_count": 31,
     "metadata": {},
     "output_type": "execute_result"
    }
   ],
   "source": [
    "#dataframe_category_cities(all_cities_categories[8]['Города Ставропольского края']).to_csv('data/stavropol.csv', encoding='utf-8', index=False)\n",
    "dataframe_category_cities(all_cities_categories[8]['Города Ставропольского края'])"
   ],
   "metadata": {
    "collapsed": false,
    "pycharm": {
     "name": "#%%\n"
    }
   }
  },
  {
   "cell_type": "code",
   "execution_count": null,
   "outputs": [],
   "source": [],
   "metadata": {
    "collapsed": false,
    "pycharm": {
     "name": "#%%\n"
    }
   }
  }
 ],
 "metadata": {
  "kernelspec": {
   "display_name": "Python 3",
   "language": "python",
   "name": "python3"
  },
  "language_info": {
   "codemirror_mode": {
    "name": "ipython",
    "version": 2
   },
   "file_extension": ".py",
   "mimetype": "text/x-python",
   "name": "python",
   "nbconvert_exporter": "python",
   "pygments_lexer": "ipython2",
   "version": "2.7.6"
  }
 },
 "nbformat": 4,
 "nbformat_minor": 0
}