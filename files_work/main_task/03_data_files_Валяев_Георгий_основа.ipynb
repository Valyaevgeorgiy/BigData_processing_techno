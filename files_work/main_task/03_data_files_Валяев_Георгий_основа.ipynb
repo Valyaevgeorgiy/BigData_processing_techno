{
 "cells": [
  {
   "cell_type": "markdown",
   "metadata": {
    "pycharm": {
     "name": "#%% md\n"
    }
   },
   "source": [
    "## Основные задачи для работы с различными расширениями файлов\n",
    "### (выполнил Валяев Георгий Анатольевич, студент группы ПИ20-6)"
   ]
  },
  {
   "cell_type": "markdown",
   "source": [
    "Датасеты:\n",
    "* addres-book.json\n",
    "* addres-book.xml\n",
    "* addres-book-q.xml"
   ],
   "metadata": {
    "collapsed": false,
    "pycharm": {
     "name": "#%% md\n"
    }
   }
  },
  {
   "cell_type": "code",
   "execution_count": 1,
   "outputs": [],
   "source": [
    "import json, requests\n",
    "from bs4 import BeautifulSoup\n",
    "import pandas as pd\n",
    "import pickle, os, shelve, time\n",
    "import numpy as np\n",
    "import xml.etree.ElementTree as xml"
   ],
   "metadata": {
    "collapsed": false,
    "pycharm": {
     "name": "#%%\n"
    }
   }
  },
  {
   "cell_type": "code",
   "execution_count": 21,
   "outputs": [
    {
     "name": "stdout",
     "output_type": "stream",
     "text": [
      "Requirement already satisfied: lxml in c:\\users\\admin\\appdata\\local\\programs\\python\\python310\\lib\\site-packages (4.9.1)\n"
     ]
    },
    {
     "name": "stderr",
     "output_type": "stream",
     "text": [
      "WARNING: You are using pip version 22.0.3; however, version 22.2.2 is available.\n",
      "You should consider upgrading via the 'C:\\Users\\admin\\AppData\\Local\\Programs\\Python\\Python310\\python.exe -m pip install --upgrade pip' command.\n"
     ]
    }
   ],
   "source": [
    "# библиотека для нормальной работы pandas с excel-файлами\n",
    "!pip3 install lxml"
   ],
   "metadata": {
    "collapsed": false,
    "pycharm": {
     "name": "#%%\n"
    }
   }
  },
  {
   "cell_type": "markdown",
   "metadata": {
    "pycharm": {
     "name": "#%% md\n"
    }
   },
   "source": [
    "# JSON\n",
    "\n",
    "* Работаем с файлом addres-book.json"
   ]
  },
  {
   "cell_type": "code",
   "execution_count": 2,
   "outputs": [
    {
     "data": {
      "text/plain": "[{'name': 'Faina Lee',\n  'email': 'faina@mail.ru',\n  'birthday': '22.08.1994',\n  'phones': [{'phone': '232-19-55'}, {'phone': '+7 (916) 232-19-55'}]},\n {'name': 'Robert Lee',\n  'email': 'robert@mail.ru',\n  'birthday': '22.08.1994',\n  'phones': [{'phone': '111-19-55'}, {'phone': '+7 (916) 445-19-55'}]}]"
     },
     "execution_count": 2,
     "metadata": {},
     "output_type": "execute_result"
    }
   ],
   "source": [
    "with open('addres-book.json', 'r', encoding='utf-8') as json_file:\n",
    "    data = json.load(json_file)\n",
    "data"
   ],
   "metadata": {
    "collapsed": false,
    "pycharm": {
     "name": "#%%\n"
    }
   }
  },
  {
   "cell_type": "markdown",
   "metadata": {
    "pycharm": {
     "name": "#%% md\n"
    }
   },
   "source": [
    "1) Вывести все адреса электронной почты, содржащиеся в адресной книге, имеющей структуру, аналогичную my_ab2."
   ]
  },
  {
   "cell_type": "code",
   "execution_count": 3,
   "outputs": [
    {
     "name": "stdout",
     "output_type": "stream",
     "text": [
      "faina@mail.ru\n",
      "robert@mail.ru\n"
     ]
    }
   ],
   "source": [
    "print(*[i['email'] for i in data], sep='\\n')"
   ],
   "metadata": {
    "collapsed": false,
    "pycharm": {
     "name": "#%%\n"
    }
   }
  },
  {
   "cell_type": "markdown",
   "metadata": {
    "pycharm": {
     "name": "#%% md\n"
    }
   },
   "source": [
    "2) Вывести телефоны, содржащиеся в адресной книге, имеющей структуру, аналогичную my_ab2."
   ]
  },
  {
   "cell_type": "code",
   "execution_count": 4,
   "outputs": [
    {
     "name": "stdout",
     "output_type": "stream",
     "text": [
      "['232-19-55', '+7 (916) 232-19-55']\n",
      "['111-19-55', '+7 (916) 445-19-55']\n"
     ]
    }
   ],
   "source": [
    "print(*[[j['phone'] for j in i['phones']] for i in data], sep='\\n')"
   ],
   "metadata": {
    "collapsed": false,
    "pycharm": {
     "name": "#%%\n"
    }
   }
  },
  {
   "cell_type": "markdown",
   "metadata": {
    "pycharm": {
     "name": "#%% md\n"
    }
   },
   "source": [
    "3) Изменить структуру данных my_ab2 так, чтобы для телефонов был однозначно известен их тип. Создать пример записи с обновленной структурой данных. Вывести все домашние телефоны, содржащиеся в созданном примере."
   ]
  },
  {
   "cell_type": "code",
   "execution_count": 5,
   "outputs": [
    {
     "data": {
      "text/plain": "[{'name': 'Faina Lee',\n  'email': 'faina@mail.ru',\n  'birthday': '22.08.1994',\n  'home_number_phone': '232-19-55',\n  'work_number_phone': '+7 (916) 232-19-55'},\n {'name': 'Robert Lee',\n  'email': 'robert@mail.ru',\n  'birthday': '22.08.1994',\n  'home_number_phone': '111-19-55',\n  'work_number_phone': '+7 (916) 445-19-55'}]"
     },
     "execution_count": 5,
     "metadata": {},
     "output_type": "execute_result"
    }
   ],
   "source": [
    "for elem in data:\n",
    "    for number_phone in elem['phones']:\n",
    "        if number_phone['phone'][0] == '+':\n",
    "            elem['work_number_phone'] = number_phone['phone']\n",
    "        else:\n",
    "            elem['home_number_phone'] = number_phone['phone']\n",
    "    elem.pop('phones')\n",
    "data"
   ],
   "metadata": {
    "collapsed": false,
    "pycharm": {
     "name": "#%%\n"
    }
   }
  },
  {
   "cell_type": "markdown",
   "metadata": {
    "pycharm": {
     "name": "#%% md\n"
    }
   },
   "source": [
    "3.2) Изменить структуру данных my_ab2 так, чтобы для каждой записи в адресной книге можно было записать список друзей этого человека, присутствующих в этой же адресной книге."
   ]
  },
  {
   "cell_type": "code",
   "execution_count": 6,
   "outputs": [
    {
     "data": {
      "text/plain": "[{'name': 'Faina Lee',\n  'email': 'faina@mail.ru',\n  'birthday': '22.08.1994',\n  'home_number_phone': '232-19-55',\n  'work_number_phone': '+7 (916) 232-19-55',\n  'friends': []},\n {'name': 'Robert Lee',\n  'email': 'robert@mail.ru',\n  'birthday': '22.08.1994',\n  'home_number_phone': '111-19-55',\n  'work_number_phone': '+7 (916) 445-19-55',\n  'friends': []}]"
     },
     "execution_count": 6,
     "metadata": {},
     "output_type": "execute_result"
    }
   ],
   "source": [
    "for user in data:\n",
    "    user['friends'] = []\n",
    "data"
   ],
   "metadata": {
    "collapsed": false,
    "pycharm": {
     "name": "#%%\n"
    }
   }
  },
  {
   "cell_type": "markdown",
   "metadata": {
    "pycharm": {
     "name": "#%% md\n"
    }
   },
   "source": [
    "4) Написать функцию, которая формирует новую запись в телефонной книге, запрашивая у пользователя поочередно все необходимые поля."
   ]
  },
  {
   "cell_type": "code",
   "execution_count": 7,
   "outputs": [],
   "source": [
    "def write_user(data):\n",
    "    user_dict = {\n",
    "        'name': '', 'email': '', 'birthday': ''\n",
    "    }\n",
    "    name = input(\"Введите имя: \")\n",
    "    email = input(\"Введите электронную почту: \")\n",
    "    birthday = input(\"Введите дату рождения в формате YY.MM.DD: \")\n",
    "    is_right = True\n",
    "    while is_right:\n",
    "        phone = input('Какой из типов номеров желаете ввести: рабочий (work) или домашний (home)?')\n",
    "        if (phone == 'work') or (phone == 'рабочий'):\n",
    "            number_phone = input('Введите номер телефона по такому шаблону => +7 (...) ...-..-.. => ')\n",
    "            user_dict['work_number_phone'] = number_phone\n",
    "            continue_point = input('Желаете добавить дополнительный номер телефона? да или нет? => ')\n",
    "            if continue_point.lower() != 'да':\n",
    "                break\n",
    "        elif (phone == 'home') or (phone == 'домашний'):\n",
    "            number_phone = input('Введите номер телефона по такому шаблону => ...-..-.. => ')\n",
    "            user_dict['home_number_phone'] = number_phone\n",
    "            continue_point = input('Желаете добавить дополнительный номер телефона? да или нет? => ')\n",
    "            if continue_point.lower() != 'да':\n",
    "                break\n",
    "    lst_fr = input('Желаете ввести своих друзей в книжку? да или нет? => ')\n",
    "    if lst_fr.lower() == 'да':\n",
    "        friends = input('Введите имена ваших друзей через запятую => ').split(',')\n",
    "    user_dict['name'], user_dict['email'], user_dict['birthday'], user_dict['friends'] = name, email, birthday, friends\n",
    "    data.append(user_dict)\n",
    "    return data"
   ],
   "metadata": {
    "collapsed": false,
    "pycharm": {
     "name": "#%%\n"
    }
   }
  },
  {
   "cell_type": "code",
   "execution_count": 8,
   "outputs": [
    {
     "data": {
      "text/plain": "[{'name': 'Faina Lee',\n  'email': 'faina@mail.ru',\n  'birthday': '22.08.1994',\n  'home_number_phone': '232-19-55',\n  'work_number_phone': '+7 (916) 232-19-55',\n  'friends': []},\n {'name': 'Robert Lee',\n  'email': 'robert@mail.ru',\n  'birthday': '22.08.1994',\n  'home_number_phone': '111-19-55',\n  'work_number_phone': '+7 (916) 445-19-55',\n  'friends': []},\n {'name': 'Саша',\n  'email': 'shasa2084@gmail.com',\n  'birthday': '12.03.1999',\n  'home_number_phone': '549-31-43',\n  'friends': ['Михаил', 'Олег', 'Кирилл', 'Егор', 'Владимир', 'Алексей']}]"
     },
     "execution_count": 8,
     "metadata": {},
     "output_type": "execute_result"
    }
   ],
   "source": [
    "write_user(data)"
   ],
   "metadata": {
    "collapsed": false,
    "pycharm": {
     "name": "#%%\n"
    }
   }
  },
  {
   "cell_type": "markdown",
   "metadata": {
    "pycharm": {
     "name": "#%% md\n"
    }
   },
   "source": [
    "5) Написать функцию, которая ищет по имени в хранящейся в файле телефонной книге запись о человеке и выводит информацию о нем в виде текста, где в каждой строке указывается тип выводимого поля и его содержимое."
   ]
  },
  {
   "cell_type": "code",
   "execution_count": 9,
   "outputs": [
    {
     "name": "stdout",
     "output_type": "stream",
     "text": [
      "name: Саша\n",
      "email: shasa2084@gmail.com\n",
      "birthday: 12.03.1999\n",
      "home_number_phone: 549-31-43\n",
      "friends: Михаил, Олег, Кирилл, Егор, Владимир, Алексей\n"
     ]
    }
   ],
   "source": [
    "def search_name(name, data):\n",
    "    for i in data:\n",
    "        if i['name'].lower() == name.lower():\n",
    "            for j in i:\n",
    "                try:\n",
    "                    if i[j] != '':\n",
    "                        print(j + ': ' + i[j])\n",
    "                    else:\n",
    "                        print(j + \": нет данных\")\n",
    "                except TypeError:\n",
    "                    print(j + ': ' + ', '.join(i[j]))\n",
    "search_name('Саша', data)"
   ],
   "metadata": {
    "collapsed": false,
    "pycharm": {
     "name": "#%%\n"
    }
   }
  },
  {
   "cell_type": "markdown",
   "metadata": {
    "pycharm": {
     "name": "#%% md\n"
    }
   },
   "source": [
    "6) Получить координаты всех отделений связи г. Пущино, имеющих отдельный почтовый индекс, с использованием API 'http://api.zippopotam.us' . (Индексы использыемые в г. Пущино нужно собрать из открытых источников)."
   ]
  },
  {
   "cell_type": "code",
   "execution_count": 10,
   "outputs": [
    {
     "data": {
      "text/plain": "{'post code': '142290',\n 'country': 'Russia',\n 'country abbreviation': 'RU',\n 'places': [{'place name': 'Пущино',\n   'longitude': '37.349',\n   'state': 'Московская Область',\n   'state abbreviation': '',\n   'latitude': '54.9454'}]}"
     },
     "execution_count": 10,
     "metadata": {},
     "output_type": "execute_result"
    }
   ],
   "source": [
    "postcode = '142290'\n",
    "url = 'https://api.zippopotam.us/ru/' + postcode\n",
    "resp = requests.get(url=url).json()\n",
    "resp"
   ],
   "metadata": {
    "collapsed": false,
    "pycharm": {
     "name": "#%%\n"
    }
   }
  },
  {
   "cell_type": "code",
   "execution_count": 11,
   "outputs": [
    {
     "name": "stdout",
     "output_type": "stream",
     "text": [
      "Координаты отделения связи г. Пущино:\n",
      "{'Долгота': '37.349', 'Широта': '54.9454'}\n"
     ]
    }
   ],
   "source": [
    "print('Координаты отделения связи г. Пущино:', *[{'Долгота': pl['longitude'], 'Широта': pl['latitude']} for pl in resp['places']], sep='\\n')"
   ],
   "metadata": {
    "collapsed": false,
    "pycharm": {
     "name": "#%%\n"
    }
   }
  },
  {
   "cell_type": "markdown",
   "metadata": {
    "pycharm": {
     "name": "#%% md\n"
    }
   },
   "source": [
    "# Pickle"
   ]
  },
  {
   "cell_type": "markdown",
   "metadata": {
    "pycharm": {
     "name": "#%% md\n"
    }
   },
   "source": [
    "1) Сгенерировать данные, аналогичные структуре addres-book.json с 1000 записей."
   ]
  },
  {
   "cell_type": "code",
   "execution_count": 12,
   "outputs": [
    {
     "data": {
      "text/plain": "          name                 email    birthday home_number_phone\n0      Name №0    201174_0@gmail.com  08.08.1022         777-77-77\n1      Name №1    201174_1@gmail.com  08.08.1023         777-77-77\n2      Name №2    201174_2@gmail.com  08.08.1024         777-77-77\n3      Name №3    201174_3@gmail.com  08.08.1025         777-77-77\n4      Name №4    201174_4@gmail.com  08.08.1026         777-77-77\n..         ...                   ...         ...               ...\n995  Name №995  201174_995@gmail.com  08.08.2017         777-77-77\n996  Name №996  201174_996@gmail.com  08.08.2018         777-77-77\n997  Name №997  201174_997@gmail.com  08.08.2019         777-77-77\n998  Name №998  201174_998@gmail.com  08.08.2020         777-77-77\n999  Name №999  201174_999@gmail.com  08.08.2021         777-77-77\n\n[1000 rows x 4 columns]",
      "text/html": "<div>\n<style scoped>\n    .dataframe tbody tr th:only-of-type {\n        vertical-align: middle;\n    }\n\n    .dataframe tbody tr th {\n        vertical-align: top;\n    }\n\n    .dataframe thead th {\n        text-align: right;\n    }\n</style>\n<table border=\"1\" class=\"dataframe\">\n  <thead>\n    <tr style=\"text-align: right;\">\n      <th></th>\n      <th>name</th>\n      <th>email</th>\n      <th>birthday</th>\n      <th>home_number_phone</th>\n    </tr>\n  </thead>\n  <tbody>\n    <tr>\n      <th>0</th>\n      <td>Name №0</td>\n      <td>201174_0@gmail.com</td>\n      <td>08.08.1022</td>\n      <td>777-77-77</td>\n    </tr>\n    <tr>\n      <th>1</th>\n      <td>Name №1</td>\n      <td>201174_1@gmail.com</td>\n      <td>08.08.1023</td>\n      <td>777-77-77</td>\n    </tr>\n    <tr>\n      <th>2</th>\n      <td>Name №2</td>\n      <td>201174_2@gmail.com</td>\n      <td>08.08.1024</td>\n      <td>777-77-77</td>\n    </tr>\n    <tr>\n      <th>3</th>\n      <td>Name №3</td>\n      <td>201174_3@gmail.com</td>\n      <td>08.08.1025</td>\n      <td>777-77-77</td>\n    </tr>\n    <tr>\n      <th>4</th>\n      <td>Name №4</td>\n      <td>201174_4@gmail.com</td>\n      <td>08.08.1026</td>\n      <td>777-77-77</td>\n    </tr>\n    <tr>\n      <th>...</th>\n      <td>...</td>\n      <td>...</td>\n      <td>...</td>\n      <td>...</td>\n    </tr>\n    <tr>\n      <th>995</th>\n      <td>Name №995</td>\n      <td>201174_995@gmail.com</td>\n      <td>08.08.2017</td>\n      <td>777-77-77</td>\n    </tr>\n    <tr>\n      <th>996</th>\n      <td>Name №996</td>\n      <td>201174_996@gmail.com</td>\n      <td>08.08.2018</td>\n      <td>777-77-77</td>\n    </tr>\n    <tr>\n      <th>997</th>\n      <td>Name №997</td>\n      <td>201174_997@gmail.com</td>\n      <td>08.08.2019</td>\n      <td>777-77-77</td>\n    </tr>\n    <tr>\n      <th>998</th>\n      <td>Name №998</td>\n      <td>201174_998@gmail.com</td>\n      <td>08.08.2020</td>\n      <td>777-77-77</td>\n    </tr>\n    <tr>\n      <th>999</th>\n      <td>Name №999</td>\n      <td>201174_999@gmail.com</td>\n      <td>08.08.2021</td>\n      <td>777-77-77</td>\n    </tr>\n  </tbody>\n</table>\n<p>1000 rows × 4 columns</p>\n</div>"
     },
     "execution_count": 12,
     "metadata": {},
     "output_type": "execute_result"
    }
   ],
   "source": [
    "gener_dataframe = pd.DataFrame()\n",
    "\n",
    "gener_dataframe['name'] = [f'Name №{i}' for i in range(1000)]\n",
    "gener_dataframe['email'] = [f\"201174_{i}@gmail.com\" for i in range(1000)]\n",
    "gener_dataframe['birthday'] = [f'08.08.{1022 + i}' for i in range(1000)]\n",
    "gener_dataframe['home_number_phone'] = [f'777-77-77' for _ in range(1000)]\n",
    "\n",
    "gener_dataframe"
   ],
   "metadata": {
    "collapsed": false,
    "pycharm": {
     "name": "#%%\n"
    }
   }
  },
  {
   "cell_type": "markdown",
   "source": [
    "2) Сохранить результаты з.1 в файл Pickle и в файл JSON. Сравнить объемы получившихся файлов.\n",
    "3) Сравнить время записи / чтения данных в форматах Pickle и JSON из з.2"
   ],
   "metadata": {
    "collapsed": false,
    "pycharm": {
     "name": "#%% md\n"
    }
   }
  },
  {
   "cell_type": "code",
   "execution_count": 13,
   "outputs": [],
   "source": [
    "def save_pickle(df):\n",
    "    pickle.dump(df, open(\"data/new-address-book.bin\", \"wb\"))\n",
    "\n",
    "def save_json(df):\n",
    "    df.to_json(\"data/new-address-book.json\")\n",
    "\n",
    "def read_pickle():\n",
    "    f = open('data/new-address-book.bin', 'rb')\n",
    "    res = pickle.load(f)\n",
    "    f.close()\n",
    "    return res\n",
    "\n",
    "def read_json():\n",
    "    f = open('data/new-address-book.json', 'r')\n",
    "    res = json.load(f)\n",
    "    f.close()\n",
    "    return res"
   ],
   "metadata": {
    "collapsed": false,
    "pycharm": {
     "name": "#%%\n"
    }
   }
  },
  {
   "cell_type": "markdown",
   "source": [
    "##### Время записи данных в файлы pickle & json"
   ],
   "metadata": {
    "collapsed": false,
    "pycharm": {
     "name": "#%% md\n"
    }
   }
  },
  {
   "cell_type": "code",
   "execution_count": 14,
   "outputs": [
    {
     "name": "stdout",
     "output_type": "stream",
     "text": [
      "1.11 ms ± 204 µs per loop (mean ± std. dev. of 7 runs, 1,000 loops each)\n"
     ]
    }
   ],
   "source": [
    "%timeit save_pickle(gener_dataframe)"
   ],
   "metadata": {
    "collapsed": false,
    "pycharm": {
     "name": "#%%\n"
    }
   }
  },
  {
   "cell_type": "code",
   "execution_count": 15,
   "outputs": [
    {
     "name": "stdout",
     "output_type": "stream",
     "text": [
      "3.06 ms ± 1.07 ms per loop (mean ± std. dev. of 7 runs, 100 loops each)\n"
     ]
    }
   ],
   "source": [
    "%timeit save_json(gener_dataframe)"
   ],
   "metadata": {
    "collapsed": false,
    "pycharm": {
     "name": "#%%\n"
    }
   }
  },
  {
   "cell_type": "markdown",
   "source": [
    "##### Сравнение объёмов получившихся файлов"
   ],
   "metadata": {
    "collapsed": false,
    "pycharm": {
     "name": "#%% md\n"
    }
   }
  },
  {
   "cell_type": "code",
   "execution_count": 16,
   "outputs": [
    {
     "name": "stdout",
     "output_type": "stream",
     "text": [
      "Pickle-файл: 55629 б\n",
      "Json-файл: 88395 б\n",
      "Pickle-файл легче по размеру json в 1.59 раз(-а)\n"
     ]
    }
   ],
   "source": [
    "pickle_file_stats, json_file_stats = os.stat('data/new-address-book.bin'), os.stat('data/new-address-book.json')\n",
    "print(f'Pickle-файл: {pickle_file_stats.st_size} б\\nJson-файл: {json_file_stats.st_size} б')\n",
    "print(\"Pickle-файл легче по размеру json в \", end='')\n",
    "print(round(json_file_stats.st_size / pickle_file_stats.st_size, 2), 'раз(-а)')"
   ],
   "metadata": {
    "collapsed": false,
    "pycharm": {
     "name": "#%%\n"
    }
   }
  },
  {
   "cell_type": "markdown",
   "source": [
    "##### Время чтения файлов pickle & json"
   ],
   "metadata": {
    "collapsed": false,
    "pycharm": {
     "name": "#%% md\n"
    }
   }
  },
  {
   "cell_type": "code",
   "execution_count": 19,
   "outputs": [
    {
     "name": "stdout",
     "output_type": "stream",
     "text": [
      "937 µs ± 259 µs per loop (mean ± std. dev. of 7 runs, 1,000 loops each)\n"
     ]
    }
   ],
   "source": [
    "%timeit read_pickle()"
   ],
   "metadata": {
    "collapsed": false,
    "pycharm": {
     "name": "#%%\n"
    }
   }
  },
  {
   "cell_type": "code",
   "execution_count": 18,
   "outputs": [
    {
     "name": "stdout",
     "output_type": "stream",
     "text": [
      "1.38 ms ± 176 µs per loop (mean ± std. dev. of 7 runs, 1,000 loops each)\n"
     ]
    }
   ],
   "source": [
    "%timeit read_json()"
   ],
   "metadata": {
    "collapsed": false,
    "pycharm": {
     "name": "#%%\n"
    }
   }
  },
  {
   "cell_type": "code",
   "execution_count": 20,
   "outputs": [
    {
     "name": "stdout",
     "output_type": "stream",
     "text": [
      "Чтение файла pickle в среднем занимает 0.0010131719827651978 мс.\n"
     ]
    }
   ],
   "source": [
    "pickle_t = []\n",
    "for i in range(10000):\n",
    "    time_start = time.time()\n",
    "    pickle.load(open(\"data/new-address-book.bin\", \"rb\"))\n",
    "    total_time = time.time() - time_start\n",
    "    pickle_t.append(total_time)\n",
    "\n",
    "print(f'Чтение файла pickle в среднем занимает {np.mean(pickle_t)} мс.')\n",
    "pickle_t_mean = np.mean(pickle_t)"
   ],
   "metadata": {
    "collapsed": false,
    "pycharm": {
     "name": "#%%\n"
    }
   }
  },
  {
   "cell_type": "code",
   "execution_count": 21,
   "outputs": [
    {
     "name": "stdout",
     "output_type": "stream",
     "text": [
      "Чтение файла json занимает в среднем 0.002719596862792969 мс.\n",
      "Pickle в среднем быстрее JSON в: 2.6842 раз.\n"
     ]
    }
   ],
   "source": [
    "json_t = []\n",
    "for i in range(1000):\n",
    "    time_start = time.time()\n",
    "    json.load(open('data/new-address-book.json', 'r'))\n",
    "    total_time = time.time() - time_start\n",
    "    json_t.append(total_time)\n",
    "\n",
    "print(f'Чтение файла json занимает в среднем {np.mean(json_t)} мс.')\n",
    "json_times_mean = np.mean(json_t)\n",
    "print(f\"Pickle в среднем быстрее JSON в: {round(json_times_mean / pickle_t_mean, 4)} раз.\")"
   ],
   "metadata": {
    "collapsed": false,
    "pycharm": {
     "name": "#%%\n"
    }
   }
  },
  {
   "cell_type": "markdown",
   "source": [
    "4) Преобразовать структуру данных из addres-book.json так, чтобы для получения данных о конкретном человеке можно было эффективно использовать возможности модуля shelve."
   ],
   "metadata": {
    "collapsed": false,
    "pycharm": {
     "name": "#%% md\n"
    }
   }
  },
  {
   "cell_type": "code",
   "execution_count": 22,
   "outputs": [
    {
     "data": {
      "text/plain": "[{'name': 'Faina Lee',\n  'email': 'faina@mail.ru',\n  'birthday': '22.08.1994',\n  'home_number_phone': '232-19-55',\n  'work_number_phone': '+7 (916) 232-19-55',\n  'friends': []},\n {'name': 'Robert Lee',\n  'email': 'robert@mail.ru',\n  'birthday': '22.08.1994',\n  'home_number_phone': '111-19-55',\n  'work_number_phone': '+7 (916) 445-19-55',\n  'friends': []},\n {'name': 'Саша',\n  'email': 'shasa2084@gmail.com',\n  'birthday': '12.03.1999',\n  'home_number_phone': '549-31-43',\n  'friends': ['Михаил', 'Олег', 'Кирилл', 'Егор', 'Владимир', 'Алексей']}]"
     },
     "execution_count": 22,
     "metadata": {},
     "output_type": "execute_result"
    }
   ],
   "source": [
    "data"
   ],
   "metadata": {
    "collapsed": false,
    "pycharm": {
     "name": "#%%\n"
    }
   }
  },
  {
   "cell_type": "code",
   "execution_count": 23,
   "outputs": [
    {
     "data": {
      "text/plain": "         name           email    birthday home_phone          work_phone\n0   Faina Lee   faina@mail.ru  22.08.1994  232-19-55  +7 (916) 232-19-55\n1  Robert Lee  robert@mail.ru  22.08.1994  111-19-55  +7 (916) 445-19-55",
      "text/html": "<div>\n<style scoped>\n    .dataframe tbody tr th:only-of-type {\n        vertical-align: middle;\n    }\n\n    .dataframe tbody tr th {\n        vertical-align: top;\n    }\n\n    .dataframe thead th {\n        text-align: right;\n    }\n</style>\n<table border=\"1\" class=\"dataframe\">\n  <thead>\n    <tr style=\"text-align: right;\">\n      <th></th>\n      <th>name</th>\n      <th>email</th>\n      <th>birthday</th>\n      <th>home_phone</th>\n      <th>work_phone</th>\n    </tr>\n  </thead>\n  <tbody>\n    <tr>\n      <th>0</th>\n      <td>Faina Lee</td>\n      <td>faina@mail.ru</td>\n      <td>22.08.1994</td>\n      <td>232-19-55</td>\n      <td>+7 (916) 232-19-55</td>\n    </tr>\n    <tr>\n      <th>1</th>\n      <td>Robert Lee</td>\n      <td>robert@mail.ru</td>\n      <td>22.08.1994</td>\n      <td>111-19-55</td>\n      <td>+7 (916) 445-19-55</td>\n    </tr>\n  </tbody>\n</table>\n</div>"
     },
     "execution_count": 23,
     "metadata": {},
     "output_type": "execute_result"
    }
   ],
   "source": [
    "json_data = pd.read_json(\"addres-book.json\")\n",
    "\n",
    "json_data[\"home_phone\"] = [num[0]['phone'] for num in json_data['phones']]\n",
    "json_data[\"work_phone\"] = [num[1]['phone'] for num in json_data['phones']]\n",
    "\n",
    "json_data = json_data.drop(\"phones\", axis=1)\n",
    "\n",
    "json_data"
   ],
   "metadata": {
    "collapsed": false,
    "pycharm": {
     "name": "#%%\n"
    }
   }
  },
  {
   "cell_type": "code",
   "execution_count": 24,
   "outputs": [
    {
     "name": "stdout",
     "output_type": "stream",
     "text": [
      "        name          email    birthday home_phone          work_phone\n",
      "0  Faina Lee  faina@mail.ru  22.08.1994  232-19-55  +7 (916) 232-19-55\n"
     ]
    }
   ],
   "source": [
    "shelf = shelve.open('shelve-db')\n",
    "for user in json_data['name']:\n",
    "    shelf[user] = json_data[json_data['name'] == user]\n",
    "\n",
    "print(shelf['Faina Lee'])\n",
    "shelf.close()"
   ],
   "metadata": {
    "collapsed": false,
    "pycharm": {
     "name": "#%%\n"
    }
   }
  },
  {
   "cell_type": "code",
   "execution_count": 25,
   "outputs": [
    {
     "name": "stdout",
     "output_type": "stream",
     "text": [
      "         name           email    birthday home_phone          work_phone\n",
      "1  Robert Lee  robert@mail.ru  22.08.1994  111-19-55  +7 (916) 445-19-55\n"
     ]
    }
   ],
   "source": [
    "shelf = shelve.open('shelve-db')\n",
    "print(shelf['Robert Lee'])\n",
    "shelf.close()"
   ],
   "metadata": {
    "collapsed": false,
    "pycharm": {
     "name": "#%%\n"
    }
   }
  },
  {
   "cell_type": "code",
   "execution_count": 26,
   "outputs": [
    {
     "name": "stdout",
     "output_type": "stream",
     "text": [
      "('Faina Lee',         name          email    birthday home_phone          work_phone\n",
      "0  Faina Lee  faina@mail.ru  22.08.1994  232-19-55  +7 (916) 232-19-55)\n",
      "('Robert Lee',          name           email    birthday home_phone          work_phone\n",
      "1  Robert Lee  robert@mail.ru  22.08.1994  111-19-55  +7 (916) 445-19-55)\n"
     ]
    }
   ],
   "source": [
    "with shelve.open(\"shelve-db\") as shelve_file:\n",
    "    for item in shelve_file.items():\n",
    "        print(item)"
   ],
   "metadata": {
    "collapsed": false,
    "pycharm": {
     "name": "#%%\n"
    }
   }
  },
  {
   "cell_type": "markdown",
   "metadata": {
    "pycharm": {
     "name": "#%% md\n"
    }
   },
   "source": [
    "# XML"
   ]
  },
  {
   "cell_type": "markdown",
   "metadata": {
    "pycharm": {
     "name": "#%% md\n"
    }
   },
   "source": [
    "1) По данным из файла addres-book-q.xml сформировать список словарей с телефоноами каждого из людей. Вид результата: [{ФИО: ['телефон1', 'телефон2']}] и вывести его на экран и сохранить в json файле."
   ]
  },
  {
   "cell_type": "code",
   "execution_count": 27,
   "outputs": [
    {
     "name": "stdout",
     "output_type": "stream",
     "text": [
      "Общий парсинг XML-файла ('addres-book-q.xml'):\n"
     ]
    },
    {
     "data": {
      "text/plain": "{'id_1': {'gender': 'm',\n  'name': 'Aicha Barki',\n  'email': 'aiqraa.asso@caramail.com',\n  'position': 'Presidente',\n  'company': \"Association Algerienne d'Alphabetisation Iqraa\",\n  'work': '+ (213) 6150 4015',\n  'personal': '+ (213) 2173 5247'},\n 'id_2': {'gender': 'm',\n  'name': 'Francisco Domingos',\n  'email': 'frandomingos@hotmail.com',\n  'position': 'Directeur General',\n  'company': 'Institut National de Education des Adultes',\n  'work': '+ (244-2) 325 023',\n  'personal': '+ (244-2) 325 023'},\n 'id_3': {'gender': 'f',\n  'name': 'Maria Luisa',\n  'email': 'luisagrilo@ebonet.net',\n  'position': 'Directrice Nationale',\n  'company': 'Institut National de Education des Adultes',\n  'personal': '+ (244) 4232 2836'},\n 'id_4': {'gender': 'm',\n  'name': 'Abraao Chanda',\n  'email': 'ineda@snet.co.ao',\n  'position': 'Chef',\n  'company': 'Institut National de Education des Adultes',\n  'work': '+ (244-2) 325 023',\n  'personal': '+ (244-2) 325 023'},\n 'id_5': {'gender': 'm',\n  'name': 'Beatriz Busaniche',\n  'email': 'busaniche@caminandoutopias.org.ar',\n  'position': 'Executive Director',\n  'company': 'Universidad de Buenos Aires',\n  'work': '+ (54-11) 4784 1159'},\n 'id_6': {'gender': 'f',\n  'name': 'Francesca Beddie',\n  'email': 'f.beddie@ala.asn.au',\n  'position': 'Executive Director',\n  'company': 'Adult Learning Australia',\n  'work': '+ (61-2) 6274 9500',\n  'personal': '+ (61-2) 6274 9513'},\n 'id_7': {'gender': 'm',\n  'name': 'Graham John Smith',\n  'email': 'grasm@connexus.net.au',\n  'position': 'Secretary',\n  'company': 'Disability Australia Ltd',\n  'work': '+ (61-3) 9807 4702'}}"
     },
     "execution_count": 27,
     "metadata": {},
     "output_type": "execute_result"
    }
   ],
   "source": [
    "print(\"Общий парсинг XML-файла ('addres-book-q.xml'):\")\n",
    "with open('addres-book-q.xml', 'r') as f:\n",
    "    xml_data = BeautifulSoup(f, 'xml')\n",
    "\n",
    "addrs_dict = {}\n",
    "for address in xml_data.address_book.find_all('address'):\n",
    "    data_lst = address.getText('|',strip=True).split('|')\n",
    "    index = 'id_' + address['id']\n",
    "    addrs_dict[index] = {}\n",
    "    addrs_dict[index]['gender'] = data_lst[0]\n",
    "    addrs_dict[index]['name'] = data_lst[1]\n",
    "    addrs_dict[index]['email'] = data_lst[2]\n",
    "    addrs_dict[index]['position'] = data_lst[3]\n",
    "    addrs_dict[index]['company'] = data_lst[4]\n",
    "    for phone in address.phones:\n",
    "        if phone != '\\n':\n",
    "            addrs_dict[index][phone['type']] = phone.text\n",
    "addrs_dict"
   ],
   "metadata": {
    "collapsed": false,
    "pycharm": {
     "name": "#%%\n"
    }
   }
  },
  {
   "cell_type": "code",
   "execution_count": 28,
   "outputs": [
    {
     "data": {
      "text/plain": "[{'ФИО': 'Aicha Barki',\n  'телефон_1': '+ (213) 6150 4015',\n  'телефон_2': '+ (213) 2173 5247'},\n {'ФИО': 'Francisco Domingos',\n  'телефон_1': '+ (244-2) 325 023',\n  'телефон_2': '+ (244-2) 325 023'},\n {'ФИО': 'Maria Luisa', 'телефон_1': '+ (244) 4232 2836'},\n {'ФИО': 'Abraao Chanda',\n  'телефон_1': '+ (244-2) 325 023',\n  'телефон_2': '+ (244-2) 325 023'},\n {'ФИО': 'Beatriz Busaniche', 'телефон_1': '+ (54-11) 4784 1159'},\n {'ФИО': 'Francesca Beddie',\n  'телефон_1': '+ (61-2) 6274 9500',\n  'телефон_2': '+ (61-2) 6274 9513'},\n {'ФИО': 'Graham John Smith', 'телефон_1': '+ (61-3) 9807 4702'}]"
     },
     "execution_count": 28,
     "metadata": {},
     "output_type": "execute_result"
    }
   ],
   "source": [
    "final_lst_numbers = []\n",
    "for id_people in addrs_dict:\n",
    "    people = {}\n",
    "    people['ФИО'] = addrs_dict[id_people]['name']\n",
    "    lst_keys = list(addrs_dict[id_people].keys())[5:]\n",
    "    numbers = [addrs_dict[id_people][number] for number in lst_keys]\n",
    "    if len(numbers) == 2:\n",
    "        people['телефон_1'] = numbers[0]\n",
    "        people['телефон_2'] = numbers[1]\n",
    "    else:\n",
    "        people['телефон_1'] = numbers[0]\n",
    "    final_lst_numbers.append(people)\n",
    "final_lst_numbers"
   ],
   "metadata": {
    "collapsed": false,
    "pycharm": {
     "name": "#%%\n"
    }
   }
  },
  {
   "cell_type": "code",
   "execution_count": 30,
   "outputs": [
    {
     "name": "stdout",
     "output_type": "stream",
     "text": [
      "Получившийся список словарей с номерами телефонов:\n",
      "{'Aicha Barki': ['+ (213) 6150 4015', '+ (213) 2173 5247']}\n",
      "{'Francisco Domingos': ['+ (244-2) 325 023']}\n",
      "{'Maria Luisa': ['+ (244) 4232 2836']}\n",
      "{'Abraao Chanda': ['+ (244-2) 325 023']}\n",
      "{'Beatriz Busaniche': ['+ (54-11) 4784 1159']}\n",
      "{'Francesca Beddie': ['+ (61-2) 6274 9513', '+ (61-2) 6274 9500']}\n",
      "{'Graham John Smith': ['+ (61-3) 9807 4702']}\n"
     ]
    }
   ],
   "source": [
    "last_lst = []\n",
    "for members in final_lst_numbers:\n",
    "    mem, keys = {}, list(members.keys())\n",
    "    mem[members[keys[0]]] = list(set(members[elem] for elem in keys[1:]))\n",
    "    last_lst.append(mem)\n",
    "\n",
    "with open('number-data.json', 'w') as file:\n",
    "    json.dump(last_lst, file)\n",
    "\n",
    "print('Получившийся список словарей с номерами телефонов:')\n",
    "print(*last_lst, sep=\"\\n\")"
   ],
   "metadata": {
    "collapsed": false,
    "pycharm": {
     "name": "#%%\n"
    }
   }
  },
  {
   "cell_type": "markdown",
   "source": [
    "2) По данным из файла addres-book-q.xml сформировать список (в виде списка в Python) адресов электронной почты всех женщин и вывести его на экран."
   ],
   "metadata": {
    "collapsed": false,
    "pycharm": {
     "name": "#%% md\n"
    }
   }
  },
  {
   "cell_type": "code",
   "execution_count": 31,
   "outputs": [
    {
     "name": "stdout",
     "output_type": "stream",
     "text": [
      "Список электронных почт всех женщин:\n",
      "luisagrilo@ebonet.net\n",
      "f.beddie@ala.asn.au\n"
     ]
    }
   ],
   "source": [
    "tree_book, emails = xml.parse('addres-book-q.xml'), []\n",
    "root = tree_book.getroot()\n",
    "for country in root:\n",
    "    for address in country:\n",
    "        if address.find(\"gender\").text == 'f':\n",
    "            email = address.find('email')\n",
    "            emails.append(email.text)\n",
    "print('Список электронных почт всех женщин:')\n",
    "print(*emails, sep='\\n')"
   ],
   "metadata": {
    "collapsed": false,
    "pycharm": {
     "name": "#%%\n"
    }
   }
  },
  {
   "cell_type": "markdown",
   "source": [
    "3) По данным из файла addres-book-q.xml сформировать список (в виде списка в Python) всех участников с рабочими телефонами и вывести его на экран."
   ],
   "metadata": {
    "collapsed": false,
    "pycharm": {
     "name": "#%% md\n"
    }
   }
  },
  {
   "cell_type": "code",
   "execution_count": 32,
   "outputs": [
    {
     "name": "stdout",
     "output_type": "stream",
     "text": [
      "Список участников в книге с рабочими номерами телефонов:\n",
      "Aicha Barki\n",
      "Francisco Domingos\n",
      "Abraao Chanda\n",
      "Beatriz Busaniche\n",
      "Francesca Beddie\n",
      "Graham John Smith\n"
     ]
    }
   ],
   "source": [
    "lst_id_people, work_num_lst = [], []\n",
    "for country in root:\n",
    "    for address in country:\n",
    "        if 'work' in [phone.get(\"type\") for phone in address.find(\"phones\")]:\n",
    "            lst_id_people.append(address.get(\"id\"))\n",
    "\n",
    "for p_id in lst_id_people:\n",
    "    work_num_lst.append(root.find(f\".//*[@id='{p_id}']\").find(\"name\").text)\n",
    "\n",
    "print(\"Список участников в книге с рабочими номерами телефонов:\")\n",
    "print(*work_num_lst, sep='\\n')"
   ],
   "metadata": {
    "collapsed": false,
    "pycharm": {
     "name": "#%%\n"
    }
   }
  },
  {
   "cell_type": "markdown",
   "source": [
    "4) По данным из файла addres-book-q.xml сформировать словарь вида {название страны: количество участников} и вывести его на экран."
   ],
   "metadata": {
    "collapsed": false,
    "pycharm": {
     "name": "#%% md\n"
    }
   }
  },
  {
   "cell_type": "code",
   "execution_count": 33,
   "outputs": [
    {
     "name": "stdout",
     "output_type": "stream",
     "text": [
      "Словарь количества участников с группировкой по странам:\n"
     ]
    },
    {
     "data": {
      "text/plain": "{'algeria': 1, 'angola': 3, 'argentina': 1, 'australia': 2}"
     },
     "execution_count": 33,
     "metadata": {},
     "output_type": "execute_result"
    }
   ],
   "source": [
    "print(\"Словарь количества участников с группировкой по странам:\")\n",
    "{country.get('name'): len(country) for country in root}"
   ],
   "metadata": {
    "collapsed": false,
    "pycharm": {
     "name": "#%%\n"
    }
   }
  },
  {
   "cell_type": "markdown",
   "metadata": {
    "pycharm": {
     "name": "#%% md\n"
    }
   },
   "source": [
    "5) Превратить информацию из addres-book.xml в json файл с содержимым вида:\n",
    "\n",
    "[{'birthday': '11.07.1984', 'email': 'bruce@gmail.com', 'name': 'Bruce Lee'},\n",
    " {'birthday': '22.03.1985', 'email': 'alee@yandex.ru', 'name': 'Alice Lee'}]"
   ]
  },
  {
   "cell_type": "code",
   "execution_count": 34,
   "outputs": [
    {
     "name": "stdout",
     "output_type": "stream",
     "text": [
      "Список информации из json-файла:\n",
      "{'birthday': '11.07.1984', 'email': 'bruce@gmail.com', 'name': 'Bruce Lee'}\n",
      "{'birthday': '22.03.1985', 'email': 'alee@yandex.ru', 'name': 'Alice Lee'}\n"
     ]
    }
   ],
   "source": [
    "xml_data = pd.read_xml('addres-book.xml')\n",
    "xml_data.drop(columns=[\"phones\", \"id\"], inplace=True)\n",
    "lst_data, big_dict = [], {p: dict(xml_data[p]) for p in xml_data}\n",
    "\n",
    "for i in range(2):\n",
    "    human_data = {\"birthday\": big_dict['birthday'][i], \"email\": big_dict['email'][i], \"name\": big_dict['name'][i]}\n",
    "    lst_data.append(human_data)\n",
    "\n",
    "print(\"Список информации из json-файла:\")\n",
    "print(*lst_data, sep='\\n')"
   ],
   "metadata": {
    "collapsed": false,
    "pycharm": {
     "name": "#%%\n"
    }
   }
  },
  {
   "cell_type": "code",
   "execution_count": null,
   "outputs": [],
   "source": [],
   "metadata": {
    "collapsed": false,
    "pycharm": {
     "name": "#%%\n"
    }
   }
  }
 ],
 "metadata": {
  "kernelspec": {
   "display_name": "Python 3",
   "language": "python",
   "name": "python3"
  },
  "language_info": {
   "codemirror_mode": {
    "name": "ipython",
    "version": 3
   },
   "file_extension": ".py",
   "mimetype": "text/x-python",
   "name": "python",
   "nbconvert_exporter": "python",
   "pygments_lexer": "ipython3",
   "version": "3.7.4"
  }
 },
 "nbformat": 4,
 "nbformat_minor": 4
}