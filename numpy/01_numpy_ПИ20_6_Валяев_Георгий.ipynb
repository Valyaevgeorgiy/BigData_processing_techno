{
 "cells": [
  {
   "cell_type": "markdown",
   "metadata": {
    "id": "36Qx9eHdXZky",
    "pycharm": {
     "name": "#%% md\n"
    }
   },
   "source": [
    "# Numpy"
   ]
  },
  {
   "cell_type": "markdown",
   "metadata": {
    "id": "sW3qeSZEXZk0",
    "pycharm": {
     "name": "#%% md\n"
    }
   },
   "source": [
    "Материалы:\n",
    "* Макрушин С.В. \"Лекция 1: Библиотека Numpy\"\n",
    "* https://numpy.org/doc/stable/user/index.html\n",
    "* https://numpy.org/doc/stable/reference/index.html"
   ]
  },
  {
   "cell_type": "code",
   "execution_count": 1,
   "metadata": {
    "pycharm": {
     "name": "#%%\n"
    }
   },
   "outputs": [],
   "source": [
    "import numpy as np"
   ]
  },
  {
   "cell_type": "markdown",
   "metadata": {
    "id": "QLu2-i7SXZk1",
    "pycharm": {
     "name": "#%% md\n"
    }
   },
   "source": [
    "## Задачи для совместного разбора"
   ]
  },
  {
   "cell_type": "markdown",
   "metadata": {
    "id": "8zQsIi8fXZk1",
    "pycharm": {
     "name": "#%% md\n"
    }
   },
   "source": [
    "1. Сгенерировать двухмерный массив `arr` размерности (4, 7), состоящий из случайных действительных чисел, равномерно распределенных в диапазоне от 0 до 20. Нормализовать значения массива с помощью преобразования вида  $𝑎𝑥+𝑏$  так, что после нормализации максимальный элемент масcива будет равен 1.0, минимальный 0.0"
   ]
  },
  {
   "cell_type": "code",
   "execution_count": null,
   "metadata": {
    "id": "t1ZVRPNJXZk2",
    "pycharm": {
     "name": "#%%\n"
    }
   },
   "outputs": [],
   "source": []
  },
  {
   "cell_type": "markdown",
   "metadata": {
    "id": "6HFan2EWXZk2",
    "pycharm": {
     "name": "#%% md\n"
    }
   },
   "source": [
    "2. Создать матрицу 8 на 10 из случайных целых (используя модуль `numpy.random`) чисел из диапозона от 0 до 10 и найти в ней строку (ее индекс и вывести саму строку), в которой сумма значений минимальна."
   ]
  },
  {
   "cell_type": "code",
   "execution_count": null,
   "metadata": {
    "pycharm": {
     "name": "#%%\n"
    }
   },
   "outputs": [],
   "source": []
  },
  {
   "cell_type": "markdown",
   "metadata": {
    "id": "Hk4SGXbUXZk3",
    "pycharm": {
     "name": "#%% md\n"
    }
   },
   "source": [
    "3. Найти евклидово расстояние между двумя одномерными векторами одинаковой размерности."
   ]
  },
  {
   "cell_type": "code",
   "execution_count": null,
   "metadata": {
    "pycharm": {
     "name": "#%%\n"
    }
   },
   "outputs": [],
   "source": []
  },
  {
   "cell_type": "markdown",
   "metadata": {
    "id": "yYxUlXEpXZk3",
    "pycharm": {
     "name": "#%% md\n"
    }
   },
   "source": [
    "4. Решить матричное уравнение `A*X*B=-C` - найти матрицу `X`. Где `A = [[-1, 2, 4], [-3, 1, 2], [-3, 0, 1]]`, `B=[[3, -1], [2, 1]]`, `C=[[7, 21], [11, 8], [8, 4]]`."
   ]
  },
  {
   "cell_type": "code",
   "execution_count": null,
   "metadata": {
    "pycharm": {
     "name": "#%%\n"
    }
   },
   "outputs": [],
   "source": []
  },
  {
   "cell_type": "markdown",
   "metadata": {
    "id": "xw3ddSkiXZk4",
    "pycharm": {
     "name": "#%% md\n"
    }
   },
   "source": [
    "## Лабораторная работа №1"
   ]
  },
  {
   "cell_type": "markdown",
   "metadata": {
    "id": "1sg-poU1XZk4",
    "pycharm": {
     "name": "#%% md\n"
    }
   },
   "source": [
    "Замечание: при решении данных задач не подразумевается использования циклов или генераторов Python, если в задании не сказано обратного. Решение должно опираться на использования функционала библиотеки `numpy`."
   ]
  },
  {
   "cell_type": "markdown",
   "metadata": {
    "id": "4sH6zWa_XZk4",
    "pycharm": {
     "name": "#%% md\n"
    }
   },
   "source": [
    "1. Файл `minutes_n_ingredients.csv` содержит информацию об идентификаторе рецепта, времени его выполнения в минутах и количестве необходимых ингредиентов. Считайте данные из этого файла в виде массива `numpy` типа `int32`, используя `np.loadtxt`. Выведите на экран первые 5 строк массива."
   ]
  },
  {
   "cell_type": "code",
   "execution_count": 19,
   "metadata": {
    "pycharm": {
     "name": "#%%\n"
    }
   },
   "outputs": [
    {
     "name": "stdout",
     "output_type": "stream",
     "text": [
      "[[127244     60     16]\n",
      " [ 23891     25      7]\n",
      " [ 94746     10      6]\n",
      " [ 67660      5      6]\n",
      " [157911     60     14]]\n"
     ]
    }
   ],
   "source": [
    "data = np.loadtxt(\"data/minutes_n_ingredients.csv\", delimiter=\",\", dtype=\"int32\", skiprows=1)\n",
    "print(data[:5])"
   ]
  },
  {
   "cell_type": "markdown",
   "metadata": {
    "id": "UvLrPmfcXZk5",
    "pycharm": {
     "name": "#%% md\n"
    }
   },
   "source": [
    "2. Вычислите среднее значение, минимум, максимум и медиану по каждому из столбцов, кроме первого."
   ]
  },
  {
   "cell_type": "code",
   "execution_count": 3,
   "metadata": {
    "pycharm": {
     "name": "#%%\n"
    }
   },
   "outputs": [
    {
     "name": "stdout",
     "output_type": "stream",
     "text": [
      "[2.16010017e+04 9.05528000e+00]\n",
      "[0 1]\n",
      "[2147483647         39]\n",
      "[40.  9.]\n"
     ]
    }
   ],
   "source": [
    "print(data[:, 1:].mean(axis=0),\n",
    "     data[:, 1:].min(axis=0),\n",
    "     data[:, 1:].max(axis=0),\n",
    "     np.median(data[:, 1:], axis=0), sep=\"\\n\")"
   ]
  },
  {
   "cell_type": "markdown",
   "metadata": {
    "id": "VJvegQ0vXZk5",
    "pycharm": {
     "name": "#%% md\n"
    }
   },
   "source": [
    "3. Ограничьте сверху значения продолжительности выполнения рецепта значением квантиля $q_{0.75}$. "
   ]
  },
  {
   "cell_type": "code",
   "execution_count": 4,
   "metadata": {
    "pycharm": {
     "name": "#%%\n"
    }
   },
   "outputs": [
    {
     "data": {
      "text/plain": "65.0"
     },
     "execution_count": 4,
     "metadata": {},
     "output_type": "execute_result"
    }
   ],
   "source": [
    "q = np.quantile(data[:, 1], q=0.75)\n",
    "data[:, 1] = data[:, 1].clip(max=q)\n",
    "q"
   ]
  },
  {
   "cell_type": "markdown",
   "metadata": {
    "id": "Yo8oF1CRXZk5",
    "pycharm": {
     "name": "#%% md\n"
    }
   },
   "source": [
    "4. Посчитайте, для скольких рецептов указана продолжительность, равная нулю. Замените для таких строк значение в данном столбце на 1."
   ]
  },
  {
   "cell_type": "code",
   "execution_count": 5,
   "metadata": {
    "pycharm": {
     "name": "#%%\n"
    }
   },
   "outputs": [
    {
     "name": "stdout",
     "output_type": "stream",
     "text": [
      "479\n"
     ]
    }
   ],
   "source": [
    "print(len(np.where(data[:, 1] == 0)[0]))"
   ]
  },
  {
   "cell_type": "code",
   "execution_count": 7,
   "metadata": {
    "pycharm": {
     "name": "#%%\n"
    }
   },
   "outputs": [
    {
     "data": {
      "text/plain": "array([[127244,     60,     16],\n       [ 23891,     25,      7],\n       [ 94746,     10,      6],\n       ...,\n       [498432,     65,     15],\n       [370915,      5,      4],\n       [ 81993,     65,     14]])"
     },
     "execution_count": 7,
     "metadata": {},
     "output_type": "execute_result"
    }
   ],
   "source": [
    "data[data[:, 1] == 0] = 1\n",
    "data"
   ]
  },
  {
   "cell_type": "markdown",
   "metadata": {
    "id": "MfxfaYUDXZk5",
    "pycharm": {
     "name": "#%% md\n"
    }
   },
   "source": [
    "5. Посчитайте, сколько уникальных рецептов находится в датасете."
   ]
  },
  {
   "cell_type": "code",
   "execution_count": 20,
   "metadata": {
    "pycharm": {
     "name": "#%%\n"
    }
   },
   "outputs": [
    {
     "name": "stdout",
     "output_type": "stream",
     "text": [
      "100000\n"
     ]
    }
   ],
   "source": [
    "print(len(np.unique(data[:, 0])))"
   ]
  },
  {
   "cell_type": "markdown",
   "metadata": {
    "id": "TeXHXuxsXZk5",
    "pycharm": {
     "name": "#%% md\n"
    }
   },
   "source": [
    "6. Сколько и каких различных значений кол-ва ингредиентов присутвует в рецептах из датасета?"
   ]
  },
  {
   "cell_type": "code",
   "execution_count": 8,
   "metadata": {
    "pycharm": {
     "name": "#%%\n"
    }
   },
   "outputs": [
    {
     "name": "stdout",
     "output_type": "stream",
     "text": [
      "37\n",
      "[ 1  2  3  4  5  6  7  8  9 10 11 12 13 14 15 16 17 18 19 20 21 22 23 24\n",
      " 25 26 27 28 29 30 31 32 33 34 35 37 39]\n"
     ]
    }
   ],
   "source": [
    "print(len(np.unique(data[:, 2])))\n",
    "print(np.unique(data[:, 2]))"
   ]
  },
  {
   "cell_type": "markdown",
   "metadata": {
    "id": "bhjRc3opXZk6",
    "pycharm": {
     "name": "#%% md\n"
    }
   },
   "source": [
    "7. Создайте версию массива, содержащую информацию только о рецептах, состоящих не более чем из 5 ингредиентов."
   ]
  },
  {
   "cell_type": "code",
   "execution_count": 9,
   "metadata": {
    "pycharm": {
     "name": "#%%\n"
    }
   },
   "outputs": [
    {
     "data": {
      "text/plain": "array([[446597,     15,      5],\n       [204134,      5,      3],\n       [ 25623,      6,      4],\n       ...,\n       [ 52088,     60,      5],\n       [128811,     15,      4],\n       [370915,      5,      4]])"
     },
     "execution_count": 9,
     "metadata": {},
     "output_type": "execute_result"
    }
   ],
   "source": [
    "data[data[:, 2] <= 5]"
   ]
  },
  {
   "cell_type": "markdown",
   "metadata": {
    "id": "bhjRc3opXZk6",
    "pycharm": {
     "name": "#%% md\n"
    }
   },
   "source": [
    "8. Для каждого рецепта посчитайте, сколько в среднем ингредиентов приходится на одну минуту рецепта. Найдите максимальное значение этой величины для всего датасета."
   ]
  },
  {
   "cell_type": "code",
   "execution_count": 10,
   "metadata": {
    "pycharm": {
     "name": "#%%\n"
    }
   },
   "outputs": [
    {
     "data": {
      "text/plain": "array([0.26666667, 0.28      , 0.6       , ..., 0.23076923, 0.8       ,\n       0.21538462])"
     },
     "execution_count": 10,
     "metadata": {},
     "output_type": "execute_result"
    }
   ],
   "source": [
    "(data[:, 2] / data[:, 1])"
   ]
  },
  {
   "cell_type": "code",
   "execution_count": 11,
   "metadata": {
    "pycharm": {
     "name": "#%%\n"
    }
   },
   "outputs": [
    {
     "data": {
      "text/plain": "23.0"
     },
     "execution_count": 11,
     "metadata": {},
     "output_type": "execute_result"
    }
   ],
   "source": [
    "max(data[:, 2] / data[:, 1])"
   ]
  },
  {
   "cell_type": "markdown",
   "metadata": {
    "id": "bhjRc3opXZk6",
    "pycharm": {
     "name": "#%% md\n"
    }
   },
   "source": [
    "9. Вычислите среднее количество ингредиентов для топ-100 рецептов с наибольшей продолжительностью."
   ]
  },
  {
   "cell_type": "code",
   "execution_count": 12,
   "metadata": {
    "pycharm": {
     "name": "#%%\n"
    }
   },
   "outputs": [
    {
     "name": "stdout",
     "output_type": "stream",
     "text": [
      "9.96\n"
     ]
    }
   ],
   "source": [
    "sortedList = data[data[:,1].argsort()[::-1][:100]]\n",
    "print(np.mean(sortedList[:,2]))"
   ]
  },
  {
   "cell_type": "markdown",
   "metadata": {
    "id": "bhjRc3opXZk6",
    "pycharm": {
     "name": "#%% md\n"
    }
   },
   "source": [
    "10. Выберите случайным образом и выведите информацию о 10 различных рецептах"
   ]
  },
  {
   "cell_type": "code",
   "execution_count": 13,
   "metadata": {
    "pycharm": {
     "name": "#%%\n"
    }
   },
   "outputs": [
    {
     "name": "stdout",
     "output_type": "stream",
     "text": [
      "[[ 78211      5      5]\n",
      " [  6418      5      2]\n",
      " [ 25076      7      5]\n",
      " [ 56294      3      1]\n",
      " [115892      9      2]\n",
      " [ 95811     24      5]\n",
      " [ 19779      3      1]\n",
      " [ 38746      9      0]\n",
      " [245167      5      8]\n",
      " [ 48853     15      5]]\n"
     ]
    }
   ],
   "source": [
    "arr_1 = np.random.randint(data)\n",
    "print(arr_1[:10])"
   ]
  },
  {
   "cell_type": "markdown",
   "metadata": {
    "id": "Ro9WjaJHXZk7",
    "pycharm": {
     "name": "#%% md\n"
    }
   },
   "source": [
    "11. Выведите процент рецептов, кол-во ингредиентов в которых меньше среднего."
   ]
  },
  {
   "cell_type": "code",
   "execution_count": 14,
   "metadata": {
    "pycharm": {
     "name": "#%%\n"
    }
   },
   "outputs": [
    {
     "name": "stdout",
     "output_type": "stream",
     "text": [
      "58.989\n"
     ]
    }
   ],
   "source": [
    "avg = np.mean(data[:,2])\n",
    "count = np.where(data[:,2]<avg)\n",
    "avg = data[count].size #рецептов, кол-во ингредиентов в которых меньше среднего\n",
    "\n",
    "count = np.where(data[:,0])\n",
    "percent = avg * 100 / data[count].size\n",
    "print(percent)"
   ]
  },
  {
   "cell_type": "markdown",
   "metadata": {
    "id": "3Ly5pNySXZk7",
    "pycharm": {
     "name": "#%% md\n"
    }
   },
   "source": [
    "12. Назовем \"простым\" такой рецепт, длительность выполнения которого не больше 20 минут и кол-во ингредиентов в котором не больше 5. Создайте версию датасета с дополнительным столбцом, значениями которого являются 1, если рецепт простой, и 0 в противном случае."
   ]
  },
  {
   "cell_type": "code",
   "execution_count": 15,
   "metadata": {
    "pycharm": {
     "name": "#%%\n"
    }
   },
   "outputs": [
    {
     "name": "stdout",
     "output_type": "stream",
     "text": [
      "[[127244     60     16      0]\n",
      " [ 23891     25      7      0]\n",
      " [ 94746     10      6      0]\n",
      " [ 67660      5      6      0]\n",
      " [157911     60     14      0]\n",
      " [152828     40      7      0]\n",
      " [ 33941     18      9      0]\n",
      " [446597     15      5      1]\n",
      " [366174      7      9      0]\n",
      " [ 74205     20      7      0]\n",
      " [504666     65     20      0]\n",
      " [ 81006     12      7      0]\n",
      " [280968     65     11      0]]\n"
     ]
    }
   ],
   "source": [
    "easy = (data[:,1] <= 20) & (data[:,2] <= 5) # длительность выполнения которого не больше 20 минут и кол-во ингредиентов в котором не больше 5\n",
    "nulls = np.zeros((len(data),1), dtype = 'int32')\n",
    "easyList= np.append(data,nulls,axis=1)\n",
    "easyList[:,3]=np.where(easy,1,easy)\n",
    "print(easyList[:13])"
   ]
  },
  {
   "cell_type": "markdown",
   "metadata": {
    "id": "1h4cig32XZk7",
    "pycharm": {
     "name": "#%% md\n"
    }
   },
   "source": [
    "13. Выведите процент \"простых\" рецептов в датасете"
   ]
  },
  {
   "cell_type": "code",
   "execution_count": 16,
   "metadata": {
    "pycharm": {
     "name": "#%%\n"
    }
   },
   "outputs": [
    {
     "name": "stdout",
     "output_type": "stream",
     "text": [
      "9.943\n"
     ]
    }
   ],
   "source": [
    "print(data[easy].size * 100 / data[count].size)"
   ]
  },
  {
   "cell_type": "markdown",
   "metadata": {
    "id": "qR4lVThaXZk7",
    "pycharm": {
     "name": "#%% md\n"
    }
   },
   "source": [
    "14. Разделим рецепты на группы по следующему правилу. Назовем рецепты короткими, если их продолжительность составляет менее 10 минут; стандартными, если их продолжительность составляет более 10, но менее 20 минут; и длинными, если их продолжительность составляет не менее 20 минут. Создайте трехмерный массив, где нулевая ось отвечает за номер группы (короткий, стандартный или длинный рецепт), первая ось - за сам рецепт и вторая ось - за характеристики рецепта. Выберите максимальное количество рецептов из каждой группы таким образом, чтобы было возможно сформировать трехмерный массив. Выведите форму полученного массива."
   ]
  },
  {
   "cell_type": "code",
   "execution_count": 40,
   "outputs": [
    {
     "data": {
      "text/plain": "300000"
     },
     "execution_count": 40,
     "metadata": {},
     "output_type": "execute_result"
    }
   ],
   "source": [
    "data.size"
   ],
   "metadata": {
    "collapsed": false,
    "pycharm": {
     "name": "#%%\n"
    }
   }
  },
  {
   "cell_type": "code",
   "execution_count": 35,
   "metadata": {
    "id": "gFQ0zKqMXZk8",
    "pycharm": {
     "name": "#%%\n"
    }
   },
   "outputs": [
    {
     "name": "stdout",
     "output_type": "stream",
     "text": [
      "[[[ 94746     10      6]\n",
      "  [ 67660      5      6]\n",
      "  [366174      7      9]\n",
      "  ...\n",
      "  [  7983      0      6]\n",
      "  [184171      5      2]\n",
      "  [ 89181      5      7]]\n",
      "\n",
      " [[ 33941     18      9]\n",
      "  [446597     15      5]\n",
      "  [ 81006     12      7]\n",
      "  ...\n",
      "  [ 44120     17      5]\n",
      "  [ 60756     15      5]\n",
      "  [128811     15      4]]\n",
      "\n",
      " [[127244     60     16]\n",
      "  [ 23891     25      7]\n",
      "  [157911     60     14]\n",
      "  ...\n",
      "  [186515    220     11]\n",
      "  [372540     50      6]\n",
      "  [172926    120     13]]]\n"
     ]
    },
    {
     "data": {
      "text/plain": "3"
     },
     "execution_count": 35,
     "metadata": {},
     "output_type": "execute_result"
    }
   ],
   "source": [
    "short = np.where(data[:,1]<=10)\n",
    "normal = np.where((data[:,1] < 20) & (data[:,1] > 10))\n",
    "long = np.where(data[:,1]>=20)\n",
    "\n",
    "#maxi = max(len(short), len(normal), len(long)) #7783 - ValueError: all input arrays must have the same shape\n",
    "tDim = np.stack((data[short][:7783],data[normal],data[long][:7783]))\n",
    "print(tDim)\n",
    "tDim.ndim"
   ]
  },
  {
   "cell_type": "code",
   "execution_count": 36,
   "outputs": [
    {
     "data": {
      "text/plain": "array([[ 94746,     10,      6],\n       [ 67660,      5,      6],\n       [366174,      7,      9],\n       ...,\n       [  7983,      0,      6],\n       [184171,      5,      2],\n       [ 89181,      5,      7]])"
     },
     "execution_count": 36,
     "metadata": {},
     "output_type": "execute_result"
    }
   ],
   "source": [
    "tDim[0]"
   ],
   "metadata": {
    "collapsed": false,
    "pycharm": {
     "name": "#%%\n"
    }
   }
  },
  {
   "cell_type": "code",
   "execution_count": 37,
   "outputs": [
    {
     "data": {
      "text/plain": "array([[ 33941,     18,      9],\n       [446597,     15,      5],\n       [ 81006,     12,      7],\n       ...,\n       [ 44120,     17,      5],\n       [ 60756,     15,      5],\n       [128811,     15,      4]])"
     },
     "execution_count": 37,
     "metadata": {},
     "output_type": "execute_result"
    }
   ],
   "source": [
    "tDim[1]"
   ],
   "metadata": {
    "collapsed": false,
    "pycharm": {
     "name": "#%%\n"
    }
   }
  },
  {
   "cell_type": "code",
   "execution_count": 38,
   "outputs": [
    {
     "data": {
      "text/plain": "array([[127244,     60,     16],\n       [ 23891,     25,      7],\n       [157911,     60,     14],\n       ...,\n       [186515,    220,     11],\n       [372540,     50,      6],\n       [172926,    120,     13]])"
     },
     "execution_count": 38,
     "metadata": {},
     "output_type": "execute_result"
    }
   ],
   "source": [
    "tDim[2]"
   ],
   "metadata": {
    "collapsed": false,
    "pycharm": {
     "name": "#%%\n"
    }
   }
  },
  {
   "cell_type": "code",
   "execution_count": 39,
   "outputs": [
    {
     "data": {
      "text/plain": "(3, 7783, 3)"
     },
     "execution_count": 39,
     "metadata": {},
     "output_type": "execute_result"
    }
   ],
   "source": [
    "tDim.shape"
   ],
   "metadata": {
    "collapsed": false,
    "pycharm": {
     "name": "#%%\n"
    }
   }
  },
  {
   "cell_type": "code",
   "execution_count": null,
   "outputs": [],
   "source": [],
   "metadata": {
    "collapsed": false,
    "pycharm": {
     "name": "#%%\n"
    }
   }
  }
 ],
 "metadata": {
  "colab": {
   "provenance": []
  },
  "kernelspec": {
   "display_name": "Python 3 (ipykernel)",
   "language": "python",
   "name": "python3"
  },
  "language_info": {
   "codemirror_mode": {
    "name": "ipython",
    "version": 3
   },
   "file_extension": ".py",
   "mimetype": "text/x-python",
   "name": "python",
   "nbconvert_exporter": "python",
   "pygments_lexer": "ipython3",
   "version": "3.9.7"
  }
 },
 "nbformat": 4,
 "nbformat_minor": 1
}