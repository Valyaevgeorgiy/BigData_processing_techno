{
 "cells": [
  {
   "cell_type": "markdown",
   "metadata": {
    "colab_type": "text",
    "id": "h8gsBtzoGEhe",
    "pycharm": {
     "name": "#%% md\n"
    }
   },
   "source": [
    "---"
   ]
  },
  {
   "cell_type": "markdown",
   "metadata": {
    "colab_type": "text",
    "id": "f32591XJK7kw",
    "pycharm": {
     "name": "#%% md\n"
    }
   },
   "source": [
    "библиотека Numpy и линейная алгебра\n"
   ]
  },
  {
   "cell_type": "code",
   "execution_count": 1,
   "metadata": {
    "colab": {},
    "colab_type": "code",
    "id": "YEJ8DQ4QK7kx",
    "pycharm": {
     "name": "#%%\n"
    }
   },
   "outputs": [],
   "source": [
    "import numpy as np\n",
    "import random\n",
    "import scipy.stats as sps"
   ]
  },
  {
   "cell_type": "markdown",
   "metadata": {
    "colab_type": "text",
    "id": "5_eFZpeoK7k2",
    "pycharm": {
     "name": "#%% md\n"
    }
   },
   "source": [
    "### Numpy"
   ]
  },
  {
   "cell_type": "markdown",
   "metadata": {
    "colab_type": "text",
    "id": "hYXhVX0eK7k2",
    "pycharm": {
     "name": "#%% md\n"
    }
   },
   "source": [
    "### Задание 1\n",
    "В первой задаче вам предлагается перемножить две квадратные матрицы двумя способами -- без использования пакета ***numpy*** и с ним."
   ]
  },
  {
   "cell_type": "code",
   "execution_count": 2,
   "metadata": {
    "colab": {
     "base_uri": "https://localhost:8080/",
     "height": 255
    },
    "colab_type": "code",
    "executionInfo": {
     "elapsed": 995,
     "status": "ok",
     "timestamp": 1538914072925,
     "user": {
      "displayName": "Илья Дмитриевич Захаркин",
      "photoUrl": "",
      "userId": "09157257912804633784"
     },
     "user_tz": -180
    },
    "id": "zJR8EANzK7k3",
    "outputId": "44277455-5875-4c28-c445-1e5fba38f950",
    "pycharm": {
     "name": "#%%\n"
    }
   },
   "outputs": [
    {
     "name": "stdout",
     "output_type": "stream",
     "text": [
      "[[0.50721446 0.13010375 0.56079029 ... 0.11739027 0.91329646 0.50048389]\n",
      " [0.33210145 0.43346584 0.488255   ... 0.34626022 0.68387701 0.45755397]\n",
      " [0.82753224 0.09293742 0.27760024 ... 0.40742023 0.84860379 0.98784904]\n",
      " ...\n",
      " [0.41564137 0.37419007 0.76073607 ... 0.11621673 0.06903585 0.31820983]\n",
      " [0.19312092 0.75204522 0.92598002 ... 0.36987287 0.08626834 0.49689541]\n",
      " [0.71321982 0.4127667  0.89125408 ... 0.91370715 0.87689189 0.22603405]]\n",
      "[[0.13383781 0.93989992 0.34996094 ... 0.77866224 0.82153822 0.12738374]\n",
      " [0.97980043 0.38360763 0.88310126 ... 0.70799698 0.59679242 0.29799293]\n",
      " [0.63562761 0.47843834 0.08479996 ... 0.94148075 0.69063186 0.0382195 ]\n",
      " ...\n",
      " [0.45954851 0.15003065 0.80485593 ... 0.72296596 0.30149856 0.48822584]\n",
      " [0.32716899 0.96398441 0.43144535 ... 0.26929937 0.04517573 0.94026327]\n",
      " [0.72900258 0.27298927 0.62754944 ... 0.42641102 0.36583148 0.7924864 ]]\n"
     ]
    }
   ],
   "source": [
    "a = np.random.sample((100, 100))\n",
    "b = np.random.sample((100, 100))\n",
    "\n",
    "print(a)\n",
    "print(b)"
   ]
  },
  {
   "cell_type": "code",
   "execution_count": 3,
   "metadata": {
    "colab": {},
    "colab_type": "code",
    "id": "bkWCI4TPK7k8",
    "pycharm": {
     "name": "#%%\n"
    }
   },
   "outputs": [],
   "source": [
    "def mult(a, b):\n",
    "   \n",
    "    c = [[0 for _ in range(len(a))] for _ in range(len(b[0]))]\n",
    "    for i in range(len(a)):\n",
    "        for j in range(len(b)):\n",
    "            for k in range(len(a[0])):\n",
    "                c[i][j] += a[i][k] * b[k][j]\n",
    "    return c"
   ]
  },
  {
   "cell_type": "code",
   "execution_count": 4,
   "metadata": {
    "colab": {},
    "colab_type": "code",
    "id": "IIgYD1W5K7lB",
    "pycharm": {
     "name": "#%%\n"
    }
   },
   "outputs": [],
   "source": [
    "def np_mult(a, b):\n",
    "    \n",
    "    return a @ b"
   ]
  },
  {
   "cell_type": "code",
   "execution_count": 5,
   "metadata": {
    "colab": {
     "base_uri": "https://localhost:8080/",
     "height": 51
    },
    "colab_type": "code",
    "executionInfo": {
     "elapsed": 1616,
     "status": "ok",
     "timestamp": 1538914076214,
     "user": {
      "displayName": "Илья Дмитриевич Захаркин",
      "photoUrl": "",
      "userId": "09157257912804633784"
     },
     "user_tz": -180
    },
    "id": "tktkYzUHK7lE",
    "outputId": "9e9c5db8-cd49-4c0f-cb11-97825805163b",
    "pycharm": {
     "name": "#%%\n"
    }
   },
   "outputs": [
    {
     "name": "stdout",
     "output_type": "stream",
     "text": [
      "CPU times: total: 1.22 s\n",
      "Wall time: 1.28 s\n"
     ]
    }
   ],
   "source": [
    "%%time\n",
    "\n",
    "M1 = mult(a, b)"
   ]
  },
  {
   "cell_type": "code",
   "execution_count": 6,
   "metadata": {
    "colab": {
     "base_uri": "https://localhost:8080/",
     "height": 51
    },
    "colab_type": "code",
    "executionInfo": {
     "elapsed": 734,
     "status": "ok",
     "timestamp": 1538914076972,
     "user": {
      "displayName": "Илья Дмитриевич Захаркин",
      "photoUrl": "",
      "userId": "09157257912804633784"
     },
     "user_tz": -180
    },
    "id": "TmD0adgHK7lK",
    "outputId": "2a78a62c-c2b2-45de-d417-30fcdfb11cf3",
    "pycharm": {
     "name": "#%%\n"
    }
   },
   "outputs": [
    {
     "name": "stdout",
     "output_type": "stream",
     "text": [
      "CPU times: total: 0 ns\n",
      "Wall time: 6.99 ms\n"
     ]
    }
   ],
   "source": [
    "%%time\n",
    "# засечем время работы функции с NumPy\n",
    "M2 = np_mult(a, b)"
   ]
  },
  {
   "cell_type": "code",
   "execution_count": 7,
   "metadata": {
    "colab": {
     "base_uri": "https://localhost:8080/",
     "height": 34
    },
    "colab_type": "code",
    "executionInfo": {
     "elapsed": 664,
     "status": "ok",
     "timestamp": 1538914077750,
     "user": {
      "displayName": "Илья Дмитриевич Захаркин",
      "photoUrl": "",
      "userId": "09157257912804633784"
     },
     "user_tz": -180
    },
    "id": "oftqyANQK7lS",
    "outputId": "8dac878b-70c9-4f2e-fff9-994a73fcd757",
    "pycharm": {
     "name": "#%%\n"
    }
   },
   "outputs": [
    {
     "data": {
      "text/plain": "1.4729550912306877e-11"
     },
     "execution_count": 7,
     "metadata": {},
     "output_type": "execute_result"
    }
   ],
   "source": [
    "np.abs(np.array(M1) - M2).sum()"
   ]
  },
  {
   "cell_type": "markdown",
   "metadata": {
    "colab_type": "text",
    "id": "mJXeUuznK7lm",
    "pycharm": {
     "name": "#%% md\n"
    }
   },
   "source": [
    "### Задание 2\n",
    "Напишите функцию, которая по данной последовательности $\\{A_i\\}_{i=1}^n$ строит последовательность $S_n$, где $S_k = \\frac{A_1 + ... + A_k}{k}$.  \n",
    "Аналогично -- с помощью библиотеки **NumPy** и без нее. Сравните скорость."
   ]
  },
  {
   "cell_type": "code",
   "execution_count": 8,
   "metadata": {
    "colab": {},
    "colab_type": "code",
    "id": "REgL39ksK7lr",
    "pycharm": {
     "name": "#%%\n"
    }
   },
   "outputs": [],
   "source": [
    "# функция, решающая задачу с помощью NumPy\n",
    "def sec_av(A):\n",
    "    return np.cumsum(A) / np.arange(1, len(A)+1)"
   ]
  },
  {
   "cell_type": "code",
   "execution_count": 9,
   "metadata": {
    "colab": {},
    "colab_type": "code",
    "id": "io2ojPJEK7ln",
    "pycharm": {
     "name": "#%%\n"
    }
   },
   "outputs": [],
   "source": [
    "# функция без NumPy\n",
    "def stupid_sec_av(A):\n",
    "    S = [sum(A[:i+1])/(i+1) for i in range(len(A))]\n",
    "    return S"
   ]
  },
  {
   "cell_type": "code",
   "execution_count": 10,
   "metadata": {
    "colab": {
     "base_uri": "https://localhost:8080/",
     "height": 102
    },
    "colab_type": "code",
    "executionInfo": {
     "elapsed": 596,
     "status": "ok",
     "timestamp": 1538914095144,
     "user": {
      "displayName": "Илья Дмитриевич Захаркин",
      "photoUrl": "",
      "userId": "09157257912804633784"
     },
     "user_tz": -180
    },
    "id": "HcVN8MagK7lw",
    "outputId": "a4cc2ffd-84f2-46b5-9789-aa728d8899f9",
    "pycharm": {
     "name": "#%%\n"
    }
   },
   "outputs": [
    {
     "name": "stdout",
     "output_type": "stream",
     "text": [
      "CPU times: total: 109 ms\n",
      "Wall time: 88 ms\n",
      "CPU times: total: 0 ns\n",
      "Wall time: 0 ns\n"
     ]
    },
    {
     "data": {
      "text/plain": "0.0"
     },
     "execution_count": 10,
     "metadata": {},
     "output_type": "execute_result"
    }
   ],
   "source": [
    "# зададим некоторую последовательность и проверим ее на ваших функциях. \n",
    "# вторая функция должна работать ~ в 50 раз быстрее\n",
    "A = sps.uniform.rvs(size=10**3) \n",
    "\n",
    "%time S1 = stupid_sec_av(A)\n",
    "%time S2 = sec_av(A)\n",
    "# проверим корректность (последовательности должны совпадать, т.е. разность равна 0):\n",
    "np.abs(S1 - S2).sum()"
   ]
  },
  {
   "cell_type": "markdown",
   "metadata": {
    "colab_type": "text",
    "id": "teVCPWZmK7l5",
    "pycharm": {
     "name": "#%% md\n"
    }
   },
   "source": [
    "### Задание 3\n",
    "\n",
    "Пусть задан некоторый массив $X$. Надо построить новый массив, где все элементы с нечетными индексами требуется заменить на число $a$ (если оно не указано, то на 1). Все четные элементы исходного массива нужно возвести в куб и записать в обратном порядке относительно позиций этих элементов. Массив $X$ при этом должен остаться *без изменений*. В конце требуется слить массив X с преобразованным X и вывести в обратном порядке.  \n",
    "\n",
    "Пример:  \n",
    "X = [100, 200, 300, 400, 500] -> [100, a, 300, a, 500] -> [500^3, a, 300^3, a, 100^3] -> склеиваем -> [100, 200, 300, 400, 500, 500^3, a, 300^3, a, 100^3]"
   ]
  },
  {
   "cell_type": "code",
   "execution_count": 11,
   "metadata": {
    "colab": {},
    "colab_type": "code",
    "id": "0hmcvfDVK7l-",
    "pycharm": {
     "name": "#%%\n"
    }
   },
   "outputs": [],
   "source": [
    "# функция, решающая задачу с помощью NumPy\n",
    "def transformation(X, a=1):\n",
    "    N = np.array(X[::-1])\n",
    "    N[1::2] = a\n",
    "    N[::2] = N[::2] ** 3\n",
    "    return np.hstack((np.array(X) , N))"
   ]
  },
  {
   "cell_type": "code",
   "execution_count": 12,
   "metadata": {
    "colab": {},
    "colab_type": "code",
    "id": "XBIDGhS3K7l6",
    "pycharm": {
     "name": "#%%\n"
    }
   },
   "outputs": [],
   "source": [
    "# функция, решающая задачу  без NumPy\n",
    "def stupid_transformation(X, a=1):\n",
    "    N = X[::-1]\n",
    "    N[1::2] = [a for _ in range(len(N[1::2]))]\n",
    "    N[::2] = [x**3 for x in N[::2]]\n",
    "    return X + N"
   ]
  },
  {
   "cell_type": "code",
   "execution_count": 13,
   "metadata": {
    "colab": {
     "base_uri": "https://localhost:8080/",
     "height": 102
    },
    "colab_type": "code",
    "executionInfo": {
     "elapsed": 633,
     "status": "ok",
     "timestamp": 1538914101381,
     "user": {
      "displayName": "Илья Дмитриевич Захаркин",
      "photoUrl": "",
      "userId": "09157257912804633784"
     },
     "user_tz": -180
    },
    "id": "r2-JLMhxK7mE",
    "outputId": "13559189-f157-4649-dc9d-f12af1366519",
    "pycharm": {
     "name": "#%%\n"
    }
   },
   "outputs": [
    {
     "name": "stdout",
     "output_type": "stream",
     "text": [
      "CPU times: total: 0 ns\n",
      "Wall time: 0 ns\n",
      "CPU times: total: 0 ns\n",
      "Wall time: 0 ns\n"
     ]
    },
    {
     "data": {
      "text/plain": "0"
     },
     "execution_count": 13,
     "metadata": {},
     "output_type": "execute_result"
    }
   ],
   "source": [
    "X = [i for i in range(10, 1000, 10)]\n",
    "# здесь код должен быть эффективнее примерно в 20 раз. \n",
    "%time S1 = stupid_transformation(X)\n",
    "%time S2 = transformation(X)\n",
    "# проверим корректность:\n",
    "np.abs(S1 - S2).sum()"
   ]
  },
  {
   "cell_type": "markdown",
   "metadata": {
    "colab_type": "text",
    "id": "NHaHu6q1K7mH",
    "pycharm": {
     "name": "#%% md\n"
    }
   },
   "source": [
    "Почему методы ***numpy*** оказываются эффективнее (можно гуглить)?"
   ]
  },
  {
   "cell_type": "markdown",
   "metadata": {
    "colab_type": "text",
    "id": "wFMQLm7objTU",
    "pycharm": {
     "name": "#%% md\n"
    }
   },
   "source": [
    "Что вы можете сказать о скорости вычислений в NumPy? Ответ обоснуйте."
   ]
  },
  {
   "cell_type": "markdown",
   "metadata": {
    "colab_type": "text",
    "id": "_A3p2s4eK7mI",
    "pycharm": {
     "name": "#%% md\n"
    }
   },
   "source": [
    "**Ответ:** Скорость вычислений вектоных и матричных операций в NumPy сильно превосходит скорость вычислений без него, по большей части потому, что функции numpy работаю с массивами данных одного типа (числовыми), это позволяет реализовать встроенные функции numpy на C/C++, что, конечно, делает numpy быстрее (функции, которые вызывает Numpy для работы с числовыми данными, сильно оптимизированы именно под эти задачи, а сам Python просто гоняет интерпретатор по циклу в таких операциях, что является чуть ли не самым большим замедлением в работе интерпретатора)."
   ]
  },
  {
   "cell_type": "markdown",
   "metadata": {
    "colab_type": "text",
    "id": "2itTyTlcaHAu",
    "pycharm": {
     "name": "#%% md\n"
    }
   },
   "source": [
    "### Задание 4"
   ]
  },
  {
   "cell_type": "markdown",
   "metadata": {
    "colab_type": "text",
    "id": "BCemQSq-aEbO",
    "pycharm": {
     "name": "#%% md\n"
    }
   },
   "source": [
    "Вам подаются на вход два вектора `a` и `b` в трехмерном пространстве.Заполните их случайными числами. Реализуйте их скалярное произведение с помощью  `NumPy` и без. Засеките время работы, как это показано в заданиях выше."
   ]
  },
  {
   "cell_type": "code",
   "execution_count": 14,
   "metadata": {
    "colab": {
     "base_uri": "https://localhost:8080/",
     "height": 34
    },
    "colab_type": "code",
    "executionInfo": {
     "elapsed": 597,
     "status": "ok",
     "timestamp": 1538914106292,
     "user": {
      "displayName": "Илья Дмитриевич Захаркин",
      "photoUrl": "",
      "userId": "09157257912804633784"
     },
     "user_tz": -180
    },
    "id": "lWhr_gPSZ9o_",
    "outputId": "734d9bf4-8c98-46a1-ffcc-934d0805024d",
    "pycharm": {
     "name": "#%%\n"
    }
   },
   "outputs": [
    {
     "name": "stdout",
     "output_type": "stream",
     "text": [
      "[0.37839767 0.49356166 0.35140624] [0.55887287 0.45707705 0.77514939]\n"
     ]
    }
   ],
   "source": [
    "a = np.random.sample((1, 3))\n",
    "a = list(a)[0]\n",
    "b = np.random.sample((1, 3))\n",
    "b = list(b)[0]\n",
    "print(a, b)"
   ]
  },
  {
   "cell_type": "code",
   "execution_count": 15,
   "metadata": {
    "colab": {},
    "colab_type": "code",
    "id": "GjlkcHIWZ_ae",
    "pycharm": {
     "name": "#%%\n"
    }
   },
   "outputs": [],
   "source": [
    "def stupid_scalar_product(a,b):\n",
    "    return sum([x * y for (x, y) in zip(a, b)])"
   ]
  },
  {
   "cell_type": "code",
   "execution_count": 16,
   "metadata": {
    "colab": {},
    "colab_type": "code",
    "id": "C2M-OAp5Z_6a",
    "pycharm": {
     "name": "#%%\n"
    }
   },
   "outputs": [],
   "source": [
    "def numpy_scalar_product(a,b):\n",
    "    return a @ b"
   ]
  },
  {
   "cell_type": "code",
   "execution_count": 17,
   "metadata": {
    "colab": {
     "base_uri": "https://localhost:8080/",
     "height": 102
    },
    "colab_type": "code",
    "executionInfo": {
     "elapsed": 640,
     "status": "ok",
     "timestamp": 1538914108649,
     "user": {
      "displayName": "Илья Дмитриевич Захаркин",
      "photoUrl": "",
      "userId": "09157257912804633784"
     },
     "user_tz": -180
    },
    "id": "BOQfYf-2aCQJ",
    "outputId": "6a85f59a-2073-4824-e1bf-acf96ed274a0",
    "pycharm": {
     "name": "#%%\n"
    }
   },
   "outputs": [
    {
     "name": "stdout",
     "output_type": "stream",
     "text": [
      "CPU times: total: 0 ns\n",
      "Wall time: 0 ns\n",
      "CPU times: total: 0 ns\n",
      "Wall time: 0 ns\n"
     ]
    },
    {
     "data": {
      "text/plain": "0.0"
     },
     "execution_count": 17,
     "metadata": {},
     "output_type": "execute_result"
    }
   ],
   "source": [
    "%time product_1 = stupid_scalar_product(a,b)\n",
    "%time product_2 = numpy_scalar_product(a,b)\n",
    "# проверим корректность:\n",
    "np.abs(product_1 - product_2).sum()"
   ]
  },
  {
   "cell_type": "markdown",
   "metadata": {
    "pycharm": {
     "name": "#%% md\n"
    }
   },
   "source": [
    "### Задание 5*"
   ]
  },
  {
   "cell_type": "markdown",
   "metadata": {
    "pycharm": {
     "name": "#%% md\n"
    }
   },
   "source": [
    "Нужно написать матричное произведение БЕЗ циклов и БЕЗ символа @, БЕЗ `np.dot` и вообще БЕЗ какой-либо вспомогательной функции из `numpy`, то есть пользуясь только индексированием, взятем суммы по нужным осям и поэлементным произведенем (да, это возможно). Рекомендуем гуглить по запросу \"NumPy broadcasting\""
   ]
  },
  {
   "cell_type": "code",
   "execution_count": 19,
   "metadata": {
    "pycharm": {
     "name": "#%%\n"
    }
   },
   "outputs": [],
   "source": [
    "def cool_matrix_product(A, B):\n",
    "    # налейте чаю, удобно присядьте и просто осознайте это :)\n",
    "    # (на самом деле просто распишите, что получается про numpy broadcasting)\n",
    "    return (A[:,:, None] * B[None,:,:]).sum(axis=1)  "
   ]
  },
  {
   "cell_type": "code",
   "execution_count": 20,
   "metadata": {
    "pycharm": {
     "name": "#%%\n"
    }
   },
   "outputs": [],
   "source": [
    "A = np.random.sample((100, 100))\n",
    "B = np.random.sample((100, 100))"
   ]
  },
  {
   "cell_type": "code",
   "execution_count": 22,
   "metadata": {
    "pycharm": {
     "name": "#%%\n"
    }
   },
   "outputs": [
    {
     "data": {
      "text/plain": [
       "array([ 3.19744231e-14, -2.48689958e-14,  3.90798505e-14, -4.97379915e-14,\n",
       "       -3.19744231e-14,  2.13162821e-14, -2.13162821e-14,  1.77635684e-14,\n",
       "       -2.48689958e-14,  1.77635684e-14,  3.55271368e-15,  1.06581410e-14,\n",
       "       -1.42108547e-14, -1.77635684e-14,  4.26325641e-14, -3.55271368e-15,\n",
       "       -1.77635684e-14,  3.19744231e-14,  2.84217094e-14, -2.13162821e-14,\n",
       "        1.42108547e-14,  1.42108547e-14, -7.10542736e-15, -3.19744231e-14,\n",
       "        1.06581410e-14, -3.55271368e-15, -1.06581410e-14, -2.48689958e-14,\n",
       "       -2.48689958e-14,  1.42108547e-14,  4.97379915e-14,  1.06581410e-14,\n",
       "       -3.55271368e-15,  6.75015599e-14, -2.84217094e-14, -7.10542736e-14,\n",
       "       -1.77635684e-14,  2.84217094e-14,  1.06581410e-14,  3.19744231e-14,\n",
       "        1.42108547e-14, -5.68434189e-14, -1.06581410e-14,  3.19744231e-14,\n",
       "       -1.42108547e-14,  2.48689958e-14, -5.68434189e-14,  0.00000000e+00,\n",
       "        2.84217094e-14,  2.48689958e-14, -1.77635684e-14, -3.55271368e-14,\n",
       "       -2.84217094e-14, -4.26325641e-14,  1.77635684e-14,  4.61852778e-14,\n",
       "       -1.77635684e-14,  2.84217094e-14,  3.55271368e-15, -2.13162821e-14,\n",
       "        3.90798505e-14,  2.13162821e-14,  2.13162821e-14,  1.42108547e-14,\n",
       "        3.55271368e-15, -7.10542736e-15, -3.55271368e-14,  2.13162821e-14,\n",
       "       -1.06581410e-14,  3.55271368e-15, -2.13162821e-14,  4.97379915e-14,\n",
       "       -3.55271368e-15, -1.42108547e-14,  6.03961325e-14,  4.97379915e-14,\n",
       "       -5.68434189e-14,  3.90798505e-14, -5.32907052e-14, -1.77635684e-14,\n",
       "        1.06581410e-14, -2.13162821e-14,  3.90798505e-14,  7.10542736e-15,\n",
       "        0.00000000e+00, -5.32907052e-14,  0.00000000e+00,  1.06581410e-14,\n",
       "       -1.77635684e-14,  3.55271368e-14,  4.97379915e-14,  7.10542736e-15,\n",
       "        3.55271368e-14, -3.55271368e-15,  2.48689958e-14, -2.48689958e-14,\n",
       "       -1.63424829e-13,  5.68434189e-14,  2.84217094e-14, -4.97379915e-14])"
      ]
     },
     "execution_count": 22,
     "metadata": {},
     "output_type": "execute_result"
    }
   ],
   "source": [
    "np.sum(A@B - cool_matrix_product(A, B), axis=0)"
   ]
  },
  {
   "cell_type": "markdown",
   "metadata": {
    "pycharm": {
     "name": "#%% md\n"
    }
   },
   "source": [
    "(машинный ноль)"
   ]
  }
 ],
 "metadata": {
  "colab": {
   "collapsed_sections": [],
   "name": "[hw_solution]numpy.ipynb",
   "provenance": [],
   "version": "0.3.2"
  },
  "kernelspec": {
   "display_name": "Python 3",
   "language": "python",
   "name": "python3"
  },
  "language_info": {
   "codemirror_mode": {
    "name": "ipython",
    "version": 3
   },
   "file_extension": ".py",
   "mimetype": "text/x-python",
   "name": "python",
   "nbconvert_exporter": "python",
   "pygments_lexer": "ipython3",
   "version": "3.7.1"
  }
 },
 "nbformat": 4,
 "nbformat_minor": 1
}