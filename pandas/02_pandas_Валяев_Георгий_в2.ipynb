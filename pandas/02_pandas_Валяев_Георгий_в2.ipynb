{
 "cells": [
  {
   "cell_type": "markdown",
   "metadata": {
    "pycharm": {
     "name": "#%% md\n"
    }
   },
   "source": [
    "# Pandas"
   ]
  },
  {
   "cell_type": "code",
   "execution_count": 1,
   "outputs": [],
   "source": [
    "import pandas as pd\n",
    "import numpy as np"
   ],
   "metadata": {
    "collapsed": false,
    "pycharm": {
     "name": "#%%\n"
    }
   }
  },
  {
   "cell_type": "markdown",
   "metadata": {
    "pycharm": {
     "name": "#%% md\n"
    }
   },
   "source": [
    "Материалы:\n",
    "* Макрушин С.В. \"Лекция 2: Библиотека Pandas\"\n",
    "* https://pandas.pydata.org/docs/user_guide/index.html#\n",
    "* https://pandas.pydata.org/docs/reference/index.html\n",
    "* Уэс Маккини. Python и анализ данных"
   ]
  },
  {
   "cell_type": "markdown",
   "metadata": {
    "pycharm": {
     "name": "#%% md\n"
    }
   },
   "source": [
    "## Задачи для совместного разбора"
   ]
  },
  {
   "cell_type": "markdown",
   "metadata": {
    "pycharm": {
     "name": "#%% md\n"
    }
   },
   "source": [
    "1. Загрузите данные из файла `sp500hst.txt` и обозначьте столбцы в соответствии с содержимым: `\"date\", \"ticker\", \"open\", \"high\", \"low\", \"close\", \"volume\"`."
   ]
  },
  {
   "cell_type": "code",
   "execution_count": 2,
   "outputs": [
    {
     "data": {
      "text/plain": "            date ticker   open     high     low  close  volume\n0       20090821      A  25.60  25.6100  25.220  25.55   34758\n1       20090824      A  25.64  25.7400  25.330  25.50   22247\n2       20090825      A  25.50  25.7000  25.225  25.34   30891\n3       20090826      A  25.32  25.6425  25.145  25.48   33334\n4       20090827      A  25.50  25.5700  25.230  25.54   70176\n...          ...    ...    ...      ...     ...    ...     ...\n122569  20100813    ZMH  51.72  51.9000  51.380  51.44   14561\n122570  20100816    ZMH  51.13  51.4700  50.600  51.00   13489\n122571  20100817    ZMH  51.14  51.6000  50.890  51.21   20498\n122572  20100819    ZMH  51.63  51.6300  50.170  50.22   18259\n122573  20100820    ZMH  50.03  50.5500  49.480  49.82   17792\n\n[122574 rows x 7 columns]",
      "text/html": "<div>\n<style scoped>\n    .dataframe tbody tr th:only-of-type {\n        vertical-align: middle;\n    }\n\n    .dataframe tbody tr th {\n        vertical-align: top;\n    }\n\n    .dataframe thead th {\n        text-align: right;\n    }\n</style>\n<table border=\"1\" class=\"dataframe\">\n  <thead>\n    <tr style=\"text-align: right;\">\n      <th></th>\n      <th>date</th>\n      <th>ticker</th>\n      <th>open</th>\n      <th>high</th>\n      <th>low</th>\n      <th>close</th>\n      <th>volume</th>\n    </tr>\n  </thead>\n  <tbody>\n    <tr>\n      <th>0</th>\n      <td>20090821</td>\n      <td>A</td>\n      <td>25.60</td>\n      <td>25.6100</td>\n      <td>25.220</td>\n      <td>25.55</td>\n      <td>34758</td>\n    </tr>\n    <tr>\n      <th>1</th>\n      <td>20090824</td>\n      <td>A</td>\n      <td>25.64</td>\n      <td>25.7400</td>\n      <td>25.330</td>\n      <td>25.50</td>\n      <td>22247</td>\n    </tr>\n    <tr>\n      <th>2</th>\n      <td>20090825</td>\n      <td>A</td>\n      <td>25.50</td>\n      <td>25.7000</td>\n      <td>25.225</td>\n      <td>25.34</td>\n      <td>30891</td>\n    </tr>\n    <tr>\n      <th>3</th>\n      <td>20090826</td>\n      <td>A</td>\n      <td>25.32</td>\n      <td>25.6425</td>\n      <td>25.145</td>\n      <td>25.48</td>\n      <td>33334</td>\n    </tr>\n    <tr>\n      <th>4</th>\n      <td>20090827</td>\n      <td>A</td>\n      <td>25.50</td>\n      <td>25.5700</td>\n      <td>25.230</td>\n      <td>25.54</td>\n      <td>70176</td>\n    </tr>\n    <tr>\n      <th>...</th>\n      <td>...</td>\n      <td>...</td>\n      <td>...</td>\n      <td>...</td>\n      <td>...</td>\n      <td>...</td>\n      <td>...</td>\n    </tr>\n    <tr>\n      <th>122569</th>\n      <td>20100813</td>\n      <td>ZMH</td>\n      <td>51.72</td>\n      <td>51.9000</td>\n      <td>51.380</td>\n      <td>51.44</td>\n      <td>14561</td>\n    </tr>\n    <tr>\n      <th>122570</th>\n      <td>20100816</td>\n      <td>ZMH</td>\n      <td>51.13</td>\n      <td>51.4700</td>\n      <td>50.600</td>\n      <td>51.00</td>\n      <td>13489</td>\n    </tr>\n    <tr>\n      <th>122571</th>\n      <td>20100817</td>\n      <td>ZMH</td>\n      <td>51.14</td>\n      <td>51.6000</td>\n      <td>50.890</td>\n      <td>51.21</td>\n      <td>20498</td>\n    </tr>\n    <tr>\n      <th>122572</th>\n      <td>20100819</td>\n      <td>ZMH</td>\n      <td>51.63</td>\n      <td>51.6300</td>\n      <td>50.170</td>\n      <td>50.22</td>\n      <td>18259</td>\n    </tr>\n    <tr>\n      <th>122573</th>\n      <td>20100820</td>\n      <td>ZMH</td>\n      <td>50.03</td>\n      <td>50.5500</td>\n      <td>49.480</td>\n      <td>49.82</td>\n      <td>17792</td>\n    </tr>\n  </tbody>\n</table>\n<p>122574 rows × 7 columns</p>\n</div>"
     },
     "execution_count": 2,
     "metadata": {},
     "output_type": "execute_result"
    }
   ],
   "source": [
    "dataframe_sp500 = pd.read_csv(\"data/sp500hst.txt\", delimiter=',', names=['date', 'ticker', 'open', 'high', 'low', 'close', 'volume'])\n",
    "dataframe_sp500"
   ],
   "metadata": {
    "collapsed": false,
    "pycharm": {
     "name": "#%%\n"
    }
   }
  },
  {
   "cell_type": "markdown",
   "metadata": {
    "pycharm": {
     "name": "#%% md\n"
    }
   },
   "source": [
    "2. Рассчитайте среднее значение показателей для каждого из столбцов c номерами 3-6."
   ]
  },
  {
   "cell_type": "markdown",
   "metadata": {
    "pycharm": {
     "name": "#%% md\n"
    }
   },
   "source": [
    "3. Добавьте столбец, содержащий только число месяца, к которому относится дата."
   ]
  },
  {
   "cell_type": "markdown",
   "metadata": {
    "pycharm": {
     "name": "#%% md\n"
    }
   },
   "source": [
    "4. Рассчитайте суммарный объем торгов для для одинаковых значений тикеров."
   ]
  },
  {
   "cell_type": "markdown",
   "metadata": {
    "pycharm": {
     "name": "#%% md\n"
    }
   },
   "source": [
    "5. Загрузите данные из файла sp500hst.txt и обозначьте столбцы в соответствии с содержимым: \"date\", \"ticker\", \"open\", \"high\", \"low\", \"close\", \"volume\". Добавьте столбец с расшифровкой названия тикера, используя данные из файла `sp_data2.csv` . В случае нехватки данных об именах тикеров корректно обработать их."
   ]
  },
  {
   "cell_type": "markdown",
   "metadata": {
    "pycharm": {
     "name": "#%% md\n"
    }
   },
   "source": [
    "## Лабораторная работа №2"
   ]
  },
  {
   "cell_type": "markdown",
   "metadata": {
    "pycharm": {
     "name": "#%% md\n"
    }
   },
   "source": [
    "### Базовые операции с `DataFrame`"
   ]
  },
  {
   "cell_type": "markdown",
   "metadata": {
    "pycharm": {
     "name": "#%% md\n"
    }
   },
   "source": [
    "1.1 В файлах `recipes_sample.csv` и `reviews_sample.csv` находится информация об рецептах блюд и отзывах на эти рецепты соответственно. Загрузите данные из файлов в виде `pd.DataFrame` с названиями `recipes` и `reviews`. Обратите внимание на корректное считывание столбца с индексами в таблице `reviews` (безымянный столбец)."
   ]
  },
  {
   "cell_type": "code",
   "execution_count": 2,
   "outputs": [
    {
     "data": {
      "text/plain": "                                               name      id  minutes  \\\n0             george s at the cove  black bean soup   44123       90   \n1                healthy for them  yogurt popsicles   67664       10   \n2                      i can t believe it s spinach   38798       30   \n3                              italian  gut busters   35173       45   \n4          love is in the air  beef fondue   sauces   84797       25   \n...                                             ...     ...      ...   \n29995  zurie s holey rustic olive and cheddar bread  267661       80   \n29996          zwetschgenkuchen  bavarian plum cake  386977      240   \n29997   zwiebelkuchen   southwest german onion cake  103312       75   \n29998                                   zydeco soup  486161       60   \n29999        cookies by design   cookies on a stick  298512       29   \n\n       contributor_id   submitted  n_steps  \\\n0               35193  2002-10-25      NaN   \n1               91970  2003-07-26      NaN   \n2                1533  2002-08-29      NaN   \n3               22724  2002-07-27      NaN   \n4                4470  2004-02-23      4.0   \n...               ...         ...      ...   \n29995          200862  2007-11-25     16.0   \n29996          177443  2009-08-24      NaN   \n29997          161745  2004-11-03      NaN   \n29998          227978  2012-08-29      NaN   \n29999          506822  2008-04-15      9.0   \n\n                                             description  n_ingredients  \n0      an original recipe created by chef scott meska...           18.0  \n1      my children and their friends ask for my homem...            NaN  \n2                these were so go, it surprised even me.            8.0  \n3      my sister-in-law made these for us at a family...            NaN  \n4      i think a fondue is a very romantic casual din...            NaN  \n...                                                  ...            ...  \n29995  this is based on a french recipe but i changed...           10.0  \n29996  this is a traditional fresh plum cake, thought...           11.0  \n29997  this is a traditional late summer early fall s...            NaN  \n29998  this is a delicious soup that i originally fou...            NaN  \n29999  i've heard of the 'cookies by design' company,...           10.0  \n\n[30000 rows x 8 columns]",
      "text/html": "<div>\n<style scoped>\n    .dataframe tbody tr th:only-of-type {\n        vertical-align: middle;\n    }\n\n    .dataframe tbody tr th {\n        vertical-align: top;\n    }\n\n    .dataframe thead th {\n        text-align: right;\n    }\n</style>\n<table border=\"1\" class=\"dataframe\">\n  <thead>\n    <tr style=\"text-align: right;\">\n      <th></th>\n      <th>name</th>\n      <th>id</th>\n      <th>minutes</th>\n      <th>contributor_id</th>\n      <th>submitted</th>\n      <th>n_steps</th>\n      <th>description</th>\n      <th>n_ingredients</th>\n    </tr>\n  </thead>\n  <tbody>\n    <tr>\n      <th>0</th>\n      <td>george s at the cove  black bean soup</td>\n      <td>44123</td>\n      <td>90</td>\n      <td>35193</td>\n      <td>2002-10-25</td>\n      <td>NaN</td>\n      <td>an original recipe created by chef scott meska...</td>\n      <td>18.0</td>\n    </tr>\n    <tr>\n      <th>1</th>\n      <td>healthy for them  yogurt popsicles</td>\n      <td>67664</td>\n      <td>10</td>\n      <td>91970</td>\n      <td>2003-07-26</td>\n      <td>NaN</td>\n      <td>my children and their friends ask for my homem...</td>\n      <td>NaN</td>\n    </tr>\n    <tr>\n      <th>2</th>\n      <td>i can t believe it s spinach</td>\n      <td>38798</td>\n      <td>30</td>\n      <td>1533</td>\n      <td>2002-08-29</td>\n      <td>NaN</td>\n      <td>these were so go, it surprised even me.</td>\n      <td>8.0</td>\n    </tr>\n    <tr>\n      <th>3</th>\n      <td>italian  gut busters</td>\n      <td>35173</td>\n      <td>45</td>\n      <td>22724</td>\n      <td>2002-07-27</td>\n      <td>NaN</td>\n      <td>my sister-in-law made these for us at a family...</td>\n      <td>NaN</td>\n    </tr>\n    <tr>\n      <th>4</th>\n      <td>love is in the air  beef fondue   sauces</td>\n      <td>84797</td>\n      <td>25</td>\n      <td>4470</td>\n      <td>2004-02-23</td>\n      <td>4.0</td>\n      <td>i think a fondue is a very romantic casual din...</td>\n      <td>NaN</td>\n    </tr>\n    <tr>\n      <th>...</th>\n      <td>...</td>\n      <td>...</td>\n      <td>...</td>\n      <td>...</td>\n      <td>...</td>\n      <td>...</td>\n      <td>...</td>\n      <td>...</td>\n    </tr>\n    <tr>\n      <th>29995</th>\n      <td>zurie s holey rustic olive and cheddar bread</td>\n      <td>267661</td>\n      <td>80</td>\n      <td>200862</td>\n      <td>2007-11-25</td>\n      <td>16.0</td>\n      <td>this is based on a french recipe but i changed...</td>\n      <td>10.0</td>\n    </tr>\n    <tr>\n      <th>29996</th>\n      <td>zwetschgenkuchen  bavarian plum cake</td>\n      <td>386977</td>\n      <td>240</td>\n      <td>177443</td>\n      <td>2009-08-24</td>\n      <td>NaN</td>\n      <td>this is a traditional fresh plum cake, thought...</td>\n      <td>11.0</td>\n    </tr>\n    <tr>\n      <th>29997</th>\n      <td>zwiebelkuchen   southwest german onion cake</td>\n      <td>103312</td>\n      <td>75</td>\n      <td>161745</td>\n      <td>2004-11-03</td>\n      <td>NaN</td>\n      <td>this is a traditional late summer early fall s...</td>\n      <td>NaN</td>\n    </tr>\n    <tr>\n      <th>29998</th>\n      <td>zydeco soup</td>\n      <td>486161</td>\n      <td>60</td>\n      <td>227978</td>\n      <td>2012-08-29</td>\n      <td>NaN</td>\n      <td>this is a delicious soup that i originally fou...</td>\n      <td>NaN</td>\n    </tr>\n    <tr>\n      <th>29999</th>\n      <td>cookies by design   cookies on a stick</td>\n      <td>298512</td>\n      <td>29</td>\n      <td>506822</td>\n      <td>2008-04-15</td>\n      <td>9.0</td>\n      <td>i've heard of the 'cookies by design' company,...</td>\n      <td>10.0</td>\n    </tr>\n  </tbody>\n</table>\n<p>30000 rows × 8 columns</p>\n</div>"
     },
     "execution_count": 2,
     "metadata": {},
     "output_type": "execute_result"
    }
   ],
   "source": [
    "recipes = pd.read_csv(\"data/recipes_sample.csv\", delimiter=',')\n",
    "reviews = pd.read_csv(\"data/reviews_sample.csv\", delimiter=',')\n",
    "recipes_dataframe = pd.DataFrame(data=recipes, index=None)\n",
    "reviews_dataframe = pd.DataFrame(data=reviews, index=None)\n",
    "recipes_dataframe"
   ],
   "metadata": {
    "collapsed": false,
    "pycharm": {
     "name": "#%%\n"
    }
   }
  },
  {
   "cell_type": "code",
   "execution_count": 3,
   "outputs": [
    {
     "data": {
      "text/plain": "        Unnamed: 0     user_id  recipe_id        date  rating  \\\n0           370476       21752      57993  2003-05-01       5   \n1           624300      431813     142201  2007-09-16       5   \n2           187037      400708     252013  2008-01-10       4   \n3           706134  2001852463     404716  2017-12-11       5   \n4           312179       95810     129396  2008-03-14       5   \n...            ...         ...        ...         ...     ...   \n126691     1013457     1270706     335534  2009-05-17       4   \n126692      158736     2282344       8701  2012-06-03       0   \n126693     1059834      689540     222001  2008-04-08       5   \n126694      453285  2000242659     354979  2015-06-02       5   \n126695      691207      463435     415599  2010-09-30       5   \n\n                                                   review  \n0       Last week whole sides of frozen salmon fillet ...  \n1       So simple and so tasty!  I used a yellow capsi...  \n2       Very nice breakfast HH, easy to make and yummy...  \n3       These are a favorite for the holidays and so e...  \n4       Excellent soup!  The tomato flavor is just gre...  \n...                                                   ...  \n126691  This recipe was great! I made it last night. I...  \n126692  This recipe is outstanding. I followed the rec...  \n126693  Well, we were not a crowd but it was a fabulou...  \n126694  I have been a steak eater and dedicated BBQ gr...  \n126695  Wonderful and simple to prepare seasoning blen...  \n\n[126696 rows x 6 columns]",
      "text/html": "<div>\n<style scoped>\n    .dataframe tbody tr th:only-of-type {\n        vertical-align: middle;\n    }\n\n    .dataframe tbody tr th {\n        vertical-align: top;\n    }\n\n    .dataframe thead th {\n        text-align: right;\n    }\n</style>\n<table border=\"1\" class=\"dataframe\">\n  <thead>\n    <tr style=\"text-align: right;\">\n      <th></th>\n      <th>Unnamed: 0</th>\n      <th>user_id</th>\n      <th>recipe_id</th>\n      <th>date</th>\n      <th>rating</th>\n      <th>review</th>\n    </tr>\n  </thead>\n  <tbody>\n    <tr>\n      <th>0</th>\n      <td>370476</td>\n      <td>21752</td>\n      <td>57993</td>\n      <td>2003-05-01</td>\n      <td>5</td>\n      <td>Last week whole sides of frozen salmon fillet ...</td>\n    </tr>\n    <tr>\n      <th>1</th>\n      <td>624300</td>\n      <td>431813</td>\n      <td>142201</td>\n      <td>2007-09-16</td>\n      <td>5</td>\n      <td>So simple and so tasty!  I used a yellow capsi...</td>\n    </tr>\n    <tr>\n      <th>2</th>\n      <td>187037</td>\n      <td>400708</td>\n      <td>252013</td>\n      <td>2008-01-10</td>\n      <td>4</td>\n      <td>Very nice breakfast HH, easy to make and yummy...</td>\n    </tr>\n    <tr>\n      <th>3</th>\n      <td>706134</td>\n      <td>2001852463</td>\n      <td>404716</td>\n      <td>2017-12-11</td>\n      <td>5</td>\n      <td>These are a favorite for the holidays and so e...</td>\n    </tr>\n    <tr>\n      <th>4</th>\n      <td>312179</td>\n      <td>95810</td>\n      <td>129396</td>\n      <td>2008-03-14</td>\n      <td>5</td>\n      <td>Excellent soup!  The tomato flavor is just gre...</td>\n    </tr>\n    <tr>\n      <th>...</th>\n      <td>...</td>\n      <td>...</td>\n      <td>...</td>\n      <td>...</td>\n      <td>...</td>\n      <td>...</td>\n    </tr>\n    <tr>\n      <th>126691</th>\n      <td>1013457</td>\n      <td>1270706</td>\n      <td>335534</td>\n      <td>2009-05-17</td>\n      <td>4</td>\n      <td>This recipe was great! I made it last night. I...</td>\n    </tr>\n    <tr>\n      <th>126692</th>\n      <td>158736</td>\n      <td>2282344</td>\n      <td>8701</td>\n      <td>2012-06-03</td>\n      <td>0</td>\n      <td>This recipe is outstanding. I followed the rec...</td>\n    </tr>\n    <tr>\n      <th>126693</th>\n      <td>1059834</td>\n      <td>689540</td>\n      <td>222001</td>\n      <td>2008-04-08</td>\n      <td>5</td>\n      <td>Well, we were not a crowd but it was a fabulou...</td>\n    </tr>\n    <tr>\n      <th>126694</th>\n      <td>453285</td>\n      <td>2000242659</td>\n      <td>354979</td>\n      <td>2015-06-02</td>\n      <td>5</td>\n      <td>I have been a steak eater and dedicated BBQ gr...</td>\n    </tr>\n    <tr>\n      <th>126695</th>\n      <td>691207</td>\n      <td>463435</td>\n      <td>415599</td>\n      <td>2010-09-30</td>\n      <td>5</td>\n      <td>Wonderful and simple to prepare seasoning blen...</td>\n    </tr>\n  </tbody>\n</table>\n<p>126696 rows × 6 columns</p>\n</div>"
     },
     "execution_count": 3,
     "metadata": {},
     "output_type": "execute_result"
    }
   ],
   "source": [
    "reviews_dataframe"
   ],
   "metadata": {
    "collapsed": false,
    "pycharm": {
     "name": "#%%\n"
    }
   }
  },
  {
   "cell_type": "markdown",
   "metadata": {
    "pycharm": {
     "name": "#%% md\n"
    }
   },
   "source": [
    "1.2 Для каждой из таблиц выведите основные параметры:\n",
    "* количество точек данных (строк);\n",
    "* количество столбцов;\n",
    "* тип данных каждого столбца."
   ]
  },
  {
   "cell_type": "markdown",
   "source": [
    "### Таблица *recipes*"
   ],
   "metadata": {
    "collapsed": false,
    "pycharm": {
     "name": "#%% md\n"
    }
   }
  },
  {
   "cell_type": "code",
   "execution_count": 4,
   "outputs": [
    {
     "name": "stdout",
     "output_type": "stream",
     "text": [
      "Количество точек данных: 30000\n",
      "Количество столбцов набора данных: 8\n"
     ]
    }
   ],
   "source": [
    "print('Количество точек данных:', recipes_dataframe.index.stop)\n",
    "print('Количество столбцов набора данных:', recipes_dataframe.count().count())"
   ],
   "metadata": {
    "collapsed": false,
    "pycharm": {
     "name": "#%%\n"
    }
   }
  },
  {
   "cell_type": "code",
   "execution_count": 5,
   "outputs": [
    {
     "name": "stdout",
     "output_type": "stream",
     "text": [
      "Тип данных каждого столбца:\n",
      "name               object\n",
      "id                  int64\n",
      "minutes             int64\n",
      "contributor_id      int64\n",
      "submitted          object\n",
      "n_steps           float64\n",
      "description        object\n",
      "n_ingredients     float64\n",
      "dtype: object\n"
     ]
    }
   ],
   "source": [
    "print('Тип данных каждого столбца:', recipes_dataframe.dtypes, sep='\\n')"
   ],
   "metadata": {
    "collapsed": false,
    "pycharm": {
     "name": "#%%\n"
    }
   }
  },
  {
   "cell_type": "markdown",
   "source": [
    "### Таблица *reviews*"
   ],
   "metadata": {
    "collapsed": false,
    "pycharm": {
     "name": "#%% md\n"
    }
   }
  },
  {
   "cell_type": "code",
   "execution_count": 6,
   "outputs": [
    {
     "name": "stdout",
     "output_type": "stream",
     "text": [
      "Количество точек данных: 126696\n",
      "Количество столбцов набора данных: 6\n"
     ]
    }
   ],
   "source": [
    "print('Количество точек данных:', reviews_dataframe.index.stop)\n",
    "print('Количество столбцов набора данных:', reviews_dataframe.count().count())"
   ],
   "metadata": {
    "collapsed": false,
    "pycharm": {
     "name": "#%%\n"
    }
   }
  },
  {
   "cell_type": "code",
   "execution_count": 7,
   "outputs": [
    {
     "name": "stdout",
     "output_type": "stream",
     "text": [
      "Тип данных каждого столбца:\n",
      "Unnamed: 0     int64\n",
      "user_id        int64\n",
      "recipe_id      int64\n",
      "date          object\n",
      "rating         int64\n",
      "review        object\n",
      "dtype: object\n"
     ]
    }
   ],
   "source": [
    "print('Тип данных каждого столбца:', reviews_dataframe.dtypes, sep='\\n')"
   ],
   "metadata": {
    "collapsed": false,
    "pycharm": {
     "name": "#%%\n"
    }
   }
  },
  {
   "cell_type": "markdown",
   "metadata": {
    "pycharm": {
     "name": "#%% md\n"
    }
   },
   "source": [
    "1.3 Исследуйте, в каких столбцах таблиц содержатся пропуски. Посчитайте долю строк, содержащих пропуски, в отношении к общему количеству строк."
   ]
  },
  {
   "cell_type": "markdown",
   "source": [
    "### Таблица *recipes*"
   ],
   "metadata": {
    "collapsed": false,
    "pycharm": {
     "name": "#%% md\n"
    }
   }
  },
  {
   "cell_type": "code",
   "execution_count": 14,
   "outputs": [
    {
     "name": "stdout",
     "output_type": "stream",
     "text": [
      "Столбцы, содержащие пропуски, с их количеством:\n",
      "name                  0\n",
      "id                    0\n",
      "minutes               0\n",
      "contributor_id        0\n",
      "submitted             0\n",
      "n_steps           11190\n",
      "description         623\n",
      "n_ingredients      8880\n",
      "dtype: int64\n"
     ]
    }
   ],
   "source": [
    "print('Столбцы, содержащие пропуски, с их количеством:\\n', recipes_dataframe.isnull().sum(), sep=\"\")"
   ],
   "metadata": {
    "collapsed": false,
    "pycharm": {
     "name": "#%%\n"
    }
   }
  },
  {
   "cell_type": "code",
   "execution_count": 19,
   "outputs": [
    {
     "name": "stdout",
     "output_type": "stream",
     "text": [
      "Процент: 56.8467%\n"
     ]
    }
   ],
   "source": [
    "perc = 100 * (recipes_dataframe.shape[0] - recipes_dataframe.dropna().shape[0]) / recipes_dataframe['id'].notnull().sum(axis=0)\n",
    "print(f'Процент: {round(perc, 4)}%')"
   ],
   "metadata": {
    "collapsed": false,
    "pycharm": {
     "name": "#%%\n"
    }
   }
  },
  {
   "cell_type": "markdown",
   "source": [
    "### Таблица *reviews*"
   ],
   "metadata": {
    "collapsed": false,
    "pycharm": {
     "name": "#%% md\n"
    }
   }
  },
  {
   "cell_type": "code",
   "execution_count": 20,
   "outputs": [
    {
     "name": "stdout",
     "output_type": "stream",
     "text": [
      "Столбцы, содержащие пропуски, с их количеством:\n",
      "Unnamed: 0     0\n",
      "user_id        0\n",
      "recipe_id      0\n",
      "date           0\n",
      "rating         0\n",
      "review        17\n",
      "dtype: int64\n"
     ]
    }
   ],
   "source": [
    "print('Столбцы, содержащие пропуски, с их количеством:\\n', reviews_dataframe.isnull().sum(), sep=\"\")"
   ],
   "metadata": {
    "collapsed": false,
    "pycharm": {
     "name": "#%%\n"
    }
   }
  },
  {
   "cell_type": "code",
   "execution_count": 22,
   "outputs": [
    {
     "name": "stdout",
     "output_type": "stream",
     "text": [
      "Процент: 0.0134%\n"
     ]
    }
   ],
   "source": [
    "perc = 100 * (reviews_dataframe.shape[0] - reviews_dataframe.dropna().shape[0]) / reviews_dataframe['user_id'].notnull().sum(axis=0)\n",
    "print(f'Процент: {round(perc, 4)}%')"
   ],
   "metadata": {
    "collapsed": false,
    "pycharm": {
     "name": "#%%\n"
    }
   }
  },
  {
   "cell_type": "markdown",
   "metadata": {
    "pycharm": {
     "name": "#%% md\n"
    }
   },
   "source": [
    "1.4 Рассчитайте среднее значение для каждого из числовых столбцов (где это имеет смысл)."
   ]
  },
  {
   "cell_type": "code",
   "execution_count": 26,
   "outputs": [
    {
     "name": "stdout",
     "output_type": "stream",
     "text": [
      "Среднее столбца минут: 123.35813333333333\n",
      "Среднее столбца шагов: 9.805582137161085\n",
      "Среднее столбца ингредиентов: 9.008285984848484\n"
     ]
    }
   ],
   "source": [
    "print('Среднее столбца минут:', recipes_dataframe['minutes'].mean())\n",
    "print('Среднее столбца шагов:', recipes_dataframe['n_steps'].mean())\n",
    "print('Среднее столбца ингредиентов:', recipes_dataframe['n_ingredients'].mean())"
   ],
   "metadata": {
    "collapsed": false,
    "pycharm": {
     "name": "#%%\n"
    }
   }
  },
  {
   "cell_type": "markdown",
   "source": [
    "### Таблица *reviews*"
   ],
   "metadata": {
    "collapsed": false,
    "pycharm": {
     "name": "#%% md\n"
    }
   }
  },
  {
   "cell_type": "code",
   "execution_count": 27,
   "outputs": [
    {
     "name": "stdout",
     "output_type": "stream",
     "text": [
      "Среднее столбца рейтинга: 4.410802235271832\n"
     ]
    }
   ],
   "source": [
    "print('Среднее столбца рейтинга:', reviews_dataframe['rating'].mean())"
   ],
   "metadata": {
    "collapsed": false,
    "pycharm": {
     "name": "#%%\n"
    }
   }
  },
  {
   "cell_type": "markdown",
   "metadata": {
    "pycharm": {
     "name": "#%% md\n"
    }
   },
   "source": [
    "1.5 Создайте серию из 10 случайных названий рецептов."
   ]
  },
  {
   "cell_type": "code",
   "execution_count": 30,
   "outputs": [
    {
     "name": "stdout",
     "output_type": "stream",
     "text": [
      "25263            spiced pumpkin and pecan butter\n",
      "18463                 my new mexican rice recipe\n",
      "8092              cream of butternut squash soup\n",
      "13028                              grilled steak\n",
      "28423        uncle bill s microwave potato chips\n",
      "27684                      toasty cheese ravioli\n",
      "457                       all gone onion burgers\n",
      "27986    triple chocolate covered macadamia nuts\n",
      "11183                 fondue apricot dijon sauce\n",
      "215             5 minute spice cake in microwave\n",
      "Name: name, dtype: object\n"
     ]
    }
   ],
   "source": [
    "print(recipes_dataframe['name'].sample(10))"
   ],
   "metadata": {
    "collapsed": false,
    "pycharm": {
     "name": "#%%\n"
    }
   }
  },
  {
   "cell_type": "markdown",
   "metadata": {
    "pycharm": {
     "name": "#%% md\n"
    }
   },
   "source": [
    "1.6 Измените индекс в таблице `reviews`, пронумеровав строки, начиная с нуля."
   ]
  },
  {
   "cell_type": "code",
   "execution_count": 31,
   "outputs": [
    {
     "data": {
      "text/plain": "        Unnamed: 0     user_id  recipe_id        date  rating  \\\n0           370476       21752      57993  2003-05-01       5   \n1           624300      431813     142201  2007-09-16       5   \n2           187037      400708     252013  2008-01-10       4   \n3           706134  2001852463     404716  2017-12-11       5   \n4           312179       95810     129396  2008-03-14       5   \n...            ...         ...        ...         ...     ...   \n126691     1013457     1270706     335534  2009-05-17       4   \n126692      158736     2282344       8701  2012-06-03       0   \n126693     1059834      689540     222001  2008-04-08       5   \n126694      453285  2000242659     354979  2015-06-02       5   \n126695      691207      463435     415599  2010-09-30       5   \n\n                                                   review  \n0       Last week whole sides of frozen salmon fillet ...  \n1       So simple and so tasty!  I used a yellow capsi...  \n2       Very nice breakfast HH, easy to make and yummy...  \n3       These are a favorite for the holidays and so e...  \n4       Excellent soup!  The tomato flavor is just gre...  \n...                                                   ...  \n126691  This recipe was great! I made it last night. I...  \n126692  This recipe is outstanding. I followed the rec...  \n126693  Well, we were not a crowd but it was a fabulou...  \n126694  I have been a steak eater and dedicated BBQ gr...  \n126695  Wonderful and simple to prepare seasoning blen...  \n\n[126696 rows x 6 columns]",
      "text/html": "<div>\n<style scoped>\n    .dataframe tbody tr th:only-of-type {\n        vertical-align: middle;\n    }\n\n    .dataframe tbody tr th {\n        vertical-align: top;\n    }\n\n    .dataframe thead th {\n        text-align: right;\n    }\n</style>\n<table border=\"1\" class=\"dataframe\">\n  <thead>\n    <tr style=\"text-align: right;\">\n      <th></th>\n      <th>Unnamed: 0</th>\n      <th>user_id</th>\n      <th>recipe_id</th>\n      <th>date</th>\n      <th>rating</th>\n      <th>review</th>\n    </tr>\n  </thead>\n  <tbody>\n    <tr>\n      <th>0</th>\n      <td>370476</td>\n      <td>21752</td>\n      <td>57993</td>\n      <td>2003-05-01</td>\n      <td>5</td>\n      <td>Last week whole sides of frozen salmon fillet ...</td>\n    </tr>\n    <tr>\n      <th>1</th>\n      <td>624300</td>\n      <td>431813</td>\n      <td>142201</td>\n      <td>2007-09-16</td>\n      <td>5</td>\n      <td>So simple and so tasty!  I used a yellow capsi...</td>\n    </tr>\n    <tr>\n      <th>2</th>\n      <td>187037</td>\n      <td>400708</td>\n      <td>252013</td>\n      <td>2008-01-10</td>\n      <td>4</td>\n      <td>Very nice breakfast HH, easy to make and yummy...</td>\n    </tr>\n    <tr>\n      <th>3</th>\n      <td>706134</td>\n      <td>2001852463</td>\n      <td>404716</td>\n      <td>2017-12-11</td>\n      <td>5</td>\n      <td>These are a favorite for the holidays and so e...</td>\n    </tr>\n    <tr>\n      <th>4</th>\n      <td>312179</td>\n      <td>95810</td>\n      <td>129396</td>\n      <td>2008-03-14</td>\n      <td>5</td>\n      <td>Excellent soup!  The tomato flavor is just gre...</td>\n    </tr>\n    <tr>\n      <th>...</th>\n      <td>...</td>\n      <td>...</td>\n      <td>...</td>\n      <td>...</td>\n      <td>...</td>\n      <td>...</td>\n    </tr>\n    <tr>\n      <th>126691</th>\n      <td>1013457</td>\n      <td>1270706</td>\n      <td>335534</td>\n      <td>2009-05-17</td>\n      <td>4</td>\n      <td>This recipe was great! I made it last night. I...</td>\n    </tr>\n    <tr>\n      <th>126692</th>\n      <td>158736</td>\n      <td>2282344</td>\n      <td>8701</td>\n      <td>2012-06-03</td>\n      <td>0</td>\n      <td>This recipe is outstanding. I followed the rec...</td>\n    </tr>\n    <tr>\n      <th>126693</th>\n      <td>1059834</td>\n      <td>689540</td>\n      <td>222001</td>\n      <td>2008-04-08</td>\n      <td>5</td>\n      <td>Well, we were not a crowd but it was a fabulou...</td>\n    </tr>\n    <tr>\n      <th>126694</th>\n      <td>453285</td>\n      <td>2000242659</td>\n      <td>354979</td>\n      <td>2015-06-02</td>\n      <td>5</td>\n      <td>I have been a steak eater and dedicated BBQ gr...</td>\n    </tr>\n    <tr>\n      <th>126695</th>\n      <td>691207</td>\n      <td>463435</td>\n      <td>415599</td>\n      <td>2010-09-30</td>\n      <td>5</td>\n      <td>Wonderful and simple to prepare seasoning blen...</td>\n    </tr>\n  </tbody>\n</table>\n<p>126696 rows × 6 columns</p>\n</div>"
     },
     "execution_count": 31,
     "metadata": {},
     "output_type": "execute_result"
    }
   ],
   "source": [
    "reviews_dataframe"
   ],
   "metadata": {
    "collapsed": false,
    "pycharm": {
     "name": "#%%\n"
    }
   }
  },
  {
   "cell_type": "code",
   "execution_count": 32,
   "outputs": [
    {
     "data": {
      "text/plain": "        Unnamed: 0     user_id  recipe_id        date  rating  \\\n0           370476       21752      57993  2003-05-01       5   \n1           624300      431813     142201  2007-09-16       5   \n2           187037      400708     252013  2008-01-10       4   \n3           706134  2001852463     404716  2017-12-11       5   \n4           312179       95810     129396  2008-03-14       5   \n...            ...         ...        ...         ...     ...   \n126691     1013457     1270706     335534  2009-05-17       4   \n126692      158736     2282344       8701  2012-06-03       0   \n126693     1059834      689540     222001  2008-04-08       5   \n126694      453285  2000242659     354979  2015-06-02       5   \n126695      691207      463435     415599  2010-09-30       5   \n\n                                                   review  \n0       Last week whole sides of frozen salmon fillet ...  \n1       So simple and so tasty!  I used a yellow capsi...  \n2       Very nice breakfast HH, easy to make and yummy...  \n3       These are a favorite for the holidays and so e...  \n4       Excellent soup!  The tomato flavor is just gre...  \n...                                                   ...  \n126691  This recipe was great! I made it last night. I...  \n126692  This recipe is outstanding. I followed the rec...  \n126693  Well, we were not a crowd but it was a fabulou...  \n126694  I have been a steak eater and dedicated BBQ gr...  \n126695  Wonderful and simple to prepare seasoning blen...  \n\n[126696 rows x 6 columns]",
      "text/html": "<div>\n<style scoped>\n    .dataframe tbody tr th:only-of-type {\n        vertical-align: middle;\n    }\n\n    .dataframe tbody tr th {\n        vertical-align: top;\n    }\n\n    .dataframe thead th {\n        text-align: right;\n    }\n</style>\n<table border=\"1\" class=\"dataframe\">\n  <thead>\n    <tr style=\"text-align: right;\">\n      <th></th>\n      <th>Unnamed: 0</th>\n      <th>user_id</th>\n      <th>recipe_id</th>\n      <th>date</th>\n      <th>rating</th>\n      <th>review</th>\n    </tr>\n  </thead>\n  <tbody>\n    <tr>\n      <th>0</th>\n      <td>370476</td>\n      <td>21752</td>\n      <td>57993</td>\n      <td>2003-05-01</td>\n      <td>5</td>\n      <td>Last week whole sides of frozen salmon fillet ...</td>\n    </tr>\n    <tr>\n      <th>1</th>\n      <td>624300</td>\n      <td>431813</td>\n      <td>142201</td>\n      <td>2007-09-16</td>\n      <td>5</td>\n      <td>So simple and so tasty!  I used a yellow capsi...</td>\n    </tr>\n    <tr>\n      <th>2</th>\n      <td>187037</td>\n      <td>400708</td>\n      <td>252013</td>\n      <td>2008-01-10</td>\n      <td>4</td>\n      <td>Very nice breakfast HH, easy to make and yummy...</td>\n    </tr>\n    <tr>\n      <th>3</th>\n      <td>706134</td>\n      <td>2001852463</td>\n      <td>404716</td>\n      <td>2017-12-11</td>\n      <td>5</td>\n      <td>These are a favorite for the holidays and so e...</td>\n    </tr>\n    <tr>\n      <th>4</th>\n      <td>312179</td>\n      <td>95810</td>\n      <td>129396</td>\n      <td>2008-03-14</td>\n      <td>5</td>\n      <td>Excellent soup!  The tomato flavor is just gre...</td>\n    </tr>\n    <tr>\n      <th>...</th>\n      <td>...</td>\n      <td>...</td>\n      <td>...</td>\n      <td>...</td>\n      <td>...</td>\n      <td>...</td>\n    </tr>\n    <tr>\n      <th>126691</th>\n      <td>1013457</td>\n      <td>1270706</td>\n      <td>335534</td>\n      <td>2009-05-17</td>\n      <td>4</td>\n      <td>This recipe was great! I made it last night. I...</td>\n    </tr>\n    <tr>\n      <th>126692</th>\n      <td>158736</td>\n      <td>2282344</td>\n      <td>8701</td>\n      <td>2012-06-03</td>\n      <td>0</td>\n      <td>This recipe is outstanding. I followed the rec...</td>\n    </tr>\n    <tr>\n      <th>126693</th>\n      <td>1059834</td>\n      <td>689540</td>\n      <td>222001</td>\n      <td>2008-04-08</td>\n      <td>5</td>\n      <td>Well, we were not a crowd but it was a fabulou...</td>\n    </tr>\n    <tr>\n      <th>126694</th>\n      <td>453285</td>\n      <td>2000242659</td>\n      <td>354979</td>\n      <td>2015-06-02</td>\n      <td>5</td>\n      <td>I have been a steak eater and dedicated BBQ gr...</td>\n    </tr>\n    <tr>\n      <th>126695</th>\n      <td>691207</td>\n      <td>463435</td>\n      <td>415599</td>\n      <td>2010-09-30</td>\n      <td>5</td>\n      <td>Wonderful and simple to prepare seasoning blen...</td>\n    </tr>\n  </tbody>\n</table>\n<p>126696 rows × 6 columns</p>\n</div>"
     },
     "execution_count": 32,
     "metadata": {},
     "output_type": "execute_result"
    }
   ],
   "source": [
    "reviews_dataframe.reset_index(drop=True)"
   ],
   "metadata": {
    "collapsed": false,
    "pycharm": {
     "name": "#%%\n"
    }
   }
  },
  {
   "cell_type": "code",
   "execution_count": 33,
   "outputs": [
    {
     "data": {
      "text/plain": "RangeIndex(start=0, stop=126696, step=1)"
     },
     "execution_count": 33,
     "metadata": {},
     "output_type": "execute_result"
    }
   ],
   "source": [
    "reviews_dataframe.index"
   ],
   "metadata": {
    "collapsed": false,
    "pycharm": {
     "name": "#%%\n"
    }
   }
  },
  {
   "cell_type": "markdown",
   "metadata": {
    "pycharm": {
     "name": "#%% md\n"
    }
   },
   "source": [
    "1.7 Выведите информацию о рецептах, время выполнения которых не больше 20 минут и кол-во ингредиентов в которых не больше 5."
   ]
  },
  {
   "cell_type": "code",
   "execution_count": 34,
   "outputs": [
    {
     "data": {
      "text/plain": "                                                    name      id  minutes  \\\n28                                   quick biscuit bread  302399       20   \n60                         peas  fit for a king or queen  303944       20   \n90                     hawaiian sunrise           mimosa  100837        5   \n91            tasty dish s   banana pudding in 2 minutes  286484        2   \n94                                    1 minute meatballs   11361       13   \n...                                                  ...     ...      ...   \n29873  zip and steam red potatoes with butter and garlic  304922       13   \n29874                          ziplock vanilla ice cream   74250       10   \n29905                      zucchini and corn with cheese  256177       15   \n29980               zucchini with jalapeno monterey jack  320622       10   \n29983                          zucchini with serrano ham  162411       15   \n\n       contributor_id   submitted  n_steps  \\\n28             213909  2008-05-06     11.0   \n60             213909  2008-05-16      NaN   \n90              58104  2004-09-29      4.0   \n91              47892  2008-02-13      NaN   \n94               4470  2001-09-03      NaN   \n...               ...         ...      ...   \n29873          724218  2008-05-27      9.0   \n29874           24386  2003-10-29      8.0   \n29905          305531  2007-09-29      4.0   \n29980          305531  2008-08-20      3.0   \n29983          152500  2006-03-31      6.0   \n\n                                             description  n_ingredients  \n28     this is a wonderful quick bread to make as an ...            5.0  \n60     this recipe is so simple and the flavors are s...            5.0  \n90     pineapple mimosa was changed to hawaiian sunri...            3.0  \n91     \"mmmm, i love bananas!\" a --tasty dish-- origi...            4.0  \n94     this is a real short cut for cooks in a hurry....            2.0  \n...                                                  ...            ...  \n29873  i haven't tried this yet, but i am going to so...            5.0  \n29874  a fun thing for kids to do. may want to use mi...            3.0  \n29905  from betty crocker fresh spring recipes. i lik...            5.0  \n29980                                  simple and yummy!            3.0  \n29983  this dish is from tim malzer, a german chef wh...            5.0  \n\n[2019 rows x 8 columns]",
      "text/html": "<div>\n<style scoped>\n    .dataframe tbody tr th:only-of-type {\n        vertical-align: middle;\n    }\n\n    .dataframe tbody tr th {\n        vertical-align: top;\n    }\n\n    .dataframe thead th {\n        text-align: right;\n    }\n</style>\n<table border=\"1\" class=\"dataframe\">\n  <thead>\n    <tr style=\"text-align: right;\">\n      <th></th>\n      <th>name</th>\n      <th>id</th>\n      <th>minutes</th>\n      <th>contributor_id</th>\n      <th>submitted</th>\n      <th>n_steps</th>\n      <th>description</th>\n      <th>n_ingredients</th>\n    </tr>\n  </thead>\n  <tbody>\n    <tr>\n      <th>28</th>\n      <td>quick biscuit bread</td>\n      <td>302399</td>\n      <td>20</td>\n      <td>213909</td>\n      <td>2008-05-06</td>\n      <td>11.0</td>\n      <td>this is a wonderful quick bread to make as an ...</td>\n      <td>5.0</td>\n    </tr>\n    <tr>\n      <th>60</th>\n      <td>peas  fit for a king or queen</td>\n      <td>303944</td>\n      <td>20</td>\n      <td>213909</td>\n      <td>2008-05-16</td>\n      <td>NaN</td>\n      <td>this recipe is so simple and the flavors are s...</td>\n      <td>5.0</td>\n    </tr>\n    <tr>\n      <th>90</th>\n      <td>hawaiian sunrise           mimosa</td>\n      <td>100837</td>\n      <td>5</td>\n      <td>58104</td>\n      <td>2004-09-29</td>\n      <td>4.0</td>\n      <td>pineapple mimosa was changed to hawaiian sunri...</td>\n      <td>3.0</td>\n    </tr>\n    <tr>\n      <th>91</th>\n      <td>tasty dish s   banana pudding in 2 minutes</td>\n      <td>286484</td>\n      <td>2</td>\n      <td>47892</td>\n      <td>2008-02-13</td>\n      <td>NaN</td>\n      <td>\"mmmm, i love bananas!\" a --tasty dish-- origi...</td>\n      <td>4.0</td>\n    </tr>\n    <tr>\n      <th>94</th>\n      <td>1 minute meatballs</td>\n      <td>11361</td>\n      <td>13</td>\n      <td>4470</td>\n      <td>2001-09-03</td>\n      <td>NaN</td>\n      <td>this is a real short cut for cooks in a hurry....</td>\n      <td>2.0</td>\n    </tr>\n    <tr>\n      <th>...</th>\n      <td>...</td>\n      <td>...</td>\n      <td>...</td>\n      <td>...</td>\n      <td>...</td>\n      <td>...</td>\n      <td>...</td>\n      <td>...</td>\n    </tr>\n    <tr>\n      <th>29873</th>\n      <td>zip and steam red potatoes with butter and garlic</td>\n      <td>304922</td>\n      <td>13</td>\n      <td>724218</td>\n      <td>2008-05-27</td>\n      <td>9.0</td>\n      <td>i haven't tried this yet, but i am going to so...</td>\n      <td>5.0</td>\n    </tr>\n    <tr>\n      <th>29874</th>\n      <td>ziplock vanilla ice cream</td>\n      <td>74250</td>\n      <td>10</td>\n      <td>24386</td>\n      <td>2003-10-29</td>\n      <td>8.0</td>\n      <td>a fun thing for kids to do. may want to use mi...</td>\n      <td>3.0</td>\n    </tr>\n    <tr>\n      <th>29905</th>\n      <td>zucchini and corn with cheese</td>\n      <td>256177</td>\n      <td>15</td>\n      <td>305531</td>\n      <td>2007-09-29</td>\n      <td>4.0</td>\n      <td>from betty crocker fresh spring recipes. i lik...</td>\n      <td>5.0</td>\n    </tr>\n    <tr>\n      <th>29980</th>\n      <td>zucchini with jalapeno monterey jack</td>\n      <td>320622</td>\n      <td>10</td>\n      <td>305531</td>\n      <td>2008-08-20</td>\n      <td>3.0</td>\n      <td>simple and yummy!</td>\n      <td>3.0</td>\n    </tr>\n    <tr>\n      <th>29983</th>\n      <td>zucchini with serrano ham</td>\n      <td>162411</td>\n      <td>15</td>\n      <td>152500</td>\n      <td>2006-03-31</td>\n      <td>6.0</td>\n      <td>this dish is from tim malzer, a german chef wh...</td>\n      <td>5.0</td>\n    </tr>\n  </tbody>\n</table>\n<p>2019 rows × 8 columns</p>\n</div>"
     },
     "execution_count": 34,
     "metadata": {},
     "output_type": "execute_result"
    }
   ],
   "source": [
    "recipes_dataframe.query('minutes<=20 and n_ingredients<=5')"
   ],
   "metadata": {
    "collapsed": false,
    "pycharm": {
     "name": "#%%\n"
    }
   }
  },
  {
   "cell_type": "markdown",
   "metadata": {
    "pycharm": {
     "name": "#%% md\n"
    }
   },
   "source": [
    "### Работа с датами в `pandas`"
   ]
  },
  {
   "cell_type": "markdown",
   "metadata": {
    "pycharm": {
     "name": "#%% md\n"
    }
   },
   "source": [
    "2.1 Преобразуйте столбец `submitted` из таблицы `recipes` в формат времени. Модифицируйте решение задачи 1.1 так, чтобы считать столбец сразу в нужном формате."
   ]
  },
  {
   "cell_type": "code",
   "execution_count": 37,
   "outputs": [
    {
     "data": {
      "text/plain": "                                               name      id  minutes  \\\n0             george s at the cove  black bean soup   44123       90   \n1                healthy for them  yogurt popsicles   67664       10   \n2                      i can t believe it s spinach   38798       30   \n3                              italian  gut busters   35173       45   \n4          love is in the air  beef fondue   sauces   84797       25   \n...                                             ...     ...      ...   \n29995  zurie s holey rustic olive and cheddar bread  267661       80   \n29996          zwetschgenkuchen  bavarian plum cake  386977      240   \n29997   zwiebelkuchen   southwest german onion cake  103312       75   \n29998                                   zydeco soup  486161       60   \n29999        cookies by design   cookies on a stick  298512       29   \n\n       contributor_id  submitted  n_steps  \\\n0               35193 2002-10-25      NaN   \n1               91970 2003-07-26      NaN   \n2                1533 2002-08-29      NaN   \n3               22724 2002-07-27      NaN   \n4                4470 2004-02-23      4.0   \n...               ...        ...      ...   \n29995          200862 2007-11-25     16.0   \n29996          177443 2009-08-24      NaN   \n29997          161745 2004-11-03      NaN   \n29998          227978 2012-08-29      NaN   \n29999          506822 2008-04-15      9.0   \n\n                                             description  n_ingredients  \n0      an original recipe created by chef scott meska...           18.0  \n1      my children and their friends ask for my homem...            NaN  \n2                these were so go, it surprised even me.            8.0  \n3      my sister-in-law made these for us at a family...            NaN  \n4      i think a fondue is a very romantic casual din...            NaN  \n...                                                  ...            ...  \n29995  this is based on a french recipe but i changed...           10.0  \n29996  this is a traditional fresh plum cake, thought...           11.0  \n29997  this is a traditional late summer early fall s...            NaN  \n29998  this is a delicious soup that i originally fou...            NaN  \n29999  i've heard of the 'cookies by design' company,...           10.0  \n\n[30000 rows x 8 columns]",
      "text/html": "<div>\n<style scoped>\n    .dataframe tbody tr th:only-of-type {\n        vertical-align: middle;\n    }\n\n    .dataframe tbody tr th {\n        vertical-align: top;\n    }\n\n    .dataframe thead th {\n        text-align: right;\n    }\n</style>\n<table border=\"1\" class=\"dataframe\">\n  <thead>\n    <tr style=\"text-align: right;\">\n      <th></th>\n      <th>name</th>\n      <th>id</th>\n      <th>minutes</th>\n      <th>contributor_id</th>\n      <th>submitted</th>\n      <th>n_steps</th>\n      <th>description</th>\n      <th>n_ingredients</th>\n    </tr>\n  </thead>\n  <tbody>\n    <tr>\n      <th>0</th>\n      <td>george s at the cove  black bean soup</td>\n      <td>44123</td>\n      <td>90</td>\n      <td>35193</td>\n      <td>2002-10-25</td>\n      <td>NaN</td>\n      <td>an original recipe created by chef scott meska...</td>\n      <td>18.0</td>\n    </tr>\n    <tr>\n      <th>1</th>\n      <td>healthy for them  yogurt popsicles</td>\n      <td>67664</td>\n      <td>10</td>\n      <td>91970</td>\n      <td>2003-07-26</td>\n      <td>NaN</td>\n      <td>my children and their friends ask for my homem...</td>\n      <td>NaN</td>\n    </tr>\n    <tr>\n      <th>2</th>\n      <td>i can t believe it s spinach</td>\n      <td>38798</td>\n      <td>30</td>\n      <td>1533</td>\n      <td>2002-08-29</td>\n      <td>NaN</td>\n      <td>these were so go, it surprised even me.</td>\n      <td>8.0</td>\n    </tr>\n    <tr>\n      <th>3</th>\n      <td>italian  gut busters</td>\n      <td>35173</td>\n      <td>45</td>\n      <td>22724</td>\n      <td>2002-07-27</td>\n      <td>NaN</td>\n      <td>my sister-in-law made these for us at a family...</td>\n      <td>NaN</td>\n    </tr>\n    <tr>\n      <th>4</th>\n      <td>love is in the air  beef fondue   sauces</td>\n      <td>84797</td>\n      <td>25</td>\n      <td>4470</td>\n      <td>2004-02-23</td>\n      <td>4.0</td>\n      <td>i think a fondue is a very romantic casual din...</td>\n      <td>NaN</td>\n    </tr>\n    <tr>\n      <th>...</th>\n      <td>...</td>\n      <td>...</td>\n      <td>...</td>\n      <td>...</td>\n      <td>...</td>\n      <td>...</td>\n      <td>...</td>\n      <td>...</td>\n    </tr>\n    <tr>\n      <th>29995</th>\n      <td>zurie s holey rustic olive and cheddar bread</td>\n      <td>267661</td>\n      <td>80</td>\n      <td>200862</td>\n      <td>2007-11-25</td>\n      <td>16.0</td>\n      <td>this is based on a french recipe but i changed...</td>\n      <td>10.0</td>\n    </tr>\n    <tr>\n      <th>29996</th>\n      <td>zwetschgenkuchen  bavarian plum cake</td>\n      <td>386977</td>\n      <td>240</td>\n      <td>177443</td>\n      <td>2009-08-24</td>\n      <td>NaN</td>\n      <td>this is a traditional fresh plum cake, thought...</td>\n      <td>11.0</td>\n    </tr>\n    <tr>\n      <th>29997</th>\n      <td>zwiebelkuchen   southwest german onion cake</td>\n      <td>103312</td>\n      <td>75</td>\n      <td>161745</td>\n      <td>2004-11-03</td>\n      <td>NaN</td>\n      <td>this is a traditional late summer early fall s...</td>\n      <td>NaN</td>\n    </tr>\n    <tr>\n      <th>29998</th>\n      <td>zydeco soup</td>\n      <td>486161</td>\n      <td>60</td>\n      <td>227978</td>\n      <td>2012-08-29</td>\n      <td>NaN</td>\n      <td>this is a delicious soup that i originally fou...</td>\n      <td>NaN</td>\n    </tr>\n    <tr>\n      <th>29999</th>\n      <td>cookies by design   cookies on a stick</td>\n      <td>298512</td>\n      <td>29</td>\n      <td>506822</td>\n      <td>2008-04-15</td>\n      <td>9.0</td>\n      <td>i've heard of the 'cookies by design' company,...</td>\n      <td>10.0</td>\n    </tr>\n  </tbody>\n</table>\n<p>30000 rows × 8 columns</p>\n</div>"
     },
     "execution_count": 37,
     "metadata": {},
     "output_type": "execute_result"
    }
   ],
   "source": [
    "recipes_dataframe_2 = pd.read_csv('data/recipes_sample.csv', sep=',', parse_dates=['submitted'])\n",
    "recipes_dataframe_new = pd.DataFrame(data = recipes_dataframe_2, index = None)\n",
    "recipes_dataframe_new"
   ],
   "metadata": {
    "collapsed": false,
    "pycharm": {
     "name": "#%%\n"
    }
   }
  },
  {
   "cell_type": "code",
   "execution_count": 38,
   "outputs": [
    {
     "data": {
      "text/plain": "name                      object\nid                         int64\nminutes                    int64\ncontributor_id             int64\nsubmitted         datetime64[ns]\nn_steps                  float64\ndescription               object\nn_ingredients            float64\ndtype: object"
     },
     "execution_count": 38,
     "metadata": {},
     "output_type": "execute_result"
    }
   ],
   "source": [
    "recipes_dataframe_new.dtypes"
   ],
   "metadata": {
    "collapsed": false,
    "pycharm": {
     "name": "#%%\n"
    }
   }
  },
  {
   "cell_type": "markdown",
   "metadata": {
    "pycharm": {
     "name": "#%% md\n"
    }
   },
   "source": [
    "2.2 Выведите информацию о рецептах, добавленных в датасет не позже 2010 года."
   ]
  },
  {
   "cell_type": "code",
   "execution_count": 39,
   "outputs": [
    {
     "data": {
      "text/plain": "                                               name      id  minutes  \\\n0             george s at the cove  black bean soup   44123       90   \n1                healthy for them  yogurt popsicles   67664       10   \n2                      i can t believe it s spinach   38798       30   \n3                              italian  gut busters   35173       45   \n4          love is in the air  beef fondue   sauces   84797       25   \n...                                             ...     ...      ...   \n29993                     zuni caf zucchini pickles  316950     2895   \n29995  zurie s holey rustic olive and cheddar bread  267661       80   \n29996          zwetschgenkuchen  bavarian plum cake  386977      240   \n29997   zwiebelkuchen   southwest german onion cake  103312       75   \n29999        cookies by design   cookies on a stick  298512       29   \n\n       contributor_id  submitted  n_steps  \\\n0               35193 2002-10-25      NaN   \n1               91970 2003-07-26      NaN   \n2                1533 2002-08-29      NaN   \n3               22724 2002-07-27      NaN   \n4                4470 2004-02-23      4.0   \n...               ...        ...      ...   \n29993           62264 2008-07-31      NaN   \n29995          200862 2007-11-25     16.0   \n29996          177443 2009-08-24      NaN   \n29997          161745 2004-11-03      NaN   \n29999          506822 2008-04-15      9.0   \n\n                                             description  n_ingredients  \n0      an original recipe created by chef scott meska...           18.0  \n1      my children and their friends ask for my homem...            NaN  \n2                these were so go, it surprised even me.            8.0  \n3      my sister-in-law made these for us at a family...            NaN  \n4      i think a fondue is a very romantic casual din...            NaN  \n...                                                  ...            ...  \n29993  refrigerator pickles for some of the zucchini ...            8.0  \n29995  this is based on a french recipe but i changed...           10.0  \n29996  this is a traditional fresh plum cake, thought...           11.0  \n29997  this is a traditional late summer early fall s...            NaN  \n29999  i've heard of the 'cookies by design' company,...           10.0  \n\n[26125 rows x 8 columns]",
      "text/html": "<div>\n<style scoped>\n    .dataframe tbody tr th:only-of-type {\n        vertical-align: middle;\n    }\n\n    .dataframe tbody tr th {\n        vertical-align: top;\n    }\n\n    .dataframe thead th {\n        text-align: right;\n    }\n</style>\n<table border=\"1\" class=\"dataframe\">\n  <thead>\n    <tr style=\"text-align: right;\">\n      <th></th>\n      <th>name</th>\n      <th>id</th>\n      <th>minutes</th>\n      <th>contributor_id</th>\n      <th>submitted</th>\n      <th>n_steps</th>\n      <th>description</th>\n      <th>n_ingredients</th>\n    </tr>\n  </thead>\n  <tbody>\n    <tr>\n      <th>0</th>\n      <td>george s at the cove  black bean soup</td>\n      <td>44123</td>\n      <td>90</td>\n      <td>35193</td>\n      <td>2002-10-25</td>\n      <td>NaN</td>\n      <td>an original recipe created by chef scott meska...</td>\n      <td>18.0</td>\n    </tr>\n    <tr>\n      <th>1</th>\n      <td>healthy for them  yogurt popsicles</td>\n      <td>67664</td>\n      <td>10</td>\n      <td>91970</td>\n      <td>2003-07-26</td>\n      <td>NaN</td>\n      <td>my children and their friends ask for my homem...</td>\n      <td>NaN</td>\n    </tr>\n    <tr>\n      <th>2</th>\n      <td>i can t believe it s spinach</td>\n      <td>38798</td>\n      <td>30</td>\n      <td>1533</td>\n      <td>2002-08-29</td>\n      <td>NaN</td>\n      <td>these were so go, it surprised even me.</td>\n      <td>8.0</td>\n    </tr>\n    <tr>\n      <th>3</th>\n      <td>italian  gut busters</td>\n      <td>35173</td>\n      <td>45</td>\n      <td>22724</td>\n      <td>2002-07-27</td>\n      <td>NaN</td>\n      <td>my sister-in-law made these for us at a family...</td>\n      <td>NaN</td>\n    </tr>\n    <tr>\n      <th>4</th>\n      <td>love is in the air  beef fondue   sauces</td>\n      <td>84797</td>\n      <td>25</td>\n      <td>4470</td>\n      <td>2004-02-23</td>\n      <td>4.0</td>\n      <td>i think a fondue is a very romantic casual din...</td>\n      <td>NaN</td>\n    </tr>\n    <tr>\n      <th>...</th>\n      <td>...</td>\n      <td>...</td>\n      <td>...</td>\n      <td>...</td>\n      <td>...</td>\n      <td>...</td>\n      <td>...</td>\n      <td>...</td>\n    </tr>\n    <tr>\n      <th>29993</th>\n      <td>zuni caf zucchini pickles</td>\n      <td>316950</td>\n      <td>2895</td>\n      <td>62264</td>\n      <td>2008-07-31</td>\n      <td>NaN</td>\n      <td>refrigerator pickles for some of the zucchini ...</td>\n      <td>8.0</td>\n    </tr>\n    <tr>\n      <th>29995</th>\n      <td>zurie s holey rustic olive and cheddar bread</td>\n      <td>267661</td>\n      <td>80</td>\n      <td>200862</td>\n      <td>2007-11-25</td>\n      <td>16.0</td>\n      <td>this is based on a french recipe but i changed...</td>\n      <td>10.0</td>\n    </tr>\n    <tr>\n      <th>29996</th>\n      <td>zwetschgenkuchen  bavarian plum cake</td>\n      <td>386977</td>\n      <td>240</td>\n      <td>177443</td>\n      <td>2009-08-24</td>\n      <td>NaN</td>\n      <td>this is a traditional fresh plum cake, thought...</td>\n      <td>11.0</td>\n    </tr>\n    <tr>\n      <th>29997</th>\n      <td>zwiebelkuchen   southwest german onion cake</td>\n      <td>103312</td>\n      <td>75</td>\n      <td>161745</td>\n      <td>2004-11-03</td>\n      <td>NaN</td>\n      <td>this is a traditional late summer early fall s...</td>\n      <td>NaN</td>\n    </tr>\n    <tr>\n      <th>29999</th>\n      <td>cookies by design   cookies on a stick</td>\n      <td>298512</td>\n      <td>29</td>\n      <td>506822</td>\n      <td>2008-04-15</td>\n      <td>9.0</td>\n      <td>i've heard of the 'cookies by design' company,...</td>\n      <td>10.0</td>\n    </tr>\n  </tbody>\n</table>\n<p>26125 rows × 8 columns</p>\n</div>"
     },
     "execution_count": 39,
     "metadata": {},
     "output_type": "execute_result"
    }
   ],
   "source": [
    "recipes_dataframe_new[recipes_dataframe_new['submitted'] <= pd.to_datetime('20100101',format=\"%Y%m%d\")]"
   ],
   "metadata": {
    "collapsed": false,
    "pycharm": {
     "name": "#%%\n"
    }
   }
  },
  {
   "cell_type": "markdown",
   "metadata": {
    "pycharm": {
     "name": "#%% md\n"
    }
   },
   "source": [
    "### Работа со строковыми данными в `pandas`"
   ]
  },
  {
   "cell_type": "markdown",
   "metadata": {
    "pycharm": {
     "name": "#%% md\n"
    }
   },
   "source": [
    "3.1  Добавьте в таблицу `recipes` столбец `description_length`, в котором хранится длина описания рецепта из столбца `description`."
   ]
  },
  {
   "cell_type": "code",
   "execution_count": 44,
   "outputs": [
    {
     "data": {
      "text/plain": "                                               name      id  minutes  \\\n0             george s at the cove  black bean soup   44123       90   \n1                healthy for them  yogurt popsicles   67664       10   \n2                      i can t believe it s spinach   38798       30   \n3                              italian  gut busters   35173       45   \n4          love is in the air  beef fondue   sauces   84797       25   \n...                                             ...     ...      ...   \n29995  zurie s holey rustic olive and cheddar bread  267661       80   \n29996          zwetschgenkuchen  bavarian plum cake  386977      240   \n29997   zwiebelkuchen   southwest german onion cake  103312       75   \n29998                                   zydeco soup  486161       60   \n29999        cookies by design   cookies on a stick  298512       29   \n\n       contributor_id  submitted  n_steps  \\\n0               35193 2002-10-25      NaN   \n1               91970 2003-07-26      NaN   \n2                1533 2002-08-29      NaN   \n3               22724 2002-07-27      NaN   \n4                4470 2004-02-23      4.0   \n...               ...        ...      ...   \n29995          200862 2007-11-25     16.0   \n29996          177443 2009-08-24      NaN   \n29997          161745 2004-11-03      NaN   \n29998          227978 2012-08-29      NaN   \n29999          506822 2008-04-15      9.0   \n\n                                             description  n_ingredients  \\\n0      an original recipe created by chef scott meska...           18.0   \n1      my children and their friends ask for my homem...            NaN   \n2                these were so go, it surprised even me.            8.0   \n3      my sister-in-law made these for us at a family...            NaN   \n4      i think a fondue is a very romantic casual din...            NaN   \n...                                                  ...            ...   \n29995  this is based on a french recipe but i changed...           10.0   \n29996  this is a traditional fresh plum cake, thought...           11.0   \n29997  this is a traditional late summer early fall s...            NaN   \n29998  this is a delicious soup that i originally fou...            NaN   \n29999  i've heard of the 'cookies by design' company,...           10.0   \n\n       description_length  \n0                   330.0  \n1                   255.0  \n2                    39.0  \n3                   154.0  \n4                   587.0  \n...                   ...  \n29995               484.0  \n29996               286.0  \n29997               311.0  \n29998               648.0  \n29999               125.0  \n\n[30000 rows x 9 columns]",
      "text/html": "<div>\n<style scoped>\n    .dataframe tbody tr th:only-of-type {\n        vertical-align: middle;\n    }\n\n    .dataframe tbody tr th {\n        vertical-align: top;\n    }\n\n    .dataframe thead th {\n        text-align: right;\n    }\n</style>\n<table border=\"1\" class=\"dataframe\">\n  <thead>\n    <tr style=\"text-align: right;\">\n      <th></th>\n      <th>name</th>\n      <th>id</th>\n      <th>minutes</th>\n      <th>contributor_id</th>\n      <th>submitted</th>\n      <th>n_steps</th>\n      <th>description</th>\n      <th>n_ingredients</th>\n      <th>description_length</th>\n    </tr>\n  </thead>\n  <tbody>\n    <tr>\n      <th>0</th>\n      <td>george s at the cove  black bean soup</td>\n      <td>44123</td>\n      <td>90</td>\n      <td>35193</td>\n      <td>2002-10-25</td>\n      <td>NaN</td>\n      <td>an original recipe created by chef scott meska...</td>\n      <td>18.0</td>\n      <td>330.0</td>\n    </tr>\n    <tr>\n      <th>1</th>\n      <td>healthy for them  yogurt popsicles</td>\n      <td>67664</td>\n      <td>10</td>\n      <td>91970</td>\n      <td>2003-07-26</td>\n      <td>NaN</td>\n      <td>my children and their friends ask for my homem...</td>\n      <td>NaN</td>\n      <td>255.0</td>\n    </tr>\n    <tr>\n      <th>2</th>\n      <td>i can t believe it s spinach</td>\n      <td>38798</td>\n      <td>30</td>\n      <td>1533</td>\n      <td>2002-08-29</td>\n      <td>NaN</td>\n      <td>these were so go, it surprised even me.</td>\n      <td>8.0</td>\n      <td>39.0</td>\n    </tr>\n    <tr>\n      <th>3</th>\n      <td>italian  gut busters</td>\n      <td>35173</td>\n      <td>45</td>\n      <td>22724</td>\n      <td>2002-07-27</td>\n      <td>NaN</td>\n      <td>my sister-in-law made these for us at a family...</td>\n      <td>NaN</td>\n      <td>154.0</td>\n    </tr>\n    <tr>\n      <th>4</th>\n      <td>love is in the air  beef fondue   sauces</td>\n      <td>84797</td>\n      <td>25</td>\n      <td>4470</td>\n      <td>2004-02-23</td>\n      <td>4.0</td>\n      <td>i think a fondue is a very romantic casual din...</td>\n      <td>NaN</td>\n      <td>587.0</td>\n    </tr>\n    <tr>\n      <th>...</th>\n      <td>...</td>\n      <td>...</td>\n      <td>...</td>\n      <td>...</td>\n      <td>...</td>\n      <td>...</td>\n      <td>...</td>\n      <td>...</td>\n      <td>...</td>\n    </tr>\n    <tr>\n      <th>29995</th>\n      <td>zurie s holey rustic olive and cheddar bread</td>\n      <td>267661</td>\n      <td>80</td>\n      <td>200862</td>\n      <td>2007-11-25</td>\n      <td>16.0</td>\n      <td>this is based on a french recipe but i changed...</td>\n      <td>10.0</td>\n      <td>484.0</td>\n    </tr>\n    <tr>\n      <th>29996</th>\n      <td>zwetschgenkuchen  bavarian plum cake</td>\n      <td>386977</td>\n      <td>240</td>\n      <td>177443</td>\n      <td>2009-08-24</td>\n      <td>NaN</td>\n      <td>this is a traditional fresh plum cake, thought...</td>\n      <td>11.0</td>\n      <td>286.0</td>\n    </tr>\n    <tr>\n      <th>29997</th>\n      <td>zwiebelkuchen   southwest german onion cake</td>\n      <td>103312</td>\n      <td>75</td>\n      <td>161745</td>\n      <td>2004-11-03</td>\n      <td>NaN</td>\n      <td>this is a traditional late summer early fall s...</td>\n      <td>NaN</td>\n      <td>311.0</td>\n    </tr>\n    <tr>\n      <th>29998</th>\n      <td>zydeco soup</td>\n      <td>486161</td>\n      <td>60</td>\n      <td>227978</td>\n      <td>2012-08-29</td>\n      <td>NaN</td>\n      <td>this is a delicious soup that i originally fou...</td>\n      <td>NaN</td>\n      <td>648.0</td>\n    </tr>\n    <tr>\n      <th>29999</th>\n      <td>cookies by design   cookies on a stick</td>\n      <td>298512</td>\n      <td>29</td>\n      <td>506822</td>\n      <td>2008-04-15</td>\n      <td>9.0</td>\n      <td>i've heard of the 'cookies by design' company,...</td>\n      <td>10.0</td>\n      <td>125.0</td>\n    </tr>\n  </tbody>\n</table>\n<p>30000 rows × 9 columns</p>\n</div>"
     },
     "execution_count": 44,
     "metadata": {},
     "output_type": "execute_result"
    }
   ],
   "source": [
    "recipes_dataframe_new['description_length'] = recipes_dataframe_new['description'].str.len()\n",
    "recipes_dataframe_new"
   ],
   "metadata": {
    "collapsed": false,
    "pycharm": {
     "name": "#%%\n"
    }
   }
  },
  {
   "cell_type": "markdown",
   "metadata": {
    "pycharm": {
     "name": "#%% md\n"
    }
   },
   "source": [
    "3.2 Измените название каждого рецепта в таблице `recipes` таким образом, чтобы каждое слово в названии начиналось с прописной буквы."
   ]
  },
  {
   "cell_type": "code",
   "execution_count": 45,
   "outputs": [
    {
     "data": {
      "text/plain": "                                               name      id  minutes  \\\n0             George S At The Cove  Black Bean Soup   44123       90   \n1                Healthy For Them  Yogurt Popsicles   67664       10   \n2                      I Can T Believe It S Spinach   38798       30   \n3                              Italian  Gut Busters   35173       45   \n4          Love Is In The Air  Beef Fondue   Sauces   84797       25   \n...                                             ...     ...      ...   \n29995  Zurie S Holey Rustic Olive And Cheddar Bread  267661       80   \n29996          Zwetschgenkuchen  Bavarian Plum Cake  386977      240   \n29997   Zwiebelkuchen   Southwest German Onion Cake  103312       75   \n29998                                   Zydeco Soup  486161       60   \n29999        Cookies By Design   Cookies On A Stick  298512       29   \n\n       contributor_id  submitted  n_steps  \\\n0               35193 2002-10-25      NaN   \n1               91970 2003-07-26      NaN   \n2                1533 2002-08-29      NaN   \n3               22724 2002-07-27      NaN   \n4                4470 2004-02-23      4.0   \n...               ...        ...      ...   \n29995          200862 2007-11-25     16.0   \n29996          177443 2009-08-24      NaN   \n29997          161745 2004-11-03      NaN   \n29998          227978 2012-08-29      NaN   \n29999          506822 2008-04-15      9.0   \n\n                                             description  n_ingredients  \\\n0      an original recipe created by chef scott meska...           18.0   \n1      my children and their friends ask for my homem...            NaN   \n2                these were so go, it surprised even me.            8.0   \n3      my sister-in-law made these for us at a family...            NaN   \n4      i think a fondue is a very romantic casual din...            NaN   \n...                                                  ...            ...   \n29995  this is based on a french recipe but i changed...           10.0   \n29996  this is a traditional fresh plum cake, thought...           11.0   \n29997  this is a traditional late summer early fall s...            NaN   \n29998  this is a delicious soup that i originally fou...            NaN   \n29999  i've heard of the 'cookies by design' company,...           10.0   \n\n       description_length  \n0                   330.0  \n1                   255.0  \n2                    39.0  \n3                   154.0  \n4                   587.0  \n...                   ...  \n29995               484.0  \n29996               286.0  \n29997               311.0  \n29998               648.0  \n29999               125.0  \n\n[30000 rows x 9 columns]",
      "text/html": "<div>\n<style scoped>\n    .dataframe tbody tr th:only-of-type {\n        vertical-align: middle;\n    }\n\n    .dataframe tbody tr th {\n        vertical-align: top;\n    }\n\n    .dataframe thead th {\n        text-align: right;\n    }\n</style>\n<table border=\"1\" class=\"dataframe\">\n  <thead>\n    <tr style=\"text-align: right;\">\n      <th></th>\n      <th>name</th>\n      <th>id</th>\n      <th>minutes</th>\n      <th>contributor_id</th>\n      <th>submitted</th>\n      <th>n_steps</th>\n      <th>description</th>\n      <th>n_ingredients</th>\n      <th>description_length</th>\n    </tr>\n  </thead>\n  <tbody>\n    <tr>\n      <th>0</th>\n      <td>George S At The Cove  Black Bean Soup</td>\n      <td>44123</td>\n      <td>90</td>\n      <td>35193</td>\n      <td>2002-10-25</td>\n      <td>NaN</td>\n      <td>an original recipe created by chef scott meska...</td>\n      <td>18.0</td>\n      <td>330.0</td>\n    </tr>\n    <tr>\n      <th>1</th>\n      <td>Healthy For Them  Yogurt Popsicles</td>\n      <td>67664</td>\n      <td>10</td>\n      <td>91970</td>\n      <td>2003-07-26</td>\n      <td>NaN</td>\n      <td>my children and their friends ask for my homem...</td>\n      <td>NaN</td>\n      <td>255.0</td>\n    </tr>\n    <tr>\n      <th>2</th>\n      <td>I Can T Believe It S Spinach</td>\n      <td>38798</td>\n      <td>30</td>\n      <td>1533</td>\n      <td>2002-08-29</td>\n      <td>NaN</td>\n      <td>these were so go, it surprised even me.</td>\n      <td>8.0</td>\n      <td>39.0</td>\n    </tr>\n    <tr>\n      <th>3</th>\n      <td>Italian  Gut Busters</td>\n      <td>35173</td>\n      <td>45</td>\n      <td>22724</td>\n      <td>2002-07-27</td>\n      <td>NaN</td>\n      <td>my sister-in-law made these for us at a family...</td>\n      <td>NaN</td>\n      <td>154.0</td>\n    </tr>\n    <tr>\n      <th>4</th>\n      <td>Love Is In The Air  Beef Fondue   Sauces</td>\n      <td>84797</td>\n      <td>25</td>\n      <td>4470</td>\n      <td>2004-02-23</td>\n      <td>4.0</td>\n      <td>i think a fondue is a very romantic casual din...</td>\n      <td>NaN</td>\n      <td>587.0</td>\n    </tr>\n    <tr>\n      <th>...</th>\n      <td>...</td>\n      <td>...</td>\n      <td>...</td>\n      <td>...</td>\n      <td>...</td>\n      <td>...</td>\n      <td>...</td>\n      <td>...</td>\n      <td>...</td>\n    </tr>\n    <tr>\n      <th>29995</th>\n      <td>Zurie S Holey Rustic Olive And Cheddar Bread</td>\n      <td>267661</td>\n      <td>80</td>\n      <td>200862</td>\n      <td>2007-11-25</td>\n      <td>16.0</td>\n      <td>this is based on a french recipe but i changed...</td>\n      <td>10.0</td>\n      <td>484.0</td>\n    </tr>\n    <tr>\n      <th>29996</th>\n      <td>Zwetschgenkuchen  Bavarian Plum Cake</td>\n      <td>386977</td>\n      <td>240</td>\n      <td>177443</td>\n      <td>2009-08-24</td>\n      <td>NaN</td>\n      <td>this is a traditional fresh plum cake, thought...</td>\n      <td>11.0</td>\n      <td>286.0</td>\n    </tr>\n    <tr>\n      <th>29997</th>\n      <td>Zwiebelkuchen   Southwest German Onion Cake</td>\n      <td>103312</td>\n      <td>75</td>\n      <td>161745</td>\n      <td>2004-11-03</td>\n      <td>NaN</td>\n      <td>this is a traditional late summer early fall s...</td>\n      <td>NaN</td>\n      <td>311.0</td>\n    </tr>\n    <tr>\n      <th>29998</th>\n      <td>Zydeco Soup</td>\n      <td>486161</td>\n      <td>60</td>\n      <td>227978</td>\n      <td>2012-08-29</td>\n      <td>NaN</td>\n      <td>this is a delicious soup that i originally fou...</td>\n      <td>NaN</td>\n      <td>648.0</td>\n    </tr>\n    <tr>\n      <th>29999</th>\n      <td>Cookies By Design   Cookies On A Stick</td>\n      <td>298512</td>\n      <td>29</td>\n      <td>506822</td>\n      <td>2008-04-15</td>\n      <td>9.0</td>\n      <td>i've heard of the 'cookies by design' company,...</td>\n      <td>10.0</td>\n      <td>125.0</td>\n    </tr>\n  </tbody>\n</table>\n<p>30000 rows × 9 columns</p>\n</div>"
     },
     "execution_count": 45,
     "metadata": {},
     "output_type": "execute_result"
    }
   ],
   "source": [
    "recipes_dataframe_new['name'] = recipes_dataframe_new['name'].str.title()\n",
    "recipes_dataframe_new"
   ],
   "metadata": {
    "collapsed": false,
    "pycharm": {
     "name": "#%%\n"
    }
   }
  },
  {
   "cell_type": "markdown",
   "metadata": {
    "pycharm": {
     "name": "#%% md\n"
    }
   },
   "source": [
    "3.3 Добавьте в таблицу `recipes` столбец `name_word_count`, в котором хранится количество слов из названии рецепта (считайте, что слова в названии разделяются только пробелами). Обратите внимание, что между словами может располагаться несколько пробелов подряд."
   ]
  },
  {
   "cell_type": "code",
   "execution_count": 46,
   "outputs": [
    {
     "data": {
      "text/plain": "                                               name      id  minutes  \\\n0             George S At The Cove  Black Bean Soup   44123       90   \n1                Healthy For Them  Yogurt Popsicles   67664       10   \n2                      I Can T Believe It S Spinach   38798       30   \n3                              Italian  Gut Busters   35173       45   \n4          Love Is In The Air  Beef Fondue   Sauces   84797       25   \n...                                             ...     ...      ...   \n29995  Zurie S Holey Rustic Olive And Cheddar Bread  267661       80   \n29996          Zwetschgenkuchen  Bavarian Plum Cake  386977      240   \n29997   Zwiebelkuchen   Southwest German Onion Cake  103312       75   \n29998                                   Zydeco Soup  486161       60   \n29999        Cookies By Design   Cookies On A Stick  298512       29   \n\n       contributor_id  submitted  n_steps  \\\n0               35193 2002-10-25      NaN   \n1               91970 2003-07-26      NaN   \n2                1533 2002-08-29      NaN   \n3               22724 2002-07-27      NaN   \n4                4470 2004-02-23      4.0   \n...               ...        ...      ...   \n29995          200862 2007-11-25     16.0   \n29996          177443 2009-08-24      NaN   \n29997          161745 2004-11-03      NaN   \n29998          227978 2012-08-29      NaN   \n29999          506822 2008-04-15      9.0   \n\n                                             description  n_ingredients  \\\n0      an original recipe created by chef scott meska...           18.0   \n1      my children and their friends ask for my homem...            NaN   \n2                these were so go, it surprised even me.            8.0   \n3      my sister-in-law made these for us at a family...            NaN   \n4      i think a fondue is a very romantic casual din...            NaN   \n...                                                  ...            ...   \n29995  this is based on a french recipe but i changed...           10.0   \n29996  this is a traditional fresh plum cake, thought...           11.0   \n29997  this is a traditional late summer early fall s...            NaN   \n29998  this is a delicious soup that i originally fou...            NaN   \n29999  i've heard of the 'cookies by design' company,...           10.0   \n\n       description_length  name_word_count  \n0                   330.0                8  \n1                   255.0                5  \n2                    39.0                7  \n3                   154.0                3  \n4                   587.0                8  \n...                   ...              ...  \n29995               484.0                8  \n29996               286.0                4  \n29997               311.0                5  \n29998               648.0                2  \n29999               125.0                7  \n\n[30000 rows x 10 columns]",
      "text/html": "<div>\n<style scoped>\n    .dataframe tbody tr th:only-of-type {\n        vertical-align: middle;\n    }\n\n    .dataframe tbody tr th {\n        vertical-align: top;\n    }\n\n    .dataframe thead th {\n        text-align: right;\n    }\n</style>\n<table border=\"1\" class=\"dataframe\">\n  <thead>\n    <tr style=\"text-align: right;\">\n      <th></th>\n      <th>name</th>\n      <th>id</th>\n      <th>minutes</th>\n      <th>contributor_id</th>\n      <th>submitted</th>\n      <th>n_steps</th>\n      <th>description</th>\n      <th>n_ingredients</th>\n      <th>description_length</th>\n      <th>name_word_count</th>\n    </tr>\n  </thead>\n  <tbody>\n    <tr>\n      <th>0</th>\n      <td>George S At The Cove  Black Bean Soup</td>\n      <td>44123</td>\n      <td>90</td>\n      <td>35193</td>\n      <td>2002-10-25</td>\n      <td>NaN</td>\n      <td>an original recipe created by chef scott meska...</td>\n      <td>18.0</td>\n      <td>330.0</td>\n      <td>8</td>\n    </tr>\n    <tr>\n      <th>1</th>\n      <td>Healthy For Them  Yogurt Popsicles</td>\n      <td>67664</td>\n      <td>10</td>\n      <td>91970</td>\n      <td>2003-07-26</td>\n      <td>NaN</td>\n      <td>my children and their friends ask for my homem...</td>\n      <td>NaN</td>\n      <td>255.0</td>\n      <td>5</td>\n    </tr>\n    <tr>\n      <th>2</th>\n      <td>I Can T Believe It S Spinach</td>\n      <td>38798</td>\n      <td>30</td>\n      <td>1533</td>\n      <td>2002-08-29</td>\n      <td>NaN</td>\n      <td>these were so go, it surprised even me.</td>\n      <td>8.0</td>\n      <td>39.0</td>\n      <td>7</td>\n    </tr>\n    <tr>\n      <th>3</th>\n      <td>Italian  Gut Busters</td>\n      <td>35173</td>\n      <td>45</td>\n      <td>22724</td>\n      <td>2002-07-27</td>\n      <td>NaN</td>\n      <td>my sister-in-law made these for us at a family...</td>\n      <td>NaN</td>\n      <td>154.0</td>\n      <td>3</td>\n    </tr>\n    <tr>\n      <th>4</th>\n      <td>Love Is In The Air  Beef Fondue   Sauces</td>\n      <td>84797</td>\n      <td>25</td>\n      <td>4470</td>\n      <td>2004-02-23</td>\n      <td>4.0</td>\n      <td>i think a fondue is a very romantic casual din...</td>\n      <td>NaN</td>\n      <td>587.0</td>\n      <td>8</td>\n    </tr>\n    <tr>\n      <th>...</th>\n      <td>...</td>\n      <td>...</td>\n      <td>...</td>\n      <td>...</td>\n      <td>...</td>\n      <td>...</td>\n      <td>...</td>\n      <td>...</td>\n      <td>...</td>\n      <td>...</td>\n    </tr>\n    <tr>\n      <th>29995</th>\n      <td>Zurie S Holey Rustic Olive And Cheddar Bread</td>\n      <td>267661</td>\n      <td>80</td>\n      <td>200862</td>\n      <td>2007-11-25</td>\n      <td>16.0</td>\n      <td>this is based on a french recipe but i changed...</td>\n      <td>10.0</td>\n      <td>484.0</td>\n      <td>8</td>\n    </tr>\n    <tr>\n      <th>29996</th>\n      <td>Zwetschgenkuchen  Bavarian Plum Cake</td>\n      <td>386977</td>\n      <td>240</td>\n      <td>177443</td>\n      <td>2009-08-24</td>\n      <td>NaN</td>\n      <td>this is a traditional fresh plum cake, thought...</td>\n      <td>11.0</td>\n      <td>286.0</td>\n      <td>4</td>\n    </tr>\n    <tr>\n      <th>29997</th>\n      <td>Zwiebelkuchen   Southwest German Onion Cake</td>\n      <td>103312</td>\n      <td>75</td>\n      <td>161745</td>\n      <td>2004-11-03</td>\n      <td>NaN</td>\n      <td>this is a traditional late summer early fall s...</td>\n      <td>NaN</td>\n      <td>311.0</td>\n      <td>5</td>\n    </tr>\n    <tr>\n      <th>29998</th>\n      <td>Zydeco Soup</td>\n      <td>486161</td>\n      <td>60</td>\n      <td>227978</td>\n      <td>2012-08-29</td>\n      <td>NaN</td>\n      <td>this is a delicious soup that i originally fou...</td>\n      <td>NaN</td>\n      <td>648.0</td>\n      <td>2</td>\n    </tr>\n    <tr>\n      <th>29999</th>\n      <td>Cookies By Design   Cookies On A Stick</td>\n      <td>298512</td>\n      <td>29</td>\n      <td>506822</td>\n      <td>2008-04-15</td>\n      <td>9.0</td>\n      <td>i've heard of the 'cookies by design' company,...</td>\n      <td>10.0</td>\n      <td>125.0</td>\n      <td>7</td>\n    </tr>\n  </tbody>\n</table>\n<p>30000 rows × 10 columns</p>\n</div>"
     },
     "execution_count": 46,
     "metadata": {},
     "output_type": "execute_result"
    }
   ],
   "source": [
    "recipes_dataframe_new['name_word_count'] = recipes_dataframe_new['name'].str.split().apply(len)\n",
    "recipes_dataframe_new"
   ],
   "metadata": {
    "collapsed": false,
    "pycharm": {
     "name": "#%%\n"
    }
   }
  },
  {
   "cell_type": "markdown",
   "metadata": {
    "pycharm": {
     "name": "#%% md\n"
    }
   },
   "source": [
    "### Группировки таблиц `pd.DataFrame`"
   ]
  },
  {
   "cell_type": "markdown",
   "metadata": {
    "pycharm": {
     "name": "#%% md\n"
    }
   },
   "source": [
    "4.1 Посчитайте количество рецептов, представленных каждым из участников (`contributor_id`). Какой участник добавил максимальное кол-во рецептов?"
   ]
  },
  {
   "cell_type": "code",
   "execution_count": 50,
   "outputs": [
    {
     "name": "stdout",
     "output_type": "stream",
     "text": [
      "Количество рецептов, представленных каждым из участников:\n",
      "contributor_id\n",
      "1530            5\n",
      "1533          186\n",
      "1534           50\n",
      "1535           40\n",
      "1538            8\n",
      "             ... \n",
      "2001968497      2\n",
      "2002059754      1\n",
      "2002234079      1\n",
      "2002234259      1\n",
      "2002247884      1\n",
      "Name: id, Length: 8404, dtype: int64\n"
     ]
    }
   ],
   "source": [
    "print('Количество рецептов, представленных каждым из участников:\\n', recipes_dataframe_new.groupby('contributor_id')['id'].count(), sep='')"
   ],
   "metadata": {
    "collapsed": false,
    "pycharm": {
     "name": "#%%\n"
    }
   }
  },
  {
   "cell_type": "code",
   "execution_count": 49,
   "outputs": [
    {
     "name": "stdout",
     "output_type": "stream",
     "text": [
      "Максимальное кол-во рецептов добавил участник с id = 89831\n"
     ]
    }
   ],
   "source": [
    "print('Максимальное кол-во рецептов добавил участник с id =', recipes_dataframe_new.groupby('contributor_id')['id'].count().idxmax())"
   ],
   "metadata": {
    "collapsed": false,
    "pycharm": {
     "name": "#%%\n"
    }
   }
  },
  {
   "cell_type": "markdown",
   "metadata": {
    "pycharm": {
     "name": "#%% md\n"
    }
   },
   "source": [
    "4.2 Посчитайте средний рейтинг к каждому из рецептов. Для скольких рецептов отсутствуют отзывы? Обратите внимание, что отзыв с нулевым рейтингом или не заполненным текстовым описанием не считается отсутствующим."
   ]
  },
  {
   "cell_type": "code",
   "execution_count": 56,
   "outputs": [
    {
     "name": "stdout",
     "output_type": "stream",
     "text": [
      "Средний рейтинг к каждому из рецептов:\n",
      "recipe_id\n",
      "48        1.000000\n",
      "55        4.750000\n",
      "66        4.944444\n",
      "91        4.750000\n",
      "94        5.000000\n",
      "            ...   \n",
      "536547    5.000000\n",
      "536610    0.000000\n",
      "536728    4.000000\n",
      "536729    4.750000\n",
      "536747    0.000000\n",
      "Name: rating, Length: 28100, dtype: float64\n"
     ]
    }
   ],
   "source": [
    "print('Средний рейтинг к каждому из рецептов:\\n', reviews_dataframe.groupby('recipe_id').mean()['rating'], sep='')"
   ],
   "metadata": {
    "collapsed": false,
    "pycharm": {
     "name": "#%%\n"
    }
   }
  },
  {
   "cell_type": "code",
   "execution_count": 54,
   "outputs": [
    {
     "name": "stdout",
     "output_type": "stream",
     "text": [
      "Отзывы отсутствуют у этого количества рецептов - 126696\n"
     ]
    }
   ],
   "source": [
    "print('Отзывы отсутствуют у этого количества рецептов -', reviews_dataframe['review'].isnull().count())"
   ],
   "metadata": {
    "collapsed": false,
    "pycharm": {
     "name": "#%%\n"
    }
   }
  },
  {
   "cell_type": "markdown",
   "metadata": {
    "pycharm": {
     "name": "#%% md\n"
    }
   },
   "source": [
    "4.3 Посчитайте количество рецептов с разбивкой по годам создания."
   ]
  },
  {
   "cell_type": "code",
   "execution_count": 57,
   "outputs": [
    {
     "data": {
      "text/plain": "submitted\n1999     275\n2000     104\n2001     589\n2002    2644\n2003    2334\n2004    2153\n2005    3130\n2006    3473\n2007    4429\n2008    4029\n2009    2963\n2010    1538\n2011     922\n2012     659\n2013     490\n2014     139\n2015      42\n2016      24\n2017      39\n2018      24\ndtype: int64"
     },
     "execution_count": 57,
     "metadata": {},
     "output_type": "execute_result"
    }
   ],
   "source": [
    "recipes_dataframe_new.groupby(recipes_dataframe_new['submitted'].dt.year).size()"
   ],
   "metadata": {
    "collapsed": false,
    "pycharm": {
     "name": "#%%\n"
    }
   }
  },
  {
   "cell_type": "markdown",
   "metadata": {
    "pycharm": {
     "name": "#%% md\n"
    }
   },
   "source": [
    "### Объединение таблиц `pd.DataFrame`"
   ]
  },
  {
   "cell_type": "markdown",
   "metadata": {
    "pycharm": {
     "name": "#%% md\n"
    }
   },
   "source": [
    "5.1 При помощи объединения таблиц, создайте `DataFrame`, состоящий из четырех столбцов: `id`, `name`, `user_id`, `rating`. Рецепты, на которые не оставлен ни один отзыв, должны отсутствовать в полученной таблице. Подтвердите правильность работы вашего кода, выбрав рецепт, не имеющий отзывов, и попытавшись найти строку, соответствующую этому рецепту, в полученном `DataFrame`."
   ]
  },
  {
   "cell_type": "markdown",
   "metadata": {
    "pycharm": {
     "name": "#%% md\n"
    }
   },
   "source": [
    "5.2 При помощи объединения таблиц и группировок, создайте `DataFrame`, состоящий из трех столбцов: `recipe_id`, `name`, `review_count`, где столбец `review_count` содержит кол-во отзывов, оставленных на рецепт `recipe_id`. У рецептов, на которые не оставлен ни один отзыв, в столбце `review_count` должен быть указан 0. Подтвердите правильность работы вашего кода, выбрав рецепт, не имеющий отзывов, и найдя строку, соответствующую этому рецепту, в полученном `DataFrame`."
   ]
  },
  {
   "cell_type": "markdown",
   "metadata": {
    "pycharm": {
     "name": "#%% md\n"
    }
   },
   "source": [
    "5.3. Выясните, рецепты, добавленные в каком году, имеют наименьший средний рейтинг?"
   ]
  },
  {
   "cell_type": "markdown",
   "metadata": {
    "pycharm": {
     "name": "#%% md\n"
    }
   },
   "source": [
    "### Сохранение таблиц `pd.DataFrame`"
   ]
  },
  {
   "cell_type": "markdown",
   "metadata": {
    "pycharm": {
     "name": "#%% md\n"
    }
   },
   "source": [
    "6.1 Отсортируйте таблицу в порядке убывания величины столбца `name_word_count` и сохраните результаты выполнения заданий 3.1-3.3 в csv файл. "
   ]
  },
  {
   "cell_type": "markdown",
   "metadata": {
    "pycharm": {
     "name": "#%% md\n"
    }
   },
   "source": [
    "6.2 Воспользовавшись `pd.ExcelWriter`, cохраните результаты 5.1 и 5.2 в файл: на лист с названием `Рецепты с оценками` сохраните результаты выполнения 5.1; на лист с названием `Количество отзывов по рецептам` сохраните результаты выполнения 5.2."
   ]
  },
  {
   "cell_type": "code",
   "execution_count": null,
   "metadata": {
    "pycharm": {
     "name": "#%%\n"
    }
   },
   "outputs": [],
   "source": []
  },
  {
   "cell_type": "code",
   "execution_count": null,
   "metadata": {
    "pycharm": {
     "name": "#%%\n"
    }
   },
   "outputs": [],
   "source": []
  }
 ],
 "metadata": {
  "kernelspec": {
   "display_name": "Python 3",
   "language": "python",
   "name": "python3"
  },
  "language_info": {
   "codemirror_mode": {
    "name": "ipython",
    "version": 3
   },
   "file_extension": ".py",
   "mimetype": "text/x-python",
   "name": "python",
   "nbconvert_exporter": "python",
   "pygments_lexer": "ipython3",
   "version": "3.7.4"
  }
 },
 "nbformat": 4,
 "nbformat_minor": 4
}