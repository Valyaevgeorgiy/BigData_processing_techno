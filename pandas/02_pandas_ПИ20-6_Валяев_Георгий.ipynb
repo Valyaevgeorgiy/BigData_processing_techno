{
 "cells": [
  {
   "cell_type": "code",
   "execution_count": 1,
   "metadata": {
    "collapsed": true,
    "id": "cbCIUaUWh7QL",
    "pycharm": {
     "name": "#%%\n"
    }
   },
   "outputs": [],
   "source": [
    "import pandas as pd\n",
    "import numpy as np"
   ]
  },
  {
   "cell_type": "code",
   "execution_count": 2,
   "outputs": [
    {
     "name": "stdout",
     "output_type": "stream",
     "text": [
      "Requirement already satisfied: openpyxl in c:\\users\\admin\\appdata\\local\\programs\\python\\python310\\lib\\site-packages (3.0.10)\n",
      "Requirement already satisfied: et-xmlfile in c:\\users\\admin\\appdata\\local\\programs\\python\\python310\\lib\\site-packages (from openpyxl) (1.1.0)\n"
     ]
    },
    {
     "name": "stderr",
     "output_type": "stream",
     "text": [
      "WARNING: You are using pip version 22.0.3; however, version 22.2.2 is available.\n",
      "You should consider upgrading via the 'C:\\Users\\admin\\AppData\\Local\\Programs\\Python\\Python310\\python.exe -m pip install --upgrade pip' command.\n"
     ]
    }
   ],
   "source": [
    "!pip install openpyxl"
   ],
   "metadata": {
    "collapsed": false,
    "pycharm": {
     "name": "#%%\n"
    }
   }
  },
  {
   "cell_type": "markdown",
   "metadata": {
    "id": "VOON4n8ah7QP",
    "pycharm": {
     "name": "#%% md\n"
    }
   },
   "source": [
    "1) Задание: загрузить данные из файлов (приложены к письму):\n",
    "* excel-comp-data.xlsx\n",
    "* sp500hst.txt\n",
    "\n",
    "2) Загрузить данные из файла sp500hst.txt, обозначить столбцы (в соответствии с содержимым)."
   ]
  },
  {
   "cell_type": "code",
   "execution_count": 2,
   "outputs": [
    {
     "data": {
      "text/plain": "            date ticker   open     high     low  close  volume\n0       20090821      A  25.60  25.6100  25.220  25.55   34758\n1       20090824      A  25.64  25.7400  25.330  25.50   22247\n2       20090825      A  25.50  25.7000  25.225  25.34   30891\n3       20090826      A  25.32  25.6425  25.145  25.48   33334\n4       20090827      A  25.50  25.5700  25.230  25.54   70176\n...          ...    ...    ...      ...     ...    ...     ...\n122569  20100813    ZMH  51.72  51.9000  51.380  51.44   14561\n122570  20100816    ZMH  51.13  51.4700  50.600  51.00   13489\n122571  20100817    ZMH  51.14  51.6000  50.890  51.21   20498\n122572  20100819    ZMH  51.63  51.6300  50.170  50.22   18259\n122573  20100820    ZMH  50.03  50.5500  49.480  49.82   17792\n\n[122574 rows x 7 columns]",
      "text/html": "<div>\n<style scoped>\n    .dataframe tbody tr th:only-of-type {\n        vertical-align: middle;\n    }\n\n    .dataframe tbody tr th {\n        vertical-align: top;\n    }\n\n    .dataframe thead th {\n        text-align: right;\n    }\n</style>\n<table border=\"1\" class=\"dataframe\">\n  <thead>\n    <tr style=\"text-align: right;\">\n      <th></th>\n      <th>date</th>\n      <th>ticker</th>\n      <th>open</th>\n      <th>high</th>\n      <th>low</th>\n      <th>close</th>\n      <th>volume</th>\n    </tr>\n  </thead>\n  <tbody>\n    <tr>\n      <th>0</th>\n      <td>20090821</td>\n      <td>A</td>\n      <td>25.60</td>\n      <td>25.6100</td>\n      <td>25.220</td>\n      <td>25.55</td>\n      <td>34758</td>\n    </tr>\n    <tr>\n      <th>1</th>\n      <td>20090824</td>\n      <td>A</td>\n      <td>25.64</td>\n      <td>25.7400</td>\n      <td>25.330</td>\n      <td>25.50</td>\n      <td>22247</td>\n    </tr>\n    <tr>\n      <th>2</th>\n      <td>20090825</td>\n      <td>A</td>\n      <td>25.50</td>\n      <td>25.7000</td>\n      <td>25.225</td>\n      <td>25.34</td>\n      <td>30891</td>\n    </tr>\n    <tr>\n      <th>3</th>\n      <td>20090826</td>\n      <td>A</td>\n      <td>25.32</td>\n      <td>25.6425</td>\n      <td>25.145</td>\n      <td>25.48</td>\n      <td>33334</td>\n    </tr>\n    <tr>\n      <th>4</th>\n      <td>20090827</td>\n      <td>A</td>\n      <td>25.50</td>\n      <td>25.5700</td>\n      <td>25.230</td>\n      <td>25.54</td>\n      <td>70176</td>\n    </tr>\n    <tr>\n      <th>...</th>\n      <td>...</td>\n      <td>...</td>\n      <td>...</td>\n      <td>...</td>\n      <td>...</td>\n      <td>...</td>\n      <td>...</td>\n    </tr>\n    <tr>\n      <th>122569</th>\n      <td>20100813</td>\n      <td>ZMH</td>\n      <td>51.72</td>\n      <td>51.9000</td>\n      <td>51.380</td>\n      <td>51.44</td>\n      <td>14561</td>\n    </tr>\n    <tr>\n      <th>122570</th>\n      <td>20100816</td>\n      <td>ZMH</td>\n      <td>51.13</td>\n      <td>51.4700</td>\n      <td>50.600</td>\n      <td>51.00</td>\n      <td>13489</td>\n    </tr>\n    <tr>\n      <th>122571</th>\n      <td>20100817</td>\n      <td>ZMH</td>\n      <td>51.14</td>\n      <td>51.6000</td>\n      <td>50.890</td>\n      <td>51.21</td>\n      <td>20498</td>\n    </tr>\n    <tr>\n      <th>122572</th>\n      <td>20100819</td>\n      <td>ZMH</td>\n      <td>51.63</td>\n      <td>51.6300</td>\n      <td>50.170</td>\n      <td>50.22</td>\n      <td>18259</td>\n    </tr>\n    <tr>\n      <th>122573</th>\n      <td>20100820</td>\n      <td>ZMH</td>\n      <td>50.03</td>\n      <td>50.5500</td>\n      <td>49.480</td>\n      <td>49.82</td>\n      <td>17792</td>\n    </tr>\n  </tbody>\n</table>\n<p>122574 rows × 7 columns</p>\n</div>"
     },
     "execution_count": 2,
     "metadata": {},
     "output_type": "execute_result"
    }
   ],
   "source": [
    "dataframe = pd.read_csv(\"data/sp500hst.txt\", delimiter=',', names=[\"date\", \"ticker\", \"open\", \"high\", \"low\", \"close\", \"volume\"])\n",
    "dataframe"
   ],
   "metadata": {
    "collapsed": false,
    "pycharm": {
     "name": "#%%\n"
    }
   }
  },
  {
   "cell_type": "code",
   "execution_count": 3,
   "outputs": [
    {
     "data": {
      "text/plain": "             date ticker   open     high     low  close  volume\n0      2009-08-21      A  25.60  25.6100  25.220  25.55   34758\n1      2009-08-24      A  25.64  25.7400  25.330  25.50   22247\n2      2009-08-25      A  25.50  25.7000  25.225  25.34   30891\n3      2009-08-26      A  25.32  25.6425  25.145  25.48   33334\n4      2009-08-27      A  25.50  25.5700  25.230  25.54   70176\n...           ...    ...    ...      ...     ...    ...     ...\n122569 2010-08-13    ZMH  51.72  51.9000  51.380  51.44   14561\n122570 2010-08-16    ZMH  51.13  51.4700  50.600  51.00   13489\n122571 2010-08-17    ZMH  51.14  51.6000  50.890  51.21   20498\n122572 2010-08-19    ZMH  51.63  51.6300  50.170  50.22   18259\n122573 2010-08-20    ZMH  50.03  50.5500  49.480  49.82   17792\n\n[122574 rows x 7 columns]",
      "text/html": "<div>\n<style scoped>\n    .dataframe tbody tr th:only-of-type {\n        vertical-align: middle;\n    }\n\n    .dataframe tbody tr th {\n        vertical-align: top;\n    }\n\n    .dataframe thead th {\n        text-align: right;\n    }\n</style>\n<table border=\"1\" class=\"dataframe\">\n  <thead>\n    <tr style=\"text-align: right;\">\n      <th></th>\n      <th>date</th>\n      <th>ticker</th>\n      <th>open</th>\n      <th>high</th>\n      <th>low</th>\n      <th>close</th>\n      <th>volume</th>\n    </tr>\n  </thead>\n  <tbody>\n    <tr>\n      <th>0</th>\n      <td>2009-08-21</td>\n      <td>A</td>\n      <td>25.60</td>\n      <td>25.6100</td>\n      <td>25.220</td>\n      <td>25.55</td>\n      <td>34758</td>\n    </tr>\n    <tr>\n      <th>1</th>\n      <td>2009-08-24</td>\n      <td>A</td>\n      <td>25.64</td>\n      <td>25.7400</td>\n      <td>25.330</td>\n      <td>25.50</td>\n      <td>22247</td>\n    </tr>\n    <tr>\n      <th>2</th>\n      <td>2009-08-25</td>\n      <td>A</td>\n      <td>25.50</td>\n      <td>25.7000</td>\n      <td>25.225</td>\n      <td>25.34</td>\n      <td>30891</td>\n    </tr>\n    <tr>\n      <th>3</th>\n      <td>2009-08-26</td>\n      <td>A</td>\n      <td>25.32</td>\n      <td>25.6425</td>\n      <td>25.145</td>\n      <td>25.48</td>\n      <td>33334</td>\n    </tr>\n    <tr>\n      <th>4</th>\n      <td>2009-08-27</td>\n      <td>A</td>\n      <td>25.50</td>\n      <td>25.5700</td>\n      <td>25.230</td>\n      <td>25.54</td>\n      <td>70176</td>\n    </tr>\n    <tr>\n      <th>...</th>\n      <td>...</td>\n      <td>...</td>\n      <td>...</td>\n      <td>...</td>\n      <td>...</td>\n      <td>...</td>\n      <td>...</td>\n    </tr>\n    <tr>\n      <th>122569</th>\n      <td>2010-08-13</td>\n      <td>ZMH</td>\n      <td>51.72</td>\n      <td>51.9000</td>\n      <td>51.380</td>\n      <td>51.44</td>\n      <td>14561</td>\n    </tr>\n    <tr>\n      <th>122570</th>\n      <td>2010-08-16</td>\n      <td>ZMH</td>\n      <td>51.13</td>\n      <td>51.4700</td>\n      <td>50.600</td>\n      <td>51.00</td>\n      <td>13489</td>\n    </tr>\n    <tr>\n      <th>122571</th>\n      <td>2010-08-17</td>\n      <td>ZMH</td>\n      <td>51.14</td>\n      <td>51.6000</td>\n      <td>50.890</td>\n      <td>51.21</td>\n      <td>20498</td>\n    </tr>\n    <tr>\n      <th>122572</th>\n      <td>2010-08-19</td>\n      <td>ZMH</td>\n      <td>51.63</td>\n      <td>51.6300</td>\n      <td>50.170</td>\n      <td>50.22</td>\n      <td>18259</td>\n    </tr>\n    <tr>\n      <th>122573</th>\n      <td>2010-08-20</td>\n      <td>ZMH</td>\n      <td>50.03</td>\n      <td>50.5500</td>\n      <td>49.480</td>\n      <td>49.82</td>\n      <td>17792</td>\n    </tr>\n  </tbody>\n</table>\n<p>122574 rows × 7 columns</p>\n</div>"
     },
     "execution_count": 3,
     "metadata": {},
     "output_type": "execute_result"
    }
   ],
   "source": [
    "dataframe['date'] = pd.to_datetime(dataframe['date'].astype(str), format=\"%Y%m%d\")\n",
    "dataframe"
   ],
   "metadata": {
    "collapsed": false,
    "pycharm": {
     "name": "#%%\n"
    }
   }
  },
  {
   "cell_type": "code",
   "execution_count": 4,
   "outputs": [
    {
     "data": {
      "text/plain": "    account                              name  \\\n0    211829        Kerluke, Koepp and Hilpert   \n1    320563                    Walter-Trantow   \n2    648336        Bashirian, Kunde and Price   \n3    109996       D'Amore, Gleichner and Bode   \n4    121213                     Bauch-Goldner   \n5    132971  Williamson, Schumm and Hettinger   \n6    145068                        Casper LLC   \n7    205217                  Kovacek-Johnston   \n8    209744                    Champlin-Morar   \n9    212303                    Gerhold-Maggio   \n10   214098       Goodwin, Homenick and Jerde   \n11   231907                        Hahn-Moore   \n12   242368      Frami, Anderson and Donnelly   \n13   268755                       Walsh-Haley   \n14   273274                     McDermott PLC   \n\n                                  street               city          state  \\\n0                     34456 Sean Highway         New Jaycob          Texas   \n1                      1311 Alvis Tunnel      Port Khadijah  NorthCarolina   \n2   62184 Schamberger Underpass Apt. 231     New Lilianland           Iowa   \n3            155 Fadel Crescent Apt. 144         Hyattburgh          Maine   \n4                    7274 Marissa Common    Shanahanchester     California   \n5                   89403 Casimer Spring       Jeremieburgh       Arkansas   \n6           340 Consuela Bridge Apt. 400  Lake Gabriellaton     Mississipi   \n7           91971 Cronin Vista Suite 601         Deronville    RhodeIsland   \n8                       26739 Grant Lock    Lake Juliannton   Pennsylvania   \n9              366 Maggio Grove Apt. 998          North Ras          Idaho   \n10             649 Cierra Forks Apt. 078           Rosaberg       Tenessee   \n11              18115 Olivine Throughway      Norbertomouth    NorthDakota   \n12                       182 Bertie Road        East Davian           Iowa   \n13                  2624 Beatty Parkways       Goodwinmouth    RhodeIsland   \n14                 8917 Bergstrom Meadow    Kathryneborough       Delaware   \n\n    postal-code     Jan     Feb     Mar  \n0         28752   10000   62000   35000  \n1         38365   95000   45000   35000  \n2         76517   91000  120000   35000  \n3         46021   45000  120000   10000  \n4         49681  162000  120000   35000  \n5         62785  150000  120000   35000  \n6         18008   62000  120000   70000  \n7         53461  145000   95000   35000  \n8         64415   70000   95000   35000  \n9         46308   70000  120000   35000  \n10        47743   45000  120000   55000  \n11        31415  150000   10000  162000  \n12        72686  162000  120000   35000  \n13        31919   55000  120000   35000  \n14        27933  150000  120000   70000  ",
      "text/html": "<div>\n<style scoped>\n    .dataframe tbody tr th:only-of-type {\n        vertical-align: middle;\n    }\n\n    .dataframe tbody tr th {\n        vertical-align: top;\n    }\n\n    .dataframe thead th {\n        text-align: right;\n    }\n</style>\n<table border=\"1\" class=\"dataframe\">\n  <thead>\n    <tr style=\"text-align: right;\">\n      <th></th>\n      <th>account</th>\n      <th>name</th>\n      <th>street</th>\n      <th>city</th>\n      <th>state</th>\n      <th>postal-code</th>\n      <th>Jan</th>\n      <th>Feb</th>\n      <th>Mar</th>\n    </tr>\n  </thead>\n  <tbody>\n    <tr>\n      <th>0</th>\n      <td>211829</td>\n      <td>Kerluke, Koepp and Hilpert</td>\n      <td>34456 Sean Highway</td>\n      <td>New Jaycob</td>\n      <td>Texas</td>\n      <td>28752</td>\n      <td>10000</td>\n      <td>62000</td>\n      <td>35000</td>\n    </tr>\n    <tr>\n      <th>1</th>\n      <td>320563</td>\n      <td>Walter-Trantow</td>\n      <td>1311 Alvis Tunnel</td>\n      <td>Port Khadijah</td>\n      <td>NorthCarolina</td>\n      <td>38365</td>\n      <td>95000</td>\n      <td>45000</td>\n      <td>35000</td>\n    </tr>\n    <tr>\n      <th>2</th>\n      <td>648336</td>\n      <td>Bashirian, Kunde and Price</td>\n      <td>62184 Schamberger Underpass Apt. 231</td>\n      <td>New Lilianland</td>\n      <td>Iowa</td>\n      <td>76517</td>\n      <td>91000</td>\n      <td>120000</td>\n      <td>35000</td>\n    </tr>\n    <tr>\n      <th>3</th>\n      <td>109996</td>\n      <td>D'Amore, Gleichner and Bode</td>\n      <td>155 Fadel Crescent Apt. 144</td>\n      <td>Hyattburgh</td>\n      <td>Maine</td>\n      <td>46021</td>\n      <td>45000</td>\n      <td>120000</td>\n      <td>10000</td>\n    </tr>\n    <tr>\n      <th>4</th>\n      <td>121213</td>\n      <td>Bauch-Goldner</td>\n      <td>7274 Marissa Common</td>\n      <td>Shanahanchester</td>\n      <td>California</td>\n      <td>49681</td>\n      <td>162000</td>\n      <td>120000</td>\n      <td>35000</td>\n    </tr>\n    <tr>\n      <th>5</th>\n      <td>132971</td>\n      <td>Williamson, Schumm and Hettinger</td>\n      <td>89403 Casimer Spring</td>\n      <td>Jeremieburgh</td>\n      <td>Arkansas</td>\n      <td>62785</td>\n      <td>150000</td>\n      <td>120000</td>\n      <td>35000</td>\n    </tr>\n    <tr>\n      <th>6</th>\n      <td>145068</td>\n      <td>Casper LLC</td>\n      <td>340 Consuela Bridge Apt. 400</td>\n      <td>Lake Gabriellaton</td>\n      <td>Mississipi</td>\n      <td>18008</td>\n      <td>62000</td>\n      <td>120000</td>\n      <td>70000</td>\n    </tr>\n    <tr>\n      <th>7</th>\n      <td>205217</td>\n      <td>Kovacek-Johnston</td>\n      <td>91971 Cronin Vista Suite 601</td>\n      <td>Deronville</td>\n      <td>RhodeIsland</td>\n      <td>53461</td>\n      <td>145000</td>\n      <td>95000</td>\n      <td>35000</td>\n    </tr>\n    <tr>\n      <th>8</th>\n      <td>209744</td>\n      <td>Champlin-Morar</td>\n      <td>26739 Grant Lock</td>\n      <td>Lake Juliannton</td>\n      <td>Pennsylvania</td>\n      <td>64415</td>\n      <td>70000</td>\n      <td>95000</td>\n      <td>35000</td>\n    </tr>\n    <tr>\n      <th>9</th>\n      <td>212303</td>\n      <td>Gerhold-Maggio</td>\n      <td>366 Maggio Grove Apt. 998</td>\n      <td>North Ras</td>\n      <td>Idaho</td>\n      <td>46308</td>\n      <td>70000</td>\n      <td>120000</td>\n      <td>35000</td>\n    </tr>\n    <tr>\n      <th>10</th>\n      <td>214098</td>\n      <td>Goodwin, Homenick and Jerde</td>\n      <td>649 Cierra Forks Apt. 078</td>\n      <td>Rosaberg</td>\n      <td>Tenessee</td>\n      <td>47743</td>\n      <td>45000</td>\n      <td>120000</td>\n      <td>55000</td>\n    </tr>\n    <tr>\n      <th>11</th>\n      <td>231907</td>\n      <td>Hahn-Moore</td>\n      <td>18115 Olivine Throughway</td>\n      <td>Norbertomouth</td>\n      <td>NorthDakota</td>\n      <td>31415</td>\n      <td>150000</td>\n      <td>10000</td>\n      <td>162000</td>\n    </tr>\n    <tr>\n      <th>12</th>\n      <td>242368</td>\n      <td>Frami, Anderson and Donnelly</td>\n      <td>182 Bertie Road</td>\n      <td>East Davian</td>\n      <td>Iowa</td>\n      <td>72686</td>\n      <td>162000</td>\n      <td>120000</td>\n      <td>35000</td>\n    </tr>\n    <tr>\n      <th>13</th>\n      <td>268755</td>\n      <td>Walsh-Haley</td>\n      <td>2624 Beatty Parkways</td>\n      <td>Goodwinmouth</td>\n      <td>RhodeIsland</td>\n      <td>31919</td>\n      <td>55000</td>\n      <td>120000</td>\n      <td>35000</td>\n    </tr>\n    <tr>\n      <th>14</th>\n      <td>273274</td>\n      <td>McDermott PLC</td>\n      <td>8917 Bergstrom Meadow</td>\n      <td>Kathryneborough</td>\n      <td>Delaware</td>\n      <td>27933</td>\n      <td>150000</td>\n      <td>120000</td>\n      <td>70000</td>\n    </tr>\n  </tbody>\n</table>\n</div>"
     },
     "execution_count": 4,
     "metadata": {},
     "output_type": "execute_result"
    }
   ],
   "source": [
    "dataframe_excel = pd.read_excel(\"data/excel-comp-data.xlsx\")\n",
    "dataframe_excel"
   ],
   "metadata": {
    "collapsed": false,
    "pycharm": {
     "name": "#%%\n"
    }
   }
  },
  {
   "cell_type": "markdown",
   "metadata": {
    "id": "fDM24acJh7QS",
    "pycharm": {
     "name": "#%% md\n"
    }
   },
   "source": [
    "3.1) Создать столбец со значениями, средними между значением дневного минимума и максимума."
   ]
  },
  {
   "cell_type": "code",
   "execution_count": 5,
   "outputs": [
    {
     "data": {
      "text/plain": "             date ticker   open     high     low  close  volume      Mean\n0      2009-08-21      A  25.60  25.6100  25.220  25.55   34758  25.41500\n1      2009-08-24      A  25.64  25.7400  25.330  25.50   22247  25.53500\n2      2009-08-25      A  25.50  25.7000  25.225  25.34   30891  25.46250\n3      2009-08-26      A  25.32  25.6425  25.145  25.48   33334  25.39375\n4      2009-08-27      A  25.50  25.5700  25.230  25.54   70176  25.40000\n...           ...    ...    ...      ...     ...    ...     ...       ...\n122569 2010-08-13    ZMH  51.72  51.9000  51.380  51.44   14561  51.64000\n122570 2010-08-16    ZMH  51.13  51.4700  50.600  51.00   13489  51.03500\n122571 2010-08-17    ZMH  51.14  51.6000  50.890  51.21   20498  51.24500\n122572 2010-08-19    ZMH  51.63  51.6300  50.170  50.22   18259  50.90000\n122573 2010-08-20    ZMH  50.03  50.5500  49.480  49.82   17792  50.01500\n\n[122574 rows x 8 columns]",
      "text/html": "<div>\n<style scoped>\n    .dataframe tbody tr th:only-of-type {\n        vertical-align: middle;\n    }\n\n    .dataframe tbody tr th {\n        vertical-align: top;\n    }\n\n    .dataframe thead th {\n        text-align: right;\n    }\n</style>\n<table border=\"1\" class=\"dataframe\">\n  <thead>\n    <tr style=\"text-align: right;\">\n      <th></th>\n      <th>date</th>\n      <th>ticker</th>\n      <th>open</th>\n      <th>high</th>\n      <th>low</th>\n      <th>close</th>\n      <th>volume</th>\n      <th>Mean</th>\n    </tr>\n  </thead>\n  <tbody>\n    <tr>\n      <th>0</th>\n      <td>2009-08-21</td>\n      <td>A</td>\n      <td>25.60</td>\n      <td>25.6100</td>\n      <td>25.220</td>\n      <td>25.55</td>\n      <td>34758</td>\n      <td>25.41500</td>\n    </tr>\n    <tr>\n      <th>1</th>\n      <td>2009-08-24</td>\n      <td>A</td>\n      <td>25.64</td>\n      <td>25.7400</td>\n      <td>25.330</td>\n      <td>25.50</td>\n      <td>22247</td>\n      <td>25.53500</td>\n    </tr>\n    <tr>\n      <th>2</th>\n      <td>2009-08-25</td>\n      <td>A</td>\n      <td>25.50</td>\n      <td>25.7000</td>\n      <td>25.225</td>\n      <td>25.34</td>\n      <td>30891</td>\n      <td>25.46250</td>\n    </tr>\n    <tr>\n      <th>3</th>\n      <td>2009-08-26</td>\n      <td>A</td>\n      <td>25.32</td>\n      <td>25.6425</td>\n      <td>25.145</td>\n      <td>25.48</td>\n      <td>33334</td>\n      <td>25.39375</td>\n    </tr>\n    <tr>\n      <th>4</th>\n      <td>2009-08-27</td>\n      <td>A</td>\n      <td>25.50</td>\n      <td>25.5700</td>\n      <td>25.230</td>\n      <td>25.54</td>\n      <td>70176</td>\n      <td>25.40000</td>\n    </tr>\n    <tr>\n      <th>...</th>\n      <td>...</td>\n      <td>...</td>\n      <td>...</td>\n      <td>...</td>\n      <td>...</td>\n      <td>...</td>\n      <td>...</td>\n      <td>...</td>\n    </tr>\n    <tr>\n      <th>122569</th>\n      <td>2010-08-13</td>\n      <td>ZMH</td>\n      <td>51.72</td>\n      <td>51.9000</td>\n      <td>51.380</td>\n      <td>51.44</td>\n      <td>14561</td>\n      <td>51.64000</td>\n    </tr>\n    <tr>\n      <th>122570</th>\n      <td>2010-08-16</td>\n      <td>ZMH</td>\n      <td>51.13</td>\n      <td>51.4700</td>\n      <td>50.600</td>\n      <td>51.00</td>\n      <td>13489</td>\n      <td>51.03500</td>\n    </tr>\n    <tr>\n      <th>122571</th>\n      <td>2010-08-17</td>\n      <td>ZMH</td>\n      <td>51.14</td>\n      <td>51.6000</td>\n      <td>50.890</td>\n      <td>51.21</td>\n      <td>20498</td>\n      <td>51.24500</td>\n    </tr>\n    <tr>\n      <th>122572</th>\n      <td>2010-08-19</td>\n      <td>ZMH</td>\n      <td>51.63</td>\n      <td>51.6300</td>\n      <td>50.170</td>\n      <td>50.22</td>\n      <td>18259</td>\n      <td>50.90000</td>\n    </tr>\n    <tr>\n      <th>122573</th>\n      <td>2010-08-20</td>\n      <td>ZMH</td>\n      <td>50.03</td>\n      <td>50.5500</td>\n      <td>49.480</td>\n      <td>49.82</td>\n      <td>17792</td>\n      <td>50.01500</td>\n    </tr>\n  </tbody>\n</table>\n<p>122574 rows × 8 columns</p>\n</div>"
     },
     "execution_count": 5,
     "metadata": {},
     "output_type": "execute_result"
    }
   ],
   "source": [
    "dataframe[\"Mean\"] = dataframe[[\"high\", \"low\"]].mean(axis=1)\n",
    "dataframe"
   ],
   "metadata": {
    "collapsed": false,
    "pycharm": {
     "name": "#%%\n"
    }
   }
  },
  {
   "cell_type": "markdown",
   "metadata": {
    "id": "WAm_yXD2h7QS",
    "pycharm": {
     "name": "#%% md\n"
    }
   },
   "source": [
    "3.2) Рассчитать среднее значение показателей для каждого из столбцов 3-6."
   ]
  },
  {
   "cell_type": "code",
   "execution_count": 6,
   "outputs": [
    {
     "name": "stdout",
     "output_type": "stream",
     "text": [
      "open     42.595458\n",
      "high     43.102243\n",
      "low      42.054464\n",
      "close    42.601865\n",
      "dtype: float64\n"
     ]
    }
   ],
   "source": [
    "print(dataframe[['open','high','low','close']].mean())"
   ],
   "metadata": {
    "collapsed": false,
    "pycharm": {
     "name": "#%%\n"
    }
   }
  },
  {
   "cell_type": "markdown",
   "metadata": {
    "id": "9TMJkAjdh7QT",
    "pycharm": {
     "name": "#%% md\n"
    }
   },
   "source": [
    "4.1) Создать DataFrame состоящий из строк относящихся только к 13 августа 2010 года."
   ]
  },
  {
   "cell_type": "code",
   "execution_count": 7,
   "outputs": [
    {
     "data": {
      "text/plain": "             date ticker    open      high      low   close  volume       Mean\n240    2010-08-13      A   27.39   27.8500   27.300   27.35   24469   27.57500\n485    2010-08-13     AA   10.70   10.7900   10.575   10.64  154397   10.68250\n726    2010-08-13   AAPL  251.03  251.8800  249.090  249.10  126738  250.48500\n971    2010-08-13    ABC   29.01   29.1300   28.690   29.04   16196   28.91000\n1216   2010-08-13    ABT   50.13   50.2600   49.910   50.06   50879   50.08500\n...           ...    ...     ...       ...      ...     ...     ...        ...\n121385 2010-08-13    XRX    9.05    9.2200    8.980    9.01   89064    9.10000\n121835 2010-08-13   YHOO   13.82   13.9550   13.760   13.83   78455   13.85750\n122080 2010-08-13    YUM   40.80   41.0399   40.620   40.85   20055   40.82995\n122324 2010-08-13   ZION   20.17   20.4300   19.840   19.89   25193   20.13500\n122569 2010-08-13    ZMH   51.72   51.9000   51.380   51.44   14561   51.64000\n\n[499 rows x 8 columns]",
      "text/html": "<div>\n<style scoped>\n    .dataframe tbody tr th:only-of-type {\n        vertical-align: middle;\n    }\n\n    .dataframe tbody tr th {\n        vertical-align: top;\n    }\n\n    .dataframe thead th {\n        text-align: right;\n    }\n</style>\n<table border=\"1\" class=\"dataframe\">\n  <thead>\n    <tr style=\"text-align: right;\">\n      <th></th>\n      <th>date</th>\n      <th>ticker</th>\n      <th>open</th>\n      <th>high</th>\n      <th>low</th>\n      <th>close</th>\n      <th>volume</th>\n      <th>Mean</th>\n    </tr>\n  </thead>\n  <tbody>\n    <tr>\n      <th>240</th>\n      <td>2010-08-13</td>\n      <td>A</td>\n      <td>27.39</td>\n      <td>27.8500</td>\n      <td>27.300</td>\n      <td>27.35</td>\n      <td>24469</td>\n      <td>27.57500</td>\n    </tr>\n    <tr>\n      <th>485</th>\n      <td>2010-08-13</td>\n      <td>AA</td>\n      <td>10.70</td>\n      <td>10.7900</td>\n      <td>10.575</td>\n      <td>10.64</td>\n      <td>154397</td>\n      <td>10.68250</td>\n    </tr>\n    <tr>\n      <th>726</th>\n      <td>2010-08-13</td>\n      <td>AAPL</td>\n      <td>251.03</td>\n      <td>251.8800</td>\n      <td>249.090</td>\n      <td>249.10</td>\n      <td>126738</td>\n      <td>250.48500</td>\n    </tr>\n    <tr>\n      <th>971</th>\n      <td>2010-08-13</td>\n      <td>ABC</td>\n      <td>29.01</td>\n      <td>29.1300</td>\n      <td>28.690</td>\n      <td>29.04</td>\n      <td>16196</td>\n      <td>28.91000</td>\n    </tr>\n    <tr>\n      <th>1216</th>\n      <td>2010-08-13</td>\n      <td>ABT</td>\n      <td>50.13</td>\n      <td>50.2600</td>\n      <td>49.910</td>\n      <td>50.06</td>\n      <td>50879</td>\n      <td>50.08500</td>\n    </tr>\n    <tr>\n      <th>...</th>\n      <td>...</td>\n      <td>...</td>\n      <td>...</td>\n      <td>...</td>\n      <td>...</td>\n      <td>...</td>\n      <td>...</td>\n      <td>...</td>\n    </tr>\n    <tr>\n      <th>121385</th>\n      <td>2010-08-13</td>\n      <td>XRX</td>\n      <td>9.05</td>\n      <td>9.2200</td>\n      <td>8.980</td>\n      <td>9.01</td>\n      <td>89064</td>\n      <td>9.10000</td>\n    </tr>\n    <tr>\n      <th>121835</th>\n      <td>2010-08-13</td>\n      <td>YHOO</td>\n      <td>13.82</td>\n      <td>13.9550</td>\n      <td>13.760</td>\n      <td>13.83</td>\n      <td>78455</td>\n      <td>13.85750</td>\n    </tr>\n    <tr>\n      <th>122080</th>\n      <td>2010-08-13</td>\n      <td>YUM</td>\n      <td>40.80</td>\n      <td>41.0399</td>\n      <td>40.620</td>\n      <td>40.85</td>\n      <td>20055</td>\n      <td>40.82995</td>\n    </tr>\n    <tr>\n      <th>122324</th>\n      <td>2010-08-13</td>\n      <td>ZION</td>\n      <td>20.17</td>\n      <td>20.4300</td>\n      <td>19.840</td>\n      <td>19.89</td>\n      <td>25193</td>\n      <td>20.13500</td>\n    </tr>\n    <tr>\n      <th>122569</th>\n      <td>2010-08-13</td>\n      <td>ZMH</td>\n      <td>51.72</td>\n      <td>51.9000</td>\n      <td>51.380</td>\n      <td>51.44</td>\n      <td>14561</td>\n      <td>51.64000</td>\n    </tr>\n  </tbody>\n</table>\n<p>499 rows × 8 columns</p>\n</div>"
     },
     "execution_count": 7,
     "metadata": {},
     "output_type": "execute_result"
    }
   ],
   "source": [
    "dataframe_13082010 = dataframe[dataframe[\"date\"] == \"2010-08-13\"]\n",
    "dataframe_13082010"
   ],
   "metadata": {
    "collapsed": false,
    "pycharm": {
     "name": "#%%\n"
    }
   }
  },
  {
   "cell_type": "markdown",
   "metadata": {
    "id": "AUQFpwE6h7QT",
    "pycharm": {
     "name": "#%% md\n"
    }
   },
   "source": [
    "4.1.2) Из DataFrame, созданного в 4.1, cоздать серию из 30 первых имен"
   ]
  },
  {
   "cell_type": "code",
   "execution_count": 8,
   "outputs": [
    {
     "data": {
      "text/plain": "240        A\n485       AA\n726     AAPL\n971      ABC\n1216     ABT\n1273     ACE\n1626    ADBE\n1871     ADI\n2116     ADM\n2359     ADP\n2601    ADSK\n2846     AEE\n3091     AEP\n3336     AES\n3581     AET\n3826     AFL\n4071     AGN\n4316     AIG\n4561     AIV\n4806     AIZ\n5049    AKAM\n5294     AKS\n5539     ALL\n5782    ALTR\n6025    AMAT\n6270     AMD\n6514    AMGN\n6758     AMP\n7003     AMT\n7246    AMZN\nName: ticker, dtype: object"
     },
     "execution_count": 8,
     "metadata": {},
     "output_type": "execute_result"
    }
   ],
   "source": [
    "dataframe_series = pd.Series(dataframe_13082010['ticker'][:30])\n",
    "dataframe_series"
   ],
   "metadata": {
    "collapsed": false,
    "pycharm": {
     "name": "#%%\n"
    }
   }
  },
  {
   "cell_type": "markdown",
   "metadata": {
    "id": "vJV9_2RQh7QU",
    "pycharm": {
     "name": "#%% md\n"
    }
   },
   "source": [
    "4.2) Из DataFrame, созданного в 4.1, создать новый DataFrame индексом в котором являются имена тикеров."
   ]
  },
  {
   "cell_type": "code",
   "execution_count": 9,
   "outputs": [
    {
     "data": {
      "text/plain": "             date ticker    open      high      low   close  volume       Mean\nticker                                                                        \nA      2010-08-13      A   27.39   27.8500   27.300   27.35   24469   27.57500\nAA     2010-08-13     AA   10.70   10.7900   10.575   10.64  154397   10.68250\nAAPL   2010-08-13   AAPL  251.03  251.8800  249.090  249.10  126738  250.48500\nABC    2010-08-13    ABC   29.01   29.1300   28.690   29.04   16196   28.91000\nABT    2010-08-13    ABT   50.13   50.2600   49.910   50.06   50879   50.08500\n...           ...    ...     ...       ...      ...     ...     ...        ...\nXRX    2010-08-13    XRX    9.05    9.2200    8.980    9.01   89064    9.10000\nYHOO   2010-08-13   YHOO   13.82   13.9550   13.760   13.83   78455   13.85750\nYUM    2010-08-13    YUM   40.80   41.0399   40.620   40.85   20055   40.82995\nZION   2010-08-13   ZION   20.17   20.4300   19.840   19.89   25193   20.13500\nZMH    2010-08-13    ZMH   51.72   51.9000   51.380   51.44   14561   51.64000\n\n[499 rows x 8 columns]",
      "text/html": "<div>\n<style scoped>\n    .dataframe tbody tr th:only-of-type {\n        vertical-align: middle;\n    }\n\n    .dataframe tbody tr th {\n        vertical-align: top;\n    }\n\n    .dataframe thead th {\n        text-align: right;\n    }\n</style>\n<table border=\"1\" class=\"dataframe\">\n  <thead>\n    <tr style=\"text-align: right;\">\n      <th></th>\n      <th>date</th>\n      <th>ticker</th>\n      <th>open</th>\n      <th>high</th>\n      <th>low</th>\n      <th>close</th>\n      <th>volume</th>\n      <th>Mean</th>\n    </tr>\n    <tr>\n      <th>ticker</th>\n      <th></th>\n      <th></th>\n      <th></th>\n      <th></th>\n      <th></th>\n      <th></th>\n      <th></th>\n      <th></th>\n    </tr>\n  </thead>\n  <tbody>\n    <tr>\n      <th>A</th>\n      <td>2010-08-13</td>\n      <td>A</td>\n      <td>27.39</td>\n      <td>27.8500</td>\n      <td>27.300</td>\n      <td>27.35</td>\n      <td>24469</td>\n      <td>27.57500</td>\n    </tr>\n    <tr>\n      <th>AA</th>\n      <td>2010-08-13</td>\n      <td>AA</td>\n      <td>10.70</td>\n      <td>10.7900</td>\n      <td>10.575</td>\n      <td>10.64</td>\n      <td>154397</td>\n      <td>10.68250</td>\n    </tr>\n    <tr>\n      <th>AAPL</th>\n      <td>2010-08-13</td>\n      <td>AAPL</td>\n      <td>251.03</td>\n      <td>251.8800</td>\n      <td>249.090</td>\n      <td>249.10</td>\n      <td>126738</td>\n      <td>250.48500</td>\n    </tr>\n    <tr>\n      <th>ABC</th>\n      <td>2010-08-13</td>\n      <td>ABC</td>\n      <td>29.01</td>\n      <td>29.1300</td>\n      <td>28.690</td>\n      <td>29.04</td>\n      <td>16196</td>\n      <td>28.91000</td>\n    </tr>\n    <tr>\n      <th>ABT</th>\n      <td>2010-08-13</td>\n      <td>ABT</td>\n      <td>50.13</td>\n      <td>50.2600</td>\n      <td>49.910</td>\n      <td>50.06</td>\n      <td>50879</td>\n      <td>50.08500</td>\n    </tr>\n    <tr>\n      <th>...</th>\n      <td>...</td>\n      <td>...</td>\n      <td>...</td>\n      <td>...</td>\n      <td>...</td>\n      <td>...</td>\n      <td>...</td>\n      <td>...</td>\n    </tr>\n    <tr>\n      <th>XRX</th>\n      <td>2010-08-13</td>\n      <td>XRX</td>\n      <td>9.05</td>\n      <td>9.2200</td>\n      <td>8.980</td>\n      <td>9.01</td>\n      <td>89064</td>\n      <td>9.10000</td>\n    </tr>\n    <tr>\n      <th>YHOO</th>\n      <td>2010-08-13</td>\n      <td>YHOO</td>\n      <td>13.82</td>\n      <td>13.9550</td>\n      <td>13.760</td>\n      <td>13.83</td>\n      <td>78455</td>\n      <td>13.85750</td>\n    </tr>\n    <tr>\n      <th>YUM</th>\n      <td>2010-08-13</td>\n      <td>YUM</td>\n      <td>40.80</td>\n      <td>41.0399</td>\n      <td>40.620</td>\n      <td>40.85</td>\n      <td>20055</td>\n      <td>40.82995</td>\n    </tr>\n    <tr>\n      <th>ZION</th>\n      <td>2010-08-13</td>\n      <td>ZION</td>\n      <td>20.17</td>\n      <td>20.4300</td>\n      <td>19.840</td>\n      <td>19.89</td>\n      <td>25193</td>\n      <td>20.13500</td>\n    </tr>\n    <tr>\n      <th>ZMH</th>\n      <td>2010-08-13</td>\n      <td>ZMH</td>\n      <td>51.72</td>\n      <td>51.9000</td>\n      <td>51.380</td>\n      <td>51.44</td>\n      <td>14561</td>\n      <td>51.64000</td>\n    </tr>\n  </tbody>\n</table>\n<p>499 rows × 8 columns</p>\n</div>"
     },
     "execution_count": 9,
     "metadata": {},
     "output_type": "execute_result"
    }
   ],
   "source": [
    "dataframe_tickers = dataframe_13082010.set_index(dataframe_13082010['ticker'])\n",
    "dataframe_tickers"
   ],
   "metadata": {
    "collapsed": false,
    "pycharm": {
     "name": "#%%\n"
    }
   }
  },
  {
   "cell_type": "markdown",
   "metadata": {
    "id": "TYJKCnu5h7QU",
    "pycharm": {
     "name": "#%% md\n"
    }
   },
   "source": [
    "4.3) Создать DataFrame состоящий из строк относящихся только тикеру ALTR."
   ]
  },
  {
   "cell_type": "code",
   "execution_count": 10,
   "outputs": [
    {
     "data": {
      "text/plain": "           date ticker   open   high    low  close  volume    Mean\n5544 2009-08-21   ALTR  19.36  19.50  19.15  19.48   54580  19.325\n5545 2009-08-24   ALTR  19.51  19.72  19.04  19.13   42059  19.380\n5546 2009-08-25   ALTR  19.13  19.39  18.95  19.05   48539  19.170\n5547 2009-08-26   ALTR  19.11  19.41  18.99  19.28   42058  19.200\n5548 2009-08-27   ALTR  19.23  19.32  18.88  19.08   63271  19.100\n...         ...    ...    ...    ...    ...    ...     ...     ...\n5782 2010-08-13   ALTR  25.30  25.50  24.94  24.94   69416  25.220\n5783 2010-08-16   ALTR  24.82  25.31  24.53  25.11   60276  24.920\n5784 2010-08-17   ALTR  25.22  25.88  25.04  25.54   89329  25.460\n5785 2010-08-19   ALTR  25.61  25.96  25.24  25.50   61815  25.600\n5786 2010-08-20   ALTR  25.44  25.83  25.32  25.60   54383  25.575\n\n[243 rows x 8 columns]",
      "text/html": "<div>\n<style scoped>\n    .dataframe tbody tr th:only-of-type {\n        vertical-align: middle;\n    }\n\n    .dataframe tbody tr th {\n        vertical-align: top;\n    }\n\n    .dataframe thead th {\n        text-align: right;\n    }\n</style>\n<table border=\"1\" class=\"dataframe\">\n  <thead>\n    <tr style=\"text-align: right;\">\n      <th></th>\n      <th>date</th>\n      <th>ticker</th>\n      <th>open</th>\n      <th>high</th>\n      <th>low</th>\n      <th>close</th>\n      <th>volume</th>\n      <th>Mean</th>\n    </tr>\n  </thead>\n  <tbody>\n    <tr>\n      <th>5544</th>\n      <td>2009-08-21</td>\n      <td>ALTR</td>\n      <td>19.36</td>\n      <td>19.50</td>\n      <td>19.15</td>\n      <td>19.48</td>\n      <td>54580</td>\n      <td>19.325</td>\n    </tr>\n    <tr>\n      <th>5545</th>\n      <td>2009-08-24</td>\n      <td>ALTR</td>\n      <td>19.51</td>\n      <td>19.72</td>\n      <td>19.04</td>\n      <td>19.13</td>\n      <td>42059</td>\n      <td>19.380</td>\n    </tr>\n    <tr>\n      <th>5546</th>\n      <td>2009-08-25</td>\n      <td>ALTR</td>\n      <td>19.13</td>\n      <td>19.39</td>\n      <td>18.95</td>\n      <td>19.05</td>\n      <td>48539</td>\n      <td>19.170</td>\n    </tr>\n    <tr>\n      <th>5547</th>\n      <td>2009-08-26</td>\n      <td>ALTR</td>\n      <td>19.11</td>\n      <td>19.41</td>\n      <td>18.99</td>\n      <td>19.28</td>\n      <td>42058</td>\n      <td>19.200</td>\n    </tr>\n    <tr>\n      <th>5548</th>\n      <td>2009-08-27</td>\n      <td>ALTR</td>\n      <td>19.23</td>\n      <td>19.32</td>\n      <td>18.88</td>\n      <td>19.08</td>\n      <td>63271</td>\n      <td>19.100</td>\n    </tr>\n    <tr>\n      <th>...</th>\n      <td>...</td>\n      <td>...</td>\n      <td>...</td>\n      <td>...</td>\n      <td>...</td>\n      <td>...</td>\n      <td>...</td>\n      <td>...</td>\n    </tr>\n    <tr>\n      <th>5782</th>\n      <td>2010-08-13</td>\n      <td>ALTR</td>\n      <td>25.30</td>\n      <td>25.50</td>\n      <td>24.94</td>\n      <td>24.94</td>\n      <td>69416</td>\n      <td>25.220</td>\n    </tr>\n    <tr>\n      <th>5783</th>\n      <td>2010-08-16</td>\n      <td>ALTR</td>\n      <td>24.82</td>\n      <td>25.31</td>\n      <td>24.53</td>\n      <td>25.11</td>\n      <td>60276</td>\n      <td>24.920</td>\n    </tr>\n    <tr>\n      <th>5784</th>\n      <td>2010-08-17</td>\n      <td>ALTR</td>\n      <td>25.22</td>\n      <td>25.88</td>\n      <td>25.04</td>\n      <td>25.54</td>\n      <td>89329</td>\n      <td>25.460</td>\n    </tr>\n    <tr>\n      <th>5785</th>\n      <td>2010-08-19</td>\n      <td>ALTR</td>\n      <td>25.61</td>\n      <td>25.96</td>\n      <td>25.24</td>\n      <td>25.50</td>\n      <td>61815</td>\n      <td>25.600</td>\n    </tr>\n    <tr>\n      <th>5786</th>\n      <td>2010-08-20</td>\n      <td>ALTR</td>\n      <td>25.44</td>\n      <td>25.83</td>\n      <td>25.32</td>\n      <td>25.60</td>\n      <td>54383</td>\n      <td>25.575</td>\n    </tr>\n  </tbody>\n</table>\n<p>243 rows × 8 columns</p>\n</div>"
     },
     "execution_count": 10,
     "metadata": {},
     "output_type": "execute_result"
    }
   ],
   "source": [
    "ALTR_dataframe = dataframe[dataframe['ticker'] == \"ALTR\"]\n",
    "ALTR_dataframe"
   ],
   "metadata": {
    "collapsed": false,
    "pycharm": {
     "name": "#%%\n"
    }
   }
  },
  {
   "cell_type": "markdown",
   "metadata": {
    "id": "rweRygrjh7QV",
    "pycharm": {
     "name": "#%% md\n"
    }
   },
   "source": [
    "4.4) Из DataFrame, созданного в 4.3, создать DataFrame индексом в котором являются даты."
   ]
  },
  {
   "cell_type": "code",
   "execution_count": 11,
   "outputs": [
    {
     "data": {
      "text/plain": "                 date ticker   open   high    low  close  volume    Mean\ndate                                                                    \n2009-08-21 2009-08-21   ALTR  19.36  19.50  19.15  19.48   54580  19.325\n2009-08-24 2009-08-24   ALTR  19.51  19.72  19.04  19.13   42059  19.380\n2009-08-25 2009-08-25   ALTR  19.13  19.39  18.95  19.05   48539  19.170\n2009-08-26 2009-08-26   ALTR  19.11  19.41  18.99  19.28   42058  19.200\n2009-08-27 2009-08-27   ALTR  19.23  19.32  18.88  19.08   63271  19.100\n...               ...    ...    ...    ...    ...    ...     ...     ...\n2010-08-13 2010-08-13   ALTR  25.30  25.50  24.94  24.94   69416  25.220\n2010-08-16 2010-08-16   ALTR  24.82  25.31  24.53  25.11   60276  24.920\n2010-08-17 2010-08-17   ALTR  25.22  25.88  25.04  25.54   89329  25.460\n2010-08-19 2010-08-19   ALTR  25.61  25.96  25.24  25.50   61815  25.600\n2010-08-20 2010-08-20   ALTR  25.44  25.83  25.32  25.60   54383  25.575\n\n[243 rows x 8 columns]",
      "text/html": "<div>\n<style scoped>\n    .dataframe tbody tr th:only-of-type {\n        vertical-align: middle;\n    }\n\n    .dataframe tbody tr th {\n        vertical-align: top;\n    }\n\n    .dataframe thead th {\n        text-align: right;\n    }\n</style>\n<table border=\"1\" class=\"dataframe\">\n  <thead>\n    <tr style=\"text-align: right;\">\n      <th></th>\n      <th>date</th>\n      <th>ticker</th>\n      <th>open</th>\n      <th>high</th>\n      <th>low</th>\n      <th>close</th>\n      <th>volume</th>\n      <th>Mean</th>\n    </tr>\n    <tr>\n      <th>date</th>\n      <th></th>\n      <th></th>\n      <th></th>\n      <th></th>\n      <th></th>\n      <th></th>\n      <th></th>\n      <th></th>\n    </tr>\n  </thead>\n  <tbody>\n    <tr>\n      <th>2009-08-21</th>\n      <td>2009-08-21</td>\n      <td>ALTR</td>\n      <td>19.36</td>\n      <td>19.50</td>\n      <td>19.15</td>\n      <td>19.48</td>\n      <td>54580</td>\n      <td>19.325</td>\n    </tr>\n    <tr>\n      <th>2009-08-24</th>\n      <td>2009-08-24</td>\n      <td>ALTR</td>\n      <td>19.51</td>\n      <td>19.72</td>\n      <td>19.04</td>\n      <td>19.13</td>\n      <td>42059</td>\n      <td>19.380</td>\n    </tr>\n    <tr>\n      <th>2009-08-25</th>\n      <td>2009-08-25</td>\n      <td>ALTR</td>\n      <td>19.13</td>\n      <td>19.39</td>\n      <td>18.95</td>\n      <td>19.05</td>\n      <td>48539</td>\n      <td>19.170</td>\n    </tr>\n    <tr>\n      <th>2009-08-26</th>\n      <td>2009-08-26</td>\n      <td>ALTR</td>\n      <td>19.11</td>\n      <td>19.41</td>\n      <td>18.99</td>\n      <td>19.28</td>\n      <td>42058</td>\n      <td>19.200</td>\n    </tr>\n    <tr>\n      <th>2009-08-27</th>\n      <td>2009-08-27</td>\n      <td>ALTR</td>\n      <td>19.23</td>\n      <td>19.32</td>\n      <td>18.88</td>\n      <td>19.08</td>\n      <td>63271</td>\n      <td>19.100</td>\n    </tr>\n    <tr>\n      <th>...</th>\n      <td>...</td>\n      <td>...</td>\n      <td>...</td>\n      <td>...</td>\n      <td>...</td>\n      <td>...</td>\n      <td>...</td>\n      <td>...</td>\n    </tr>\n    <tr>\n      <th>2010-08-13</th>\n      <td>2010-08-13</td>\n      <td>ALTR</td>\n      <td>25.30</td>\n      <td>25.50</td>\n      <td>24.94</td>\n      <td>24.94</td>\n      <td>69416</td>\n      <td>25.220</td>\n    </tr>\n    <tr>\n      <th>2010-08-16</th>\n      <td>2010-08-16</td>\n      <td>ALTR</td>\n      <td>24.82</td>\n      <td>25.31</td>\n      <td>24.53</td>\n      <td>25.11</td>\n      <td>60276</td>\n      <td>24.920</td>\n    </tr>\n    <tr>\n      <th>2010-08-17</th>\n      <td>2010-08-17</td>\n      <td>ALTR</td>\n      <td>25.22</td>\n      <td>25.88</td>\n      <td>25.04</td>\n      <td>25.54</td>\n      <td>89329</td>\n      <td>25.460</td>\n    </tr>\n    <tr>\n      <th>2010-08-19</th>\n      <td>2010-08-19</td>\n      <td>ALTR</td>\n      <td>25.61</td>\n      <td>25.96</td>\n      <td>25.24</td>\n      <td>25.50</td>\n      <td>61815</td>\n      <td>25.600</td>\n    </tr>\n    <tr>\n      <th>2010-08-20</th>\n      <td>2010-08-20</td>\n      <td>ALTR</td>\n      <td>25.44</td>\n      <td>25.83</td>\n      <td>25.32</td>\n      <td>25.60</td>\n      <td>54383</td>\n      <td>25.575</td>\n    </tr>\n  </tbody>\n</table>\n<p>243 rows × 8 columns</p>\n</div>"
     },
     "execution_count": 11,
     "metadata": {},
     "output_type": "execute_result"
    }
   ],
   "source": [
    "dataframe_index_date = ALTR_dataframe.set_index(ALTR_dataframe['date'])\n",
    "dataframe_index_date"
   ],
   "metadata": {
    "collapsed": false,
    "pycharm": {
     "name": "#%%\n"
    }
   }
  },
  {
   "cell_type": "markdown",
   "metadata": {
    "id": "rrcX0WuXh7QV",
    "pycharm": {
     "name": "#%% md\n"
    }
   },
   "source": [
    "4.5) В DataFrame, созданном в 4.3, добавить столбец, содержащий только число месяца, к которому относится дата."
   ]
  },
  {
   "cell_type": "code",
   "execution_count": 12,
   "outputs": [
    {
     "name": "stderr",
     "output_type": "stream",
     "text": [
      "C:\\Users\\admin\\AppData\\Local\\Temp\\ipykernel_13180\\1325914781.py:1: SettingWithCopyWarning: \n",
      "A value is trying to be set on a copy of a slice from a DataFrame.\n",
      "Try using .loc[row_indexer,col_indexer] = value instead\n",
      "\n",
      "See the caveats in the documentation: https://pandas.pydata.org/pandas-docs/stable/user_guide/indexing.html#returning-a-view-versus-a-copy\n",
      "  ALTR_dataframe[\"month\"] = ALTR_dataframe['date'].dt.month\n"
     ]
    },
    {
     "data": {
      "text/plain": "           date ticker   open   high    low  close  volume    Mean  month\n5544 2009-08-21   ALTR  19.36  19.50  19.15  19.48   54580  19.325      8\n5545 2009-08-24   ALTR  19.51  19.72  19.04  19.13   42059  19.380      8\n5546 2009-08-25   ALTR  19.13  19.39  18.95  19.05   48539  19.170      8\n5547 2009-08-26   ALTR  19.11  19.41  18.99  19.28   42058  19.200      8\n5548 2009-08-27   ALTR  19.23  19.32  18.88  19.08   63271  19.100      8\n...         ...    ...    ...    ...    ...    ...     ...     ...    ...\n5782 2010-08-13   ALTR  25.30  25.50  24.94  24.94   69416  25.220      8\n5783 2010-08-16   ALTR  24.82  25.31  24.53  25.11   60276  24.920      8\n5784 2010-08-17   ALTR  25.22  25.88  25.04  25.54   89329  25.460      8\n5785 2010-08-19   ALTR  25.61  25.96  25.24  25.50   61815  25.600      8\n5786 2010-08-20   ALTR  25.44  25.83  25.32  25.60   54383  25.575      8\n\n[243 rows x 9 columns]",
      "text/html": "<div>\n<style scoped>\n    .dataframe tbody tr th:only-of-type {\n        vertical-align: middle;\n    }\n\n    .dataframe tbody tr th {\n        vertical-align: top;\n    }\n\n    .dataframe thead th {\n        text-align: right;\n    }\n</style>\n<table border=\"1\" class=\"dataframe\">\n  <thead>\n    <tr style=\"text-align: right;\">\n      <th></th>\n      <th>date</th>\n      <th>ticker</th>\n      <th>open</th>\n      <th>high</th>\n      <th>low</th>\n      <th>close</th>\n      <th>volume</th>\n      <th>Mean</th>\n      <th>month</th>\n    </tr>\n  </thead>\n  <tbody>\n    <tr>\n      <th>5544</th>\n      <td>2009-08-21</td>\n      <td>ALTR</td>\n      <td>19.36</td>\n      <td>19.50</td>\n      <td>19.15</td>\n      <td>19.48</td>\n      <td>54580</td>\n      <td>19.325</td>\n      <td>8</td>\n    </tr>\n    <tr>\n      <th>5545</th>\n      <td>2009-08-24</td>\n      <td>ALTR</td>\n      <td>19.51</td>\n      <td>19.72</td>\n      <td>19.04</td>\n      <td>19.13</td>\n      <td>42059</td>\n      <td>19.380</td>\n      <td>8</td>\n    </tr>\n    <tr>\n      <th>5546</th>\n      <td>2009-08-25</td>\n      <td>ALTR</td>\n      <td>19.13</td>\n      <td>19.39</td>\n      <td>18.95</td>\n      <td>19.05</td>\n      <td>48539</td>\n      <td>19.170</td>\n      <td>8</td>\n    </tr>\n    <tr>\n      <th>5547</th>\n      <td>2009-08-26</td>\n      <td>ALTR</td>\n      <td>19.11</td>\n      <td>19.41</td>\n      <td>18.99</td>\n      <td>19.28</td>\n      <td>42058</td>\n      <td>19.200</td>\n      <td>8</td>\n    </tr>\n    <tr>\n      <th>5548</th>\n      <td>2009-08-27</td>\n      <td>ALTR</td>\n      <td>19.23</td>\n      <td>19.32</td>\n      <td>18.88</td>\n      <td>19.08</td>\n      <td>63271</td>\n      <td>19.100</td>\n      <td>8</td>\n    </tr>\n    <tr>\n      <th>...</th>\n      <td>...</td>\n      <td>...</td>\n      <td>...</td>\n      <td>...</td>\n      <td>...</td>\n      <td>...</td>\n      <td>...</td>\n      <td>...</td>\n      <td>...</td>\n    </tr>\n    <tr>\n      <th>5782</th>\n      <td>2010-08-13</td>\n      <td>ALTR</td>\n      <td>25.30</td>\n      <td>25.50</td>\n      <td>24.94</td>\n      <td>24.94</td>\n      <td>69416</td>\n      <td>25.220</td>\n      <td>8</td>\n    </tr>\n    <tr>\n      <th>5783</th>\n      <td>2010-08-16</td>\n      <td>ALTR</td>\n      <td>24.82</td>\n      <td>25.31</td>\n      <td>24.53</td>\n      <td>25.11</td>\n      <td>60276</td>\n      <td>24.920</td>\n      <td>8</td>\n    </tr>\n    <tr>\n      <th>5784</th>\n      <td>2010-08-17</td>\n      <td>ALTR</td>\n      <td>25.22</td>\n      <td>25.88</td>\n      <td>25.04</td>\n      <td>25.54</td>\n      <td>89329</td>\n      <td>25.460</td>\n      <td>8</td>\n    </tr>\n    <tr>\n      <th>5785</th>\n      <td>2010-08-19</td>\n      <td>ALTR</td>\n      <td>25.61</td>\n      <td>25.96</td>\n      <td>25.24</td>\n      <td>25.50</td>\n      <td>61815</td>\n      <td>25.600</td>\n      <td>8</td>\n    </tr>\n    <tr>\n      <th>5786</th>\n      <td>2010-08-20</td>\n      <td>ALTR</td>\n      <td>25.44</td>\n      <td>25.83</td>\n      <td>25.32</td>\n      <td>25.60</td>\n      <td>54383</td>\n      <td>25.575</td>\n      <td>8</td>\n    </tr>\n  </tbody>\n</table>\n<p>243 rows × 9 columns</p>\n</div>"
     },
     "execution_count": 12,
     "metadata": {},
     "output_type": "execute_result"
    }
   ],
   "source": [
    "ALTR_dataframe[\"month\"] = ALTR_dataframe['date'].dt.month\n",
    "ALTR_dataframe"
   ],
   "metadata": {
    "collapsed": false,
    "pycharm": {
     "name": "#%%\n"
    }
   }
  },
  {
   "cell_type": "markdown",
   "metadata": {
    "id": "mDUqLS5lh7QW",
    "pycharm": {
     "name": "#%% md\n"
    }
   },
   "source": [
    "4.5.1) Создать DataFrame состоящий из строк относящихся только тикеру WAT и объединить его с DataFrame для ALTR."
   ]
  },
  {
   "cell_type": "code",
   "execution_count": 13,
   "outputs": [
    {
     "data": {
      "text/plain": "             date ticker   open    high    low  close  volume    Mean\n115246 2009-08-21    WAT  50.77  52.144  50.33  51.80    9785  51.237\n115247 2009-08-24    WAT  52.02  52.020  51.38  51.48    5866  51.700\n115248 2009-08-25    WAT  51.61  52.740  51.50  52.23    9567  52.120\n115249 2009-08-26    WAT  51.94  52.860  51.93  52.17    4202  52.395\n115250 2009-08-27    WAT  52.09  52.220  51.33  51.73    6473  51.775\n...           ...    ...    ...     ...    ...    ...     ...     ...\n115486 2010-08-13    WAT  62.84  63.320  62.35  62.39   11458  62.835\n115487 2010-08-16    WAT  62.00  62.360  61.46  61.95   12828  61.910\n115488 2010-08-17    WAT  62.74  64.790  62.56  64.43    9557  63.675\n115489 2010-08-19    WAT  64.10  64.380  62.43  62.53    8350  63.405\n115490 2010-08-20    WAT  61.99  62.730  61.44  62.68    9270  62.085\n\n[245 rows x 8 columns]",
      "text/html": "<div>\n<style scoped>\n    .dataframe tbody tr th:only-of-type {\n        vertical-align: middle;\n    }\n\n    .dataframe tbody tr th {\n        vertical-align: top;\n    }\n\n    .dataframe thead th {\n        text-align: right;\n    }\n</style>\n<table border=\"1\" class=\"dataframe\">\n  <thead>\n    <tr style=\"text-align: right;\">\n      <th></th>\n      <th>date</th>\n      <th>ticker</th>\n      <th>open</th>\n      <th>high</th>\n      <th>low</th>\n      <th>close</th>\n      <th>volume</th>\n      <th>Mean</th>\n    </tr>\n  </thead>\n  <tbody>\n    <tr>\n      <th>115246</th>\n      <td>2009-08-21</td>\n      <td>WAT</td>\n      <td>50.77</td>\n      <td>52.144</td>\n      <td>50.33</td>\n      <td>51.80</td>\n      <td>9785</td>\n      <td>51.237</td>\n    </tr>\n    <tr>\n      <th>115247</th>\n      <td>2009-08-24</td>\n      <td>WAT</td>\n      <td>52.02</td>\n      <td>52.020</td>\n      <td>51.38</td>\n      <td>51.48</td>\n      <td>5866</td>\n      <td>51.700</td>\n    </tr>\n    <tr>\n      <th>115248</th>\n      <td>2009-08-25</td>\n      <td>WAT</td>\n      <td>51.61</td>\n      <td>52.740</td>\n      <td>51.50</td>\n      <td>52.23</td>\n      <td>9567</td>\n      <td>52.120</td>\n    </tr>\n    <tr>\n      <th>115249</th>\n      <td>2009-08-26</td>\n      <td>WAT</td>\n      <td>51.94</td>\n      <td>52.860</td>\n      <td>51.93</td>\n      <td>52.17</td>\n      <td>4202</td>\n      <td>52.395</td>\n    </tr>\n    <tr>\n      <th>115250</th>\n      <td>2009-08-27</td>\n      <td>WAT</td>\n      <td>52.09</td>\n      <td>52.220</td>\n      <td>51.33</td>\n      <td>51.73</td>\n      <td>6473</td>\n      <td>51.775</td>\n    </tr>\n    <tr>\n      <th>...</th>\n      <td>...</td>\n      <td>...</td>\n      <td>...</td>\n      <td>...</td>\n      <td>...</td>\n      <td>...</td>\n      <td>...</td>\n      <td>...</td>\n    </tr>\n    <tr>\n      <th>115486</th>\n      <td>2010-08-13</td>\n      <td>WAT</td>\n      <td>62.84</td>\n      <td>63.320</td>\n      <td>62.35</td>\n      <td>62.39</td>\n      <td>11458</td>\n      <td>62.835</td>\n    </tr>\n    <tr>\n      <th>115487</th>\n      <td>2010-08-16</td>\n      <td>WAT</td>\n      <td>62.00</td>\n      <td>62.360</td>\n      <td>61.46</td>\n      <td>61.95</td>\n      <td>12828</td>\n      <td>61.910</td>\n    </tr>\n    <tr>\n      <th>115488</th>\n      <td>2010-08-17</td>\n      <td>WAT</td>\n      <td>62.74</td>\n      <td>64.790</td>\n      <td>62.56</td>\n      <td>64.43</td>\n      <td>9557</td>\n      <td>63.675</td>\n    </tr>\n    <tr>\n      <th>115489</th>\n      <td>2010-08-19</td>\n      <td>WAT</td>\n      <td>64.10</td>\n      <td>64.380</td>\n      <td>62.43</td>\n      <td>62.53</td>\n      <td>8350</td>\n      <td>63.405</td>\n    </tr>\n    <tr>\n      <th>115490</th>\n      <td>2010-08-20</td>\n      <td>WAT</td>\n      <td>61.99</td>\n      <td>62.730</td>\n      <td>61.44</td>\n      <td>62.68</td>\n      <td>9270</td>\n      <td>62.085</td>\n    </tr>\n  </tbody>\n</table>\n<p>245 rows × 8 columns</p>\n</div>"
     },
     "execution_count": 13,
     "metadata": {},
     "output_type": "execute_result"
    }
   ],
   "source": [
    "WAT_dataframe = dataframe[dataframe[\"ticker\"] == \"WAT\"]\n",
    "WAT_dataframe"
   ],
   "metadata": {
    "collapsed": false,
    "pycharm": {
     "name": "#%%\n"
    }
   }
  },
  {
   "cell_type": "code",
   "execution_count": 14,
   "outputs": [
    {
     "data": {
      "text/plain": "          date ticker_x  open_x  high_x  low_x  close_x  volume_x  Mean_x  \\\n0   2009-08-21     ALTR   19.36   19.50  19.15    19.48     54580  19.325   \n1   2009-08-24     ALTR   19.51   19.72  19.04    19.13     42059  19.380   \n2   2009-08-25     ALTR   19.13   19.39  18.95    19.05     48539  19.170   \n3   2009-08-26     ALTR   19.11   19.41  18.99    19.28     42058  19.200   \n4   2009-08-27     ALTR   19.23   19.32  18.88    19.08     63271  19.100   \n..         ...      ...     ...     ...    ...      ...       ...     ...   \n238 2010-08-13     ALTR   25.30   25.50  24.94    24.94     69416  25.220   \n239 2010-08-16     ALTR   24.82   25.31  24.53    25.11     60276  24.920   \n240 2010-08-17     ALTR   25.22   25.88  25.04    25.54     89329  25.460   \n241 2010-08-19     ALTR   25.61   25.96  25.24    25.50     61815  25.600   \n242 2010-08-20     ALTR   25.44   25.83  25.32    25.60     54383  25.575   \n\n     month ticker_y  open_y  high_y  low_y  close_y  volume_y  Mean_y  \n0        8      WAT   50.77  52.144  50.33    51.80      9785  51.237  \n1        8      WAT   52.02  52.020  51.38    51.48      5866  51.700  \n2        8      WAT   51.61  52.740  51.50    52.23      9567  52.120  \n3        8      WAT   51.94  52.860  51.93    52.17      4202  52.395  \n4        8      WAT   52.09  52.220  51.33    51.73      6473  51.775  \n..     ...      ...     ...     ...    ...      ...       ...     ...  \n238      8      WAT   62.84  63.320  62.35    62.39     11458  62.835  \n239      8      WAT   62.00  62.360  61.46    61.95     12828  61.910  \n240      8      WAT   62.74  64.790  62.56    64.43      9557  63.675  \n241      8      WAT   64.10  64.380  62.43    62.53      8350  63.405  \n242      8      WAT   61.99  62.730  61.44    62.68      9270  62.085  \n\n[243 rows x 16 columns]",
      "text/html": "<div>\n<style scoped>\n    .dataframe tbody tr th:only-of-type {\n        vertical-align: middle;\n    }\n\n    .dataframe tbody tr th {\n        vertical-align: top;\n    }\n\n    .dataframe thead th {\n        text-align: right;\n    }\n</style>\n<table border=\"1\" class=\"dataframe\">\n  <thead>\n    <tr style=\"text-align: right;\">\n      <th></th>\n      <th>date</th>\n      <th>ticker_x</th>\n      <th>open_x</th>\n      <th>high_x</th>\n      <th>low_x</th>\n      <th>close_x</th>\n      <th>volume_x</th>\n      <th>Mean_x</th>\n      <th>month</th>\n      <th>ticker_y</th>\n      <th>open_y</th>\n      <th>high_y</th>\n      <th>low_y</th>\n      <th>close_y</th>\n      <th>volume_y</th>\n      <th>Mean_y</th>\n    </tr>\n  </thead>\n  <tbody>\n    <tr>\n      <th>0</th>\n      <td>2009-08-21</td>\n      <td>ALTR</td>\n      <td>19.36</td>\n      <td>19.50</td>\n      <td>19.15</td>\n      <td>19.48</td>\n      <td>54580</td>\n      <td>19.325</td>\n      <td>8</td>\n      <td>WAT</td>\n      <td>50.77</td>\n      <td>52.144</td>\n      <td>50.33</td>\n      <td>51.80</td>\n      <td>9785</td>\n      <td>51.237</td>\n    </tr>\n    <tr>\n      <th>1</th>\n      <td>2009-08-24</td>\n      <td>ALTR</td>\n      <td>19.51</td>\n      <td>19.72</td>\n      <td>19.04</td>\n      <td>19.13</td>\n      <td>42059</td>\n      <td>19.380</td>\n      <td>8</td>\n      <td>WAT</td>\n      <td>52.02</td>\n      <td>52.020</td>\n      <td>51.38</td>\n      <td>51.48</td>\n      <td>5866</td>\n      <td>51.700</td>\n    </tr>\n    <tr>\n      <th>2</th>\n      <td>2009-08-25</td>\n      <td>ALTR</td>\n      <td>19.13</td>\n      <td>19.39</td>\n      <td>18.95</td>\n      <td>19.05</td>\n      <td>48539</td>\n      <td>19.170</td>\n      <td>8</td>\n      <td>WAT</td>\n      <td>51.61</td>\n      <td>52.740</td>\n      <td>51.50</td>\n      <td>52.23</td>\n      <td>9567</td>\n      <td>52.120</td>\n    </tr>\n    <tr>\n      <th>3</th>\n      <td>2009-08-26</td>\n      <td>ALTR</td>\n      <td>19.11</td>\n      <td>19.41</td>\n      <td>18.99</td>\n      <td>19.28</td>\n      <td>42058</td>\n      <td>19.200</td>\n      <td>8</td>\n      <td>WAT</td>\n      <td>51.94</td>\n      <td>52.860</td>\n      <td>51.93</td>\n      <td>52.17</td>\n      <td>4202</td>\n      <td>52.395</td>\n    </tr>\n    <tr>\n      <th>4</th>\n      <td>2009-08-27</td>\n      <td>ALTR</td>\n      <td>19.23</td>\n      <td>19.32</td>\n      <td>18.88</td>\n      <td>19.08</td>\n      <td>63271</td>\n      <td>19.100</td>\n      <td>8</td>\n      <td>WAT</td>\n      <td>52.09</td>\n      <td>52.220</td>\n      <td>51.33</td>\n      <td>51.73</td>\n      <td>6473</td>\n      <td>51.775</td>\n    </tr>\n    <tr>\n      <th>...</th>\n      <td>...</td>\n      <td>...</td>\n      <td>...</td>\n      <td>...</td>\n      <td>...</td>\n      <td>...</td>\n      <td>...</td>\n      <td>...</td>\n      <td>...</td>\n      <td>...</td>\n      <td>...</td>\n      <td>...</td>\n      <td>...</td>\n      <td>...</td>\n      <td>...</td>\n      <td>...</td>\n    </tr>\n    <tr>\n      <th>238</th>\n      <td>2010-08-13</td>\n      <td>ALTR</td>\n      <td>25.30</td>\n      <td>25.50</td>\n      <td>24.94</td>\n      <td>24.94</td>\n      <td>69416</td>\n      <td>25.220</td>\n      <td>8</td>\n      <td>WAT</td>\n      <td>62.84</td>\n      <td>63.320</td>\n      <td>62.35</td>\n      <td>62.39</td>\n      <td>11458</td>\n      <td>62.835</td>\n    </tr>\n    <tr>\n      <th>239</th>\n      <td>2010-08-16</td>\n      <td>ALTR</td>\n      <td>24.82</td>\n      <td>25.31</td>\n      <td>24.53</td>\n      <td>25.11</td>\n      <td>60276</td>\n      <td>24.920</td>\n      <td>8</td>\n      <td>WAT</td>\n      <td>62.00</td>\n      <td>62.360</td>\n      <td>61.46</td>\n      <td>61.95</td>\n      <td>12828</td>\n      <td>61.910</td>\n    </tr>\n    <tr>\n      <th>240</th>\n      <td>2010-08-17</td>\n      <td>ALTR</td>\n      <td>25.22</td>\n      <td>25.88</td>\n      <td>25.04</td>\n      <td>25.54</td>\n      <td>89329</td>\n      <td>25.460</td>\n      <td>8</td>\n      <td>WAT</td>\n      <td>62.74</td>\n      <td>64.790</td>\n      <td>62.56</td>\n      <td>64.43</td>\n      <td>9557</td>\n      <td>63.675</td>\n    </tr>\n    <tr>\n      <th>241</th>\n      <td>2010-08-19</td>\n      <td>ALTR</td>\n      <td>25.61</td>\n      <td>25.96</td>\n      <td>25.24</td>\n      <td>25.50</td>\n      <td>61815</td>\n      <td>25.600</td>\n      <td>8</td>\n      <td>WAT</td>\n      <td>64.10</td>\n      <td>64.380</td>\n      <td>62.43</td>\n      <td>62.53</td>\n      <td>8350</td>\n      <td>63.405</td>\n    </tr>\n    <tr>\n      <th>242</th>\n      <td>2010-08-20</td>\n      <td>ALTR</td>\n      <td>25.44</td>\n      <td>25.83</td>\n      <td>25.32</td>\n      <td>25.60</td>\n      <td>54383</td>\n      <td>25.575</td>\n      <td>8</td>\n      <td>WAT</td>\n      <td>61.99</td>\n      <td>62.730</td>\n      <td>61.44</td>\n      <td>62.68</td>\n      <td>9270</td>\n      <td>62.085</td>\n    </tr>\n  </tbody>\n</table>\n<p>243 rows × 16 columns</p>\n</div>"
     },
     "execution_count": 14,
     "metadata": {},
     "output_type": "execute_result"
    }
   ],
   "source": [
    "ALTR_WAT_dataframe = pd.merge(left=ALTR_dataframe, right=WAT_dataframe, left_on='date', right_on='date')\n",
    "ALTR_WAT_dataframe"
   ],
   "metadata": {
    "collapsed": false,
    "pycharm": {
     "name": "#%%\n"
    }
   }
  },
  {
   "cell_type": "markdown",
   "metadata": {
    "id": "9dM2cPazh7QY",
    "pycharm": {
     "name": "#%% md\n"
    }
   },
   "source": [
    "4.5.2) Создать DataFrame в котором присутствует столбец, отражающий разницу в объёмах торгов по WAT и ALTR в одинаковые дни и содержит исходные данные об объёме торгов этими акциями."
   ]
  },
  {
   "cell_type": "code",
   "execution_count": 15,
   "outputs": [
    {
     "name": "stderr",
     "output_type": "stream",
     "text": [
      "C:\\Users\\admin\\AppData\\Local\\Temp\\ipykernel_13180\\1689692123.py:2: SettingWithCopyWarning: \n",
      "A value is trying to be set on a copy of a slice from a DataFrame.\n",
      "Try using .loc[row_indexer,col_indexer] = value instead\n",
      "\n",
      "See the caveats in the documentation: https://pandas.pydata.org/pandas-docs/stable/user_guide/indexing.html#returning-a-view-versus-a-copy\n",
      "  volume_diff_dataframe['volume_diff'] = ALTR_WAT_dataframe['volume_x'] - ALTR_WAT_dataframe['volume_y']\n"
     ]
    },
    {
     "data": {
      "text/plain": "    ticker_x ticker_y       date  volume_x  volume_y  volume_diff\n0       ALTR      WAT 2009-08-21     54580      9785        44795\n1       ALTR      WAT 2009-08-24     42059      5866        36193\n2       ALTR      WAT 2009-08-25     48539      9567        38972\n3       ALTR      WAT 2009-08-26     42058      4202        37856\n4       ALTR      WAT 2009-08-27     63271      6473        56798\n..       ...      ...        ...       ...       ...          ...\n238     ALTR      WAT 2010-08-13     69416     11458        57958\n239     ALTR      WAT 2010-08-16     60276     12828        47448\n240     ALTR      WAT 2010-08-17     89329      9557        79772\n241     ALTR      WAT 2010-08-19     61815      8350        53465\n242     ALTR      WAT 2010-08-20     54383      9270        45113\n\n[243 rows x 6 columns]",
      "text/html": "<div>\n<style scoped>\n    .dataframe tbody tr th:only-of-type {\n        vertical-align: middle;\n    }\n\n    .dataframe tbody tr th {\n        vertical-align: top;\n    }\n\n    .dataframe thead th {\n        text-align: right;\n    }\n</style>\n<table border=\"1\" class=\"dataframe\">\n  <thead>\n    <tr style=\"text-align: right;\">\n      <th></th>\n      <th>ticker_x</th>\n      <th>ticker_y</th>\n      <th>date</th>\n      <th>volume_x</th>\n      <th>volume_y</th>\n      <th>volume_diff</th>\n    </tr>\n  </thead>\n  <tbody>\n    <tr>\n      <th>0</th>\n      <td>ALTR</td>\n      <td>WAT</td>\n      <td>2009-08-21</td>\n      <td>54580</td>\n      <td>9785</td>\n      <td>44795</td>\n    </tr>\n    <tr>\n      <th>1</th>\n      <td>ALTR</td>\n      <td>WAT</td>\n      <td>2009-08-24</td>\n      <td>42059</td>\n      <td>5866</td>\n      <td>36193</td>\n    </tr>\n    <tr>\n      <th>2</th>\n      <td>ALTR</td>\n      <td>WAT</td>\n      <td>2009-08-25</td>\n      <td>48539</td>\n      <td>9567</td>\n      <td>38972</td>\n    </tr>\n    <tr>\n      <th>3</th>\n      <td>ALTR</td>\n      <td>WAT</td>\n      <td>2009-08-26</td>\n      <td>42058</td>\n      <td>4202</td>\n      <td>37856</td>\n    </tr>\n    <tr>\n      <th>4</th>\n      <td>ALTR</td>\n      <td>WAT</td>\n      <td>2009-08-27</td>\n      <td>63271</td>\n      <td>6473</td>\n      <td>56798</td>\n    </tr>\n    <tr>\n      <th>...</th>\n      <td>...</td>\n      <td>...</td>\n      <td>...</td>\n      <td>...</td>\n      <td>...</td>\n      <td>...</td>\n    </tr>\n    <tr>\n      <th>238</th>\n      <td>ALTR</td>\n      <td>WAT</td>\n      <td>2010-08-13</td>\n      <td>69416</td>\n      <td>11458</td>\n      <td>57958</td>\n    </tr>\n    <tr>\n      <th>239</th>\n      <td>ALTR</td>\n      <td>WAT</td>\n      <td>2010-08-16</td>\n      <td>60276</td>\n      <td>12828</td>\n      <td>47448</td>\n    </tr>\n    <tr>\n      <th>240</th>\n      <td>ALTR</td>\n      <td>WAT</td>\n      <td>2010-08-17</td>\n      <td>89329</td>\n      <td>9557</td>\n      <td>79772</td>\n    </tr>\n    <tr>\n      <th>241</th>\n      <td>ALTR</td>\n      <td>WAT</td>\n      <td>2010-08-19</td>\n      <td>61815</td>\n      <td>8350</td>\n      <td>53465</td>\n    </tr>\n    <tr>\n      <th>242</th>\n      <td>ALTR</td>\n      <td>WAT</td>\n      <td>2010-08-20</td>\n      <td>54383</td>\n      <td>9270</td>\n      <td>45113</td>\n    </tr>\n  </tbody>\n</table>\n<p>243 rows × 6 columns</p>\n</div>"
     },
     "execution_count": 15,
     "metadata": {},
     "output_type": "execute_result"
    }
   ],
   "source": [
    "volume_diff_dataframe = ALTR_WAT_dataframe[[\"ticker_x\", \"ticker_y\", \"date\", \"volume_x\", \"volume_y\"]]\n",
    "volume_diff_dataframe['volume_diff'] = ALTR_WAT_dataframe['volume_x'] - ALTR_WAT_dataframe['volume_y']\n",
    "volume_diff_dataframe"
   ],
   "metadata": {
    "collapsed": false,
    "pycharm": {
     "name": "#%%\n"
    }
   }
  },
  {
   "cell_type": "markdown",
   "metadata": {
    "id": "3eTth_Mmh7QY",
    "pycharm": {
     "name": "#%% md\n"
    }
   },
   "source": [
    "4.6) В DataFrame добавить столбец, содержащий только число месяца, к которому относится дата."
   ]
  },
  {
   "cell_type": "code",
   "execution_count": 16,
   "outputs": [
    {
     "data": {
      "text/plain": "             date ticker   open     high     low  close  volume      Mean  \\\n0      2009-08-21      A  25.60  25.6100  25.220  25.55   34758  25.41500   \n1      2009-08-24      A  25.64  25.7400  25.330  25.50   22247  25.53500   \n2      2009-08-25      A  25.50  25.7000  25.225  25.34   30891  25.46250   \n3      2009-08-26      A  25.32  25.6425  25.145  25.48   33334  25.39375   \n4      2009-08-27      A  25.50  25.5700  25.230  25.54   70176  25.40000   \n...           ...    ...    ...      ...     ...    ...     ...       ...   \n122569 2010-08-13    ZMH  51.72  51.9000  51.380  51.44   14561  51.64000   \n122570 2010-08-16    ZMH  51.13  51.4700  50.600  51.00   13489  51.03500   \n122571 2010-08-17    ZMH  51.14  51.6000  50.890  51.21   20498  51.24500   \n122572 2010-08-19    ZMH  51.63  51.6300  50.170  50.22   18259  50.90000   \n122573 2010-08-20    ZMH  50.03  50.5500  49.480  49.82   17792  50.01500   \n\n        month_date  \n0                8  \n1                8  \n2                8  \n3                8  \n4                8  \n...            ...  \n122569           8  \n122570           8  \n122571           8  \n122572           8  \n122573           8  \n\n[122574 rows x 9 columns]",
      "text/html": "<div>\n<style scoped>\n    .dataframe tbody tr th:only-of-type {\n        vertical-align: middle;\n    }\n\n    .dataframe tbody tr th {\n        vertical-align: top;\n    }\n\n    .dataframe thead th {\n        text-align: right;\n    }\n</style>\n<table border=\"1\" class=\"dataframe\">\n  <thead>\n    <tr style=\"text-align: right;\">\n      <th></th>\n      <th>date</th>\n      <th>ticker</th>\n      <th>open</th>\n      <th>high</th>\n      <th>low</th>\n      <th>close</th>\n      <th>volume</th>\n      <th>Mean</th>\n      <th>month_date</th>\n    </tr>\n  </thead>\n  <tbody>\n    <tr>\n      <th>0</th>\n      <td>2009-08-21</td>\n      <td>A</td>\n      <td>25.60</td>\n      <td>25.6100</td>\n      <td>25.220</td>\n      <td>25.55</td>\n      <td>34758</td>\n      <td>25.41500</td>\n      <td>8</td>\n    </tr>\n    <tr>\n      <th>1</th>\n      <td>2009-08-24</td>\n      <td>A</td>\n      <td>25.64</td>\n      <td>25.7400</td>\n      <td>25.330</td>\n      <td>25.50</td>\n      <td>22247</td>\n      <td>25.53500</td>\n      <td>8</td>\n    </tr>\n    <tr>\n      <th>2</th>\n      <td>2009-08-25</td>\n      <td>A</td>\n      <td>25.50</td>\n      <td>25.7000</td>\n      <td>25.225</td>\n      <td>25.34</td>\n      <td>30891</td>\n      <td>25.46250</td>\n      <td>8</td>\n    </tr>\n    <tr>\n      <th>3</th>\n      <td>2009-08-26</td>\n      <td>A</td>\n      <td>25.32</td>\n      <td>25.6425</td>\n      <td>25.145</td>\n      <td>25.48</td>\n      <td>33334</td>\n      <td>25.39375</td>\n      <td>8</td>\n    </tr>\n    <tr>\n      <th>4</th>\n      <td>2009-08-27</td>\n      <td>A</td>\n      <td>25.50</td>\n      <td>25.5700</td>\n      <td>25.230</td>\n      <td>25.54</td>\n      <td>70176</td>\n      <td>25.40000</td>\n      <td>8</td>\n    </tr>\n    <tr>\n      <th>...</th>\n      <td>...</td>\n      <td>...</td>\n      <td>...</td>\n      <td>...</td>\n      <td>...</td>\n      <td>...</td>\n      <td>...</td>\n      <td>...</td>\n      <td>...</td>\n    </tr>\n    <tr>\n      <th>122569</th>\n      <td>2010-08-13</td>\n      <td>ZMH</td>\n      <td>51.72</td>\n      <td>51.9000</td>\n      <td>51.380</td>\n      <td>51.44</td>\n      <td>14561</td>\n      <td>51.64000</td>\n      <td>8</td>\n    </tr>\n    <tr>\n      <th>122570</th>\n      <td>2010-08-16</td>\n      <td>ZMH</td>\n      <td>51.13</td>\n      <td>51.4700</td>\n      <td>50.600</td>\n      <td>51.00</td>\n      <td>13489</td>\n      <td>51.03500</td>\n      <td>8</td>\n    </tr>\n    <tr>\n      <th>122571</th>\n      <td>2010-08-17</td>\n      <td>ZMH</td>\n      <td>51.14</td>\n      <td>51.6000</td>\n      <td>50.890</td>\n      <td>51.21</td>\n      <td>20498</td>\n      <td>51.24500</td>\n      <td>8</td>\n    </tr>\n    <tr>\n      <th>122572</th>\n      <td>2010-08-19</td>\n      <td>ZMH</td>\n      <td>51.63</td>\n      <td>51.6300</td>\n      <td>50.170</td>\n      <td>50.22</td>\n      <td>18259</td>\n      <td>50.90000</td>\n      <td>8</td>\n    </tr>\n    <tr>\n      <th>122573</th>\n      <td>2010-08-20</td>\n      <td>ZMH</td>\n      <td>50.03</td>\n      <td>50.5500</td>\n      <td>49.480</td>\n      <td>49.82</td>\n      <td>17792</td>\n      <td>50.01500</td>\n      <td>8</td>\n    </tr>\n  </tbody>\n</table>\n<p>122574 rows × 9 columns</p>\n</div>"
     },
     "execution_count": 16,
     "metadata": {},
     "output_type": "execute_result"
    }
   ],
   "source": [
    "dataframe['month_date'] = dataframe['date'].dt.month\n",
    "dataframe"
   ],
   "metadata": {
    "collapsed": false,
    "pycharm": {
     "name": "#%%\n"
    }
   }
  },
  {
   "cell_type": "markdown",
   "source": [
    "4.7) Из DataFrame выбрать только строки, относящиеся к 13 числу месяца."
   ],
   "metadata": {
    "collapsed": false,
    "pycharm": {
     "name": "#%% md\n"
    }
   }
  },
  {
   "cell_type": "code",
   "execution_count": 17,
   "outputs": [
    {
     "data": {
      "text/plain": "             date ticker   open   high     low  close  volume    Mean  \\\n35     2009-10-13      A  27.41  27.53  27.150  27.29   14226  27.340   \n53     2009-11-13      A  27.97  28.89  27.750  28.61   62633  28.320   \n93     2010-01-13      A  30.47  30.78  30.050  30.69   24455  30.415   \n154    2010-04-13      A  34.15  34.23  33.880  33.90   25868  34.055   \n176    2010-05-13      A  34.83  35.29  34.430  34.78   43992  34.860   \n...           ...    ...    ...    ...     ...    ...     ...     ...   \n122422 2010-01-13    ZMH  62.26  62.79  61.732  62.55    7663  62.261   \n122483 2010-04-13    ZMH  59.27  60.15  59.060  60.09   13177  59.605   \n122505 2010-05-13    ZMH  60.97  61.20  60.650  60.65   10647  60.925   \n122546 2010-07-13    ZMH  56.38  57.57  56.380  56.92   21035  56.975   \n122569 2010-08-13    ZMH  51.72  51.90  51.380  51.44   14561  51.640   \n\n        month_date  day_date  \n35              10        13  \n53              11        13  \n93               1        13  \n154              4        13  \n176              5        13  \n...            ...       ...  \n122422           1        13  \n122483           4        13  \n122505           5        13  \n122546           7        13  \n122569           8        13  \n\n[3510 rows x 10 columns]",
      "text/html": "<div>\n<style scoped>\n    .dataframe tbody tr th:only-of-type {\n        vertical-align: middle;\n    }\n\n    .dataframe tbody tr th {\n        vertical-align: top;\n    }\n\n    .dataframe thead th {\n        text-align: right;\n    }\n</style>\n<table border=\"1\" class=\"dataframe\">\n  <thead>\n    <tr style=\"text-align: right;\">\n      <th></th>\n      <th>date</th>\n      <th>ticker</th>\n      <th>open</th>\n      <th>high</th>\n      <th>low</th>\n      <th>close</th>\n      <th>volume</th>\n      <th>Mean</th>\n      <th>month_date</th>\n      <th>day_date</th>\n    </tr>\n  </thead>\n  <tbody>\n    <tr>\n      <th>35</th>\n      <td>2009-10-13</td>\n      <td>A</td>\n      <td>27.41</td>\n      <td>27.53</td>\n      <td>27.150</td>\n      <td>27.29</td>\n      <td>14226</td>\n      <td>27.340</td>\n      <td>10</td>\n      <td>13</td>\n    </tr>\n    <tr>\n      <th>53</th>\n      <td>2009-11-13</td>\n      <td>A</td>\n      <td>27.97</td>\n      <td>28.89</td>\n      <td>27.750</td>\n      <td>28.61</td>\n      <td>62633</td>\n      <td>28.320</td>\n      <td>11</td>\n      <td>13</td>\n    </tr>\n    <tr>\n      <th>93</th>\n      <td>2010-01-13</td>\n      <td>A</td>\n      <td>30.47</td>\n      <td>30.78</td>\n      <td>30.050</td>\n      <td>30.69</td>\n      <td>24455</td>\n      <td>30.415</td>\n      <td>1</td>\n      <td>13</td>\n    </tr>\n    <tr>\n      <th>154</th>\n      <td>2010-04-13</td>\n      <td>A</td>\n      <td>34.15</td>\n      <td>34.23</td>\n      <td>33.880</td>\n      <td>33.90</td>\n      <td>25868</td>\n      <td>34.055</td>\n      <td>4</td>\n      <td>13</td>\n    </tr>\n    <tr>\n      <th>176</th>\n      <td>2010-05-13</td>\n      <td>A</td>\n      <td>34.83</td>\n      <td>35.29</td>\n      <td>34.430</td>\n      <td>34.78</td>\n      <td>43992</td>\n      <td>34.860</td>\n      <td>5</td>\n      <td>13</td>\n    </tr>\n    <tr>\n      <th>...</th>\n      <td>...</td>\n      <td>...</td>\n      <td>...</td>\n      <td>...</td>\n      <td>...</td>\n      <td>...</td>\n      <td>...</td>\n      <td>...</td>\n      <td>...</td>\n      <td>...</td>\n    </tr>\n    <tr>\n      <th>122422</th>\n      <td>2010-01-13</td>\n      <td>ZMH</td>\n      <td>62.26</td>\n      <td>62.79</td>\n      <td>61.732</td>\n      <td>62.55</td>\n      <td>7663</td>\n      <td>62.261</td>\n      <td>1</td>\n      <td>13</td>\n    </tr>\n    <tr>\n      <th>122483</th>\n      <td>2010-04-13</td>\n      <td>ZMH</td>\n      <td>59.27</td>\n      <td>60.15</td>\n      <td>59.060</td>\n      <td>60.09</td>\n      <td>13177</td>\n      <td>59.605</td>\n      <td>4</td>\n      <td>13</td>\n    </tr>\n    <tr>\n      <th>122505</th>\n      <td>2010-05-13</td>\n      <td>ZMH</td>\n      <td>60.97</td>\n      <td>61.20</td>\n      <td>60.650</td>\n      <td>60.65</td>\n      <td>10647</td>\n      <td>60.925</td>\n      <td>5</td>\n      <td>13</td>\n    </tr>\n    <tr>\n      <th>122546</th>\n      <td>2010-07-13</td>\n      <td>ZMH</td>\n      <td>56.38</td>\n      <td>57.57</td>\n      <td>56.380</td>\n      <td>56.92</td>\n      <td>21035</td>\n      <td>56.975</td>\n      <td>7</td>\n      <td>13</td>\n    </tr>\n    <tr>\n      <th>122569</th>\n      <td>2010-08-13</td>\n      <td>ZMH</td>\n      <td>51.72</td>\n      <td>51.90</td>\n      <td>51.380</td>\n      <td>51.44</td>\n      <td>14561</td>\n      <td>51.640</td>\n      <td>8</td>\n      <td>13</td>\n    </tr>\n  </tbody>\n</table>\n<p>3510 rows × 10 columns</p>\n</div>"
     },
     "execution_count": 17,
     "metadata": {},
     "output_type": "execute_result"
    }
   ],
   "source": [
    "dataframe['day_date'] = dataframe['date'].dt.day\n",
    "dataframe[dataframe['day_date'] == 13]"
   ],
   "metadata": {
    "collapsed": false,
    "pycharm": {
     "name": "#%%\n"
    }
   }
  },
  {
   "cell_type": "markdown",
   "metadata": {
    "id": "hD1O45SNh7QY",
    "pycharm": {
     "name": "#%% md\n"
    }
   },
   "source": [
    "4) Выявить столбцы, содержащие минимальные и максимальные значения (если такие столбцы есть). (Проверить, есть ли среди столбцов, столбец с минимальным значением курса акций.)"
   ]
  },
  {
   "cell_type": "code",
   "execution_count": 55,
   "outputs": [
    {
     "name": "stdout",
     "output_type": "stream",
     "text": [
      "Получившийся датафрейм из минимальных и максимальных значений:\n"
     ]
    },
    {
     "data": {
      "text/plain": "       open    high     low   close      volume     Mean  month_date  day_date\nmin    1.36    1.39    1.00    1.35        47.0    1.365         1.0       1.0\nmax  627.84  629.51  624.24  626.75  21474836.0  626.875        12.0      31.0",
      "text/html": "<div>\n<style scoped>\n    .dataframe tbody tr th:only-of-type {\n        vertical-align: middle;\n    }\n\n    .dataframe tbody tr th {\n        vertical-align: top;\n    }\n\n    .dataframe thead th {\n        text-align: right;\n    }\n</style>\n<table border=\"1\" class=\"dataframe\">\n  <thead>\n    <tr style=\"text-align: right;\">\n      <th></th>\n      <th>open</th>\n      <th>high</th>\n      <th>low</th>\n      <th>close</th>\n      <th>volume</th>\n      <th>Mean</th>\n      <th>month_date</th>\n      <th>day_date</th>\n    </tr>\n  </thead>\n  <tbody>\n    <tr>\n      <th>min</th>\n      <td>1.36</td>\n      <td>1.39</td>\n      <td>1.00</td>\n      <td>1.35</td>\n      <td>47.0</td>\n      <td>1.365</td>\n      <td>1.0</td>\n      <td>1.0</td>\n    </tr>\n    <tr>\n      <th>max</th>\n      <td>627.84</td>\n      <td>629.51</td>\n      <td>624.24</td>\n      <td>626.75</td>\n      <td>21474836.0</td>\n      <td>626.875</td>\n      <td>12.0</td>\n      <td>31.0</td>\n    </tr>\n  </tbody>\n</table>\n</div>"
     },
     "execution_count": 55,
     "metadata": {},
     "output_type": "execute_result"
    }
   ],
   "source": [
    "print(\"Получившийся датафрейм из минимальных и максимальных значений:\")\n",
    "dataframe.describe().loc[['min', 'max']]"
   ],
   "metadata": {
    "collapsed": false,
    "pycharm": {
     "name": "#%%\n"
    }
   }
  },
  {
   "cell_type": "markdown",
   "metadata": {
    "id": "a9CgyU_0h7QZ",
    "pycharm": {
     "name": "#%% md\n"
    }
   },
   "source": [
    "5) По данным из 'sp500hst.txt' при помощи Pandas расчитать максимальные значения в 3-6 столбца для дат после 20100801"
   ]
  },
  {
   "cell_type": "code",
   "execution_count": 30,
   "outputs": [
    {
     "data": {
      "text/plain": "             date ticker   open   high    low  close  volume    Mean  \\\n231    2010-08-02      A  28.35  28.97  28.20  28.82   28989  28.585   \n232    2010-08-03      A  28.70  28.73  27.80  27.84   42401  28.265   \n233    2010-08-04      A  27.86  28.35  27.75  28.29   23525  28.050   \n234    2010-08-05      A  28.03  28.63  27.96  28.46   20682  28.295   \n235    2010-08-06      A  28.18  28.75  28.07  28.73   33777  28.410   \n...           ...    ...    ...    ...    ...    ...     ...     ...   \n122569 2010-08-13    ZMH  51.72  51.90  51.38  51.44   14561  51.640   \n122570 2010-08-16    ZMH  51.13  51.47  50.60  51.00   13489  51.035   \n122571 2010-08-17    ZMH  51.14  51.60  50.89  51.21   20498  51.245   \n122572 2010-08-19    ZMH  51.63  51.63  50.17  50.22   18259  50.900   \n122573 2010-08-20    ZMH  50.03  50.55  49.48  49.82   17792  50.015   \n\n        month_date  day_date  \n231              8         2  \n232              8         3  \n233              8         4  \n234              8         5  \n235              8         6  \n...            ...       ...  \n122569           8        13  \n122570           8        16  \n122571           8        17  \n122572           8        19  \n122573           8        20  \n\n[6951 rows x 10 columns]",
      "text/html": "<div>\n<style scoped>\n    .dataframe tbody tr th:only-of-type {\n        vertical-align: middle;\n    }\n\n    .dataframe tbody tr th {\n        vertical-align: top;\n    }\n\n    .dataframe thead th {\n        text-align: right;\n    }\n</style>\n<table border=\"1\" class=\"dataframe\">\n  <thead>\n    <tr style=\"text-align: right;\">\n      <th></th>\n      <th>date</th>\n      <th>ticker</th>\n      <th>open</th>\n      <th>high</th>\n      <th>low</th>\n      <th>close</th>\n      <th>volume</th>\n      <th>Mean</th>\n      <th>month_date</th>\n      <th>day_date</th>\n    </tr>\n  </thead>\n  <tbody>\n    <tr>\n      <th>231</th>\n      <td>2010-08-02</td>\n      <td>A</td>\n      <td>28.35</td>\n      <td>28.97</td>\n      <td>28.20</td>\n      <td>28.82</td>\n      <td>28989</td>\n      <td>28.585</td>\n      <td>8</td>\n      <td>2</td>\n    </tr>\n    <tr>\n      <th>232</th>\n      <td>2010-08-03</td>\n      <td>A</td>\n      <td>28.70</td>\n      <td>28.73</td>\n      <td>27.80</td>\n      <td>27.84</td>\n      <td>42401</td>\n      <td>28.265</td>\n      <td>8</td>\n      <td>3</td>\n    </tr>\n    <tr>\n      <th>233</th>\n      <td>2010-08-04</td>\n      <td>A</td>\n      <td>27.86</td>\n      <td>28.35</td>\n      <td>27.75</td>\n      <td>28.29</td>\n      <td>23525</td>\n      <td>28.050</td>\n      <td>8</td>\n      <td>4</td>\n    </tr>\n    <tr>\n      <th>234</th>\n      <td>2010-08-05</td>\n      <td>A</td>\n      <td>28.03</td>\n      <td>28.63</td>\n      <td>27.96</td>\n      <td>28.46</td>\n      <td>20682</td>\n      <td>28.295</td>\n      <td>8</td>\n      <td>5</td>\n    </tr>\n    <tr>\n      <th>235</th>\n      <td>2010-08-06</td>\n      <td>A</td>\n      <td>28.18</td>\n      <td>28.75</td>\n      <td>28.07</td>\n      <td>28.73</td>\n      <td>33777</td>\n      <td>28.410</td>\n      <td>8</td>\n      <td>6</td>\n    </tr>\n    <tr>\n      <th>...</th>\n      <td>...</td>\n      <td>...</td>\n      <td>...</td>\n      <td>...</td>\n      <td>...</td>\n      <td>...</td>\n      <td>...</td>\n      <td>...</td>\n      <td>...</td>\n      <td>...</td>\n    </tr>\n    <tr>\n      <th>122569</th>\n      <td>2010-08-13</td>\n      <td>ZMH</td>\n      <td>51.72</td>\n      <td>51.90</td>\n      <td>51.38</td>\n      <td>51.44</td>\n      <td>14561</td>\n      <td>51.640</td>\n      <td>8</td>\n      <td>13</td>\n    </tr>\n    <tr>\n      <th>122570</th>\n      <td>2010-08-16</td>\n      <td>ZMH</td>\n      <td>51.13</td>\n      <td>51.47</td>\n      <td>50.60</td>\n      <td>51.00</td>\n      <td>13489</td>\n      <td>51.035</td>\n      <td>8</td>\n      <td>16</td>\n    </tr>\n    <tr>\n      <th>122571</th>\n      <td>2010-08-17</td>\n      <td>ZMH</td>\n      <td>51.14</td>\n      <td>51.60</td>\n      <td>50.89</td>\n      <td>51.21</td>\n      <td>20498</td>\n      <td>51.245</td>\n      <td>8</td>\n      <td>17</td>\n    </tr>\n    <tr>\n      <th>122572</th>\n      <td>2010-08-19</td>\n      <td>ZMH</td>\n      <td>51.63</td>\n      <td>51.63</td>\n      <td>50.17</td>\n      <td>50.22</td>\n      <td>18259</td>\n      <td>50.900</td>\n      <td>8</td>\n      <td>19</td>\n    </tr>\n    <tr>\n      <th>122573</th>\n      <td>2010-08-20</td>\n      <td>ZMH</td>\n      <td>50.03</td>\n      <td>50.55</td>\n      <td>49.48</td>\n      <td>49.82</td>\n      <td>17792</td>\n      <td>50.015</td>\n      <td>8</td>\n      <td>20</td>\n    </tr>\n  </tbody>\n</table>\n<p>6951 rows × 10 columns</p>\n</div>"
     },
     "execution_count": 30,
     "metadata": {},
     "output_type": "execute_result"
    }
   ],
   "source": [
    "dataframe[dataframe['date'] > \"2010-08-01\"]"
   ],
   "metadata": {
    "collapsed": false,
    "pycharm": {
     "name": "#%%\n"
    }
   }
  },
  {
   "cell_type": "code",
   "execution_count": 31,
   "outputs": [
    {
     "data": {
      "text/plain": "open      505.85\nhigh       508.6\nlow      503.559\nclose      508.1\ndtype: object"
     },
     "execution_count": 31,
     "metadata": {},
     "output_type": "execute_result"
    }
   ],
   "source": [
    "dataframe[dataframe['date'] > \"2010-08-01\"].max()[['open', 'high', 'low', 'close']]"
   ],
   "metadata": {
    "collapsed": false,
    "pycharm": {
     "name": "#%%\n"
    }
   }
  },
  {
   "cell_type": "markdown",
   "source": [
    "6) По данным из 'sp500hst.txt' при помощи Pandas расчитать средний объем торгов (обеъм торгов - в последнем столбце) при значениях 3го столбца больше 50."
   ],
   "metadata": {
    "collapsed": false,
    "pycharm": {
     "name": "#%% md\n"
    }
   }
  },
  {
   "cell_type": "code",
   "execution_count": 32,
   "outputs": [
    {
     "data": {
      "text/plain": "volume    36467.086646\ndtype: float64"
     },
     "execution_count": 32,
     "metadata": {},
     "output_type": "execute_result"
    }
   ],
   "source": [
    "dataframe[dataframe['open'] > 50].mean(numeric_only=True)[['volume']]"
   ],
   "metadata": {
    "collapsed": false,
    "pycharm": {
     "name": "#%%\n"
    }
   }
  },
  {
   "cell_type": "markdown",
   "metadata": {
    "id": "zRijj-tYh7QZ",
    "pycharm": {
     "name": "#%% md\n"
    }
   },
   "source": [
    "7) Добавить столбец с расшифровкой названия тикера используя данные из файла sp_data2.csv . В случае нехватки данных об именах тикеров корректно обработать их."
   ]
  },
  {
   "cell_type": "code",
   "execution_count": 33,
   "outputs": [
    {
     "data": {
      "text/plain": "    ticker      ticker_name percent\n0     AAPL            Apple    3.6%\n1     AMZN       Amazon.com    3.2%\n2    GOOGL         Alphabet    3.1%\n3     GOOG         Alphabet    3.1%\n4     MSFT        Microsoft    3.0%\n..     ...              ...     ...\n500    SCG            SCANA    0.0%\n501    AIZ         Assurant    0.0%\n502    AYI    Acuity Brands    0.0%\n503    HRB        H&R Block    0.0%\n504    RRC  Range Resources    0.0%\n\n[505 rows x 3 columns]",
      "text/html": "<div>\n<style scoped>\n    .dataframe tbody tr th:only-of-type {\n        vertical-align: middle;\n    }\n\n    .dataframe tbody tr th {\n        vertical-align: top;\n    }\n\n    .dataframe thead th {\n        text-align: right;\n    }\n</style>\n<table border=\"1\" class=\"dataframe\">\n  <thead>\n    <tr style=\"text-align: right;\">\n      <th></th>\n      <th>ticker</th>\n      <th>ticker_name</th>\n      <th>percent</th>\n    </tr>\n  </thead>\n  <tbody>\n    <tr>\n      <th>0</th>\n      <td>AAPL</td>\n      <td>Apple</td>\n      <td>3.6%</td>\n    </tr>\n    <tr>\n      <th>1</th>\n      <td>AMZN</td>\n      <td>Amazon.com</td>\n      <td>3.2%</td>\n    </tr>\n    <tr>\n      <th>2</th>\n      <td>GOOGL</td>\n      <td>Alphabet</td>\n      <td>3.1%</td>\n    </tr>\n    <tr>\n      <th>3</th>\n      <td>GOOG</td>\n      <td>Alphabet</td>\n      <td>3.1%</td>\n    </tr>\n    <tr>\n      <th>4</th>\n      <td>MSFT</td>\n      <td>Microsoft</td>\n      <td>3.0%</td>\n    </tr>\n    <tr>\n      <th>...</th>\n      <td>...</td>\n      <td>...</td>\n      <td>...</td>\n    </tr>\n    <tr>\n      <th>500</th>\n      <td>SCG</td>\n      <td>SCANA</td>\n      <td>0.0%</td>\n    </tr>\n    <tr>\n      <th>501</th>\n      <td>AIZ</td>\n      <td>Assurant</td>\n      <td>0.0%</td>\n    </tr>\n    <tr>\n      <th>502</th>\n      <td>AYI</td>\n      <td>Acuity Brands</td>\n      <td>0.0%</td>\n    </tr>\n    <tr>\n      <th>503</th>\n      <td>HRB</td>\n      <td>H&amp;R Block</td>\n      <td>0.0%</td>\n    </tr>\n    <tr>\n      <th>504</th>\n      <td>RRC</td>\n      <td>Range Resources</td>\n      <td>0.0%</td>\n    </tr>\n  </tbody>\n</table>\n<p>505 rows × 3 columns</p>\n</div>"
     },
     "execution_count": 33,
     "metadata": {},
     "output_type": "execute_result"
    }
   ],
   "source": [
    "dataframe_spdata2 = pd.read_csv(\"data/sp_data2.csv\", delimiter=';', names=['ticker', 'ticker_name', 'percent'])\n",
    "dataframe_spdata2"
   ],
   "metadata": {
    "collapsed": false,
    "pycharm": {
     "name": "#%%\n"
    }
   }
  },
  {
   "cell_type": "code",
   "execution_count": 65,
   "outputs": [
    {
     "data": {
      "text/plain": "             date ticker   open     high     low  close   volume      Mean  \\\n0      2009-08-21      A  25.60  25.6100  25.220  25.55  34758.0  25.41500   \n1      2009-08-24      A  25.64  25.7400  25.330  25.50  22247.0  25.53500   \n2      2009-08-25      A  25.50  25.7000  25.225  25.34  30891.0  25.46250   \n3      2009-08-26      A  25.32  25.6425  25.145  25.48  33334.0  25.39375   \n4      2009-08-27      A  25.50  25.5700  25.230  25.54  70176.0  25.40000   \n...           ...    ...    ...      ...     ...    ...      ...       ...   \n122732        NaT     FL    NaN      NaN     NaN    NaN      NaN       NaN   \n122733        NaT    NFX    NaN      NaN     NaN    NaN      NaN       NaN   \n122734        NaT   EVHC    NaN      NaN     NaN    NaN      NaN       NaN   \n122735        NaT    BHF    NaN      NaN     NaN    NaN      NaN       NaN   \n122736        NaT    AYI    NaN      NaN     NaN    NaN      NaN       NaN   \n\n        month_date  day_date            ticker_name percent  \n0              8.0      21.0   Agilent Technologies    0.1%  \n1              8.0      24.0   Agilent Technologies    0.1%  \n2              8.0      25.0   Agilent Technologies    0.1%  \n3              8.0      26.0   Agilent Technologies    0.1%  \n4              8.0      27.0   Agilent Technologies    0.1%  \n...            ...       ...                    ...     ...  \n122732         NaN       NaN            Foot Locker    0.0%  \n122733         NaN       NaN   Newfield Exploration    0.0%  \n122734         NaN       NaN    Envision Healthcare    0.0%  \n122735         NaN       NaN  Brighthouse Financial    0.0%  \n122736         NaN       NaN          Acuity Brands    0.0%  \n\n[122737 rows x 12 columns]",
      "text/html": "<div>\n<style scoped>\n    .dataframe tbody tr th:only-of-type {\n        vertical-align: middle;\n    }\n\n    .dataframe tbody tr th {\n        vertical-align: top;\n    }\n\n    .dataframe thead th {\n        text-align: right;\n    }\n</style>\n<table border=\"1\" class=\"dataframe\">\n  <thead>\n    <tr style=\"text-align: right;\">\n      <th></th>\n      <th>date</th>\n      <th>ticker</th>\n      <th>open</th>\n      <th>high</th>\n      <th>low</th>\n      <th>close</th>\n      <th>volume</th>\n      <th>Mean</th>\n      <th>month_date</th>\n      <th>day_date</th>\n      <th>ticker_name</th>\n      <th>percent</th>\n    </tr>\n  </thead>\n  <tbody>\n    <tr>\n      <th>0</th>\n      <td>2009-08-21</td>\n      <td>A</td>\n      <td>25.60</td>\n      <td>25.6100</td>\n      <td>25.220</td>\n      <td>25.55</td>\n      <td>34758.0</td>\n      <td>25.41500</td>\n      <td>8.0</td>\n      <td>21.0</td>\n      <td>Agilent Technologies</td>\n      <td>0.1%</td>\n    </tr>\n    <tr>\n      <th>1</th>\n      <td>2009-08-24</td>\n      <td>A</td>\n      <td>25.64</td>\n      <td>25.7400</td>\n      <td>25.330</td>\n      <td>25.50</td>\n      <td>22247.0</td>\n      <td>25.53500</td>\n      <td>8.0</td>\n      <td>24.0</td>\n      <td>Agilent Technologies</td>\n      <td>0.1%</td>\n    </tr>\n    <tr>\n      <th>2</th>\n      <td>2009-08-25</td>\n      <td>A</td>\n      <td>25.50</td>\n      <td>25.7000</td>\n      <td>25.225</td>\n      <td>25.34</td>\n      <td>30891.0</td>\n      <td>25.46250</td>\n      <td>8.0</td>\n      <td>25.0</td>\n      <td>Agilent Technologies</td>\n      <td>0.1%</td>\n    </tr>\n    <tr>\n      <th>3</th>\n      <td>2009-08-26</td>\n      <td>A</td>\n      <td>25.32</td>\n      <td>25.6425</td>\n      <td>25.145</td>\n      <td>25.48</td>\n      <td>33334.0</td>\n      <td>25.39375</td>\n      <td>8.0</td>\n      <td>26.0</td>\n      <td>Agilent Technologies</td>\n      <td>0.1%</td>\n    </tr>\n    <tr>\n      <th>4</th>\n      <td>2009-08-27</td>\n      <td>A</td>\n      <td>25.50</td>\n      <td>25.5700</td>\n      <td>25.230</td>\n      <td>25.54</td>\n      <td>70176.0</td>\n      <td>25.40000</td>\n      <td>8.0</td>\n      <td>27.0</td>\n      <td>Agilent Technologies</td>\n      <td>0.1%</td>\n    </tr>\n    <tr>\n      <th>...</th>\n      <td>...</td>\n      <td>...</td>\n      <td>...</td>\n      <td>...</td>\n      <td>...</td>\n      <td>...</td>\n      <td>...</td>\n      <td>...</td>\n      <td>...</td>\n      <td>...</td>\n      <td>...</td>\n      <td>...</td>\n    </tr>\n    <tr>\n      <th>122732</th>\n      <td>NaT</td>\n      <td>FL</td>\n      <td>NaN</td>\n      <td>NaN</td>\n      <td>NaN</td>\n      <td>NaN</td>\n      <td>NaN</td>\n      <td>NaN</td>\n      <td>NaN</td>\n      <td>NaN</td>\n      <td>Foot Locker</td>\n      <td>0.0%</td>\n    </tr>\n    <tr>\n      <th>122733</th>\n      <td>NaT</td>\n      <td>NFX</td>\n      <td>NaN</td>\n      <td>NaN</td>\n      <td>NaN</td>\n      <td>NaN</td>\n      <td>NaN</td>\n      <td>NaN</td>\n      <td>NaN</td>\n      <td>NaN</td>\n      <td>Newfield Exploration</td>\n      <td>0.0%</td>\n    </tr>\n    <tr>\n      <th>122734</th>\n      <td>NaT</td>\n      <td>EVHC</td>\n      <td>NaN</td>\n      <td>NaN</td>\n      <td>NaN</td>\n      <td>NaN</td>\n      <td>NaN</td>\n      <td>NaN</td>\n      <td>NaN</td>\n      <td>NaN</td>\n      <td>Envision Healthcare</td>\n      <td>0.0%</td>\n    </tr>\n    <tr>\n      <th>122735</th>\n      <td>NaT</td>\n      <td>BHF</td>\n      <td>NaN</td>\n      <td>NaN</td>\n      <td>NaN</td>\n      <td>NaN</td>\n      <td>NaN</td>\n      <td>NaN</td>\n      <td>NaN</td>\n      <td>NaN</td>\n      <td>Brighthouse Financial</td>\n      <td>0.0%</td>\n    </tr>\n    <tr>\n      <th>122736</th>\n      <td>NaT</td>\n      <td>AYI</td>\n      <td>NaN</td>\n      <td>NaN</td>\n      <td>NaN</td>\n      <td>NaN</td>\n      <td>NaN</td>\n      <td>NaN</td>\n      <td>NaN</td>\n      <td>NaN</td>\n      <td>Acuity Brands</td>\n      <td>0.0%</td>\n    </tr>\n  </tbody>\n</table>\n<p>122737 rows × 12 columns</p>\n</div>"
     },
     "execution_count": 65,
     "metadata": {},
     "output_type": "execute_result"
    }
   ],
   "source": [
    "dataframe_with_name_ticker = pd.merge(dataframe, dataframe_spdata2, on='ticker', how='outer')\n",
    "dataframe_with_name_ticker"
   ],
   "metadata": {
    "collapsed": false,
    "pycharm": {
     "name": "#%%\n"
    }
   }
  },
  {
   "cell_type": "markdown",
   "source": [
    "8) Вывести тикеры, для которых не были найдены расшифровки."
   ],
   "metadata": {
    "collapsed": false,
    "pycharm": {
     "name": "#%% md\n"
    }
   }
  },
  {
   "cell_type": "code",
   "execution_count": 77,
   "outputs": [
    {
     "name": "stdout",
     "output_type": "stream",
     "text": [
      "Тикеры, не имеющие полной расшифровки:\n"
     ]
    },
    {
     "data": {
      "text/plain": "245         AA\n1221       ACE\n1278       ACS\n5054       AKS\n5544      ALTR\n          ... \n119201     WYN\n119683       X\n121390     XTO\n121597    YHOO\n122329     ZMH\nName: ticker, Length: 182, dtype: object"
     },
     "execution_count": 77,
     "metadata": {},
     "output_type": "execute_result"
    }
   ],
   "source": [
    "print(\"Тикеры, не имеющие полной расшифровки:\")\n",
    "dataframe_ticker_name = dataframe_with_name_ticker[['ticker', 'ticker_name']]\n",
    "dataframe_ticker_name_is = dataframe_ticker_name[dataframe_ticker_name['ticker_name'].isnull()]\n",
    "dataframe_ticker_name_is_null = dataframe_ticker_name_is.drop_duplicates(keep=\"first\")\n",
    "dataframe_ticker_name_is_null['ticker']"
   ],
   "metadata": {
    "collapsed": false,
    "pycharm": {
     "name": "#%%\n"
    }
   }
  },
  {
   "cell_type": "markdown",
   "metadata": {
    "id": "qmxQg5tJh7Qa",
    "pycharm": {
     "name": "#%% md\n"
    }
   },
   "source": [
    "9) Рассчитать суммарный объем торгов (столбец 7) для одинаковых значений (тикеров) из столбца 2"
   ]
  },
  {
   "cell_type": "code",
   "execution_count": 36,
   "outputs": [
    {
     "data": {
      "text/plain": "ticker\nA        8609336\nAAPL    52261170\nABC      9006756\nABT     18975870\nADBE    17422423\n          ...   \nXOM     66633788\nXRAY     2709860\nXRX     41236860\nYUM     10971538\nZION    15551119\nName: volume, Length: 342, dtype: int64"
     },
     "execution_count": 36,
     "metadata": {},
     "output_type": "execute_result"
    }
   ],
   "source": [
    "dataframe_with_name_ticker.groupby(\"ticker\")['volume'].sum()"
   ],
   "metadata": {
    "collapsed": false,
    "pycharm": {
     "name": "#%%\n"
    }
   }
  },
  {
   "cell_type": "markdown",
   "source": [
    "9.2) Для каждого тикера подсчитать, сколько раз он встречается."
   ],
   "metadata": {
    "collapsed": false,
    "pycharm": {
     "name": "#%% md\n"
    }
   }
  },
  {
   "cell_type": "code",
   "execution_count": 37,
   "outputs": [
    {
     "data": {
      "text/plain": "ticker\nA       245\nAAPL    241\nABC     245\nABT     245\nADBE    243\n       ... \nXOM     245\nXRAY    239\nXRX     245\nYUM     245\nZION    244\nName: ticker, Length: 342, dtype: int64"
     },
     "execution_count": 37,
     "metadata": {},
     "output_type": "execute_result"
    }
   ],
   "source": [
    "dataframe_with_name_ticker.groupby('ticker')['ticker'].count()"
   ],
   "metadata": {
    "collapsed": false,
    "pycharm": {
     "name": "#%%\n"
    }
   }
  },
  {
   "cell_type": "markdown",
   "source": [
    "10) Расчитать среднее значение показателей для каждого из столбцов 3-6 для одинаковых значений (тикеров) из столбца 2 и сохранить в новом DataFrame"
   ],
   "metadata": {
    "collapsed": false,
    "pycharm": {
     "name": "#%% md\n"
    }
   }
  },
  {
   "cell_type": "code",
   "execution_count": 38,
   "outputs": [
    {
     "data": {
      "text/plain": "              open        high         low       close\nticker                                                \nA        30.234857   30.567838   29.866467   30.246143\nAAPL    221.342427  223.556147  218.409411  221.125341\nABC      27.432122   27.683660   27.126983   27.429347\nABT      50.996776   51.365541   50.555472   50.986490\nADBE     33.357181   33.741407   32.936090   33.352469\n...            ...         ...         ...         ...\nXOM      66.675041   67.140401   66.092481   66.622347\nXRAY     33.630628   33.958713   33.295432   33.650335\nXRX       8.978078    9.109051    8.832747    8.978173\nYUM      37.456898   37.816882   37.094593   37.479633\nZION     19.694057   20.171136   19.226905   19.702861\n\n[342 rows x 4 columns]",
      "text/html": "<div>\n<style scoped>\n    .dataframe tbody tr th:only-of-type {\n        vertical-align: middle;\n    }\n\n    .dataframe tbody tr th {\n        vertical-align: top;\n    }\n\n    .dataframe thead th {\n        text-align: right;\n    }\n</style>\n<table border=\"1\" class=\"dataframe\">\n  <thead>\n    <tr style=\"text-align: right;\">\n      <th></th>\n      <th>open</th>\n      <th>high</th>\n      <th>low</th>\n      <th>close</th>\n    </tr>\n    <tr>\n      <th>ticker</th>\n      <th></th>\n      <th></th>\n      <th></th>\n      <th></th>\n    </tr>\n  </thead>\n  <tbody>\n    <tr>\n      <th>A</th>\n      <td>30.234857</td>\n      <td>30.567838</td>\n      <td>29.866467</td>\n      <td>30.246143</td>\n    </tr>\n    <tr>\n      <th>AAPL</th>\n      <td>221.342427</td>\n      <td>223.556147</td>\n      <td>218.409411</td>\n      <td>221.125341</td>\n    </tr>\n    <tr>\n      <th>ABC</th>\n      <td>27.432122</td>\n      <td>27.683660</td>\n      <td>27.126983</td>\n      <td>27.429347</td>\n    </tr>\n    <tr>\n      <th>ABT</th>\n      <td>50.996776</td>\n      <td>51.365541</td>\n      <td>50.555472</td>\n      <td>50.986490</td>\n    </tr>\n    <tr>\n      <th>ADBE</th>\n      <td>33.357181</td>\n      <td>33.741407</td>\n      <td>32.936090</td>\n      <td>33.352469</td>\n    </tr>\n    <tr>\n      <th>...</th>\n      <td>...</td>\n      <td>...</td>\n      <td>...</td>\n      <td>...</td>\n    </tr>\n    <tr>\n      <th>XOM</th>\n      <td>66.675041</td>\n      <td>67.140401</td>\n      <td>66.092481</td>\n      <td>66.622347</td>\n    </tr>\n    <tr>\n      <th>XRAY</th>\n      <td>33.630628</td>\n      <td>33.958713</td>\n      <td>33.295432</td>\n      <td>33.650335</td>\n    </tr>\n    <tr>\n      <th>XRX</th>\n      <td>8.978078</td>\n      <td>9.109051</td>\n      <td>8.832747</td>\n      <td>8.978173</td>\n    </tr>\n    <tr>\n      <th>YUM</th>\n      <td>37.456898</td>\n      <td>37.816882</td>\n      <td>37.094593</td>\n      <td>37.479633</td>\n    </tr>\n    <tr>\n      <th>ZION</th>\n      <td>19.694057</td>\n      <td>20.171136</td>\n      <td>19.226905</td>\n      <td>19.702861</td>\n    </tr>\n  </tbody>\n</table>\n<p>342 rows × 4 columns</p>\n</div>"
     },
     "execution_count": 38,
     "metadata": {},
     "output_type": "execute_result"
    }
   ],
   "source": [
    "dataframe_with_name_ticker_copy = dataframe_with_name_ticker.copy()\n",
    "dataframe_with_name_ticker_copy = dataframe_with_name_ticker_copy.groupby('ticker')[['open', 'high', 'low', 'close']].mean()\n",
    "dataframe_with_name_ticker_copy"
   ],
   "metadata": {
    "collapsed": false,
    "pycharm": {
     "name": "#%%\n"
    }
   }
  },
  {
   "cell_type": "markdown",
   "source": [
    "11) Добавить в DataFrame новый столбец, содержащий объем торгов (столбец 7), нормированный по среднему значению объема торгов для данного тикера."
   ],
   "metadata": {
    "collapsed": false,
    "pycharm": {
     "name": "#%% md\n"
    }
   }
  },
  {
   "cell_type": "code",
   "execution_count": 39,
   "outputs": [
    {
     "data": {
      "text/plain": "            date ticker   open     high     low  close  volume      Mean  \\\n0     2009-08-21      A  25.60  25.6100  25.220  25.55   34758  25.41500   \n1     2009-08-24      A  25.64  25.7400  25.330  25.50   22247  25.53500   \n2     2009-08-25      A  25.50  25.7000  25.225  25.34   30891  25.46250   \n3     2009-08-26      A  25.32  25.6425  25.145  25.48   33334  25.39375   \n4     2009-08-27      A  25.50  25.5700  25.230  25.54   70176  25.40000   \n...          ...    ...    ...      ...     ...    ...     ...       ...   \n82167 2010-08-13   ZION  20.17  20.4300  19.840  19.89   25193  20.13500   \n82168 2010-08-16   ZION  19.81  19.9600  19.600  19.95   25914  19.78000   \n82169 2010-08-17   ZION  20.07  20.4700  19.830  20.31   31717  20.15000   \n82170 2010-08-19   ZION  19.83  20.0000  19.130  19.35   45935  19.56500   \n82171 2010-08-20   ZION  19.15  19.2700  18.810  19.14   37225  19.04000   \n\n       month_date  day_date           ticker_name percent  volume_norm  \n0               8        21  Agilent Technologies    0.1%     0.989125  \n1               8        24  Agilent Technologies    0.1%     0.633094  \n2               8        25  Agilent Technologies    0.1%     0.879080  \n3               8        26  Agilent Technologies    0.1%     0.948602  \n4               8        27  Agilent Technologies    0.1%     1.997032  \n...           ...       ...                   ...     ...          ...  \n82167           8        13         Zions Bancorp    0.0%     0.395283  \n82168           8        16         Zions Bancorp    0.0%     0.406596  \n82169           8        17         Zions Bancorp    0.0%     0.497646  \n82170           8        19         Zions Bancorp    0.0%     0.720729  \n82171           8        20         Zions Bancorp    0.0%     0.584067  \n\n[82172 rows x 13 columns]",
      "text/html": "<div>\n<style scoped>\n    .dataframe tbody tr th:only-of-type {\n        vertical-align: middle;\n    }\n\n    .dataframe tbody tr th {\n        vertical-align: top;\n    }\n\n    .dataframe thead th {\n        text-align: right;\n    }\n</style>\n<table border=\"1\" class=\"dataframe\">\n  <thead>\n    <tr style=\"text-align: right;\">\n      <th></th>\n      <th>date</th>\n      <th>ticker</th>\n      <th>open</th>\n      <th>high</th>\n      <th>low</th>\n      <th>close</th>\n      <th>volume</th>\n      <th>Mean</th>\n      <th>month_date</th>\n      <th>day_date</th>\n      <th>ticker_name</th>\n      <th>percent</th>\n      <th>volume_norm</th>\n    </tr>\n  </thead>\n  <tbody>\n    <tr>\n      <th>0</th>\n      <td>2009-08-21</td>\n      <td>A</td>\n      <td>25.60</td>\n      <td>25.6100</td>\n      <td>25.220</td>\n      <td>25.55</td>\n      <td>34758</td>\n      <td>25.41500</td>\n      <td>8</td>\n      <td>21</td>\n      <td>Agilent Technologies</td>\n      <td>0.1%</td>\n      <td>0.989125</td>\n    </tr>\n    <tr>\n      <th>1</th>\n      <td>2009-08-24</td>\n      <td>A</td>\n      <td>25.64</td>\n      <td>25.7400</td>\n      <td>25.330</td>\n      <td>25.50</td>\n      <td>22247</td>\n      <td>25.53500</td>\n      <td>8</td>\n      <td>24</td>\n      <td>Agilent Technologies</td>\n      <td>0.1%</td>\n      <td>0.633094</td>\n    </tr>\n    <tr>\n      <th>2</th>\n      <td>2009-08-25</td>\n      <td>A</td>\n      <td>25.50</td>\n      <td>25.7000</td>\n      <td>25.225</td>\n      <td>25.34</td>\n      <td>30891</td>\n      <td>25.46250</td>\n      <td>8</td>\n      <td>25</td>\n      <td>Agilent Technologies</td>\n      <td>0.1%</td>\n      <td>0.879080</td>\n    </tr>\n    <tr>\n      <th>3</th>\n      <td>2009-08-26</td>\n      <td>A</td>\n      <td>25.32</td>\n      <td>25.6425</td>\n      <td>25.145</td>\n      <td>25.48</td>\n      <td>33334</td>\n      <td>25.39375</td>\n      <td>8</td>\n      <td>26</td>\n      <td>Agilent Technologies</td>\n      <td>0.1%</td>\n      <td>0.948602</td>\n    </tr>\n    <tr>\n      <th>4</th>\n      <td>2009-08-27</td>\n      <td>A</td>\n      <td>25.50</td>\n      <td>25.5700</td>\n      <td>25.230</td>\n      <td>25.54</td>\n      <td>70176</td>\n      <td>25.40000</td>\n      <td>8</td>\n      <td>27</td>\n      <td>Agilent Technologies</td>\n      <td>0.1%</td>\n      <td>1.997032</td>\n    </tr>\n    <tr>\n      <th>...</th>\n      <td>...</td>\n      <td>...</td>\n      <td>...</td>\n      <td>...</td>\n      <td>...</td>\n      <td>...</td>\n      <td>...</td>\n      <td>...</td>\n      <td>...</td>\n      <td>...</td>\n      <td>...</td>\n      <td>...</td>\n      <td>...</td>\n    </tr>\n    <tr>\n      <th>82167</th>\n      <td>2010-08-13</td>\n      <td>ZION</td>\n      <td>20.17</td>\n      <td>20.4300</td>\n      <td>19.840</td>\n      <td>19.89</td>\n      <td>25193</td>\n      <td>20.13500</td>\n      <td>8</td>\n      <td>13</td>\n      <td>Zions Bancorp</td>\n      <td>0.0%</td>\n      <td>0.395283</td>\n    </tr>\n    <tr>\n      <th>82168</th>\n      <td>2010-08-16</td>\n      <td>ZION</td>\n      <td>19.81</td>\n      <td>19.9600</td>\n      <td>19.600</td>\n      <td>19.95</td>\n      <td>25914</td>\n      <td>19.78000</td>\n      <td>8</td>\n      <td>16</td>\n      <td>Zions Bancorp</td>\n      <td>0.0%</td>\n      <td>0.406596</td>\n    </tr>\n    <tr>\n      <th>82169</th>\n      <td>2010-08-17</td>\n      <td>ZION</td>\n      <td>20.07</td>\n      <td>20.4700</td>\n      <td>19.830</td>\n      <td>20.31</td>\n      <td>31717</td>\n      <td>20.15000</td>\n      <td>8</td>\n      <td>17</td>\n      <td>Zions Bancorp</td>\n      <td>0.0%</td>\n      <td>0.497646</td>\n    </tr>\n    <tr>\n      <th>82170</th>\n      <td>2010-08-19</td>\n      <td>ZION</td>\n      <td>19.83</td>\n      <td>20.0000</td>\n      <td>19.130</td>\n      <td>19.35</td>\n      <td>45935</td>\n      <td>19.56500</td>\n      <td>8</td>\n      <td>19</td>\n      <td>Zions Bancorp</td>\n      <td>0.0%</td>\n      <td>0.720729</td>\n    </tr>\n    <tr>\n      <th>82171</th>\n      <td>2010-08-20</td>\n      <td>ZION</td>\n      <td>19.15</td>\n      <td>19.2700</td>\n      <td>18.810</td>\n      <td>19.14</td>\n      <td>37225</td>\n      <td>19.04000</td>\n      <td>8</td>\n      <td>20</td>\n      <td>Zions Bancorp</td>\n      <td>0.0%</td>\n      <td>0.584067</td>\n    </tr>\n  </tbody>\n</table>\n<p>82172 rows × 13 columns</p>\n</div>"
     },
     "execution_count": 39,
     "metadata": {},
     "output_type": "execute_result"
    }
   ],
   "source": [
    "dataframe_with_name_ticker['volume_norm'] = dataframe_with_name_ticker.groupby('ticker')['volume'].transform(lambda vol: vol / vol.mean())\n",
    "dataframe_with_name_ticker"
   ],
   "metadata": {
    "collapsed": false,
    "pycharm": {
     "name": "#%%\n"
    }
   }
  },
  {
   "cell_type": "code",
   "execution_count": null,
   "outputs": [],
   "source": [],
   "metadata": {
    "collapsed": false,
    "pycharm": {
     "name": "#%%\n"
    }
   }
  }
 ],
 "metadata": {
  "kernelspec": {
   "display_name": "Python 3",
   "language": "python",
   "name": "python3"
  },
  "language_info": {
   "codemirror_mode": {
    "name": "ipython",
    "version": 3
   },
   "file_extension": ".py",
   "mimetype": "text/x-python",
   "name": "python",
   "nbconvert_exporter": "python",
   "pygments_lexer": "ipython3",
   "version": "3.7.6"
  },
  "colab": {
   "provenance": []
  }
 },
 "nbformat": 4,
 "nbformat_minor": 0
}