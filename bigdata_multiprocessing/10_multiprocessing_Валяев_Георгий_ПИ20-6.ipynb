{
 "cells": [
  {
   "cell_type": "markdown",
   "metadata": {
    "pycharm": {
     "name": "#%% md\n"
    }
   },
   "source": [
    "# Параллельные вычисления"
   ]
  },
  {
   "cell_type": "markdown",
   "metadata": {
    "pycharm": {
     "name": "#%% md\n"
    }
   },
   "source": [
    "__Автор задач: Блохин Н.В. (NVBlokhin@fa.ru)__\n",
    "\n",
    "Материалы:\n",
    "* Макрушин С.В. Лекция \"Параллельные вычисления\"\n",
    "* https://docs.python.org/3/library/multiprocessing.html\n",
    "    * https://docs.python.org/3/library/multiprocessing.html#multiprocessing.Process\n",
    "    * https://docs.python.org/3/library/multiprocessing.html#multiprocessing.pool.Pool\n",
    "    * https://docs.python.org/3/library/multiprocessing.html#multiprocessing.Queue\n",
    "* https://pandas.pydata.org/docs/reference/api/pandas.read_csv.html\n",
    "* https://numpy.org/doc/stable/reference/generated/numpy.array_split.html\n",
    "* https://nalepae.github.io/pandarallel/\n",
    "    * https://github.com/nalepae/pandarallel/blob/master/docs/examples_windows.ipynb\n",
    "    * https://github.com/nalepae/pandarallel/blob/master/docs/examples_mac_linux.ipynb"
   ]
  },
  {
   "cell_type": "markdown",
   "metadata": {
    "pycharm": {
     "name": "#%% md\n"
    }
   },
   "source": [
    "## Задачи для совместного разбора"
   ]
  },
  {
   "cell_type": "code",
   "execution_count": 1,
   "outputs": [],
   "source": [
    "import multiprocessing, re\n",
    "import pandas as pd\n",
    "import numpy as np\n",
    "import seaborn as sns\n",
    "import matplotlib.pyplot as plt"
   ],
   "metadata": {
    "collapsed": false,
    "pycharm": {
     "name": "#%%\n"
    }
   }
  },
  {
   "cell_type": "code",
   "execution_count": 113,
   "metadata": {
    "pycharm": {
     "name": "#%%\n"
    }
   },
   "outputs": [
    {
     "name": "stdout",
     "output_type": "stream",
     "text": [
      "Collecting pandarallel\n",
      "  Downloading pandarallel-1.6.3.tar.gz (12 kB)\n",
      "  Preparing metadata (setup.py): started\n",
      "  Preparing metadata (setup.py): finished with status 'done'\n",
      "Collecting dill>=0.3.1\n",
      "  Downloading dill-0.3.6-py3-none-any.whl (110 kB)\n",
      "     ------------------------------------ 110.5/110.5 kB 494.0 kB/s eta 0:00:00\n",
      "Requirement already satisfied: pandas>=1 in c:\\users\\admin\\anaconda3\\lib\\site-packages (from pandarallel) (1.3.4)\n",
      "Requirement already satisfied: psutil in c:\\users\\admin\\anaconda3\\lib\\site-packages (from pandarallel) (5.8.0)\n",
      "Requirement already satisfied: numpy>=1.17.3 in c:\\users\\admin\\appdata\\roaming\\python\\python39\\site-packages (from pandas>=1->pandarallel) (1.20.0)\n",
      "Requirement already satisfied: pytz>=2017.3 in c:\\users\\admin\\anaconda3\\lib\\site-packages (from pandas>=1->pandarallel) (2021.3)\n",
      "Requirement already satisfied: python-dateutil>=2.7.3 in c:\\users\\admin\\anaconda3\\lib\\site-packages (from pandas>=1->pandarallel) (2.8.2)\n",
      "Requirement already satisfied: six>=1.5 in c:\\users\\admin\\anaconda3\\lib\\site-packages (from python-dateutil>=2.7.3->pandas>=1->pandarallel) (1.16.0)\n",
      "Building wheels for collected packages: pandarallel\n",
      "  Building wheel for pandarallel (setup.py): started\n",
      "  Building wheel for pandarallel (setup.py): finished with status 'done'\n",
      "  Created wheel for pandarallel: filename=pandarallel-1.6.3-py3-none-any.whl size=16461 sha256=d97985fcdbf0a0da3d3fa7b94750e5dd86b94f318ec2df2a1650fd1a416d775b\n",
      "  Stored in directory: c:\\users\\admin\\appdata\\local\\pip\\cache\\wheels\\66\\69\\3f\\d563bce72ab17473f57a2c59ef94ee126a2dc5592f41ddf5e2\n",
      "Successfully built pandarallel\n",
      "Installing collected packages: dill, pandarallel\n",
      "Successfully installed dill-0.3.6 pandarallel-1.6.3\n"
     ]
    },
    {
     "name": "stderr",
     "output_type": "stream",
     "text": [
      "WARNING: Ignoring invalid distribution -atplotlib (c:\\users\\admin\\anaconda3\\lib\\site-packages)\n",
      "WARNING: Ignoring invalid distribution -atplotlib (c:\\users\\admin\\anaconda3\\lib\\site-packages)\n",
      "WARNING: Ignoring invalid distribution -atplotlib (c:\\users\\admin\\anaconda3\\lib\\site-packages)\n",
      "WARNING: Ignoring invalid distribution -atplotlib (c:\\users\\admin\\anaconda3\\lib\\site-packages)\n",
      "WARNING: Ignoring invalid distribution -atplotlib (c:\\users\\admin\\anaconda3\\lib\\site-packages)\n",
      "WARNING: Ignoring invalid distribution -atplotlib (c:\\users\\admin\\anaconda3\\lib\\site-packages)\n",
      "WARNING: Ignoring invalid distribution -atplotlib (c:\\users\\admin\\anaconda3\\lib\\site-packages)\n",
      "WARNING: Ignoring invalid distribution -atplotlib (c:\\users\\admin\\anaconda3\\lib\\site-packages)\n"
     ]
    }
   ],
   "source": [
    "!pip install pandarallel"
   ]
  },
  {
   "cell_type": "markdown",
   "metadata": {
    "pycharm": {
     "name": "#%% md\n"
    }
   },
   "source": [
    "1. Посчитайте, сколько раз встречается буква \"a\" в файлах [\"xaa\", \"xab\", \"xac\", \"xad\"]. "
   ]
  },
  {
   "cell_type": "code",
   "execution_count": 2,
   "metadata": {
    "pycharm": {
     "name": "#%%\n"
    }
   },
   "outputs": [],
   "source": [
    "files = [f\"data/{name}.txt\" for name in [\"xaa\", \"xab\", \"xac\", \"xad\"]]"
   ]
  },
  {
   "cell_type": "markdown",
   "metadata": {
    "pycharm": {
     "name": "#%% md\n"
    }
   },
   "source": [
    "2. Выведите на экран слова из файла words_alpha, в которых есть две или более буквы \"e\" подряд."
   ]
  },
  {
   "cell_type": "code",
   "execution_count": 28,
   "metadata": {
    "pycharm": {
     "name": "#%%\n"
    }
   },
   "outputs": [],
   "source": [
    "import pandas as pd\n",
    "\n",
    "words = (\n",
    "    pd.read_csv(\"data/words_alpha.txt\", header=None)[0]\n",
    "    .dropna()\n",
    "    .sample(frac=1, replace=True)\n",
    ")"
   ]
  },
  {
   "cell_type": "markdown",
   "metadata": {
    "pycharm": {
     "name": "#%% md\n"
    }
   },
   "source": [
    "## Лабораторная работа 10"
   ]
  },
  {
   "cell_type": "markdown",
   "metadata": {
    "pycharm": {
     "name": "#%% md\n"
    }
   },
   "source": [
    "__При решении данных задач не подразумевается использования циклов или генераторов Python в ходе работы с пакетами `numpy` и `pandas`, если в задании не сказано обратного. Решения задач, в которых для обработки массивов `numpy` или структур `pandas` используются явные циклы (без согласования с преподавателем), могут быть признаны некорректными и не засчитаны.__"
   ]
  },
  {
   "cell_type": "markdown",
   "metadata": {
    "pycharm": {
     "name": "#%% md\n"
    }
   },
   "source": [
    "1\\. В каждой строке файла `tag_nsteps.csv` хранится информация о тэге рецепта и количестве шагов в этом рецепте в следующем виде:\n",
    "\n",
    "```\n",
    "tags,n_steps\n",
    "hungarian,2\n",
    "european,6\n",
    "occasion,4\n",
    "pumpkin,4\n",
    "................\n",
    "```\n",
    "\n",
    "Всего в исходном файле хранится чуть меньше, чем 71 млн, строк. Разбейте файл `tag_nsteps.csv` на несколько (например, 8) примерно одинаковых по объему файлов c названиями `tag_nsteps_*.csv`, где вместо символа `*` указан номер очередного файла. Каждый файл имеет структуру, аналогичную оригинальному файлу (включая заголовок).\n",
    "\n",
    "__Важно__: здесь и далее вы не можете загружать в память весь исходный файл сразу."
   ]
  },
  {
   "cell_type": "code",
   "execution_count": 3,
   "outputs": [],
   "source": [
    "tags = pd.read_csv('data/tag_nsteps.csv')"
   ],
   "metadata": {
    "collapsed": false,
    "pycharm": {
     "name": "#%%\n"
    }
   }
  },
  {
   "cell_type": "code",
   "execution_count": 11,
   "outputs": [
    {
     "data": {
      "text/plain": "array([       0,  8836948, 17673896, 26510844, 35347792, 44184740,\n       53021688, 61858636, 70695585])"
     },
     "execution_count": 11,
     "metadata": {},
     "output_type": "execute_result"
    }
   ],
   "source": [
    "iloc_for_tags = np.linspace(0, len(tags), 9).astype('int')\n",
    "iloc_for_tags"
   ],
   "metadata": {
    "collapsed": false,
    "pycharm": {
     "name": "#%%\n"
    }
   }
  },
  {
   "cell_type": "code",
   "execution_count": 12,
   "outputs": [],
   "source": [
    "tags.iloc[:iloc_for_tags[1]].to_csv('new_data/tag_nsteps_1.csv')\n",
    "tags.iloc[iloc_for_tags[1]:iloc_for_tags[2]].to_csv('new_data/tag_nsteps_2.csv')\n",
    "tags.iloc[iloc_for_tags[2]:iloc_for_tags[3]].to_csv('new_data/tag_nsteps_3.csv')\n",
    "tags.iloc[iloc_for_tags[3]:iloc_for_tags[4]].to_csv('new_data/tag_nsteps_4.csv')\n",
    "tags.iloc[iloc_for_tags[4]:iloc_for_tags[5]].to_csv('new_data/tag_nsteps_5.csv')\n",
    "tags.iloc[iloc_for_tags[5]:iloc_for_tags[6]].to_csv('new_data/tag_nsteps_6.csv')\n",
    "tags.iloc[iloc_for_tags[6]:iloc_for_tags[7]].to_csv('new_data/tag_nsteps_7.csv')\n",
    "tags.iloc[iloc_for_tags[7]:].to_csv('new_data/tag_nsteps_8.csv')"
   ],
   "metadata": {
    "collapsed": false,
    "pycharm": {
     "name": "#%%\n"
    }
   }
  },
  {
   "cell_type": "markdown",
   "metadata": {
    "pycharm": {
     "name": "#%% md\n"
    }
   },
   "source": [
    "2\\. Напишите функцию, которая принимает на вход название файла, созданного в результате решения задачи 1, считает для каждого тэга сумму по столбцу `n_steps` и количество строк c этим тэгом, и возвращает результат в виде словаря. Ожидаемый вид итогового словаря:\n",
    "\n",
    "```\n",
    "{\n",
    "    '1-day-or-more': {'sum': 56616, 'count': 12752},\n",
    "    '15-minutes-or-less': {'sum': 195413, 'count': 38898},\n",
    "    '3-steps-or-less': {'sum': 187938, 'count': 39711},\n",
    "    ....\n",
    "}\n",
    "```\n",
    "\n",
    "Примените данную функцию к каждому файлу, полученному в задании 1, и соберите результат в виде списка словарей. Не используйте параллельных вычислений. \n",
    "\n",
    "Выведите на экран значение по ключу \"30-minutes-or-less\" для каждого из словарей."
   ]
  },
  {
   "cell_type": "code",
   "execution_count": 25,
   "metadata": {
    "pycharm": {
     "name": "#%%\n"
    }
   },
   "outputs": [],
   "source": [
    "def get_tag_sum_count_from_file(file: str) -> dict:\n",
    "    return pd.read_csv(file, index_col=0).groupby(by='tags').agg(['sum', 'count'])['n_steps'].to_dict('index')"
   ]
  },
  {
   "cell_type": "code",
   "execution_count": 30,
   "outputs": [
    {
     "name": "stderr",
     "output_type": "stream",
     "text": [
      "C:\\Users\\admin\\AppData\\Roaming\\Python\\Python39\\site-packages\\numpy\\lib\\arraysetops.py:583: FutureWarning: elementwise comparison failed; returning scalar instead, but in the future will perform elementwise comparison\n",
      "  mask |= (ar1 == a)\n"
     ]
    },
    {
     "data": {
      "text/plain": "{'1-day-or-more': {'sum': 56402, 'count': 12707},\n '15-minutes-or-less': {'sum': 194344, 'count': 38706},\n '3-steps-or-less': {'sum': 187016, 'count': 39518},\n '30-minutes-or-less': {'sum': 347663, 'count': 45422},\n '4-hours-or-less': {'sum': 428105, 'count': 42502},\n '5-ingredients-or-less': {'sum': 178969, 'count': 33685},\n '60-minutes-or-less': {'sum': 520080, 'count': 54990},\n 'Throw the ultimate fiesta with this sopaipillas recipe from Food.com.': {'sum': 39811,\n  'count': 11400},\n 'a1-sauce': {'sum': 39877, 'count': 11312},\n 'african': {'sum': 56935, 'count': 13092},\n 'american': {'sum': 231342, 'count': 30624},\n 'amish-mennonite': {'sum': 40520, 'count': 11366},\n 'angolan': {'sum': 39386, 'count': 11240},\n 'appetizers': {'sum': 149517, 'count': 23914},\n 'apples': {'sum': 69196, 'count': 14258},\n 'april-fools-day': {'sum': 39109, 'count': 11185},\n 'argentine': {'sum': 40616, 'count': 11347},\n 'artichoke': {'sum': 40221, 'count': 11498},\n 'asian': {'sum': 127185, 'count': 19754},\n 'asparagus': {'sum': 49891, 'count': 12260},\n 'australian': {'sum': 54908, 'count': 13118},\n 'austrian': {'sum': 40089, 'count': 11284},\n 'avocado': {'sum': 40321, 'count': 11476},\n 'bacon': {'sum': 52292, 'count': 12635},\n 'baja': {'sum': 40168, 'count': 11322},\n 'baked-beans': {'sum': 39398, 'count': 11284},\n 'baking': {'sum': 41981, 'count': 11636},\n 'bananas': {'sum': 50985, 'count': 12703},\n 'bar-cookies': {'sum': 64482, 'count': 13284},\n 'barbecue': {'sum': 64773, 'count': 13946},\n 'bass': {'sum': 38995, 'count': 11104},\n 'bean-soup': {'sum': 39901, 'count': 11362},\n 'beans': {'sum': 94681, 'count': 17165},\n 'beans-side-dishes': {'sum': 39282, 'count': 11215},\n 'bear': {'sum': 38920, 'count': 11086},\n 'beef': {'sum': 152926, 'count': 21969},\n 'beef-barley-soup': {'sum': 39349, 'count': 11180},\n 'beef-crock-pot': {'sum': 39569, 'count': 11281},\n 'beef-kidney': {'sum': 39176, 'count': 11173},\n 'beef-liver': {'sum': 39691, 'count': 11192},\n 'beef-organ-meats': {'sum': 39928, 'count': 11252},\n 'beef-ribs': {'sum': 41348, 'count': 11478},\n 'beef-sauces': {'sum': 40268, 'count': 11451},\n 'beef-sausage': {'sum': 42970, 'count': 11706},\n 'beginner-cook': {'sum': 211333, 'count': 33428},\n 'beijing': {'sum': 39154, 'count': 11187},\n 'belgian': {'sum': 40713, 'count': 11418},\n 'berries': {'sum': 74617, 'count': 14925},\n 'beverages': {'sum': 72769, 'count': 18563},\n 'birthday': {'sum': 40875, 'count': 11289},\n 'biscotti': {'sum': 43923, 'count': 11588},\n 'bisques-cream-soups': {'sum': 51276, 'count': 12352},\n 'black-bean-soup': {'sum': 39735, 'count': 11445},\n 'black-beans': {'sum': 48402, 'count': 12263},\n 'blueberries': {'sum': 47652, 'count': 12198},\n 'bok-choys': {'sum': 40968, 'count': 11507},\n 'brazilian': {'sum': 42187, 'count': 11747},\n 'bread-machine': {'sum': 46768, 'count': 12314},\n 'bread-pudding': {'sum': 39825, 'count': 11324},\n 'breads': {'sum': 145619, 'count': 20387},\n 'breakfast': {'sum': 121198, 'count': 19960},\n 'breakfast-casseroles': {'sum': 39558, 'count': 11210},\n 'breakfast-eggs': {'sum': 39738, 'count': 11285},\n 'breakfast-potatoes': {'sum': 38891, 'count': 11175},\n 'brewing': {'sum': 40111, 'count': 11400},\n 'british-columbian': {'sum': 43361, 'count': 11710},\n 'broccoli': {'sum': 52049, 'count': 12746},\n 'broil': {'sum': 50632, 'count': 12505},\n 'brown-bag': {'sum': 57303, 'count': 13263},\n 'brown-rice': {'sum': 43163, 'count': 11711},\n 'brownies': {'sum': 47702, 'count': 11922},\n 'brunch': {'sum': 158764, 'count': 23101},\n 'burgers': {'sum': 40306, 'count': 11341},\n 'cabbage': {'sum': 39351, 'count': 11261},\n 'cajun': {'sum': 48208, 'count': 12287},\n 'cake-fillings-and-frostings': {'sum': 46960, 'count': 12127},\n 'cakes': {'sum': 117211, 'count': 17439},\n 'californian': {'sum': 43937, 'count': 11804},\n 'cambodian': {'sum': 39929, 'count': 11354},\n 'camping': {'sum': 48224, 'count': 12200},\n 'canadian': {'sum': 66447, 'count': 13903},\n 'candy': {'sum': 53317, 'count': 12661},\n 'canning': {'sum': 47884, 'count': 12189},\n 'cantonese': {'sum': 40804, 'count': 11452},\n 'caribbean': {'sum': 50395, 'count': 12590},\n 'carrots': {'sum': 58023, 'count': 13392},\n 'casseroles': {'sum': 80744, 'count': 15183},\n 'catfish': {'sum': 40437, 'count': 11310},\n 'cauliflower': {'sum': 46413, 'count': 12003},\n 'celebrity': {'sum': 43271, 'count': 11479},\n 'central-american': {'sum': 52076, 'count': 12754},\n 'chard': {'sum': 40924, 'count': 11418},\n 'cheese': {'sum': 134416, 'count': 20478},\n 'cheesecake': {'sum': 54881, 'count': 12234},\n 'cherries': {'sum': 43599, 'count': 11723},\n 'chick-peas-garbanzos': {'sum': 45542, 'count': 11950},\n 'chicken': {'sum': 175784, 'count': 24033},\n 'chicken-breasts': {'sum': 94119, 'count': 16374},\n 'chicken-crock-pot': {'sum': 40526, 'count': 11585},\n 'chicken-livers': {'sum': 40927, 'count': 11489},\n 'chicken-stew': {'sum': 39245, 'count': 11234},\n 'chicken-stews': {'sum': 39630, 'count': 11270},\n 'chicken-thighs-legs': {'sum': 50511, 'count': 12321},\n 'chilean': {'sum': 40106, 'count': 11378},\n 'chili': {'sum': 48717, 'count': 12359},\n 'chinese': {'sum': 54144, 'count': 12511},\n 'chinese-new-year': {'sum': 40238, 'count': 11471},\n 'chocolate': {'sum': 107563, 'count': 17112},\n 'chocolate-chip-cookies': {'sum': 39491, 'count': 11284},\n 'chowders': {'sum': 46515, 'count': 12127},\n 'christmas': {'sum': 96448, 'count': 16388},\n 'chutneys': {'sum': 40682, 'count': 11472},\n 'cinco-de-mayo': {'sum': 39883, 'count': 11256},\n 'citrus': {'sum': 62645, 'count': 13856},\n 'clams': {'sum': 42440, 'count': 11679},\n 'clear-soups': {'sum': 42415, 'count': 11496},\n 'cobblers-and-crisps': {'sum': 46265, 'count': 11935},\n 'cocktails': {'sum': 50796, 'count': 14155},\n 'coconut': {'sum': 50445, 'count': 12473},\n 'cod': {'sum': 43497, 'count': 11847},\n 'coffee-cakes': {'sum': 48720, 'count': 12032},\n 'collard-greens': {'sum': 39598, 'count': 11141},\n 'college': {'sum': 40353, 'count': 11502},\n 'colombian': {'sum': 39463, 'count': 11228},\n 'comfort-food': {'sum': 207841, 'count': 27584},\n 'condiments-etc': {'sum': 88756, 'count': 18645},\n 'congolese': {'sum': 38950, 'count': 11087},\n 'cookies-and-brownies': {'sum': 127997, 'count': 18859},\n 'cooking-mixes': {'sum': 42712, 'count': 11845},\n 'copycat': {'sum': 53654, 'count': 12687},\n 'corn': {'sum': 52964, 'count': 13025},\n 'costa-rican': {'sum': 40107, 'count': 11353},\n 'course': {'sum': 1374559, 'count': 148198},\n 'crab': {'sum': 49229, 'count': 12485},\n 'cranberry-sauce': {'sum': 39407, 'count': 11327},\n 'crawfish': {'sum': 39798, 'count': 11227},\n 'creole': {'sum': 44565, 'count': 11650},\n 'crock-pot-main-dish': {'sum': 39281, 'count': 11175},\n 'crock-pot-slow-cooker': {'sum': 71818, 'count': 15213},\n 'crusts-pastry-dough-2': {'sum': 42837, 'count': 11603},\n 'cuban': {'sum': 40655, 'count': 11436},\n 'cuisine': {'sum': 629147, 'count': 68778},\n 'cupcakes': {'sum': 47081, 'count': 11942},\n 'curries': {'sum': 48872, 'count': 12150},\n 'czech': {'sum': 40546, 'count': 11444},\n 'dairy-free': {'sum': 40900, 'count': 11547},\n 'danish': {'sum': 40590, 'count': 11402},\n 'deep-fry': {'sum': 47377, 'count': 11942},\n 'deer': {'sum': 41567, 'count': 11570},\n 'dehydrator': {'sum': 40277, 'count': 11434},\n 'desserts': {'sum': 346425, 'count': 38314},\n 'desserts-easy': {'sum': 39392, 'count': 11250},\n 'desserts-fruit': {'sum': 39065, 'count': 11233},\n 'diabetic': {'sum': 74739, 'count': 15381},\n 'dietary': {'sum': 1007614, 'count': 114264},\n 'dinner-party': {'sum': 285968, 'count': 34756},\n 'dips': {'sum': 55911, 'count': 13987},\n 'dips-lunch-snacks': {'sum': 39586, 'count': 11377},\n 'dips-summer': {'sum': 39415, 'count': 11395},\n 'drop-cookies': {'sum': 57153, 'count': 13112},\n 'duck': {'sum': 41921, 'count': 11696},\n 'duck-breasts': {'sum': 41167, 'count': 11631},\n 'dutch': {'sum': 40372, 'count': 11195},\n 'easter': {'sum': 56795, 'count': 12756},\n 'easy': {'sum': 657381, 'count': 90705},\n 'ecuadorean': {'sum': 40431, 'count': 11547},\n 'egg-free': {'sum': 68810, 'count': 14385},\n 'eggplant': {'sum': 40186, 'count': 11269},\n 'eggs': {'sum': 99077, 'count': 16798},\n 'eggs-breakfast': {'sum': 40203, 'count': 11632},\n 'eggs-dairy': {'sum': 227960, 'count': 30028},\n 'egyptian': {'sum': 39199, 'count': 11011},\n 'elbow-macaroni': {'sum': 49515, 'count': 12223},\n 'elk': {'sum': 39571, 'count': 11304},\n 'english': {'sum': 51458, 'count': 12386},\n 'equipment': {'sum': 475024, 'count': 55507},\n 'ethiopian': {'sum': 38973, 'count': 11244},\n 'european': {'sum': 216312, 'count': 27013},\n 'fall': {'sum': 90342, 'count': 16186},\n 'fathers-day': {'sum': 39163, 'count': 11255},\n 'filipino': {'sum': 40715, 'count': 11426},\n 'fillings-and-frostings-chocolate': {'sum': 39935, 'count': 11367},\n 'finger-food': {'sum': 81236, 'count': 15315},\n 'finnish': {'sum': 40167, 'count': 11305},\n 'fish': {'sum': 84169, 'count': 15840},\n 'flat-shapes': {'sum': 45002, 'count': 11768},\n 'food-processor-blender': {'sum': 64641, 'count': 14524},\n 'for-1-or-2': {'sum': 140311, 'count': 25686},\n 'for-large-groups': {'sum': 161021, 'count': 22076},\n 'for-large-groups-holiday-event': {'sum': 38536, 'count': 10990},\n 'free-of-something': {'sum': 107734, 'count': 18729},\n 'freezer': {'sum': 50175, 'count': 12559},\n 'french': {'sum': 57824, 'count': 12873},\n 'freshwater-fish': {'sum': 45101, 'count': 11859},\n 'from-scratch': {'sum': 62058, 'count': 13166},\n 'frozen-desserts': {'sum': 50631, 'count': 12603},\n 'fruit': {'sum': 224533, 'count': 30735},\n 'fudge': {'sum': 43617, 'count': 11667},\n 'garnishes': {'sum': 42304, 'count': 11663},\n 'gelatin': {'sum': 43934, 'count': 11654},\n 'georgian': {'sum': 39763, 'count': 11327},\n 'german': {'sum': 49806, 'count': 12238},\n 'gifts': {'sum': 87737, 'count': 15772},\n 'gluten-free': {'sum': 70258, 'count': 14753},\n 'goose': {'sum': 38937, 'count': 11138},\n 'grains': {'sum': 78104, 'count': 15083},\n 'granola-and-porridge': {'sum': 44703, 'count': 11968},\n 'grapes': {'sum': 40428, 'count': 11341},\n 'greek': {'sum': 55716, 'count': 12835},\n 'green-yellow-beans': {'sum': 46021, 'count': 11867},\n 'greens': {'sum': 65381, 'count': 13918},\n 'grilling': {'sum': 68138, 'count': 14281},\n 'ground-beef': {'sum': 91644, 'count': 16422},\n 'guatemalan': {'sum': 40031, 'count': 11512},\n 'gumbo': {'sum': 40405, 'count': 11202},\n 'halibut': {'sum': 40633, 'count': 11323},\n 'halloween': {'sum': 43350, 'count': 11614},\n 'halloween-cakes': {'sum': 39646, 'count': 11391},\n 'halloween-cocktails': {'sum': 39063, 'count': 11158},\n 'halloween-cupcakes': {'sum': 39992, 'count': 11355},\n 'ham': {'sum': 49083, 'count': 12308},\n 'ham-and-bean-soup': {'sum': 39507, 'count': 11287},\n 'hand-formed-cookies': {'sum': 52646, 'count': 12354},\n 'hanukkah': {'sum': 44338, 'count': 11753},\n 'hawaiian': {'sum': 42058, 'count': 11481},\n 'healthy': {'sum': 262071, 'count': 36967},\n 'healthy-2': {'sum': 176823, 'count': 27695},\n 'heirloom-historical': {'sum': 71164, 'count': 14027},\n 'heirloom-historical-recipes': {'sum': 40475, 'count': 11425},\n 'herb-and-spice-mixes': {'sum': 40980, 'count': 11576},\n 'hidden-valley-ranch': {'sum': 40402, 'count': 11414},\n 'high-calcium': {'sum': 65126, 'count': 14462},\n 'high-fiber': {'sum': 40012, 'count': 11403},\n 'high-in-something': {'sum': 101205, 'count': 18641},\n 'high-in-something-diabetic-friendly': {'sum': 38385, 'count': 11012},\n 'high-protein': {'sum': 79709, 'count': 15757},\n 'holiday-event': {'sum': 275018, 'count': 33435},\n 'honduran': {'sum': 39438, 'count': 11298},\n 'hunan': {'sum': 39068, 'count': 11093},\n 'hungarian': {'sum': 41986, 'count': 11428},\n 'ice-cream': {'sum': 38922, 'count': 11178},\n 'icelandic': {'sum': 39923, 'count': 11392},\n 'independence-day': {'sum': 52411, 'count': 12823},\n 'indian': {'sum': 58125, 'count': 12928},\n 'indonesian': {'sum': 41950, 'count': 11623},\n 'inexpensive': {'sum': 222629, 'count': 31951},\n 'infant-baby-friendly': {'sum': 41696, 'count': 11594},\n 'iranian-persian': {'sum': 42449, 'count': 11606},\n 'iraqi': {'sum': 40242, 'count': 11435},\n 'irish': {'sum': 43962, 'count': 11614},\n 'irish-st-patricks-day': {'sum': 39371, 'count': 11139},\n 'italian': {'sum': 94147, 'count': 16079},\n 'jams-and-preserves': {'sum': 45961, 'count': 11838},\n 'japanese': {'sum': 45076, 'count': 11895},\n 'jellies': {'sum': 41124, 'count': 11423},\n 'jewish-ashkenazi': {'sum': 44620, 'count': 11657},\n 'jewish-sephardi': {'sum': 40150, 'count': 11253},\n 'kid-friendly': {'sum': 200061, 'count': 28147},\n 'kiwifruit': {'sum': 40163, 'count': 11359},\n 'korean': {'sum': 41821, 'count': 11755},\n 'kosher': {'sum': 67414, 'count': 14042},\n 'kwanzaa': {'sum': 41665, 'count': 11560},\n 'labor-day': {'sum': 39721, 'count': 11229},\n 'lactose': {'sum': 62603, 'count': 13797},\n 'lamb-sheep': {'sum': 51177, 'count': 12374},\n 'lamb-sheep-main-dish': {'sum': 38899, 'count': 11160},\n 'laotian': {'sum': 40533, 'count': 11606},\n 'lasagna': {'sum': 47942, 'count': 11762},\n 'lasagne': {'sum': 40580, 'count': 11499},\n 'lebanese': {'sum': 40641, 'count': 11351},\n 'leftovers': {'sum': 41441, 'count': 11449},\n 'lemon': {'sum': 50497, 'count': 12366},\n 'lentils': {'sum': 47053, 'count': 11995},\n 'less_thansql:name_topics_of_recipegreater_than': {'sum': 39019,\n  'count': 11212},\n 'lettuces': {'sum': 44194, 'count': 11912},\n 'libyan': {'sum': 40220, 'count': 11446},\n 'lime': {'sum': 43045, 'count': 11671},\n 'lobster': {'sum': 41403, 'count': 11440},\n 'long-grain-rice': {'sum': 46738, 'count': 11964},\n 'low-calorie': {'sum': 226862, 'count': 33789},\n 'low-carb': {'sum': 272360, 'count': 37543},\n 'low-cholesterol': {'sum': 227358, 'count': 34188},\n 'low-fat': {'sum': 148985, 'count': 25034},\n 'low-in-something': {'sum': 521279, 'count': 64598},\n 'low-protein': {'sum': 199083, 'count': 31587},\n 'low-saturated-fat': {'sum': 197944, 'count': 30657},\n 'low-sodium': {'sum': 283741, 'count': 38285},\n 'lunch': {'sum': 173935, 'count': 26028},\n 'macaroni-and-cheese': {'sum': 40381, 'count': 11488},\n 'mahi-mahi': {'sum': 41211, 'count': 11592},\n 'main-dish': {'sum': 528322, 'count': 56133},\n 'main-dish-beef': {'sum': 39569, 'count': 11312},\n 'main-dish-chicken': {'sum': 39625, 'count': 11383},\n 'main-dish-pasta': {'sum': 39186, 'count': 11264},\n 'main-dish-pork': {'sum': 40076, 'count': 11300},\n 'main-dish-seafood': {'sum': 40146, 'count': 11424},\n 'main-ingredient': {'sum': 1100623, 'count': 117942},\n 'malaysian': {'sum': 40782, 'count': 11383},\n 'mango': {'sum': 43912, 'count': 11989},\n 'manicotti': {'sum': 41325, 'count': 11348},\n 'mardi-gras-carnival': {'sum': 40831, 'count': 11408},\n 'marinades-and-rubs': {'sum': 44232, 'count': 12255},\n 'marinara-sauce': {'sum': 38865, 'count': 11097},\n 'mashed-potatoes': {'sum': 41202, 'count': 11643},\n 'meat': {'sum': 415803, 'count': 46719},\n 'meatballs': {'sum': 39950, 'count': 11286},\n 'meatloaf': {'sum': 39911, 'count': 11285},\n 'medium-grain-rice': {'sum': 40821, 'count': 11427},\n 'melons': {'sum': 43414, 'count': 12045},\n 'memorial-day': {'sum': 40082, 'count': 11357},\n 'mexican': {'sum': 83271, 'count': 15573},\n 'micro-melanesia': {'sum': 39689, 'count': 11293},\n 'microwave': {'sum': 51740, 'count': 12744},\n 'middle-eastern': {'sum': 52887, 'count': 12722},\n 'middle-eastern-main-dish': {'sum': 39025, 'count': 11260},\n 'midwestern': {'sum': 58184, 'count': 13324},\n 'mixer': {'sum': 52676, 'count': 12273},\n 'mongolian': {'sum': 40224, 'count': 11321},\n 'moose': {'sum': 40110, 'count': 11309},\n 'moroccan': {'sum': 45275, 'count': 11800},\n 'mothers-day': {'sum': 40792, 'count': 11577},\n 'muffins': {'sum': 55971, 'count': 13080},\n 'mushroom-soup': {'sum': 38916, 'count': 11156},\n 'mushrooms': {'sum': 62431, 'count': 13258},\n 'mussels': {'sum': 40643, 'count': 11447},\n 'namibian': {'sum': 39782, 'count': 11401},\n 'native-american': {'sum': 41201, 'count': 11511},\n 'nepalese': {'sum': 39964, 'count': 11279},\n 'new-years': {'sum': 54127, 'count': 12565},\n 'new-zealand': {'sum': 44249, 'count': 12032},\n 'nigerian': {'sum': 40033, 'count': 11540},\n 'no-cook': {'sum': 59600, 'count': 15170},\n 'no-shell-fish': {'sum': 40710, 'count': 11387},\n 'non-alcoholic': {'sum': 41270, 'count': 11591},\n 'north-american': {'sum': 342384, 'count': 41714},\n 'northeastern-united-states': {'sum': 55914, 'count': 12878},\n 'norwegian': {'sum': 40521, 'count': 11394},\n 'novelty': {'sum': 69249, 'count': 14443},\n 'number-of-servings': {'sum': 380015, 'count': 48227},\n 'nut-free': {'sum': 41432, 'count': 11617},\n 'nuts': {'sum': 87052, 'count': 15746},\n 'oamc-freezer-make-ahead': {'sum': 69948, 'count': 13797},\n 'oatmeal': {'sum': 39332, 'count': 11291},\n 'oaxacan': {'sum': 40102, 'count': 11411},\n 'occasion': {'sum': 755036, 'count': 82491},\n 'octopus': {'sum': 39213, 'count': 11229},\n 'omelets-and-frittatas': {'sum': 47643, 'count': 12045},\n 'one-dish-meal': {'sum': 151413, 'count': 21625},\n 'onions': {'sum': 72471, 'count': 14496},\n 'ontario': {'sum': 44398, 'count': 11853},\n 'orange-roughy': {'sum': 39349, 'count': 11200},\n 'oranges': {'sum': 47298, 'count': 12225},\n 'oven': {'sum': 256208, 'count': 30696},\n 'oysters': {'sum': 40914, 'count': 11474},\n 'pacific-northwest': {'sum': 46147, 'count': 12224},\n 'pakistani': {'sum': 40660, 'count': 11417},\n 'palestinian': {'sum': 40405, 'count': 11502},\n 'pancakes-and-waffles': {'sum': 53325, 'count': 12790},\n 'papaya': {'sum': 40511, 'count': 11409},\n 'passover': {'sum': 41816, 'count': 11495},\n 'pasta': {'sum': 129630, 'count': 19657},\n 'pasta-elbow-macaroni': {'sum': 39597, 'count': 11359},\n 'pasta-rice-and-grains': {'sum': 220459, 'count': 28286},\n 'pasta-rice-and-grains-elbow-macaroni': {'sum': 39532, 'count': 11365},\n 'pasta-salad': {'sum': 39702, 'count': 11359},\n 'pasta-shells': {'sum': 43188, 'count': 11689},\n 'peaches': {'sum': 44859, 'count': 11953},\n 'peanut-butter': {'sum': 40884, 'count': 11416},\n 'pears': {'sum': 45085, 'count': 12016},\n 'penne': {'sum': 47517, 'count': 12128},\n 'pennsylvania-dutch': {'sum': 40771, 'count': 11494},\n 'peppers': {'sum': 59270, 'count': 13179},\n 'perch': {'sum': 40662, 'count': 11655},\n 'peruvian': {'sum': 40163, 'count': 11187},\n 'pheasant': {'sum': 40080, 'count': 11340},\n 'pickeral': {'sum': 40281, 'count': 11454},\n 'picnic': {'sum': 82597, 'count': 16413},\n 'pies': {'sum': 64407, 'count': 13494},\n 'pies-and-tarts': {'sum': 74185, 'count': 14290},\n 'pineapple': {'sum': 49455, 'count': 12572},\n 'pitted-fruit': {'sum': 50862, 'count': 12360},\n 'pizza': {'sum': 50601, 'count': 12270},\n 'plums': {'sum': 39584, 'count': 11231},\n 'polish': {'sum': 42912, 'count': 11739},\n 'polynesian': {'sum': 40344, 'count': 11444},\n 'pork': {'sum': 124020, 'count': 19304},\n 'pork-chops': {'sum': 50069, 'count': 12230},\n 'pork-crock-pot': {'sum': 39293, 'count': 11197},\n 'pork-loin': {'sum': 39462, 'count': 11364},\n 'pork-loins': {'sum': 48274, 'count': 12062},\n 'pork-loins-roast': {'sum': 39455, 'count': 11183},\n 'pork-ribs': {'sum': 42690, 'count': 11605},\n 'pork-sausage': {'sum': 54288, 'count': 12619},\n 'portuguese': {'sum': 42712, 'count': 11674},\n 'pot-pie': {'sum': 40607, 'count': 11547},\n 'pot-roast': {'sum': 39476, 'count': 11401},\n 'potatoes': {'sum': 105491, 'count': 17808},\n 'potluck': {'sum': 102434, 'count': 17891},\n 'poultry': {'sum': 203164, 'count': 26573},\n 'preparation': {'sum': 1440124, 'count': 155273},\n 'prepared-potatoes': {'sum': 39276, 'count': 11150},\n 'presentation': {'sum': 192418, 'count': 26638},\n 'pressure-canning': {'sum': 40082, 'count': 11332},\n 'pressure-cooker': {'sum': 43216, 'count': 11789},\n 'puddings-and-mousses': {'sum': 55080, 'count': 12772},\n 'puerto-rican': {'sum': 40405, 'count': 11372},\n 'pumpkin': {'sum': 40543, 'count': 11387},\n 'pumpkin-bread': {'sum': 39760, 'count': 11274},\n 'punch': {'sum': 44024, 'count': 12209},\n 'quail': {'sum': 40451, 'count': 11563},\n 'quebec': {'sum': 41363, 'count': 11528},\n 'quiche': {'sum': 40147, 'count': 11290},\n 'quick-breads': {'sum': 75318, 'count': 15000},\n 'rabbit': {'sum': 39896, 'count': 11298},\n 'ragu-recipe-contest': {'sum': 39216, 'count': 11185},\n 'ramadan': {'sum': 40880, 'count': 11385},\n 'raspberries': {'sum': 46776, 'count': 11935},\n 'ravioli-tortellini': {'sum': 44472, 'count': 11934},\n 'refrigerator': {'sum': 66885, 'count': 14289},\n 'reynolds-wrap': {'sum': 41412, 'count': 11615},\n 'rice': {'sum': 77861, 'count': 15151},\n 'roast': {'sum': 47451, 'count': 11776},\n 'roast-beef': {'sum': 47676, 'count': 11978},\n 'roast-beef-comfort-food': {'sum': 39474, 'count': 11156},\n 'roast-beef-main-dish': {'sum': 38967, 'count': 11031},\n 'rolled-cookies': {'sum': 46700, 'count': 11807},\n 'rolls-biscuits': {'sum': 54763, 'count': 12571},\n 'romantic': {'sum': 76643, 'count': 14746},\n 'rosh-hashana': {'sum': 42720, 'count': 11636},\n 'rosh-hashanah': {'sum': 40450, 'count': 11411},\n 'russian': {'sum': 43684, 'count': 11684},\n 'salad-dressings': {'sum': 46825, 'count': 12703},\n 'salads': {'sum': 103373, 'count': 20458},\n 'salmon': {'sum': 53817, 'count': 12765},\n 'salsas': {'sum': 41652, 'count': 11553},\n 'saltwater-fish': {'sum': 71982, 'count': 14821},\n 'sandwiches': {'sum': 70411, 'count': 14898},\n 'sauces': {'sum': 62644, 'count': 15027},\n 'saudi-arabian': {'sum': 39231, 'count': 11110},\n 'savory': {'sum': 107990, 'count': 17993},\n 'savory-pies': {'sum': 52754, 'count': 12233},\n 'savory-sauces': {'sum': 48116, 'count': 12541},\n 'scallops': {'sum': 43642, 'count': 11508},\n 'scandinavian': {'sum': 47567, 'count': 12067},\n 'scones': {'sum': 44826, 'count': 11814},\n 'scottish': {'sum': 44536, 'count': 11576},\n 'seafood': {'sum': 132507, 'count': 20910},\n 'seasonal': {'sum': 172193, 'count': 24971},\n 'served-cold': {'sum': 78742, 'count': 16187},\n 'served-hot': {'sum': 120683, 'count': 18776},\n 'served-hot-new-years': {'sum': 38865, 'count': 11137},\n 'shakes': {'sum': 41660, 'count': 11739},\n 'shellfish': {'sum': 85374, 'count': 15818},\n 'short-grain-rice': {'sum': 42034, 'count': 11429},\n 'shrimp': {'sum': 68347, 'count': 14195},\n 'shrimp-main-dish': {'sum': 39627, 'count': 11326},\n 'side-dishes': {'sum': 185733, 'count': 27870},\n 'side-dishes-beans': {'sum': 39490, 'count': 11231},\n 'simply-potatoes': {'sum': 41397, 'count': 11421},\n 'simply-potatoes2': {'sum': 39517, 'count': 11289},\n 'small-appliance': {'sum': 87866, 'count': 16869},\n 'smoker': {'sum': 40686, 'count': 11303},\n 'smoothies': {'sum': 43237, 'count': 12367},\n 'snacks': {'sum': 79618, 'count': 15949},\n 'snacks-kid-friendly': {'sum': 38916, 'count': 11190},\n 'snacks-sweet': {'sum': 38717, 'count': 11086},\n 'sole-and-flounder': {'sum': 40532, 'count': 11396},\n 'somalian': {'sum': 40279, 'count': 11500},\n 'soul': {'sum': 40461, 'count': 11415},\n 'soups-stews': {'sum': 108498, 'count': 18370},\n 'sourdough': {'sum': 40015, 'count': 11231},\n 'south-african': {'sum': 42232, 'count': 11531},\n 'south-american': {'sum': 47552, 'count': 11994},\n 'south-west-pacific': {'sum': 60440, 'count': 13834},\n 'southern-united-states': {'sum': 84483, 'count': 15990},\n 'southwestern-united-states': {'sum': 60737, 'count': 13517},\n 'soy-tofu': {'sum': 48054, 'count': 12206},\n 'spaghetti': {'sum': 50850, 'count': 12296},\n 'spaghetti-sauce': {'sum': 39281, 'count': 11197},\n 'spanish': {'sum': 46424, 'count': 12111},\n 'spicy': {'sum': 89112, 'count': 16436},\n 'spinach': {'sum': 51704, 'count': 12341},\n 'spreads': {'sum': 48870, 'count': 12775},\n 'spring': {'sum': 62989, 'count': 13876},\n 'squash': {'sum': 62948, 'count': 13514},\n 'squid': {'sum': 40514, 'count': 11420},\n 'st-patricks-day': {'sum': 44995, 'count': 11871},\n 'steak': {'sum': 47402, 'count': 12052},\n 'steaks': {'sum': 45949, 'count': 11870},\n 'steam': {'sum': 43347, 'count': 11762},\n 'stews': {'sum': 51335, 'count': 12493},\n 'stews-poultry': {'sum': 40692, 'count': 11591},\n 'stir-fry': {'sum': 52214, 'count': 12459},\n 'stocks': {'sum': 42415, 'count': 11584},\n 'stove-top': {'sum': 185364, 'count': 25548},\n 'strawberries': {'sum': 51822, 'count': 12568},\n 'stuffings-dressings': {'sum': 43783, 'count': 11704},\n 'sudanese': {'sum': 39439, 'count': 11364},\n 'sugar-cookies': {'sum': 40603, 'count': 11481},\n 'summer': {'sum': 93376, 'count': 17678},\n 'super-bowl': {'sum': 41335, 'count': 11484},\n 'superbowl': {'sum': 50999, 'count': 12539},\n 'swedish': {'sum': 42896, 'count': 11808},\n 'sweet': {'sum': 109759, 'count': 18020},\n 'sweet-sauces': {'sum': 43641, 'count': 11982},\n 'swiss': {'sum': 42414, 'count': 11550},\n 'szechuan': {'sum': 40509, 'count': 11349},\n 'tarts': {'sum': 42779, 'count': 11391},\n 'taste-mood': {'sum': 375496, 'count': 44379},\n 'technique': {'sum': 99887, 'count': 18809},\n 'tempeh': {'sum': 39069, 'count': 11151},\n 'tex-mex': {'sum': 48635, 'count': 12321},\n 'thai': {'sum': 47331, 'count': 12108},\n 'thanksgiving': {'sum': 69313, 'count': 13974},\n 'tilapia': {'sum': 41646, 'count': 11495},\n 'time-to-make': {'sum': 1413676, 'count': 152474},\n 'to-go': {'sum': 147778, 'count': 22977},\n 'toddler-friendly': {'sum': 65625, 'count': 14391},\n 'tomatoes': {'sum': 72808, 'count': 14984},\n 'tropical-fruit': {'sum': 67709, 'count': 14673},\n 'trout': {'sum': 41103, 'count': 11647},\n 'tuna': {'sum': 48013, 'count': 12381},\n 'turkey': {'sum': 57826, 'count': 12860},\n 'turkey-breasts': {'sum': 41232, 'count': 11468},\n 'turkey-burgers': {'sum': 40018, 'count': 11514},\n 'turkish': {'sum': 41312, 'count': 11501},\n 'unprocessed-freezer': {'sum': 39004, 'count': 11177},\n 'valentines-day': {'sum': 59140, 'count': 13110},\n 'veal': {'sum': 42907, 'count': 11593},\n 'vegan': {'sum': 90951, 'count': 17398},\n 'vegetables': {'sum': 363006, 'count': 45079},\n 'vegetarian': {'sum': 241083, 'count': 33557},\n 'veggie-burgers': {'sum': 39883, 'count': 11354},\n 'venezuelan': {'sum': 39432, 'count': 11202},\n 'very-low-carbs': {'sum': 89992, 'count': 16961},\n 'vietnamese': {'sum': 42419, 'count': 11514},\n 'water-bath': {'sum': 42481, 'count': 11413},\n 'wedding': {'sum': 45633, 'count': 11780},\n 'weeknight': {'sum': 181073, 'count': 24450},\n 'welsh': {'sum': 41418, 'count': 11563},\n 'white-rice': {'sum': 46404, 'count': 12061},\n 'whitefish': {'sum': 39229, 'count': 11213},\n 'whole-chicken': {'sum': 47752, 'count': 11821},\n 'whole-duck': {'sum': 39962, 'count': 11375},\n 'whole-turkey': {'sum': 41630, 'count': 11310},\n 'wild-game': {'sum': 42835, 'count': 11573},\n 'wings': {'sum': 43554, 'count': 11703},\n 'winter': {'sum': 88991, 'count': 16355},\n 'yams-sweet-potatoes': {'sum': 49052, 'count': 12253},\n 'yeast': {'sum': 67292, 'count': 13095},\n 'zucchini': {'sum': 41075, 'count': 11440}}"
     },
     "execution_count": 30,
     "metadata": {},
     "output_type": "execute_result"
    }
   ],
   "source": [
    "tags_sum_count_1 = get_tag_sum_count_from_file('new_data/tag_nsteps_1.csv')\n",
    "tags_sum_count_2 = get_tag_sum_count_from_file('new_data/tag_nsteps_2.csv')\n",
    "tags_sum_count_3 = get_tag_sum_count_from_file('new_data/tag_nsteps_3.csv')\n",
    "tags_sum_count_4 = get_tag_sum_count_from_file('new_data/tag_nsteps_4.csv')\n",
    "tags_sum_count_5 = get_tag_sum_count_from_file('new_data/tag_nsteps_5.csv')\n",
    "tags_sum_count_6 = get_tag_sum_count_from_file('new_data/tag_nsteps_6.csv')\n",
    "tags_sum_count_7 = get_tag_sum_count_from_file('new_data/tag_nsteps_7.csv')\n",
    "tags_sum_count_8 = get_tag_sum_count_from_file('new_data/tag_nsteps_8.csv')\n",
    "tags_sum_count_1"
   ],
   "metadata": {
    "collapsed": false,
    "pycharm": {
     "name": "#%%\n"
    }
   }
  },
  {
   "cell_type": "code",
   "execution_count": 31,
   "outputs": [
    {
     "data": {
      "text/plain": "{'sum': 347663, 'count': 45422}"
     },
     "execution_count": 31,
     "metadata": {},
     "output_type": "execute_result"
    }
   ],
   "source": [
    "tags_sum_count_1['30-minutes-or-less']"
   ],
   "metadata": {
    "collapsed": false,
    "pycharm": {
     "name": "#%%\n"
    }
   }
  },
  {
   "cell_type": "code",
   "execution_count": 32,
   "outputs": [
    {
     "data": {
      "text/plain": "{'sum': 348230, 'count': 45827}"
     },
     "execution_count": 32,
     "metadata": {},
     "output_type": "execute_result"
    }
   ],
   "source": [
    "tags_sum_count_2['30-minutes-or-less']"
   ],
   "metadata": {
    "collapsed": false,
    "pycharm": {
     "name": "#%%\n"
    }
   }
  },
  {
   "cell_type": "code",
   "execution_count": 33,
   "outputs": [
    {
     "data": {
      "text/plain": "{'sum': 352485, 'count': 46136}"
     },
     "execution_count": 33,
     "metadata": {},
     "output_type": "execute_result"
    }
   ],
   "source": [
    "tags_sum_count_3['30-minutes-or-less']"
   ],
   "metadata": {
    "collapsed": false,
    "pycharm": {
     "name": "#%%\n"
    }
   }
  },
  {
   "cell_type": "code",
   "execution_count": 34,
   "outputs": [
    {
     "data": {
      "text/plain": "{'sum': 346169, 'count': 45423}"
     },
     "execution_count": 34,
     "metadata": {},
     "output_type": "execute_result"
    }
   ],
   "source": [
    "tags_sum_count_4['30-minutes-or-less']"
   ],
   "metadata": {
    "collapsed": false,
    "pycharm": {
     "name": "#%%\n"
    }
   }
  },
  {
   "cell_type": "code",
   "execution_count": 35,
   "outputs": [
    {
     "data": {
      "text/plain": "{'sum': 344724, 'count': 45414}"
     },
     "execution_count": 35,
     "metadata": {},
     "output_type": "execute_result"
    }
   ],
   "source": [
    "tags_sum_count_5['30-minutes-or-less']"
   ],
   "metadata": {
    "collapsed": false,
    "pycharm": {
     "name": "#%%\n"
    }
   }
  },
  {
   "cell_type": "code",
   "execution_count": 36,
   "outputs": [
    {
     "data": {
      "text/plain": "{'sum': 349181, 'count': 45883}"
     },
     "execution_count": 36,
     "metadata": {},
     "output_type": "execute_result"
    }
   ],
   "source": [
    "tags_sum_count_6['30-minutes-or-less']"
   ],
   "metadata": {
    "collapsed": false,
    "pycharm": {
     "name": "#%%\n"
    }
   }
  },
  {
   "cell_type": "code",
   "execution_count": 37,
   "outputs": [
    {
     "data": {
      "text/plain": "{'sum': 345148, 'count': 45606}"
     },
     "execution_count": 37,
     "metadata": {},
     "output_type": "execute_result"
    }
   ],
   "source": [
    "tags_sum_count_7['30-minutes-or-less']"
   ],
   "metadata": {
    "collapsed": false,
    "pycharm": {
     "name": "#%%\n"
    }
   }
  },
  {
   "cell_type": "code",
   "execution_count": 38,
   "outputs": [
    {
     "data": {
      "text/plain": "{'sum': 349605, 'count': 46071}"
     },
     "execution_count": 38,
     "metadata": {},
     "output_type": "execute_result"
    }
   ],
   "source": [
    "tags_sum_count_8['30-minutes-or-less']"
   ],
   "metadata": {
    "collapsed": false,
    "pycharm": {
     "name": "#%%\n"
    }
   }
  },
  {
   "cell_type": "code",
   "execution_count": 40,
   "outputs": [],
   "source": [
    "list_dict_tags_sum_count = [tags_sum_count_1, tags_sum_count_2, tags_sum_count_3, tags_sum_count_4,\n",
    "                            tags_sum_count_5, tags_sum_count_6, tags_sum_count_7, tags_sum_count_8]"
   ],
   "metadata": {
    "collapsed": false,
    "pycharm": {
     "name": "#%%\n"
    }
   }
  },
  {
   "cell_type": "markdown",
   "metadata": {
    "pycharm": {
     "name": "#%% md\n"
    }
   },
   "source": [
    "3\\. Напишите функцию, которая объединяет результаты обработки отдельных файлов. Данная функция принимает на вход список словарей, каждый из которых является результатом вызова функции `get_tag_sum_count_from_file` для конкретного файла, и агрегирует эти словари. Не используйте параллельных вычислений.\n",
    "\n",
    "Процедура агрегации словарей имеет следующий вид:\n",
    "$$d_{agg}[k] = \\{sum: \\sum_{i=1}^{n}d_{i}[k][sum], count: \\sum_{i=1}^{n}d_{i}[k][count]\\}$$\n",
    "где $d_1, d_2, ..., d_n$- результат вызова функции `get_tag_sum_count_from_file` для конкретных файлов.\n",
    "\n",
    "Примените данную функцию к результату выполнения задания 2. Выведите на экран результат для тэга \"30-minutes-or-less\"."
   ]
  },
  {
   "cell_type": "code",
   "execution_count": 43,
   "metadata": {
    "pycharm": {
     "name": "#%%\n"
    }
   },
   "outputs": [],
   "source": [
    "def agg_results(tag_sum_count_list: list) -> dict:\n",
    "    list_keys_all = []\n",
    "\n",
    "    for dic in tag_sum_count_list:\n",
    "        list_keys_all += list(dic.keys())\n",
    "    list_keys_all = list(set(list_keys_all))\n",
    "    dict_keys_all = {key: {'sum': 0, 'count': 0} for key in list_keys_all}\n",
    "\n",
    "    for inner_dic in tag_sum_count_list:\n",
    "        for k, v in inner_dic.items():\n",
    "            dict_keys_all[k]['sum'] += v['sum']\n",
    "            dict_keys_all[k]['count'] += v['count']\n",
    "    return dict_keys_all"
   ]
  },
  {
   "cell_type": "code",
   "execution_count": 44,
   "outputs": [],
   "source": [
    "all_results_list_dict_tags_sum_count = agg_results(list_dict_tags_sum_count)"
   ],
   "metadata": {
    "collapsed": false,
    "pycharm": {
     "name": "#%%\n"
    }
   }
  },
  {
   "cell_type": "code",
   "execution_count": 45,
   "outputs": [
    {
     "data": {
      "text/plain": "{'sum': 2783205, 'count': 365782}"
     },
     "execution_count": 45,
     "metadata": {},
     "output_type": "execute_result"
    }
   ],
   "source": [
    "all_results_list_dict_tags_sum_count['30-minutes-or-less']"
   ],
   "metadata": {
    "collapsed": false,
    "pycharm": {
     "name": "#%%\n"
    }
   }
  },
  {
   "cell_type": "markdown",
   "metadata": {
    "pycharm": {
     "name": "#%% md\n"
    }
   },
   "source": [
    "4\\. Напишите функцию, которая считает среднее значение количества шагов для каждого тэга в словаре, имеющего вид, аналогичный словарям в задаче 2, и возвращает результат в виде словаря . Используйте решения задач 1-3, чтобы получить среднее значение количества шагов каждого тэга для всего датасета, имея результаты обработки частей датасета и результат их агрегации. Выведите на экран результат для тэга \"30-minutes-or-less\".\n",
    "\n",
    "Определите, за какое время задача решается для всего датасета. При замере времени учитывайте время расчета статистики для каждого файла, агрегации результатов и, собственно, вычисления средного. Временем, затрачиваемым на процедуру разбиения исходного файла можно пренебречь."
   ]
  },
  {
   "cell_type": "code",
   "execution_count": 47,
   "metadata": {
    "pycharm": {
     "name": "#%%\n"
    }
   },
   "outputs": [],
   "source": [
    "def get_tag_mean_n_steps(tag_sum_count: dict) -> dict:\n",
    "    for k, v in tag_sum_count.items():\n",
    "        tag_sum_count[k] = v['sum'] / v['count']\n",
    "    return tag_sum_count"
   ]
  },
  {
   "cell_type": "code",
   "execution_count": 48,
   "outputs": [
    {
     "name": "stderr",
     "output_type": "stream",
     "text": [
      "C:\\Users\\admin\\AppData\\Roaming\\Python\\Python39\\site-packages\\numpy\\lib\\arraysetops.py:583: FutureWarning: elementwise comparison failed; returning scalar instead, but in the future will perform elementwise comparison\n",
      "  mask |= (ar1 == a)\n"
     ]
    },
    {
     "name": "stdout",
     "output_type": "stream",
     "text": [
      "34.7 s ± 3.51 s per loop (mean ± std. dev. of 7 runs, 1 loop each)\n"
     ]
    }
   ],
   "source": [
    "%%timeit\n",
    "\n",
    "tags_sum_count_1 = get_tag_sum_count_from_file('new_data/tag_nsteps_1.csv')\n",
    "tags_sum_count_2 = get_tag_sum_count_from_file('new_data/tag_nsteps_2.csv')\n",
    "tags_sum_count_3 = get_tag_sum_count_from_file('new_data/tag_nsteps_3.csv')\n",
    "tags_sum_count_4 = get_tag_sum_count_from_file('new_data/tag_nsteps_4.csv')\n",
    "tags_sum_count_5 = get_tag_sum_count_from_file('new_data/tag_nsteps_5.csv')\n",
    "tags_sum_count_6 = get_tag_sum_count_from_file('new_data/tag_nsteps_6.csv')\n",
    "tags_sum_count_7 = get_tag_sum_count_from_file('new_data/tag_nsteps_7.csv')\n",
    "tags_sum_count_8 = get_tag_sum_count_from_file('new_data/tag_nsteps_8.csv')\n",
    "\n",
    "list_dict_tags_sum_count = [tags_sum_count_1, tags_sum_count_2, tags_sum_count_3, tags_sum_count_4,\n",
    "                            tags_sum_count_5, tags_sum_count_6, tags_sum_count_7, tags_sum_count_8]\n",
    "\n",
    "all_results_list_dict_tags_sum_count = agg_results(list_dict_tags_sum_count)\n",
    "\n",
    "get_tag_mean_n_steps(all_results_list_dict_tags_sum_count)"
   ],
   "metadata": {
    "collapsed": false,
    "pycharm": {
     "name": "#%%\n"
    }
   }
  },
  {
   "cell_type": "code",
   "execution_count": 52,
   "outputs": [
    {
     "data": {
      "text/plain": "7.608917333275011"
     },
     "execution_count": 52,
     "metadata": {},
     "output_type": "execute_result"
    }
   ],
   "source": [
    "all_results_list_dict_tags_sum_count['30-minutes-or-less']"
   ],
   "metadata": {
    "collapsed": false,
    "pycharm": {
     "name": "#%%\n"
    }
   }
  },
  {
   "cell_type": "markdown",
   "metadata": {
    "pycharm": {
     "name": "#%% md\n"
    }
   },
   "source": [
    "5\\. Повторите решение задачи 4, распараллелив вызовы функции `get_tag_sum_count_from_file` для различных файлов с помощью `multiprocessing.Pool`. Для обработки каждого файла создайте свой собственный процесс. Выведите на экран результат для тэга \"30-minutes-or-less\". Определите, за какое время задача решается для всех файлов. При замере времени учитывайте время расчета статистики для каждого файла, агрегации результатов и, собственно, вычисления средного. Временем, затрачиваемым на процедуру разбиения исходного файла можно пренебречь."
   ]
  },
  {
   "cell_type": "code",
   "execution_count": 56,
   "outputs": [
    {
     "name": "stdout",
     "output_type": "stream",
     "text": [
      "Overwriting get_tag_sum_count_from_file.py\n"
     ]
    }
   ],
   "source": [
    "%%file get_tag_sum_count_from_file.py\n",
    "import pandas as pd\n",
    "def get_tag_sum_count_from_file(file: str) -> dict:\n",
    "    df = pd.read_csv(file, index_col = 0)\n",
    "    all_dict = df.groupby(by = 'tags').agg(['sum', 'count'])['n_steps'].to_dict('index')\n",
    "    return all_dict"
   ],
   "metadata": {
    "collapsed": false,
    "pycharm": {
     "name": "#%%\n"
    }
   }
  },
  {
   "cell_type": "code",
   "execution_count": 57,
   "outputs": [],
   "source": [
    "from get_tag_sum_count_from_file import get_tag_sum_count_from_file"
   ],
   "metadata": {
    "collapsed": false,
    "pycharm": {
     "name": "#%%\n"
    }
   }
  },
  {
   "cell_type": "code",
   "execution_count": 58,
   "outputs": [
    {
     "name": "stdout",
     "output_type": "stream",
     "text": [
      "7.6 s ± 264 ms per loop (mean ± std. dev. of 7 runs, 1 loop each)\n"
     ]
    }
   ],
   "source": [
    "%%timeit\n",
    "with multiprocessing.Pool(processes = 8) as pool:\n",
    "    res = pool.map(get_tag_sum_count_from_file, ['new_data/tag_nsteps_1.csv', 'new_data/tag_nsteps_2.csv',\n",
    "                                                 'new_data/tag_nsteps_3.csv', 'new_data/tag_nsteps_4.csv',\n",
    "                                                 'new_data/tag_nsteps_5.csv', 'new_data/tag_nsteps_6.csv',\n",
    "                                                 'new_data/tag_nsteps_7.csv', 'new_data/tag_nsteps_8.csv'])\n",
    "all_results_list_dict_tags_sum_count = agg_results(res)\n",
    "get_tag_mean_n_steps(all_results_list_dict_tags_sum_count)"
   ],
   "metadata": {
    "collapsed": false,
    "pycharm": {
     "name": "#%%\n"
    }
   }
  },
  {
   "cell_type": "code",
   "execution_count": 59,
   "outputs": [
    {
     "data": {
      "text/plain": "7.608917333275011"
     },
     "execution_count": 59,
     "metadata": {},
     "output_type": "execute_result"
    }
   ],
   "source": [
    "all_results_list_dict_tags_sum_count['30-minutes-or-less']"
   ],
   "metadata": {
    "collapsed": false,
    "pycharm": {
     "name": "#%%\n"
    }
   }
  },
  {
   "cell_type": "markdown",
   "metadata": {
    "pycharm": {
     "name": "#%% md\n"
    }
   },
   "source": [
    "6\\. Повторите решение задачи 4, распараллелив вычисления функции `get_tag_sum_count_from_file` для различных файлов с помощью `multiprocessing.Process`. Для обработки каждого файла создайте свой собственный процесс. Для обмена данными между процессами используйте `multiprocessing.Queue`.\n",
    "\n",
    "Выведите на экран результат для тэга \"30-minutes-or-less\". Определите, за какое время задача решается для всех файлов. При замере времени учитывайте время расчета статистики для каждого файла, агрегации результатов и, собственно, вычисления средного. Временем, затрачиваемым на процедуру разбиения исходного файла можно пренебречь."
   ]
  },
  {
   "cell_type": "code",
   "execution_count": 61,
   "outputs": [
    {
     "name": "stdout",
     "output_type": "stream",
     "text": [
      "Overwriting upgrade_get_tag_sum_count_from_file.py\n"
     ]
    }
   ],
   "source": [
    "%%file upgrade_get_tag_sum_count_from_file.py\n",
    "import pandas as pd\n",
    "\n",
    "def upgrade_get_tag_sum_count_from_file(file: str, queue) -> dict:\n",
    "    df = pd.read_csv(file, index_col = 0)\n",
    "    all_dict = df.groupby(by = 'tags').agg(['sum', 'count'])['n_steps'].to_dict('index')\n",
    "    queue.put(all_dict)"
   ],
   "metadata": {
    "collapsed": false,
    "pycharm": {
     "name": "#%%\n"
    }
   }
  },
  {
   "cell_type": "code",
   "execution_count": 62,
   "outputs": [],
   "source": [
    "from upgrade_get_tag_sum_count_from_file import upgrade_get_tag_sum_count_from_file"
   ],
   "metadata": {
    "collapsed": false,
    "pycharm": {
     "name": "#%%\n"
    }
   }
  },
  {
   "cell_type": "code",
   "execution_count": 66,
   "outputs": [
    {
     "name": "stdout",
     "output_type": "stream",
     "text": [
      "7.68 s ± 249 ms per loop (mean ± std. dev. of 7 runs, 1 loop each)\n"
     ]
    }
   ],
   "source": [
    "%%timeit\n",
    "\n",
    "ps = []\n",
    "queue = multiprocessing.Queue()\n",
    "for file in ['new_data/tag_nsteps_1.csv', 'new_data/tag_nsteps_2.csv',\n",
    "             'new_data/tag_nsteps_3.csv', 'new_data/tag_nsteps_4.csv',\n",
    "             'new_data/tag_nsteps_5.csv', 'new_data/tag_nsteps_6.csv',\n",
    "             'new_data/tag_nsteps_7.csv', 'new_data/tag_nsteps_8.csv']:\n",
    "    p = multiprocessing.Process(target = upgrade_get_tag_sum_count_from_file, args = (file, queue))\n",
    "    ps.append(p)\n",
    "    p.start()\n",
    "\n",
    "res = []\n",
    "while len(res) < 8:\n",
    "    if not queue.empty():\n",
    "        res.append(queue.get())\n",
    "\n",
    "for p in ps:\n",
    "    p.join()\n",
    "\n",
    "all_results_list_dict_tags_sum_count = agg_results(res)\n",
    "get_tag_mean_n_steps(all_results_list_dict_tags_sum_count)"
   ],
   "metadata": {
    "collapsed": false,
    "pycharm": {
     "name": "#%%\n"
    }
   }
  },
  {
   "cell_type": "code",
   "execution_count": 67,
   "outputs": [
    {
     "data": {
      "text/plain": "7.608917333275011"
     },
     "execution_count": 67,
     "metadata": {},
     "output_type": "execute_result"
    }
   ],
   "source": [
    "all_results_list_dict_tags_sum_count['30-minutes-or-less']"
   ],
   "metadata": {
    "collapsed": false,
    "pycharm": {
     "name": "#%%\n"
    }
   }
  },
  {
   "cell_type": "markdown",
   "metadata": {
    "pycharm": {
     "name": "#%% md\n"
    }
   },
   "source": [
    "7\\. Исследуйте, как влияет количество запущенных одновременно процессов на скорость решения задачи. Узнайте количество ядер вашего процессора $K$. Повторите решение задачи 1, разбив исходный файл на $\\frac{K}{2}$, $K$ и $2K$ фрагментов. Для каждого из разбиений повторите решение задачи 5. Визуализируйте зависимость времени выполнения кода от количества файлов в разбиении. Сделайте вывод в виде текстового комментария."
   ]
  },
  {
   "cell_type": "code",
   "execution_count": 95,
   "outputs": [],
   "source": [
    "K = 12\n",
    "#не буду делать для 8, тк уже делал в первом задании\n",
    "iloc_for_tags_for_2 = np.linspace(0, len(tags), 3).astype('int')\n",
    "iloc_for_tags_for_4 = np.linspace(0, len(tags), 5).astype('int')\n",
    "iloc_for_tags_for_6 = np.linspace(0, len(tags), 7).astype('int')\n",
    "iloc_for_tags_for_12 = np.linspace(0, len(tags), 13).astype('int')\n",
    "iloc_for_tags_for_16 = np.linspace(0, len(tags), 17).astype('int')\n",
    "iloc_for_tags_for_24 = np.linspace(0, len(tags), 25).astype('int')"
   ],
   "metadata": {
    "collapsed": false,
    "pycharm": {
     "name": "#%%\n"
    }
   }
  },
  {
   "cell_type": "code",
   "execution_count": 69,
   "outputs": [],
   "source": [
    "tags.iloc[:iloc_for_tags_for_2[1]].to_csv('new_data/tag_nsteps_1_for_2.csv')\n",
    "tags.iloc[iloc_for_tags_for_2[1]:].to_csv('new_data/tag_nsteps_2_for_2.csv')"
   ],
   "metadata": {
    "collapsed": false,
    "pycharm": {
     "name": "#%%\n"
    }
   }
  },
  {
   "cell_type": "code",
   "execution_count": 72,
   "outputs": [],
   "source": [
    "tags.iloc[:iloc_for_tags_for_4[1]].to_csv('new_data/tag_nsteps_1_for_4.csv')\n",
    "tags.iloc[iloc_for_tags_for_4[1]:iloc_for_tags_for_4[2]].to_csv('new_data/tag_nsteps_2_for_4.csv')\n",
    "tags.iloc[iloc_for_tags_for_4[2]:iloc_for_tags_for_4[3]].to_csv('new_data/tag_nsteps_3_for_4.csv')\n",
    "tags.iloc[iloc_for_tags_for_4[3]:].to_csv('new_data/tag_nsteps_4_for_4.csv')"
   ],
   "metadata": {
    "collapsed": false,
    "pycharm": {
     "name": "#%%\n"
    }
   }
  },
  {
   "cell_type": "code",
   "execution_count": 96,
   "outputs": [],
   "source": [
    "tags.iloc[:iloc_for_tags_for_6[1]].to_csv('new_data/tag_nsteps_1_for_6.csv')\n",
    "tags.iloc[iloc_for_tags_for_6[1]:iloc_for_tags_for_6[2]].to_csv('new_data/tag_nsteps_2_for_6.csv')\n",
    "tags.iloc[iloc_for_tags_for_6[2]:iloc_for_tags_for_6[3]].to_csv('new_data/tag_nsteps_3_for_6.csv')\n",
    "tags.iloc[iloc_for_tags_for_6[3]:iloc_for_tags_for_6[4]].to_csv('new_data/tag_nsteps_4_for_6.csv')\n",
    "tags.iloc[iloc_for_tags_for_6[4]:iloc_for_tags_for_6[5]].to_csv('new_data/tag_nsteps_5_for_6.csv')\n",
    "tags.iloc[iloc_for_tags_for_6[5]:].to_csv('new_data/tag_nsteps_6_for_6.csv')"
   ],
   "metadata": {
    "collapsed": false,
    "pycharm": {
     "name": "#%%\n"
    }
   }
  },
  {
   "cell_type": "code",
   "execution_count": 87,
   "outputs": [],
   "source": [
    "tags.iloc[:iloc_for_tags_for_12[1]].to_csv('new_data/tag_nsteps_1_for_12.csv')\n",
    "tags.iloc[iloc_for_tags_for_12[1]:iloc_for_tags_for_12[2]].to_csv('new_data/tag_nsteps_2_for_12.csv')\n",
    "tags.iloc[iloc_for_tags_for_12[2]:iloc_for_tags_for_12[3]].to_csv('new_data/tag_nsteps_3_for_12.csv')\n",
    "tags.iloc[iloc_for_tags_for_12[3]:iloc_for_tags_for_12[4]].to_csv('new_data/tag_nsteps_4_for_12.csv')\n",
    "tags.iloc[iloc_for_tags_for_12[4]:iloc_for_tags_for_12[5]].to_csv('new_data/tag_nsteps_5_for_12.csv')\n",
    "tags.iloc[iloc_for_tags_for_12[5]:iloc_for_tags_for_12[6]].to_csv('new_data/tag_nsteps_6_for_12.csv')\n",
    "tags.iloc[iloc_for_tags_for_12[6]:iloc_for_tags_for_12[7]].to_csv('new_data/tag_nsteps_7_for_12.csv')\n",
    "tags.iloc[iloc_for_tags_for_12[7]:iloc_for_tags_for_12[8]].to_csv('new_data/tag_nsteps_8_for_12.csv')\n",
    "tags.iloc[iloc_for_tags_for_12[8]:iloc_for_tags_for_12[9]].to_csv('new_data/tag_nsteps_9_for_12.csv')\n",
    "tags.iloc[iloc_for_tags_for_12[9]:iloc_for_tags_for_12[10]].to_csv('new_data/tag_nsteps_10_for_12.csv')\n",
    "tags.iloc[iloc_for_tags_for_12[10]:iloc_for_tags_for_12[11]].to_csv('new_data/tag_nsteps_11_for_12.csv')\n",
    "tags.iloc[iloc_for_tags_for_12[11]:].to_csv('new_data/tag_nsteps_12_for_12.csv')"
   ],
   "metadata": {
    "collapsed": false,
    "pycharm": {
     "name": "#%%\n"
    }
   }
  },
  {
   "cell_type": "code",
   "execution_count": 75,
   "outputs": [],
   "source": [
    "tags.iloc[:iloc_for_tags_for_16[1]].to_csv('new_data/tag_nsteps_1_for_16.csv')\n",
    "tags.iloc[iloc_for_tags_for_16[1]:iloc_for_tags_for_16[2]].to_csv('new_data/tag_nsteps_2_for_16.csv')\n",
    "tags.iloc[iloc_for_tags_for_16[2]:iloc_for_tags_for_16[3]].to_csv('new_data/tag_nsteps_3_for_16.csv')\n",
    "tags.iloc[iloc_for_tags_for_16[3]:iloc_for_tags_for_16[4]].to_csv('new_data/tag_nsteps_4_for_16.csv')\n",
    "tags.iloc[iloc_for_tags_for_16[4]:iloc_for_tags_for_16[5]].to_csv('new_data/tag_nsteps_5_for_16.csv')\n",
    "tags.iloc[iloc_for_tags_for_16[5]:iloc_for_tags_for_16[6]].to_csv('new_data/tag_nsteps_6_for_16.csv')\n",
    "tags.iloc[iloc_for_tags_for_16[6]:iloc_for_tags_for_16[7]].to_csv('new_data/tag_nsteps_7_for_16.csv')\n",
    "tags.iloc[iloc_for_tags_for_16[7]:iloc_for_tags_for_16[8]].to_csv('new_data/tag_nsteps_8_for_16.csv')\n",
    "tags.iloc[iloc_for_tags_for_16[8]:iloc_for_tags_for_16[9]].to_csv('new_data/tag_nsteps_9_for_16.csv')\n",
    "tags.iloc[iloc_for_tags_for_16[9]:iloc_for_tags_for_16[10]].to_csv('new_data/tag_nsteps_10_for_16.csv')\n",
    "tags.iloc[iloc_for_tags_for_16[10]:iloc_for_tags_for_16[11]].to_csv('new_data/tag_nsteps_11_for_16.csv')\n",
    "tags.iloc[iloc_for_tags_for_16[11]:iloc_for_tags_for_16[12]].to_csv('new_data/tag_nsteps_12_for_16.csv')\n",
    "tags.iloc[iloc_for_tags_for_16[12]:iloc_for_tags_for_16[13]].to_csv('new_data/tag_nsteps_13_for_16.csv')\n",
    "tags.iloc[iloc_for_tags_for_16[13]:iloc_for_tags_for_16[14]].to_csv('new_data/tag_nsteps_14_for_16.csv')\n",
    "tags.iloc[iloc_for_tags_for_16[14]:iloc_for_tags_for_16[15]].to_csv('new_data/tag_nsteps_15_for_16.csv')\n",
    "tags.iloc[iloc_for_tags_for_16[15]:].to_csv('new_data/tag_nsteps_16_for_16.csv')"
   ],
   "metadata": {
    "collapsed": false,
    "pycharm": {
     "name": "#%%\n"
    }
   }
  },
  {
   "cell_type": "code",
   "execution_count": 98,
   "outputs": [],
   "source": [
    "tags.iloc[:iloc_for_tags_for_24[1]].to_csv('new_data/tag_nsteps_1_for_24.csv')\n",
    "tags.iloc[iloc_for_tags_for_24[1]:iloc_for_tags_for_24[2]].to_csv('new_data/tag_nsteps_2_for_24.csv')\n",
    "tags.iloc[iloc_for_tags_for_24[2]:iloc_for_tags_for_24[3]].to_csv('new_data/tag_nsteps_3_for_24.csv')\n",
    "tags.iloc[iloc_for_tags_for_24[3]:iloc_for_tags_for_24[4]].to_csv('new_data/tag_nsteps_4_for_24.csv')\n",
    "tags.iloc[iloc_for_tags_for_24[4]:iloc_for_tags_for_24[5]].to_csv('new_data/tag_nsteps_5_for_24.csv')\n",
    "tags.iloc[iloc_for_tags_for_24[5]:iloc_for_tags_for_24[6]].to_csv('new_data/tag_nsteps_6_for_24.csv')\n",
    "tags.iloc[iloc_for_tags_for_24[6]:iloc_for_tags_for_24[7]].to_csv('new_data/tag_nsteps_7_for_24.csv')\n",
    "tags.iloc[iloc_for_tags_for_24[7]:iloc_for_tags_for_24[8]].to_csv('new_data/tag_nsteps_8_for_24.csv')\n",
    "tags.iloc[iloc_for_tags_for_24[8]:iloc_for_tags_for_24[9]].to_csv('new_data/tag_nsteps_9_for_24.csv')\n",
    "tags.iloc[iloc_for_tags_for_24[9]:iloc_for_tags_for_24[10]].to_csv('new_data/tag_nsteps_10_for_24.csv')\n",
    "tags.iloc[iloc_for_tags_for_24[10]:iloc_for_tags_for_24[11]].to_csv('new_data/tag_nsteps_11_for_24.csv')\n",
    "tags.iloc[iloc_for_tags_for_24[11]:iloc_for_tags_for_24[12]].to_csv('new_data/tag_nsteps_12_for_24.csv')\n",
    "tags.iloc[iloc_for_tags_for_24[12]:iloc_for_tags_for_24[13]].to_csv('new_data/tag_nsteps_13_for_24.csv')\n",
    "tags.iloc[iloc_for_tags_for_24[13]:iloc_for_tags_for_24[14]].to_csv('new_data/tag_nsteps_14_for_24.csv')\n",
    "tags.iloc[iloc_for_tags_for_24[14]:iloc_for_tags_for_24[15]].to_csv('new_data/tag_nsteps_15_for_24.csv')\n",
    "tags.iloc[iloc_for_tags_for_24[15]:iloc_for_tags_for_24[16]].to_csv('new_data/tag_nsteps_16_for_24.csv')\n",
    "tags.iloc[iloc_for_tags_for_24[16]:iloc_for_tags_for_24[17]].to_csv('new_data/tag_nsteps_17_for_24.csv')\n",
    "tags.iloc[iloc_for_tags_for_24[17]:iloc_for_tags_for_24[18]].to_csv('new_data/tag_nsteps_18_for_24.csv')\n",
    "tags.iloc[iloc_for_tags_for_24[18]:iloc_for_tags_for_24[19]].to_csv('new_data/tag_nsteps_19_for_24.csv')\n",
    "tags.iloc[iloc_for_tags_for_24[19]:iloc_for_tags_for_24[20]].to_csv('new_data/tag_nsteps_20_for_24.csv')\n",
    "tags.iloc[iloc_for_tags_for_24[20]:iloc_for_tags_for_24[21]].to_csv('new_data/tag_nsteps_21_for_24.csv')\n",
    "tags.iloc[iloc_for_tags_for_24[21]:iloc_for_tags_for_24[22]].to_csv('new_data/tag_nsteps_22_for_24.csv')\n",
    "tags.iloc[iloc_for_tags_for_24[22]:iloc_for_tags_for_24[23]].to_csv('new_data/tag_nsteps_23_for_24.csv')\n",
    "tags.iloc[iloc_for_tags_for_24[23]:].to_csv('new_data/tag_nsteps_24_for_24.csv')"
   ],
   "metadata": {
    "collapsed": false,
    "pycharm": {
     "name": "#%%\n"
    }
   }
  },
  {
   "cell_type": "code",
   "execution_count": 77,
   "outputs": [
    {
     "name": "stdout",
     "output_type": "stream",
     "text": [
      "17.6 s ± 1.35 s per loop (mean ± std. dev. of 7 runs, 1 loop each)\n"
     ]
    }
   ],
   "source": [
    "%%timeit\n",
    "with multiprocessing.Pool(processes = 2) as pool:\n",
    "    res = pool.map(get_tag_sum_count_from_file, ['new_data/tag_nsteps_1_for_2.csv', 'new_data/tag_nsteps_2_for_2.csv'])\n",
    "all_results_list_dict_tags_sum_count = agg_results(res)\n",
    "get_tag_mean_n_steps(all_results_list_dict_tags_sum_count)"
   ],
   "metadata": {
    "collapsed": false,
    "pycharm": {
     "name": "#%%\n"
    }
   }
  },
  {
   "cell_type": "code",
   "execution_count": 78,
   "outputs": [
    {
     "name": "stdout",
     "output_type": "stream",
     "text": [
      "10 s ± 309 ms per loop (mean ± std. dev. of 7 runs, 1 loop each)\n"
     ]
    }
   ],
   "source": [
    "%%timeit\n",
    "with multiprocessing.Pool(processes = 4) as pool:\n",
    "    res = pool.map(get_tag_sum_count_from_file, [\"new_data/tag_nsteps_1_for_4.csv\", \"new_data/tag_nsteps_2_for_4.csv\",\n",
    "                                                \"new_data/tag_nsteps_3_for_4.csv\", \"new_data/tag_nsteps_4_for_4.csv\"])\n",
    "all_results_list_dict_tags_sum_count = agg_results(res)\n",
    "get_tag_mean_n_steps(all_results_list_dict_tags_sum_count)"
   ],
   "metadata": {
    "collapsed": false,
    "pycharm": {
     "name": "#%%\n"
    }
   }
  },
  {
   "cell_type": "code",
   "execution_count": 97,
   "outputs": [
    {
     "name": "stdout",
     "output_type": "stream",
     "text": [
      "7.85 s ± 276 ms per loop (mean ± std. dev. of 7 runs, 1 loop each)\n"
     ]
    }
   ],
   "source": [
    "%%timeit\n",
    "with multiprocessing.Pool(processes = 6) as pool:\n",
    "    res = pool.map(get_tag_sum_count_from_file, [\"new_data/tag_nsteps_1_for_6.csv\", \"new_data/tag_nsteps_2_for_6.csv\",\n",
    "                                                \"new_data/tag_nsteps_3_for_6.csv\", \"new_data/tag_nsteps_4_for_6.csv\",\n",
    "                                                 \"new_data/tag_nsteps_5_for_6.csv\", \"new_data/tag_nsteps_6_for_6.csv\"])\n",
    "all_results_list_dict_tags_sum_count = agg_results(res)\n",
    "get_tag_mean_n_steps(all_results_list_dict_tags_sum_count)"
   ],
   "metadata": {
    "collapsed": false,
    "pycharm": {
     "name": "#%%\n"
    }
   }
  },
  {
   "cell_type": "code",
   "execution_count": 79,
   "outputs": [
    {
     "name": "stdout",
     "output_type": "stream",
     "text": [
      "8.06 s ± 472 ms per loop (mean ± std. dev. of 7 runs, 1 loop each)\n"
     ]
    }
   ],
   "source": [
    "%%timeit\n",
    "with multiprocessing.Pool(processes = 8) as pool:\n",
    "    res = pool.map(get_tag_sum_count_from_file, ['new_data/tag_nsteps_1.csv', 'new_data/tag_nsteps_2.csv',\n",
    "                                                'new_data/tag_nsteps_3.csv', 'new_data/tag_nsteps_4.csv',\n",
    "                                                'new_data/tag_nsteps_5.csv', 'new_data/tag_nsteps_6.csv',\n",
    "                                                'new_data/tag_nsteps_7.csv', 'new_data/tag_nsteps_8.csv'])\n",
    "all_results_list_dict_tags_sum_count = agg_results(res)\n",
    "get_tag_mean_n_steps(all_results_list_dict_tags_sum_count)"
   ],
   "metadata": {
    "collapsed": false,
    "pycharm": {
     "name": "#%%\n"
    }
   }
  },
  {
   "cell_type": "code",
   "execution_count": 88,
   "outputs": [
    {
     "name": "stdout",
     "output_type": "stream",
     "text": [
      "7.43 s ± 177 ms per loop (mean ± std. dev. of 7 runs, 1 loop each)\n"
     ]
    }
   ],
   "source": [
    "%%timeit\n",
    "with multiprocessing.Pool(processes = 12) as pool:\n",
    "    res = pool.map(get_tag_sum_count_from_file, ['new_data/tag_nsteps_1_for_12.csv', 'new_data/tag_nsteps_2_for_12.csv',\n",
    "                                                'new_data/tag_nsteps_3_for_12.csv', 'new_data/tag_nsteps_4_for_12.csv',\n",
    "                                                'new_data/tag_nsteps_5_for_12.csv', 'new_data/tag_nsteps_6_for_12.csv',\n",
    "                                                'new_data/tag_nsteps_7_for_12.csv', 'new_data/tag_nsteps_8_for_12.csv',\n",
    "                                                'new_data/tag_nsteps_9_for_12.csv', 'new_data/tag_nsteps_10_for_12.csv',\n",
    "                                                'new_data/tag_nsteps_11_for_12.csv', 'new_data/tag_nsteps_12_for_12.csv'])\n",
    "all_results_list_dict_tags_sum_count = agg_results(res)\n",
    "get_tag_mean_n_steps(all_results_list_dict_tags_sum_count)"
   ],
   "metadata": {
    "collapsed": false,
    "pycharm": {
     "name": "#%%\n"
    }
   }
  },
  {
   "cell_type": "code",
   "execution_count": 81,
   "outputs": [
    {
     "name": "stdout",
     "output_type": "stream",
     "text": [
      "7.55 s ± 369 ms per loop (mean ± std. dev. of 7 runs, 1 loop each)\n"
     ]
    }
   ],
   "source": [
    "%%timeit\n",
    "with multiprocessing.Pool(processes = 16) as pool:\n",
    "    res = pool.map(get_tag_sum_count_from_file, ['new_data/tag_nsteps_1_for_16.csv', 'new_data/tag_nsteps_2_for_16.csv',\n",
    "                                                'new_data/tag_nsteps_3_for_16.csv', 'new_data/tag_nsteps_4_for_16.csv',\n",
    "                                                'new_data/tag_nsteps_5_for_16.csv', 'new_data/tag_nsteps_6_for_16.csv',\n",
    "                                                'new_data/tag_nsteps_7_for_16.csv', 'new_data/tag_nsteps_8_for_16.csv',\n",
    "                                                'new_data/tag_nsteps_9_for_16.csv', 'new_data/tag_nsteps_10_for_16.csv',\n",
    "                                                'new_data/tag_nsteps_11_for_16.csv', 'new_data/tag_nsteps_12_for_16.csv',\n",
    "                                                'new_data/tag_nsteps_13_for_16.csv', 'new_data/tag_nsteps_14_for_16.csv',\n",
    "                                                'new_data/tag_nsteps_15_for_16.csv', 'new_data/tag_nsteps_16_for_16.csv'])\n",
    "all_results_list_dict_tags_sum_count = agg_results(res)\n",
    "get_tag_mean_n_steps(all_results_list_dict_tags_sum_count)"
   ],
   "metadata": {
    "collapsed": false,
    "pycharm": {
     "name": "#%%\n"
    }
   }
  },
  {
   "cell_type": "code",
   "execution_count": 100,
   "outputs": [
    {
     "name": "stdout",
     "output_type": "stream",
     "text": [
      "8.84 s ± 299 ms per loop (mean ± std. dev. of 7 runs, 1 loop each)\n"
     ]
    }
   ],
   "source": [
    "%%timeit\n",
    "with multiprocessing.Pool(processes = 24) as pool:\n",
    "    res = pool.map(get_tag_sum_count_from_file, ['new_data/tag_nsteps_1_for_24.csv', 'new_data/tag_nsteps_2_for_24.csv',\n",
    "                                                'new_data/tag_nsteps_3_for_24.csv', 'new_data/tag_nsteps_4_for_24.csv',\n",
    "                                                'new_data/tag_nsteps_5_for_24.csv', 'new_data/tag_nsteps_6_for_24.csv',\n",
    "                                                'new_data/tag_nsteps_7_for_24.csv', 'new_data/tag_nsteps_8_for_24.csv',\n",
    "                                                'new_data/tag_nsteps_9_for_24.csv', 'new_data/tag_nsteps_10_for_24.csv',\n",
    "                                                'new_data/tag_nsteps_11_for_24.csv', 'new_data/tag_nsteps_12_for_24.csv',\n",
    "                                                'new_data/tag_nsteps_13_for_24.csv', 'new_data/tag_nsteps_14_for_24.csv',\n",
    "                                                'new_data/tag_nsteps_15_for_24.csv', 'new_data/tag_nsteps_16_for_24.csv',\n",
    "                                                'new_data/tag_nsteps_17_for_24.csv', 'new_data/tag_nsteps_18_for_24.csv',\n",
    "                                                'new_data/tag_nsteps_19_for_24.csv', 'new_data/tag_nsteps_20_for_24.csv',\n",
    "                                                'new_data/tag_nsteps_21_for_24.csv', 'new_data/tag_nsteps_22_for_24.csv',\n",
    "                                                'new_data/tag_nsteps_23_for_24.csv', 'new_data/tag_nsteps_24_for_24.csv'])\n",
    "all_results_list_dict_tags_sum_count = agg_results(res)\n",
    "get_tag_mean_n_steps(all_results_list_dict_tags_sum_count)"
   ],
   "metadata": {
    "collapsed": false,
    "pycharm": {
     "name": "#%%\n"
    }
   }
  },
  {
   "cell_type": "code",
   "execution_count": 101,
   "outputs": [
    {
     "data": {
      "text/plain": "<Figure size 720x720 with 1 Axes>",
      "image/png": "[encoded data removed]"
     },
     "metadata": {
      "needs_background": "light"
     },
     "output_type": "display_data"
    }
   ],
   "source": [
    "x = [K//6, K//3, K//2, K//1.5, 12, (4/3)*K, 2*K]\n",
    "y = [17.6, 10, 7.85, 8.06, 7.43, 7.55, 8.84]\n",
    "fig, ax = plt.subplots(1, 1, figsize=(10, 10))\n",
    "sns.barplot(x = x, y = y, ax = ax)\n",
    "ax.set(title = 'Зависимость', xlabel = 'Количества файлов', ylabel = 'Время выполнения кода')\n",
    "plt.show()"
   ],
   "metadata": {
    "collapsed": false,
    "pycharm": {
     "name": "#%%\n"
    }
   }
  },
  {
   "cell_type": "markdown",
   "source": [
    "##### Лучше всего идёт подсчёт там, где количество файлов = кол-во ядер\n",
    "##### Получается линейная зависимость!"
   ],
   "metadata": {
    "collapsed": false,
    "pycharm": {
     "name": "#%% md\n"
    }
   }
  },
  {
   "cell_type": "markdown",
   "metadata": {
    "pycharm": {
     "name": "#%% md\n"
    }
   },
   "source": [
    "8\\. Напишите функцию `parallel_map`, которая принимает на вход серию `s` `pd.Series` и функцию одного аргумента `f` и поэлементно применяет эту функцию к серии, распараллелив вычисления при помощи пакета `multiprocessing`. Логика работы функции `parallel_map` должна включать следующие действия:\n",
    "* разбиение исходной серии на $K$ частей, где $K$ - количество ядер вашего процессора;\n",
    "* параллельное применение функции `f` к каждой части при помощи метода _серии_ `map` при помощи нескольких подпроцессов;\n",
    "* объединение результатов работы подпроцессов в одну серию."
   ]
  },
  {
   "cell_type": "code",
   "execution_count": 83,
   "outputs": [
    {
     "data": {
      "text/plain": "12"
     },
     "execution_count": 83,
     "metadata": {},
     "output_type": "execute_result"
    }
   ],
   "source": [
    "multiprocessing.cpu_count()"
   ],
   "metadata": {
    "collapsed": false,
    "pycharm": {
     "name": "#%%\n"
    }
   }
  },
  {
   "cell_type": "code",
   "execution_count": 8,
   "outputs": [
    {
     "name": "stdout",
     "output_type": "stream",
     "text": [
      "Overwriting map_f.py\n"
     ]
    }
   ],
   "source": [
    "%%file map_f.py\n",
    "\n",
    "def series_map(tur):\n",
    "    return tur[0].map(tur[1])"
   ],
   "metadata": {
    "collapsed": false,
    "pycharm": {
     "name": "#%%\n"
    }
   }
  },
  {
   "cell_type": "code",
   "execution_count": 4,
   "outputs": [],
   "source": [
    "from map_f import series_map"
   ],
   "metadata": {
    "collapsed": false,
    "pycharm": {
     "name": "#%%\n"
    }
   }
  },
  {
   "cell_type": "code",
   "execution_count": 5,
   "metadata": {
    "pycharm": {
     "name": "#%%\n"
    }
   },
   "outputs": [],
   "source": [
    "def parallel_map(s: pd.Series, f: callable) -> pd.Series:\n",
    "    lists = np.array_split(s, 12)\n",
    "    with multiprocessing.Pool(processes = 12) as pool:\n",
    "        res = pool.map(series_map, [[lst, f] for lst in lists])\n",
    "    return pd.concat(res)"
   ]
  },
  {
   "cell_type": "code",
   "execution_count": 109,
   "outputs": [
    {
     "name": "stdout",
     "output_type": "stream",
     "text": [
      "Overwriting map_final_f.py\n"
     ]
    }
   ],
   "source": [
    "%%file map_final_f.py\n",
    "\n",
    "def map_function(x):\n",
    "    return x + 10"
   ],
   "metadata": {
    "collapsed": false,
    "pycharm": {
     "name": "#%%\n"
    }
   }
  },
  {
   "cell_type": "code",
   "execution_count": 110,
   "outputs": [],
   "source": [
    "from map_final_f import map_function"
   ],
   "metadata": {
    "collapsed": false,
    "pycharm": {
     "name": "#%%\n"
    }
   }
  },
  {
   "cell_type": "code",
   "execution_count": 111,
   "outputs": [
    {
     "data": {
      "text/plain": "0    11\n1    12\n2    13\n3    14\n4    15\n5    16\n6    17\n7    18\ndtype: int64"
     },
     "execution_count": 111,
     "metadata": {},
     "output_type": "execute_result"
    }
   ],
   "source": [
    "a = [1, 2, 3, 4, 5, 6, 7, 8]\n",
    "parallel_map(pd.Series(a), map_function)"
   ],
   "metadata": {
    "collapsed": false,
    "pycharm": {
     "name": "#%%\n"
    }
   }
  },
  {
   "cell_type": "markdown",
   "metadata": {
    "pycharm": {
     "name": "#%% md\n"
    }
   },
   "source": [
    "9\\. Напишите функцию `f`, которая принимает на вход тэг и проверяет, удовлетворяет ли тэг следующему шаблону: `[любое число]-[любое слово]-or-less`. Возьмите любой фрагмент файла, полученный в задании 1, примените функцию `f` при помощи `parallel_map` к столбцу `tags` и посчитайте количество тэгов, подходящих под этот шаблон. Решите ту же задачу, воспользовавшись методом _серий_ `map`. Сравните время и результат выполнения двух решений."
   ]
  },
  {
   "cell_type": "code",
   "execution_count": 2,
   "outputs": [
    {
     "name": "stdout",
     "output_type": "stream",
     "text": [
      "Writing re_fullmatch.py\n"
     ]
    }
   ],
   "source": [
    "%%file re_fullmatch.py\n",
    "import re\n",
    "def f(tag: str) -> bool:\n",
    "    pattern = r'\\b\\d+-[a-zA-Z]+-or-less\\b'\n",
    "    match = re.fullmatch(pattern, str(tag))\n",
    "    if match:\n",
    "        return True\n",
    "    return False"
   ],
   "metadata": {
    "collapsed": false,
    "pycharm": {
     "name": "#%%\n"
    }
   }
  },
  {
   "cell_type": "code",
   "execution_count": 3,
   "outputs": [],
   "source": [
    "from re_fullmatch import f"
   ],
   "metadata": {
    "collapsed": false,
    "pycharm": {
     "name": "#%%\n"
    }
   }
  },
  {
   "cell_type": "code",
   "execution_count": 6,
   "outputs": [
    {
     "name": "stderr",
     "output_type": "stream",
     "text": [
      "C:\\Users\\admin\\AppData\\Roaming\\Python\\Python39\\site-packages\\numpy\\lib\\arraysetops.py:583: FutureWarning: elementwise comparison failed; returning scalar instead, but in the future will perform elementwise comparison\n",
      "  mask |= (ar1 == a)\n"
     ]
    }
   ],
   "source": [
    "tags = pd.read_csv('new_data/tag_nsteps_1.csv', index_col=0)\n",
    "tags_for_me = tags.tags"
   ],
   "metadata": {
    "collapsed": false,
    "pycharm": {
     "name": "#%%\n"
    }
   }
  },
  {
   "cell_type": "code",
   "execution_count": 7,
   "outputs": [
    {
     "name": "stdout",
     "output_type": "stream",
     "text": [
      "4.49 s ± 410 ms per loop (mean ± std. dev. of 7 runs, 1 loop each)\n"
     ]
    }
   ],
   "source": [
    "%%timeit\n",
    "\n",
    "parallel_map(tags_for_me.dropna(), f).sum()"
   ],
   "metadata": {
    "collapsed": false,
    "pycharm": {
     "name": "#%%\n"
    }
   }
  },
  {
   "cell_type": "code",
   "execution_count": 8,
   "outputs": [
    {
     "name": "stdout",
     "output_type": "stream",
     "text": [
      "8.56 s ± 193 ms per loop (mean ± std. dev. of 7 runs, 1 loop each)\n"
     ]
    }
   ],
   "source": [
    "%%timeit\n",
    "tags_for_me.map(f).sum()"
   ],
   "metadata": {
    "collapsed": false,
    "pycharm": {
     "name": "#%%\n"
    }
   }
  },
  {
   "cell_type": "markdown",
   "metadata": {
    "pycharm": {
     "name": "#%% md\n"
    }
   },
   "source": [
    "10\\. Используя пакет `pandarallel`, примените функцию `f` из задания 9 к столбцу `tags` таблицы, с которой вы работали этом задании. Посчитайте количество тэгов, подходящих под описанный шаблон. Измерьте время выполнения кода. Выведите на экран полученный результат."
   ]
  },
  {
   "cell_type": "code",
   "execution_count": 9,
   "outputs": [
    {
     "name": "stdout",
     "output_type": "stream",
     "text": [
      "INFO: Pandarallel will run on 6 workers.\n",
      "INFO: Pandarallel will use standard multiprocessing data transfer (pipe) to transfer data between the main process and workers.\n",
      "\n",
      "WARNING: You are on Windows. If you detect any issue with pandarallel, be sure you checked out the Troubleshooting page:\n",
      "https://nalepae.github.io/pandarallel/troubleshooting/\n"
     ]
    }
   ],
   "source": [
    "from pandarallel import pandarallel\n",
    "pandarallel.initialize()"
   ],
   "metadata": {
    "collapsed": false,
    "pycharm": {
     "name": "#%%\n"
    }
   }
  },
  {
   "cell_type": "code",
   "execution_count": 10,
   "outputs": [
    {
     "name": "stdout",
     "output_type": "stream",
     "text": [
      "4.34 s ± 101 ms per loop (mean ± std. dev. of 7 runs, 1 loop each)\n"
     ]
    }
   ],
   "source": [
    "%%timeit\n",
    "tags_for_me.dropna().parallel_map(f).sum()"
   ],
   "metadata": {
    "collapsed": false,
    "pycharm": {
     "name": "#%%\n"
    }
   }
  },
  {
   "cell_type": "code",
   "execution_count": null,
   "outputs": [],
   "source": [],
   "metadata": {
    "collapsed": false,
    "pycharm": {
     "name": "#%%\n"
    }
   }
  }
 ],
 "metadata": {
  "kernelspec": {
   "display_name": "Python 3 (ipykernel)",
   "language": "python",
   "name": "python3"
  },
  "language_info": {
   "codemirror_mode": {
    "name": "ipython",
    "version": 3
   },
   "file_extension": ".py",
   "mimetype": "text/x-python",
   "name": "python",
   "nbconvert_exporter": "python",
   "pygments_lexer": "ipython3",
   "version": "3.9.7"
  }
 },
 "nbformat": 4,
 "nbformat_minor": 4
}