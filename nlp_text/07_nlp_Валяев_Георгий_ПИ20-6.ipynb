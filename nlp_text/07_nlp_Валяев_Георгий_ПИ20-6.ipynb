{
 "cells": [
  {
   "cell_type": "markdown",
   "metadata": {
    "pycharm": {
     "name": "#%% md\n"
    }
   },
   "source": [
    "# Введение в обработку текста на естественном языке"
   ]
  },
  {
   "cell_type": "markdown",
   "metadata": {
    "pycharm": {
     "name": "#%% md\n"
    }
   },
   "source": [
    "__Автор задач: Блохин Н.В. (NVBlokhin@fa.ru)__\n",
    "\n",
    "Материалы:\n",
    "* Макрушин С.В. Лекция \"Введение в обработку текста на естественном языке\"\n",
    "* https://www.nltk.org/api/nltk.metrics.distance.html\n",
    "* https://pymorphy2.readthedocs.io/en/stable/user/guide.html\n",
    "* https://realpython.com/nltk-nlp-python/\n",
    "* https://scikit-learn.org/stable/modules/feature_extraction.html"
   ]
  },
  {
   "cell_type": "code",
   "execution_count": 1,
   "outputs": [],
   "source": [
    "import pymorphy2, random, pandas as pd\n",
    "import nltk\n",
    "from nltk import word_tokenize, sent_tokenize\n",
    "from nltk.stem import SnowballStemmer\n",
    "from sklearn.metrics.pairwise import cosine_similarity\n",
    "from sklearn.feature_extraction.text import CountVectorizer\n",
    "from collections import Counter"
   ],
   "metadata": {
    "collapsed": false,
    "pycharm": {
     "name": "#%%\n"
    }
   }
  },
  {
   "cell_type": "markdown",
   "metadata": {
    "pycharm": {
     "name": "#%% md\n"
    }
   },
   "source": [
    "## Задачи для совместного разбора"
   ]
  },
  {
   "cell_type": "code",
   "execution_count": 43,
   "metadata": {
    "pycharm": {
     "name": "#%%\n"
    }
   },
   "outputs": [
    {
     "name": "stdout",
     "output_type": "stream",
     "text": [
      "Collecting pymorphy2\n",
      "  Downloading pymorphy2-0.9.1-py3-none-any.whl (55 kB)\n",
      "     -------------------------------------- 55.5/55.5 kB 481.3 kB/s eta 0:00:00\n",
      "Collecting pymorphy2-dicts-ru<3.0,>=2.4\n",
      "  Downloading pymorphy2_dicts_ru-2.4.417127.4579844-py2.py3-none-any.whl (8.2 MB)\n",
      "     ---------------------------------------- 8.2/8.2 MB 1.3 MB/s eta 0:00:00\n",
      "Collecting docopt>=0.6\n",
      "  Downloading docopt-0.6.2.tar.gz (25 kB)\n",
      "  Preparing metadata (setup.py): started\n",
      "  Preparing metadata (setup.py): finished with status 'done'\n",
      "Collecting dawg-python>=0.7.1\n",
      "  Downloading DAWG_Python-0.7.2-py2.py3-none-any.whl (11 kB)\n",
      "Building wheels for collected packages: docopt\n",
      "  Building wheel for docopt (setup.py): started\n",
      "  Building wheel for docopt (setup.py): finished with status 'done'\n",
      "  Created wheel for docopt: filename=docopt-0.6.2-py2.py3-none-any.whl size=13724 sha256=77047f4261009601722176a7064a25a223d880ebaa037bfd80720ac3f5c2bb30\n",
      "  Stored in directory: c:\\users\\admin\\appdata\\local\\pip\\cache\\wheels\\70\\4a\\46\\1309fc853b8d395e60bafaf1b6df7845bdd82c95fd59dd8d2b\n",
      "Successfully built docopt\n",
      "Installing collected packages: pymorphy2-dicts-ru, docopt, dawg-python, pymorphy2\n",
      "Successfully installed dawg-python-0.7.2 docopt-0.6.2 pymorphy2-0.9.1 pymorphy2-dicts-ru-2.4.417127.4579844\n"
     ]
    }
   ],
   "source": [
    "!pip install pymorphy2"
   ]
  },
  {
   "cell_type": "code",
   "execution_count": 1,
   "metadata": {
    "pycharm": {
     "name": "#%%\n"
    }
   },
   "outputs": [
    {
     "name": "stderr",
     "output_type": "stream",
     "text": [
      "[nltk_data] Downloading package punkt to\n",
      "[nltk_data]     C:\\Users\\admin\\AppData\\Roaming\\nltk_data...\n",
      "[nltk_data]   Unzipping tokenizers\\punkt.zip.\n"
     ]
    },
    {
     "data": {
      "text/plain": "True"
     },
     "execution_count": 1,
     "metadata": {},
     "output_type": "execute_result"
    }
   ],
   "source": [
    "nltk.download('punkt')"
   ]
  },
  {
   "cell_type": "markdown",
   "metadata": {
    "pycharm": {
     "name": "#%% md\n"
    }
   },
   "source": [
    "1. Считайте слова из файла `litw-win.txt` и запишите их в список `words`. При помощи расстояния Левенштейна иправьте опечатку в слове \"велечайшим\"."
   ]
  },
  {
   "cell_type": "code",
   "execution_count": null,
   "metadata": {
    "pycharm": {
     "name": "#%%\n"
    }
   },
   "outputs": [],
   "source": [
    "from nltk import edit_distance"
   ]
  },
  {
   "cell_type": "markdown",
   "metadata": {
    "pycharm": {
     "name": "#%% md\n"
    }
   },
   "source": [
    "2. Разбейте текст из формулировки второго задания на слова. Проведите стемминг и лемматизацию слов."
   ]
  },
  {
   "cell_type": "code",
   "execution_count": null,
   "metadata": {
    "pycharm": {
     "name": "#%%\n"
    }
   },
   "outputs": [],
   "source": [
    "text = '''Разбейте текст из формулировки второго задания на слова. Проведите стемминг и лемматизацию слов.'''"
   ]
  },
  {
   "cell_type": "markdown",
   "metadata": {
    "pycharm": {
     "name": "#%% md\n"
    }
   },
   "source": [
    "3. Преобразуйте предложения из формулировки задания 2 в векторы при помощи `CountVectorizer`. Выведите на экран словарь обученного токенизатора."
   ]
  },
  {
   "cell_type": "code",
   "execution_count": null,
   "metadata": {
    "pycharm": {
     "name": "#%%\n"
    }
   },
   "outputs": [],
   "source": [
    "text = '''Разбейте текст из формулировки второго задания на слова. Проведите стемминг и лемматизацию слов.'''"
   ]
  },
  {
   "cell_type": "markdown",
   "metadata": {
    "pycharm": {
     "name": "#%% md\n"
    }
   },
   "source": [
    "## Лабораторная работа 7"
   ]
  },
  {
   "cell_type": "markdown",
   "metadata": {
    "pycharm": {
     "name": "#%% md\n"
    }
   },
   "source": [
    "1\\. Загрузите данные из файла `ru_recipes_sample.csv` в виде `pd.DataFrame` `recipes` Используя регулярные выражения, удалите из описаний (столбец `description`) все символы, кроме русских букв, цифр и пробелов. Приведите все слова в описании к нижнему регистру. Сохраните полученный результат в столбец `description`."
   ]
  },
  {
   "cell_type": "code",
   "execution_count": 2,
   "outputs": [
    {
     "data": {
      "text/plain": "                                                url  \\\n0     https://www.povarenok.ru/recipes/show/164365/   \n1       https://www.povarenok.ru/recipes/show/1306/   \n2      https://www.povarenok.ru/recipes/show/10625/   \n3     https://www.povarenok.ru/recipes/show/167337/   \n4      https://www.povarenok.ru/recipes/show/91919/   \n...                                             ...   \n3462   https://www.povarenok.ru/recipes/show/54574/   \n3463  https://www.povarenok.ru/recipes/show/113494/   \n3464   https://www.povarenok.ru/recipes/show/83228/   \n3465  https://www.povarenok.ru/recipes/show/172238/   \n3466   https://www.povarenok.ru/recipes/show/52794/   \n\n                                                   name  \\\n0                    Густой молочно-клубничный коктейль   \n1                                              Рулетики   \n2                                   Салат \"Баклажанчик\"   \n3         Куриные котлеты с картофельным пюре в духовке   \n4                               Рецепт вишневой наливки   \n...                                                 ...   \n3462                                               Мшош   \n3463                   Мясные треугольники с баклажаном   \n3464                               \"Болоньез\" по-новому   \n3465               Варенье из одуванчиков с апельсинами   \n3466  Три корочки хлеба под соусом болоньез для Пино...   \n\n                                            ingredients  \\\n0     {'Молоко': '250 мл', 'Клубника': '200 г', 'Сах...   \n1     {'Сыр твердый': None, 'Чеснок': None, 'Яйцо ку...   \n2     {'Баклажан': '3 шт', 'Лук репчатый': '2 шт', '...   \n3     {'Фарш куриный': '800 г', 'Пюре картофельное':...   \n4     {'Вишня': '1 кг', 'Водка': '1 л', 'Сахар': '30...   \n...                                                 ...   \n3462  {'Чечевица': '1 стак.', 'Лук репчатый': '2 шт'...   \n3463  {'Фарш мясной': '400 г', 'Баклажан': '1 шт', '...   \n3464  {'Фарш мясной': '400 г', 'Томаты в собственном...   \n3465  {'Цветки': '400 г', 'Сахар': '1300 г', 'Апельс...   \n3466  {'Хлеб': '3 шт', 'Фарш мясной': '200-250 г', '...   \n\n                                            description  \n0     Этот коктейль готовлю из замороженной клубники...  \n1                                      Быстро и вкусно.  \n2           Сытный, овощной салатик, пальчики оближете.  \n3     Картофельное пюре и куриные котлеты - вкусная ...  \n4     Вишневая наливка имеет яркий вишневый вкус, ко...  \n...                                                 ...  \n3462  Для тех, кто любит чечевицу... Вам сюда! Очень...  \n3463  Баклажановые фантазии продолжаются! Предлагаю ...  \n3464  Мое любимое блюдо лазанья. Но кушать только фа...  \n3465  Прошлым летом варила варенье из одуванчиков по...  \n3466  - И три корочки хлеба! - сделал заказ Буратино...  \n\n[3467 rows x 4 columns]",
      "text/html": "<div>\n<style scoped>\n    .dataframe tbody tr th:only-of-type {\n        vertical-align: middle;\n    }\n\n    .dataframe tbody tr th {\n        vertical-align: top;\n    }\n\n    .dataframe thead th {\n        text-align: right;\n    }\n</style>\n<table border=\"1\" class=\"dataframe\">\n  <thead>\n    <tr style=\"text-align: right;\">\n      <th></th>\n      <th>url</th>\n      <th>name</th>\n      <th>ingredients</th>\n      <th>description</th>\n    </tr>\n  </thead>\n  <tbody>\n    <tr>\n      <th>0</th>\n      <td>https://www.povarenok.ru/recipes/show/164365/</td>\n      <td>Густой молочно-клубничный коктейль</td>\n      <td>{'Молоко': '250 мл', 'Клубника': '200 г', 'Сах...</td>\n      <td>Этот коктейль готовлю из замороженной клубники...</td>\n    </tr>\n    <tr>\n      <th>1</th>\n      <td>https://www.povarenok.ru/recipes/show/1306/</td>\n      <td>Рулетики</td>\n      <td>{'Сыр твердый': None, 'Чеснок': None, 'Яйцо ку...</td>\n      <td>Быстро и вкусно.</td>\n    </tr>\n    <tr>\n      <th>2</th>\n      <td>https://www.povarenok.ru/recipes/show/10625/</td>\n      <td>Салат \"Баклажанчик\"</td>\n      <td>{'Баклажан': '3 шт', 'Лук репчатый': '2 шт', '...</td>\n      <td>Сытный, овощной салатик, пальчики оближете.</td>\n    </tr>\n    <tr>\n      <th>3</th>\n      <td>https://www.povarenok.ru/recipes/show/167337/</td>\n      <td>Куриные котлеты с картофельным пюре в духовке</td>\n      <td>{'Фарш куриный': '800 г', 'Пюре картофельное':...</td>\n      <td>Картофельное пюре и куриные котлеты - вкусная ...</td>\n    </tr>\n    <tr>\n      <th>4</th>\n      <td>https://www.povarenok.ru/recipes/show/91919/</td>\n      <td>Рецепт вишневой наливки</td>\n      <td>{'Вишня': '1 кг', 'Водка': '1 л', 'Сахар': '30...</td>\n      <td>Вишневая наливка имеет яркий вишневый вкус, ко...</td>\n    </tr>\n    <tr>\n      <th>...</th>\n      <td>...</td>\n      <td>...</td>\n      <td>...</td>\n      <td>...</td>\n    </tr>\n    <tr>\n      <th>3462</th>\n      <td>https://www.povarenok.ru/recipes/show/54574/</td>\n      <td>Мшош</td>\n      <td>{'Чечевица': '1 стак.', 'Лук репчатый': '2 шт'...</td>\n      <td>Для тех, кто любит чечевицу... Вам сюда! Очень...</td>\n    </tr>\n    <tr>\n      <th>3463</th>\n      <td>https://www.povarenok.ru/recipes/show/113494/</td>\n      <td>Мясные треугольники с баклажаном</td>\n      <td>{'Фарш мясной': '400 г', 'Баклажан': '1 шт', '...</td>\n      <td>Баклажановые фантазии продолжаются! Предлагаю ...</td>\n    </tr>\n    <tr>\n      <th>3464</th>\n      <td>https://www.povarenok.ru/recipes/show/83228/</td>\n      <td>\"Болоньез\" по-новому</td>\n      <td>{'Фарш мясной': '400 г', 'Томаты в собственном...</td>\n      <td>Мое любимое блюдо лазанья. Но кушать только фа...</td>\n    </tr>\n    <tr>\n      <th>3465</th>\n      <td>https://www.povarenok.ru/recipes/show/172238/</td>\n      <td>Варенье из одуванчиков с апельсинами</td>\n      <td>{'Цветки': '400 г', 'Сахар': '1300 г', 'Апельс...</td>\n      <td>Прошлым летом варила варенье из одуванчиков по...</td>\n    </tr>\n    <tr>\n      <th>3466</th>\n      <td>https://www.povarenok.ru/recipes/show/52794/</td>\n      <td>Три корочки хлеба под соусом болоньез для Пино...</td>\n      <td>{'Хлеб': '3 шт', 'Фарш мясной': '200-250 г', '...</td>\n      <td>- И три корочки хлеба! - сделал заказ Буратино...</td>\n    </tr>\n  </tbody>\n</table>\n<p>3467 rows × 4 columns</p>\n</div>"
     },
     "execution_count": 2,
     "metadata": {},
     "output_type": "execute_result"
    }
   ],
   "source": [
    "recipes = pd.DataFrame(pd.read_csv('07_nlp_data/ru_recipes_sample.csv'))\n",
    "recipes"
   ],
   "metadata": {
    "collapsed": false,
    "pycharm": {
     "name": "#%%\n"
    }
   }
  },
  {
   "cell_type": "code",
   "execution_count": 3,
   "outputs": [
    {
     "data": {
      "text/plain": "                                                url  \\\n0     https://www.povarenok.ru/recipes/show/164365/   \n1       https://www.povarenok.ru/recipes/show/1306/   \n2      https://www.povarenok.ru/recipes/show/10625/   \n3     https://www.povarenok.ru/recipes/show/167337/   \n4      https://www.povarenok.ru/recipes/show/91919/   \n...                                             ...   \n3462   https://www.povarenok.ru/recipes/show/54574/   \n3463  https://www.povarenok.ru/recipes/show/113494/   \n3464   https://www.povarenok.ru/recipes/show/83228/   \n3465  https://www.povarenok.ru/recipes/show/172238/   \n3466   https://www.povarenok.ru/recipes/show/52794/   \n\n                                                   name  \\\n0                    Густой молочно-клубничный коктейль   \n1                                              Рулетики   \n2                                   Салат \"Баклажанчик\"   \n3         Куриные котлеты с картофельным пюре в духовке   \n4                               Рецепт вишневой наливки   \n...                                                 ...   \n3462                                               Мшош   \n3463                   Мясные треугольники с баклажаном   \n3464                               \"Болоньез\" по-новому   \n3465               Варенье из одуванчиков с апельсинами   \n3466  Три корочки хлеба под соусом болоньез для Пино...   \n\n                                            ingredients  \\\n0     {'Молоко': '250 мл', 'Клубника': '200 г', 'Сах...   \n1     {'Сыр твердый': None, 'Чеснок': None, 'Яйцо ку...   \n2     {'Баклажан': '3 шт', 'Лук репчатый': '2 шт', '...   \n3     {'Фарш куриный': '800 г', 'Пюре картофельное':...   \n4     {'Вишня': '1 кг', 'Водка': '1 л', 'Сахар': '30...   \n...                                                 ...   \n3462  {'Чечевица': '1 стак.', 'Лук репчатый': '2 шт'...   \n3463  {'Фарш мясной': '400 г', 'Баклажан': '1 шт', '...   \n3464  {'Фарш мясной': '400 г', 'Томаты в собственном...   \n3465  {'Цветки': '400 г', 'Сахар': '1300 г', 'Апельс...   \n3466  {'Хлеб': '3 шт', 'Фарш мясной': '200-250 г', '...   \n\n                                            description  \n0     этот коктейль готовлю из замороженной клубники...  \n1                                       быстро и вкусно  \n2              сытный овощной салатик пальчики оближете  \n3     картофельное пюре и куриные котлеты  вкусная к...  \n4     вишневая наливка имеет яркий вишневый вкус кот...  \n...                                                 ...  \n3462  для тех кто любит чечевицу вам сюда очень вкус...  \n3463  баклажановые фантазии продолжаются предлагаю в...  \n3464  мое любимое блюдо лазанья но кушать только фар...  \n3465  прошлым летом варила варенье из одуванчиков по...  \n3466   и три корочки хлеба  сделал заказ буратино в ...  \n\n[3467 rows x 4 columns]",
      "text/html": "<div>\n<style scoped>\n    .dataframe tbody tr th:only-of-type {\n        vertical-align: middle;\n    }\n\n    .dataframe tbody tr th {\n        vertical-align: top;\n    }\n\n    .dataframe thead th {\n        text-align: right;\n    }\n</style>\n<table border=\"1\" class=\"dataframe\">\n  <thead>\n    <tr style=\"text-align: right;\">\n      <th></th>\n      <th>url</th>\n      <th>name</th>\n      <th>ingredients</th>\n      <th>description</th>\n    </tr>\n  </thead>\n  <tbody>\n    <tr>\n      <th>0</th>\n      <td>https://www.povarenok.ru/recipes/show/164365/</td>\n      <td>Густой молочно-клубничный коктейль</td>\n      <td>{'Молоко': '250 мл', 'Клубника': '200 г', 'Сах...</td>\n      <td>этот коктейль готовлю из замороженной клубники...</td>\n    </tr>\n    <tr>\n      <th>1</th>\n      <td>https://www.povarenok.ru/recipes/show/1306/</td>\n      <td>Рулетики</td>\n      <td>{'Сыр твердый': None, 'Чеснок': None, 'Яйцо ку...</td>\n      <td>быстро и вкусно</td>\n    </tr>\n    <tr>\n      <th>2</th>\n      <td>https://www.povarenok.ru/recipes/show/10625/</td>\n      <td>Салат \"Баклажанчик\"</td>\n      <td>{'Баклажан': '3 шт', 'Лук репчатый': '2 шт', '...</td>\n      <td>сытный овощной салатик пальчики оближете</td>\n    </tr>\n    <tr>\n      <th>3</th>\n      <td>https://www.povarenok.ru/recipes/show/167337/</td>\n      <td>Куриные котлеты с картофельным пюре в духовке</td>\n      <td>{'Фарш куриный': '800 г', 'Пюре картофельное':...</td>\n      <td>картофельное пюре и куриные котлеты  вкусная к...</td>\n    </tr>\n    <tr>\n      <th>4</th>\n      <td>https://www.povarenok.ru/recipes/show/91919/</td>\n      <td>Рецепт вишневой наливки</td>\n      <td>{'Вишня': '1 кг', 'Водка': '1 л', 'Сахар': '30...</td>\n      <td>вишневая наливка имеет яркий вишневый вкус кот...</td>\n    </tr>\n    <tr>\n      <th>...</th>\n      <td>...</td>\n      <td>...</td>\n      <td>...</td>\n      <td>...</td>\n    </tr>\n    <tr>\n      <th>3462</th>\n      <td>https://www.povarenok.ru/recipes/show/54574/</td>\n      <td>Мшош</td>\n      <td>{'Чечевица': '1 стак.', 'Лук репчатый': '2 шт'...</td>\n      <td>для тех кто любит чечевицу вам сюда очень вкус...</td>\n    </tr>\n    <tr>\n      <th>3463</th>\n      <td>https://www.povarenok.ru/recipes/show/113494/</td>\n      <td>Мясные треугольники с баклажаном</td>\n      <td>{'Фарш мясной': '400 г', 'Баклажан': '1 шт', '...</td>\n      <td>баклажановые фантазии продолжаются предлагаю в...</td>\n    </tr>\n    <tr>\n      <th>3464</th>\n      <td>https://www.povarenok.ru/recipes/show/83228/</td>\n      <td>\"Болоньез\" по-новому</td>\n      <td>{'Фарш мясной': '400 г', 'Томаты в собственном...</td>\n      <td>мое любимое блюдо лазанья но кушать только фар...</td>\n    </tr>\n    <tr>\n      <th>3465</th>\n      <td>https://www.povarenok.ru/recipes/show/172238/</td>\n      <td>Варенье из одуванчиков с апельсинами</td>\n      <td>{'Цветки': '400 г', 'Сахар': '1300 г', 'Апельс...</td>\n      <td>прошлым летом варила варенье из одуванчиков по...</td>\n    </tr>\n    <tr>\n      <th>3466</th>\n      <td>https://www.povarenok.ru/recipes/show/52794/</td>\n      <td>Три корочки хлеба под соусом болоньез для Пино...</td>\n      <td>{'Хлеб': '3 шт', 'Фарш мясной': '200-250 г', '...</td>\n      <td>и три корочки хлеба  сделал заказ буратино в ...</td>\n    </tr>\n  </tbody>\n</table>\n<p>3467 rows × 4 columns</p>\n</div>"
     },
     "execution_count": 3,
     "metadata": {},
     "output_type": "execute_result"
    }
   ],
   "source": [
    "recipes['description'].replace(r'[^А-Яа-яЁё0-9\\s]', '', regex=True, inplace=True)\n",
    "recipes['description'] = [value.lower() for value in recipes['description']]\n",
    "recipes"
   ],
   "metadata": {
    "collapsed": false,
    "pycharm": {
     "name": "#%%\n"
    }
   }
  },
  {
   "cell_type": "code",
   "execution_count": 4,
   "outputs": [
    {
     "data": {
      "text/plain": "0       этот коктейль готовлю из замороженной клубники...\n1                                         быстро и вкусно\n2                сытный овощной салатик пальчики оближете\n3       картофельное пюре и куриные котлеты  вкусная к...\n4       вишневая наливка имеет яркий вишневый вкус кот...\n                              ...                        \n3462    для тех кто любит чечевицу вам сюда очень вкус...\n3463    баклажановые фантазии продолжаются предлагаю в...\n3464    мое любимое блюдо лазанья но кушать только фар...\n3465    прошлым летом варила варенье из одуванчиков по...\n3466     и три корочки хлеба  сделал заказ буратино в ...\nName: description, Length: 3467, dtype: object"
     },
     "execution_count": 4,
     "metadata": {},
     "output_type": "execute_result"
    }
   ],
   "source": [
    "recipes['description']"
   ],
   "metadata": {
    "collapsed": false,
    "pycharm": {
     "name": "#%%\n"
    }
   }
  },
  {
   "cell_type": "markdown",
   "metadata": {
    "pycharm": {
     "name": "#%% md\n"
    }
   },
   "source": [
    "### Расстояние редактирования"
   ]
  },
  {
   "cell_type": "code",
   "execution_count": 30,
   "outputs": [
    {
     "name": "stdout",
     "output_type": "stream",
     "text": [
      "Requirement already satisfied: python-Levenshtein in c:\\users\\admin\\anaconda3\\lib\\site-packages (0.20.8)\n",
      "Requirement already satisfied: Levenshtein==0.20.8 in c:\\users\\admin\\anaconda3\\lib\\site-packages (from python-Levenshtein) (0.20.8)\n",
      "Requirement already satisfied: rapidfuzz<3.0.0,>=2.3.0 in c:\\users\\admin\\anaconda3\\lib\\site-packages (from Levenshtein==0.20.8->python-Levenshtein) (2.13.2)\n"
     ]
    },
    {
     "name": "stderr",
     "output_type": "stream",
     "text": [
      "WARNING: Ignoring invalid distribution -atplotlib (c:\\users\\admin\\anaconda3\\lib\\site-packages)\n",
      "WARNING: Ignoring invalid distribution -atplotlib (c:\\users\\admin\\anaconda3\\lib\\site-packages)\n",
      "WARNING: Ignoring invalid distribution -atplotlib (c:\\users\\admin\\anaconda3\\lib\\site-packages)\n",
      "WARNING: Ignoring invalid distribution -atplotlib (c:\\users\\admin\\anaconda3\\lib\\site-packages)\n",
      "WARNING: Ignoring invalid distribution -atplotlib (c:\\users\\admin\\anaconda3\\lib\\site-packages)\n",
      "WARNING: Ignoring invalid distribution -atplotlib (c:\\users\\admin\\anaconda3\\lib\\site-packages)\n"
     ]
    }
   ],
   "source": [
    "!pip install python-Levenshtein"
   ],
   "metadata": {
    "collapsed": false,
    "pycharm": {
     "name": "#%%\n"
    }
   }
  },
  {
   "cell_type": "code",
   "execution_count": 5,
   "outputs": [],
   "source": [
    "from Levenshtein import distance as lev"
   ],
   "metadata": {
    "collapsed": false,
    "pycharm": {
     "name": "#%%\n"
    }
   }
  },
  {
   "cell_type": "markdown",
   "metadata": {
    "pycharm": {
     "name": "#%% md\n"
    }
   },
   "source": [
    "2\\. Получите набор уникальных слов `words`, содержащихся в текстах описаний рецептов (воспользуйтесь `word_tokenize` из `nltk`). Сгенерируйте 5 пар случайно выбранных слов и посчитайте между ними расстояние Левенштейна. Выведите на экран результат в следующем виде:\n",
    "\n",
    "```\n",
    "d(word1, word2) = x\n",
    "```"
   ]
  },
  {
   "cell_type": "code",
   "execution_count": 6,
   "outputs": [],
   "source": [
    "def levenstein(str_1, str_2):\n",
    "    len_1_n, len_2_m = len(str_1), len(str_2)\n",
    "    if len_1_n > len_2_m:\n",
    "        str_1, str_2 = str_2, str_1\n",
    "        len_1_n, len_2_m = len_2_m, len_1_n\n",
    "\n",
    "    now_row = range(len_1_n + 1)\n",
    "    for i in range(1, len_2_m + 1):\n",
    "        past_row, now_row = now_row, [i] + [0]*len_1_n\n",
    "        for j in range(1, len_1_n + 1):\n",
    "            add_value = past_row[j] + 1\n",
    "            delete_value = now_row[j - 1] + 1\n",
    "            change_value = past_row[j - 1]\n",
    "            if str_1[j - 1] != str_2[i - 1]:\n",
    "                change_value += 1\n",
    "            now_row[j] = min(add_value, delete_value, change_value)\n",
    "    return now_row[len_1_n]"
   ],
   "metadata": {
    "collapsed": false,
    "pycharm": {
     "name": "#%%\n"
    }
   }
  },
  {
   "cell_type": "code",
   "execution_count": 7,
   "outputs": [
    {
     "name": "stdout",
     "output_type": "stream",
     "text": [
      "d(трапезу, устроить) = 7\n",
      "d(вольные, свклы) = 5\n",
      "d(бананами, рулетом) = 7\n",
      "d(представленные, коем) = 13\n",
      "d(фишка, коллег) = 6\n"
     ]
    }
   ],
   "source": [
    "text_words = list(set(word_tokenize(\" \".join(recipes['description']).replace('\\r', ' ').replace('\\n', ' '))))\n",
    "list_indexes = [[random.randint(1, len(text_words)), random.randint(1, len(text_words))] for _ in range(5)]\n",
    "list_value = [[text_words[indexes[0]], text_words[indexes[1]]] for indexes in list_indexes]\n",
    "\n",
    "for pare in range(5):\n",
    "    print(f\"d({list_value[pare][0]}, {list_value[pare][1]}) = {levenstein(list_value[pare][0], list_value[pare][1])}\")"
   ],
   "metadata": {
    "collapsed": false,
    "pycharm": {
     "name": "#%%\n"
    }
   }
  },
  {
   "cell_type": "code",
   "execution_count": 8,
   "outputs": [
    {
     "name": "stdout",
     "output_type": "stream",
     "text": [
      "d(трапезу, устроить) = 7\n",
      "d(вольные, свклы) = 5\n",
      "d(бананами, рулетом) = 7\n",
      "d(представленные, коем) = 13\n",
      "d(фишка, коллег) = 6\n"
     ]
    }
   ],
   "source": [
    "for pare in range(5):\n",
    "    print(f\"d({list_value[pare][0]}, {list_value[pare][1]}) = {lev(list_value[pare][0], list_value[pare][1])}\")"
   ],
   "metadata": {
    "collapsed": false,
    "pycharm": {
     "name": "#%%\n"
    }
   }
  },
  {
   "cell_type": "markdown",
   "metadata": {
    "pycharm": {
     "name": "#%% md\n"
    }
   },
   "source": [
    "3\\. Напишите функцию, которая принимает на вход 2 текстовые строки `s1` и `s2` и при помощи расстояния Левенштейна определяет, является ли строка `s2` плагиатом `s1`. Функция должна реализовывать следующую логику: для каждого слова `w1` из `s1` проверяет, есть в `s2` хотя бы одно слово `w2`, такое, что расстояние Левенштейна между `w1` и `w2` меньше 2, и считает количество таких слов в `s1` $P$. \n",
    "\n",
    "$$ P = \\#\\{w_1 \\in s_1\\ | \\exists w_2 \\in s_2 : d(w_1, w_2) < tol\\}$$\n",
    "\n",
    "$$ L = max(|s1|, |s2|) $$\n",
    "\n",
    "Здесь $|\\cdot|$ - количество слов в строке, $\\#A$ - число элементов в множестве $A$, $w \\in s$ означает, что слово $w$ содержится в тексте $s$.\n",
    "\n",
    "Если отношение $P / L$ больше 0.8, то функция должна вернуть True; иначе False.\n",
    "\n",
    "Продемонстрируйте работу вашей функции на примере описаний двух рецептов с ID 135488 и 851934 (ID рецепта - это число, стоящее в конце url рецепта). Выведите на экран описания этих рецептов и результат работы функции."
   ]
  },
  {
   "cell_type": "code",
   "execution_count": 15,
   "metadata": {
    "pycharm": {
     "name": "#%%\n"
    }
   },
   "outputs": [],
   "source": [
    "def is_plagiarism(s1: str, s2: str) -> bool:\n",
    "    str_one = word_tokenize(s1)\n",
    "    str_two = word_tokenize(s2)\n",
    "    L = max(len(str_one), len(str_two))\n",
    "    total_lev = []\n",
    "    for word1 in str_one:\n",
    "        count_levenstein = []\n",
    "        for word2 in str_two:\n",
    "            count_levenstein.append(lev(word1, word2))\n",
    "        if 0 in count_levenstein or 1 in count_levenstein:\n",
    "           total_lev.append(1)\n",
    "        else:\n",
    "            total_lev.append(0)\n",
    "    P = sum(total_lev)\n",
    "    print(P / L)\n",
    "    return True if (P / L) > 0.8 else False"
   ]
  },
  {
   "cell_type": "code",
   "execution_count": 16,
   "outputs": [
    {
     "name": "stdout",
     "output_type": "stream",
     "text": [
      "Необходимые нам индексы таблицы с ID = 135488 и 851934: \n"
     ]
    },
    {
     "data": {
      "text/plain": "[958, 1473]"
     },
     "execution_count": 16,
     "metadata": {},
     "output_type": "execute_result"
    }
   ],
   "source": [
    "print('Необходимые нам индексы таблицы с ID = 135488 и 851934: ', end='\\n')\n",
    "[index for index in range(len(list(recipes['url']))) if list(recipes['url'])[index].split('/')[-2] == '135488' or list(recipes['url'])[index].split('/')[-2] == '851934']"
   ],
   "metadata": {
    "collapsed": false,
    "pycharm": {
     "name": "#%%\n"
    }
   }
  },
  {
   "cell_type": "code",
   "execution_count": 17,
   "outputs": [
    {
     "data": {
      "text/plain": "url                https://www.povarenok.ru/recipes/show/135488/\nname                       Паштет сало-авокадо в хлебных орешках\ningredients    {'Сало': '100 г', 'Соль': '1/3 ч. л.', 'Чеснок...\ndescription    прекрасной закуской к крепким напиткам на фурш...\nName: 958, dtype: object"
     },
     "execution_count": 17,
     "metadata": {},
     "output_type": "execute_result"
    }
   ],
   "source": [
    "recipes.iloc[958]"
   ],
   "metadata": {
    "collapsed": false,
    "pycharm": {
     "name": "#%%\n"
    }
   }
  },
  {
   "cell_type": "code",
   "execution_count": 18,
   "outputs": [
    {
     "data": {
      "text/plain": "url                https://www.povarenok.ru/recipes/show/851934/\nname                   Паштет из сала и авокадов хлебных орешках\ningredients    {'Сало': '100 г', 'Соль': '1/3 ч. л.', 'Чеснок...\ndescription    замечательной закуской к напиткам на фуршетном...\nName: 1473, dtype: object"
     },
     "execution_count": 18,
     "metadata": {},
     "output_type": "execute_result"
    }
   ],
   "source": [
    "recipes.iloc[1473]"
   ],
   "metadata": {
    "collapsed": false,
    "pycharm": {
     "name": "#%%\n"
    }
   }
  },
  {
   "cell_type": "code",
   "execution_count": 19,
   "outputs": [
    {
     "data": {
      "text/plain": "('прекрасной закуской к крепким напиткам на фуршетном столе станет паштет из сала и авокадо с чесноком который мы спрячем в орешках из бородинского хлеба положив в середину маслину закуска получается необычной оригинальной и ценится особенно мужчинами',\n 'замечательной закуской к напиткам на фуршетном столе станет паштет из сала и авокадо с чесноком куда мы добавим орешков из бородинского хлеба положив в середину маслины закуска получается крайне необычной оригинальной и ценится особенно мужчинами')"
     },
     "execution_count": 19,
     "metadata": {},
     "output_type": "execute_result"
    }
   ],
   "source": [
    "recipes.iloc[958]['description'], recipes.iloc[1473]['description']"
   ],
   "metadata": {
    "collapsed": false,
    "pycharm": {
     "name": "#%%\n"
    }
   }
  },
  {
   "cell_type": "code",
   "execution_count": 20,
   "outputs": [
    {
     "name": "stdout",
     "output_type": "stream",
     "text": [
      "0.8611111111111112\n"
     ]
    },
    {
     "data": {
      "text/plain": "True"
     },
     "execution_count": 20,
     "metadata": {},
     "output_type": "execute_result"
    }
   ],
   "source": [
    "is_plagiarism(recipes.iloc[958]['description'], recipes.iloc[1473]['description'])"
   ],
   "metadata": {
    "collapsed": false,
    "pycharm": {
     "name": "#%%\n"
    }
   }
  },
  {
   "cell_type": "markdown",
   "metadata": {
    "pycharm": {
     "name": "#%% md\n"
    }
   },
   "source": [
    "  ### Стемминг, лемматизация"
   ]
  },
  {
   "cell_type": "markdown",
   "metadata": {
    "pycharm": {
     "name": "#%% md\n"
    }
   },
   "source": [
    "4\\. На основе набора слов из задания 2 создайте `pd.DataFrame` со столбцами `word`, `stemmed_word` и `normalized_word`. В столбец `stemmed_word` поместите версию слова после проведения процедуры стемминга; в столбец `normalized_word` поместите версию слова после проведения процедуры лемматизации. Столбец `word` укажите в качестве индекса. \n",
    "\n",
    "Для стемминга можно воспользоваться `SnowballStemmer` из `nltk`, для лемматизации слов - пакетом `pymorphy2`. Сравните результаты стемминга и лемматизации. Поясните на примере одной из строк получившегося фрейма (в виде текстового комментария), в чем разница между двумя этими подходами."
   ]
  },
  {
   "cell_type": "code",
   "execution_count": 46,
   "outputs": [
    {
     "data": {
      "text/plain": "['завтрак',\n 'соевый',\n 'возвращаюсь',\n 'мычание',\n 'неприметную',\n 'жеребца',\n 'пряности',\n 'говорит',\n 'неразочаровалась',\n 'питательное']"
     },
     "execution_count": 46,
     "metadata": {},
     "output_type": "execute_result"
    }
   ],
   "source": [
    "new_list_value = []\n",
    "for elems in list_value:\n",
    "    new_list_value.append(elems[0])\n",
    "    new_list_value.append(elems[1])\n",
    "new_list_value"
   ],
   "metadata": {
    "collapsed": false,
    "pycharm": {
     "name": "#%%\n"
    }
   }
  },
  {
   "cell_type": "code",
   "execution_count": 47,
   "outputs": [
    {
     "data": {
      "text/plain": "                  stemmed_word   normalized_word\nword                                            \nзавтрак                завтрак           завтрак\nсоевый                    соев            соевый\nвозвращаюсь           возвраща      возвращаться\nмычание                  мычан           мычание\nнеприметную          неприметн       неприметный\nжеребца                 жеребц           жеребец\nпряности               пряност          пряность\nговорит                  говор          говорить\nнеразочаровалась  неразочарова  неразочароваться\nпитательное          питательн       питательный",
      "text/html": "<div>\n<style scoped>\n    .dataframe tbody tr th:only-of-type {\n        vertical-align: middle;\n    }\n\n    .dataframe tbody tr th {\n        vertical-align: top;\n    }\n\n    .dataframe thead th {\n        text-align: right;\n    }\n</style>\n<table border=\"1\" class=\"dataframe\">\n  <thead>\n    <tr style=\"text-align: right;\">\n      <th></th>\n      <th>stemmed_word</th>\n      <th>normalized_word</th>\n    </tr>\n    <tr>\n      <th>word</th>\n      <th></th>\n      <th></th>\n    </tr>\n  </thead>\n  <tbody>\n    <tr>\n      <th>завтрак</th>\n      <td>завтрак</td>\n      <td>завтрак</td>\n    </tr>\n    <tr>\n      <th>соевый</th>\n      <td>соев</td>\n      <td>соевый</td>\n    </tr>\n    <tr>\n      <th>возвращаюсь</th>\n      <td>возвраща</td>\n      <td>возвращаться</td>\n    </tr>\n    <tr>\n      <th>мычание</th>\n      <td>мычан</td>\n      <td>мычание</td>\n    </tr>\n    <tr>\n      <th>неприметную</th>\n      <td>неприметн</td>\n      <td>неприметный</td>\n    </tr>\n    <tr>\n      <th>жеребца</th>\n      <td>жеребц</td>\n      <td>жеребец</td>\n    </tr>\n    <tr>\n      <th>пряности</th>\n      <td>пряност</td>\n      <td>пряность</td>\n    </tr>\n    <tr>\n      <th>говорит</th>\n      <td>говор</td>\n      <td>говорить</td>\n    </tr>\n    <tr>\n      <th>неразочаровалась</th>\n      <td>неразочарова</td>\n      <td>неразочароваться</td>\n    </tr>\n    <tr>\n      <th>питательное</th>\n      <td>питательн</td>\n      <td>питательный</td>\n    </tr>\n  </tbody>\n</table>\n</div>"
     },
     "execution_count": 47,
     "metadata": {},
     "output_type": "execute_result"
    }
   ],
   "source": [
    "morph = pymorphy2.MorphAnalyzer()\n",
    "stemmer = SnowballStemmer(\"russian\")\n",
    "stem_lem_df = pd.DataFrame(columns=['word', 'stemmed_word', 'normalized_word'])\n",
    "stem_lem_df['word'] = new_list_value\n",
    "stem_lem_df['stemmed_word'] = [stemmer.stem(word) for word in stem_lem_df['word']]\n",
    "stem_lem_df['normalized_word'] = [morph.parse(word)[0].normalized.word for word in stem_lem_df['word']]\n",
    "stem_lem_df = stem_lem_df.set_index('word')\n",
    "stem_lem_df\n",
    "\n",
    "# Stemmer в целом отбрасывает окончания, суффиксы и другие части слова, оставляя только его корень"
   ],
   "metadata": {
    "collapsed": false,
    "pycharm": {
     "name": "#%%\n"
    }
   }
  },
  {
   "cell_type": "markdown",
   "metadata": {
    "pycharm": {
     "name": "#%% md\n"
    }
   },
   "source": [
    "5\\. Добавьте в таблицу `recipes` столбец `description_no_stopwords`, в котором содержится текст описания рецепта после удаления из него стоп-слов. Посчитайте и выведите на экран долю стоп-слов среди общего количества слов. Сравните топ-10 самых часто употребляемых слов до и после удаления стоп-слов."
   ]
  },
  {
   "cell_type": "code",
   "execution_count": 22,
   "outputs": [
    {
     "name": "stderr",
     "output_type": "stream",
     "text": [
      "[nltk_data] Downloading package stopwords to\n",
      "[nltk_data]     C:\\Users\\admin\\AppData\\Roaming\\nltk_data...\n",
      "[nltk_data]   Unzipping corpora\\stopwords.zip.\n"
     ]
    }
   ],
   "source": [
    "nltk.download('stopwords')\n",
    "from nltk.corpus import stopwords"
   ],
   "metadata": {
    "collapsed": false,
    "pycharm": {
     "name": "#%%\n"
    }
   }
  },
  {
   "cell_type": "code",
   "execution_count": 48,
   "outputs": [
    {
     "name": "stderr",
     "output_type": "stream",
     "text": [
      "C:\\Users\\admin\\AppData\\Local\\Temp/ipykernel_5244/3367714406.py:3: FutureWarning: The default value of regex will change from True to False in a future version.\n",
      "  recipes['description_no_stopwords'] = recipes['description'].str.replace(pattern, '')\n"
     ]
    }
   ],
   "source": [
    "stops = stopwords.words('russian')\n",
    "pattern = r'\\b(?:{})\\b'.format('|'.join(stops))\n",
    "recipes['description_no_stopwords'] = recipes['description'].str.replace(pattern, '')"
   ],
   "metadata": {
    "collapsed": false,
    "pycharm": {
     "name": "#%%\n"
    }
   }
  },
  {
   "cell_type": "code",
   "execution_count": 54,
   "outputs": [
    {
     "data": {
      "text/plain": "(102978, 33223, 0.322622307677368)"
     },
     "execution_count": 54,
     "metadata": {},
     "output_type": "execute_result"
    }
   ],
   "source": [
    "word_counts_before = Counter(word_tokenize(' '.join(recipes['description'])))\n",
    "count_before, count_stops = sum(word_counts_before.values()), sum([word_counts_before[x] for x in stops])\n",
    "count_before, count_stops, count_stops / count_before"
   ],
   "metadata": {
    "collapsed": false,
    "pycharm": {
     "name": "#%%\n"
    }
   }
  },
  {
   "cell_type": "code",
   "execution_count": 56,
   "outputs": [
    {
     "data": {
      "text/plain": "(69755, 69755)"
     },
     "execution_count": 56,
     "metadata": {},
     "output_type": "execute_result"
    }
   ],
   "source": [
    "word_counts_after = Counter(word_tokenize(' '.join(recipes['description_no_stopwords'])))\n",
    "word_count_before = word_counts_before.most_common(10)\n",
    "word_count_after = word_counts_after.most_common(10)\n",
    "sum(word_counts_after.values()), count_before - count_stops"
   ],
   "metadata": {
    "collapsed": false,
    "pycharm": {
     "name": "#%%\n"
    }
   }
  },
  {
   "cell_type": "code",
   "execution_count": 57,
   "outputs": [
    {
     "data": {
      "text/plain": "[('и', 5054),\n ('в', 2584),\n ('с', 1934),\n ('на', 1655),\n ('очень', 1607),\n ('не', 1517),\n ('из', 1006),\n ('я', 979),\n ('рецепт', 869),\n ('а', 863)]"
     },
     "execution_count": 57,
     "metadata": {},
     "output_type": "execute_result"
    }
   ],
   "source": [
    "word_count_before"
   ],
   "metadata": {
    "collapsed": false,
    "pycharm": {
     "name": "#%%\n"
    }
   }
  },
  {
   "cell_type": "code",
   "execution_count": 58,
   "outputs": [
    {
     "data": {
      "text/plain": "[('очень', 1607),\n ('рецепт', 869),\n ('это', 734),\n ('блюдо', 524),\n ('вкусный', 461),\n ('просто', 436),\n ('вкусно', 375),\n ('приготовить', 344),\n ('вкус', 324),\n ('салат', 313)]"
     },
     "execution_count": 58,
     "metadata": {},
     "output_type": "execute_result"
    }
   ],
   "source": [
    "word_count_after"
   ],
   "metadata": {
    "collapsed": false,
    "pycharm": {
     "name": "#%%\n"
    }
   }
  },
  {
   "cell_type": "markdown",
   "metadata": {
    "pycharm": {
     "name": "#%% md\n"
    }
   },
   "source": [
    "### Векторное представление текста"
   ]
  },
  {
   "cell_type": "markdown",
   "metadata": {
    "pycharm": {
     "name": "#%% md\n"
    }
   },
   "source": [
    "6\\. Выберите случайным образом 5 рецептов из набора данных, в названии которых есть слово \"оладьи\" (без учета регистра). Представьте описание каждого рецепта в виде числового вектора при помощи `TfidfVectorizer`. На основе полученных векторов создайте `pd.DataFrame`, в котором названия колонок соответствуют словам из словаря объекта-векторизатора. \n",
    "\n",
    "Примечание: обратите внимание на порядок слов при создании колонок."
   ]
  },
  {
   "cell_type": "code",
   "execution_count": 59,
   "outputs": [],
   "source": [
    "from sklearn.feature_extraction.text import TfidfVectorizer"
   ],
   "metadata": {
    "collapsed": false,
    "pycharm": {
     "name": "#%%\n"
    }
   }
  },
  {
   "cell_type": "code",
   "execution_count": 215,
   "outputs": [
    {
     "data": {
      "text/plain": "                                                url  \\\n3117  https://www.povarenok.ru/recipes/show/122540/   \n1139    https://www.povarenok.ru/recipes/show/6443/   \n464   https://www.povarenok.ru/recipes/show/133050/   \n838    https://www.povarenok.ru/recipes/show/20041/   \n1601    https://www.povarenok.ru/recipes/show/1239/   \n\n                                      name  \\\n3117  Картофельные оладьи с соусом \"Весна\"   \n1139                        Куриные оладьи   \n464                        Яблочные оладьи   \n838                       Тыквенные оладьи   \n1601          Картофельные оладьи с семгой   \n\n                                            ingredients  \\\n3117  {'Картофель': '600 г', 'Лук репчатый': '1 шт',...   \n1139  {'Грудка куриная': None, 'Лук репчатый': '2 шт...   \n464   {'Яблоко': '2 шт', 'Яйцо куриное': '1 шт', 'Му...   \n838   {'Тыква': '500 г', 'Яйцо куриное': '2 шт', 'Кр...   \n1601  {'Картофель': '3 шт', 'Семга': '200 г', 'Крахм...   \n\n                                            description  \\\n3117  оладьи могут быть разные эти  картофельные с р...   \n1139  на скорую руку за фото к рецепту спасибо людми...   \n464   очень простое бюджетное блюдо особенно понрави...   \n838        нежные вкусные оладушки  мужу очень нравятся   \n1601  вкусные и сытные оладушки с явным вкусом жарен...   \n\n                               description_no_stopwords  \n3117  оладьи могут  разные   картофельные  рыбой  до...  \n1139   скорую руку  фото  рецепту спасибо людмиле сурик  \n464   очень простое бюджетное блюдо особенно понрави...  \n838        нежные вкусные оладушки  мужу очень нравятся  \n1601  вкусные  сытные оладушки  явным вкусом жареной...  ",
      "text/html": "<div>\n<style scoped>\n    .dataframe tbody tr th:only-of-type {\n        vertical-align: middle;\n    }\n\n    .dataframe tbody tr th {\n        vertical-align: top;\n    }\n\n    .dataframe thead th {\n        text-align: right;\n    }\n</style>\n<table border=\"1\" class=\"dataframe\">\n  <thead>\n    <tr style=\"text-align: right;\">\n      <th></th>\n      <th>url</th>\n      <th>name</th>\n      <th>ingredients</th>\n      <th>description</th>\n      <th>description_no_stopwords</th>\n    </tr>\n  </thead>\n  <tbody>\n    <tr>\n      <th>3117</th>\n      <td>https://www.povarenok.ru/recipes/show/122540/</td>\n      <td>Картофельные оладьи с соусом \"Весна\"</td>\n      <td>{'Картофель': '600 г', 'Лук репчатый': '1 шт',...</td>\n      <td>оладьи могут быть разные эти  картофельные с р...</td>\n      <td>оладьи могут  разные   картофельные  рыбой  до...</td>\n    </tr>\n    <tr>\n      <th>1139</th>\n      <td>https://www.povarenok.ru/recipes/show/6443/</td>\n      <td>Куриные оладьи</td>\n      <td>{'Грудка куриная': None, 'Лук репчатый': '2 шт...</td>\n      <td>на скорую руку за фото к рецепту спасибо людми...</td>\n      <td>скорую руку  фото  рецепту спасибо людмиле сурик</td>\n    </tr>\n    <tr>\n      <th>464</th>\n      <td>https://www.povarenok.ru/recipes/show/133050/</td>\n      <td>Яблочные оладьи</td>\n      <td>{'Яблоко': '2 шт', 'Яйцо куриное': '1 шт', 'Му...</td>\n      <td>очень простое бюджетное блюдо особенно понрави...</td>\n      <td>очень простое бюджетное блюдо особенно понрави...</td>\n    </tr>\n    <tr>\n      <th>838</th>\n      <td>https://www.povarenok.ru/recipes/show/20041/</td>\n      <td>Тыквенные оладьи</td>\n      <td>{'Тыква': '500 г', 'Яйцо куриное': '2 шт', 'Кр...</td>\n      <td>нежные вкусные оладушки  мужу очень нравятся</td>\n      <td>нежные вкусные оладушки  мужу очень нравятся</td>\n    </tr>\n    <tr>\n      <th>1601</th>\n      <td>https://www.povarenok.ru/recipes/show/1239/</td>\n      <td>Картофельные оладьи с семгой</td>\n      <td>{'Картофель': '3 шт', 'Семга': '200 г', 'Крахм...</td>\n      <td>вкусные и сытные оладушки с явным вкусом жарен...</td>\n      <td>вкусные  сытные оладушки  явным вкусом жареной...</td>\n    </tr>\n  </tbody>\n</table>\n</div>"
     },
     "execution_count": 215,
     "metadata": {},
     "output_type": "execute_result"
    }
   ],
   "source": [
    "olad = recipes[recipes['name'].str.contains('оладьи')]\n",
    "sample = olad.sample(n=5)\n",
    "sample"
   ],
   "metadata": {
    "collapsed": false,
    "pycharm": {
     "name": "#%%\n"
    }
   }
  },
  {
   "cell_type": "code",
   "execution_count": 216,
   "outputs": [
    {
     "data": {
      "text/plain": "     оладьи     могут      быть    разные       эти  картофельные     рыбой  \\\n0  0.158114  0.158114  0.158114  0.158114  0.158114      0.158114  0.158114   \n\n   дополнены  сметанным    соусом  ...  временем     годом  покупать  \\\n0   0.158114   0.158114  0.158114  ...  0.158114  0.158114  0.158114   \n\n         мы        их  начинали     марта    месяца        на  праздник  \n0  0.158114  0.158114  0.158114  0.158114  0.158114  0.158114  0.158114  \n\n[1 rows x 34 columns]",
      "text/html": "<div>\n<style scoped>\n    .dataframe tbody tr th:only-of-type {\n        vertical-align: middle;\n    }\n\n    .dataframe tbody tr th {\n        vertical-align: top;\n    }\n\n    .dataframe thead th {\n        text-align: right;\n    }\n</style>\n<table border=\"1\" class=\"dataframe\">\n  <thead>\n    <tr style=\"text-align: right;\">\n      <th></th>\n      <th>оладьи</th>\n      <th>могут</th>\n      <th>быть</th>\n      <th>разные</th>\n      <th>эти</th>\n      <th>картофельные</th>\n      <th>рыбой</th>\n      <th>дополнены</th>\n      <th>сметанным</th>\n      <th>соусом</th>\n      <th>...</th>\n      <th>временем</th>\n      <th>годом</th>\n      <th>покупать</th>\n      <th>мы</th>\n      <th>их</th>\n      <th>начинали</th>\n      <th>марта</th>\n      <th>месяца</th>\n      <th>на</th>\n      <th>праздник</th>\n    </tr>\n  </thead>\n  <tbody>\n    <tr>\n      <th>0</th>\n      <td>0.158114</td>\n      <td>0.158114</td>\n      <td>0.158114</td>\n      <td>0.158114</td>\n      <td>0.158114</td>\n      <td>0.158114</td>\n      <td>0.158114</td>\n      <td>0.158114</td>\n      <td>0.158114</td>\n      <td>0.158114</td>\n      <td>...</td>\n      <td>0.158114</td>\n      <td>0.158114</td>\n      <td>0.158114</td>\n      <td>0.158114</td>\n      <td>0.158114</td>\n      <td>0.158114</td>\n      <td>0.158114</td>\n      <td>0.158114</td>\n      <td>0.158114</td>\n      <td>0.158114</td>\n    </tr>\n  </tbody>\n</table>\n<p>1 rows × 34 columns</p>\n</div>"
     },
     "execution_count": 216,
     "metadata": {},
     "output_type": "execute_result"
    }
   ],
   "source": [
    "def get_dataframe_vect(sent_words):\n",
    "    cv = TfidfVectorizer()\n",
    "    cv.fit(sent_words)\n",
    "    return pd.DataFrame([{elem: cv.transform(sent_words).toarray()[0][cv.vocabulary_[elem]] for elem in cv.vocabulary_}])\n",
    "\n",
    "get_dataframe_vect(sent_tokenize(sample['description'].values[0]))"
   ],
   "metadata": {
    "collapsed": false,
    "pycharm": {
     "name": "#%%\n"
    }
   }
  },
  {
   "cell_type": "code",
   "execution_count": 217,
   "outputs": [
    {
     "data": {
      "text/plain": "         на    скорую      руку        за      фото   рецепту   спасибо  \\\n0  0.333333  0.333333  0.333333  0.333333  0.333333  0.333333  0.333333   \n\n    людмиле     сурик  \n0  0.333333  0.333333  ",
      "text/html": "<div>\n<style scoped>\n    .dataframe tbody tr th:only-of-type {\n        vertical-align: middle;\n    }\n\n    .dataframe tbody tr th {\n        vertical-align: top;\n    }\n\n    .dataframe thead th {\n        text-align: right;\n    }\n</style>\n<table border=\"1\" class=\"dataframe\">\n  <thead>\n    <tr style=\"text-align: right;\">\n      <th></th>\n      <th>на</th>\n      <th>скорую</th>\n      <th>руку</th>\n      <th>за</th>\n      <th>фото</th>\n      <th>рецепту</th>\n      <th>спасибо</th>\n      <th>людмиле</th>\n      <th>сурик</th>\n    </tr>\n  </thead>\n  <tbody>\n    <tr>\n      <th>0</th>\n      <td>0.333333</td>\n      <td>0.333333</td>\n      <td>0.333333</td>\n      <td>0.333333</td>\n      <td>0.333333</td>\n      <td>0.333333</td>\n      <td>0.333333</td>\n      <td>0.333333</td>\n      <td>0.333333</td>\n    </tr>\n  </tbody>\n</table>\n</div>"
     },
     "execution_count": 217,
     "metadata": {},
     "output_type": "execute_result"
    }
   ],
   "source": [
    "get_dataframe_vect(sent_tokenize(sample['description'].values[1]))"
   ],
   "metadata": {
    "collapsed": false,
    "pycharm": {
     "name": "#%%\n"
    }
   }
  },
  {
   "cell_type": "code",
   "execution_count": 218,
   "outputs": [
    {
     "data": {
      "text/plain": "      очень   простое  бюджетное     блюдо  особенно  понравится       тем  \\\n0  0.301511  0.301511   0.301511  0.301511  0.301511    0.301511  0.301511   \n\n       кому    нельзя  молочные  продукты  \n0  0.301511  0.301511  0.301511  0.301511  ",
      "text/html": "<div>\n<style scoped>\n    .dataframe tbody tr th:only-of-type {\n        vertical-align: middle;\n    }\n\n    .dataframe tbody tr th {\n        vertical-align: top;\n    }\n\n    .dataframe thead th {\n        text-align: right;\n    }\n</style>\n<table border=\"1\" class=\"dataframe\">\n  <thead>\n    <tr style=\"text-align: right;\">\n      <th></th>\n      <th>очень</th>\n      <th>простое</th>\n      <th>бюджетное</th>\n      <th>блюдо</th>\n      <th>особенно</th>\n      <th>понравится</th>\n      <th>тем</th>\n      <th>кому</th>\n      <th>нельзя</th>\n      <th>молочные</th>\n      <th>продукты</th>\n    </tr>\n  </thead>\n  <tbody>\n    <tr>\n      <th>0</th>\n      <td>0.301511</td>\n      <td>0.301511</td>\n      <td>0.301511</td>\n      <td>0.301511</td>\n      <td>0.301511</td>\n      <td>0.301511</td>\n      <td>0.301511</td>\n      <td>0.301511</td>\n      <td>0.301511</td>\n      <td>0.301511</td>\n      <td>0.301511</td>\n    </tr>\n  </tbody>\n</table>\n</div>"
     },
     "execution_count": 218,
     "metadata": {},
     "output_type": "execute_result"
    }
   ],
   "source": [
    "get_dataframe_vect(sent_tokenize(sample['description'].values[2]))"
   ],
   "metadata": {
    "collapsed": false,
    "pycharm": {
     "name": "#%%\n"
    }
   }
  },
  {
   "cell_type": "code",
   "execution_count": 219,
   "outputs": [
    {
     "data": {
      "text/plain": "     нежные   вкусные  оладушки      мужу     очень  нравятся\n0  0.408248  0.408248  0.408248  0.408248  0.408248  0.408248",
      "text/html": "<div>\n<style scoped>\n    .dataframe tbody tr th:only-of-type {\n        vertical-align: middle;\n    }\n\n    .dataframe tbody tr th {\n        vertical-align: top;\n    }\n\n    .dataframe thead th {\n        text-align: right;\n    }\n</style>\n<table border=\"1\" class=\"dataframe\">\n  <thead>\n    <tr style=\"text-align: right;\">\n      <th></th>\n      <th>нежные</th>\n      <th>вкусные</th>\n      <th>оладушки</th>\n      <th>мужу</th>\n      <th>очень</th>\n      <th>нравятся</th>\n    </tr>\n  </thead>\n  <tbody>\n    <tr>\n      <th>0</th>\n      <td>0.408248</td>\n      <td>0.408248</td>\n      <td>0.408248</td>\n      <td>0.408248</td>\n      <td>0.408248</td>\n      <td>0.408248</td>\n    </tr>\n  </tbody>\n</table>\n</div>"
     },
     "execution_count": 219,
     "metadata": {},
     "output_type": "execute_result"
    }
   ],
   "source": [
    "get_dataframe_vect(sent_tokenize(sample['description'].values[3]))"
   ],
   "metadata": {
    "collapsed": false,
    "pycharm": {
     "name": "#%%\n"
    }
   }
  },
  {
   "cell_type": "code",
   "execution_count": 220,
   "outputs": [
    {
     "data": {
      "text/plain": "    вкусные    сытные  оладушки     явным    вкусом   жареной      смги\n0  0.377964  0.377964  0.377964  0.377964  0.377964  0.377964  0.377964",
      "text/html": "<div>\n<style scoped>\n    .dataframe tbody tr th:only-of-type {\n        vertical-align: middle;\n    }\n\n    .dataframe tbody tr th {\n        vertical-align: top;\n    }\n\n    .dataframe thead th {\n        text-align: right;\n    }\n</style>\n<table border=\"1\" class=\"dataframe\">\n  <thead>\n    <tr style=\"text-align: right;\">\n      <th></th>\n      <th>вкусные</th>\n      <th>сытные</th>\n      <th>оладушки</th>\n      <th>явным</th>\n      <th>вкусом</th>\n      <th>жареной</th>\n      <th>смги</th>\n    </tr>\n  </thead>\n  <tbody>\n    <tr>\n      <th>0</th>\n      <td>0.377964</td>\n      <td>0.377964</td>\n      <td>0.377964</td>\n      <td>0.377964</td>\n      <td>0.377964</td>\n      <td>0.377964</td>\n      <td>0.377964</td>\n    </tr>\n  </tbody>\n</table>\n</div>"
     },
     "execution_count": 220,
     "metadata": {},
     "output_type": "execute_result"
    }
   ],
   "source": [
    "get_dataframe_vect(sent_tokenize(sample['description'].values[4]))"
   ],
   "metadata": {
    "collapsed": false,
    "pycharm": {
     "name": "#%%\n"
    }
   }
  },
  {
   "cell_type": "markdown",
   "metadata": {
    "pycharm": {
     "name": "#%% md\n"
    }
   },
   "source": [
    "7\\. Вычислите близость между каждой парой рецептов, выбранных в задании 6, используя косинусное расстояние (можно воспользоваться функциями из любого пакета: `scipy`, `scikit-learn` или реализовать функцию самому). Результаты оформите в виде таблицы `pd.DataFrame`. В качестве названий строк и столбцов используйте названия рецептов.\n",
    "\n",
    "Примечание: обратите внимание, что $d_{cosine}(x, x) = 0$"
   ]
  },
  {
   "cell_type": "code",
   "execution_count": 221,
   "outputs": [
    {
     "data": {
      "text/plain": "array([[1.        , 0.05270463, 0.        , 0.        , 0.        ],\n       [0.05270463, 1.        , 0.        , 0.        , 0.        ],\n       [0.        , 0.        , 1.        , 0.12309149, 0.        ],\n       [0.        , 0.        , 0.12309149, 1.        , 0.3086067 ],\n       [0.        , 0.        , 0.        , 0.3086067 , 1.        ]])"
     },
     "execution_count": 221,
     "metadata": {},
     "output_type": "execute_result"
    }
   ],
   "source": [
    "sample_desc = [sample.iloc[x]['description'] for x in range(5)]\n",
    "vecter = CountVectorizer().fit_transform(sample_desc).toarray()\n",
    "csim = cosine_similarity(vecter)\n",
    "csim"
   ],
   "metadata": {
    "collapsed": false,
    "pycharm": {
     "name": "#%%\n"
    }
   }
  },
  {
   "cell_type": "code",
   "execution_count": 222,
   "outputs": [
    {
     "data": {
      "text/plain": "                                      Картофельные оладьи с соусом \"Весна\"  \\\nКартофельные оладьи с соусом \"Весна\"                              0.000000   \nКуриные оладьи                                                    0.052705   \nЯблочные оладьи                                                   0.000000   \nТыквенные оладьи                                                  0.000000   \nКартофельные оладьи с семгой                                      0.000000   \n\n                                      Куриные оладьи  Яблочные оладьи  \\\nКартофельные оладьи с соусом \"Весна\"        0.052705         0.000000   \nКуриные оладьи                              0.000000         0.000000   \nЯблочные оладьи                             0.000000         0.000000   \nТыквенные оладьи                            0.000000         0.123091   \nКартофельные оладьи с семгой                0.000000         0.000000   \n\n                                      Тыквенные оладьи  \\\nКартофельные оладьи с соусом \"Весна\"          0.000000   \nКуриные оладьи                                0.000000   \nЯблочные оладьи                               0.123091   \nТыквенные оладьи                              0.000000   \nКартофельные оладьи с семгой                  0.308607   \n\n                                      Картофельные оладьи с семгой  \nКартофельные оладьи с соусом \"Весна\"                      0.000000  \nКуриные оладьи                                            0.000000  \nЯблочные оладьи                                           0.000000  \nТыквенные оладьи                                          0.308607  \nКартофельные оладьи с семгой                              0.000000  ",
      "text/html": "<div>\n<style scoped>\n    .dataframe tbody tr th:only-of-type {\n        vertical-align: middle;\n    }\n\n    .dataframe tbody tr th {\n        vertical-align: top;\n    }\n\n    .dataframe thead th {\n        text-align: right;\n    }\n</style>\n<table border=\"1\" class=\"dataframe\">\n  <thead>\n    <tr style=\"text-align: right;\">\n      <th></th>\n      <th>Картофельные оладьи с соусом \"Весна\"</th>\n      <th>Куриные оладьи</th>\n      <th>Яблочные оладьи</th>\n      <th>Тыквенные оладьи</th>\n      <th>Картофельные оладьи с семгой</th>\n    </tr>\n  </thead>\n  <tbody>\n    <tr>\n      <th>Картофельные оладьи с соусом \"Весна\"</th>\n      <td>0.000000</td>\n      <td>0.052705</td>\n      <td>0.000000</td>\n      <td>0.000000</td>\n      <td>0.000000</td>\n    </tr>\n    <tr>\n      <th>Куриные оладьи</th>\n      <td>0.052705</td>\n      <td>0.000000</td>\n      <td>0.000000</td>\n      <td>0.000000</td>\n      <td>0.000000</td>\n    </tr>\n    <tr>\n      <th>Яблочные оладьи</th>\n      <td>0.000000</td>\n      <td>0.000000</td>\n      <td>0.000000</td>\n      <td>0.123091</td>\n      <td>0.000000</td>\n    </tr>\n    <tr>\n      <th>Тыквенные оладьи</th>\n      <td>0.000000</td>\n      <td>0.000000</td>\n      <td>0.123091</td>\n      <td>0.000000</td>\n      <td>0.308607</td>\n    </tr>\n    <tr>\n      <th>Картофельные оладьи с семгой</th>\n      <td>0.000000</td>\n      <td>0.000000</td>\n      <td>0.000000</td>\n      <td>0.308607</td>\n      <td>0.000000</td>\n    </tr>\n  </tbody>\n</table>\n</div>"
     },
     "execution_count": 222,
     "metadata": {},
     "output_type": "execute_result"
    }
   ],
   "source": [
    "df_olad = pd.DataFrame(csim, columns=sample['name'].values, index=sample['name'].values)\n",
    "for i in range(5):\n",
    "    df_olad.iloc[i][i] = 0\n",
    "df_olad"
   ],
   "metadata": {
    "collapsed": false,
    "pycharm": {
     "name": "#%%\n"
    }
   }
  },
  {
   "cell_type": "markdown",
   "metadata": {
    "pycharm": {
     "name": "#%% md\n"
    }
   },
   "source": [
    "8\\. Напишите функцию, которая принимает на вход `pd.DataFrame`, полученный в задании 7, и возвращает в виде кортежа названия двух различных рецептов, которые являются наиболее похожими. Прокомментируйте результат (в виде текстового комментария). Для объяснения результата сравните слова в описаниях двух этих отзывов."
   ]
  },
  {
   "cell_type": "code",
   "execution_count": 231,
   "outputs": [
    {
     "name": "stdout",
     "output_type": "stream",
     "text": [
      "0.3086066999241838\n"
     ]
    },
    {
     "data": {
      "text/plain": "('Тыквенные оладьи', 'Картофельные оладьи с семгой')"
     },
     "execution_count": 231,
     "metadata": {},
     "output_type": "execute_result"
    }
   ],
   "source": [
    "def find_closest(sim_df: pd.DataFrame) -> tuple:\n",
    "    print(sim_df[sim_df == sim_df.max().max()].stack().values[0])\n",
    "    return sim_df[sim_df == sim_df.max().max()].stack().index.tolist()[0]\n",
    "find_closest(df_olad)"
   ],
   "metadata": {
    "collapsed": false,
    "pycharm": {
     "name": "#%%\n"
    }
   }
  },
  {
   "cell_type": "code",
   "execution_count": 232,
   "outputs": [
    {
     "name": "stdout",
     "output_type": "stream",
     "text": [
      "0.3086066999241838\n"
     ]
    },
    {
     "data": {
      "text/plain": "'нежные вкусные оладушки  мужу очень нравятся'"
     },
     "execution_count": 232,
     "metadata": {},
     "output_type": "execute_result"
    }
   ],
   "source": [
    "sample[sample['name']==find_closest(df_olad)[0]]['description'].values[0]"
   ],
   "metadata": {
    "collapsed": false,
    "pycharm": {
     "name": "#%%\n"
    }
   }
  },
  {
   "cell_type": "code",
   "execution_count": 233,
   "outputs": [
    {
     "name": "stdout",
     "output_type": "stream",
     "text": [
      "0.3086066999241838\n"
     ]
    },
    {
     "data": {
      "text/plain": "'вкусные и сытные оладушки с явным вкусом жареной смги'"
     },
     "execution_count": 233,
     "metadata": {},
     "output_type": "execute_result"
    }
   ],
   "source": [
    "sample[sample['name']==find_closest(df_olad)[1]]['description'].values[0]"
   ],
   "metadata": {
    "collapsed": false,
    "pycharm": {
     "name": "#%%\n"
    }
   }
  },
  {
   "cell_type": "markdown",
   "source": [
    "##### Вывод о схожести описания 2 рецептов\n",
    "Здесь видно, что есть полностью совпавшее словосочетание \"вкусные оладушки\", которое составляет 1/3 слов в первом и втором предложениях, а результат работы функции (синусное расстояние, коэффициент) составляет 0.308606 (30.86%)."
   ],
   "metadata": {
    "collapsed": false,
    "pycharm": {
     "name": "#%% md\n"
    }
   }
  },
  {
   "cell_type": "code",
   "execution_count": null,
   "outputs": [],
   "source": [],
   "metadata": {
    "collapsed": false,
    "pycharm": {
     "name": "#%%\n"
    }
   }
  }
 ],
 "metadata": {
  "kernelspec": {
   "display_name": "Python 3 (ipykernel)",
   "language": "python",
   "name": "python3"
  },
  "language_info": {
   "codemirror_mode": {
    "name": "ipython",
    "version": 3
   },
   "file_extension": ".py",
   "mimetype": "text/x-python",
   "name": "python",
   "nbconvert_exporter": "python",
   "pygments_lexer": "ipython3",
   "version": "3.9.7"
  }
 },
 "nbformat": 4,
 "nbformat_minor": 4
}