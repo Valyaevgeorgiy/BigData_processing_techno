{
 "cells": [
  {
   "cell_type": "markdown",
   "metadata": {
    "pycharm": {
     "name": "#%% md\n"
    }
   },
   "source": [
    "# Работа с базами данных"
   ]
  },
  {
   "cell_type": "markdown",
   "metadata": {
    "pycharm": {
     "name": "#%% md\n"
    }
   },
   "source": [
    "__Автор задач: Блохин Н.В. (NVBlokhin@fa.ru)__\n",
    "\n",
    "Материалы:\n",
    "* Макрушин С.В. Лекция \"Работа с базами данных\"\n",
    "* https://sqliteonline.com/\n",
    "* https://docs.python.org/3/library/sqlite3.html\n",
    "* https://www.sqlitetutorial.net/sqlite-create-table/\n",
    "* https://docs.python.org/3/library/pickle.html\n",
    "* https://www.geeksforgeeks.org/sql-join-set-1-inner-left-right-and-full-joins/\n",
    "* https://www.datacamp.com/community/tutorials/group-by-having-clause-sql"
   ]
  },
  {
   "cell_type": "markdown",
   "metadata": {
    "pycharm": {
     "name": "#%% md\n"
    }
   },
   "source": [
    "## Задачи для совместного разбора"
   ]
  },
  {
   "cell_type": "code",
   "execution_count": 48,
   "metadata": {
    "pycharm": {
     "name": "#%%\n"
    }
   },
   "outputs": [],
   "source": [
    "import pandas as pd\n",
    "import sqlite3, pickle, time\n",
    "from sqlite3 import Error"
   ]
  },
  {
   "cell_type": "code",
   "execution_count": null,
   "metadata": {
    "pycharm": {
     "name": "#%%\n"
    }
   },
   "outputs": [],
   "source": [
    "students = pd.DataFrame(\n",
    "    [\n",
    "        (\"Сотников Евгений Янович\", 1),\n",
    "        (\"Степанова Виктория Константиновна\", 1),\n",
    "        (\"Горелова Вероника Яновна\", 2),\n",
    "        (\"Гришин Иван Романович\", 3),\n",
    "    ],\n",
    "    columns=[\"name\", \"group_id\"],\n",
    ")\n",
    "\n",
    "\n",
    "groups = list(zip([1, 2, 3], [\"ПМ20-1\", \"ПМ20-2\", \"ПМ20-3\"]))"
   ]
  },
  {
   "cell_type": "markdown",
   "metadata": {
    "pycharm": {
     "name": "#%% md\n"
    }
   },
   "source": [
    "1. Создайте БД sqlite3 и таблицы Student и StudentGroup в ней."
   ]
  },
  {
   "cell_type": "markdown",
   "metadata": {
    "pycharm": {
     "name": "#%% md\n"
    }
   },
   "source": [
    "2. Заполните созданные таблицы данными"
   ]
  },
  {
   "cell_type": "markdown",
   "metadata": {
    "pycharm": {
     "name": "#%% md\n"
    }
   },
   "source": [
    "3. Выведите на экран фамилии студентов и номера их групп."
   ]
  },
  {
   "cell_type": "markdown",
   "metadata": {
    "pycharm": {
     "name": "#%% md\n"
    }
   },
   "source": [
    "## Лабораторная работа 9"
   ]
  },
  {
   "cell_type": "markdown",
   "metadata": {
    "pycharm": {
     "name": "#%% md\n"
    }
   },
   "source": [
    "### Создание и заполнение базы данных"
   ]
  },
  {
   "cell_type": "markdown",
   "metadata": {
    "pycharm": {
     "name": "#%% md\n"
    }
   },
   "source": [
    "1\\. Создайте файл БД sqlite3 согласно рисунку ниже, на котором определен набор таблиц и связей между ними. Обратите внимание, что поля, выделенные полужирным шрифтом, обозначают первичный ключ таблицы.\n",
    "\n",
    "Для решения задания напишите скрипт на языке SQL и исполните его при помощи метода `executescript` объекта-курсора."
   ]
  },
  {
   "cell_type": "code",
   "execution_count": 2,
   "outputs": [],
   "source": [
    "def create_connection(db_file):\n",
    "    \"\"\" create a database connection to a SQLite database \"\"\"\n",
    "    conn = None\n",
    "    try:\n",
    "        conn = sqlite3.connect(db_file)\n",
    "        print(sqlite3.version)\n",
    "    except Error as e:\n",
    "        print(e)\n",
    "    finally:\n",
    "        if conn:\n",
    "            conn.close()"
   ],
   "metadata": {
    "collapsed": false,
    "pycharm": {
     "name": "#%%\n"
    }
   }
  },
  {
   "cell_type": "code",
   "execution_count": 3,
   "outputs": [
    {
     "name": "stdout",
     "output_type": "stream",
     "text": [
      "2.6.0\n"
     ]
    }
   ],
   "source": [
    "create_connection(\".\\data\\proj.db\")"
   ],
   "metadata": {
    "collapsed": false,
    "pycharm": {
     "name": "#%%\n"
    }
   }
  },
  {
   "cell_type": "code",
   "execution_count": 4,
   "outputs": [],
   "source": [
    "conn = sqlite3.connect(\".\\data\\proj.db\")\n",
    "cursor = conn.cursor()"
   ],
   "metadata": {
    "collapsed": false,
    "pycharm": {
     "name": "#%%\n"
    }
   }
  },
  {
   "cell_type": "code",
   "execution_count": 5,
   "outputs": [],
   "source": [
    "sql_tag = \"\"\"\n",
    "CREATE TABLE IF NOT EXISTS TAG (\n",
    "    TAG VARCHAR PRIMARY KEY,\n",
    "    RECIPE_ID INT);\n",
    "\"\"\"\n",
    "\n",
    "sql_ingredient = \"\"\"\n",
    "CREATE TABLE IF NOT EXISTS INGREDIENT (\n",
    "    INGREDIENT_NAME VARCHAR PRIMARY KEY,\n",
    "    RECIPE_ID INT);\n",
    "\"\"\"\n",
    "\n",
    "sql_recipe = \"\"\"\n",
    "CREATE TABLE IF NOT EXISTS RECIPE (\n",
    "    ID INT PRIMARY KEY,\n",
    "    NAMER VARCHAR,\n",
    "    MINUTES INT,\n",
    "    SUBMITTED VARCHAR,\n",
    "    DESCRIPTION TEXT,\n",
    "    N_INGREDIENTS INT,\n",
    "    FOREIGN KEY (ID) REFERENCES TAG(RECIPE_ID),\n",
    "    FOREIGN KEY (ID) REFERENCES INGREDIENT(RECIPE_ID));\n",
    "\"\"\"\n",
    "\n",
    "sql_review = \"\"\"\n",
    "CREATE TABLE IF NOT EXISTS REVIEW (\n",
    "    ID INT PRIMARY KEY,\n",
    "    USER_ID INT,\n",
    "    RECIPE_ID INT,\n",
    "    DATER VARCHAR,\n",
    "    RATING INT,\n",
    "    REVIEW TEXT,\n",
    "    FOREIGN KEY (RECIPE_ID) REFERENCES RECIPE(ID));\n",
    "\"\"\""
   ],
   "metadata": {
    "collapsed": false,
    "pycharm": {
     "name": "#%%\n"
    }
   }
  },
  {
   "cell_type": "code",
   "execution_count": 6,
   "outputs": [
    {
     "data": {
      "text/plain": "<sqlite3.Cursor at 0x1cb1fa20030>"
     },
     "execution_count": 6,
     "metadata": {},
     "output_type": "execute_result"
    }
   ],
   "source": [
    "cursor.executescript(sql_tag)\n",
    "cursor.executescript(sql_ingredient)\n",
    "cursor.executescript(sql_recipe)\n",
    "cursor.executescript(sql_review)"
   ],
   "metadata": {
    "collapsed": false,
    "pycharm": {
     "name": "#%%\n"
    }
   }
  },
  {
   "cell_type": "markdown",
   "metadata": {
    "pycharm": {
     "name": "#%% md\n"
    }
   },
   "source": [
    "2\\. Загрузите данные из файла `recipes_sample.csv` в таблицу `Recipe`. При выполнении задания воспользуйтесь методом `executemany` объекта-курсора."
   ]
  },
  {
   "cell_type": "code",
   "execution_count": 7,
   "outputs": [
    {
     "name": "stderr",
     "output_type": "stream",
     "text": [
      "C:\\Users\\admin\\AppData\\Local\\Temp/ipykernel_19612/3634523435.py:4: SettingWithCopyWarning: \n",
      "A value is trying to be set on a copy of a slice from a DataFrame.\n",
      "Try using .loc[row_indexer,col_indexer] = value instead\n",
      "\n",
      "See the caveats in the documentation: https://pandas.pydata.org/pandas-docs/stable/user_guide/indexing.html#returning-a-view-versus-a-copy\n",
      "  recipes_sample['n_ingredients'] = pd.Series(int_ingredients)\n"
     ]
    },
    {
     "data": {
      "text/plain": "           id                                          name  minutes  \\\n0       44123         george s at the cove  black bean soup       90   \n1       67664            healthy for them  yogurt popsicles       10   \n2       38798                  i can t believe it s spinach       30   \n3       35173                          italian  gut busters       45   \n4       84797      love is in the air  beef fondue   sauces       25   \n...       ...                                           ...      ...   \n29995  267661  zurie s holey rustic olive and cheddar bread       80   \n29996  386977          zwetschgenkuchen  bavarian plum cake      240   \n29997  103312   zwiebelkuchen   southwest german onion cake       75   \n29998  486161                                   zydeco soup       60   \n29999  298512        cookies by design   cookies on a stick       29   \n\n        submitted                                        description  \\\n0      2002-10-25  an original recipe created by chef scott meska...   \n1      2003-07-26  my children and their friends ask for my homem...   \n2      2002-08-29            these were so go, it surprised even me.   \n3      2002-07-27  my sister-in-law made these for us at a family...   \n4      2004-02-23  i think a fondue is a very romantic casual din...   \n...           ...                                                ...   \n29995  2007-11-25  this is based on a french recipe but i changed...   \n29996  2009-08-24  this is a traditional fresh plum cake, thought...   \n29997  2004-11-03  this is a traditional late summer early fall s...   \n29998  2012-08-29  this is a delicious soup that i originally fou...   \n29999  2008-04-15  i've heard of the 'cookies by design' company,...   \n\n       n_ingredients  \n0                 18  \n1                  0  \n2                  8  \n3                  0  \n4                  0  \n...              ...  \n29995             10  \n29996             11  \n29997              0  \n29998              0  \n29999             10  \n\n[30000 rows x 6 columns]",
      "text/html": "<div>\n<style scoped>\n    .dataframe tbody tr th:only-of-type {\n        vertical-align: middle;\n    }\n\n    .dataframe tbody tr th {\n        vertical-align: top;\n    }\n\n    .dataframe thead th {\n        text-align: right;\n    }\n</style>\n<table border=\"1\" class=\"dataframe\">\n  <thead>\n    <tr style=\"text-align: right;\">\n      <th></th>\n      <th>id</th>\n      <th>name</th>\n      <th>minutes</th>\n      <th>submitted</th>\n      <th>description</th>\n      <th>n_ingredients</th>\n    </tr>\n  </thead>\n  <tbody>\n    <tr>\n      <th>0</th>\n      <td>44123</td>\n      <td>george s at the cove  black bean soup</td>\n      <td>90</td>\n      <td>2002-10-25</td>\n      <td>an original recipe created by chef scott meska...</td>\n      <td>18</td>\n    </tr>\n    <tr>\n      <th>1</th>\n      <td>67664</td>\n      <td>healthy for them  yogurt popsicles</td>\n      <td>10</td>\n      <td>2003-07-26</td>\n      <td>my children and their friends ask for my homem...</td>\n      <td>0</td>\n    </tr>\n    <tr>\n      <th>2</th>\n      <td>38798</td>\n      <td>i can t believe it s spinach</td>\n      <td>30</td>\n      <td>2002-08-29</td>\n      <td>these were so go, it surprised even me.</td>\n      <td>8</td>\n    </tr>\n    <tr>\n      <th>3</th>\n      <td>35173</td>\n      <td>italian  gut busters</td>\n      <td>45</td>\n      <td>2002-07-27</td>\n      <td>my sister-in-law made these for us at a family...</td>\n      <td>0</td>\n    </tr>\n    <tr>\n      <th>4</th>\n      <td>84797</td>\n      <td>love is in the air  beef fondue   sauces</td>\n      <td>25</td>\n      <td>2004-02-23</td>\n      <td>i think a fondue is a very romantic casual din...</td>\n      <td>0</td>\n    </tr>\n    <tr>\n      <th>...</th>\n      <td>...</td>\n      <td>...</td>\n      <td>...</td>\n      <td>...</td>\n      <td>...</td>\n      <td>...</td>\n    </tr>\n    <tr>\n      <th>29995</th>\n      <td>267661</td>\n      <td>zurie s holey rustic olive and cheddar bread</td>\n      <td>80</td>\n      <td>2007-11-25</td>\n      <td>this is based on a french recipe but i changed...</td>\n      <td>10</td>\n    </tr>\n    <tr>\n      <th>29996</th>\n      <td>386977</td>\n      <td>zwetschgenkuchen  bavarian plum cake</td>\n      <td>240</td>\n      <td>2009-08-24</td>\n      <td>this is a traditional fresh plum cake, thought...</td>\n      <td>11</td>\n    </tr>\n    <tr>\n      <th>29997</th>\n      <td>103312</td>\n      <td>zwiebelkuchen   southwest german onion cake</td>\n      <td>75</td>\n      <td>2004-11-03</td>\n      <td>this is a traditional late summer early fall s...</td>\n      <td>0</td>\n    </tr>\n    <tr>\n      <th>29998</th>\n      <td>486161</td>\n      <td>zydeco soup</td>\n      <td>60</td>\n      <td>2012-08-29</td>\n      <td>this is a delicious soup that i originally fou...</td>\n      <td>0</td>\n    </tr>\n    <tr>\n      <th>29999</th>\n      <td>298512</td>\n      <td>cookies by design   cookies on a stick</td>\n      <td>29</td>\n      <td>2008-04-15</td>\n      <td>i've heard of the 'cookies by design' company,...</td>\n      <td>10</td>\n    </tr>\n  </tbody>\n</table>\n<p>30000 rows × 6 columns</p>\n</div>"
     },
     "execution_count": 7,
     "metadata": {},
     "output_type": "execute_result"
    }
   ],
   "source": [
    "recipes = pd.read_csv('data/recipes_sample (1).csv', parse_dates=['n_ingredients'])\n",
    "recipes_sample = recipes[['id', 'name', 'minutes','submitted','description','n_ingredients']]\n",
    "int_ingredients = [int(str(ingred[:-2])) if str(ingred) != 'nan' else 0 for ingred in recipes_sample['n_ingredients']]\n",
    "recipes_sample['n_ingredients'] = pd.Series(int_ingredients)\n",
    "recipes_sample"
   ],
   "metadata": {
    "collapsed": false,
    "pycharm": {
     "name": "#%%\n"
    }
   }
  },
  {
   "cell_type": "code",
   "execution_count": 8,
   "outputs": [
    {
     "data": {
      "text/plain": "id                int64\nname             object\nminutes           int64\nsubmitted        object\ndescription      object\nn_ingredients     int64\ndtype: object"
     },
     "execution_count": 8,
     "metadata": {},
     "output_type": "execute_result"
    }
   ],
   "source": [
    "recipes_sample.dtypes"
   ],
   "metadata": {
    "collapsed": false,
    "pycharm": {
     "name": "#%%\n"
    }
   }
  },
  {
   "cell_type": "code",
   "execution_count": 9,
   "outputs": [
    {
     "data": {
      "text/plain": "      id                                  namer  minutes   submitted  \\\n0  44123  george s at the cove  black bean soup       90  2002-10-25   \n1  67664     healthy for them  yogurt popsicles       10  2003-07-26   \n2  38798           i can t believe it s spinach       30  2002-08-29   \n\n                                         description  n_ingredients  \n0  an original recipe created by chef scott meska...             18  \n1  my children and their friends ask for my homem...              0  \n2            these were so go, it surprised even me.              8  ",
      "text/html": "<div>\n<style scoped>\n    .dataframe tbody tr th:only-of-type {\n        vertical-align: middle;\n    }\n\n    .dataframe tbody tr th {\n        vertical-align: top;\n    }\n\n    .dataframe thead th {\n        text-align: right;\n    }\n</style>\n<table border=\"1\" class=\"dataframe\">\n  <thead>\n    <tr style=\"text-align: right;\">\n      <th></th>\n      <th>id</th>\n      <th>namer</th>\n      <th>minutes</th>\n      <th>submitted</th>\n      <th>description</th>\n      <th>n_ingredients</th>\n    </tr>\n  </thead>\n  <tbody>\n    <tr>\n      <th>0</th>\n      <td>44123</td>\n      <td>george s at the cove  black bean soup</td>\n      <td>90</td>\n      <td>2002-10-25</td>\n      <td>an original recipe created by chef scott meska...</td>\n      <td>18</td>\n    </tr>\n    <tr>\n      <th>1</th>\n      <td>67664</td>\n      <td>healthy for them  yogurt popsicles</td>\n      <td>10</td>\n      <td>2003-07-26</td>\n      <td>my children and their friends ask for my homem...</td>\n      <td>0</td>\n    </tr>\n    <tr>\n      <th>2</th>\n      <td>38798</td>\n      <td>i can t believe it s spinach</td>\n      <td>30</td>\n      <td>2002-08-29</td>\n      <td>these were so go, it surprised even me.</td>\n      <td>8</td>\n    </tr>\n  </tbody>\n</table>\n</div>"
     },
     "execution_count": 9,
     "metadata": {},
     "output_type": "execute_result"
    }
   ],
   "source": [
    "sql = '''\n",
    "INSERT INTO Recipe(id, namer, minutes, submitted, description, n_ingredients) VALUES (?, ?, ?, ?, ?, ?)\n",
    "'''\n",
    "cursor.executemany(sql, recipes_sample.values.tolist())\n",
    "conn.commit()\n",
    "sql = f'''SELECT * FROM RECIPE;'''\n",
    "pd.DataFrame(cursor.execute(sql).fetchmany(3), columns=list(('id', 'namer', 'minutes', 'submitted', 'description', 'n_ingredients')))"
   ],
   "metadata": {
    "collapsed": false,
    "pycharm": {
     "name": "#%%\n"
    }
   }
  },
  {
   "cell_type": "markdown",
   "metadata": {
    "pycharm": {
     "name": "#%% md\n"
    }
   },
   "source": [
    "3\\. Загрузите данные из файла `tags_sample.pickle` в таблицу `Tag`. При выполнении задания воспользуйтесь методом `executemany` объекта-курсора. Для считывания файла с данными воспользуйтесь пакетом `pickle`. Обратите внимание, что перед добавлением записей в базу данные нужно привести к соответствующему таблице в БД виду (в каждой строчке столбца tag должен находиться один тэг)."
   ]
  },
  {
   "cell_type": "code",
   "execution_count": 10,
   "outputs": [
    {
     "data": {
      "text/plain": "                    tag      id\n0            eggs-dairy      48\n0                  oven      48\n0       main-ingredient      48\n0          time-to-make      48\n0                course      48\n...                 ...     ...\n29983            course  536747\n29983          desserts  536747\n29983  for-large-groups  536747\n29983       preparation  536747\n29983   4-hours-or-less  536747\n\n[533474 rows x 2 columns]",
      "text/html": "<div>\n<style scoped>\n    .dataframe tbody tr th:only-of-type {\n        vertical-align: middle;\n    }\n\n    .dataframe tbody tr th {\n        vertical-align: top;\n    }\n\n    .dataframe thead th {\n        text-align: right;\n    }\n</style>\n<table border=\"1\" class=\"dataframe\">\n  <thead>\n    <tr style=\"text-align: right;\">\n      <th></th>\n      <th>tag</th>\n      <th>id</th>\n    </tr>\n  </thead>\n  <tbody>\n    <tr>\n      <th>0</th>\n      <td>eggs-dairy</td>\n      <td>48</td>\n    </tr>\n    <tr>\n      <th>0</th>\n      <td>oven</td>\n      <td>48</td>\n    </tr>\n    <tr>\n      <th>0</th>\n      <td>main-ingredient</td>\n      <td>48</td>\n    </tr>\n    <tr>\n      <th>0</th>\n      <td>time-to-make</td>\n      <td>48</td>\n    </tr>\n    <tr>\n      <th>0</th>\n      <td>course</td>\n      <td>48</td>\n    </tr>\n    <tr>\n      <th>...</th>\n      <td>...</td>\n      <td>...</td>\n    </tr>\n    <tr>\n      <th>29983</th>\n      <td>course</td>\n      <td>536747</td>\n    </tr>\n    <tr>\n      <th>29983</th>\n      <td>desserts</td>\n      <td>536747</td>\n    </tr>\n    <tr>\n      <th>29983</th>\n      <td>for-large-groups</td>\n      <td>536747</td>\n    </tr>\n    <tr>\n      <th>29983</th>\n      <td>preparation</td>\n      <td>536747</td>\n    </tr>\n    <tr>\n      <th>29983</th>\n      <td>4-hours-or-less</td>\n      <td>536747</td>\n    </tr>\n  </tbody>\n</table>\n<p>533474 rows × 2 columns</p>\n</div>"
     },
     "execution_count": 10,
     "metadata": {},
     "output_type": "execute_result"
    }
   ],
   "source": [
    "with open('data/tags_sample.pickle', 'rb') as file:\n",
    "    tags_sample = pickle.load(file)\n",
    "tags_sample = pd.DataFrame(tags_sample)\n",
    "tags_sample = tags_sample.explode('tag')[['tag','id']]\n",
    "tags_sample"
   ],
   "metadata": {
    "collapsed": false,
    "pycharm": {
     "name": "#%%\n"
    }
   }
  },
  {
   "cell_type": "code",
   "execution_count": 11,
   "outputs": [
    {
     "data": {
      "text/plain": "               tag  recipe_id\n0       eggs-dairy         48\n1             oven         48\n2  main-ingredient         48\n3     time-to-make         48\n4           course         48",
      "text/html": "<div>\n<style scoped>\n    .dataframe tbody tr th:only-of-type {\n        vertical-align: middle;\n    }\n\n    .dataframe tbody tr th {\n        vertical-align: top;\n    }\n\n    .dataframe thead th {\n        text-align: right;\n    }\n</style>\n<table border=\"1\" class=\"dataframe\">\n  <thead>\n    <tr style=\"text-align: right;\">\n      <th></th>\n      <th>tag</th>\n      <th>recipe_id</th>\n    </tr>\n  </thead>\n  <tbody>\n    <tr>\n      <th>0</th>\n      <td>eggs-dairy</td>\n      <td>48</td>\n    </tr>\n    <tr>\n      <th>1</th>\n      <td>oven</td>\n      <td>48</td>\n    </tr>\n    <tr>\n      <th>2</th>\n      <td>main-ingredient</td>\n      <td>48</td>\n    </tr>\n    <tr>\n      <th>3</th>\n      <td>time-to-make</td>\n      <td>48</td>\n    </tr>\n    <tr>\n      <th>4</th>\n      <td>course</td>\n      <td>48</td>\n    </tr>\n  </tbody>\n</table>\n</div>"
     },
     "execution_count": 11,
     "metadata": {},
     "output_type": "execute_result"
    }
   ],
   "source": [
    "sql = '''\n",
    "INSERT or IGNORE INTO Tag(tag, recipe_id) VALUES (?, ?)\n",
    "'''\n",
    "cursor.executemany(sql, tags_sample.values.tolist())\n",
    "conn.commit()\n",
    "sql = '''SELECT * FROM Tag;'''\n",
    "pd.DataFrame(cursor.execute(sql).fetchmany(5), columns=['tag', 'recipe_id'])"
   ],
   "metadata": {
    "collapsed": false,
    "pycharm": {
     "name": "#%%\n"
    }
   }
  },
  {
   "cell_type": "markdown",
   "metadata": {
    "pycharm": {
     "name": "#%% md\n"
    }
   },
   "source": [
    "4\\. Загрузите данные из файла `reviews_sample.csv` в таблицу `Review`. При выполнении задания воспользуйтесь методом `pd.DataFrame.to_sql`."
   ]
  },
  {
   "cell_type": "code",
   "execution_count": 12,
   "outputs": [
    {
     "data": {
      "text/plain": "             id     user_id  recipe_id        date  rating  \\\n0        370476       21752      57993  2003-05-01       5   \n1        624300      431813     142201  2007-09-16       5   \n2        187037      400708     252013  2008-01-10       4   \n3        706134  2001852463     404716  2017-12-11       5   \n4        312179       95810     129396  2008-03-14       5   \n...         ...         ...        ...         ...     ...   \n126691  1013457     1270706     335534  2009-05-17       4   \n126692   158736     2282344       8701  2012-06-03       0   \n126693  1059834      689540     222001  2008-04-08       5   \n126694   453285  2000242659     354979  2015-06-02       5   \n126695   691207      463435     415599  2010-09-30       5   \n\n                                                   review  \n0       Last week whole sides of frozen salmon fillet ...  \n1       So simple and so tasty!  I used a yellow capsi...  \n2       Very nice breakfast HH, easy to make and yummy...  \n3       These are a favorite for the holidays and so e...  \n4       Excellent soup!  The tomato flavor is just gre...  \n...                                                   ...  \n126691  This recipe was great! I made it last night. I...  \n126692  This recipe is outstanding. I followed the rec...  \n126693  Well, we were not a crowd but it was a fabulou...  \n126694  I have been a steak eater and dedicated BBQ gr...  \n126695  Wonderful and simple to prepare seasoning blen...  \n\n[126696 rows x 6 columns]",
      "text/html": "<div>\n<style scoped>\n    .dataframe tbody tr th:only-of-type {\n        vertical-align: middle;\n    }\n\n    .dataframe tbody tr th {\n        vertical-align: top;\n    }\n\n    .dataframe thead th {\n        text-align: right;\n    }\n</style>\n<table border=\"1\" class=\"dataframe\">\n  <thead>\n    <tr style=\"text-align: right;\">\n      <th></th>\n      <th>id</th>\n      <th>user_id</th>\n      <th>recipe_id</th>\n      <th>date</th>\n      <th>rating</th>\n      <th>review</th>\n    </tr>\n  </thead>\n  <tbody>\n    <tr>\n      <th>0</th>\n      <td>370476</td>\n      <td>21752</td>\n      <td>57993</td>\n      <td>2003-05-01</td>\n      <td>5</td>\n      <td>Last week whole sides of frozen salmon fillet ...</td>\n    </tr>\n    <tr>\n      <th>1</th>\n      <td>624300</td>\n      <td>431813</td>\n      <td>142201</td>\n      <td>2007-09-16</td>\n      <td>5</td>\n      <td>So simple and so tasty!  I used a yellow capsi...</td>\n    </tr>\n    <tr>\n      <th>2</th>\n      <td>187037</td>\n      <td>400708</td>\n      <td>252013</td>\n      <td>2008-01-10</td>\n      <td>4</td>\n      <td>Very nice breakfast HH, easy to make and yummy...</td>\n    </tr>\n    <tr>\n      <th>3</th>\n      <td>706134</td>\n      <td>2001852463</td>\n      <td>404716</td>\n      <td>2017-12-11</td>\n      <td>5</td>\n      <td>These are a favorite for the holidays and so e...</td>\n    </tr>\n    <tr>\n      <th>4</th>\n      <td>312179</td>\n      <td>95810</td>\n      <td>129396</td>\n      <td>2008-03-14</td>\n      <td>5</td>\n      <td>Excellent soup!  The tomato flavor is just gre...</td>\n    </tr>\n    <tr>\n      <th>...</th>\n      <td>...</td>\n      <td>...</td>\n      <td>...</td>\n      <td>...</td>\n      <td>...</td>\n      <td>...</td>\n    </tr>\n    <tr>\n      <th>126691</th>\n      <td>1013457</td>\n      <td>1270706</td>\n      <td>335534</td>\n      <td>2009-05-17</td>\n      <td>4</td>\n      <td>This recipe was great! I made it last night. I...</td>\n    </tr>\n    <tr>\n      <th>126692</th>\n      <td>158736</td>\n      <td>2282344</td>\n      <td>8701</td>\n      <td>2012-06-03</td>\n      <td>0</td>\n      <td>This recipe is outstanding. I followed the rec...</td>\n    </tr>\n    <tr>\n      <th>126693</th>\n      <td>1059834</td>\n      <td>689540</td>\n      <td>222001</td>\n      <td>2008-04-08</td>\n      <td>5</td>\n      <td>Well, we were not a crowd but it was a fabulou...</td>\n    </tr>\n    <tr>\n      <th>126694</th>\n      <td>453285</td>\n      <td>2000242659</td>\n      <td>354979</td>\n      <td>2015-06-02</td>\n      <td>5</td>\n      <td>I have been a steak eater and dedicated BBQ gr...</td>\n    </tr>\n    <tr>\n      <th>126695</th>\n      <td>691207</td>\n      <td>463435</td>\n      <td>415599</td>\n      <td>2010-09-30</td>\n      <td>5</td>\n      <td>Wonderful and simple to prepare seasoning blen...</td>\n    </tr>\n  </tbody>\n</table>\n<p>126696 rows × 6 columns</p>\n</div>"
     },
     "execution_count": 12,
     "metadata": {},
     "output_type": "execute_result"
    }
   ],
   "source": [
    "reviews = pd.read_csv('data/reviews_sample.csv')\n",
    "reviews.rename(columns = {'Unnamed: 0' : 'id'}, inplace = True)\n",
    "reviews"
   ],
   "metadata": {
    "collapsed": false,
    "pycharm": {
     "name": "#%%\n"
    }
   }
  },
  {
   "cell_type": "code",
   "execution_count": 13,
   "outputs": [
    {
     "data": {
      "text/plain": "       id  user_id  recipe_id        date  rating  \\\n0  370476    21752      57993  2003-05-01       5   \n1  624300   431813     142201  2007-09-16       5   \n2  187037   400708     252013  2008-01-10       4   \n\n                                              review  \n0  Last week whole sides of frozen salmon fillet ...  \n1  So simple and so tasty!  I used a yellow capsi...  \n2  Very nice breakfast HH, easy to make and yummy...  ",
      "text/html": "<div>\n<style scoped>\n    .dataframe tbody tr th:only-of-type {\n        vertical-align: middle;\n    }\n\n    .dataframe tbody tr th {\n        vertical-align: top;\n    }\n\n    .dataframe thead th {\n        text-align: right;\n    }\n</style>\n<table border=\"1\" class=\"dataframe\">\n  <thead>\n    <tr style=\"text-align: right;\">\n      <th></th>\n      <th>id</th>\n      <th>user_id</th>\n      <th>recipe_id</th>\n      <th>date</th>\n      <th>rating</th>\n      <th>review</th>\n    </tr>\n  </thead>\n  <tbody>\n    <tr>\n      <th>0</th>\n      <td>370476</td>\n      <td>21752</td>\n      <td>57993</td>\n      <td>2003-05-01</td>\n      <td>5</td>\n      <td>Last week whole sides of frozen salmon fillet ...</td>\n    </tr>\n    <tr>\n      <th>1</th>\n      <td>624300</td>\n      <td>431813</td>\n      <td>142201</td>\n      <td>2007-09-16</td>\n      <td>5</td>\n      <td>So simple and so tasty!  I used a yellow capsi...</td>\n    </tr>\n    <tr>\n      <th>2</th>\n      <td>187037</td>\n      <td>400708</td>\n      <td>252013</td>\n      <td>2008-01-10</td>\n      <td>4</td>\n      <td>Very nice breakfast HH, easy to make and yummy...</td>\n    </tr>\n  </tbody>\n</table>\n</div>"
     },
     "execution_count": 13,
     "metadata": {},
     "output_type": "execute_result"
    }
   ],
   "source": [
    "sql = '''\n",
    "INSERT INTO Review(id, user_id, recipe_id, dater, rating, review) VALUES (?, ?, ?, ?, ?, ?)\n",
    "'''\n",
    "cursor.executemany(sql, reviews.values.tolist())\n",
    "conn.commit()\n",
    "sql = '''SELECT * FROM review;'''\n",
    "pd.DataFrame(cursor.execute(sql).fetchmany(3), columns=['id', 'user_id', 'recipe_id', 'date', 'rating', 'review'])"
   ],
   "metadata": {
    "collapsed": false,
    "pycharm": {
     "name": "#%%\n"
    }
   }
  },
  {
   "cell_type": "code",
   "execution_count": 14,
   "outputs": [
    {
     "data": {
      "text/plain": "[(370476,\n  21752,\n  57993,\n  '2003-05-01',\n  5,\n  \"Last week whole sides of frozen salmon fillet was on sale in my local supermarket, so I bought tons (okay, only 3, but total weight was over 10 pounds).  This recipe is perfect for salmon fillet, even though it calls for salmon steaks.  I cut up the salmon into individual portions and followed the instructions exactly.  I'm on one of those food combining diets, so I left out the white wine but added just a dash of white wine vinegar instead (just a little bit, not enough to change the taste of the dish).  Super yummy, and leftovers for lunch today (lucky me)!\")]"
     },
     "execution_count": 14,
     "metadata": {},
     "output_type": "execute_result"
    }
   ],
   "source": [
    "cursor.execute(sql).fetchmany(1)"
   ],
   "metadata": {
    "collapsed": false,
    "pycharm": {
     "name": "#%%\n"
    }
   }
  },
  {
   "cell_type": "markdown",
   "metadata": {
    "pycharm": {
     "name": "#%% md\n"
    }
   },
   "source": [
    "5\\. Загрузите данные из файла `ingredients_sample.csv` в таблицу `Ingredients`. При выполнении задания воспользуйтесь методом `DataFrame.to_sql`.\n",
    "\n",
    "Обратите внимание, перед вызовом метода `to_sql` вам требуется привести фрейм к соответствующему таблице в БД виду."
   ]
  },
  {
   "cell_type": "code",
   "execution_count": 15,
   "outputs": [
    {
     "data": {
      "text/plain": "                ingredients  recipe\n0                cornstarch      48\n0                      milk      48\n0                      eggs      48\n0                 margarine      48\n0                    butter      48\n...                     ...     ...\n29999       flaked sea salt  536747\n29999        gelatin powder  536747\n29999  powdered sugar icing  536747\n29999            lemon curd  536747\n29999    vanilla bean paste  536747\n\n[270178 rows x 2 columns]",
      "text/html": "<div>\n<style scoped>\n    .dataframe tbody tr th:only-of-type {\n        vertical-align: middle;\n    }\n\n    .dataframe tbody tr th {\n        vertical-align: top;\n    }\n\n    .dataframe thead th {\n        text-align: right;\n    }\n</style>\n<table border=\"1\" class=\"dataframe\">\n  <thead>\n    <tr style=\"text-align: right;\">\n      <th></th>\n      <th>ingredients</th>\n      <th>recipe</th>\n    </tr>\n  </thead>\n  <tbody>\n    <tr>\n      <th>0</th>\n      <td>cornstarch</td>\n      <td>48</td>\n    </tr>\n    <tr>\n      <th>0</th>\n      <td>milk</td>\n      <td>48</td>\n    </tr>\n    <tr>\n      <th>0</th>\n      <td>eggs</td>\n      <td>48</td>\n    </tr>\n    <tr>\n      <th>0</th>\n      <td>margarine</td>\n      <td>48</td>\n    </tr>\n    <tr>\n      <th>0</th>\n      <td>butter</td>\n      <td>48</td>\n    </tr>\n    <tr>\n      <th>...</th>\n      <td>...</td>\n      <td>...</td>\n    </tr>\n    <tr>\n      <th>29999</th>\n      <td>flaked sea salt</td>\n      <td>536747</td>\n    </tr>\n    <tr>\n      <th>29999</th>\n      <td>gelatin powder</td>\n      <td>536747</td>\n    </tr>\n    <tr>\n      <th>29999</th>\n      <td>powdered sugar icing</td>\n      <td>536747</td>\n    </tr>\n    <tr>\n      <th>29999</th>\n      <td>lemon curd</td>\n      <td>536747</td>\n    </tr>\n    <tr>\n      <th>29999</th>\n      <td>vanilla bean paste</td>\n      <td>536747</td>\n    </tr>\n  </tbody>\n</table>\n<p>270178 rows × 2 columns</p>\n</div>"
     },
     "execution_count": 15,
     "metadata": {},
     "output_type": "execute_result"
    }
   ],
   "source": [
    "ingredients = pd.read_csv('data/ingredients_sample.csv')\n",
    "ingredients['ingredients'] = ingredients['ingredients'].str.split(';').tolist()\n",
    "ingredients = ingredients.explode('ingredients')[['ingredients','recipe']]\n",
    "ingredients"
   ],
   "metadata": {
    "collapsed": false,
    "pycharm": {
     "name": "#%%\n"
    }
   }
  },
  {
   "cell_type": "code",
   "execution_count": 17,
   "outputs": [
    {
     "data": {
      "text/plain": "  ingredient_name  recipe_id\n0      cornstarch         48\n1            milk         48\n2            eggs         48",
      "text/html": "<div>\n<style scoped>\n    .dataframe tbody tr th:only-of-type {\n        vertical-align: middle;\n    }\n\n    .dataframe tbody tr th {\n        vertical-align: top;\n    }\n\n    .dataframe thead th {\n        text-align: right;\n    }\n</style>\n<table border=\"1\" class=\"dataframe\">\n  <thead>\n    <tr style=\"text-align: right;\">\n      <th></th>\n      <th>ingredient_name</th>\n      <th>recipe_id</th>\n    </tr>\n  </thead>\n  <tbody>\n    <tr>\n      <th>0</th>\n      <td>cornstarch</td>\n      <td>48</td>\n    </tr>\n    <tr>\n      <th>1</th>\n      <td>milk</td>\n      <td>48</td>\n    </tr>\n    <tr>\n      <th>2</th>\n      <td>eggs</td>\n      <td>48</td>\n    </tr>\n  </tbody>\n</table>\n</div>"
     },
     "execution_count": 17,
     "metadata": {},
     "output_type": "execute_result"
    }
   ],
   "source": [
    "ingredients.to_sql(\"ingredients\", conn, if_exists=\"append\", index=False)\n",
    "conn.commit()\n",
    "sql = '''SELECT * FROM ingredients'''\n",
    "pd.DataFrame(cursor.execute(sql).fetchmany(3), columns=['ingredient_name', 'recipe_id'])"
   ],
   "metadata": {
    "collapsed": false,
    "pycharm": {
     "name": "#%%\n"
    }
   }
  },
  {
   "cell_type": "markdown",
   "metadata": {
    "pycharm": {
     "name": "#%% md\n"
    }
   },
   "source": [
    "### Получение данных из базы"
   ]
  },
  {
   "cell_type": "markdown",
   "metadata": {
    "pycharm": {
     "name": "#%% md\n"
    }
   },
   "source": [
    "6\\. Напишите и выполните запрос на языке SQL, который считает кол-во рецептов, опубликованных в 2010 году и имеющих длину не менее 15 минут. Для выполнения запроса используйте метод `execute` объекта-курсора. Выведите искомое количество на экран."
   ]
  },
  {
   "cell_type": "code",
   "execution_count": 18,
   "outputs": [
    {
     "data": {
      "text/plain": "1319"
     },
     "execution_count": 18,
     "metadata": {},
     "output_type": "execute_result"
    }
   ],
   "source": [
    "sql = '''\n",
    "SELECT count(id)\n",
    "FROM recipe\n",
    "where submitted like '2010%' and minutes>=15\n",
    "'''\n",
    "cursor.execute(sql).fetchall()[0][0]"
   ],
   "metadata": {
    "collapsed": false,
    "pycharm": {
     "name": "#%%\n"
    }
   }
  },
  {
   "cell_type": "markdown",
   "metadata": {
    "pycharm": {
     "name": "#%% md\n"
    }
   },
   "source": [
    "7\\. Напишите и выполните запрос на языке SQL, который возращает id рецептов, не имеющих ни одного отзыва отзывов с рейтингом, меньше 4. Для выполнения запроса используйте функцию `pd.read_sql_query`. Выведите полученный результат на экран."
   ]
  },
  {
   "cell_type": "code",
   "execution_count": 19,
   "outputs": [
    {
     "data": {
      "text/plain": "       RECIPE_ID\n0             55\n1             66\n2             91\n3             94\n4            128\n...          ...\n26313     536360\n26314     536473\n26315     536547\n26316     536728\n26317     536729\n\n[26318 rows x 1 columns]",
      "text/html": "<div>\n<style scoped>\n    .dataframe tbody tr th:only-of-type {\n        vertical-align: middle;\n    }\n\n    .dataframe tbody tr th {\n        vertical-align: top;\n    }\n\n    .dataframe thead th {\n        text-align: right;\n    }\n</style>\n<table border=\"1\" class=\"dataframe\">\n  <thead>\n    <tr style=\"text-align: right;\">\n      <th></th>\n      <th>RECIPE_ID</th>\n    </tr>\n  </thead>\n  <tbody>\n    <tr>\n      <th>0</th>\n      <td>55</td>\n    </tr>\n    <tr>\n      <th>1</th>\n      <td>66</td>\n    </tr>\n    <tr>\n      <th>2</th>\n      <td>91</td>\n    </tr>\n    <tr>\n      <th>3</th>\n      <td>94</td>\n    </tr>\n    <tr>\n      <th>4</th>\n      <td>128</td>\n    </tr>\n    <tr>\n      <th>...</th>\n      <td>...</td>\n    </tr>\n    <tr>\n      <th>26313</th>\n      <td>536360</td>\n    </tr>\n    <tr>\n      <th>26314</th>\n      <td>536473</td>\n    </tr>\n    <tr>\n      <th>26315</th>\n      <td>536547</td>\n    </tr>\n    <tr>\n      <th>26316</th>\n      <td>536728</td>\n    </tr>\n    <tr>\n      <th>26317</th>\n      <td>536729</td>\n    </tr>\n  </tbody>\n</table>\n<p>26318 rows × 1 columns</p>\n</div>"
     },
     "execution_count": 19,
     "metadata": {},
     "output_type": "execute_result"
    }
   ],
   "source": [
    "sql = '''\n",
    "SELECT distinct recipe_id\n",
    "FROM review\n",
    "where rating>=4\n",
    "order by recipe_id\n",
    "'''\n",
    "pd.read_sql_query(sql, conn)"
   ],
   "metadata": {
    "collapsed": false,
    "pycharm": {
     "name": "#%%\n"
    }
   }
  },
  {
   "cell_type": "markdown",
   "metadata": {
    "pycharm": {
     "name": "#%% md\n"
    }
   },
   "source": [
    "8\\. Создайте `pd.DataFrame`, содержащий данные из таблицы `Tag`. Создайте `pd.DataFrame`, содержащий данные из таблицы `Recipe` (для создания фреймов можно воспользоваться функцией `read_sql_query`). \n",
    "\n",
    "Используя механизмы группировки и объединения, которые предоставляет `pandas`, выведите на экран названия и количество тегов 5 рецептов, которые имеют наибольшее количество тэгов. Измерьте время выполнения работы вашего кода (в замеры включите время, которое тратится на загрузку таблиц)."
   ]
  },
  {
   "cell_type": "code",
   "execution_count": 50,
   "outputs": [
    {
     "name": "stdout",
     "output_type": "stream",
     "text": [
      "                                        NAMER  count_tags\n",
      "0  betty crocker s southwestern guacamole dip          17\n",
      "1                            boston cream pie          16\n",
      "2                                   bugwiches          10\n",
      "3                 black coffee barbecue sauce           9\n",
      "4         b c  cherry and raspberry preserves           9\n",
      "\n",
      "0.2241518497467041 секунд\n"
     ]
    }
   ],
   "source": [
    "start = time.time()\n",
    "\n",
    "sql = '''\n",
    "SELECT *\n",
    "FROM Tag\n",
    "'''\n",
    "tag = pd.read_sql_query(sql, conn)\n",
    "\n",
    "sql = '''\n",
    "SELECT *\n",
    "FROM Recipe\n",
    "'''\n",
    "Recipe = pd.read_sql_query(sql, conn)\n",
    "\n",
    "rec = Recipe.merge(tag, left_on='ID', right_on='RECIPE_ID')\n",
    "top5 = pd.DataFrame(rec.value_counts('ID')[:5].index.tolist(), columns = ['id'])\n",
    "top5['count_tags'] = rec.value_counts('ID')[:5].values.tolist()\n",
    "print(top5.merge(Recipe,left_on = 'id', right_on ='ID')[['NAMER','count_tags']])\n",
    "\n",
    "end = time.time()\n",
    "print()\n",
    "print(end - start,'секунд')"
   ],
   "metadata": {
    "collapsed": false,
    "pycharm": {
     "name": "#%%\n"
    }
   }
  },
  {
   "cell_type": "code",
   "execution_count": 21,
   "outputs": [
    {
     "data": {
      "text/plain": "                     TAG  RECIPE_ID\n0             eggs-dairy         48\n1                   oven         48\n2        main-ingredient         48\n3           time-to-make         48\n4                 course         48\n..                   ...        ...\n499  hidden-valley-ranch     494156\n500    prepared-potatoes     496522\n501              laotian     502817\n502             a1-sauce     518045\n503  ragu-recipe-contest     524675\n\n[504 rows x 2 columns]",
      "text/html": "<div>\n<style scoped>\n    .dataframe tbody tr th:only-of-type {\n        vertical-align: middle;\n    }\n\n    .dataframe tbody tr th {\n        vertical-align: top;\n    }\n\n    .dataframe thead th {\n        text-align: right;\n    }\n</style>\n<table border=\"1\" class=\"dataframe\">\n  <thead>\n    <tr style=\"text-align: right;\">\n      <th></th>\n      <th>TAG</th>\n      <th>RECIPE_ID</th>\n    </tr>\n  </thead>\n  <tbody>\n    <tr>\n      <th>0</th>\n      <td>eggs-dairy</td>\n      <td>48</td>\n    </tr>\n    <tr>\n      <th>1</th>\n      <td>oven</td>\n      <td>48</td>\n    </tr>\n    <tr>\n      <th>2</th>\n      <td>main-ingredient</td>\n      <td>48</td>\n    </tr>\n    <tr>\n      <th>3</th>\n      <td>time-to-make</td>\n      <td>48</td>\n    </tr>\n    <tr>\n      <th>4</th>\n      <td>course</td>\n      <td>48</td>\n    </tr>\n    <tr>\n      <th>...</th>\n      <td>...</td>\n      <td>...</td>\n    </tr>\n    <tr>\n      <th>499</th>\n      <td>hidden-valley-ranch</td>\n      <td>494156</td>\n    </tr>\n    <tr>\n      <th>500</th>\n      <td>prepared-potatoes</td>\n      <td>496522</td>\n    </tr>\n    <tr>\n      <th>501</th>\n      <td>laotian</td>\n      <td>502817</td>\n    </tr>\n    <tr>\n      <th>502</th>\n      <td>a1-sauce</td>\n      <td>518045</td>\n    </tr>\n    <tr>\n      <th>503</th>\n      <td>ragu-recipe-contest</td>\n      <td>524675</td>\n    </tr>\n  </tbody>\n</table>\n<p>504 rows × 2 columns</p>\n</div>"
     },
     "execution_count": 21,
     "metadata": {},
     "output_type": "execute_result"
    }
   ],
   "source": [
    "tag"
   ],
   "metadata": {
    "collapsed": false,
    "pycharm": {
     "name": "#%%\n"
    }
   }
  },
  {
   "cell_type": "code",
   "execution_count": 22,
   "outputs": [
    {
     "data": {
      "text/plain": "           ID                                         NAMER  MINUTES  \\\n0       44123         george s at the cove  black bean soup       90   \n1       67664            healthy for them  yogurt popsicles       10   \n2       38798                  i can t believe it s spinach       30   \n3       35173                          italian  gut busters       45   \n4       84797      love is in the air  beef fondue   sauces       25   \n...       ...                                           ...      ...   \n29995  267661  zurie s holey rustic olive and cheddar bread       80   \n29996  386977          zwetschgenkuchen  bavarian plum cake      240   \n29997  103312   zwiebelkuchen   southwest german onion cake       75   \n29998  486161                                   zydeco soup       60   \n29999  298512        cookies by design   cookies on a stick       29   \n\n        SUBMITTED                                        DESCRIPTION  \\\n0      2002-10-25  an original recipe created by chef scott meska...   \n1      2003-07-26  my children and their friends ask for my homem...   \n2      2002-08-29            these were so go, it surprised even me.   \n3      2002-07-27  my sister-in-law made these for us at a family...   \n4      2004-02-23  i think a fondue is a very romantic casual din...   \n...           ...                                                ...   \n29995  2007-11-25  this is based on a french recipe but i changed...   \n29996  2009-08-24  this is a traditional fresh plum cake, thought...   \n29997  2004-11-03  this is a traditional late summer early fall s...   \n29998  2012-08-29  this is a delicious soup that i originally fou...   \n29999  2008-04-15  i've heard of the 'cookies by design' company,...   \n\n       N_INGREDIENTS  \n0                 18  \n1                  0  \n2                  8  \n3                  0  \n4                  0  \n...              ...  \n29995             10  \n29996             11  \n29997              0  \n29998              0  \n29999             10  \n\n[30000 rows x 6 columns]",
      "text/html": "<div>\n<style scoped>\n    .dataframe tbody tr th:only-of-type {\n        vertical-align: middle;\n    }\n\n    .dataframe tbody tr th {\n        vertical-align: top;\n    }\n\n    .dataframe thead th {\n        text-align: right;\n    }\n</style>\n<table border=\"1\" class=\"dataframe\">\n  <thead>\n    <tr style=\"text-align: right;\">\n      <th></th>\n      <th>ID</th>\n      <th>NAMER</th>\n      <th>MINUTES</th>\n      <th>SUBMITTED</th>\n      <th>DESCRIPTION</th>\n      <th>N_INGREDIENTS</th>\n    </tr>\n  </thead>\n  <tbody>\n    <tr>\n      <th>0</th>\n      <td>44123</td>\n      <td>george s at the cove  black bean soup</td>\n      <td>90</td>\n      <td>2002-10-25</td>\n      <td>an original recipe created by chef scott meska...</td>\n      <td>18</td>\n    </tr>\n    <tr>\n      <th>1</th>\n      <td>67664</td>\n      <td>healthy for them  yogurt popsicles</td>\n      <td>10</td>\n      <td>2003-07-26</td>\n      <td>my children and their friends ask for my homem...</td>\n      <td>0</td>\n    </tr>\n    <tr>\n      <th>2</th>\n      <td>38798</td>\n      <td>i can t believe it s spinach</td>\n      <td>30</td>\n      <td>2002-08-29</td>\n      <td>these were so go, it surprised even me.</td>\n      <td>8</td>\n    </tr>\n    <tr>\n      <th>3</th>\n      <td>35173</td>\n      <td>italian  gut busters</td>\n      <td>45</td>\n      <td>2002-07-27</td>\n      <td>my sister-in-law made these for us at a family...</td>\n      <td>0</td>\n    </tr>\n    <tr>\n      <th>4</th>\n      <td>84797</td>\n      <td>love is in the air  beef fondue   sauces</td>\n      <td>25</td>\n      <td>2004-02-23</td>\n      <td>i think a fondue is a very romantic casual din...</td>\n      <td>0</td>\n    </tr>\n    <tr>\n      <th>...</th>\n      <td>...</td>\n      <td>...</td>\n      <td>...</td>\n      <td>...</td>\n      <td>...</td>\n      <td>...</td>\n    </tr>\n    <tr>\n      <th>29995</th>\n      <td>267661</td>\n      <td>zurie s holey rustic olive and cheddar bread</td>\n      <td>80</td>\n      <td>2007-11-25</td>\n      <td>this is based on a french recipe but i changed...</td>\n      <td>10</td>\n    </tr>\n    <tr>\n      <th>29996</th>\n      <td>386977</td>\n      <td>zwetschgenkuchen  bavarian plum cake</td>\n      <td>240</td>\n      <td>2009-08-24</td>\n      <td>this is a traditional fresh plum cake, thought...</td>\n      <td>11</td>\n    </tr>\n    <tr>\n      <th>29997</th>\n      <td>103312</td>\n      <td>zwiebelkuchen   southwest german onion cake</td>\n      <td>75</td>\n      <td>2004-11-03</td>\n      <td>this is a traditional late summer early fall s...</td>\n      <td>0</td>\n    </tr>\n    <tr>\n      <th>29998</th>\n      <td>486161</td>\n      <td>zydeco soup</td>\n      <td>60</td>\n      <td>2012-08-29</td>\n      <td>this is a delicious soup that i originally fou...</td>\n      <td>0</td>\n    </tr>\n    <tr>\n      <th>29999</th>\n      <td>298512</td>\n      <td>cookies by design   cookies on a stick</td>\n      <td>29</td>\n      <td>2008-04-15</td>\n      <td>i've heard of the 'cookies by design' company,...</td>\n      <td>10</td>\n    </tr>\n  </tbody>\n</table>\n<p>30000 rows × 6 columns</p>\n</div>"
     },
     "execution_count": 22,
     "metadata": {},
     "output_type": "execute_result"
    }
   ],
   "source": [
    "Recipe"
   ],
   "metadata": {
    "collapsed": false,
    "pycharm": {
     "name": "#%%\n"
    }
   }
  },
  {
   "cell_type": "markdown",
   "metadata": {
    "pycharm": {
     "name": "#%% md\n"
    }
   },
   "source": [
    "9\\. Используя механизмы группировки и объединения, которые предоставляет SQL, выведите на экран названия и количество тегов 5 рецептов, которые имеют наибольшее количество тэгов. При выполнении задания воспользуйтесь методом `execute` объекта-курсора. Измерьте время выполнения работы вашего кода.\n",
    "\n",
    "Вся необходимая логика (группировки, объединения, выбор топ-5 строк) должна быть реализована на SQL, а не в виде кода на Python."
   ]
  },
  {
   "cell_type": "code",
   "execution_count": 53,
   "outputs": [
    {
     "name": "stdout",
     "output_type": "stream",
     "text": [
      "('betty crocker s southwestern guacamole dip', 17)\n",
      "('boston cream pie', 16)\n",
      "('bugwiches', 10)\n",
      "('chicken with portabella mushrooms', 9)\n",
      "('black coffee barbecue sauce', 9)\n",
      "\n",
      "0.005995512008666992 секунд\n"
     ]
    }
   ],
   "source": [
    "start = time.time()\n",
    "\n",
    "sql = '''\n",
    "SELECT recipe.namer, count(recipe.namer)\n",
    "FROM recipe join Tag on recipe.id = Tag.recipe_id\n",
    "GROUP BY recipe.namer\n",
    "ORDER BY COUNT('recipe.namer') DESC\n",
    "LIMIT 5;\n",
    "'''\n",
    "print(*cursor.execute(sql).fetchall(), sep='\\n')\n",
    "\n",
    "end = time.time()\n",
    "print()\n",
    "print(end - start, 'секунд')"
   ],
   "metadata": {
    "collapsed": false,
    "pycharm": {
     "name": "#%%\n"
    }
   }
  },
  {
   "cell_type": "markdown",
   "metadata": {
    "pycharm": {
     "name": "#%% md\n"
    }
   },
   "source": [
    "10\\. Запросите у пользователя id рецепта и верните информацию об этом рецепте. Если рецепт отсутствует, выведите соответствующее сообщение. Для подстановки значения id необходимо воспользоваться специальным синтаксисом, которые предоставляет `sqlite` для этих целей.Продемонстрируйте работоспособность вашего решения."
   ]
  },
  {
   "cell_type": "code",
   "execution_count": 29,
   "metadata": {
    "pycharm": {
     "name": "#%%\n"
    }
   },
   "outputs": [
    {
     "name": "stdout",
     "output_type": "stream",
     "text": [
      "[(44123, 'george s at the cove  black bean soup', 90, '2002-10-25', \"an original recipe created by chef scott meskan, george's at the cove. we enjoyed this when we visited this restaurant in la jolla, california. this recipe is requested so often, they have it printed and ready at the hostess stand. it's unbeatable at the restaurant, but i do a pretty good job at home, too, if i do say so myself!\", 18)]\n"
     ]
    }
   ],
   "source": [
    "recipe_id = input('Введите id: ')\n",
    "\n",
    "sql = '''\n",
    "select *\n",
    "from Recipe\n",
    "where id=?\n",
    "'''\n",
    "\n",
    "r = cursor.execute(sql, (recipe_id,))\n",
    "result = r.fetchall()\n",
    "if result:\n",
    "  print(result)\n",
    "else:\n",
    "  print(f'id {recipe_id} не найден')"
   ]
  },
  {
   "cell_type": "code",
   "execution_count": null,
   "outputs": [],
   "source": [],
   "metadata": {
    "collapsed": false,
    "pycharm": {
     "name": "#%%\n"
    }
   }
  },
  {
   "cell_type": "code",
   "execution_count": null,
   "outputs": [],
   "source": [],
   "metadata": {
    "collapsed": false,
    "pycharm": {
     "name": "#%%\n"
    }
   }
  },
  {
   "cell_type": "code",
   "execution_count": null,
   "outputs": [],
   "source": [],
   "metadata": {
    "collapsed": false,
    "pycharm": {
     "name": "#%%\n"
    }
   }
  },
  {
   "cell_type": "code",
   "execution_count": null,
   "outputs": [],
   "source": [],
   "metadata": {
    "collapsed": false,
    "pycharm": {
     "name": "#%%\n"
    }
   }
  }
 ],
 "metadata": {
  "kernelspec": {
   "display_name": "Python 3 (ipykernel)",
   "language": "python",
   "name": "python3"
  },
  "language_info": {
   "codemirror_mode": {
    "name": "ipython",
    "version": 3
   },
   "file_extension": ".py",
   "mimetype": "text/x-python",
   "name": "python",
   "nbconvert_exporter": "python",
   "pygments_lexer": "ipython3",
   "version": "3.9.7"
  }
 },
 "nbformat": 4,
 "nbformat_minor": 4
}